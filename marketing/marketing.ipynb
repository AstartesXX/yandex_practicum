{
 "cells": [
  {
   "cell_type": "markdown",
   "metadata": {},
   "source": [
    "# Рынок заведений общественного питания Москвы."
   ]
  },
  {
   "cell_type": "code",
   "execution_count": 1,
   "metadata": {},
   "outputs": [],
   "source": [
    "import pandas as pd # Загрузка библиотеки pandas.\n",
    "import numpy as np # Импорт билиотеки numpy.\n",
    "import plotly.express as px # Импорт API Plotly для быстрого доступа к основным методам библиотеки.\n",
    "import seaborn as sns # Импорт библиотеки seaborn.\n",
    "import matplotlib.pyplot as plt # Импорт библотеки matplotlib.\n",
    "\n",
    "import warnings\n",
    "warnings.filterwarnings('ignore')"
   ]
  },
  {
   "cell_type": "markdown",
   "metadata": {},
   "source": [
    "## Загрузка и подготовка данных."
   ]
  },
  {
   "cell_type": "markdown",
   "metadata": {},
   "source": [
    "Описание данных:\n",
    " - id — идентификатор объекта;\n",
    " - object_name — название объекта общественного питания;\n",
    " - chain — сетевой ресторан;\n",
    " - object_type — тип объекта общественного питания;\n",
    " - address — адрес;\n",
    " - number — количество посадочных мест."
   ]
  },
  {
   "cell_type": "markdown",
   "metadata": {},
   "source": [
    "Перед исследованием необходимо изучить данные и проверить на наличие ошибок. Для этого соберём информацию о таблице данных и проверим на наличие пропусков и дубликатов."
   ]
  },
  {
   "cell_type": "code",
   "execution_count": 2,
   "metadata": {},
   "outputs": [],
   "source": [
    "rest_data = pd.read_csv('/datasets/rest_data.csv') # Загрузка данных и сохранение в перпменной."
   ]
  },
  {
   "cell_type": "code",
   "execution_count": 3,
   "metadata": {},
   "outputs": [],
   "source": [
    "def info(data):\n",
    "    \"\"\"\"\n",
    "    Функция для вывода первых 5 строк, краткой информации и статистики по таблицам данных.\n",
    "    \"\"\"    \n",
    "    display(data.head())\n",
    "    print(60*'*')\n",
    "    display(data.info())\n",
    "    print(60*'*')\n",
    "    display(data.describe())"
   ]
  },
  {
   "cell_type": "code",
   "execution_count": 4,
   "metadata": {},
   "outputs": [
    {
     "data": {
      "text/html": [
       "<div>\n",
       "<style scoped>\n",
       "    .dataframe tbody tr th:only-of-type {\n",
       "        vertical-align: middle;\n",
       "    }\n",
       "\n",
       "    .dataframe tbody tr th {\n",
       "        vertical-align: top;\n",
       "    }\n",
       "\n",
       "    .dataframe thead th {\n",
       "        text-align: right;\n",
       "    }\n",
       "</style>\n",
       "<table border=\"1\" class=\"dataframe\">\n",
       "  <thead>\n",
       "    <tr style=\"text-align: right;\">\n",
       "      <th></th>\n",
       "      <th>id</th>\n",
       "      <th>object_name</th>\n",
       "      <th>chain</th>\n",
       "      <th>object_type</th>\n",
       "      <th>address</th>\n",
       "      <th>number</th>\n",
       "    </tr>\n",
       "  </thead>\n",
       "  <tbody>\n",
       "    <tr>\n",
       "      <th>0</th>\n",
       "      <td>151635</td>\n",
       "      <td>СМЕТАНА</td>\n",
       "      <td>нет</td>\n",
       "      <td>кафе</td>\n",
       "      <td>город Москва, улица Егора Абакумова, дом 9</td>\n",
       "      <td>48</td>\n",
       "    </tr>\n",
       "    <tr>\n",
       "      <th>1</th>\n",
       "      <td>77874</td>\n",
       "      <td>Родник</td>\n",
       "      <td>нет</td>\n",
       "      <td>кафе</td>\n",
       "      <td>город Москва, улица Талалихина, дом 2/1, корпус 1</td>\n",
       "      <td>35</td>\n",
       "    </tr>\n",
       "    <tr>\n",
       "      <th>2</th>\n",
       "      <td>24309</td>\n",
       "      <td>Кафе «Академия»</td>\n",
       "      <td>нет</td>\n",
       "      <td>кафе</td>\n",
       "      <td>город Москва, Абельмановская улица, дом 6</td>\n",
       "      <td>95</td>\n",
       "    </tr>\n",
       "    <tr>\n",
       "      <th>3</th>\n",
       "      <td>21894</td>\n",
       "      <td>ПИЦЦЕТОРИЯ</td>\n",
       "      <td>да</td>\n",
       "      <td>кафе</td>\n",
       "      <td>город Москва, Абрамцевская улица, дом 1</td>\n",
       "      <td>40</td>\n",
       "    </tr>\n",
       "    <tr>\n",
       "      <th>4</th>\n",
       "      <td>119365</td>\n",
       "      <td>Кафе «Вишневая метель»</td>\n",
       "      <td>нет</td>\n",
       "      <td>кафе</td>\n",
       "      <td>город Москва, Абрамцевская улица, дом 9, корпус 1</td>\n",
       "      <td>50</td>\n",
       "    </tr>\n",
       "  </tbody>\n",
       "</table>\n",
       "</div>"
      ],
      "text/plain": [
       "       id             object_name chain object_type  \\\n",
       "0  151635                 СМЕТАНА   нет        кафе   \n",
       "1   77874                  Родник   нет        кафе   \n",
       "2   24309         Кафе «Академия»   нет        кафе   \n",
       "3   21894              ПИЦЦЕТОРИЯ    да        кафе   \n",
       "4  119365  Кафе «Вишневая метель»   нет        кафе   \n",
       "\n",
       "                                             address  number  \n",
       "0         город Москва, улица Егора Абакумова, дом 9      48  \n",
       "1  город Москва, улица Талалихина, дом 2/1, корпус 1      35  \n",
       "2          город Москва, Абельмановская улица, дом 6      95  \n",
       "3            город Москва, Абрамцевская улица, дом 1      40  \n",
       "4  город Москва, Абрамцевская улица, дом 9, корпус 1      50  "
      ]
     },
     "metadata": {},
     "output_type": "display_data"
    },
    {
     "name": "stdout",
     "output_type": "stream",
     "text": [
      "************************************************************\n",
      "<class 'pandas.core.frame.DataFrame'>\n",
      "RangeIndex: 15366 entries, 0 to 15365\n",
      "Data columns (total 6 columns):\n",
      " #   Column       Non-Null Count  Dtype \n",
      "---  ------       --------------  ----- \n",
      " 0   id           15366 non-null  int64 \n",
      " 1   object_name  15366 non-null  object\n",
      " 2   chain        15366 non-null  object\n",
      " 3   object_type  15366 non-null  object\n",
      " 4   address      15366 non-null  object\n",
      " 5   number       15366 non-null  int64 \n",
      "dtypes: int64(2), object(4)\n",
      "memory usage: 720.4+ KB\n"
     ]
    },
    {
     "data": {
      "text/plain": [
       "None"
      ]
     },
     "metadata": {},
     "output_type": "display_data"
    },
    {
     "name": "stdout",
     "output_type": "stream",
     "text": [
      "************************************************************\n"
     ]
    },
    {
     "data": {
      "text/html": [
       "<div>\n",
       "<style scoped>\n",
       "    .dataframe tbody tr th:only-of-type {\n",
       "        vertical-align: middle;\n",
       "    }\n",
       "\n",
       "    .dataframe tbody tr th {\n",
       "        vertical-align: top;\n",
       "    }\n",
       "\n",
       "    .dataframe thead th {\n",
       "        text-align: right;\n",
       "    }\n",
       "</style>\n",
       "<table border=\"1\" class=\"dataframe\">\n",
       "  <thead>\n",
       "    <tr style=\"text-align: right;\">\n",
       "      <th></th>\n",
       "      <th>id</th>\n",
       "      <th>number</th>\n",
       "    </tr>\n",
       "  </thead>\n",
       "  <tbody>\n",
       "    <tr>\n",
       "      <th>count</th>\n",
       "      <td>15366.000000</td>\n",
       "      <td>15366.000000</td>\n",
       "    </tr>\n",
       "    <tr>\n",
       "      <th>mean</th>\n",
       "      <td>119720.066901</td>\n",
       "      <td>59.547182</td>\n",
       "    </tr>\n",
       "    <tr>\n",
       "      <th>std</th>\n",
       "      <td>73036.130732</td>\n",
       "      <td>74.736833</td>\n",
       "    </tr>\n",
       "    <tr>\n",
       "      <th>min</th>\n",
       "      <td>838.000000</td>\n",
       "      <td>0.000000</td>\n",
       "    </tr>\n",
       "    <tr>\n",
       "      <th>25%</th>\n",
       "      <td>28524.000000</td>\n",
       "      <td>12.000000</td>\n",
       "    </tr>\n",
       "    <tr>\n",
       "      <th>50%</th>\n",
       "      <td>144974.500000</td>\n",
       "      <td>40.000000</td>\n",
       "    </tr>\n",
       "    <tr>\n",
       "      <th>75%</th>\n",
       "      <td>184262.250000</td>\n",
       "      <td>80.000000</td>\n",
       "    </tr>\n",
       "    <tr>\n",
       "      <th>max</th>\n",
       "      <td>223439.000000</td>\n",
       "      <td>1700.000000</td>\n",
       "    </tr>\n",
       "  </tbody>\n",
       "</table>\n",
       "</div>"
      ],
      "text/plain": [
       "                  id        number\n",
       "count   15366.000000  15366.000000\n",
       "mean   119720.066901     59.547182\n",
       "std     73036.130732     74.736833\n",
       "min       838.000000      0.000000\n",
       "25%     28524.000000     12.000000\n",
       "50%    144974.500000     40.000000\n",
       "75%    184262.250000     80.000000\n",
       "max    223439.000000   1700.000000"
      ]
     },
     "metadata": {},
     "output_type": "display_data"
    }
   ],
   "source": [
    "info(rest_data) # Вывод информации об заведениях общественного питания."
   ]
  },
  {
   "cell_type": "code",
   "execution_count": 5,
   "metadata": {},
   "outputs": [
    {
     "data": {
      "text/plain": [
       "0"
      ]
     },
     "execution_count": 5,
     "metadata": {},
     "output_type": "execute_result"
    }
   ],
   "source": [
    "rest_data.duplicated().sum() # Проверка на дубликаты."
   ]
  },
  {
   "cell_type": "markdown",
   "metadata": {},
   "source": [
    "В таблице данных нет пропусков и явных дубликатов. Названия всех столбцов приведены к змеиному регистру. Среднее занчение смещено относительно медианы ближе к минимуму, значит данные скошены вправо."
   ]
  },
  {
   "cell_type": "markdown",
   "metadata": {},
   "source": [
    "Названия заведений в таблице написаны разным регистром, приведём их к единому виду, чтобы было проще обрабатывать."
   ]
  },
  {
   "cell_type": "code",
   "execution_count": 6,
   "metadata": {},
   "outputs": [],
   "source": [
    "rest_data['object_name'] = rest_data['object_name'].str.lower() # Приведение названий к нижнему регистру."
   ]
  },
  {
   "cell_type": "markdown",
   "metadata": {},
   "source": [
    "Некоторые завдения могли попасть в список сетевых и не сетевых одновременно, проверим это."
   ]
  },
  {
   "cell_type": "code",
   "execution_count": 7,
   "metadata": {
    "scrolled": true
   },
   "outputs": [
    {
     "name": "stdout",
     "output_type": "stream",
     "text": [
      "['fridays' 'goodman гудман' 'tutti frutti' 'tutti frutti frozen yogurt'\n",
      " 'upside down cake' 'азбука вкуса' 'виктория' 'готовые блюда милти'\n",
      " 'кальянная мята lounge' 'кафе «subway»' 'кафе «хинкальная»'\n",
      " 'кафе «хлеб насущный»' 'кафе «шоколадница»' 'кафе «штолле»'\n",
      " 'кафе бургер кинг' 'кафе при азс' 'кафе теремок' 'колбасофф'\n",
      " 'кондитерская-пекарня волконский' 'кофе' 'кофепорт' 'лукойл' 'магнолия'\n",
      " 'мята' 'пицца «паоло»' 'ресторан «kfc»' 'ресторан «бургер кинг»'\n",
      " 'ресторан «хинкальная»' 'ресторан «якитория»' 'темпл бар'\n",
      " 'теремок инвест' 'теремок-инвест' 'шоколадница' 'япоша'] 34\n"
     ]
    }
   ],
   "source": [
    "# Проверка заведения на принадлежность к сетевым и не стевым одновременно.\n",
    "both_type_chain = np.intersect1d(\n",
    "    rest_data.query('chain == \"да\"')['object_name'].unique(), rest_data.query('chain == \"нет\"')['object_name'].unique()\n",
    ")\n",
    "print(both_type_chain, len(both_type_chain))"
   ]
  },
  {
   "cell_type": "markdown",
   "metadata": {},
   "source": [
    "Проверка показала, что таких заведений 34, исправим это с помощью функции."
   ]
  },
  {
   "cell_type": "code",
   "execution_count": 8,
   "metadata": {},
   "outputs": [],
   "source": [
    "def correction_chain(row):\n",
    "    \"\"\"\n",
    "    Функция для замены значения в столбце 'chain' на \"да\" для названий заведений при их наличии в переменной both_type_chain.\n",
    "    \"\"\"\n",
    "    if row['object_name'] in both_type_chain:\n",
    "        return 'да'\n",
    "    else:\n",
    "        return row['chain']"
   ]
  },
  {
   "cell_type": "code",
   "execution_count": 9,
   "metadata": {},
   "outputs": [],
   "source": [
    "rest_data['chain'] = rest_data.apply(correction_chain, axis=1) # Применение функции."
   ]
  },
  {
   "cell_type": "markdown",
   "metadata": {},
   "source": [
    "Проверим результат работы функции."
   ]
  },
  {
   "cell_type": "code",
   "execution_count": 10,
   "metadata": {
    "scrolled": true
   },
   "outputs": [
    {
     "name": "stdout",
     "output_type": "stream",
     "text": [
      "[] 0\n"
     ]
    }
   ],
   "source": [
    "# Проверка заведения на принадлежность к сетевым и не стевым одновременно.\n",
    "both_type_chain = np.intersect1d(\n",
    "    rest_data\n",
    "        .query('chain == \"да\"')['object_name']\n",
    "        .unique(), rest_data.query('chain == \"нет\"')['object_name'].unique()\n",
    ")\n",
    "print(both_type_chain, len(both_type_chain))"
   ]
  },
  {
   "cell_type": "markdown",
   "metadata": {},
   "source": [
    "Теперь в таблице нет заведений попавших в сетевые и не сетевые одновременно."
   ]
  },
  {
   "cell_type": "markdown",
   "metadata": {},
   "source": [
    "Имена в таблице написаны по разному, поэтому приведём их к единому виду для курпных сетей."
   ]
  },
  {
   "cell_type": "code",
   "execution_count": 11,
   "metadata": {},
   "outputs": [],
   "source": [
    "def new_name(row):\n",
    "    \"\"\"\"\n",
    "    Функция приводит к единому виду имена крупных сетевых заведений.\n",
    "    \"\"\"\n",
    "    if 'wok' in row or 'вок' in row:\n",
    "        return  'Суши Wok'\n",
    "    elif 'академия' in row:\n",
    "        return 'Академия'\n",
    "    elif 'якитор' in row:\n",
    "        return 'Якитория'\n",
    "    elif 'сабв' in row:\n",
    "        return 'Subway'\n",
    "    elif 'kfc' in row:\n",
    "        return 'KFC'\n",
    "    elif 'бургер кинг' in row:\n",
    "        return 'Burger King'\n",
    "    elif 'макдонал' in row:\n",
    "        return 'McDonldas'\n",
    "    elif 'шоколадница' in row:\n",
    "        return 'Шоколадница'\n",
    "    elif 'кртошка' in row:\n",
    "        return 'Крошка картошка'\n",
    "    else: return row['object_name']"
   ]
  },
  {
   "cell_type": "code",
   "execution_count": 12,
   "metadata": {},
   "outputs": [],
   "source": [
    "rest_data['object_name'] = rest_data.apply(new_name, axis=1) # Изменение названий заведений в таблице."
   ]
  },
  {
   "cell_type": "markdown",
   "metadata": {},
   "source": [
    "## Анализ данных."
   ]
  },
  {
   "cell_type": "markdown",
   "metadata": {},
   "source": [
    "Анализ данных будет состоять из нескольких шагов:\n",
    " - исследование соотношения видов объектов по количеству;\n",
    " - исследование количества сетевых и не сетевых заведений по количеству;\n",
    " - для каждого вида объекта общественного питания описать среднее количество посадочных мест;\n",
    " - построить график топ-10 улиц по количеству объектов общественного питания;\n",
    " - поиск числа улиц с одним объектом общественного питания;\n",
    " - посмотреть на распределение количества посадочных мест для улиц с большим количеством объектов общественного питания."
   ]
  },
  {
   "cell_type": "markdown",
   "metadata": {},
   "source": [
    "### Соотношение видов объектов по количеству."
   ]
  },
  {
   "cell_type": "markdown",
   "metadata": {},
   "source": [
    "Построим график соотношения видов объектов по количеству."
   ]
  },
  {
   "cell_type": "code",
   "execution_count": 13,
   "metadata": {},
   "outputs": [
    {
     "data": {
      "image/png": "[encoded data removed]",
      "text/plain": [
       "<Figure size 864x360 with 1 Axes>"
      ]
     },
     "metadata": {
      "needs_background": "light"
     },
     "output_type": "display_data"
    }
   ],
   "source": [
    "# Построение графика соотношения видов объектов по количеству.\n",
    "plt.figure(figsize=(12, 5))\n",
    "ax = sns.barplot(x='object_type', \n",
    "                 y='id', \n",
    "                 data=rest_data, \n",
    "                 hue='object_type', \n",
    "                 estimator=len, \n",
    "                 dodge=False, \n",
    "                 saturation=1)\n",
    "ax.set(xtickLabels=[])\n",
    "ax.set_title('Соотношение видов объектов по количеству.')\n",
    "ax.set_xlabel('Вид объекта.')\n",
    "ax.set_ylabel('Количество.')\n",
    "ax.tick_params(bottom=False)\n",
    "plt.legend(bbox_to_anchor=(0.65, 1))\n",
    "sns.despine()"
   ]
  },
  {
   "cell_type": "markdown",
   "metadata": {},
   "source": [
    "Нибольшее число заведений общественного питания это кафе, около 6000. Наименьшее - магазин(отдел кулинарии), закусочная, кафетерий и буфет, около 500. "
   ]
  },
  {
   "cell_type": "markdown",
   "metadata": {},
   "source": [
    "### Соотношение сетевых и не сетевых заведений по количеству."
   ]
  },
  {
   "cell_type": "markdown",
   "metadata": {},
   "source": [
    "Построим график соотношения сетевых и не сетевых заведений по их количеству."
   ]
  },
  {
   "cell_type": "code",
   "execution_count": 14,
   "metadata": {},
   "outputs": [
    {
     "data": {
      "image/png": "[encoded data removed]",
      "text/plain": [
       "<Figure size 864x360 with 1 Axes>"
      ]
     },
     "metadata": {
      "needs_background": "light"
     },
     "output_type": "display_data"
    }
   ],
   "source": [
    "# Построение графика соотношения сетевых и не сетевых заведений по количеству.\n",
    "plt.figure(figsize=(12, 5))\n",
    "ax = sns.barplot(x='object_type', \n",
    "                 y='id', \n",
    "                 data=rest_data, \n",
    "                 hue='chain', \n",
    "                 estimator=len, \n",
    "                 dodge=False, \n",
    "                 saturation=1)\n",
    "ax.set_title('Соотношение сетевых и не сетевых заведений.')\n",
    "ax.set_xlabel('Вид объекта.')\n",
    "ax.set_ylabel('Количество.')\n",
    "ax.set_xticklabels(ax.get_xticklabels(), rotation=45)\n",
    "sns.despine()"
   ]
  },
  {
   "cell_type": "markdown",
   "metadata": {},
   "source": [
    "В большинстве случаев, количество сетевых заведенеий меньше, чем не сетевых. Лишь в сегменте быстрого питания картина противоположная, сетевые заведения чаще встречаются, чем не сетевые."
   ]
  },
  {
   "cell_type": "markdown",
   "metadata": {},
   "source": [
    "Расчитаем долю сетевых заведений по каждому объекту."
   ]
  },
  {
   "cell_type": "code",
   "execution_count": 35,
   "metadata": {},
   "outputs": [
    {
     "data": {
      "text/html": [
       "<div>\n",
       "<style scoped>\n",
       "    .dataframe tbody tr th:only-of-type {\n",
       "        vertical-align: middle;\n",
       "    }\n",
       "\n",
       "    .dataframe tbody tr th {\n",
       "        vertical-align: top;\n",
       "    }\n",
       "\n",
       "    .dataframe thead th {\n",
       "        text-align: right;\n",
       "    }\n",
       "</style>\n",
       "<table border=\"1\" class=\"dataframe\">\n",
       "  <thead>\n",
       "    <tr style=\"text-align: right;\">\n",
       "      <th>chain</th>\n",
       "      <th>object_type</th>\n",
       "      <th>да</th>\n",
       "      <th>нет</th>\n",
       "      <th>ratio</th>\n",
       "    </tr>\n",
       "  </thead>\n",
       "  <tbody>\n",
       "    <tr>\n",
       "      <th>0</th>\n",
       "      <td>бар</td>\n",
       "      <td>41</td>\n",
       "      <td>815</td>\n",
       "      <td>4.79</td>\n",
       "    </tr>\n",
       "    <tr>\n",
       "      <th>1</th>\n",
       "      <td>буфет</td>\n",
       "      <td>12</td>\n",
       "      <td>573</td>\n",
       "      <td>2.05</td>\n",
       "    </tr>\n",
       "    <tr>\n",
       "      <th>2</th>\n",
       "      <td>закусочная</td>\n",
       "      <td>56</td>\n",
       "      <td>304</td>\n",
       "      <td>15.56</td>\n",
       "    </tr>\n",
       "    <tr>\n",
       "      <th>3</th>\n",
       "      <td>кафе</td>\n",
       "      <td>1447</td>\n",
       "      <td>4652</td>\n",
       "      <td>23.73</td>\n",
       "    </tr>\n",
       "    <tr>\n",
       "      <th>4</th>\n",
       "      <td>кафетерий</td>\n",
       "      <td>59</td>\n",
       "      <td>339</td>\n",
       "      <td>14.82</td>\n",
       "    </tr>\n",
       "    <tr>\n",
       "      <th>5</th>\n",
       "      <td>магазин (отдел кулинарии)</td>\n",
       "      <td>79</td>\n",
       "      <td>194</td>\n",
       "      <td>28.94</td>\n",
       "    </tr>\n",
       "    <tr>\n",
       "      <th>6</th>\n",
       "      <td>предприятие быстрого обслуживания</td>\n",
       "      <td>799</td>\n",
       "      <td>1124</td>\n",
       "      <td>41.55</td>\n",
       "    </tr>\n",
       "    <tr>\n",
       "      <th>7</th>\n",
       "      <td>ресторан</td>\n",
       "      <td>557</td>\n",
       "      <td>1728</td>\n",
       "      <td>24.38</td>\n",
       "    </tr>\n",
       "    <tr>\n",
       "      <th>8</th>\n",
       "      <td>столовая</td>\n",
       "      <td>4</td>\n",
       "      <td>2583</td>\n",
       "      <td>0.15</td>\n",
       "    </tr>\n",
       "  </tbody>\n",
       "</table>\n",
       "</div>"
      ],
      "text/plain": [
       "chain                        object_type    да   нет  ratio\n",
       "0                                    бар    41   815   4.79\n",
       "1                                  буфет    12   573   2.05\n",
       "2                             закусочная    56   304  15.56\n",
       "3                                   кафе  1447  4652  23.73\n",
       "4                              кафетерий    59   339  14.82\n",
       "5              магазин (отдел кулинарии)    79   194  28.94\n",
       "6      предприятие быстрого обслуживания   799  1124  41.55\n",
       "7                               ресторан   557  1728  24.38\n",
       "8                               столовая     4  2583   0.15"
      ]
     },
     "execution_count": 35,
     "metadata": {},
     "output_type": "execute_result"
    }
   ],
   "source": [
    "chain_data = rest_data.pivot_table(index='object_type', columns='chain', values='id', aggfunc='count').reset_index()\n",
    "chain_data['ratio'] = ((chain_data['да']/(chain_data['да']+chain_data['нет']))*100).round(2)\n",
    "chain_data"
   ]
  },
  {
   "cell_type": "markdown",
   "metadata": {},
   "source": [
    "Наибольшая доля сетевых заведений наблюдается в сегменте предприятий быстрого обслуживания - 41%. Следом идут: отдел кулинарии в магазине - 29%, рестораны - 24% и кафе - 24%. В остальных сегментах эта доля становится не значительной - менее 16%."
   ]
  },
  {
   "cell_type": "markdown",
   "metadata": {},
   "source": [
    "Изучим что характерно для сетевых заведений: много заведений с небольшим числом посадочных мест в каждом или мало заведений с большим количеством посадочных мест?"
   ]
  },
  {
   "cell_type": "code",
   "execution_count": 16,
   "metadata": {
    "scrolled": true
   },
   "outputs": [
    {
     "data": {
      "text/plain": [
       "<seaborn.axisgrid.JointGrid at 0x7f333e981730>"
      ]
     },
     "execution_count": 16,
     "metadata": {},
     "output_type": "execute_result"
    },
    {
     "data": {
      "image/png": "[encoded data removed]",
      "text/plain": [
       "<Figure size 432x432 with 3 Axes>"
      ]
     },
     "metadata": {
      "needs_background": "light"
     },
     "output_type": "display_data"
    }
   ],
   "source": [
    "rest_chain = (rest_data[rest_data['chain']=='да']\n",
    "                    .groupby('object_name')\n",
    "                    .agg({'id': 'count', 'number': 'mean'})\n",
    "                    .reset_index())\n",
    "sns.jointplot(x='id', y='number', data=rest_chain)"
   ]
  },
  {
   "cell_type": "markdown",
   "metadata": {},
   "source": [
    "По данному графику можно сказать, что в основном преобладают сетевые заведения с боьшим количеством точек, но малым количеством посадочных мест. Заведениями с нулевым количеством посадочных мест могут быть дорожные кафе на азс или \"МакАвто\" и аналоги."
   ]
  },
  {
   "cell_type": "markdown",
   "metadata": {},
   "source": [
    "### Соотношение видов объектов по количеству посадочных мест."
   ]
  },
  {
   "cell_type": "markdown",
   "metadata": {},
   "source": [
    "Опаределим какой вид объекта общественного питания предоставляет больше посадочных мест."
   ]
  },
  {
   "cell_type": "code",
   "execution_count": 17,
   "metadata": {},
   "outputs": [
    {
     "data": {
      "image/png": "[encoded data removed]",
      "text/plain": [
       "<Figure size 864x360 with 1 Axes>"
      ]
     },
     "metadata": {
      "needs_background": "light"
     },
     "output_type": "display_data"
    }
   ],
   "source": [
    "# Построение графика соотношения видов объектов и количества мест.\n",
    "plt.figure(figsize=(12, 5))\n",
    "ax = sns.barplot(x='object_type', \n",
    "                 y='number', \n",
    "                 data=rest_data, \n",
    "                 hue='object_type', \n",
    "                 dodge=False, \n",
    "                 saturation=1)\n",
    "ax.set(xtickLabels=[])\n",
    "ax.set_title('Соотношение видов объектов и посадочных мест.')\n",
    "ax.set_xlabel('Вид объекта.')\n",
    "ax.set_ylabel('Количество мест.')\n",
    "ax.tick_params(bottom=False)\n",
    "plt.legend(bbox_to_anchor=(0.65,1))\n",
    "sns.despine()"
   ]
  },
  {
   "cell_type": "markdown",
   "metadata": {},
   "source": [
    "Наибольшее количество посадочных мест у столовых, ресторанов, буфетов и баров. Далее в порядке убывания идут: буфеты, бары, кафе, предприятия быстрого питания, кафетерии, закусочные и магазины с отделом кулинарии."
   ]
  },
  {
   "cell_type": "markdown",
   "metadata": {},
   "source": [
    "### Улицы."
   ]
  },
  {
   "cell_type": "markdown",
   "metadata": {},
   "source": [
    "Выделим названия улиц в отдельный столбец."
   ]
  },
  {
   "cell_type": "code",
   "execution_count": 18,
   "metadata": {},
   "outputs": [],
   "source": [
    "# Список улиц для функции.\n",
    "street_def=['улица', \n",
    "            'проезд', \n",
    "            'бульвар', \n",
    "            'шоссе', \n",
    "            'переулок', \n",
    "            'проспект', \n",
    "            'набережная', \n",
    "            'площадь', \n",
    "            'аллея', \n",
    "            'тупик', \n",
    "            'квартал', \n",
    "            'просек', \n",
    "            'район', \n",
    "            'линия', \n",
    "            'горы', \n",
    "            'парк', \n",
    "            'деревня', \n",
    "            'посёлок']\n",
    "\n",
    "def get_street(row):\n",
    "    \"\"\"\n",
    "    Функция возвращает улицу из адреса, сопоставляя со списком street_def.\n",
    "    \"\"\"\n",
    "    for e in row.split(','):\n",
    "        for i in street_def:\n",
    "            if i in e.lower():\n",
    "                return e\n",
    "rest_data['streetname'] = rest_data['address'].apply(get_street) # Применение функции и сохранение улиц в новом столбце.\n",
    "rest_data['streetname'] = rest_data['streetname'].str.strip() # Удаление пробелов в названии улиц."
   ]
  },
  {
   "cell_type": "code",
   "execution_count": 19,
   "metadata": {},
   "outputs": [
    {
     "data": {
      "text/html": [
       "<div>\n",
       "<style scoped>\n",
       "    .dataframe tbody tr th:only-of-type {\n",
       "        vertical-align: middle;\n",
       "    }\n",
       "\n",
       "    .dataframe tbody tr th {\n",
       "        vertical-align: top;\n",
       "    }\n",
       "\n",
       "    .dataframe thead th {\n",
       "        text-align: right;\n",
       "    }\n",
       "</style>\n",
       "<table border=\"1\" class=\"dataframe\">\n",
       "  <thead>\n",
       "    <tr style=\"text-align: right;\">\n",
       "      <th></th>\n",
       "      <th>id</th>\n",
       "      <th>object_name</th>\n",
       "      <th>chain</th>\n",
       "      <th>object_type</th>\n",
       "      <th>address</th>\n",
       "      <th>number</th>\n",
       "      <th>streetname</th>\n",
       "    </tr>\n",
       "  </thead>\n",
       "  <tbody>\n",
       "    <tr>\n",
       "      <th>0</th>\n",
       "      <td>151635</td>\n",
       "      <td>сметана</td>\n",
       "      <td>нет</td>\n",
       "      <td>кафе</td>\n",
       "      <td>город Москва, улица Егора Абакумова, дом 9</td>\n",
       "      <td>48</td>\n",
       "      <td>улица Егора Абакумова</td>\n",
       "    </tr>\n",
       "    <tr>\n",
       "      <th>1</th>\n",
       "      <td>77874</td>\n",
       "      <td>родник</td>\n",
       "      <td>нет</td>\n",
       "      <td>кафе</td>\n",
       "      <td>город Москва, улица Талалихина, дом 2/1, корпус 1</td>\n",
       "      <td>35</td>\n",
       "      <td>улица Талалихина</td>\n",
       "    </tr>\n",
       "    <tr>\n",
       "      <th>2</th>\n",
       "      <td>24309</td>\n",
       "      <td>кафе «академия»</td>\n",
       "      <td>нет</td>\n",
       "      <td>кафе</td>\n",
       "      <td>город Москва, Абельмановская улица, дом 6</td>\n",
       "      <td>95</td>\n",
       "      <td>Абельмановская улица</td>\n",
       "    </tr>\n",
       "    <tr>\n",
       "      <th>3</th>\n",
       "      <td>21894</td>\n",
       "      <td>пиццетория</td>\n",
       "      <td>да</td>\n",
       "      <td>кафе</td>\n",
       "      <td>город Москва, Абрамцевская улица, дом 1</td>\n",
       "      <td>40</td>\n",
       "      <td>Абрамцевская улица</td>\n",
       "    </tr>\n",
       "    <tr>\n",
       "      <th>4</th>\n",
       "      <td>119365</td>\n",
       "      <td>кафе «вишневая метель»</td>\n",
       "      <td>нет</td>\n",
       "      <td>кафе</td>\n",
       "      <td>город Москва, Абрамцевская улица, дом 9, корпус 1</td>\n",
       "      <td>50</td>\n",
       "      <td>Абрамцевская улица</td>\n",
       "    </tr>\n",
       "  </tbody>\n",
       "</table>\n",
       "</div>"
      ],
      "text/plain": [
       "       id             object_name chain object_type  \\\n",
       "0  151635                 сметана   нет        кафе   \n",
       "1   77874                  родник   нет        кафе   \n",
       "2   24309         кафе «академия»   нет        кафе   \n",
       "3   21894              пиццетория    да        кафе   \n",
       "4  119365  кафе «вишневая метель»   нет        кафе   \n",
       "\n",
       "                                             address  number  \\\n",
       "0         город Москва, улица Егора Абакумова, дом 9      48   \n",
       "1  город Москва, улица Талалихина, дом 2/1, корпус 1      35   \n",
       "2          город Москва, Абельмановская улица, дом 6      95   \n",
       "3            город Москва, Абрамцевская улица, дом 1      40   \n",
       "4  город Москва, Абрамцевская улица, дом 9, корпус 1      50   \n",
       "\n",
       "              streetname  \n",
       "0  улица Егора Абакумова  \n",
       "1       улица Талалихина  \n",
       "2   Абельмановская улица  \n",
       "3     Абрамцевская улица  \n",
       "4     Абрамцевская улица  "
      ]
     },
     "execution_count": 19,
     "metadata": {},
     "output_type": "execute_result"
    }
   ],
   "source": [
    "rest_data.head()"
   ]
  },
  {
   "cell_type": "markdown",
   "metadata": {},
   "source": [
    "Найдём топ-10 улиц с наибольшим количеством заведений, и определим в каких районах они расположены с помощью сторонних источников."
   ]
  },
  {
   "cell_type": "code",
   "execution_count": 20,
   "metadata": {},
   "outputs": [],
   "source": [
    "street_data = rest_data.groupby('streetname')['id'].agg('count').reset_index() # Группировка по улицам и подсчёт объектов.\n",
    "street_data = street_data.sort_values(by='id', ascending=False)[0:10] # Соритровка по возрастанию количества объектов и \n",
    "                                                                      # срез по первым 10 улицам."
   ]
  },
  {
   "cell_type": "code",
   "execution_count": 21,
   "metadata": {},
   "outputs": [
    {
     "data": {
      "image/png": "[encoded data removed]",
      "text/plain": [
       "<Figure size 864x360 with 1 Axes>"
      ]
     },
     "metadata": {
      "needs_background": "light"
     },
     "output_type": "display_data"
    }
   ],
   "source": [
    "# Построение графика топ-10 улиц по количеству объектов.\n",
    "plt.figure(figsize=(12, 5))\n",
    "ax = sns.barplot(\n",
    "    x='streetname', \n",
    "    y='id', \n",
    "    data=street_data, \n",
    "    hue='streetname',\n",
    "    dodge=False)\n",
    "ax.set_title('Топ-10 улиц по количеству объектов.')\n",
    "ax.set_xlabel('Улица.')\n",
    "ax.set_ylabel('Количество заведений.')\n",
    "ax.set_xticklabels(ax.get_xticklabels(), rotation=45)\n",
    "ax.legend().remove()\n",
    "sns.despine()"
   ]
  },
  {
   "cell_type": "markdown",
   "metadata": {},
   "source": [
    "Наибольшее количество заведений находится на проспекте Мира, около 200. На 6 улицах из 10 расположено от 130 до 180 заведений на каждой. На остальных (Кутузовский проспект, Каширское шоссе и Кировоградская улица) - не более 125. "
   ]
  },
  {
   "cell_type": "code",
   "execution_count": 22,
   "metadata": {},
   "outputs": [],
   "source": [
    "# Импорт внешних данных для определения расположения улиц по районам.\n",
    "moscow_district = pd.read_csv('https://frs.noosphere.ru/xmlui/bitstream/handle/20.500.11925/714058/mosgaz-streets.csv')"
   ]
  },
  {
   "cell_type": "code",
   "execution_count": 23,
   "metadata": {},
   "outputs": [
    {
     "data": {
      "text/html": [
       "<div>\n",
       "<style scoped>\n",
       "    .dataframe tbody tr th:only-of-type {\n",
       "        vertical-align: middle;\n",
       "    }\n",
       "\n",
       "    .dataframe tbody tr th {\n",
       "        vertical-align: top;\n",
       "    }\n",
       "\n",
       "    .dataframe thead th {\n",
       "        text-align: right;\n",
       "    }\n",
       "</style>\n",
       "<table border=\"1\" class=\"dataframe\">\n",
       "  <thead>\n",
       "    <tr style=\"text-align: right;\">\n",
       "      <th></th>\n",
       "      <th>streetname</th>\n",
       "      <th>areaid</th>\n",
       "      <th>okrug</th>\n",
       "      <th>area</th>\n",
       "    </tr>\n",
       "  </thead>\n",
       "  <tbody>\n",
       "    <tr>\n",
       "      <th>0</th>\n",
       "      <td>Выставочный переулок</td>\n",
       "      <td>17</td>\n",
       "      <td>ЦАО</td>\n",
       "      <td>Пресненский район</td>\n",
       "    </tr>\n",
       "    <tr>\n",
       "      <th>1</th>\n",
       "      <td>улица Гашека</td>\n",
       "      <td>17</td>\n",
       "      <td>ЦАО</td>\n",
       "      <td>Пресненский район</td>\n",
       "    </tr>\n",
       "    <tr>\n",
       "      <th>2</th>\n",
       "      <td>Большая Никитская улица</td>\n",
       "      <td>17</td>\n",
       "      <td>ЦАО</td>\n",
       "      <td>Пресненский район</td>\n",
       "    </tr>\n",
       "    <tr>\n",
       "      <th>3</th>\n",
       "      <td>Глубокий переулок</td>\n",
       "      <td>17</td>\n",
       "      <td>ЦАО</td>\n",
       "      <td>Пресненский район</td>\n",
       "    </tr>\n",
       "    <tr>\n",
       "      <th>4</th>\n",
       "      <td>Большой Гнездниковский переулок</td>\n",
       "      <td>17</td>\n",
       "      <td>ЦАО</td>\n",
       "      <td>Пресненский район</td>\n",
       "    </tr>\n",
       "  </tbody>\n",
       "</table>\n",
       "</div>"
      ],
      "text/plain": [
       "                        streetname  areaid okrug               area\n",
       "0             Выставочный переулок      17   ЦАО  Пресненский район\n",
       "1                     улица Гашека      17   ЦАО  Пресненский район\n",
       "2          Большая Никитская улица      17   ЦАО  Пресненский район\n",
       "3                Глубокий переулок      17   ЦАО  Пресненский район\n",
       "4  Большой Гнездниковский переулок      17   ЦАО  Пресненский район"
      ]
     },
     "execution_count": 23,
     "metadata": {},
     "output_type": "execute_result"
    }
   ],
   "source": [
    "moscow_district.head()"
   ]
  },
  {
   "cell_type": "code",
   "execution_count": 24,
   "metadata": {
    "scrolled": true
   },
   "outputs": [
    {
     "data": {
      "text/plain": [
       "area\n",
       "Район Теплый Стан              331\n",
       "Обручевский район              331\n",
       "Донской район                  313\n",
       "Район Проспект Вернадского     280\n",
       "Ломоносовский район            280\n",
       "Район Тропарево-Никулино       280\n",
       "Район Гагаринский              280\n",
       "Район Нагатино-Садовники       277\n",
       "Район Чертаново Центральное    275\n",
       "Район Чертаново Северное       275\n",
       "Name: id, dtype: int64"
      ]
     },
     "execution_count": 24,
     "metadata": {},
     "output_type": "execute_result"
    }
   ],
   "source": [
    "top_10 = street_data.merge(moscow_district, on='streetname', how='left') # Объединение таблиц.\n",
    "area_10 = top_10.groupby('area')['id'].sum().sort_values(ascending=False).head(10) # Вывод 10 районов с наибольшим количеством объектов.\n",
    "area_10"
   ]
  },
  {
   "cell_type": "code",
   "execution_count": 25,
   "metadata": {},
   "outputs": [
    {
     "data": {
      "text/plain": [
       "0"
      ]
     },
     "execution_count": 25,
     "metadata": {},
     "output_type": "execute_result"
    }
   ],
   "source": [
    "top_10['streetname'].isna().sum() # Проверка правильности соединения таблиц."
   ]
  },
  {
   "cell_type": "markdown",
   "metadata": {},
   "source": [
    "Пропущенных значений нет, таблицы соединились правильно."
   ]
  },
  {
   "cell_type": "markdown",
   "metadata": {},
   "source": [
    "Наибольшее количество заведений общественного питания расположились в районе Теплый Стан и Обручевский район. В остальных районах от 275 до 313 заведений в каждом."
   ]
  },
  {
   "cell_type": "markdown",
   "metadata": {},
   "source": [
    "Теперь посчитаем количество улиц с одним объектом."
   ]
  },
  {
   "cell_type": "code",
   "execution_count": 26,
   "metadata": {},
   "outputs": [],
   "source": [
    "one_object = rest_data.groupby('streetname')['id'].agg('count').reset_index() # Группировка по улицам и подсчёт объектов.\n",
    "one_object = one_object.sort_values(by='id', ascending=False) # Соритровка по возрастанию количества объектов."
   ]
  },
  {
   "cell_type": "code",
   "execution_count": 27,
   "metadata": {},
   "outputs": [],
   "source": [
    "one_object.columns=['streetname','count_object'] # Переименование столбцов.\n",
    "one_object=one_object[one_object['count_object']==1] # Срез по условию: 1 объект на улице, и сохранение в переменную."
   ]
  },
  {
   "cell_type": "code",
   "execution_count": 28,
   "metadata": {},
   "outputs": [
    {
     "data": {
      "text/plain": [
       "575"
      ]
     },
     "execution_count": 28,
     "metadata": {},
     "output_type": "execute_result"
    }
   ],
   "source": [
    "one_object['streetname'].count() # Подсчёт количества улиц с 1 объектом."
   ]
  },
  {
   "cell_type": "markdown",
   "metadata": {},
   "source": [
    "Всего таких улиц нашлось 575. С помощью внешнего источника данных, определим в каких районах расположены эти улицы."
   ]
  },
  {
   "cell_type": "code",
   "execution_count": 29,
   "metadata": {},
   "outputs": [
    {
     "data": {
      "text/plain": [
       "area\n",
       "Таганский район        27\n",
       "Район Хамовники        26\n",
       "Басманный район        25\n",
       "Пресненский район      20\n",
       "Тверской район         20\n",
       "Район Марьина роща     18\n",
       "Район Арбат            18\n",
       "Мещанский район        16\n",
       "Район Сокольники       15\n",
       "Район Замоскворечье    14\n",
       "Name: count_object, dtype: int64"
      ]
     },
     "execution_count": 29,
     "metadata": {},
     "output_type": "execute_result"
    }
   ],
   "source": [
    "area_one_object = one_object.merge(moscow_district, on='streetname', how='left') # Объединение двух таблиц.\n",
    "area_one_object.groupby('area')['count_object'].sum().sort_values(ascending=False).head(10) # Вывод районов с количеством улиц с 1 объектом."
   ]
  },
  {
   "cell_type": "code",
   "execution_count": 30,
   "metadata": {},
   "outputs": [
    {
     "data": {
      "text/plain": [
       "0"
      ]
     },
     "execution_count": 30,
     "metadata": {},
     "output_type": "execute_result"
    }
   ],
   "source": [
    "area_one_object['streetname'].isna().sum()"
   ]
  },
  {
   "cell_type": "markdown",
   "metadata": {},
   "source": [
    "Пропущенных значений нет, таблицы соединились правильно."
   ]
  },
  {
   "cell_type": "markdown",
   "metadata": {},
   "source": [
    "Максимальное количество улиц с 1 объектом общественного питания расположено в Таганском районе - 27. Все приведённые выше районы расположены в пределах третьего транспортного кольца. Чем дальше от центра Москвы, тем меньше улиц с одним объектом."
   ]
  },
  {
   "cell_type": "markdown",
   "metadata": {},
   "source": [
    "Изучим распределение количества посадочных мест на топ-10 улицах с наибольшим количеством объектов."
   ]
  },
  {
   "cell_type": "code",
   "execution_count": 31,
   "metadata": {},
   "outputs": [],
   "source": [
    "street_data = street_data['streetname'].str.strip() # Удаление пробелов в названии улиц.\n",
    "filtr = rest_data['streetname'].isin(street_data)\n",
    "top_number = rest_data[filtr] # Создание таблицы с количеством посадочных мест для топ-10 улиц."
   ]
  },
  {
   "cell_type": "code",
   "execution_count": 32,
   "metadata": {},
   "outputs": [
    {
     "data": {
      "image/png": "[encoded data removed]",
      "text/plain": [
       "<Figure size 1080x720 with 1 Axes>"
      ]
     },
     "metadata": {
      "needs_background": "light"
     },
     "output_type": "display_data"
    }
   ],
   "source": [
    "# Построение графика распределения количества посадочных мест по улицам.\n",
    "plt.figure(figsize=(15, 10))\n",
    "ax = sns.violinplot(x='streetname', y='number', data=top_number, palette='rainbow')\n",
    "ax.set_title('Распределение посадочных мест для топ-10 улиц.')\n",
    "ax.set_xlabel('Улица.')\n",
    "ax.set_ylabel('Количество посадочных мест.')\n",
    "ax.set_xticklabels(ax.get_xticklabels(), rotation=45)\n",
    "plt.show()"
   ]
  },
  {
   "cell_type": "code",
   "execution_count": 33,
   "metadata": {},
   "outputs": [
    {
     "data": {
      "image/png": "[encoded data removed]",
      "text/plain": [
       "<Figure size 1080x720 with 1 Axes>"
      ]
     },
     "metadata": {
      "needs_background": "light"
     },
     "output_type": "display_data"
    }
   ],
   "source": [
    "# Построение графика распределения количества посадочных мест по улицам.\n",
    "plt.figure(figsize=(15, 10))\n",
    "ax = sns.violinplot(x='streetname', y='number', data=top_number, palette='rainbow')\n",
    "ax.set_title('Распределение посадочных мест для топ-10 улиц.')\n",
    "ax.set_xlabel('Улица.')\n",
    "ax.set_ylabel('Количество посадочных мест.')\n",
    "ax.set_xticklabels(ax.get_xticklabels(), rotation=45)\n",
    "ax.set_ylim(0, 200)\n",
    "plt.show()"
   ]
  },
  {
   "cell_type": "markdown",
   "metadata": {},
   "source": [
    "Для всех улиц характерны следующие признаки распределения посадочных мест:\n",
    " - Присутствуют нулевые значения. Заведениями с нулевым числом посадочных мест могут быть объекты типа МакАвто и аналолги, обслуживающие автомобилистов.\n",
    " - 3 квартиль для всех улиц не превышает 100 мест.\n",
    " - Медиана для 8 улиц из 10 распологается около центра 2 и 3 квартилей. Для остальных медиана немного смещена ко 2 квартилю.\n",
    " - Для 7 улиц характерно большое количество выбросов. Для Кировоградской улицы, проспекта Мира и Профсоюзной улицы выбросы не такие сильные."
   ]
  },
  {
   "cell_type": "markdown",
   "metadata": {},
   "source": [
    "## Вывод."
   ]
  },
  {
   "cell_type": "markdown",
   "metadata": {},
   "source": [
    "В проекте был проведён анализ данных заведений общественного питания в городе Москве.\n",
    "\n",
    "При подготовке данных были обработаны не явные дубликаты в названиях заведений, а также обнаружены и обработаны ошибки при заполнении столбца 'chain'. Для некоторых заведений было указано, что они относятся к сетевым и не сетевым заведениям одновременно.\n",
    "\n",
    "Анализ данных проходил в несколько этапов:\n",
    " - исследование соотношения видов объектов по количеству;\n",
    " - исследование количества сетевых и не сетевых заведений по количеству;\n",
    " - для каждого вида объекта общественного питания описать среднее количество посадочных мест;\n",
    " - построить график топ-10 улиц по количеству объектов общественного питания;\n",
    " - поиск числа улиц с одним объектом общественного питания;\n",
    " - посмотреть на распределение количества посадочных мест для улиц с большим количеством объектов общественного питания.\n",
    "\n",
    "Изучение соотношения видов объектов по количеству показало, что наибольшее число заведений общественного питания это кафе, около 6000, что более чем в 2 раза превышает количество столовых, предприятий быстрого питания и рестораны. Наименьшее - магазин(отдел кулинарии), закусочная, кафетерий и буфет, около 500.\n",
    "\n",
    "Для таких заведений как кафе, предприятия быстрого питания и рестораны чаще характерно создание сетей. Доля таких заведений от общего количества для каждого вида состовляет от 25% до 80%.\n",
    "\n",
    "Наиболее вместительными по числу посадочных мест являются столовые и рестораны. В буфетах, барах и кафе в два разаменьше посадочных мест относительно первых двух. Ещё менее вместительными являются все остальные виды предприятий общественного питания.\n",
    "\n",
    "Для определения улиц и районов с наибольшим и наименьшим количеством заведений общественного питания необходимо сначала выделить названия улиц в отдельный столбец из адресов. Далее построили топ-10 улиц по количеству объектов общественного питания и определили районы в которых они расположены. Наибольшее количество заведений общественного питания расположились в районе Теплый Стан и Обручевский район. В остальных районах от 275 до 313 заведений в каждом.\n",
    "\n",
    "Следующий шаг это поиск улиц и районов с одним объектом общественного питания, всего таких улиц нашлось 575 штук. С помощью внешнего источника определили районы, где расположены эти улицы. Наибольшее количество таких улиц расположилось в роайонах, расположенных не далее третьего транспортного кольца относительно центра города.\n",
    "\n",
    "В конце проекта посмотрим на распределение количества посадочных мест для топ-10 улиц по количеству заведений. Для всех улиц характерны следующие признаки распределения посадочных мест:\n",
    " - Присутствуют нулевые значения. Заведениями с нулевым числом посадочных мест могут быть объекты типа МакАвто и аналолги, обслуживающие автомобилистов.\n",
    " - 3 квартиль для всех улиц не превышает 100 мест.\n",
    " - Медиана для 8 улиц из 10 распологается около центра 2 и 3 квартилей. Для остальных медиана немного смещена ко 2 квартилю.\n",
    " - Для 7 улиц характерно большое количество выбросов. Для Кировоградской улицы, проспекта Мира и Профсоюзной улицы выбросы не такие сильные."
   ]
  },
  {
   "cell_type": "markdown",
   "metadata": {},
   "source": [
    "В результате проведённого исследования наиболее перспективным и прибыльным станет сеть предприятий быстрого обслуживания в районах: Таганский, Хамовники, Басманный, Пресненский, Тверской, Марьина Роща и Арбат. В этих районах не такая сильная конкуренция, что позволит быстрее развить сеть, и расположены ближе к центру города, куда приезжает много туристов из разных стран и городов. К томуже здесь распологаются офисы и торговые центры с большим количеством потенциальных клиентов."
   ]
  },
  {
   "cell_type": "markdown",
   "metadata": {},
   "source": [
    "https://disk.yandex.ru/i/VA8lFh-coWW2Rw"
   ]
  },
  {
   "cell_type": "code",
   "execution_count": null,
   "metadata": {},
   "outputs": [],
   "source": []
  }
 ],
 "metadata": {
  "ExecuteTimeLog": [
   {
    "duration": 349,
    "start_time": "2022-03-21T18:03:19.092Z"
   },
   {
    "duration": 423,
    "start_time": "2022-03-21T18:21:50.412Z"
   },
   {
    "duration": 51,
    "start_time": "2022-03-21T18:22:36.793Z"
   },
   {
    "duration": 3,
    "start_time": "2022-03-21T18:27:03.887Z"
   },
   {
    "duration": 40,
    "start_time": "2022-03-21T18:27:30.696Z"
   },
   {
    "duration": 74,
    "start_time": "2022-03-21T19:03:01.743Z"
   },
   {
    "duration": 19,
    "start_time": "2022-03-21T19:03:10.912Z"
   },
   {
    "duration": 7,
    "start_time": "2022-03-21T19:06:56.931Z"
   },
   {
    "duration": 8,
    "start_time": "2022-03-21T19:07:22.411Z"
   },
   {
    "duration": 7,
    "start_time": "2022-03-21T19:10:35.714Z"
   },
   {
    "duration": 18,
    "start_time": "2022-03-21T19:10:43.745Z"
   },
   {
    "duration": 7,
    "start_time": "2022-03-21T19:10:55.062Z"
   },
   {
    "duration": 34,
    "start_time": "2022-03-21T19:11:01.065Z"
   },
   {
    "duration": 383,
    "start_time": "2022-03-22T18:41:34.963Z"
   },
   {
    "duration": 52,
    "start_time": "2022-03-22T18:41:35.347Z"
   },
   {
    "duration": 4,
    "start_time": "2022-03-22T18:41:35.401Z"
   },
   {
    "duration": 49,
    "start_time": "2022-03-22T18:41:35.406Z"
   },
   {
    "duration": 18,
    "start_time": "2022-03-22T18:41:35.458Z"
   },
   {
    "duration": 31,
    "start_time": "2022-03-22T19:28:13.108Z"
   },
   {
    "duration": 63,
    "start_time": "2022-03-22T19:30:49.901Z"
   },
   {
    "duration": 6,
    "start_time": "2022-03-22T19:31:07.833Z"
   },
   {
    "duration": 96,
    "start_time": "2022-03-22T19:31:54.062Z"
   },
   {
    "duration": 10,
    "start_time": "2022-03-22T19:32:11.224Z"
   },
   {
    "duration": 7,
    "start_time": "2022-03-22T19:35:14.983Z"
   },
   {
    "duration": 8,
    "start_time": "2022-03-22T19:35:23.511Z"
   },
   {
    "duration": 845,
    "start_time": "2022-03-22T19:38:14.721Z"
   },
   {
    "duration": 12,
    "start_time": "2022-03-22T19:46:39.404Z"
   },
   {
    "duration": 377,
    "start_time": "2022-03-22T19:47:23.268Z"
   },
   {
    "duration": 61,
    "start_time": "2022-03-22T19:47:23.647Z"
   },
   {
    "duration": 3,
    "start_time": "2022-03-22T19:47:23.710Z"
   },
   {
    "duration": 52,
    "start_time": "2022-03-22T19:47:23.715Z"
   },
   {
    "duration": 17,
    "start_time": "2022-03-22T19:47:23.769Z"
   },
   {
    "duration": 11,
    "start_time": "2022-03-22T19:47:23.788Z"
   },
   {
    "duration": 807,
    "start_time": "2022-03-22T19:47:23.801Z"
   },
   {
    "duration": 66,
    "start_time": "2022-03-22T19:48:08.928Z"
   },
   {
    "duration": 9,
    "start_time": "2022-03-22T19:48:13.807Z"
   },
   {
    "duration": 13,
    "start_time": "2022-03-22T19:48:22.849Z"
   },
   {
    "duration": 6,
    "start_time": "2022-03-22T19:49:19.957Z"
   },
   {
    "duration": 5,
    "start_time": "2022-03-22T19:59:05.747Z"
   },
   {
    "duration": 560,
    "start_time": "2022-03-23T16:44:26.325Z"
   },
   {
    "duration": 89,
    "start_time": "2022-03-23T16:44:26.888Z"
   },
   {
    "duration": 4,
    "start_time": "2022-03-23T16:44:26.979Z"
   },
   {
    "duration": 47,
    "start_time": "2022-03-23T16:44:26.986Z"
   },
   {
    "duration": 16,
    "start_time": "2022-03-23T16:44:27.034Z"
   },
   {
    "duration": 91,
    "start_time": "2022-03-23T17:15:53.151Z"
   },
   {
    "duration": 415,
    "start_time": "2022-03-23T17:17:25.642Z"
   },
   {
    "duration": 54,
    "start_time": "2022-03-23T17:17:26.059Z"
   },
   {
    "duration": 3,
    "start_time": "2022-03-23T17:17:26.115Z"
   },
   {
    "duration": 36,
    "start_time": "2022-03-23T17:17:26.120Z"
   },
   {
    "duration": 33,
    "start_time": "2022-03-23T17:17:26.158Z"
   },
   {
    "duration": 64,
    "start_time": "2022-03-23T17:17:26.193Z"
   },
   {
    "duration": 24,
    "start_time": "2022-03-23T17:17:50.772Z"
   },
   {
    "duration": 4,
    "start_time": "2022-03-23T18:23:07.770Z"
   },
   {
    "duration": 9,
    "start_time": "2022-03-23T18:24:21.081Z"
   },
   {
    "duration": 8,
    "start_time": "2022-03-23T18:24:36.656Z"
   },
   {
    "duration": 14,
    "start_time": "2022-03-23T18:25:12.992Z"
   },
   {
    "duration": 8,
    "start_time": "2022-03-23T18:26:43.492Z"
   },
   {
    "duration": 4,
    "start_time": "2022-03-23T18:33:52.722Z"
   },
   {
    "duration": 13,
    "start_time": "2022-03-23T18:33:54.181Z"
   },
   {
    "duration": 3,
    "start_time": "2022-03-23T18:34:05.973Z"
   },
   {
    "duration": 9,
    "start_time": "2022-03-23T18:34:06.532Z"
   },
   {
    "duration": 4,
    "start_time": "2022-03-23T18:34:34.824Z"
   },
   {
    "duration": 18,
    "start_time": "2022-03-23T18:34:35.592Z"
   },
   {
    "duration": 4,
    "start_time": "2022-03-23T18:35:01.073Z"
   },
   {
    "duration": 15,
    "start_time": "2022-03-23T18:35:01.819Z"
   },
   {
    "duration": 3,
    "start_time": "2022-03-23T18:35:19.234Z"
   },
   {
    "duration": 12,
    "start_time": "2022-03-23T18:35:19.794Z"
   },
   {
    "duration": 3,
    "start_time": "2022-03-23T18:35:45.854Z"
   },
   {
    "duration": 11,
    "start_time": "2022-03-23T18:35:46.426Z"
   },
   {
    "duration": 5,
    "start_time": "2022-03-23T18:48:08.197Z"
   },
   {
    "duration": 16,
    "start_time": "2022-03-23T18:48:09.235Z"
   },
   {
    "duration": 16,
    "start_time": "2022-03-23T18:48:48.714Z"
   },
   {
    "duration": 16,
    "start_time": "2022-03-23T18:49:02.433Z"
   },
   {
    "duration": 18,
    "start_time": "2022-03-23T18:49:30.413Z"
   },
   {
    "duration": 3,
    "start_time": "2022-03-23T18:57:41.296Z"
   },
   {
    "duration": 15,
    "start_time": "2022-03-23T18:57:41.914Z"
   },
   {
    "duration": 4,
    "start_time": "2022-03-23T18:57:54.012Z"
   },
   {
    "duration": 13,
    "start_time": "2022-03-23T18:57:54.951Z"
   },
   {
    "duration": 375,
    "start_time": "2022-03-23T18:58:04.802Z"
   },
   {
    "duration": 55,
    "start_time": "2022-03-23T18:58:05.180Z"
   },
   {
    "duration": 4,
    "start_time": "2022-03-23T18:58:05.237Z"
   },
   {
    "duration": 50,
    "start_time": "2022-03-23T18:58:05.242Z"
   },
   {
    "duration": 34,
    "start_time": "2022-03-23T18:58:05.296Z"
   },
   {
    "duration": 55,
    "start_time": "2022-03-23T18:58:05.333Z"
   },
   {
    "duration": 5,
    "start_time": "2022-03-23T18:58:05.390Z"
   },
   {
    "duration": 111,
    "start_time": "2022-03-23T18:58:05.397Z"
   },
   {
    "duration": 17,
    "start_time": "2022-03-23T19:02:04.703Z"
   },
   {
    "duration": 5,
    "start_time": "2022-03-23T19:02:10.062Z"
   },
   {
    "duration": 15,
    "start_time": "2022-03-23T19:02:11.034Z"
   },
   {
    "duration": 4,
    "start_time": "2022-03-23T19:02:35.430Z"
   },
   {
    "duration": 166,
    "start_time": "2022-03-23T19:02:35.974Z"
   },
   {
    "duration": 10,
    "start_time": "2022-03-23T19:03:07.695Z"
   },
   {
    "duration": 9,
    "start_time": "2022-03-23T19:03:20.035Z"
   },
   {
    "duration": 10,
    "start_time": "2022-03-23T19:03:32.862Z"
   },
   {
    "duration": 9,
    "start_time": "2022-03-23T19:04:23.296Z"
   },
   {
    "duration": 13,
    "start_time": "2022-03-23T19:04:31.473Z"
   },
   {
    "duration": 9,
    "start_time": "2022-03-23T19:08:08.814Z"
   },
   {
    "duration": 9,
    "start_time": "2022-03-23T19:08:15.002Z"
   },
   {
    "duration": 41,
    "start_time": "2022-03-23T19:08:17.158Z"
   },
   {
    "duration": 3,
    "start_time": "2022-03-23T19:09:25.775Z"
   },
   {
    "duration": 220,
    "start_time": "2022-03-23T19:09:28.134Z"
   },
   {
    "duration": 407,
    "start_time": "2022-03-23T19:09:38.951Z"
   },
   {
    "duration": 63,
    "start_time": "2022-03-23T19:09:39.360Z"
   },
   {
    "duration": 3,
    "start_time": "2022-03-23T19:09:39.424Z"
   },
   {
    "duration": 70,
    "start_time": "2022-03-23T19:09:39.429Z"
   },
   {
    "duration": 34,
    "start_time": "2022-03-23T19:09:39.501Z"
   },
   {
    "duration": 15,
    "start_time": "2022-03-23T19:09:39.536Z"
   },
   {
    "duration": 63,
    "start_time": "2022-03-23T19:09:39.553Z"
   },
   {
    "duration": 5,
    "start_time": "2022-03-23T19:09:39.617Z"
   },
   {
    "duration": 246,
    "start_time": "2022-03-23T19:09:39.623Z"
   },
   {
    "duration": 14,
    "start_time": "2022-03-23T19:19:48.173Z"
   },
   {
    "duration": 10,
    "start_time": "2022-03-23T20:35:08.853Z"
   },
   {
    "duration": 457,
    "start_time": "2022-03-23T20:35:55.442Z"
   },
   {
    "duration": 75,
    "start_time": "2022-03-23T20:35:55.901Z"
   },
   {
    "duration": 6,
    "start_time": "2022-03-23T20:35:55.978Z"
   },
   {
    "duration": 55,
    "start_time": "2022-03-23T20:35:55.988Z"
   },
   {
    "duration": 24,
    "start_time": "2022-03-23T20:35:56.045Z"
   },
   {
    "duration": 29,
    "start_time": "2022-03-23T20:35:56.071Z"
   },
   {
    "duration": 8,
    "start_time": "2022-03-23T20:35:56.102Z"
   },
   {
    "duration": 146,
    "start_time": "2022-03-23T20:35:56.111Z"
   },
   {
    "duration": 53,
    "start_time": "2022-03-23T20:35:56.260Z"
   },
   {
    "duration": 4,
    "start_time": "2022-03-23T20:35:56.315Z"
   },
   {
    "duration": 389,
    "start_time": "2022-03-23T20:35:56.320Z"
   },
   {
    "duration": 458,
    "start_time": "2022-03-23T21:08:05.529Z"
   },
   {
    "duration": 93,
    "start_time": "2022-03-23T21:08:05.990Z"
   },
   {
    "duration": 4,
    "start_time": "2022-03-23T21:08:06.084Z"
   },
   {
    "duration": 44,
    "start_time": "2022-03-23T21:08:06.090Z"
   },
   {
    "duration": 18,
    "start_time": "2022-03-23T21:08:06.136Z"
   },
   {
    "duration": 35,
    "start_time": "2022-03-23T21:08:06.156Z"
   },
   {
    "duration": 26,
    "start_time": "2022-03-23T21:08:06.193Z"
   },
   {
    "duration": 189,
    "start_time": "2022-03-23T21:08:06.221Z"
   },
   {
    "duration": 0,
    "start_time": "2022-03-23T21:08:06.412Z"
   },
   {
    "duration": 194,
    "start_time": "2022-03-23T21:08:20.334Z"
   },
   {
    "duration": 202,
    "start_time": "2022-03-23T21:08:31.299Z"
   },
   {
    "duration": 4,
    "start_time": "2022-03-23T21:08:58.466Z"
   },
   {
    "duration": 211,
    "start_time": "2022-03-23T21:08:59.705Z"
   },
   {
    "duration": 422,
    "start_time": "2022-03-23T21:11:19.575Z"
   },
   {
    "duration": 185,
    "start_time": "2022-03-23T21:16:58.535Z"
   },
   {
    "duration": 4,
    "start_time": "2022-03-23T21:21:47.994Z"
   },
   {
    "duration": 40,
    "start_time": "2022-03-23T21:22:35.095Z"
   },
   {
    "duration": 42,
    "start_time": "2022-03-23T21:22:47.928Z"
   },
   {
    "duration": 12,
    "start_time": "2022-03-23T21:27:15.575Z"
   },
   {
    "duration": 1416,
    "start_time": "2022-03-23T21:27:26.625Z"
   },
   {
    "duration": 55,
    "start_time": "2022-03-23T21:27:28.044Z"
   },
   {
    "duration": 3,
    "start_time": "2022-03-23T21:27:28.100Z"
   },
   {
    "duration": 35,
    "start_time": "2022-03-23T21:27:28.105Z"
   },
   {
    "duration": 17,
    "start_time": "2022-03-23T21:27:28.142Z"
   },
   {
    "duration": 27,
    "start_time": "2022-03-23T21:27:28.161Z"
   },
   {
    "duration": 26,
    "start_time": "2022-03-23T21:27:28.190Z"
   },
   {
    "duration": 3,
    "start_time": "2022-03-23T21:27:28.217Z"
   },
   {
    "duration": 221,
    "start_time": "2022-03-23T21:27:28.221Z"
   },
   {
    "duration": 314,
    "start_time": "2022-03-23T21:27:28.444Z"
   },
   {
    "duration": 369,
    "start_time": "2022-03-23T21:30:24.751Z"
   },
   {
    "duration": 9,
    "start_time": "2022-03-23T21:31:15.355Z"
   },
   {
    "duration": 449,
    "start_time": "2022-03-23T21:38:02.824Z"
   },
   {
    "duration": 69,
    "start_time": "2022-03-23T21:38:43.852Z"
   },
   {
    "duration": 70,
    "start_time": "2022-03-23T21:40:27.712Z"
   },
   {
    "duration": 54,
    "start_time": "2022-03-23T21:46:30.332Z"
   },
   {
    "duration": 1171,
    "start_time": "2022-03-23T21:47:38.193Z"
   },
   {
    "duration": 53,
    "start_time": "2022-03-23T21:47:39.366Z"
   },
   {
    "duration": 4,
    "start_time": "2022-03-23T21:47:39.420Z"
   },
   {
    "duration": 56,
    "start_time": "2022-03-23T21:47:39.426Z"
   },
   {
    "duration": 23,
    "start_time": "2022-03-23T21:47:39.485Z"
   },
   {
    "duration": 16,
    "start_time": "2022-03-23T21:47:39.510Z"
   },
   {
    "duration": 32,
    "start_time": "2022-03-23T21:47:39.528Z"
   },
   {
    "duration": 3,
    "start_time": "2022-03-23T21:47:39.562Z"
   },
   {
    "duration": 216,
    "start_time": "2022-03-23T21:47:39.566Z"
   },
   {
    "duration": 362,
    "start_time": "2022-03-23T21:47:39.783Z"
   },
   {
    "duration": 371,
    "start_time": "2022-03-23T21:47:40.146Z"
   },
   {
    "duration": 154,
    "start_time": "2022-03-23T21:50:14.730Z"
   },
   {
    "duration": 270,
    "start_time": "2022-03-23T21:53:20.424Z"
   },
   {
    "duration": 351,
    "start_time": "2022-03-23T21:54:22.717Z"
   },
   {
    "duration": 285,
    "start_time": "2022-03-23T21:54:45.788Z"
   },
   {
    "duration": 286,
    "start_time": "2022-03-23T21:55:42.814Z"
   },
   {
    "duration": 269,
    "start_time": "2022-03-23T21:55:54.929Z"
   },
   {
    "duration": 285,
    "start_time": "2022-03-23T22:00:17.436Z"
   },
   {
    "duration": 288,
    "start_time": "2022-03-23T22:00:26.245Z"
   },
   {
    "duration": 15,
    "start_time": "2022-03-23T22:01:18.909Z"
   },
   {
    "duration": 279,
    "start_time": "2022-03-23T22:01:30.664Z"
   },
   {
    "duration": 282,
    "start_time": "2022-03-23T22:03:43.165Z"
   },
   {
    "duration": 270,
    "start_time": "2022-03-23T22:04:10.942Z"
   },
   {
    "duration": 278,
    "start_time": "2022-03-23T22:06:44.506Z"
   },
   {
    "duration": 365,
    "start_time": "2022-03-23T22:06:57.427Z"
   },
   {
    "duration": 299,
    "start_time": "2022-03-23T22:07:04.725Z"
   },
   {
    "duration": 296,
    "start_time": "2022-03-23T22:07:45.686Z"
   },
   {
    "duration": 344,
    "start_time": "2022-03-23T22:07:53.953Z"
   },
   {
    "duration": 301,
    "start_time": "2022-03-23T22:08:04.046Z"
   },
   {
    "duration": 292,
    "start_time": "2022-03-23T22:13:53.361Z"
   },
   {
    "duration": 682,
    "start_time": "2022-03-23T22:14:51.384Z"
   },
   {
    "duration": 783,
    "start_time": "2022-03-23T22:15:02.341Z"
   },
   {
    "duration": 717,
    "start_time": "2022-03-23T22:17:09.710Z"
   },
   {
    "duration": 694,
    "start_time": "2022-03-23T22:19:37.034Z"
   },
   {
    "duration": 687,
    "start_time": "2022-03-23T22:19:45.365Z"
   },
   {
    "duration": 819,
    "start_time": "2022-03-23T22:20:00.517Z"
   },
   {
    "duration": 669,
    "start_time": "2022-03-23T22:20:11.353Z"
   },
   {
    "duration": 663,
    "start_time": "2022-03-23T22:22:18.625Z"
   },
   {
    "duration": 682,
    "start_time": "2022-03-23T22:26:58.738Z"
   },
   {
    "duration": 589,
    "start_time": "2022-03-23T22:27:14.002Z"
   },
   {
    "duration": 667,
    "start_time": "2022-03-23T22:40:13.044Z"
   },
   {
    "duration": 764,
    "start_time": "2022-03-23T22:40:26.650Z"
   },
   {
    "duration": 754,
    "start_time": "2022-03-23T22:40:51.044Z"
   },
   {
    "duration": 678,
    "start_time": "2022-03-23T22:45:04.677Z"
   },
   {
    "duration": 672,
    "start_time": "2022-03-23T22:45:47.524Z"
   },
   {
    "duration": 3,
    "start_time": "2022-03-23T22:46:12.845Z"
   },
   {
    "duration": 670,
    "start_time": "2022-03-23T22:46:21.104Z"
   },
   {
    "duration": 778,
    "start_time": "2022-03-23T22:46:39.984Z"
   },
   {
    "duration": 691,
    "start_time": "2022-03-23T22:47:55.498Z"
   },
   {
    "duration": 674,
    "start_time": "2022-03-23T22:48:04.104Z"
   },
   {
    "duration": 669,
    "start_time": "2022-03-23T22:48:45.344Z"
   },
   {
    "duration": 800,
    "start_time": "2022-03-23T22:48:59.232Z"
   },
   {
    "duration": 666,
    "start_time": "2022-03-23T22:50:24.748Z"
   },
   {
    "duration": 732,
    "start_time": "2022-03-23T23:13:38.284Z"
   },
   {
    "duration": 862,
    "start_time": "2022-03-23T23:13:58.784Z"
   },
   {
    "duration": 732,
    "start_time": "2022-03-23T23:14:45.213Z"
   },
   {
    "duration": 717,
    "start_time": "2022-03-23T23:16:18.803Z"
   },
   {
    "duration": 701,
    "start_time": "2022-03-23T23:16:33.444Z"
   },
   {
    "duration": 824,
    "start_time": "2022-03-23T23:16:51.164Z"
   },
   {
    "duration": 743,
    "start_time": "2022-03-23T23:17:08.584Z"
   },
   {
    "duration": 1180,
    "start_time": "2022-03-23T23:19:33.275Z"
   },
   {
    "duration": 53,
    "start_time": "2022-03-23T23:19:34.457Z"
   },
   {
    "duration": 3,
    "start_time": "2022-03-23T23:19:34.511Z"
   },
   {
    "duration": 34,
    "start_time": "2022-03-23T23:19:34.516Z"
   },
   {
    "duration": 16,
    "start_time": "2022-03-23T23:19:34.552Z"
   },
   {
    "duration": 10,
    "start_time": "2022-03-23T23:19:34.581Z"
   },
   {
    "duration": 24,
    "start_time": "2022-03-23T23:19:34.592Z"
   },
   {
    "duration": 2,
    "start_time": "2022-03-23T23:19:34.618Z"
   },
   {
    "duration": 213,
    "start_time": "2022-03-23T23:19:34.622Z"
   },
   {
    "duration": 348,
    "start_time": "2022-03-23T23:19:34.837Z"
   },
   {
    "duration": 858,
    "start_time": "2022-03-23T23:19:35.187Z"
   },
   {
    "duration": 737,
    "start_time": "2022-03-23T23:22:16.106Z"
   },
   {
    "duration": 681,
    "start_time": "2022-03-23T23:22:28.306Z"
   },
   {
    "duration": 681,
    "start_time": "2022-03-23T23:22:34.826Z"
   },
   {
    "duration": 792,
    "start_time": "2022-03-23T23:22:48.182Z"
   },
   {
    "duration": 665,
    "start_time": "2022-03-23T23:22:54.846Z"
   },
   {
    "duration": 1556,
    "start_time": "2022-03-26T12:34:47.156Z"
   },
   {
    "duration": 62,
    "start_time": "2022-03-26T12:34:48.715Z"
   },
   {
    "duration": 4,
    "start_time": "2022-03-26T12:34:48.779Z"
   },
   {
    "duration": 48,
    "start_time": "2022-03-26T12:34:48.786Z"
   },
   {
    "duration": 21,
    "start_time": "2022-03-26T12:34:48.837Z"
   },
   {
    "duration": 40,
    "start_time": "2022-03-26T12:34:48.861Z"
   },
   {
    "duration": 28,
    "start_time": "2022-03-26T12:34:48.903Z"
   },
   {
    "duration": 3,
    "start_time": "2022-03-26T12:34:48.933Z"
   },
   {
    "duration": 258,
    "start_time": "2022-03-26T12:34:48.938Z"
   },
   {
    "duration": 455,
    "start_time": "2022-03-26T12:34:49.200Z"
   },
   {
    "duration": 1330,
    "start_time": "2022-03-26T12:34:49.657Z"
   },
   {
    "duration": 28,
    "start_time": "2022-03-26T12:40:56.443Z"
   },
   {
    "duration": 784,
    "start_time": "2022-03-26T12:55:34.142Z"
   },
   {
    "duration": 372,
    "start_time": "2022-03-26T13:31:25.876Z"
   },
   {
    "duration": 237,
    "start_time": "2022-03-26T13:31:42.743Z"
   },
   {
    "duration": 1407,
    "start_time": "2022-03-26T14:45:31.976Z"
   },
   {
    "duration": 63,
    "start_time": "2022-03-26T14:45:33.385Z"
   },
   {
    "duration": 5,
    "start_time": "2022-03-26T14:45:33.450Z"
   },
   {
    "duration": 54,
    "start_time": "2022-03-26T14:45:33.458Z"
   },
   {
    "duration": 20,
    "start_time": "2022-03-26T14:45:33.514Z"
   },
   {
    "duration": 13,
    "start_time": "2022-03-26T14:45:33.535Z"
   },
   {
    "duration": 61,
    "start_time": "2022-03-26T14:45:33.550Z"
   },
   {
    "duration": 4,
    "start_time": "2022-03-26T14:45:33.613Z"
   },
   {
    "duration": 256,
    "start_time": "2022-03-26T14:45:33.619Z"
   },
   {
    "duration": 40,
    "start_time": "2022-03-26T14:45:33.877Z"
   },
   {
    "duration": 815,
    "start_time": "2022-03-26T14:45:33.919Z"
   },
   {
    "duration": 484,
    "start_time": "2022-03-26T14:45:34.736Z"
   },
   {
    "duration": 68,
    "start_time": "2022-03-26T14:48:31.484Z"
   },
   {
    "duration": 459,
    "start_time": "2022-03-26T14:48:41.595Z"
   },
   {
    "duration": 481,
    "start_time": "2022-03-26T14:49:04.322Z"
   },
   {
    "duration": 820,
    "start_time": "2022-03-26T14:49:17.568Z"
   },
   {
    "duration": 570,
    "start_time": "2022-03-26T14:49:27.267Z"
   },
   {
    "duration": 465,
    "start_time": "2022-03-26T14:59:22.474Z"
   },
   {
    "duration": 489,
    "start_time": "2022-03-26T14:59:34.836Z"
   },
   {
    "duration": 499,
    "start_time": "2022-03-26T14:59:47.284Z"
   },
   {
    "duration": 461,
    "start_time": "2022-03-26T15:00:00.226Z"
   },
   {
    "duration": 557,
    "start_time": "2022-03-26T15:04:56.890Z"
   },
   {
    "duration": 196,
    "start_time": "2022-03-26T15:06:00.648Z"
   },
   {
    "duration": 486,
    "start_time": "2022-03-26T15:06:06.550Z"
   },
   {
    "duration": 483,
    "start_time": "2022-03-26T15:06:14.757Z"
   },
   {
    "duration": 483,
    "start_time": "2022-03-26T15:06:29.487Z"
   },
   {
    "duration": 469,
    "start_time": "2022-03-26T15:06:45.034Z"
   },
   {
    "duration": 479,
    "start_time": "2022-03-26T15:10:05.003Z"
   },
   {
    "duration": 583,
    "start_time": "2022-03-26T15:10:14.218Z"
   },
   {
    "duration": 477,
    "start_time": "2022-03-26T15:14:57.416Z"
   },
   {
    "duration": 478,
    "start_time": "2022-03-26T15:15:12.687Z"
   },
   {
    "duration": 484,
    "start_time": "2022-03-26T15:15:23.556Z"
   },
   {
    "duration": 493,
    "start_time": "2022-03-26T15:16:01.868Z"
   },
   {
    "duration": 482,
    "start_time": "2022-03-26T15:16:51.006Z"
   },
   {
    "duration": 482,
    "start_time": "2022-03-26T15:17:29.646Z"
   },
   {
    "duration": 1388,
    "start_time": "2022-03-26T19:21:16.809Z"
   },
   {
    "duration": 64,
    "start_time": "2022-03-26T19:21:18.199Z"
   },
   {
    "duration": 4,
    "start_time": "2022-03-26T19:21:18.264Z"
   },
   {
    "duration": 38,
    "start_time": "2022-03-26T19:21:18.269Z"
   },
   {
    "duration": 21,
    "start_time": "2022-03-26T19:21:18.309Z"
   },
   {
    "duration": 9,
    "start_time": "2022-03-26T19:21:18.331Z"
   },
   {
    "duration": 40,
    "start_time": "2022-03-26T19:21:18.342Z"
   },
   {
    "duration": 3,
    "start_time": "2022-03-26T19:21:18.384Z"
   },
   {
    "duration": 216,
    "start_time": "2022-03-26T19:21:18.389Z"
   },
   {
    "duration": 22,
    "start_time": "2022-03-26T19:21:18.607Z"
   },
   {
    "duration": 693,
    "start_time": "2022-03-26T19:21:18.631Z"
   },
   {
    "duration": 417,
    "start_time": "2022-03-26T19:21:19.326Z"
   },
   {
    "duration": 629,
    "start_time": "2022-03-26T19:35:04.311Z"
   },
   {
    "duration": 634,
    "start_time": "2022-03-26T19:35:12.214Z"
   },
   {
    "duration": 411,
    "start_time": "2022-03-26T19:35:18.814Z"
   },
   {
    "duration": 492,
    "start_time": "2022-03-26T19:35:29.943Z"
   },
   {
    "duration": 640,
    "start_time": "2022-03-26T19:36:34.414Z"
   },
   {
    "duration": 723,
    "start_time": "2022-03-26T19:37:37.143Z"
   },
   {
    "duration": 1267,
    "start_time": "2022-03-26T20:09:55.284Z"
   },
   {
    "duration": 1000,
    "start_time": "2022-03-26T20:10:29.885Z"
   },
   {
    "duration": 919,
    "start_time": "2022-03-26T20:10:54.845Z"
   },
   {
    "duration": 1157,
    "start_time": "2022-03-26T20:11:06.616Z"
   },
   {
    "duration": 964,
    "start_time": "2022-03-26T20:11:22.943Z"
   },
   {
    "duration": 1169,
    "start_time": "2022-03-26T20:11:34.057Z"
   },
   {
    "duration": 1141,
    "start_time": "2022-03-26T20:11:48.375Z"
   },
   {
    "duration": 1161,
    "start_time": "2022-03-26T20:12:03.426Z"
   },
   {
    "duration": 819,
    "start_time": "2022-03-26T20:12:11.613Z"
   },
   {
    "duration": 720,
    "start_time": "2022-03-26T20:12:19.691Z"
   },
   {
    "duration": 740,
    "start_time": "2022-03-26T20:12:26.571Z"
   },
   {
    "duration": 669,
    "start_time": "2022-03-26T20:13:27.631Z"
   },
   {
    "duration": 715,
    "start_time": "2022-03-26T20:13:41.242Z"
   },
   {
    "duration": 197,
    "start_time": "2022-03-26T21:01:58.692Z"
   },
   {
    "duration": 181,
    "start_time": "2022-03-26T21:02:16.525Z"
   },
   {
    "duration": 15,
    "start_time": "2022-03-26T21:02:24.263Z"
   },
   {
    "duration": 794,
    "start_time": "2022-03-26T21:02:35.682Z"
   },
   {
    "duration": 14,
    "start_time": "2022-03-26T21:22:07.407Z"
   },
   {
    "duration": 11,
    "start_time": "2022-03-26T21:24:05.296Z"
   },
   {
    "duration": 13,
    "start_time": "2022-03-26T21:25:14.764Z"
   },
   {
    "duration": 3,
    "start_time": "2022-03-26T21:40:57.127Z"
   },
   {
    "duration": 4,
    "start_time": "2022-03-26T21:41:18.117Z"
   },
   {
    "duration": 79,
    "start_time": "2022-03-26T21:42:47.707Z"
   },
   {
    "duration": 1123,
    "start_time": "2022-03-26T21:44:56.119Z"
   },
   {
    "duration": 64,
    "start_time": "2022-03-26T21:44:57.244Z"
   },
   {
    "duration": 4,
    "start_time": "2022-03-26T21:44:57.310Z"
   },
   {
    "duration": 36,
    "start_time": "2022-03-26T21:44:57.315Z"
   },
   {
    "duration": 31,
    "start_time": "2022-03-26T21:44:57.353Z"
   },
   {
    "duration": 11,
    "start_time": "2022-03-26T21:44:57.385Z"
   },
   {
    "duration": 25,
    "start_time": "2022-03-26T21:44:57.398Z"
   },
   {
    "duration": 3,
    "start_time": "2022-03-26T21:44:57.425Z"
   },
   {
    "duration": 219,
    "start_time": "2022-03-26T21:44:57.429Z"
   },
   {
    "duration": 21,
    "start_time": "2022-03-26T21:44:57.650Z"
   },
   {
    "duration": 205,
    "start_time": "2022-03-26T21:44:57.680Z"
   },
   {
    "duration": 0,
    "start_time": "2022-03-26T21:44:57.887Z"
   },
   {
    "duration": 0,
    "start_time": "2022-03-26T21:44:57.888Z"
   },
   {
    "duration": 0,
    "start_time": "2022-03-26T21:44:57.889Z"
   },
   {
    "duration": 0,
    "start_time": "2022-03-26T21:44:57.890Z"
   },
   {
    "duration": 0,
    "start_time": "2022-03-26T21:44:57.891Z"
   },
   {
    "duration": 3,
    "start_time": "2022-03-26T21:45:19.725Z"
   },
   {
    "duration": 3,
    "start_time": "2022-03-26T21:45:47.928Z"
   },
   {
    "duration": 1147,
    "start_time": "2022-03-26T21:45:58.085Z"
   },
   {
    "duration": 52,
    "start_time": "2022-03-26T21:45:59.233Z"
   },
   {
    "duration": 3,
    "start_time": "2022-03-26T21:45:59.287Z"
   },
   {
    "duration": 33,
    "start_time": "2022-03-26T21:45:59.291Z"
   },
   {
    "duration": 16,
    "start_time": "2022-03-26T21:45:59.326Z"
   },
   {
    "duration": 9,
    "start_time": "2022-03-26T21:45:59.343Z"
   },
   {
    "duration": 48,
    "start_time": "2022-03-26T21:45:59.353Z"
   },
   {
    "duration": 3,
    "start_time": "2022-03-26T21:45:59.402Z"
   },
   {
    "duration": 207,
    "start_time": "2022-03-26T21:45:59.406Z"
   },
   {
    "duration": 21,
    "start_time": "2022-03-26T21:45:59.615Z"
   },
   {
    "duration": 4,
    "start_time": "2022-03-26T21:45:59.637Z"
   },
   {
    "duration": 96,
    "start_time": "2022-03-26T21:45:59.642Z"
   },
   {
    "duration": 657,
    "start_time": "2022-03-26T21:45:59.739Z"
   },
   {
    "duration": 424,
    "start_time": "2022-03-26T21:46:00.399Z"
   },
   {
    "duration": 375,
    "start_time": "2022-03-26T21:46:00.825Z"
   },
   {
    "duration": 749,
    "start_time": "2022-03-26T21:46:01.202Z"
   },
   {
    "duration": 5,
    "start_time": "2022-03-26T21:47:42.019Z"
   },
   {
    "duration": 1186,
    "start_time": "2022-03-26T21:49:00.172Z"
   },
   {
    "duration": 54,
    "start_time": "2022-03-26T21:49:01.360Z"
   },
   {
    "duration": 3,
    "start_time": "2022-03-26T21:49:01.415Z"
   },
   {
    "duration": 35,
    "start_time": "2022-03-26T21:49:01.419Z"
   },
   {
    "duration": 28,
    "start_time": "2022-03-26T21:49:01.456Z"
   },
   {
    "duration": 9,
    "start_time": "2022-03-26T21:49:01.486Z"
   },
   {
    "duration": 28,
    "start_time": "2022-03-26T21:49:01.497Z"
   },
   {
    "duration": 3,
    "start_time": "2022-03-26T21:49:01.526Z"
   },
   {
    "duration": 217,
    "start_time": "2022-03-26T21:49:01.530Z"
   },
   {
    "duration": 23,
    "start_time": "2022-03-26T21:49:01.749Z"
   },
   {
    "duration": 10,
    "start_time": "2022-03-26T21:49:01.773Z"
   },
   {
    "duration": 4,
    "start_time": "2022-03-26T21:49:01.784Z"
   },
   {
    "duration": 92,
    "start_time": "2022-03-26T21:49:01.789Z"
   },
   {
    "duration": 4,
    "start_time": "2022-03-26T21:49:01.884Z"
   },
   {
    "duration": 656,
    "start_time": "2022-03-26T21:49:01.890Z"
   },
   {
    "duration": 409,
    "start_time": "2022-03-26T21:49:02.548Z"
   },
   {
    "duration": 366,
    "start_time": "2022-03-26T21:49:02.958Z"
   },
   {
    "duration": 719,
    "start_time": "2022-03-26T21:49:03.326Z"
   },
   {
    "duration": 95,
    "start_time": "2022-03-26T21:50:15.507Z"
   },
   {
    "duration": 5,
    "start_time": "2022-03-26T21:50:27.738Z"
   },
   {
    "duration": 1212,
    "start_time": "2022-03-26T21:50:37.187Z"
   },
   {
    "duration": 64,
    "start_time": "2022-03-26T21:50:38.401Z"
   },
   {
    "duration": 4,
    "start_time": "2022-03-26T21:50:38.466Z"
   },
   {
    "duration": 34,
    "start_time": "2022-03-26T21:50:38.471Z"
   },
   {
    "duration": 18,
    "start_time": "2022-03-26T21:50:38.507Z"
   },
   {
    "duration": 10,
    "start_time": "2022-03-26T21:50:38.526Z"
   },
   {
    "duration": 57,
    "start_time": "2022-03-26T21:50:38.538Z"
   },
   {
    "duration": 3,
    "start_time": "2022-03-26T21:50:38.597Z"
   },
   {
    "duration": 205,
    "start_time": "2022-03-26T21:50:38.602Z"
   },
   {
    "duration": 22,
    "start_time": "2022-03-26T21:50:38.808Z"
   },
   {
    "duration": 5,
    "start_time": "2022-03-26T21:50:38.831Z"
   },
   {
    "duration": 6,
    "start_time": "2022-03-26T21:50:38.838Z"
   },
   {
    "duration": 99,
    "start_time": "2022-03-26T21:50:38.845Z"
   },
   {
    "duration": 4,
    "start_time": "2022-03-26T21:50:38.947Z"
   },
   {
    "duration": 731,
    "start_time": "2022-03-26T21:50:38.953Z"
   },
   {
    "duration": 430,
    "start_time": "2022-03-26T21:50:39.686Z"
   },
   {
    "duration": 393,
    "start_time": "2022-03-26T21:50:40.117Z"
   },
   {
    "duration": 757,
    "start_time": "2022-03-26T21:50:40.511Z"
   },
   {
    "duration": 1226,
    "start_time": "2022-03-26T21:51:34.456Z"
   },
   {
    "duration": 76,
    "start_time": "2022-03-26T21:51:35.684Z"
   },
   {
    "duration": 4,
    "start_time": "2022-03-26T21:51:35.762Z"
   },
   {
    "duration": 52,
    "start_time": "2022-03-26T21:51:35.767Z"
   },
   {
    "duration": 17,
    "start_time": "2022-03-26T21:51:35.821Z"
   },
   {
    "duration": 21,
    "start_time": "2022-03-26T21:51:35.839Z"
   },
   {
    "duration": 34,
    "start_time": "2022-03-26T21:51:35.861Z"
   },
   {
    "duration": 3,
    "start_time": "2022-03-26T21:51:35.897Z"
   },
   {
    "duration": 212,
    "start_time": "2022-03-26T21:51:35.901Z"
   },
   {
    "duration": 31,
    "start_time": "2022-03-26T21:51:36.115Z"
   },
   {
    "duration": 6,
    "start_time": "2022-03-26T21:51:36.148Z"
   },
   {
    "duration": 4,
    "start_time": "2022-03-26T21:51:36.156Z"
   },
   {
    "duration": 151,
    "start_time": "2022-03-26T21:51:36.162Z"
   },
   {
    "duration": 5,
    "start_time": "2022-03-26T21:51:36.316Z"
   },
   {
    "duration": 651,
    "start_time": "2022-03-26T21:51:36.323Z"
   },
   {
    "duration": 407,
    "start_time": "2022-03-26T21:51:36.976Z"
   },
   {
    "duration": 383,
    "start_time": "2022-03-26T21:51:37.384Z"
   },
   {
    "duration": 718,
    "start_time": "2022-03-26T21:51:37.769Z"
   },
   {
    "duration": 3,
    "start_time": "2022-03-26T21:52:36.350Z"
   },
   {
    "duration": 89,
    "start_time": "2022-03-26T21:52:37.660Z"
   },
   {
    "duration": 5,
    "start_time": "2022-03-26T21:52:38.429Z"
   },
   {
    "duration": 1263,
    "start_time": "2022-03-26T21:53:00.589Z"
   },
   {
    "duration": 55,
    "start_time": "2022-03-26T21:53:01.854Z"
   },
   {
    "duration": 3,
    "start_time": "2022-03-26T21:53:01.911Z"
   },
   {
    "duration": 35,
    "start_time": "2022-03-26T21:53:01.916Z"
   },
   {
    "duration": 33,
    "start_time": "2022-03-26T21:53:01.953Z"
   },
   {
    "duration": 11,
    "start_time": "2022-03-26T21:53:01.987Z"
   },
   {
    "duration": 28,
    "start_time": "2022-03-26T21:53:01.999Z"
   },
   {
    "duration": 2,
    "start_time": "2022-03-26T21:53:02.029Z"
   },
   {
    "duration": 212,
    "start_time": "2022-03-26T21:53:02.033Z"
   },
   {
    "duration": 22,
    "start_time": "2022-03-26T21:53:02.247Z"
   },
   {
    "duration": 5,
    "start_time": "2022-03-26T21:53:02.280Z"
   },
   {
    "duration": 3,
    "start_time": "2022-03-26T21:53:02.287Z"
   },
   {
    "duration": 122,
    "start_time": "2022-03-26T21:53:02.292Z"
   },
   {
    "duration": 4,
    "start_time": "2022-03-26T21:53:02.417Z"
   },
   {
    "duration": 670,
    "start_time": "2022-03-26T21:53:02.422Z"
   },
   {
    "duration": 410,
    "start_time": "2022-03-26T21:53:03.093Z"
   },
   {
    "duration": 338,
    "start_time": "2022-03-26T21:53:03.505Z"
   },
   {
    "duration": 732,
    "start_time": "2022-03-26T21:53:03.844Z"
   },
   {
    "duration": 4,
    "start_time": "2022-03-26T21:54:52.170Z"
   },
   {
    "duration": 93,
    "start_time": "2022-03-26T21:54:52.829Z"
   },
   {
    "duration": 6,
    "start_time": "2022-03-26T21:54:53.390Z"
   },
   {
    "duration": 3,
    "start_time": "2022-03-26T21:55:17.540Z"
   },
   {
    "duration": 3,
    "start_time": "2022-03-26T21:55:24.890Z"
   },
   {
    "duration": 4,
    "start_time": "2022-03-26T21:55:47.881Z"
   },
   {
    "duration": 88,
    "start_time": "2022-03-26T21:55:48.570Z"
   },
   {
    "duration": 4,
    "start_time": "2022-03-26T21:55:49.130Z"
   },
   {
    "duration": 5,
    "start_time": "2022-03-26T21:55:55.181Z"
   },
   {
    "duration": 147,
    "start_time": "2022-03-26T21:55:55.810Z"
   },
   {
    "duration": 5,
    "start_time": "2022-03-26T21:55:56.350Z"
   },
   {
    "duration": 1124,
    "start_time": "2022-03-26T21:56:13.825Z"
   },
   {
    "duration": 54,
    "start_time": "2022-03-26T21:56:14.951Z"
   },
   {
    "duration": 4,
    "start_time": "2022-03-26T21:56:15.007Z"
   },
   {
    "duration": 43,
    "start_time": "2022-03-26T21:56:15.012Z"
   },
   {
    "duration": 28,
    "start_time": "2022-03-26T21:56:15.057Z"
   },
   {
    "duration": 9,
    "start_time": "2022-03-26T21:56:15.087Z"
   },
   {
    "duration": 25,
    "start_time": "2022-03-26T21:56:15.098Z"
   },
   {
    "duration": 3,
    "start_time": "2022-03-26T21:56:15.125Z"
   },
   {
    "duration": 222,
    "start_time": "2022-03-26T21:56:15.130Z"
   },
   {
    "duration": 30,
    "start_time": "2022-03-26T21:56:15.353Z"
   },
   {
    "duration": 5,
    "start_time": "2022-03-26T21:56:15.384Z"
   },
   {
    "duration": 4,
    "start_time": "2022-03-26T21:56:15.390Z"
   },
   {
    "duration": 157,
    "start_time": "2022-03-26T21:56:15.396Z"
   },
   {
    "duration": 5,
    "start_time": "2022-03-26T21:56:15.556Z"
   },
   {
    "duration": 694,
    "start_time": "2022-03-26T21:56:15.562Z"
   },
   {
    "duration": 424,
    "start_time": "2022-03-26T21:56:16.257Z"
   },
   {
    "duration": 753,
    "start_time": "2022-03-26T21:56:16.682Z"
   },
   {
    "duration": 803,
    "start_time": "2022-03-26T21:56:17.437Z"
   },
   {
    "duration": 13,
    "start_time": "2022-03-26T21:57:15.400Z"
   },
   {
    "duration": 6,
    "start_time": "2022-03-26T21:57:27.940Z"
   },
   {
    "duration": 92,
    "start_time": "2022-03-26T21:58:42.390Z"
   },
   {
    "duration": 5,
    "start_time": "2022-03-26T21:58:49.900Z"
   },
   {
    "duration": 4,
    "start_time": "2022-03-26T22:00:09.629Z"
   },
   {
    "duration": 163,
    "start_time": "2022-03-26T22:00:10.349Z"
   },
   {
    "duration": 6,
    "start_time": "2022-03-26T22:00:11.019Z"
   },
   {
    "duration": 4,
    "start_time": "2022-03-26T22:00:34.909Z"
   },
   {
    "duration": 81,
    "start_time": "2022-03-26T22:00:35.479Z"
   },
   {
    "duration": 4,
    "start_time": "2022-03-26T22:00:36.205Z"
   },
   {
    "duration": 4,
    "start_time": "2022-03-26T22:00:46.209Z"
   },
   {
    "duration": 159,
    "start_time": "2022-03-26T22:00:46.927Z"
   },
   {
    "duration": 5,
    "start_time": "2022-03-26T22:00:48.470Z"
   },
   {
    "duration": 4,
    "start_time": "2022-03-26T22:00:57.490Z"
   },
   {
    "duration": 174,
    "start_time": "2022-03-26T22:00:58.270Z"
   },
   {
    "duration": 5,
    "start_time": "2022-03-26T22:00:58.877Z"
   },
   {
    "duration": 1232,
    "start_time": "2022-03-26T22:01:06.640Z"
   },
   {
    "duration": 53,
    "start_time": "2022-03-26T22:01:07.874Z"
   },
   {
    "duration": 3,
    "start_time": "2022-03-26T22:01:07.928Z"
   },
   {
    "duration": 35,
    "start_time": "2022-03-26T22:01:07.933Z"
   },
   {
    "duration": 20,
    "start_time": "2022-03-26T22:01:07.970Z"
   },
   {
    "duration": 10,
    "start_time": "2022-03-26T22:01:07.991Z"
   },
   {
    "duration": 38,
    "start_time": "2022-03-26T22:01:08.002Z"
   },
   {
    "duration": 4,
    "start_time": "2022-03-26T22:01:08.041Z"
   },
   {
    "duration": 327,
    "start_time": "2022-03-26T22:01:08.047Z"
   },
   {
    "duration": 34,
    "start_time": "2022-03-26T22:01:08.376Z"
   },
   {
    "duration": 7,
    "start_time": "2022-03-26T22:01:08.412Z"
   },
   {
    "duration": 6,
    "start_time": "2022-03-26T22:01:08.420Z"
   },
   {
    "duration": 182,
    "start_time": "2022-03-26T22:01:08.428Z"
   },
   {
    "duration": 6,
    "start_time": "2022-03-26T22:01:08.613Z"
   },
   {
    "duration": 682,
    "start_time": "2022-03-26T22:01:08.621Z"
   },
   {
    "duration": 428,
    "start_time": "2022-03-26T22:01:09.305Z"
   },
   {
    "duration": 749,
    "start_time": "2022-03-26T22:01:09.735Z"
   },
   {
    "duration": 837,
    "start_time": "2022-03-26T22:01:10.486Z"
   },
   {
    "duration": 1167,
    "start_time": "2022-03-26T22:03:40.386Z"
   },
   {
    "duration": 1148,
    "start_time": "2022-03-26T22:03:56.756Z"
   },
   {
    "duration": 717,
    "start_time": "2022-03-26T22:42:25.938Z"
   },
   {
    "duration": 967,
    "start_time": "2022-03-26T22:42:50.584Z"
   },
   {
    "duration": 724,
    "start_time": "2022-03-26T22:43:29.171Z"
   },
   {
    "duration": 730,
    "start_time": "2022-03-26T22:43:47.224Z"
   },
   {
    "duration": 892,
    "start_time": "2022-03-26T22:44:28.565Z"
   },
   {
    "duration": 429,
    "start_time": "2022-03-26T22:51:41.811Z"
   },
   {
    "duration": 407,
    "start_time": "2022-03-26T22:52:12.874Z"
   },
   {
    "duration": 638,
    "start_time": "2022-03-26T22:52:54.604Z"
   },
   {
    "duration": 161,
    "start_time": "2022-03-26T22:55:03.883Z"
   },
   {
    "duration": 936,
    "start_time": "2022-03-26T23:01:13.298Z"
   },
   {
    "duration": 406,
    "start_time": "2022-03-26T23:01:59.514Z"
   },
   {
    "duration": 636,
    "start_time": "2022-03-26T23:02:27.663Z"
   },
   {
    "duration": 344,
    "start_time": "2022-03-26T23:26:26.797Z"
   },
   {
    "duration": 382,
    "start_time": "2022-03-26T23:26:38.146Z"
   },
   {
    "duration": 708,
    "start_time": "2022-03-26T23:34:31.504Z"
   },
   {
    "duration": 648,
    "start_time": "2022-03-26T23:38:11.349Z"
   },
   {
    "duration": 140,
    "start_time": "2022-03-26T23:47:10.909Z"
   },
   {
    "duration": 61,
    "start_time": "2022-03-26T23:47:44.309Z"
   },
   {
    "duration": 139,
    "start_time": "2022-03-26T23:52:24.838Z"
   },
   {
    "duration": 0,
    "start_time": "2022-03-26T23:54:07.235Z"
   },
   {
    "duration": 76,
    "start_time": "2022-03-26T23:58:34.189Z"
   },
   {
    "duration": 60,
    "start_time": "2022-03-26T23:58:44.200Z"
   },
   {
    "duration": 45,
    "start_time": "2022-03-27T00:02:21.430Z"
   },
   {
    "duration": 1212,
    "start_time": "2022-03-27T00:02:36.837Z"
   },
   {
    "duration": 54,
    "start_time": "2022-03-27T00:02:38.050Z"
   },
   {
    "duration": 3,
    "start_time": "2022-03-27T00:02:38.106Z"
   },
   {
    "duration": 33,
    "start_time": "2022-03-27T00:02:38.110Z"
   },
   {
    "duration": 16,
    "start_time": "2022-03-27T00:02:38.145Z"
   },
   {
    "duration": 9,
    "start_time": "2022-03-27T00:02:38.181Z"
   },
   {
    "duration": 25,
    "start_time": "2022-03-27T00:02:38.191Z"
   },
   {
    "duration": 5,
    "start_time": "2022-03-27T00:02:38.217Z"
   },
   {
    "duration": 210,
    "start_time": "2022-03-27T00:02:38.223Z"
   },
   {
    "duration": 22,
    "start_time": "2022-03-27T00:02:38.434Z"
   },
   {
    "duration": 4,
    "start_time": "2022-03-27T00:02:38.457Z"
   },
   {
    "duration": 187,
    "start_time": "2022-03-27T00:02:38.463Z"
   },
   {
    "duration": 668,
    "start_time": "2022-03-27T00:02:38.651Z"
   },
   {
    "duration": 454,
    "start_time": "2022-03-27T00:02:39.321Z"
   },
   {
    "duration": 843,
    "start_time": "2022-03-27T00:02:39.780Z"
   },
   {
    "duration": 930,
    "start_time": "2022-03-27T00:02:40.625Z"
   },
   {
    "duration": 4141,
    "start_time": "2022-03-27T00:02:41.557Z"
   },
   {
    "duration": 47,
    "start_time": "2022-03-27T00:03:14.323Z"
   },
   {
    "duration": 41,
    "start_time": "2022-03-27T00:06:42.848Z"
   },
   {
    "duration": 47,
    "start_time": "2022-03-27T00:13:04.148Z"
   },
   {
    "duration": 13,
    "start_time": "2022-03-27T00:13:11.377Z"
   },
   {
    "duration": 44,
    "start_time": "2022-03-27T00:13:25.729Z"
   },
   {
    "duration": 118,
    "start_time": "2022-03-27T00:14:36.688Z"
   },
   {
    "duration": 12,
    "start_time": "2022-03-27T00:17:37.868Z"
   },
   {
    "duration": 46,
    "start_time": "2022-03-27T00:28:03.987Z"
   },
   {
    "duration": 13,
    "start_time": "2022-03-27T00:28:09.867Z"
   },
   {
    "duration": 10,
    "start_time": "2022-03-27T00:28:31.107Z"
   },
   {
    "duration": 8,
    "start_time": "2022-03-27T00:29:10.087Z"
   },
   {
    "duration": 18,
    "start_time": "2022-03-27T00:41:26.540Z"
   },
   {
    "duration": 15,
    "start_time": "2022-03-27T00:43:22.839Z"
   },
   {
    "duration": 623,
    "start_time": "2022-03-27T00:43:55.266Z"
   },
   {
    "duration": 607,
    "start_time": "2022-03-27T00:45:03.496Z"
   },
   {
    "duration": 8,
    "start_time": "2022-03-27T00:46:38.842Z"
   },
   {
    "duration": 687,
    "start_time": "2022-03-27T00:46:48.546Z"
   },
   {
    "duration": 13,
    "start_time": "2022-03-27T00:47:20.736Z"
   },
   {
    "duration": 8,
    "start_time": "2022-03-27T00:47:40.813Z"
   },
   {
    "duration": 603,
    "start_time": "2022-03-27T00:47:58.746Z"
   },
   {
    "duration": 603,
    "start_time": "2022-03-27T00:48:17.345Z"
   },
   {
    "duration": 9,
    "start_time": "2022-03-27T00:49:22.686Z"
   },
   {
    "duration": 707,
    "start_time": "2022-03-27T00:49:31.926Z"
   },
   {
    "duration": 610,
    "start_time": "2022-03-27T00:51:17.580Z"
   },
   {
    "duration": 471,
    "start_time": "2022-03-27T00:51:30.946Z"
   },
   {
    "duration": 447,
    "start_time": "2022-03-27T00:51:51.226Z"
   },
   {
    "duration": 705,
    "start_time": "2022-03-27T00:52:43.586Z"
   },
   {
    "duration": 605,
    "start_time": "2022-03-27T00:52:53.187Z"
   },
   {
    "duration": 629,
    "start_time": "2022-03-27T00:53:26.146Z"
   },
   {
    "duration": 735,
    "start_time": "2022-03-27T00:53:37.146Z"
   },
   {
    "duration": 354,
    "start_time": "2022-03-27T00:53:44.914Z"
   },
   {
    "duration": 364,
    "start_time": "2022-03-27T00:53:54.337Z"
   },
   {
    "duration": 1587,
    "start_time": "2022-03-27T14:59:42.404Z"
   },
   {
    "duration": 73,
    "start_time": "2022-03-27T14:59:43.993Z"
   },
   {
    "duration": 3,
    "start_time": "2022-03-27T14:59:44.068Z"
   },
   {
    "duration": 42,
    "start_time": "2022-03-27T14:59:44.073Z"
   },
   {
    "duration": 20,
    "start_time": "2022-03-27T14:59:44.131Z"
   },
   {
    "duration": 12,
    "start_time": "2022-03-27T14:59:44.152Z"
   },
   {
    "duration": 30,
    "start_time": "2022-03-27T14:59:44.166Z"
   },
   {
    "duration": 3,
    "start_time": "2022-03-27T14:59:44.198Z"
   },
   {
    "duration": 262,
    "start_time": "2022-03-27T14:59:44.203Z"
   },
   {
    "duration": 25,
    "start_time": "2022-03-27T14:59:44.467Z"
   },
   {
    "duration": 5,
    "start_time": "2022-03-27T14:59:44.493Z"
   },
   {
    "duration": 204,
    "start_time": "2022-03-27T14:59:44.499Z"
   },
   {
    "duration": 855,
    "start_time": "2022-03-27T14:59:44.705Z"
   },
   {
    "duration": 515,
    "start_time": "2022-03-27T14:59:45.563Z"
   },
   {
    "duration": 1002,
    "start_time": "2022-03-27T14:59:46.080Z"
   },
   {
    "duration": 919,
    "start_time": "2022-03-27T14:59:47.084Z"
   },
   {
    "duration": 68,
    "start_time": "2022-03-27T14:59:48.005Z"
   },
   {
    "duration": 10,
    "start_time": "2022-03-27T14:59:48.075Z"
   },
   {
    "duration": 17,
    "start_time": "2022-03-27T14:59:48.087Z"
   },
   {
    "duration": 29,
    "start_time": "2022-03-27T14:59:48.106Z"
   },
   {
    "duration": 473,
    "start_time": "2022-03-27T14:59:48.137Z"
   },
   {
    "duration": 16,
    "start_time": "2022-03-27T15:00:39.205Z"
   },
   {
    "duration": 60,
    "start_time": "2022-03-27T15:02:53.657Z"
   },
   {
    "duration": 15,
    "start_time": "2022-03-27T15:02:58.684Z"
   },
   {
    "duration": 60,
    "start_time": "2022-03-27T15:03:14.026Z"
   },
   {
    "duration": 14,
    "start_time": "2022-03-27T15:03:15.778Z"
   },
   {
    "duration": 65,
    "start_time": "2022-03-27T15:04:08.437Z"
   },
   {
    "duration": 16,
    "start_time": "2022-03-27T15:04:11.275Z"
   },
   {
    "duration": 69,
    "start_time": "2022-03-27T15:04:30.118Z"
   },
   {
    "duration": 11,
    "start_time": "2022-03-27T15:04:30.852Z"
   },
   {
    "duration": 15,
    "start_time": "2022-03-27T15:04:32.917Z"
   },
   {
    "duration": 72,
    "start_time": "2022-03-27T15:06:15.159Z"
   },
   {
    "duration": 14,
    "start_time": "2022-03-27T15:06:17.217Z"
   },
   {
    "duration": 71,
    "start_time": "2022-03-27T15:08:09.976Z"
   },
   {
    "duration": 15,
    "start_time": "2022-03-27T15:08:11.846Z"
   },
   {
    "duration": 73,
    "start_time": "2022-03-27T15:09:36.809Z"
   },
   {
    "duration": 14,
    "start_time": "2022-03-27T15:09:38.639Z"
   },
   {
    "duration": 75,
    "start_time": "2022-03-27T15:09:54.890Z"
   },
   {
    "duration": 15,
    "start_time": "2022-03-27T15:09:57.252Z"
   },
   {
    "duration": 73,
    "start_time": "2022-03-27T15:10:35.166Z"
   },
   {
    "duration": 14,
    "start_time": "2022-03-27T15:10:37.657Z"
   },
   {
    "duration": 67,
    "start_time": "2022-03-27T15:10:46.542Z"
   },
   {
    "duration": 14,
    "start_time": "2022-03-27T15:10:48.577Z"
   },
   {
    "duration": 70,
    "start_time": "2022-03-27T15:10:56.152Z"
   },
   {
    "duration": 15,
    "start_time": "2022-03-27T15:10:57.699Z"
   },
   {
    "duration": 71,
    "start_time": "2022-03-27T15:11:08.457Z"
   },
   {
    "duration": 14,
    "start_time": "2022-03-27T15:11:10.045Z"
   },
   {
    "duration": 80,
    "start_time": "2022-03-27T15:12:03.638Z"
   },
   {
    "duration": 17,
    "start_time": "2022-03-27T15:12:06.091Z"
   },
   {
    "duration": 78,
    "start_time": "2022-03-27T15:13:02.837Z"
   },
   {
    "duration": 21,
    "start_time": "2022-03-27T15:13:06.017Z"
   },
   {
    "duration": 78,
    "start_time": "2022-03-27T15:14:19.636Z"
   },
   {
    "duration": 16,
    "start_time": "2022-03-27T15:14:21.503Z"
   },
   {
    "duration": 11,
    "start_time": "2022-03-27T15:15:42.938Z"
   },
   {
    "duration": 10,
    "start_time": "2022-03-27T15:16:11.519Z"
   },
   {
    "duration": 463,
    "start_time": "2022-03-27T15:16:12.326Z"
   },
   {
    "duration": 81,
    "start_time": "2022-03-27T15:19:04.466Z"
   },
   {
    "duration": 16,
    "start_time": "2022-03-27T15:19:06.698Z"
   },
   {
    "duration": 79,
    "start_time": "2022-03-27T15:19:50.787Z"
   },
   {
    "duration": 16,
    "start_time": "2022-03-27T15:19:52.519Z"
   },
   {
    "duration": 108,
    "start_time": "2022-03-27T15:20:15.976Z"
   },
   {
    "duration": 14,
    "start_time": "2022-03-27T15:20:17.717Z"
   },
   {
    "duration": 83,
    "start_time": "2022-03-27T15:20:59.336Z"
   },
   {
    "duration": 17,
    "start_time": "2022-03-27T15:21:01.116Z"
   },
   {
    "duration": 90,
    "start_time": "2022-03-27T15:22:14.436Z"
   },
   {
    "duration": 15,
    "start_time": "2022-03-27T15:22:15.978Z"
   },
   {
    "duration": 106,
    "start_time": "2022-03-27T15:22:27.444Z"
   },
   {
    "duration": 15,
    "start_time": "2022-03-27T15:22:28.884Z"
   },
   {
    "duration": 82,
    "start_time": "2022-03-27T15:23:38.356Z"
   },
   {
    "duration": 15,
    "start_time": "2022-03-27T15:23:40.284Z"
   },
   {
    "duration": 88,
    "start_time": "2022-03-27T15:24:29.517Z"
   },
   {
    "duration": 15,
    "start_time": "2022-03-27T15:24:32.236Z"
   },
   {
    "duration": 89,
    "start_time": "2022-03-27T15:24:44.179Z"
   },
   {
    "duration": 15,
    "start_time": "2022-03-27T15:24:46.782Z"
   },
   {
    "duration": 11,
    "start_time": "2022-03-27T15:25:15.337Z"
   },
   {
    "duration": 11,
    "start_time": "2022-03-27T15:25:23.936Z"
   },
   {
    "duration": 579,
    "start_time": "2022-03-27T15:25:24.884Z"
   },
   {
    "duration": 96,
    "start_time": "2022-03-27T15:26:38.237Z"
   },
   {
    "duration": 16,
    "start_time": "2022-03-27T15:26:40.757Z"
   },
   {
    "duration": 93,
    "start_time": "2022-03-27T15:27:50.215Z"
   },
   {
    "duration": 15,
    "start_time": "2022-03-27T15:27:52.763Z"
   },
   {
    "duration": 85,
    "start_time": "2022-03-27T15:30:58.875Z"
   },
   {
    "duration": 12,
    "start_time": "2022-03-27T15:31:39.355Z"
   },
   {
    "duration": 9,
    "start_time": "2022-03-27T15:31:45.517Z"
   },
   {
    "duration": 9,
    "start_time": "2022-03-27T15:32:11.974Z"
   },
   {
    "duration": 9,
    "start_time": "2022-03-27T15:32:20.815Z"
   },
   {
    "duration": 9,
    "start_time": "2022-03-27T15:32:57.767Z"
   },
   {
    "duration": 19,
    "start_time": "2022-03-27T15:33:36.715Z"
   },
   {
    "duration": 9,
    "start_time": "2022-03-27T15:34:09.075Z"
   },
   {
    "duration": 9,
    "start_time": "2022-03-27T15:34:17.496Z"
   },
   {
    "duration": 8,
    "start_time": "2022-03-27T15:34:22.135Z"
   },
   {
    "duration": 9,
    "start_time": "2022-03-27T15:34:27.655Z"
   },
   {
    "duration": 11,
    "start_time": "2022-03-27T15:35:25.035Z"
   },
   {
    "duration": 19,
    "start_time": "2022-03-27T15:35:41.874Z"
   },
   {
    "duration": 11,
    "start_time": "2022-03-27T15:36:01.296Z"
   },
   {
    "duration": 10,
    "start_time": "2022-03-27T15:41:31.676Z"
   },
   {
    "duration": 10,
    "start_time": "2022-03-27T15:41:35.954Z"
   },
   {
    "duration": 10,
    "start_time": "2022-03-27T15:41:42.975Z"
   },
   {
    "duration": 92,
    "start_time": "2022-03-27T15:42:21.169Z"
   },
   {
    "duration": 15,
    "start_time": "2022-03-27T15:42:22.773Z"
   },
   {
    "duration": 92,
    "start_time": "2022-03-27T15:42:37.302Z"
   },
   {
    "duration": 15,
    "start_time": "2022-03-27T15:42:39.061Z"
   },
   {
    "duration": 72,
    "start_time": "2022-03-27T15:42:52.823Z"
   },
   {
    "duration": 15,
    "start_time": "2022-03-27T15:42:54.398Z"
   },
   {
    "duration": 97,
    "start_time": "2022-03-27T15:44:45.534Z"
   },
   {
    "duration": 14,
    "start_time": "2022-03-27T15:44:47.237Z"
   },
   {
    "duration": 66,
    "start_time": "2022-03-27T15:45:24.144Z"
   },
   {
    "duration": 15,
    "start_time": "2022-03-27T15:45:27.034Z"
   },
   {
    "duration": 80,
    "start_time": "2022-03-27T15:45:34.453Z"
   },
   {
    "duration": 13,
    "start_time": "2022-03-27T15:45:36.875Z"
   },
   {
    "duration": 86,
    "start_time": "2022-03-27T15:46:17.799Z"
   },
   {
    "duration": 14,
    "start_time": "2022-03-27T15:46:19.635Z"
   },
   {
    "duration": 135,
    "start_time": "2022-03-27T15:47:01.029Z"
   },
   {
    "duration": 15,
    "start_time": "2022-03-27T15:47:03.314Z"
   },
   {
    "duration": 85,
    "start_time": "2022-03-27T15:47:10.952Z"
   },
   {
    "duration": 15,
    "start_time": "2022-03-27T15:47:13.393Z"
   },
   {
    "duration": 87,
    "start_time": "2022-03-27T15:49:08.182Z"
   },
   {
    "duration": 15,
    "start_time": "2022-03-27T15:49:10.257Z"
   },
   {
    "duration": 129,
    "start_time": "2022-03-27T15:49:40.258Z"
   },
   {
    "duration": 22,
    "start_time": "2022-03-27T15:49:41.715Z"
   },
   {
    "duration": 104,
    "start_time": "2022-03-27T15:49:51.940Z"
   },
   {
    "duration": 14,
    "start_time": "2022-03-27T15:49:53.387Z"
   },
   {
    "duration": 91,
    "start_time": "2022-03-27T15:50:52.713Z"
   },
   {
    "duration": 15,
    "start_time": "2022-03-27T15:50:54.646Z"
   },
   {
    "duration": 92,
    "start_time": "2022-03-27T15:51:38.093Z"
   },
   {
    "duration": 14,
    "start_time": "2022-03-27T15:51:39.513Z"
   },
   {
    "duration": 1340,
    "start_time": "2022-03-27T15:53:03.243Z"
   },
   {
    "duration": 70,
    "start_time": "2022-03-27T15:53:04.585Z"
   },
   {
    "duration": 4,
    "start_time": "2022-03-27T15:53:04.656Z"
   },
   {
    "duration": 76,
    "start_time": "2022-03-27T15:53:04.662Z"
   },
   {
    "duration": 20,
    "start_time": "2022-03-27T15:53:04.740Z"
   },
   {
    "duration": 12,
    "start_time": "2022-03-27T15:53:04.762Z"
   },
   {
    "duration": 30,
    "start_time": "2022-03-27T15:53:04.776Z"
   },
   {
    "duration": 3,
    "start_time": "2022-03-27T15:53:04.808Z"
   },
   {
    "duration": 243,
    "start_time": "2022-03-27T15:53:04.832Z"
   },
   {
    "duration": 25,
    "start_time": "2022-03-27T15:53:05.079Z"
   },
   {
    "duration": 5,
    "start_time": "2022-03-27T15:53:05.106Z"
   },
   {
    "duration": 214,
    "start_time": "2022-03-27T15:53:05.113Z"
   },
   {
    "duration": 844,
    "start_time": "2022-03-27T15:53:05.331Z"
   },
   {
    "duration": 525,
    "start_time": "2022-03-27T15:53:06.177Z"
   },
   {
    "duration": 919,
    "start_time": "2022-03-27T15:53:06.704Z"
   },
   {
    "duration": 1009,
    "start_time": "2022-03-27T15:53:07.625Z"
   },
   {
    "duration": 107,
    "start_time": "2022-03-27T15:53:08.636Z"
   },
   {
    "duration": 10,
    "start_time": "2022-03-27T15:53:08.745Z"
   },
   {
    "duration": 21,
    "start_time": "2022-03-27T15:53:08.757Z"
   },
   {
    "duration": 10,
    "start_time": "2022-03-27T15:53:08.779Z"
   },
   {
    "duration": 496,
    "start_time": "2022-03-27T15:53:08.791Z"
   },
   {
    "duration": 96,
    "start_time": "2022-03-27T15:59:40.654Z"
   },
   {
    "duration": 15,
    "start_time": "2022-03-27T15:59:55.029Z"
   },
   {
    "duration": 95,
    "start_time": "2022-03-27T16:00:09.412Z"
   },
   {
    "duration": 71,
    "start_time": "2022-03-27T19:44:49.204Z"
   },
   {
    "duration": 1801,
    "start_time": "2022-03-27T19:45:04.922Z"
   },
   {
    "duration": 66,
    "start_time": "2022-03-27T19:45:06.726Z"
   },
   {
    "duration": 5,
    "start_time": "2022-03-27T19:45:06.794Z"
   },
   {
    "duration": 73,
    "start_time": "2022-03-27T19:45:06.802Z"
   },
   {
    "duration": 25,
    "start_time": "2022-03-27T19:45:06.877Z"
   },
   {
    "duration": 15,
    "start_time": "2022-03-27T19:45:06.904Z"
   },
   {
    "duration": 61,
    "start_time": "2022-03-27T19:45:06.922Z"
   },
   {
    "duration": 4,
    "start_time": "2022-03-27T19:45:06.985Z"
   },
   {
    "duration": 431,
    "start_time": "2022-03-27T19:45:06.991Z"
   },
   {
    "duration": 53,
    "start_time": "2022-03-27T19:45:07.426Z"
   },
   {
    "duration": 9,
    "start_time": "2022-03-27T19:45:07.481Z"
   },
   {
    "duration": 320,
    "start_time": "2022-03-27T19:45:07.492Z"
   },
   {
    "duration": 1225,
    "start_time": "2022-03-27T19:45:07.815Z"
   },
   {
    "duration": 847,
    "start_time": "2022-03-27T19:45:09.043Z"
   },
   {
    "duration": 1375,
    "start_time": "2022-03-27T19:45:09.892Z"
   },
   {
    "duration": 1491,
    "start_time": "2022-03-27T19:45:11.274Z"
   },
   {
    "duration": 144,
    "start_time": "2022-03-27T19:45:12.768Z"
   },
   {
    "duration": 15,
    "start_time": "2022-03-27T19:45:12.914Z"
   },
   {
    "duration": 16,
    "start_time": "2022-03-27T19:45:12.932Z"
   },
   {
    "duration": 14,
    "start_time": "2022-03-27T19:45:12.975Z"
   },
   {
    "duration": 711,
    "start_time": "2022-03-27T19:45:12.992Z"
   },
   {
    "duration": 14,
    "start_time": "2022-03-27T20:30:58.222Z"
   },
   {
    "duration": 15,
    "start_time": "2022-03-27T20:31:59.202Z"
   },
   {
    "duration": 225,
    "start_time": "2022-03-27T20:51:35.109Z"
   },
   {
    "duration": 160,
    "start_time": "2022-03-27T20:55:26.588Z"
   },
   {
    "duration": 12,
    "start_time": "2022-03-27T20:56:17.975Z"
   },
   {
    "duration": 1985,
    "start_time": "2022-03-27T20:57:33.166Z"
   },
   {
    "duration": 70,
    "start_time": "2022-03-27T20:57:35.154Z"
   },
   {
    "duration": 7,
    "start_time": "2022-03-27T20:57:35.226Z"
   },
   {
    "duration": 67,
    "start_time": "2022-03-27T20:57:35.236Z"
   },
   {
    "duration": 24,
    "start_time": "2022-03-27T20:57:35.305Z"
   },
   {
    "duration": 43,
    "start_time": "2022-03-27T20:57:35.331Z"
   },
   {
    "duration": 37,
    "start_time": "2022-03-27T20:57:35.375Z"
   },
   {
    "duration": 5,
    "start_time": "2022-03-27T20:57:35.414Z"
   },
   {
    "duration": 410,
    "start_time": "2022-03-27T20:57:35.421Z"
   },
   {
    "duration": 39,
    "start_time": "2022-03-27T20:57:35.835Z"
   },
   {
    "duration": 6,
    "start_time": "2022-03-27T20:57:35.876Z"
   },
   {
    "duration": 332,
    "start_time": "2022-03-27T20:57:35.884Z"
   },
   {
    "duration": 1232,
    "start_time": "2022-03-27T20:57:36.218Z"
   },
   {
    "duration": 789,
    "start_time": "2022-03-27T20:57:37.452Z"
   },
   {
    "duration": 1299,
    "start_time": "2022-03-27T20:57:38.243Z"
   },
   {
    "duration": 1477,
    "start_time": "2022-03-27T20:57:39.544Z"
   },
   {
    "duration": 143,
    "start_time": "2022-03-27T20:57:41.024Z"
   },
   {
    "duration": 15,
    "start_time": "2022-03-27T20:57:41.169Z"
   },
   {
    "duration": 18,
    "start_time": "2022-03-27T20:57:41.187Z"
   },
   {
    "duration": 11,
    "start_time": "2022-03-27T20:57:41.207Z"
   },
   {
    "duration": 191,
    "start_time": "2022-03-27T20:57:41.221Z"
   },
   {
    "duration": 0,
    "start_time": "2022-03-27T20:57:41.414Z"
   },
   {
    "duration": 0,
    "start_time": "2022-03-27T20:57:41.416Z"
   },
   {
    "duration": 0,
    "start_time": "2022-03-27T20:57:41.418Z"
   },
   {
    "duration": 0,
    "start_time": "2022-03-27T20:57:41.419Z"
   },
   {
    "duration": 703,
    "start_time": "2022-03-27T20:57:53.345Z"
   },
   {
    "duration": 226,
    "start_time": "2022-03-27T20:58:08.698Z"
   },
   {
    "duration": 12,
    "start_time": "2022-03-27T20:58:08.928Z"
   },
   {
    "duration": 25,
    "start_time": "2022-03-27T20:58:08.943Z"
   },
   {
    "duration": 0,
    "start_time": "2022-03-27T20:58:08.971Z"
   },
   {
    "duration": 26,
    "start_time": "2022-03-27T20:58:20.031Z"
   },
   {
    "duration": 17,
    "start_time": "2022-03-27T20:59:08.053Z"
   },
   {
    "duration": 16,
    "start_time": "2022-03-27T20:59:14.541Z"
   },
   {
    "duration": 14,
    "start_time": "2022-03-27T20:59:24.203Z"
   },
   {
    "duration": 16,
    "start_time": "2022-03-27T20:59:29.771Z"
   },
   {
    "duration": 14,
    "start_time": "2022-03-27T21:01:52.571Z"
   },
   {
    "duration": 11,
    "start_time": "2022-03-27T21:08:16.675Z"
   },
   {
    "duration": 7,
    "start_time": "2022-03-27T21:08:28.634Z"
   },
   {
    "duration": 4,
    "start_time": "2022-03-27T21:09:38.598Z"
   },
   {
    "duration": 7,
    "start_time": "2022-03-27T21:09:47.219Z"
   },
   {
    "duration": 1523,
    "start_time": "2022-03-27T21:10:51.029Z"
   },
   {
    "duration": 1857,
    "start_time": "2022-03-27T21:11:00.080Z"
   },
   {
    "duration": 28,
    "start_time": "2022-03-27T21:15:25.991Z"
   },
   {
    "duration": 9,
    "start_time": "2022-03-27T21:15:46.808Z"
   },
   {
    "duration": 25,
    "start_time": "2022-03-27T21:16:49.713Z"
   },
   {
    "duration": 13,
    "start_time": "2022-03-27T21:17:07.644Z"
   },
   {
    "duration": 10,
    "start_time": "2022-03-27T21:17:09.941Z"
   },
   {
    "duration": 18,
    "start_time": "2022-03-27T21:17:21.572Z"
   },
   {
    "duration": 14,
    "start_time": "2022-03-27T21:18:55.188Z"
   },
   {
    "duration": 9,
    "start_time": "2022-03-27T21:18:56.459Z"
   },
   {
    "duration": 14,
    "start_time": "2022-03-27T21:19:16.062Z"
   },
   {
    "duration": 10,
    "start_time": "2022-03-27T21:19:16.879Z"
   },
   {
    "duration": 15,
    "start_time": "2022-03-27T21:19:34.348Z"
   },
   {
    "duration": 10,
    "start_time": "2022-03-27T21:19:35.260Z"
   },
   {
    "duration": 25,
    "start_time": "2022-03-27T21:19:58.809Z"
   },
   {
    "duration": 14,
    "start_time": "2022-03-27T21:20:14.615Z"
   },
   {
    "duration": 14,
    "start_time": "2022-03-27T21:20:37.968Z"
   },
   {
    "duration": 10,
    "start_time": "2022-03-27T21:20:38.748Z"
   },
   {
    "duration": 11,
    "start_time": "2022-03-27T21:25:45.868Z"
   },
   {
    "duration": 7,
    "start_time": "2022-03-27T21:25:47.109Z"
   },
   {
    "duration": 15,
    "start_time": "2022-03-27T21:26:04.494Z"
   },
   {
    "duration": 15,
    "start_time": "2022-03-27T21:26:34.008Z"
   },
   {
    "duration": 0,
    "start_time": "2022-03-27T21:27:03.347Z"
   },
   {
    "duration": 0,
    "start_time": "2022-03-27T21:27:03.350Z"
   },
   {
    "duration": 0,
    "start_time": "2022-03-27T21:27:03.351Z"
   },
   {
    "duration": 0,
    "start_time": "2022-03-27T21:27:03.353Z"
   },
   {
    "duration": 0,
    "start_time": "2022-03-27T21:27:03.374Z"
   },
   {
    "duration": 0,
    "start_time": "2022-03-27T21:27:03.377Z"
   },
   {
    "duration": 0,
    "start_time": "2022-03-27T21:27:03.379Z"
   },
   {
    "duration": 0,
    "start_time": "2022-03-27T21:27:03.381Z"
   },
   {
    "duration": 0,
    "start_time": "2022-03-27T21:27:03.383Z"
   },
   {
    "duration": 0,
    "start_time": "2022-03-27T21:27:03.385Z"
   },
   {
    "duration": 0,
    "start_time": "2022-03-27T21:27:03.387Z"
   },
   {
    "duration": 0,
    "start_time": "2022-03-27T21:27:03.391Z"
   },
   {
    "duration": 0,
    "start_time": "2022-03-27T21:27:03.393Z"
   },
   {
    "duration": 0,
    "start_time": "2022-03-27T21:27:03.395Z"
   },
   {
    "duration": 0,
    "start_time": "2022-03-27T21:27:03.397Z"
   },
   {
    "duration": 0,
    "start_time": "2022-03-27T21:27:03.400Z"
   },
   {
    "duration": 0,
    "start_time": "2022-03-27T21:27:03.402Z"
   },
   {
    "duration": 0,
    "start_time": "2022-03-27T21:27:03.404Z"
   },
   {
    "duration": 0,
    "start_time": "2022-03-27T21:27:03.406Z"
   },
   {
    "duration": 0,
    "start_time": "2022-03-27T21:27:03.408Z"
   },
   {
    "duration": 0,
    "start_time": "2022-03-27T21:27:03.410Z"
   },
   {
    "duration": 0,
    "start_time": "2022-03-27T21:27:03.412Z"
   },
   {
    "duration": 0,
    "start_time": "2022-03-27T21:27:03.413Z"
   },
   {
    "duration": 0,
    "start_time": "2022-03-27T21:27:03.475Z"
   },
   {
    "duration": 0,
    "start_time": "2022-03-27T21:27:03.477Z"
   },
   {
    "duration": 1582,
    "start_time": "2022-03-27T21:27:19.810Z"
   },
   {
    "duration": 63,
    "start_time": "2022-03-27T21:27:21.395Z"
   },
   {
    "duration": 5,
    "start_time": "2022-03-27T21:27:21.460Z"
   },
   {
    "duration": 55,
    "start_time": "2022-03-27T21:27:21.467Z"
   },
   {
    "duration": 59,
    "start_time": "2022-03-27T21:27:21.525Z"
   },
   {
    "duration": 15,
    "start_time": "2022-03-27T21:27:21.586Z"
   },
   {
    "duration": 36,
    "start_time": "2022-03-27T21:27:21.603Z"
   },
   {
    "duration": 4,
    "start_time": "2022-03-27T21:27:21.641Z"
   },
   {
    "duration": 438,
    "start_time": "2022-03-27T21:27:21.647Z"
   },
   {
    "duration": 33,
    "start_time": "2022-03-27T21:27:22.087Z"
   },
   {
    "duration": 6,
    "start_time": "2022-03-27T21:27:22.122Z"
   },
   {
    "duration": 327,
    "start_time": "2022-03-27T21:27:22.130Z"
   },
   {
    "duration": 1326,
    "start_time": "2022-03-27T21:27:22.460Z"
   },
   {
    "duration": 803,
    "start_time": "2022-03-27T21:27:23.789Z"
   },
   {
    "duration": 1509,
    "start_time": "2022-03-27T21:27:24.594Z"
   },
   {
    "duration": 1521,
    "start_time": "2022-03-27T21:27:26.106Z"
   },
   {
    "duration": 149,
    "start_time": "2022-03-27T21:27:27.629Z"
   },
   {
    "duration": 13,
    "start_time": "2022-03-27T21:27:27.781Z"
   },
   {
    "duration": 14,
    "start_time": "2022-03-27T21:27:27.796Z"
   },
   {
    "duration": 11,
    "start_time": "2022-03-27T21:27:27.812Z"
   },
   {
    "duration": 730,
    "start_time": "2022-03-27T21:27:27.825Z"
   },
   {
    "duration": 217,
    "start_time": "2022-03-27T21:27:28.557Z"
   },
   {
    "duration": 25,
    "start_time": "2022-03-27T21:27:28.776Z"
   },
   {
    "duration": 161,
    "start_time": "2022-03-27T21:27:28.803Z"
   },
   {
    "duration": 0,
    "start_time": "2022-03-27T21:27:28.974Z"
   },
   {
    "duration": 15,
    "start_time": "2022-03-27T21:28:41.008Z"
   },
   {
    "duration": 23,
    "start_time": "2022-03-27T21:28:59.089Z"
   },
   {
    "duration": 14,
    "start_time": "2022-03-27T21:29:10.248Z"
   },
   {
    "duration": 10,
    "start_time": "2022-03-27T21:29:11.808Z"
   },
   {
    "duration": 35,
    "start_time": "2022-03-27T21:30:46.657Z"
   },
   {
    "duration": 12,
    "start_time": "2022-03-27T21:41:10.514Z"
   },
   {
    "duration": 11,
    "start_time": "2022-03-27T21:41:11.326Z"
   },
   {
    "duration": 7,
    "start_time": "2022-03-27T21:42:28.566Z"
   },
   {
    "duration": 20,
    "start_time": "2022-03-27T21:42:29.239Z"
   },
   {
    "duration": 1611,
    "start_time": "2022-03-27T21:42:56.608Z"
   },
   {
    "duration": 74,
    "start_time": "2022-03-27T21:42:58.222Z"
   },
   {
    "duration": 5,
    "start_time": "2022-03-27T21:42:58.298Z"
   },
   {
    "duration": 78,
    "start_time": "2022-03-27T21:42:58.306Z"
   },
   {
    "duration": 27,
    "start_time": "2022-03-27T21:42:58.386Z"
   },
   {
    "duration": 16,
    "start_time": "2022-03-27T21:42:58.415Z"
   },
   {
    "duration": 75,
    "start_time": "2022-03-27T21:42:58.433Z"
   },
   {
    "duration": 5,
    "start_time": "2022-03-27T21:42:58.510Z"
   },
   {
    "duration": 456,
    "start_time": "2022-03-27T21:42:58.517Z"
   },
   {
    "duration": 31,
    "start_time": "2022-03-27T21:42:58.977Z"
   },
   {
    "duration": 6,
    "start_time": "2022-03-27T21:42:59.010Z"
   },
   {
    "duration": 342,
    "start_time": "2022-03-27T21:42:59.018Z"
   },
   {
    "duration": 1248,
    "start_time": "2022-03-27T21:42:59.362Z"
   },
   {
    "duration": 809,
    "start_time": "2022-03-27T21:43:00.613Z"
   },
   {
    "duration": 1324,
    "start_time": "2022-03-27T21:43:01.424Z"
   },
   {
    "duration": 1520,
    "start_time": "2022-03-27T21:43:02.750Z"
   },
   {
    "duration": 142,
    "start_time": "2022-03-27T21:43:04.274Z"
   },
   {
    "duration": 15,
    "start_time": "2022-03-27T21:43:04.418Z"
   },
   {
    "duration": 16,
    "start_time": "2022-03-27T21:43:04.435Z"
   },
   {
    "duration": 12,
    "start_time": "2022-03-27T21:43:04.474Z"
   },
   {
    "duration": 713,
    "start_time": "2022-03-27T21:43:04.488Z"
   },
   {
    "duration": 185,
    "start_time": "2022-03-27T21:43:05.203Z"
   },
   {
    "duration": 25,
    "start_time": "2022-03-27T21:43:05.390Z"
   },
   {
    "duration": 26,
    "start_time": "2022-03-27T21:43:05.417Z"
   },
   {
    "duration": 27,
    "start_time": "2022-03-27T21:43:05.445Z"
   },
   {
    "duration": 41,
    "start_time": "2022-03-27T21:43:05.474Z"
   },
   {
    "duration": 10,
    "start_time": "2022-03-27T21:43:05.518Z"
   },
   {
    "duration": 55,
    "start_time": "2022-03-27T21:43:05.533Z"
   },
   {
    "duration": 1615,
    "start_time": "2022-03-27T21:44:28.059Z"
   },
   {
    "duration": 65,
    "start_time": "2022-03-27T21:44:29.676Z"
   },
   {
    "duration": 6,
    "start_time": "2022-03-27T21:44:29.743Z"
   },
   {
    "duration": 67,
    "start_time": "2022-03-27T21:44:29.752Z"
   },
   {
    "duration": 25,
    "start_time": "2022-03-27T21:44:29.821Z"
   },
   {
    "duration": 41,
    "start_time": "2022-03-27T21:44:29.847Z"
   },
   {
    "duration": 37,
    "start_time": "2022-03-27T21:44:29.891Z"
   },
   {
    "duration": 5,
    "start_time": "2022-03-27T21:44:29.931Z"
   },
   {
    "duration": 424,
    "start_time": "2022-03-27T21:44:29.939Z"
   },
   {
    "duration": 36,
    "start_time": "2022-03-27T21:44:30.368Z"
   },
   {
    "duration": 7,
    "start_time": "2022-03-27T21:44:30.406Z"
   },
   {
    "duration": 458,
    "start_time": "2022-03-27T21:44:30.416Z"
   },
   {
    "duration": 1324,
    "start_time": "2022-03-27T21:44:30.876Z"
   },
   {
    "duration": 789,
    "start_time": "2022-03-27T21:44:32.203Z"
   },
   {
    "duration": 1269,
    "start_time": "2022-03-27T21:44:32.995Z"
   },
   {
    "duration": 1482,
    "start_time": "2022-03-27T21:44:34.267Z"
   },
   {
    "duration": 143,
    "start_time": "2022-03-27T21:44:35.752Z"
   },
   {
    "duration": 14,
    "start_time": "2022-03-27T21:44:35.897Z"
   },
   {
    "duration": 17,
    "start_time": "2022-03-27T21:44:35.913Z"
   },
   {
    "duration": 11,
    "start_time": "2022-03-27T21:44:35.932Z"
   },
   {
    "duration": 706,
    "start_time": "2022-03-27T21:44:35.945Z"
   },
   {
    "duration": 203,
    "start_time": "2022-03-27T21:44:36.653Z"
   },
   {
    "duration": 25,
    "start_time": "2022-03-27T21:44:36.858Z"
   },
   {
    "duration": 11,
    "start_time": "2022-03-27T21:44:36.885Z"
   },
   {
    "duration": 6,
    "start_time": "2022-03-27T21:44:36.898Z"
   },
   {
    "duration": 20,
    "start_time": "2022-03-27T21:44:36.906Z"
   },
   {
    "duration": 9,
    "start_time": "2022-03-27T21:44:36.928Z"
   },
   {
    "duration": 35,
    "start_time": "2022-03-27T21:44:36.977Z"
   },
   {
    "duration": 17,
    "start_time": "2022-03-27T21:46:18.553Z"
   },
   {
    "duration": 16,
    "start_time": "2022-03-27T21:47:51.830Z"
   },
   {
    "duration": 1610,
    "start_time": "2022-03-27T21:47:59.168Z"
   },
   {
    "duration": 66,
    "start_time": "2022-03-27T21:48:00.781Z"
   },
   {
    "duration": 5,
    "start_time": "2022-03-27T21:48:00.849Z"
   },
   {
    "duration": 69,
    "start_time": "2022-03-27T21:48:00.857Z"
   },
   {
    "duration": 51,
    "start_time": "2022-03-27T21:48:00.930Z"
   },
   {
    "duration": 17,
    "start_time": "2022-03-27T21:48:00.983Z"
   },
   {
    "duration": 39,
    "start_time": "2022-03-27T21:48:01.002Z"
   },
   {
    "duration": 4,
    "start_time": "2022-03-27T21:48:01.043Z"
   },
   {
    "duration": 445,
    "start_time": "2022-03-27T21:48:01.049Z"
   },
   {
    "duration": 32,
    "start_time": "2022-03-27T21:48:01.496Z"
   },
   {
    "duration": 6,
    "start_time": "2022-03-27T21:48:01.530Z"
   },
   {
    "duration": 339,
    "start_time": "2022-03-27T21:48:01.539Z"
   },
   {
    "duration": 1272,
    "start_time": "2022-03-27T21:48:01.881Z"
   },
   {
    "duration": 797,
    "start_time": "2022-03-27T21:48:03.158Z"
   },
   {
    "duration": 1282,
    "start_time": "2022-03-27T21:48:03.957Z"
   },
   {
    "duration": 1488,
    "start_time": "2022-03-27T21:48:05.241Z"
   },
   {
    "duration": 149,
    "start_time": "2022-03-27T21:48:06.731Z"
   },
   {
    "duration": 14,
    "start_time": "2022-03-27T21:48:06.882Z"
   },
   {
    "duration": 19,
    "start_time": "2022-03-27T21:48:06.899Z"
   },
   {
    "duration": 11,
    "start_time": "2022-03-27T21:48:06.920Z"
   },
   {
    "duration": 718,
    "start_time": "2022-03-27T21:48:06.934Z"
   },
   {
    "duration": 179,
    "start_time": "2022-03-27T21:48:07.655Z"
   },
   {
    "duration": 25,
    "start_time": "2022-03-27T21:48:07.836Z"
   },
   {
    "duration": 11,
    "start_time": "2022-03-27T21:48:07.863Z"
   },
   {
    "duration": 5,
    "start_time": "2022-03-27T21:48:07.877Z"
   },
   {
    "duration": 22,
    "start_time": "2022-03-27T21:48:07.884Z"
   },
   {
    "duration": 15,
    "start_time": "2022-03-27T21:48:07.908Z"
   },
   {
    "duration": 65,
    "start_time": "2022-03-27T21:48:07.925Z"
   },
   {
    "duration": 15,
    "start_time": "2022-03-27T21:48:07.992Z"
   },
   {
    "duration": 1451,
    "start_time": "2022-03-27T21:49:21.624Z"
   },
   {
    "duration": 0,
    "start_time": "2022-03-27T21:49:23.077Z"
   },
   {
    "duration": 1533,
    "start_time": "2022-03-27T21:50:34.123Z"
   },
   {
    "duration": 60,
    "start_time": "2022-03-27T21:50:35.660Z"
   },
   {
    "duration": 4,
    "start_time": "2022-03-27T21:50:35.723Z"
   },
   {
    "duration": 68,
    "start_time": "2022-03-27T21:50:35.729Z"
   },
   {
    "duration": 26,
    "start_time": "2022-03-27T21:50:35.800Z"
   },
   {
    "duration": 15,
    "start_time": "2022-03-27T21:50:35.828Z"
   },
   {
    "duration": 33,
    "start_time": "2022-03-27T21:50:35.874Z"
   },
   {
    "duration": 4,
    "start_time": "2022-03-27T21:50:35.909Z"
   },
   {
    "duration": 402,
    "start_time": "2022-03-27T21:50:35.915Z"
   },
   {
    "duration": 31,
    "start_time": "2022-03-27T21:50:36.319Z"
   },
   {
    "duration": 22,
    "start_time": "2022-03-27T21:50:36.352Z"
   },
   {
    "duration": 307,
    "start_time": "2022-03-27T21:50:36.376Z"
   },
   {
    "duration": 1220,
    "start_time": "2022-03-27T21:50:36.685Z"
   },
   {
    "duration": 891,
    "start_time": "2022-03-27T21:50:37.909Z"
   },
   {
    "duration": 1347,
    "start_time": "2022-03-27T21:50:38.802Z"
   },
   {
    "duration": 1660,
    "start_time": "2022-03-27T21:50:40.151Z"
   },
   {
    "duration": 152,
    "start_time": "2022-03-27T21:50:41.813Z"
   },
   {
    "duration": 14,
    "start_time": "2022-03-27T21:50:41.967Z"
   },
   {
    "duration": 15,
    "start_time": "2022-03-27T21:50:41.983Z"
   },
   {
    "duration": 11,
    "start_time": "2022-03-27T21:50:42.000Z"
   },
   {
    "duration": 1111,
    "start_time": "2022-03-27T21:50:42.013Z"
   },
   {
    "duration": 297,
    "start_time": "2022-03-27T21:50:43.127Z"
   },
   {
    "duration": 25,
    "start_time": "2022-03-27T21:50:43.426Z"
   },
   {
    "duration": 12,
    "start_time": "2022-03-27T21:50:43.453Z"
   },
   {
    "duration": 1477,
    "start_time": "2022-03-27T21:50:43.467Z"
   },
   {
    "duration": 0,
    "start_time": "2022-03-27T21:50:44.946Z"
   },
   {
    "duration": 0,
    "start_time": "2022-03-27T21:50:44.947Z"
   },
   {
    "duration": 10,
    "start_time": "2022-03-27T21:50:57.386Z"
   },
   {
    "duration": 20,
    "start_time": "2022-03-27T21:51:00.983Z"
   },
   {
    "duration": 15,
    "start_time": "2022-03-27T21:51:04.105Z"
   },
   {
    "duration": 16,
    "start_time": "2022-03-27T21:52:13.920Z"
   },
   {
    "duration": 13,
    "start_time": "2022-03-27T21:52:21.265Z"
   },
   {
    "duration": 16,
    "start_time": "2022-03-27T21:58:25.745Z"
   },
   {
    "duration": 8,
    "start_time": "2022-03-27T21:58:32.769Z"
   },
   {
    "duration": 20,
    "start_time": "2022-03-27T21:58:37.842Z"
   },
   {
    "duration": 1862,
    "start_time": "2022-03-27T21:59:40.724Z"
   },
   {
    "duration": 29,
    "start_time": "2022-03-27T21:59:55.891Z"
   },
   {
    "duration": 12,
    "start_time": "2022-03-27T22:00:02.864Z"
   },
   {
    "duration": 6,
    "start_time": "2022-03-27T22:00:03.606Z"
   },
   {
    "duration": 18,
    "start_time": "2022-03-27T22:00:05.024Z"
   },
   {
    "duration": 7,
    "start_time": "2022-03-27T22:01:41.090Z"
   },
   {
    "duration": 19,
    "start_time": "2022-03-27T22:01:41.723Z"
   },
   {
    "duration": 20,
    "start_time": "2022-03-27T22:01:46.444Z"
   },
   {
    "duration": 1572,
    "start_time": "2022-03-27T22:02:35.999Z"
   },
   {
    "duration": 61,
    "start_time": "2022-03-27T22:02:37.574Z"
   },
   {
    "duration": 4,
    "start_time": "2022-03-27T22:02:37.638Z"
   },
   {
    "duration": 64,
    "start_time": "2022-03-27T22:02:37.644Z"
   },
   {
    "duration": 26,
    "start_time": "2022-03-27T22:02:37.711Z"
   },
   {
    "duration": 45,
    "start_time": "2022-03-27T22:02:37.739Z"
   },
   {
    "duration": 33,
    "start_time": "2022-03-27T22:02:37.786Z"
   },
   {
    "duration": 4,
    "start_time": "2022-03-27T22:02:37.821Z"
   },
   {
    "duration": 426,
    "start_time": "2022-03-27T22:02:37.827Z"
   },
   {
    "duration": 37,
    "start_time": "2022-03-27T22:02:38.255Z"
   },
   {
    "duration": 6,
    "start_time": "2022-03-27T22:02:38.294Z"
   },
   {
    "duration": 315,
    "start_time": "2022-03-27T22:02:38.302Z"
   },
   {
    "duration": 1228,
    "start_time": "2022-03-27T22:02:38.619Z"
   },
   {
    "duration": 759,
    "start_time": "2022-03-27T22:02:39.850Z"
   },
   {
    "duration": 1304,
    "start_time": "2022-03-27T22:02:40.611Z"
   },
   {
    "duration": 1492,
    "start_time": "2022-03-27T22:02:41.917Z"
   },
   {
    "duration": 142,
    "start_time": "2022-03-27T22:02:43.412Z"
   },
   {
    "duration": 20,
    "start_time": "2022-03-27T22:02:43.556Z"
   },
   {
    "duration": 23,
    "start_time": "2022-03-27T22:02:43.578Z"
   },
   {
    "duration": 13,
    "start_time": "2022-03-27T22:02:43.603Z"
   },
   {
    "duration": 712,
    "start_time": "2022-03-27T22:02:43.618Z"
   },
   {
    "duration": 192,
    "start_time": "2022-03-27T22:02:44.333Z"
   },
   {
    "duration": 12,
    "start_time": "2022-03-27T22:02:44.527Z"
   },
   {
    "duration": 8,
    "start_time": "2022-03-27T22:02:44.541Z"
   },
   {
    "duration": 29,
    "start_time": "2022-03-27T22:02:44.551Z"
   },
   {
    "duration": 11,
    "start_time": "2022-03-27T22:02:44.582Z"
   },
   {
    "duration": 5,
    "start_time": "2022-03-27T22:02:44.595Z"
   },
   {
    "duration": 21,
    "start_time": "2022-03-27T22:02:44.602Z"
   },
   {
    "duration": 15,
    "start_time": "2022-03-27T22:02:44.625Z"
   },
   {
    "duration": 6,
    "start_time": "2022-03-27T22:12:22.342Z"
   },
   {
    "duration": 26,
    "start_time": "2022-03-27T22:15:13.798Z"
   },
   {
    "duration": 7,
    "start_time": "2022-03-27T22:19:57.789Z"
   },
   {
    "duration": 161,
    "start_time": "2022-03-27T22:24:42.369Z"
   },
   {
    "duration": 21,
    "start_time": "2022-03-27T22:24:53.329Z"
   },
   {
    "duration": 20,
    "start_time": "2022-03-27T22:25:02.357Z"
   },
   {
    "duration": 25,
    "start_time": "2022-03-27T22:25:48.185Z"
   },
   {
    "duration": 21,
    "start_time": "2022-03-27T22:28:33.450Z"
   },
   {
    "duration": 20,
    "start_time": "2022-03-27T22:28:56.370Z"
   },
   {
    "duration": 14,
    "start_time": "2022-03-27T22:29:36.349Z"
   },
   {
    "duration": 13,
    "start_time": "2022-03-27T22:29:53.621Z"
   },
   {
    "duration": 1697,
    "start_time": "2022-03-27T22:30:03.277Z"
   },
   {
    "duration": 65,
    "start_time": "2022-03-27T22:30:04.976Z"
   },
   {
    "duration": 5,
    "start_time": "2022-03-27T22:30:05.044Z"
   },
   {
    "duration": 67,
    "start_time": "2022-03-27T22:30:05.051Z"
   },
   {
    "duration": 28,
    "start_time": "2022-03-27T22:30:05.121Z"
   },
   {
    "duration": 16,
    "start_time": "2022-03-27T22:30:05.174Z"
   },
   {
    "duration": 43,
    "start_time": "2022-03-27T22:30:05.192Z"
   },
   {
    "duration": 4,
    "start_time": "2022-03-27T22:30:05.237Z"
   },
   {
    "duration": 413,
    "start_time": "2022-03-27T22:30:05.243Z"
   },
   {
    "duration": 39,
    "start_time": "2022-03-27T22:30:05.658Z"
   },
   {
    "duration": 13,
    "start_time": "2022-03-27T22:30:05.699Z"
   },
   {
    "duration": 368,
    "start_time": "2022-03-27T22:30:05.714Z"
   },
   {
    "duration": 1250,
    "start_time": "2022-03-27T22:30:06.084Z"
   },
   {
    "duration": 877,
    "start_time": "2022-03-27T22:30:07.338Z"
   },
   {
    "duration": 1318,
    "start_time": "2022-03-27T22:30:08.217Z"
   },
   {
    "duration": 1551,
    "start_time": "2022-03-27T22:30:09.537Z"
   },
   {
    "duration": 149,
    "start_time": "2022-03-27T22:30:11.090Z"
   },
   {
    "duration": 14,
    "start_time": "2022-03-27T22:30:11.241Z"
   },
   {
    "duration": 14,
    "start_time": "2022-03-27T22:30:11.273Z"
   },
   {
    "duration": 27,
    "start_time": "2022-03-27T22:30:11.290Z"
   },
   {
    "duration": 706,
    "start_time": "2022-03-27T22:30:11.319Z"
   },
   {
    "duration": 185,
    "start_time": "2022-03-27T22:30:12.027Z"
   },
   {
    "duration": 11,
    "start_time": "2022-03-27T22:30:12.214Z"
   },
   {
    "duration": 17,
    "start_time": "2022-03-27T22:30:12.227Z"
   },
   {
    "duration": 38,
    "start_time": "2022-03-27T22:30:12.246Z"
   },
   {
    "duration": 25,
    "start_time": "2022-03-27T22:30:12.286Z"
   },
   {
    "duration": 16,
    "start_time": "2022-03-27T22:30:12.313Z"
   },
   {
    "duration": 26,
    "start_time": "2022-03-27T22:30:12.331Z"
   },
   {
    "duration": 39,
    "start_time": "2022-03-27T22:30:12.359Z"
   },
   {
    "duration": 1583,
    "start_time": "2022-03-27T22:34:40.574Z"
   },
   {
    "duration": 67,
    "start_time": "2022-03-27T22:34:42.159Z"
   },
   {
    "duration": 5,
    "start_time": "2022-03-27T22:34:42.228Z"
   },
   {
    "duration": 65,
    "start_time": "2022-03-27T22:34:42.235Z"
   },
   {
    "duration": 24,
    "start_time": "2022-03-27T22:34:42.304Z"
   },
   {
    "duration": 44,
    "start_time": "2022-03-27T22:34:42.331Z"
   },
   {
    "duration": 35,
    "start_time": "2022-03-27T22:34:42.377Z"
   },
   {
    "duration": 4,
    "start_time": "2022-03-27T22:34:42.414Z"
   },
   {
    "duration": 407,
    "start_time": "2022-03-27T22:34:42.420Z"
   },
   {
    "duration": 31,
    "start_time": "2022-03-27T22:34:42.829Z"
   },
   {
    "duration": 6,
    "start_time": "2022-03-27T22:34:42.874Z"
   },
   {
    "duration": 301,
    "start_time": "2022-03-27T22:34:42.882Z"
   },
   {
    "duration": 1218,
    "start_time": "2022-03-27T22:34:43.185Z"
   },
   {
    "duration": 788,
    "start_time": "2022-03-27T22:34:44.407Z"
   },
   {
    "duration": 1319,
    "start_time": "2022-03-27T22:34:45.197Z"
   },
   {
    "duration": 1483,
    "start_time": "2022-03-27T22:34:46.518Z"
   },
   {
    "duration": 141,
    "start_time": "2022-03-27T22:34:48.003Z"
   },
   {
    "duration": 14,
    "start_time": "2022-03-27T22:34:48.147Z"
   },
   {
    "duration": 13,
    "start_time": "2022-03-27T22:34:48.175Z"
   },
   {
    "duration": 10,
    "start_time": "2022-03-27T22:34:48.190Z"
   },
   {
    "duration": 701,
    "start_time": "2022-03-27T22:34:48.203Z"
   },
   {
    "duration": 189,
    "start_time": "2022-03-27T22:34:48.906Z"
   },
   {
    "duration": 11,
    "start_time": "2022-03-27T22:34:49.097Z"
   },
   {
    "duration": 10,
    "start_time": "2022-03-27T22:34:49.110Z"
   },
   {
    "duration": 85,
    "start_time": "2022-03-27T22:34:49.122Z"
   },
   {
    "duration": 0,
    "start_time": "2022-03-27T22:34:49.209Z"
   },
   {
    "duration": 1,
    "start_time": "2022-03-27T22:34:49.210Z"
   },
   {
    "duration": 0,
    "start_time": "2022-03-27T22:34:49.212Z"
   },
   {
    "duration": 0,
    "start_time": "2022-03-27T22:34:49.213Z"
   },
   {
    "duration": 156,
    "start_time": "2022-03-27T22:35:34.660Z"
   },
   {
    "duration": 15,
    "start_time": "2022-03-27T22:35:57.523Z"
   },
   {
    "duration": 25,
    "start_time": "2022-03-27T22:37:00.595Z"
   },
   {
    "duration": 10,
    "start_time": "2022-03-27T22:39:29.995Z"
   },
   {
    "duration": 15,
    "start_time": "2022-03-27T22:40:11.655Z"
   },
   {
    "duration": 17,
    "start_time": "2022-03-27T22:40:27.934Z"
   },
   {
    "duration": 14,
    "start_time": "2022-03-27T22:40:41.315Z"
   },
   {
    "duration": 16,
    "start_time": "2022-03-27T22:40:50.543Z"
   },
   {
    "duration": 12,
    "start_time": "2022-03-27T22:41:02.715Z"
   },
   {
    "duration": 6,
    "start_time": "2022-03-27T22:41:03.495Z"
   },
   {
    "duration": 6,
    "start_time": "2022-03-27T22:41:04.175Z"
   },
   {
    "duration": 26,
    "start_time": "2022-03-27T22:41:05.495Z"
   },
   {
    "duration": 1693,
    "start_time": "2022-03-27T22:42:16.121Z"
   },
   {
    "duration": 95,
    "start_time": "2022-03-27T22:42:17.817Z"
   },
   {
    "duration": 6,
    "start_time": "2022-03-27T22:42:17.915Z"
   },
   {
    "duration": 105,
    "start_time": "2022-03-27T22:42:17.923Z"
   },
   {
    "duration": 59,
    "start_time": "2022-03-27T22:42:18.033Z"
   },
   {
    "duration": 16,
    "start_time": "2022-03-27T22:42:18.094Z"
   },
   {
    "duration": 35,
    "start_time": "2022-03-27T22:42:18.113Z"
   },
   {
    "duration": 4,
    "start_time": "2022-03-27T22:42:18.174Z"
   },
   {
    "duration": 396,
    "start_time": "2022-03-27T22:42:18.180Z"
   },
   {
    "duration": 31,
    "start_time": "2022-03-27T22:42:18.578Z"
   },
   {
    "duration": 6,
    "start_time": "2022-03-27T22:42:18.611Z"
   },
   {
    "duration": 317,
    "start_time": "2022-03-27T22:42:18.619Z"
   },
   {
    "duration": 1208,
    "start_time": "2022-03-27T22:42:18.939Z"
   },
   {
    "duration": 752,
    "start_time": "2022-03-27T22:42:20.151Z"
   },
   {
    "duration": 1279,
    "start_time": "2022-03-27T22:42:20.905Z"
   },
   {
    "duration": 1590,
    "start_time": "2022-03-27T22:42:22.187Z"
   },
   {
    "duration": 139,
    "start_time": "2022-03-27T22:42:23.779Z"
   },
   {
    "duration": 13,
    "start_time": "2022-03-27T22:42:23.921Z"
   },
   {
    "duration": 37,
    "start_time": "2022-03-27T22:42:23.936Z"
   },
   {
    "duration": 12,
    "start_time": "2022-03-27T22:42:23.975Z"
   },
   {
    "duration": 700,
    "start_time": "2022-03-27T22:42:23.989Z"
   },
   {
    "duration": 216,
    "start_time": "2022-03-27T22:42:24.692Z"
   },
   {
    "duration": 13,
    "start_time": "2022-03-27T22:42:24.910Z"
   },
   {
    "duration": 7,
    "start_time": "2022-03-27T22:42:24.925Z"
   },
   {
    "duration": 22,
    "start_time": "2022-03-27T22:42:24.934Z"
   },
   {
    "duration": 16,
    "start_time": "2022-03-27T22:42:24.958Z"
   },
   {
    "duration": 6,
    "start_time": "2022-03-27T22:42:24.976Z"
   },
   {
    "duration": 6,
    "start_time": "2022-03-27T22:42:24.984Z"
   },
   {
    "duration": 27,
    "start_time": "2022-03-27T22:42:24.992Z"
   },
   {
    "duration": 10,
    "start_time": "2022-03-27T22:43:17.583Z"
   },
   {
    "duration": 13,
    "start_time": "2022-03-27T22:43:19.019Z"
   },
   {
    "duration": 7,
    "start_time": "2022-03-27T22:43:19.839Z"
   },
   {
    "duration": 7,
    "start_time": "2022-03-27T22:43:21.127Z"
   },
   {
    "duration": 26,
    "start_time": "2022-03-27T22:43:21.699Z"
   },
   {
    "duration": 153,
    "start_time": "2022-03-27T22:45:20.688Z"
   },
   {
    "duration": 17,
    "start_time": "2022-03-27T22:46:08.470Z"
   },
   {
    "duration": 16,
    "start_time": "2022-03-27T22:47:10.498Z"
   },
   {
    "duration": 1608,
    "start_time": "2022-03-27T23:09:14.768Z"
   },
   {
    "duration": 69,
    "start_time": "2022-03-27T23:09:16.379Z"
   },
   {
    "duration": 5,
    "start_time": "2022-03-27T23:09:16.450Z"
   },
   {
    "duration": 57,
    "start_time": "2022-03-27T23:09:16.457Z"
   },
   {
    "duration": 26,
    "start_time": "2022-03-27T23:09:16.517Z"
   },
   {
    "duration": 40,
    "start_time": "2022-03-27T23:09:16.545Z"
   },
   {
    "duration": 40,
    "start_time": "2022-03-27T23:09:16.587Z"
   },
   {
    "duration": 4,
    "start_time": "2022-03-27T23:09:16.629Z"
   },
   {
    "duration": 447,
    "start_time": "2022-03-27T23:09:16.635Z"
   },
   {
    "duration": 33,
    "start_time": "2022-03-27T23:09:17.084Z"
   },
   {
    "duration": 5,
    "start_time": "2022-03-27T23:09:17.119Z"
   },
   {
    "duration": 347,
    "start_time": "2022-03-27T23:09:17.127Z"
   },
   {
    "duration": 1247,
    "start_time": "2022-03-27T23:09:17.476Z"
   },
   {
    "duration": 815,
    "start_time": "2022-03-27T23:09:18.727Z"
   },
   {
    "duration": 1283,
    "start_time": "2022-03-27T23:09:19.544Z"
   },
   {
    "duration": 1545,
    "start_time": "2022-03-27T23:09:20.829Z"
   },
   {
    "duration": 145,
    "start_time": "2022-03-27T23:09:22.376Z"
   },
   {
    "duration": 15,
    "start_time": "2022-03-27T23:09:22.523Z"
   },
   {
    "duration": 34,
    "start_time": "2022-03-27T23:09:22.541Z"
   },
   {
    "duration": 12,
    "start_time": "2022-03-27T23:09:22.577Z"
   },
   {
    "duration": 717,
    "start_time": "2022-03-27T23:09:22.591Z"
   },
   {
    "duration": 197,
    "start_time": "2022-03-27T23:09:23.310Z"
   },
   {
    "duration": 11,
    "start_time": "2022-03-27T23:09:23.509Z"
   },
   {
    "duration": 18,
    "start_time": "2022-03-27T23:09:23.522Z"
   },
   {
    "duration": 11,
    "start_time": "2022-03-27T23:09:23.542Z"
   },
   {
    "duration": 6,
    "start_time": "2022-03-27T23:09:23.555Z"
   },
   {
    "duration": 5,
    "start_time": "2022-03-27T23:09:23.574Z"
   },
   {
    "duration": 19,
    "start_time": "2022-03-27T23:09:23.581Z"
   },
   {
    "duration": 17,
    "start_time": "2022-03-27T23:12:00.733Z"
   },
   {
    "duration": 10,
    "start_time": "2022-03-27T23:12:12.233Z"
   },
   {
    "duration": 173,
    "start_time": "2022-03-27T23:13:45.802Z"
   },
   {
    "duration": 15,
    "start_time": "2022-03-27T23:13:52.294Z"
   },
   {
    "duration": 16,
    "start_time": "2022-03-27T23:16:47.653Z"
   },
   {
    "duration": 11,
    "start_time": "2022-03-27T23:16:49.493Z"
   },
   {
    "duration": 25,
    "start_time": "2022-03-27T23:17:03.981Z"
   },
   {
    "duration": 13,
    "start_time": "2022-03-27T23:18:14.133Z"
   },
   {
    "duration": 11,
    "start_time": "2022-03-27T23:18:16.133Z"
   },
   {
    "duration": 489,
    "start_time": "2022-03-27T23:21:39.232Z"
   },
   {
    "duration": 533,
    "start_time": "2022-03-27T23:21:55.654Z"
   },
   {
    "duration": 36,
    "start_time": "2022-03-27T23:21:58.535Z"
   },
   {
    "duration": 88,
    "start_time": "2022-03-27T23:22:59.181Z"
   },
   {
    "duration": 545,
    "start_time": "2022-03-27T23:23:12.813Z"
   },
   {
    "duration": 33,
    "start_time": "2022-03-27T23:23:13.673Z"
   },
   {
    "duration": 491,
    "start_time": "2022-03-27T23:23:30.353Z"
   },
   {
    "duration": 480,
    "start_time": "2022-03-27T23:24:00.193Z"
   },
   {
    "duration": 487,
    "start_time": "2022-03-27T23:24:10.974Z"
   },
   {
    "duration": 19,
    "start_time": "2022-03-27T23:25:19.282Z"
   },
   {
    "duration": 10,
    "start_time": "2022-03-27T23:25:20.394Z"
   },
   {
    "duration": 18,
    "start_time": "2022-03-27T23:26:18.345Z"
   },
   {
    "duration": 12,
    "start_time": "2022-03-27T23:26:39.061Z"
   },
   {
    "duration": 12,
    "start_time": "2022-03-27T23:26:50.553Z"
   },
   {
    "duration": 20,
    "start_time": "2022-03-27T23:29:12.781Z"
   },
   {
    "duration": 345,
    "start_time": "2022-03-27T23:30:27.893Z"
   },
   {
    "duration": 283,
    "start_time": "2022-03-27T23:31:22.366Z"
   },
   {
    "duration": 343,
    "start_time": "2022-03-27T23:31:35.574Z"
   },
   {
    "duration": 19,
    "start_time": "2022-03-27T23:32:18.410Z"
   },
   {
    "duration": 5,
    "start_time": "2022-03-27T23:32:53.813Z"
   },
   {
    "duration": 18,
    "start_time": "2022-03-27T23:33:00.693Z"
   },
   {
    "duration": 361,
    "start_time": "2022-03-27T23:33:11.321Z"
   },
   {
    "duration": 263,
    "start_time": "2022-03-27T23:33:30.083Z"
   },
   {
    "duration": 288,
    "start_time": "2022-03-27T23:33:36.973Z"
   },
   {
    "duration": 432,
    "start_time": "2022-03-27T23:33:43.721Z"
   },
   {
    "duration": 258,
    "start_time": "2022-03-27T23:33:54.893Z"
   },
   {
    "duration": 284,
    "start_time": "2022-03-27T23:36:58.033Z"
   },
   {
    "duration": 285,
    "start_time": "2022-03-27T23:38:14.293Z"
   },
   {
    "duration": 289,
    "start_time": "2022-03-27T23:38:47.968Z"
   },
   {
    "duration": 380,
    "start_time": "2022-03-27T23:41:13.597Z"
   },
   {
    "duration": 406,
    "start_time": "2022-03-27T23:41:29.734Z"
   },
   {
    "duration": 367,
    "start_time": "2022-03-27T23:42:34.533Z"
   },
   {
    "duration": 13,
    "start_time": "2022-03-27T23:44:04.234Z"
   },
   {
    "duration": 6,
    "start_time": "2022-03-27T23:44:05.013Z"
   },
   {
    "duration": 268,
    "start_time": "2022-03-27T23:44:05.893Z"
   },
   {
    "duration": 49,
    "start_time": "2022-03-27T23:48:22.141Z"
   },
   {
    "duration": 1345,
    "start_time": "2022-03-27T23:48:43.533Z"
   },
   {
    "duration": 18,
    "start_time": "2022-03-27T23:48:52.693Z"
   },
   {
    "duration": 17,
    "start_time": "2022-03-27T23:49:34.613Z"
   },
   {
    "duration": 49,
    "start_time": "2022-03-27T23:49:59.693Z"
   },
   {
    "duration": 12,
    "start_time": "2022-03-27T23:50:30.337Z"
   },
   {
    "duration": 1355,
    "start_time": "2022-03-28T18:58:21.338Z"
   },
   {
    "duration": 55,
    "start_time": "2022-03-28T18:58:22.695Z"
   },
   {
    "duration": 3,
    "start_time": "2022-03-28T18:58:22.752Z"
   },
   {
    "duration": 37,
    "start_time": "2022-03-28T18:58:22.757Z"
   },
   {
    "duration": 18,
    "start_time": "2022-03-28T18:58:22.795Z"
   },
   {
    "duration": 11,
    "start_time": "2022-03-28T18:58:22.832Z"
   },
   {
    "duration": 25,
    "start_time": "2022-03-28T18:58:22.845Z"
   },
   {
    "duration": 3,
    "start_time": "2022-03-28T18:58:22.871Z"
   },
   {
    "duration": 233,
    "start_time": "2022-03-28T18:58:22.875Z"
   },
   {
    "duration": 32,
    "start_time": "2022-03-28T18:58:23.111Z"
   },
   {
    "duration": 4,
    "start_time": "2022-03-28T18:58:23.144Z"
   },
   {
    "duration": 179,
    "start_time": "2022-03-28T18:58:23.150Z"
   },
   {
    "duration": 709,
    "start_time": "2022-03-28T18:58:23.332Z"
   },
   {
    "duration": 453,
    "start_time": "2022-03-28T18:58:24.043Z"
   },
   {
    "duration": 877,
    "start_time": "2022-03-28T18:58:24.498Z"
   },
   {
    "duration": 793,
    "start_time": "2022-03-28T18:58:25.377Z"
   },
   {
    "duration": 124,
    "start_time": "2022-03-28T18:58:26.172Z"
   },
   {
    "duration": 0,
    "start_time": "2022-03-28T18:58:26.297Z"
   },
   {
    "duration": 0,
    "start_time": "2022-03-28T18:58:26.298Z"
   },
   {
    "duration": 0,
    "start_time": "2022-03-28T18:58:26.299Z"
   },
   {
    "duration": 0,
    "start_time": "2022-03-28T18:58:26.301Z"
   },
   {
    "duration": 0,
    "start_time": "2022-03-28T18:58:26.302Z"
   },
   {
    "duration": 0,
    "start_time": "2022-03-28T18:58:26.303Z"
   },
   {
    "duration": 0,
    "start_time": "2022-03-28T18:58:26.304Z"
   },
   {
    "duration": 0,
    "start_time": "2022-03-28T18:58:26.305Z"
   },
   {
    "duration": 0,
    "start_time": "2022-03-28T18:58:26.306Z"
   },
   {
    "duration": 0,
    "start_time": "2022-03-28T18:58:26.307Z"
   },
   {
    "duration": 0,
    "start_time": "2022-03-28T18:58:26.308Z"
   },
   {
    "duration": 0,
    "start_time": "2022-03-28T18:58:26.309Z"
   },
   {
    "duration": 0,
    "start_time": "2022-03-28T18:58:26.311Z"
   },
   {
    "duration": 0,
    "start_time": "2022-03-28T18:58:26.312Z"
   },
   {
    "duration": 0,
    "start_time": "2022-03-28T19:55:41.775Z"
   },
   {
    "duration": 0,
    "start_time": "2022-03-28T19:55:41.776Z"
   },
   {
    "duration": 0,
    "start_time": "2022-03-28T19:55:41.776Z"
   },
   {
    "duration": 0,
    "start_time": "2022-03-28T19:55:41.777Z"
   },
   {
    "duration": 0,
    "start_time": "2022-03-28T19:55:41.778Z"
   },
   {
    "duration": 0,
    "start_time": "2022-03-28T19:55:41.779Z"
   },
   {
    "duration": 0,
    "start_time": "2022-03-28T19:55:41.780Z"
   },
   {
    "duration": 0,
    "start_time": "2022-03-28T19:55:41.781Z"
   },
   {
    "duration": 0,
    "start_time": "2022-03-28T19:55:41.782Z"
   },
   {
    "duration": 0,
    "start_time": "2022-03-28T19:55:41.783Z"
   },
   {
    "duration": 0,
    "start_time": "2022-03-28T19:55:41.783Z"
   },
   {
    "duration": 0,
    "start_time": "2022-03-28T19:55:41.784Z"
   },
   {
    "duration": 0,
    "start_time": "2022-03-28T19:55:41.785Z"
   },
   {
    "duration": 0,
    "start_time": "2022-03-28T19:55:41.786Z"
   },
   {
    "duration": 0,
    "start_time": "2022-03-28T19:55:41.787Z"
   },
   {
    "duration": 0,
    "start_time": "2022-03-28T19:55:41.788Z"
   },
   {
    "duration": 0,
    "start_time": "2022-03-28T19:55:41.788Z"
   },
   {
    "duration": 0,
    "start_time": "2022-03-28T19:55:41.789Z"
   },
   {
    "duration": 0,
    "start_time": "2022-03-28T19:55:41.790Z"
   },
   {
    "duration": 0,
    "start_time": "2022-03-28T19:55:41.791Z"
   },
   {
    "duration": 0,
    "start_time": "2022-03-28T19:55:41.792Z"
   },
   {
    "duration": 0,
    "start_time": "2022-03-28T19:55:41.793Z"
   },
   {
    "duration": 0,
    "start_time": "2022-03-28T19:55:41.793Z"
   },
   {
    "duration": 0,
    "start_time": "2022-03-28T19:55:41.794Z"
   },
   {
    "duration": 0,
    "start_time": "2022-03-28T19:55:41.795Z"
   },
   {
    "duration": 0,
    "start_time": "2022-03-28T19:55:41.796Z"
   },
   {
    "duration": 0,
    "start_time": "2022-03-28T19:55:41.797Z"
   },
   {
    "duration": 0,
    "start_time": "2022-03-28T19:55:41.833Z"
   },
   {
    "duration": 0,
    "start_time": "2022-03-28T19:55:41.834Z"
   },
   {
    "duration": 0,
    "start_time": "2022-03-28T19:55:41.835Z"
   },
   {
    "duration": 0,
    "start_time": "2022-03-28T19:55:41.836Z"
   },
   {
    "duration": 1172,
    "start_time": "2022-03-28T19:58:51.585Z"
   },
   {
    "duration": 55,
    "start_time": "2022-03-28T19:58:52.759Z"
   },
   {
    "duration": 3,
    "start_time": "2022-03-28T19:58:52.816Z"
   },
   {
    "duration": 43,
    "start_time": "2022-03-28T19:58:52.821Z"
   },
   {
    "duration": 18,
    "start_time": "2022-03-28T19:58:52.867Z"
   },
   {
    "duration": 10,
    "start_time": "2022-03-28T19:58:52.887Z"
   },
   {
    "duration": 49,
    "start_time": "2022-03-28T19:58:52.899Z"
   },
   {
    "duration": 3,
    "start_time": "2022-03-28T19:58:52.950Z"
   },
   {
    "duration": 224,
    "start_time": "2022-03-28T19:58:52.955Z"
   },
   {
    "duration": 22,
    "start_time": "2022-03-28T19:58:53.181Z"
   },
   {
    "duration": 4,
    "start_time": "2022-03-28T19:58:53.205Z"
   },
   {
    "duration": 179,
    "start_time": "2022-03-28T19:58:53.211Z"
   },
   {
    "duration": 703,
    "start_time": "2022-03-28T19:58:53.392Z"
   },
   {
    "duration": 459,
    "start_time": "2022-03-28T19:58:54.099Z"
   },
   {
    "duration": 764,
    "start_time": "2022-03-28T19:58:54.560Z"
   },
   {
    "duration": 883,
    "start_time": "2022-03-28T19:58:55.326Z"
   },
   {
    "duration": 107,
    "start_time": "2022-03-28T19:58:56.211Z"
   },
   {
    "duration": 0,
    "start_time": "2022-03-28T19:58:56.320Z"
   },
   {
    "duration": 0,
    "start_time": "2022-03-28T19:58:56.321Z"
   },
   {
    "duration": 0,
    "start_time": "2022-03-28T19:58:56.322Z"
   },
   {
    "duration": 0,
    "start_time": "2022-03-28T19:58:56.323Z"
   },
   {
    "duration": 0,
    "start_time": "2022-03-28T19:58:56.325Z"
   },
   {
    "duration": 0,
    "start_time": "2022-03-28T19:58:56.326Z"
   },
   {
    "duration": 0,
    "start_time": "2022-03-28T19:58:56.327Z"
   },
   {
    "duration": 0,
    "start_time": "2022-03-28T19:58:56.328Z"
   },
   {
    "duration": 0,
    "start_time": "2022-03-28T19:58:56.330Z"
   },
   {
    "duration": 0,
    "start_time": "2022-03-28T19:58:56.331Z"
   },
   {
    "duration": 0,
    "start_time": "2022-03-28T19:58:56.332Z"
   },
   {
    "duration": 0,
    "start_time": "2022-03-28T19:58:56.333Z"
   },
   {
    "duration": 0,
    "start_time": "2022-03-28T19:58:56.334Z"
   },
   {
    "duration": 0,
    "start_time": "2022-03-28T19:58:56.335Z"
   },
   {
    "duration": 117,
    "start_time": "2022-03-28T19:59:07.771Z"
   },
   {
    "duration": 90,
    "start_time": "2022-03-28T19:59:28.451Z"
   },
   {
    "duration": 10,
    "start_time": "2022-03-28T19:59:30.904Z"
   },
   {
    "duration": 10,
    "start_time": "2022-03-28T19:59:31.924Z"
   },
   {
    "duration": 9,
    "start_time": "2022-03-28T19:59:32.545Z"
   },
   {
    "duration": 381,
    "start_time": "2022-03-28T19:59:33.558Z"
   },
   {
    "duration": 206,
    "start_time": "2022-03-28T19:59:34.324Z"
   },
   {
    "duration": 8,
    "start_time": "2022-03-28T19:59:35.529Z"
   },
   {
    "duration": 12,
    "start_time": "2022-03-28T19:59:36.324Z"
   },
   {
    "duration": 9,
    "start_time": "2022-03-28T19:59:37.166Z"
   },
   {
    "duration": 5,
    "start_time": "2022-03-28T19:59:40.684Z"
   },
   {
    "duration": 5,
    "start_time": "2022-03-28T19:59:41.284Z"
   },
   {
    "duration": 11,
    "start_time": "2022-03-28T19:59:41.903Z"
   },
   {
    "duration": 9,
    "start_time": "2022-03-28T19:59:43.445Z"
   },
   {
    "duration": 4,
    "start_time": "2022-03-28T19:59:45.729Z"
   },
   {
    "duration": 148,
    "start_time": "2022-03-28T19:59:46.472Z"
   },
   {
    "duration": 11,
    "start_time": "2022-03-28T20:20:46.985Z"
   },
   {
    "duration": 1224,
    "start_time": "2022-03-28T20:21:30.025Z"
   },
   {
    "duration": 54,
    "start_time": "2022-03-28T20:21:31.251Z"
   },
   {
    "duration": 4,
    "start_time": "2022-03-28T20:21:31.306Z"
   },
   {
    "duration": 45,
    "start_time": "2022-03-28T20:21:31.312Z"
   },
   {
    "duration": 18,
    "start_time": "2022-03-28T20:21:31.359Z"
   },
   {
    "duration": 11,
    "start_time": "2022-03-28T20:21:31.378Z"
   },
   {
    "duration": 51,
    "start_time": "2022-03-28T20:21:31.391Z"
   },
   {
    "duration": 3,
    "start_time": "2022-03-28T20:21:31.444Z"
   },
   {
    "duration": 212,
    "start_time": "2022-03-28T20:21:31.449Z"
   },
   {
    "duration": 24,
    "start_time": "2022-03-28T20:21:31.663Z"
   },
   {
    "duration": 4,
    "start_time": "2022-03-28T20:21:31.689Z"
   },
   {
    "duration": 186,
    "start_time": "2022-03-28T20:21:31.694Z"
   },
   {
    "duration": 739,
    "start_time": "2022-03-28T20:21:31.882Z"
   },
   {
    "duration": 461,
    "start_time": "2022-03-28T20:21:32.632Z"
   },
   {
    "duration": 776,
    "start_time": "2022-03-28T20:21:33.095Z"
   },
   {
    "duration": 882,
    "start_time": "2022-03-28T20:21:33.873Z"
   },
   {
    "duration": 95,
    "start_time": "2022-03-28T20:21:34.756Z"
   },
   {
    "duration": 9,
    "start_time": "2022-03-28T20:21:34.853Z"
   },
   {
    "duration": 14,
    "start_time": "2022-03-28T20:21:34.864Z"
   },
   {
    "duration": 401,
    "start_time": "2022-03-28T20:21:34.880Z"
   },
   {
    "duration": 183,
    "start_time": "2022-03-28T20:21:35.283Z"
   },
   {
    "duration": 9,
    "start_time": "2022-03-28T20:21:35.467Z"
   },
   {
    "duration": 14,
    "start_time": "2022-03-28T20:21:35.478Z"
   },
   {
    "duration": 12,
    "start_time": "2022-03-28T20:21:35.494Z"
   },
   {
    "duration": 8,
    "start_time": "2022-03-28T20:21:35.508Z"
   },
   {
    "duration": 7,
    "start_time": "2022-03-28T20:21:35.518Z"
   },
   {
    "duration": 17,
    "start_time": "2022-03-28T20:21:35.527Z"
   },
   {
    "duration": 8,
    "start_time": "2022-03-28T20:21:35.545Z"
   },
   {
    "duration": 4,
    "start_time": "2022-03-28T20:21:35.554Z"
   },
   {
    "duration": 160,
    "start_time": "2022-03-28T20:21:35.559Z"
   },
   {
    "duration": 5,
    "start_time": "2022-03-28T20:22:41.324Z"
   },
   {
    "duration": 12,
    "start_time": "2022-03-28T20:39:12.007Z"
   },
   {
    "duration": 3,
    "start_time": "2022-03-28T20:39:33.620Z"
   },
   {
    "duration": 46,
    "start_time": "2022-03-28T20:39:33.633Z"
   },
   {
    "duration": 3,
    "start_time": "2022-03-28T20:39:33.681Z"
   },
   {
    "duration": 36,
    "start_time": "2022-03-28T20:39:33.685Z"
   },
   {
    "duration": 18,
    "start_time": "2022-03-28T20:39:33.733Z"
   },
   {
    "duration": 11,
    "start_time": "2022-03-28T20:39:33.753Z"
   },
   {
    "duration": 29,
    "start_time": "2022-03-28T20:39:33.765Z"
   },
   {
    "duration": 3,
    "start_time": "2022-03-28T20:39:33.796Z"
   },
   {
    "duration": 232,
    "start_time": "2022-03-28T20:39:33.801Z"
   },
   {
    "duration": 22,
    "start_time": "2022-03-28T20:39:34.035Z"
   },
   {
    "duration": 4,
    "start_time": "2022-03-28T20:39:34.058Z"
   },
   {
    "duration": 181,
    "start_time": "2022-03-28T20:39:34.064Z"
   },
   {
    "duration": 689,
    "start_time": "2022-03-28T20:39:34.246Z"
   },
   {
    "duration": 453,
    "start_time": "2022-03-28T20:39:34.937Z"
   },
   {
    "duration": 881,
    "start_time": "2022-03-28T20:39:35.391Z"
   },
   {
    "duration": 809,
    "start_time": "2022-03-28T20:39:36.274Z"
   },
   {
    "duration": 95,
    "start_time": "2022-03-28T20:39:37.085Z"
   },
   {
    "duration": 9,
    "start_time": "2022-03-28T20:39:37.182Z"
   },
   {
    "duration": 11,
    "start_time": "2022-03-28T20:39:37.193Z"
   },
   {
    "duration": 401,
    "start_time": "2022-03-28T20:39:37.206Z"
   },
   {
    "duration": 175,
    "start_time": "2022-03-28T20:39:37.609Z"
   },
   {
    "duration": 8,
    "start_time": "2022-03-28T20:39:37.785Z"
   },
   {
    "duration": 16,
    "start_time": "2022-03-28T20:39:37.795Z"
   },
   {
    "duration": 9,
    "start_time": "2022-03-28T20:39:37.813Z"
   },
   {
    "duration": 9,
    "start_time": "2022-03-28T20:39:37.823Z"
   },
   {
    "duration": 8,
    "start_time": "2022-03-28T20:39:37.833Z"
   },
   {
    "duration": 19,
    "start_time": "2022-03-28T20:39:37.842Z"
   },
   {
    "duration": 19,
    "start_time": "2022-03-28T20:39:37.862Z"
   },
   {
    "duration": 6,
    "start_time": "2022-03-28T20:39:37.883Z"
   },
   {
    "duration": 275,
    "start_time": "2022-03-28T20:39:37.890Z"
   },
   {
    "duration": 13,
    "start_time": "2022-03-28T20:42:22.931Z"
   },
   {
    "duration": 13,
    "start_time": "2022-03-28T20:52:16.049Z"
   },
   {
    "duration": 112,
    "start_time": "2022-03-28T21:07:31.607Z"
   },
   {
    "duration": 4,
    "start_time": "2022-03-28T21:07:37.201Z"
   },
   {
    "duration": 6,
    "start_time": "2022-03-28T21:08:12.447Z"
   },
   {
    "duration": 7,
    "start_time": "2022-03-28T21:08:44.179Z"
   },
   {
    "duration": 1889,
    "start_time": "2022-03-28T21:10:22.587Z"
   },
   {
    "duration": 1732,
    "start_time": "2022-03-28T21:10:36.716Z"
   },
   {
    "duration": 15,
    "start_time": "2022-03-28T21:13:40.308Z"
   },
   {
    "duration": 7,
    "start_time": "2022-03-28T21:14:02.949Z"
   },
   {
    "duration": 9,
    "start_time": "2022-03-28T21:14:33.349Z"
   },
   {
    "duration": 11,
    "start_time": "2022-03-28T21:14:39.488Z"
   },
   {
    "duration": 17,
    "start_time": "2022-03-28T21:15:03.216Z"
   },
   {
    "duration": 12,
    "start_time": "2022-03-28T21:16:45.867Z"
   },
   {
    "duration": 6,
    "start_time": "2022-03-28T21:17:02.567Z"
   },
   {
    "duration": 1197,
    "start_time": "2022-03-28T21:17:11.251Z"
   },
   {
    "duration": 53,
    "start_time": "2022-03-28T21:17:12.450Z"
   },
   {
    "duration": 4,
    "start_time": "2022-03-28T21:17:12.506Z"
   },
   {
    "duration": 48,
    "start_time": "2022-03-28T21:17:12.512Z"
   },
   {
    "duration": 18,
    "start_time": "2022-03-28T21:17:12.561Z"
   },
   {
    "duration": 11,
    "start_time": "2022-03-28T21:17:12.581Z"
   },
   {
    "duration": 52,
    "start_time": "2022-03-28T21:17:12.594Z"
   },
   {
    "duration": 3,
    "start_time": "2022-03-28T21:17:12.648Z"
   },
   {
    "duration": 209,
    "start_time": "2022-03-28T21:17:12.652Z"
   },
   {
    "duration": 24,
    "start_time": "2022-03-28T21:17:12.862Z"
   },
   {
    "duration": 4,
    "start_time": "2022-03-28T21:17:12.888Z"
   },
   {
    "duration": 176,
    "start_time": "2022-03-28T21:17:12.893Z"
   },
   {
    "duration": 715,
    "start_time": "2022-03-28T21:17:13.072Z"
   },
   {
    "duration": 451,
    "start_time": "2022-03-28T21:17:13.788Z"
   },
   {
    "duration": 837,
    "start_time": "2022-03-28T21:17:14.241Z"
   },
   {
    "duration": 876,
    "start_time": "2022-03-28T21:17:15.080Z"
   },
   {
    "duration": 94,
    "start_time": "2022-03-28T21:17:15.958Z"
   },
   {
    "duration": 10,
    "start_time": "2022-03-28T21:17:16.054Z"
   },
   {
    "duration": 14,
    "start_time": "2022-03-28T21:17:16.066Z"
   },
   {
    "duration": 401,
    "start_time": "2022-03-28T21:17:16.081Z"
   },
   {
    "duration": 418,
    "start_time": "2022-03-28T21:17:16.483Z"
   },
   {
    "duration": 8,
    "start_time": "2022-03-28T21:17:16.903Z"
   },
   {
    "duration": 13,
    "start_time": "2022-03-28T21:17:16.912Z"
   },
   {
    "duration": 9,
    "start_time": "2022-03-28T21:17:16.927Z"
   },
   {
    "duration": 5,
    "start_time": "2022-03-28T21:17:16.937Z"
   },
   {
    "duration": 9,
    "start_time": "2022-03-28T21:17:16.944Z"
   },
   {
    "duration": 14,
    "start_time": "2022-03-28T21:17:16.955Z"
   },
   {
    "duration": 9,
    "start_time": "2022-03-28T21:17:16.971Z"
   },
   {
    "duration": 5,
    "start_time": "2022-03-28T21:17:16.982Z"
   },
   {
    "duration": 186,
    "start_time": "2022-03-28T21:17:16.988Z"
   },
   {
    "duration": 121,
    "start_time": "2022-03-28T21:17:17.176Z"
   },
   {
    "duration": 0,
    "start_time": "2022-03-28T21:17:17.298Z"
   },
   {
    "duration": 5,
    "start_time": "2022-03-28T21:17:48.972Z"
   },
   {
    "duration": 66,
    "start_time": "2022-03-28T21:17:48.978Z"
   },
   {
    "duration": 3,
    "start_time": "2022-03-28T21:17:49.046Z"
   },
   {
    "duration": 37,
    "start_time": "2022-03-28T21:17:49.051Z"
   },
   {
    "duration": 18,
    "start_time": "2022-03-28T21:17:49.089Z"
   },
   {
    "duration": 33,
    "start_time": "2022-03-28T21:17:49.109Z"
   },
   {
    "duration": 27,
    "start_time": "2022-03-28T21:17:49.143Z"
   },
   {
    "duration": 3,
    "start_time": "2022-03-28T21:17:49.172Z"
   },
   {
    "duration": 225,
    "start_time": "2022-03-28T21:17:49.180Z"
   },
   {
    "duration": 32,
    "start_time": "2022-03-28T21:17:49.407Z"
   },
   {
    "duration": 5,
    "start_time": "2022-03-28T21:17:49.441Z"
   },
   {
    "duration": 174,
    "start_time": "2022-03-28T21:17:49.448Z"
   },
   {
    "duration": 724,
    "start_time": "2022-03-28T21:17:49.624Z"
   },
   {
    "duration": 466,
    "start_time": "2022-03-28T21:17:50.350Z"
   },
   {
    "duration": 882,
    "start_time": "2022-03-28T21:17:50.818Z"
   },
   {
    "duration": 811,
    "start_time": "2022-03-28T21:17:51.702Z"
   },
   {
    "duration": 98,
    "start_time": "2022-03-28T21:17:52.514Z"
   },
   {
    "duration": 20,
    "start_time": "2022-03-28T21:17:52.614Z"
   },
   {
    "duration": 11,
    "start_time": "2022-03-28T21:17:52.636Z"
   },
   {
    "duration": 399,
    "start_time": "2022-03-28T21:17:52.648Z"
   },
   {
    "duration": 2840,
    "start_time": "2022-03-28T21:17:53.049Z"
   },
   {
    "duration": 9,
    "start_time": "2022-03-28T21:17:55.891Z"
   },
   {
    "duration": 14,
    "start_time": "2022-03-28T21:17:55.901Z"
   },
   {
    "duration": 9,
    "start_time": "2022-03-28T21:17:55.916Z"
   },
   {
    "duration": 7,
    "start_time": "2022-03-28T21:17:55.927Z"
   },
   {
    "duration": 7,
    "start_time": "2022-03-28T21:17:55.936Z"
   },
   {
    "duration": 14,
    "start_time": "2022-03-28T21:17:55.945Z"
   },
   {
    "duration": 15,
    "start_time": "2022-03-28T21:17:55.960Z"
   },
   {
    "duration": 5,
    "start_time": "2022-03-28T21:17:55.977Z"
   },
   {
    "duration": 270,
    "start_time": "2022-03-28T21:17:55.984Z"
   },
   {
    "duration": 7,
    "start_time": "2022-03-28T21:17:56.255Z"
   },
   {
    "duration": 14,
    "start_time": "2022-03-28T21:17:56.263Z"
   },
   {
    "duration": 6,
    "start_time": "2022-03-28T21:19:04.691Z"
   },
   {
    "duration": 5,
    "start_time": "2022-03-28T21:19:29.171Z"
   },
   {
    "duration": 7,
    "start_time": "2022-03-28T21:20:32.350Z"
   },
   {
    "duration": 6,
    "start_time": "2022-03-28T21:25:07.176Z"
   },
   {
    "duration": 14,
    "start_time": "2022-03-28T21:25:18.016Z"
   },
   {
    "duration": 267,
    "start_time": "2022-03-28T21:28:15.327Z"
   },
   {
    "duration": 287,
    "start_time": "2022-03-28T21:28:38.336Z"
   },
   {
    "duration": 278,
    "start_time": "2022-03-28T21:29:33.235Z"
   },
   {
    "duration": 281,
    "start_time": "2022-03-28T21:29:41.579Z"
   },
   {
    "duration": 305,
    "start_time": "2022-03-28T21:32:23.516Z"
   },
   {
    "duration": 303,
    "start_time": "2022-03-28T21:34:35.605Z"
   },
   {
    "duration": 375,
    "start_time": "2022-03-28T21:35:02.732Z"
   },
   {
    "duration": 151,
    "start_time": "2022-03-28T21:35:25.292Z"
   },
   {
    "duration": 253,
    "start_time": "2022-03-28T21:35:52.126Z"
   },
   {
    "duration": 1178,
    "start_time": "2022-03-28T21:36:28.084Z"
   },
   {
    "duration": 60,
    "start_time": "2022-03-28T21:36:29.264Z"
   },
   {
    "duration": 7,
    "start_time": "2022-03-28T21:36:29.325Z"
   },
   {
    "duration": 40,
    "start_time": "2022-03-28T21:36:29.334Z"
   },
   {
    "duration": 19,
    "start_time": "2022-03-28T21:36:29.376Z"
   },
   {
    "duration": 12,
    "start_time": "2022-03-28T21:36:29.396Z"
   },
   {
    "duration": 25,
    "start_time": "2022-03-28T21:36:29.433Z"
   },
   {
    "duration": 3,
    "start_time": "2022-03-28T21:36:29.460Z"
   },
   {
    "duration": 222,
    "start_time": "2022-03-28T21:36:29.465Z"
   },
   {
    "duration": 21,
    "start_time": "2022-03-28T21:36:29.689Z"
   },
   {
    "duration": 4,
    "start_time": "2022-03-28T21:36:29.712Z"
   },
   {
    "duration": 192,
    "start_time": "2022-03-28T21:36:29.717Z"
   },
   {
    "duration": 724,
    "start_time": "2022-03-28T21:36:29.910Z"
   },
   {
    "duration": 454,
    "start_time": "2022-03-28T21:36:30.638Z"
   },
   {
    "duration": 825,
    "start_time": "2022-03-28T21:36:31.094Z"
   },
   {
    "duration": 920,
    "start_time": "2022-03-28T21:36:31.921Z"
   },
   {
    "duration": 107,
    "start_time": "2022-03-28T21:36:32.842Z"
   },
   {
    "duration": 10,
    "start_time": "2022-03-28T21:36:32.951Z"
   },
   {
    "duration": 15,
    "start_time": "2022-03-28T21:36:32.962Z"
   },
   {
    "duration": 407,
    "start_time": "2022-03-28T21:36:32.979Z"
   },
   {
    "duration": 382,
    "start_time": "2022-03-28T21:36:33.387Z"
   },
   {
    "duration": 8,
    "start_time": "2022-03-28T21:36:33.771Z"
   },
   {
    "duration": 13,
    "start_time": "2022-03-28T21:36:33.781Z"
   },
   {
    "duration": 8,
    "start_time": "2022-03-28T21:36:33.796Z"
   },
   {
    "duration": 4,
    "start_time": "2022-03-28T21:36:33.806Z"
   },
   {
    "duration": 9,
    "start_time": "2022-03-28T21:36:33.812Z"
   },
   {
    "duration": 15,
    "start_time": "2022-03-28T21:36:33.822Z"
   },
   {
    "duration": 8,
    "start_time": "2022-03-28T21:36:33.839Z"
   },
   {
    "duration": 7,
    "start_time": "2022-03-28T21:36:33.849Z"
   },
   {
    "duration": 159,
    "start_time": "2022-03-28T21:36:33.858Z"
   },
   {
    "duration": 16,
    "start_time": "2022-03-28T21:36:34.019Z"
   },
   {
    "duration": 369,
    "start_time": "2022-03-28T21:36:34.036Z"
   },
   {
    "duration": 249,
    "start_time": "2022-03-28T21:36:34.407Z"
   },
   {
    "duration": 1063,
    "start_time": "2022-03-28T21:39:04.814Z"
   },
   {
    "duration": 858,
    "start_time": "2022-03-28T21:39:20.493Z"
   },
   {
    "duration": 871,
    "start_time": "2022-03-28T21:39:47.732Z"
   },
   {
    "duration": 476,
    "start_time": "2022-03-28T21:44:03.574Z"
   },
   {
    "duration": 342,
    "start_time": "2022-03-28T21:44:21.652Z"
   },
   {
    "duration": 336,
    "start_time": "2022-03-28T21:58:51.697Z"
   },
   {
    "duration": 1443,
    "start_time": "2022-03-29T18:33:16.099Z"
   },
   {
    "duration": 52,
    "start_time": "2022-03-29T18:33:17.545Z"
   },
   {
    "duration": 4,
    "start_time": "2022-03-29T18:33:17.599Z"
   },
   {
    "duration": 46,
    "start_time": "2022-03-29T18:33:17.605Z"
   },
   {
    "duration": 18,
    "start_time": "2022-03-29T18:33:17.652Z"
   },
   {
    "duration": 11,
    "start_time": "2022-03-29T18:33:17.671Z"
   },
   {
    "duration": 28,
    "start_time": "2022-03-29T18:33:17.683Z"
   },
   {
    "duration": 3,
    "start_time": "2022-03-29T18:33:17.737Z"
   },
   {
    "duration": 225,
    "start_time": "2022-03-29T18:33:17.742Z"
   },
   {
    "duration": 23,
    "start_time": "2022-03-29T18:33:17.969Z"
   },
   {
    "duration": 4,
    "start_time": "2022-03-29T18:33:17.994Z"
   },
   {
    "duration": 190,
    "start_time": "2022-03-29T18:33:17.999Z"
   },
   {
    "duration": 766,
    "start_time": "2022-03-29T18:33:18.191Z"
   },
   {
    "duration": 467,
    "start_time": "2022-03-29T18:33:18.959Z"
   },
   {
    "duration": 966,
    "start_time": "2022-03-29T18:33:19.428Z"
   },
   {
    "duration": 851,
    "start_time": "2022-03-29T18:33:20.395Z"
   },
   {
    "duration": 92,
    "start_time": "2022-03-29T18:33:21.248Z"
   },
   {
    "duration": 9,
    "start_time": "2022-03-29T18:33:21.342Z"
   },
   {
    "duration": 13,
    "start_time": "2022-03-29T18:33:21.352Z"
   },
   {
    "duration": 426,
    "start_time": "2022-03-29T18:33:21.367Z"
   },
   {
    "duration": 202,
    "start_time": "2022-03-29T18:33:21.794Z"
   },
   {
    "duration": 8,
    "start_time": "2022-03-29T18:33:21.998Z"
   },
   {
    "duration": 13,
    "start_time": "2022-03-29T18:33:22.007Z"
   },
   {
    "duration": 8,
    "start_time": "2022-03-29T18:33:22.022Z"
   },
   {
    "duration": 5,
    "start_time": "2022-03-29T18:33:22.032Z"
   },
   {
    "duration": 16,
    "start_time": "2022-03-29T18:33:22.038Z"
   },
   {
    "duration": 13,
    "start_time": "2022-03-29T18:33:22.056Z"
   },
   {
    "duration": 8,
    "start_time": "2022-03-29T18:33:22.072Z"
   },
   {
    "duration": 401,
    "start_time": "2022-03-29T18:33:22.081Z"
   },
   {
    "duration": 368,
    "start_time": "2022-03-29T18:33:22.484Z"
   },
   {
    "duration": 45,
    "start_time": "2022-03-29T23:20:38.841Z"
   },
   {
    "duration": 1471,
    "start_time": "2022-03-29T23:20:54.581Z"
   },
   {
    "duration": 66,
    "start_time": "2022-03-29T23:20:56.054Z"
   },
   {
    "duration": 3,
    "start_time": "2022-03-29T23:20:56.122Z"
   },
   {
    "duration": 35,
    "start_time": "2022-03-29T23:20:56.127Z"
   },
   {
    "duration": 36,
    "start_time": "2022-03-29T23:20:56.165Z"
   },
   {
    "duration": 11,
    "start_time": "2022-03-29T23:20:56.202Z"
   },
   {
    "duration": 26,
    "start_time": "2022-03-29T23:20:56.214Z"
   },
   {
    "duration": 3,
    "start_time": "2022-03-29T23:20:56.241Z"
   },
   {
    "duration": 242,
    "start_time": "2022-03-29T23:20:56.246Z"
   },
   {
    "duration": 30,
    "start_time": "2022-03-29T23:20:56.489Z"
   },
   {
    "duration": 4,
    "start_time": "2022-03-29T23:20:56.521Z"
   },
   {
    "duration": 175,
    "start_time": "2022-03-29T23:20:56.526Z"
   },
   {
    "duration": 694,
    "start_time": "2022-03-29T23:20:56.703Z"
   },
   {
    "duration": 426,
    "start_time": "2022-03-29T23:20:57.400Z"
   },
   {
    "duration": 889,
    "start_time": "2022-03-29T23:20:57.828Z"
   },
   {
    "duration": 788,
    "start_time": "2022-03-29T23:20:58.719Z"
   },
   {
    "duration": 93,
    "start_time": "2022-03-29T23:20:59.509Z"
   },
   {
    "duration": 9,
    "start_time": "2022-03-29T23:20:59.603Z"
   },
   {
    "duration": 9,
    "start_time": "2022-03-29T23:20:59.614Z"
   },
   {
    "duration": 400,
    "start_time": "2022-03-29T23:20:59.624Z"
   },
   {
    "duration": 251,
    "start_time": "2022-03-29T23:21:00.025Z"
   },
   {
    "duration": 8,
    "start_time": "2022-03-29T23:21:00.278Z"
   },
   {
    "duration": 13,
    "start_time": "2022-03-29T23:21:00.288Z"
   },
   {
    "duration": 9,
    "start_time": "2022-03-29T23:21:00.303Z"
   },
   {
    "duration": 9,
    "start_time": "2022-03-29T23:21:00.313Z"
   },
   {
    "duration": 15,
    "start_time": "2022-03-29T23:21:00.323Z"
   },
   {
    "duration": 25,
    "start_time": "2022-03-29T23:21:00.339Z"
   },
   {
    "duration": 13,
    "start_time": "2022-03-29T23:21:00.365Z"
   },
   {
    "duration": 366,
    "start_time": "2022-03-29T23:21:00.380Z"
   },
   {
    "duration": 348,
    "start_time": "2022-03-29T23:21:00.748Z"
   },
   {
    "duration": 235,
    "start_time": "2022-03-29T23:39:58.641Z"
   },
   {
    "duration": 1372,
    "start_time": "2022-03-29T23:42:15.664Z"
   },
   {
    "duration": 62,
    "start_time": "2022-03-29T23:42:17.038Z"
   },
   {
    "duration": 3,
    "start_time": "2022-03-29T23:42:17.102Z"
   },
   {
    "duration": 35,
    "start_time": "2022-03-29T23:42:17.107Z"
   },
   {
    "duration": 17,
    "start_time": "2022-03-29T23:42:17.144Z"
   },
   {
    "duration": 11,
    "start_time": "2022-03-29T23:42:17.163Z"
   },
   {
    "duration": 50,
    "start_time": "2022-03-29T23:42:17.175Z"
   },
   {
    "duration": 4,
    "start_time": "2022-03-29T23:42:17.227Z"
   },
   {
    "duration": 239,
    "start_time": "2022-03-29T23:42:17.233Z"
   },
   {
    "duration": 27,
    "start_time": "2022-03-29T23:42:17.474Z"
   },
   {
    "duration": 4,
    "start_time": "2022-03-29T23:42:17.503Z"
   },
   {
    "duration": 182,
    "start_time": "2022-03-29T23:42:17.508Z"
   },
   {
    "duration": 739,
    "start_time": "2022-03-29T23:42:17.692Z"
   },
   {
    "duration": 484,
    "start_time": "2022-03-29T23:42:18.433Z"
   },
   {
    "duration": 793,
    "start_time": "2022-03-29T23:42:18.918Z"
   },
   {
    "duration": 899,
    "start_time": "2022-03-29T23:42:19.713Z"
   },
   {
    "duration": 100,
    "start_time": "2022-03-29T23:42:20.613Z"
   },
   {
    "duration": 9,
    "start_time": "2022-03-29T23:42:20.715Z"
   },
   {
    "duration": 10,
    "start_time": "2022-03-29T23:42:20.726Z"
   },
   {
    "duration": 420,
    "start_time": "2022-03-29T23:42:20.738Z"
   },
   {
    "duration": 236,
    "start_time": "2022-03-29T23:42:21.160Z"
   },
   {
    "duration": 9,
    "start_time": "2022-03-29T23:42:21.397Z"
   },
   {
    "duration": 11,
    "start_time": "2022-03-29T23:42:21.407Z"
   },
   {
    "duration": 8,
    "start_time": "2022-03-29T23:42:21.420Z"
   },
   {
    "duration": 6,
    "start_time": "2022-03-29T23:42:21.429Z"
   },
   {
    "duration": 7,
    "start_time": "2022-03-29T23:42:21.436Z"
   },
   {
    "duration": 11,
    "start_time": "2022-03-29T23:42:21.445Z"
   },
   {
    "duration": 7,
    "start_time": "2022-03-29T23:42:21.457Z"
   },
   {
    "duration": 392,
    "start_time": "2022-03-29T23:42:21.466Z"
   },
   {
    "duration": 345,
    "start_time": "2022-03-29T23:42:21.860Z"
   },
   {
    "duration": 2693,
    "start_time": "2022-03-30T06:14:10.197Z"
   },
   {
    "duration": 193,
    "start_time": "2022-03-30T06:14:12.892Z"
   },
   {
    "duration": 3,
    "start_time": "2022-03-30T06:14:13.087Z"
   },
   {
    "duration": 114,
    "start_time": "2022-03-30T06:14:13.092Z"
   },
   {
    "duration": 19,
    "start_time": "2022-03-30T06:14:13.280Z"
   },
   {
    "duration": 90,
    "start_time": "2022-03-30T06:14:13.301Z"
   },
   {
    "duration": 92,
    "start_time": "2022-03-30T06:14:13.393Z"
   },
   {
    "duration": 3,
    "start_time": "2022-03-30T06:14:13.487Z"
   },
   {
    "duration": 619,
    "start_time": "2022-03-30T06:14:13.491Z"
   },
   {
    "duration": 88,
    "start_time": "2022-03-30T06:14:14.112Z"
   },
   {
    "duration": 79,
    "start_time": "2022-03-30T06:14:14.202Z"
   },
   {
    "duration": 524,
    "start_time": "2022-03-30T06:14:14.282Z"
   },
   {
    "duration": 1519,
    "start_time": "2022-03-30T06:14:14.808Z"
   },
   {
    "duration": 428,
    "start_time": "2022-03-30T06:14:16.329Z"
   },
   {
    "duration": 809,
    "start_time": "2022-03-30T06:14:16.758Z"
   },
   {
    "duration": 794,
    "start_time": "2022-03-30T06:14:17.568Z"
   },
   {
    "duration": 81,
    "start_time": "2022-03-30T06:14:18.364Z"
   },
   {
    "duration": 10,
    "start_time": "2022-03-30T06:14:18.447Z"
   },
   {
    "duration": 23,
    "start_time": "2022-03-30T06:14:18.458Z"
   },
   {
    "duration": 387,
    "start_time": "2022-03-30T06:14:18.484Z"
   },
   {
    "duration": 268,
    "start_time": "2022-03-30T06:14:18.880Z"
   },
   {
    "duration": 8,
    "start_time": "2022-03-30T06:14:19.150Z"
   },
   {
    "duration": 15,
    "start_time": "2022-03-30T06:14:19.160Z"
   },
   {
    "duration": 8,
    "start_time": "2022-03-30T06:14:19.177Z"
   },
   {
    "duration": 5,
    "start_time": "2022-03-30T06:14:19.186Z"
   },
   {
    "duration": 5,
    "start_time": "2022-03-30T06:14:19.192Z"
   },
   {
    "duration": 11,
    "start_time": "2022-03-30T06:14:19.199Z"
   },
   {
    "duration": 6,
    "start_time": "2022-03-30T06:14:19.211Z"
   },
   {
    "duration": 363,
    "start_time": "2022-03-30T06:14:19.218Z"
   },
   {
    "duration": 334,
    "start_time": "2022-03-30T06:14:19.582Z"
   },
   {
    "duration": 1362,
    "start_time": "2022-03-31T15:48:54.905Z"
   },
   {
    "duration": 55,
    "start_time": "2022-03-31T15:48:56.269Z"
   },
   {
    "duration": 3,
    "start_time": "2022-03-31T15:48:56.326Z"
   },
   {
    "duration": 36,
    "start_time": "2022-03-31T15:48:56.331Z"
   },
   {
    "duration": 17,
    "start_time": "2022-03-31T15:48:56.369Z"
   },
   {
    "duration": 27,
    "start_time": "2022-03-31T15:48:56.387Z"
   },
   {
    "duration": 25,
    "start_time": "2022-03-31T15:48:56.416Z"
   },
   {
    "duration": 3,
    "start_time": "2022-03-31T15:48:56.443Z"
   },
   {
    "duration": 230,
    "start_time": "2022-03-31T15:48:56.447Z"
   },
   {
    "duration": 29,
    "start_time": "2022-03-31T15:48:56.680Z"
   },
   {
    "duration": 4,
    "start_time": "2022-03-31T15:48:56.710Z"
   },
   {
    "duration": 185,
    "start_time": "2022-03-31T15:48:56.715Z"
   },
   {
    "duration": 728,
    "start_time": "2022-03-31T15:48:56.902Z"
   },
   {
    "duration": 450,
    "start_time": "2022-03-31T15:48:57.631Z"
   },
   {
    "duration": 893,
    "start_time": "2022-03-31T15:48:58.083Z"
   },
   {
    "duration": 835,
    "start_time": "2022-03-31T15:48:58.977Z"
   },
   {
    "duration": 99,
    "start_time": "2022-03-31T15:48:59.814Z"
   },
   {
    "duration": 10,
    "start_time": "2022-03-31T15:48:59.914Z"
   },
   {
    "duration": 12,
    "start_time": "2022-03-31T15:48:59.926Z"
   },
   {
    "duration": 445,
    "start_time": "2022-03-31T15:48:59.940Z"
   },
   {
    "duration": 243,
    "start_time": "2022-03-31T15:49:00.387Z"
   },
   {
    "duration": 7,
    "start_time": "2022-03-31T15:49:00.632Z"
   },
   {
    "duration": 14,
    "start_time": "2022-03-31T15:49:00.641Z"
   },
   {
    "duration": 8,
    "start_time": "2022-03-31T15:49:00.657Z"
   },
   {
    "duration": 4,
    "start_time": "2022-03-31T15:49:00.667Z"
   },
   {
    "duration": 11,
    "start_time": "2022-03-31T15:49:00.674Z"
   },
   {
    "duration": 28,
    "start_time": "2022-03-31T15:49:00.687Z"
   },
   {
    "duration": 7,
    "start_time": "2022-03-31T15:49:00.718Z"
   },
   {
    "duration": 386,
    "start_time": "2022-03-31T15:49:00.727Z"
   },
   {
    "duration": 378,
    "start_time": "2022-03-31T15:49:01.114Z"
   },
   {
    "duration": 1235,
    "start_time": "2022-03-31T15:49:14.470Z"
   },
   {
    "duration": 51,
    "start_time": "2022-03-31T15:49:15.707Z"
   },
   {
    "duration": 4,
    "start_time": "2022-03-31T15:49:15.760Z"
   },
   {
    "duration": 52,
    "start_time": "2022-03-31T15:49:15.766Z"
   },
   {
    "duration": 17,
    "start_time": "2022-03-31T15:49:15.820Z"
   },
   {
    "duration": 10,
    "start_time": "2022-03-31T15:49:15.839Z"
   },
   {
    "duration": 34,
    "start_time": "2022-03-31T15:49:15.851Z"
   },
   {
    "duration": 3,
    "start_time": "2022-03-31T15:49:15.886Z"
   },
   {
    "duration": 232,
    "start_time": "2022-03-31T15:49:15.909Z"
   },
   {
    "duration": 24,
    "start_time": "2022-03-31T15:49:16.144Z"
   },
   {
    "duration": 4,
    "start_time": "2022-03-31T15:49:16.170Z"
   },
   {
    "duration": 194,
    "start_time": "2022-03-31T15:49:16.176Z"
   },
   {
    "duration": 770,
    "start_time": "2022-03-31T15:49:16.372Z"
   },
   {
    "duration": 473,
    "start_time": "2022-03-31T15:49:17.143Z"
   },
   {
    "duration": 888,
    "start_time": "2022-03-31T15:49:17.617Z"
   },
   {
    "duration": 960,
    "start_time": "2022-03-31T15:49:18.506Z"
   },
   {
    "duration": 96,
    "start_time": "2022-03-31T15:49:19.467Z"
   },
   {
    "duration": 9,
    "start_time": "2022-03-31T15:49:19.565Z"
   },
   {
    "duration": 10,
    "start_time": "2022-03-31T15:49:19.576Z"
   },
   {
    "duration": 442,
    "start_time": "2022-03-31T15:49:19.588Z"
   },
   {
    "duration": 233,
    "start_time": "2022-03-31T15:49:20.032Z"
   },
   {
    "duration": 7,
    "start_time": "2022-03-31T15:49:20.267Z"
   },
   {
    "duration": 12,
    "start_time": "2022-03-31T15:49:20.275Z"
   },
   {
    "duration": 8,
    "start_time": "2022-03-31T15:49:20.289Z"
   },
   {
    "duration": 5,
    "start_time": "2022-03-31T15:49:20.298Z"
   },
   {
    "duration": 7,
    "start_time": "2022-03-31T15:49:20.305Z"
   },
   {
    "duration": 12,
    "start_time": "2022-03-31T15:49:20.313Z"
   },
   {
    "duration": 6,
    "start_time": "2022-03-31T15:49:20.328Z"
   },
   {
    "duration": 382,
    "start_time": "2022-03-31T15:49:20.335Z"
   },
   {
    "duration": 364,
    "start_time": "2022-03-31T15:49:20.718Z"
   },
   {
    "duration": 4,
    "start_time": "2022-03-31T17:12:10.850Z"
   },
   {
    "duration": 113,
    "start_time": "2022-03-31T17:12:51.913Z"
   },
   {
    "duration": 8,
    "start_time": "2022-03-31T17:13:46.234Z"
   },
   {
    "duration": 1183,
    "start_time": "2022-03-31T17:13:54.652Z"
   },
   {
    "duration": 27,
    "start_time": "2022-03-31T17:14:02.722Z"
   },
   {
    "duration": 101,
    "start_time": "2022-03-31T17:27:42.974Z"
   },
   {
    "duration": 18,
    "start_time": "2022-03-31T17:27:51.009Z"
   },
   {
    "duration": 11,
    "start_time": "2022-03-31T17:28:09.422Z"
   },
   {
    "duration": 18,
    "start_time": "2022-03-31T17:28:37.099Z"
   },
   {
    "duration": 18,
    "start_time": "2022-03-31T17:33:20.929Z"
   },
   {
    "duration": 12,
    "start_time": "2022-03-31T17:33:56.488Z"
   },
   {
    "duration": 33,
    "start_time": "2022-03-31T17:36:09.648Z"
   },
   {
    "duration": 26,
    "start_time": "2022-03-31T17:36:35.710Z"
   },
   {
    "duration": 22,
    "start_time": "2022-03-31T17:47:37.594Z"
   },
   {
    "duration": 13,
    "start_time": "2022-03-31T17:48:08.908Z"
   },
   {
    "duration": 25,
    "start_time": "2022-03-31T17:48:14.599Z"
   },
   {
    "duration": 24,
    "start_time": "2022-03-31T17:48:45.378Z"
   },
   {
    "duration": 28,
    "start_time": "2022-03-31T17:49:22.600Z"
   },
   {
    "duration": 755,
    "start_time": "2022-03-31T17:49:40.888Z"
   },
   {
    "duration": 667,
    "start_time": "2022-03-31T17:50:19.898Z"
   },
   {
    "duration": 24,
    "start_time": "2022-03-31T17:58:49.057Z"
   },
   {
    "duration": 680,
    "start_time": "2022-03-31T17:59:04.192Z"
   },
   {
    "duration": 20,
    "start_time": "2022-03-31T18:13:01.799Z"
   },
   {
    "duration": 27,
    "start_time": "2022-03-31T18:13:14.185Z"
   },
   {
    "duration": 297,
    "start_time": "2022-03-31T18:13:39.832Z"
   },
   {
    "duration": 22,
    "start_time": "2022-03-31T18:14:26.910Z"
   },
   {
    "duration": 1353,
    "start_time": "2022-03-31T18:15:41.174Z"
   },
   {
    "duration": 22,
    "start_time": "2022-03-31T18:23:27.408Z"
   },
   {
    "duration": 22,
    "start_time": "2022-03-31T18:23:44.720Z"
   },
   {
    "duration": 15,
    "start_time": "2022-03-31T18:26:20.638Z"
   },
   {
    "duration": 29,
    "start_time": "2022-03-31T18:28:59.299Z"
   },
   {
    "duration": 30,
    "start_time": "2022-03-31T18:29:09.397Z"
   },
   {
    "duration": 1448,
    "start_time": "2022-03-31T18:29:53.418Z"
   },
   {
    "duration": 28,
    "start_time": "2022-03-31T18:30:49.240Z"
   },
   {
    "duration": 26,
    "start_time": "2022-03-31T18:31:28.789Z"
   },
   {
    "duration": 25,
    "start_time": "2022-03-31T18:31:49.246Z"
   },
   {
    "duration": 0,
    "start_time": "2022-03-31T18:33:08.513Z"
   },
   {
    "duration": 0,
    "start_time": "2022-03-31T18:33:08.515Z"
   },
   {
    "duration": 0,
    "start_time": "2022-03-31T18:33:08.516Z"
   },
   {
    "duration": 0,
    "start_time": "2022-03-31T18:33:08.517Z"
   },
   {
    "duration": 0,
    "start_time": "2022-03-31T18:33:08.519Z"
   },
   {
    "duration": 0,
    "start_time": "2022-03-31T18:33:08.521Z"
   },
   {
    "duration": 0,
    "start_time": "2022-03-31T18:33:08.522Z"
   },
   {
    "duration": 0,
    "start_time": "2022-03-31T18:33:08.523Z"
   },
   {
    "duration": 0,
    "start_time": "2022-03-31T18:33:08.524Z"
   },
   {
    "duration": 0,
    "start_time": "2022-03-31T18:33:08.525Z"
   },
   {
    "duration": 0,
    "start_time": "2022-03-31T18:33:08.526Z"
   },
   {
    "duration": 0,
    "start_time": "2022-03-31T18:33:08.527Z"
   },
   {
    "duration": 0,
    "start_time": "2022-03-31T18:33:08.529Z"
   },
   {
    "duration": 0,
    "start_time": "2022-03-31T18:33:08.530Z"
   },
   {
    "duration": 0,
    "start_time": "2022-03-31T18:33:08.531Z"
   },
   {
    "duration": 0,
    "start_time": "2022-03-31T18:33:08.533Z"
   },
   {
    "duration": 0,
    "start_time": "2022-03-31T18:33:08.534Z"
   },
   {
    "duration": 0,
    "start_time": "2022-03-31T18:33:08.536Z"
   },
   {
    "duration": 0,
    "start_time": "2022-03-31T18:33:08.537Z"
   },
   {
    "duration": 0,
    "start_time": "2022-03-31T18:33:08.538Z"
   },
   {
    "duration": 0,
    "start_time": "2022-03-31T18:33:08.540Z"
   },
   {
    "duration": 1,
    "start_time": "2022-03-31T18:33:08.541Z"
   },
   {
    "duration": 0,
    "start_time": "2022-03-31T18:33:08.543Z"
   },
   {
    "duration": 0,
    "start_time": "2022-03-31T18:33:08.608Z"
   },
   {
    "duration": 0,
    "start_time": "2022-03-31T18:33:08.610Z"
   },
   {
    "duration": 0,
    "start_time": "2022-03-31T18:33:08.611Z"
   },
   {
    "duration": 0,
    "start_time": "2022-03-31T18:33:08.613Z"
   },
   {
    "duration": 0,
    "start_time": "2022-03-31T18:33:08.615Z"
   },
   {
    "duration": 0,
    "start_time": "2022-03-31T18:33:08.617Z"
   },
   {
    "duration": 0,
    "start_time": "2022-03-31T18:33:08.618Z"
   },
   {
    "duration": 0,
    "start_time": "2022-03-31T18:33:08.620Z"
   },
   {
    "duration": 1224,
    "start_time": "2022-03-31T18:33:26.648Z"
   },
   {
    "duration": 62,
    "start_time": "2022-03-31T18:33:27.874Z"
   },
   {
    "duration": 5,
    "start_time": "2022-03-31T18:33:27.938Z"
   },
   {
    "duration": 38,
    "start_time": "2022-03-31T18:33:27.946Z"
   },
   {
    "duration": 47,
    "start_time": "2022-03-31T18:33:27.986Z"
   },
   {
    "duration": 10,
    "start_time": "2022-03-31T18:33:28.035Z"
   },
   {
    "duration": 28,
    "start_time": "2022-03-31T18:33:28.047Z"
   },
   {
    "duration": 4,
    "start_time": "2022-03-31T18:33:28.077Z"
   },
   {
    "duration": 283,
    "start_time": "2022-03-31T18:33:28.083Z"
   },
   {
    "duration": 23,
    "start_time": "2022-03-31T18:33:28.369Z"
   },
   {
    "duration": 16,
    "start_time": "2022-03-31T18:33:28.393Z"
   },
   {
    "duration": 194,
    "start_time": "2022-03-31T18:33:28.411Z"
   },
   {
    "duration": 892,
    "start_time": "2022-03-31T18:33:28.609Z"
   },
   {
    "duration": 547,
    "start_time": "2022-03-31T18:33:29.503Z"
   },
   {
    "duration": 122,
    "start_time": "2022-03-31T18:33:30.052Z"
   },
   {
    "duration": 0,
    "start_time": "2022-03-31T18:33:30.176Z"
   },
   {
    "duration": 0,
    "start_time": "2022-03-31T18:33:30.177Z"
   },
   {
    "duration": 0,
    "start_time": "2022-03-31T18:33:30.178Z"
   },
   {
    "duration": 0,
    "start_time": "2022-03-31T18:33:30.179Z"
   },
   {
    "duration": 0,
    "start_time": "2022-03-31T18:33:30.180Z"
   },
   {
    "duration": 0,
    "start_time": "2022-03-31T18:33:30.181Z"
   },
   {
    "duration": 0,
    "start_time": "2022-03-31T18:33:30.182Z"
   },
   {
    "duration": 0,
    "start_time": "2022-03-31T18:33:30.183Z"
   },
   {
    "duration": 0,
    "start_time": "2022-03-31T18:33:30.184Z"
   },
   {
    "duration": 0,
    "start_time": "2022-03-31T18:33:30.185Z"
   },
   {
    "duration": 0,
    "start_time": "2022-03-31T18:33:30.186Z"
   },
   {
    "duration": 0,
    "start_time": "2022-03-31T18:33:30.187Z"
   },
   {
    "duration": 0,
    "start_time": "2022-03-31T18:33:30.188Z"
   },
   {
    "duration": 0,
    "start_time": "2022-03-31T18:33:30.189Z"
   },
   {
    "duration": 0,
    "start_time": "2022-03-31T18:33:30.209Z"
   },
   {
    "duration": 0,
    "start_time": "2022-03-31T18:33:30.211Z"
   },
   {
    "duration": 1147,
    "start_time": "2022-03-31T18:33:45.768Z"
   },
   {
    "duration": 51,
    "start_time": "2022-03-31T18:33:46.917Z"
   },
   {
    "duration": 4,
    "start_time": "2022-03-31T18:33:46.970Z"
   },
   {
    "duration": 43,
    "start_time": "2022-03-31T18:33:46.976Z"
   },
   {
    "duration": 19,
    "start_time": "2022-03-31T18:33:47.020Z"
   },
   {
    "duration": 11,
    "start_time": "2022-03-31T18:33:47.041Z"
   },
   {
    "duration": 32,
    "start_time": "2022-03-31T18:33:47.054Z"
   },
   {
    "duration": 3,
    "start_time": "2022-03-31T18:33:47.109Z"
   },
   {
    "duration": 216,
    "start_time": "2022-03-31T18:33:47.113Z"
   },
   {
    "duration": 21,
    "start_time": "2022-03-31T18:33:47.332Z"
   },
   {
    "duration": 4,
    "start_time": "2022-03-31T18:33:47.355Z"
   },
   {
    "duration": 188,
    "start_time": "2022-03-31T18:33:47.361Z"
   },
   {
    "duration": 776,
    "start_time": "2022-03-31T18:33:47.551Z"
   },
   {
    "duration": 467,
    "start_time": "2022-03-31T18:33:48.328Z"
   },
   {
    "duration": 117,
    "start_time": "2022-03-31T18:33:48.797Z"
   },
   {
    "duration": 0,
    "start_time": "2022-03-31T18:33:48.917Z"
   },
   {
    "duration": 0,
    "start_time": "2022-03-31T18:33:48.919Z"
   },
   {
    "duration": 0,
    "start_time": "2022-03-31T18:33:48.921Z"
   },
   {
    "duration": 0,
    "start_time": "2022-03-31T18:33:48.922Z"
   },
   {
    "duration": 0,
    "start_time": "2022-03-31T18:33:48.923Z"
   },
   {
    "duration": 0,
    "start_time": "2022-03-31T18:33:48.924Z"
   },
   {
    "duration": 0,
    "start_time": "2022-03-31T18:33:48.926Z"
   },
   {
    "duration": 0,
    "start_time": "2022-03-31T18:33:48.927Z"
   },
   {
    "duration": 0,
    "start_time": "2022-03-31T18:33:48.928Z"
   },
   {
    "duration": 0,
    "start_time": "2022-03-31T18:33:48.929Z"
   },
   {
    "duration": 0,
    "start_time": "2022-03-31T18:33:48.930Z"
   },
   {
    "duration": 0,
    "start_time": "2022-03-31T18:33:48.931Z"
   },
   {
    "duration": 0,
    "start_time": "2022-03-31T18:33:48.932Z"
   },
   {
    "duration": 0,
    "start_time": "2022-03-31T18:33:48.934Z"
   },
   {
    "duration": 0,
    "start_time": "2022-03-31T18:33:48.935Z"
   },
   {
    "duration": 0,
    "start_time": "2022-03-31T18:33:48.936Z"
   },
   {
    "duration": 27,
    "start_time": "2022-03-31T18:34:39.968Z"
   },
   {
    "duration": 1261,
    "start_time": "2022-03-31T18:34:59.278Z"
   },
   {
    "duration": 1329,
    "start_time": "2022-03-31T18:35:30.182Z"
   },
   {
    "duration": 62,
    "start_time": "2022-03-31T18:35:31.513Z"
   },
   {
    "duration": 4,
    "start_time": "2022-03-31T18:35:31.576Z"
   },
   {
    "duration": 49,
    "start_time": "2022-03-31T18:35:31.582Z"
   },
   {
    "duration": 18,
    "start_time": "2022-03-31T18:35:31.632Z"
   },
   {
    "duration": 11,
    "start_time": "2022-03-31T18:35:31.652Z"
   },
   {
    "duration": 52,
    "start_time": "2022-03-31T18:35:31.665Z"
   },
   {
    "duration": 3,
    "start_time": "2022-03-31T18:35:31.719Z"
   },
   {
    "duration": 235,
    "start_time": "2022-03-31T18:35:31.723Z"
   },
   {
    "duration": 24,
    "start_time": "2022-03-31T18:35:31.961Z"
   },
   {
    "duration": 4,
    "start_time": "2022-03-31T18:35:31.987Z"
   },
   {
    "duration": 196,
    "start_time": "2022-03-31T18:35:32.008Z"
   },
   {
    "duration": 790,
    "start_time": "2022-03-31T18:35:32.208Z"
   },
   {
    "duration": 478,
    "start_time": "2022-03-31T18:35:33.008Z"
   },
   {
    "duration": 35,
    "start_time": "2022-03-31T18:35:33.488Z"
   },
   {
    "duration": 880,
    "start_time": "2022-03-31T18:35:33.526Z"
   },
   {
    "duration": 973,
    "start_time": "2022-03-31T18:35:34.409Z"
   },
   {
    "duration": 94,
    "start_time": "2022-03-31T18:35:35.384Z"
   },
   {
    "duration": 10,
    "start_time": "2022-03-31T18:35:35.479Z"
   },
   {
    "duration": 27,
    "start_time": "2022-03-31T18:35:35.490Z"
   },
   {
    "duration": 455,
    "start_time": "2022-03-31T18:35:35.519Z"
   },
   {
    "duration": 176,
    "start_time": "2022-03-31T18:35:35.977Z"
   },
   {
    "duration": 8,
    "start_time": "2022-03-31T18:35:36.155Z"
   },
   {
    "duration": 15,
    "start_time": "2022-03-31T18:35:36.166Z"
   },
   {
    "duration": 8,
    "start_time": "2022-03-31T18:35:36.183Z"
   },
   {
    "duration": 5,
    "start_time": "2022-03-31T18:35:36.192Z"
   },
   {
    "duration": 7,
    "start_time": "2022-03-31T18:35:36.198Z"
   },
   {
    "duration": 15,
    "start_time": "2022-03-31T18:35:36.211Z"
   },
   {
    "duration": 7,
    "start_time": "2022-03-31T18:35:36.228Z"
   },
   {
    "duration": 424,
    "start_time": "2022-03-31T18:35:36.237Z"
   },
   {
    "duration": 396,
    "start_time": "2022-03-31T18:35:36.663Z"
   },
   {
    "duration": 1519,
    "start_time": "2022-03-31T18:48:48.828Z"
   },
   {
    "duration": 40,
    "start_time": "2022-03-31T18:49:14.776Z"
   },
   {
    "duration": 1701,
    "start_time": "2022-03-31T18:50:01.301Z"
   },
   {
    "duration": 25,
    "start_time": "2022-03-31T18:50:44.707Z"
   },
   {
    "duration": 1263,
    "start_time": "2022-03-31T18:51:06.255Z"
   },
   {
    "duration": 140,
    "start_time": "2022-03-31T18:51:22.293Z"
   },
   {
    "duration": 1055,
    "start_time": "2022-03-31T18:52:00.808Z"
   },
   {
    "duration": 27,
    "start_time": "2022-03-31T18:52:18.552Z"
   },
   {
    "duration": 654,
    "start_time": "2022-03-31T19:40:28.089Z"
   },
   {
    "duration": 47,
    "start_time": "2022-03-31T19:41:06.592Z"
   },
   {
    "duration": 45,
    "start_time": "2022-03-31T19:41:32.792Z"
   },
   {
    "duration": 46,
    "start_time": "2022-03-31T19:41:42.624Z"
   },
   {
    "duration": 64,
    "start_time": "2022-03-31T19:46:46.261Z"
   },
   {
    "duration": 22,
    "start_time": "2022-03-31T19:47:22.574Z"
   },
   {
    "duration": 35,
    "start_time": "2022-03-31T19:49:12.342Z"
   },
   {
    "duration": 23,
    "start_time": "2022-03-31T19:49:32.251Z"
   },
   {
    "duration": 22,
    "start_time": "2022-03-31T19:49:41.946Z"
   },
   {
    "duration": 1953,
    "start_time": "2022-03-31T19:53:31.801Z"
   },
   {
    "duration": 1200,
    "start_time": "2022-03-31T19:53:54.114Z"
   },
   {
    "duration": 1153,
    "start_time": "2022-03-31T19:54:16.230Z"
   },
   {
    "duration": 30,
    "start_time": "2022-03-31T19:55:03.350Z"
   },
   {
    "duration": 25,
    "start_time": "2022-03-31T19:55:22.496Z"
   },
   {
    "duration": 1222,
    "start_time": "2022-03-31T19:55:38.504Z"
   },
   {
    "duration": 50,
    "start_time": "2022-03-31T19:55:39.728Z"
   },
   {
    "duration": 4,
    "start_time": "2022-03-31T19:55:39.779Z"
   },
   {
    "duration": 44,
    "start_time": "2022-03-31T19:55:39.785Z"
   },
   {
    "duration": 19,
    "start_time": "2022-03-31T19:55:39.831Z"
   },
   {
    "duration": 11,
    "start_time": "2022-03-31T19:55:39.851Z"
   },
   {
    "duration": 51,
    "start_time": "2022-03-31T19:55:39.864Z"
   },
   {
    "duration": 3,
    "start_time": "2022-03-31T19:55:39.916Z"
   },
   {
    "duration": 230,
    "start_time": "2022-03-31T19:55:39.920Z"
   },
   {
    "duration": 23,
    "start_time": "2022-03-31T19:55:40.152Z"
   },
   {
    "duration": 4,
    "start_time": "2022-03-31T19:55:40.176Z"
   },
   {
    "duration": 185,
    "start_time": "2022-03-31T19:55:40.182Z"
   },
   {
    "duration": 788,
    "start_time": "2022-03-31T19:55:40.369Z"
   },
   {
    "duration": 489,
    "start_time": "2022-03-31T19:55:41.159Z"
   },
   {
    "duration": 121,
    "start_time": "2022-03-31T19:55:41.650Z"
   },
   {
    "duration": 0,
    "start_time": "2022-03-31T19:55:41.773Z"
   },
   {
    "duration": 0,
    "start_time": "2022-03-31T19:55:41.775Z"
   },
   {
    "duration": 0,
    "start_time": "2022-03-31T19:55:41.775Z"
   },
   {
    "duration": 0,
    "start_time": "2022-03-31T19:55:41.777Z"
   },
   {
    "duration": 0,
    "start_time": "2022-03-31T19:55:41.778Z"
   },
   {
    "duration": 0,
    "start_time": "2022-03-31T19:55:41.779Z"
   },
   {
    "duration": 0,
    "start_time": "2022-03-31T19:55:41.780Z"
   },
   {
    "duration": 0,
    "start_time": "2022-03-31T19:55:41.782Z"
   },
   {
    "duration": 0,
    "start_time": "2022-03-31T19:55:41.783Z"
   },
   {
    "duration": 0,
    "start_time": "2022-03-31T19:55:41.785Z"
   },
   {
    "duration": 0,
    "start_time": "2022-03-31T19:55:41.809Z"
   },
   {
    "duration": 0,
    "start_time": "2022-03-31T19:55:41.810Z"
   },
   {
    "duration": 0,
    "start_time": "2022-03-31T19:55:41.811Z"
   },
   {
    "duration": 0,
    "start_time": "2022-03-31T19:55:41.813Z"
   },
   {
    "duration": 0,
    "start_time": "2022-03-31T19:55:41.814Z"
   },
   {
    "duration": 0,
    "start_time": "2022-03-31T19:55:41.816Z"
   },
   {
    "duration": 21,
    "start_time": "2022-03-31T19:56:05.404Z"
   },
   {
    "duration": 30,
    "start_time": "2022-03-31T19:57:11.510Z"
   },
   {
    "duration": 25,
    "start_time": "2022-03-31T19:57:37.602Z"
   },
   {
    "duration": 19,
    "start_time": "2022-03-31T19:57:44.026Z"
   },
   {
    "duration": 25,
    "start_time": "2022-03-31T19:58:56.910Z"
   },
   {
    "duration": 171,
    "start_time": "2022-03-31T19:59:27.014Z"
   },
   {
    "duration": 33,
    "start_time": "2022-03-31T20:00:25.984Z"
   },
   {
    "duration": 1543,
    "start_time": "2022-03-31T20:00:58.962Z"
   },
   {
    "duration": 23,
    "start_time": "2022-03-31T20:02:00.234Z"
   },
   {
    "duration": 23,
    "start_time": "2022-03-31T20:02:13.275Z"
   },
   {
    "duration": 27,
    "start_time": "2022-03-31T20:02:36.078Z"
   },
   {
    "duration": 24,
    "start_time": "2022-03-31T20:03:37.040Z"
   },
   {
    "duration": 22,
    "start_time": "2022-03-31T20:21:04.921Z"
   },
   {
    "duration": 23,
    "start_time": "2022-03-31T20:21:36.650Z"
   },
   {
    "duration": 22,
    "start_time": "2022-03-31T20:23:05.443Z"
   },
   {
    "duration": 21,
    "start_time": "2022-03-31T20:24:33.751Z"
   },
   {
    "duration": 130,
    "start_time": "2022-03-31T20:30:15.247Z"
   },
   {
    "duration": 21,
    "start_time": "2022-03-31T20:30:44.744Z"
   },
   {
    "duration": 25,
    "start_time": "2022-03-31T20:33:36.004Z"
   },
   {
    "duration": 28,
    "start_time": "2022-03-31T20:48:33.816Z"
   },
   {
    "duration": 28,
    "start_time": "2022-03-31T20:49:54.703Z"
   },
   {
    "duration": 1235,
    "start_time": "2022-03-31T20:50:05.898Z"
   },
   {
    "duration": 28,
    "start_time": "2022-03-31T20:50:20.373Z"
   },
   {
    "duration": 30,
    "start_time": "2022-03-31T20:51:17.974Z"
   },
   {
    "duration": 26,
    "start_time": "2022-03-31T20:51:37.136Z"
   },
   {
    "duration": 1283,
    "start_time": "2022-03-31T20:53:01.557Z"
   },
   {
    "duration": 28,
    "start_time": "2022-03-31T20:53:19.118Z"
   },
   {
    "duration": 1970,
    "start_time": "2022-03-31T20:53:30.959Z"
   },
   {
    "duration": 56,
    "start_time": "2022-03-31T20:53:32.931Z"
   },
   {
    "duration": 68,
    "start_time": "2022-03-31T20:53:32.989Z"
   },
   {
    "duration": 40,
    "start_time": "2022-03-31T20:53:33.060Z"
   },
   {
    "duration": 17,
    "start_time": "2022-03-31T20:53:33.101Z"
   },
   {
    "duration": 11,
    "start_time": "2022-03-31T20:53:33.120Z"
   },
   {
    "duration": 40,
    "start_time": "2022-03-31T20:53:33.133Z"
   },
   {
    "duration": 3,
    "start_time": "2022-03-31T20:53:33.175Z"
   },
   {
    "duration": 237,
    "start_time": "2022-03-31T20:53:33.180Z"
   },
   {
    "duration": 23,
    "start_time": "2022-03-31T20:53:33.419Z"
   },
   {
    "duration": 4,
    "start_time": "2022-03-31T20:53:33.444Z"
   },
   {
    "duration": 199,
    "start_time": "2022-03-31T20:53:33.450Z"
   },
   {
    "duration": 792,
    "start_time": "2022-03-31T20:53:33.651Z"
   },
   {
    "duration": 456,
    "start_time": "2022-03-31T20:53:34.445Z"
   },
   {
    "duration": 412,
    "start_time": "2022-03-31T20:53:34.903Z"
   },
   {
    "duration": 963,
    "start_time": "2022-03-31T20:53:35.316Z"
   },
   {
    "duration": 866,
    "start_time": "2022-03-31T20:53:36.281Z"
   },
   {
    "duration": 96,
    "start_time": "2022-03-31T20:53:37.149Z"
   },
   {
    "duration": 9,
    "start_time": "2022-03-31T20:53:37.246Z"
   },
   {
    "duration": 9,
    "start_time": "2022-03-31T20:53:37.257Z"
   },
   {
    "duration": 441,
    "start_time": "2022-03-31T20:53:37.268Z"
   },
   {
    "duration": 258,
    "start_time": "2022-03-31T20:53:37.710Z"
   },
   {
    "duration": 7,
    "start_time": "2022-03-31T20:53:37.970Z"
   },
   {
    "duration": 11,
    "start_time": "2022-03-31T20:53:37.979Z"
   },
   {
    "duration": 8,
    "start_time": "2022-03-31T20:53:37.992Z"
   },
   {
    "duration": 5,
    "start_time": "2022-03-31T20:53:38.001Z"
   },
   {
    "duration": 8,
    "start_time": "2022-03-31T20:53:38.007Z"
   },
   {
    "duration": 11,
    "start_time": "2022-03-31T20:53:38.018Z"
   },
   {
    "duration": 6,
    "start_time": "2022-03-31T20:53:38.031Z"
   },
   {
    "duration": 375,
    "start_time": "2022-03-31T20:53:38.039Z"
   },
   {
    "duration": 382,
    "start_time": "2022-03-31T20:53:38.415Z"
   },
   {
    "duration": 5,
    "start_time": "2022-03-31T20:58:46.266Z"
   },
   {
    "duration": 11,
    "start_time": "2022-03-31T21:01:02.278Z"
   },
   {
    "duration": 118,
    "start_time": "2022-03-31T21:01:07.028Z"
   },
   {
    "duration": 6,
    "start_time": "2022-03-31T21:01:56.471Z"
   },
   {
    "duration": 18,
    "start_time": "2022-03-31T21:01:57.924Z"
   },
   {
    "duration": 18,
    "start_time": "2022-03-31T21:02:42.253Z"
   },
   {
    "duration": 1221,
    "start_time": "2022-03-31T21:02:55.481Z"
   },
   {
    "duration": 52,
    "start_time": "2022-03-31T21:02:56.704Z"
   },
   {
    "duration": 3,
    "start_time": "2022-03-31T21:02:56.758Z"
   },
   {
    "duration": 56,
    "start_time": "2022-03-31T21:02:56.763Z"
   },
   {
    "duration": 18,
    "start_time": "2022-03-31T21:02:56.821Z"
   },
   {
    "duration": 12,
    "start_time": "2022-03-31T21:02:56.841Z"
   },
   {
    "duration": 26,
    "start_time": "2022-03-31T21:02:56.854Z"
   },
   {
    "duration": 29,
    "start_time": "2022-03-31T21:02:56.882Z"
   },
   {
    "duration": 218,
    "start_time": "2022-03-31T21:02:56.912Z"
   },
   {
    "duration": 22,
    "start_time": "2022-03-31T21:02:57.132Z"
   },
   {
    "duration": 4,
    "start_time": "2022-03-31T21:02:57.156Z"
   },
   {
    "duration": 182,
    "start_time": "2022-03-31T21:02:57.162Z"
   },
   {
    "duration": 758,
    "start_time": "2022-03-31T21:02:57.345Z"
   },
   {
    "duration": 472,
    "start_time": "2022-03-31T21:02:58.105Z"
   },
   {
    "duration": 185,
    "start_time": "2022-03-31T21:02:58.579Z"
   },
   {
    "duration": 982,
    "start_time": "2022-03-31T21:02:58.765Z"
   },
   {
    "duration": 868,
    "start_time": "2022-03-31T21:02:59.749Z"
   },
   {
    "duration": 98,
    "start_time": "2022-03-31T21:03:00.619Z"
   },
   {
    "duration": 10,
    "start_time": "2022-03-31T21:03:00.718Z"
   },
   {
    "duration": 9,
    "start_time": "2022-03-31T21:03:00.730Z"
   },
   {
    "duration": 432,
    "start_time": "2022-03-31T21:03:00.740Z"
   },
   {
    "duration": 4587,
    "start_time": "2022-03-31T21:03:01.174Z"
   },
   {
    "duration": 8,
    "start_time": "2022-03-31T21:03:05.763Z"
   },
   {
    "duration": 13,
    "start_time": "2022-03-31T21:03:05.772Z"
   },
   {
    "duration": 9,
    "start_time": "2022-03-31T21:03:05.786Z"
   },
   {
    "duration": 5,
    "start_time": "2022-03-31T21:03:05.797Z"
   },
   {
    "duration": 9,
    "start_time": "2022-03-31T21:03:05.804Z"
   },
   {
    "duration": 11,
    "start_time": "2022-03-31T21:03:05.816Z"
   },
   {
    "duration": 4,
    "start_time": "2022-03-31T21:03:05.829Z"
   },
   {
    "duration": 6,
    "start_time": "2022-03-31T21:03:05.835Z"
   },
   {
    "duration": 139,
    "start_time": "2022-03-31T21:03:05.843Z"
   },
   {
    "duration": 0,
    "start_time": "2022-03-31T21:03:05.983Z"
   },
   {
    "duration": 6,
    "start_time": "2022-03-31T21:04:46.395Z"
   },
   {
    "duration": 6,
    "start_time": "2022-03-31T21:05:40.299Z"
   },
   {
    "duration": 18,
    "start_time": "2022-03-31T21:05:42.524Z"
   },
   {
    "duration": 7,
    "start_time": "2022-03-31T21:05:59.602Z"
   },
   {
    "duration": 1228,
    "start_time": "2022-03-31T21:07:25.404Z"
   },
   {
    "duration": 5,
    "start_time": "2022-03-31T21:07:53.204Z"
   },
   {
    "duration": 4,
    "start_time": "2022-03-31T21:09:43.451Z"
   },
   {
    "duration": 7,
    "start_time": "2022-03-31T21:09:59.099Z"
   },
   {
    "duration": 15,
    "start_time": "2022-03-31T21:10:11.551Z"
   },
   {
    "duration": 5,
    "start_time": "2022-03-31T21:11:18.330Z"
   },
   {
    "duration": 5,
    "start_time": "2022-03-31T21:12:02.632Z"
   },
   {
    "duration": 5,
    "start_time": "2022-03-31T21:12:17.622Z"
   },
   {
    "duration": 11,
    "start_time": "2022-03-31T21:14:03.563Z"
   },
   {
    "duration": 5,
    "start_time": "2022-03-31T21:14:19.825Z"
   },
   {
    "duration": 78,
    "start_time": "2022-03-31T21:16:08.194Z"
   },
   {
    "duration": 48,
    "start_time": "2022-03-31T21:21:57.282Z"
   },
   {
    "duration": 12,
    "start_time": "2022-03-31T21:23:51.241Z"
   },
   {
    "duration": 9,
    "start_time": "2022-03-31T21:24:32.029Z"
   },
   {
    "duration": 12,
    "start_time": "2022-03-31T21:24:39.100Z"
   },
   {
    "duration": 6,
    "start_time": "2022-03-31T21:26:06.241Z"
   },
   {
    "duration": 45,
    "start_time": "2022-03-31T21:27:05.977Z"
   },
   {
    "duration": 5,
    "start_time": "2022-03-31T21:27:25.364Z"
   },
   {
    "duration": 20,
    "start_time": "2022-03-31T21:27:35.048Z"
   },
   {
    "duration": 10,
    "start_time": "2022-03-31T21:28:58.921Z"
   },
   {
    "duration": 7,
    "start_time": "2022-03-31T21:29:28.892Z"
   },
   {
    "duration": 432,
    "start_time": "2022-03-31T21:29:30.748Z"
   },
   {
    "duration": 350,
    "start_time": "2022-03-31T21:29:35.367Z"
   },
   {
    "duration": 27,
    "start_time": "2022-03-31T21:39:30.488Z"
   },
   {
    "duration": 30,
    "start_time": "2022-03-31T21:39:46.889Z"
   },
   {
    "duration": 26,
    "start_time": "2022-03-31T21:41:25.530Z"
   },
   {
    "duration": 17,
    "start_time": "2022-03-31T21:43:12.639Z"
   },
   {
    "duration": 20,
    "start_time": "2022-03-31T21:43:25.202Z"
   },
   {
    "duration": 15,
    "start_time": "2022-03-31T21:48:25.084Z"
   },
   {
    "duration": 23,
    "start_time": "2022-03-31T21:49:18.030Z"
   },
   {
    "duration": 21,
    "start_time": "2022-03-31T21:49:33.284Z"
   },
   {
    "duration": 1252,
    "start_time": "2022-03-31T21:50:17.417Z"
   },
   {
    "duration": 55,
    "start_time": "2022-03-31T21:50:18.671Z"
   },
   {
    "duration": 4,
    "start_time": "2022-03-31T21:50:18.727Z"
   },
   {
    "duration": 42,
    "start_time": "2022-03-31T21:50:18.733Z"
   },
   {
    "duration": 40,
    "start_time": "2022-03-31T21:50:18.777Z"
   },
   {
    "duration": 12,
    "start_time": "2022-03-31T21:50:18.818Z"
   },
   {
    "duration": 28,
    "start_time": "2022-03-31T21:50:18.832Z"
   },
   {
    "duration": 3,
    "start_time": "2022-03-31T21:50:18.863Z"
   },
   {
    "duration": 251,
    "start_time": "2022-03-31T21:50:18.868Z"
   },
   {
    "duration": 26,
    "start_time": "2022-03-31T21:50:19.122Z"
   },
   {
    "duration": 5,
    "start_time": "2022-03-31T21:50:19.150Z"
   },
   {
    "duration": 206,
    "start_time": "2022-03-31T21:50:19.157Z"
   },
   {
    "duration": 826,
    "start_time": "2022-03-31T21:50:19.365Z"
   },
   {
    "duration": 488,
    "start_time": "2022-03-31T21:50:20.194Z"
   },
   {
    "duration": 33,
    "start_time": "2022-03-31T21:50:20.685Z"
   },
   {
    "duration": 923,
    "start_time": "2022-03-31T21:50:20.721Z"
   },
   {
    "duration": 996,
    "start_time": "2022-03-31T21:50:21.647Z"
   },
   {
    "duration": 107,
    "start_time": "2022-03-31T21:50:22.645Z"
   },
   {
    "duration": 11,
    "start_time": "2022-03-31T21:50:22.754Z"
   },
   {
    "duration": 10,
    "start_time": "2022-03-31T21:50:22.766Z"
   },
   {
    "duration": 458,
    "start_time": "2022-03-31T21:50:22.778Z"
   },
   {
    "duration": 381,
    "start_time": "2022-03-31T21:50:23.238Z"
   },
   {
    "duration": 9,
    "start_time": "2022-03-31T21:50:23.621Z"
   },
   {
    "duration": 13,
    "start_time": "2022-03-31T21:50:23.631Z"
   },
   {
    "duration": 4,
    "start_time": "2022-03-31T21:50:23.646Z"
   },
   {
    "duration": 10,
    "start_time": "2022-03-31T21:50:23.652Z"
   },
   {
    "duration": 4,
    "start_time": "2022-03-31T21:50:23.664Z"
   },
   {
    "duration": 37,
    "start_time": "2022-03-31T21:50:23.672Z"
   },
   {
    "duration": 12,
    "start_time": "2022-03-31T21:50:23.711Z"
   },
   {
    "duration": 5,
    "start_time": "2022-03-31T21:50:23.725Z"
   },
   {
    "duration": 9,
    "start_time": "2022-03-31T21:50:23.731Z"
   },
   {
    "duration": 424,
    "start_time": "2022-03-31T21:50:23.741Z"
   },
   {
    "duration": 402,
    "start_time": "2022-03-31T21:50:24.166Z"
   },
   {
    "duration": 21,
    "start_time": "2022-03-31T21:51:54.163Z"
   },
   {
    "duration": 21,
    "start_time": "2022-03-31T21:52:12.166Z"
   }
  ],
  "kernelspec": {
   "display_name": "Python 3 (ipykernel)",
   "language": "python",
   "name": "python3"
  },
  "language_info": {
   "codemirror_mode": {
    "name": "ipython",
    "version": 3
   },
   "file_extension": ".py",
   "mimetype": "text/x-python",
   "name": "python",
   "nbconvert_exporter": "python",
   "pygments_lexer": "ipython3",
   "version": "3.9.7"
  },
  "toc": {
   "base_numbering": 1,
   "nav_menu": {},
   "number_sections": true,
   "sideBar": true,
   "skip_h1_title": true,
   "title_cell": "Table of Contents",
   "title_sidebar": "Contents",
   "toc_cell": false,
   "toc_position": {},
   "toc_section_display": true,
   "toc_window_display": false
  }
 },
 "nbformat": 4,
 "nbformat_minor": 2
}

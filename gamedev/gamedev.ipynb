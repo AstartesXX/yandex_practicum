{
 "cells": [
  {
   "cell_type": "markdown",
   "metadata": {},
   "source": [
    "## Изучение данных."
   ]
  },
  {
   "cell_type": "code",
   "execution_count": 1,
   "metadata": {},
   "outputs": [],
   "source": [
    "import pandas as pd # Импорт билиотеки pandas и сохранение в переменной pd.\n",
    "import matplotlib.pyplot as plt # Импорт библиотеки matplotlib и сохранение в переменной plt.\n",
    "import seaborn as sns # Импорт библиотеки seaborn и сохранение в переменной sns.\n",
    "from scipy import stats as st # Импорт из библиотеки scipy модуль stats и сохранение в переменной st.\n",
    "import numpy as np # Импорт библиотеки numpy и сохранение в переменной np."
   ]
  },
  {
   "cell_type": "code",
   "execution_count": 2,
   "metadata": {},
   "outputs": [],
   "source": [
    "games_data = pd.read_csv('/datasets/games.csv') # Чтение данных и сохранение в переменной games_data."
   ]
  },
  {
   "cell_type": "code",
   "execution_count": 3,
   "metadata": {
    "scrolled": true
   },
   "outputs": [
    {
     "name": "stdout",
     "output_type": "stream",
     "text": [
      "<class 'pandas.core.frame.DataFrame'>\n",
      "RangeIndex: 16715 entries, 0 to 16714\n",
      "Data columns (total 11 columns):\n",
      "Name               16713 non-null object\n",
      "Platform           16715 non-null object\n",
      "Year_of_Release    16446 non-null float64\n",
      "Genre              16713 non-null object\n",
      "NA_sales           16715 non-null float64\n",
      "EU_sales           16715 non-null float64\n",
      "JP_sales           16715 non-null float64\n",
      "Other_sales        16715 non-null float64\n",
      "Critic_Score       8137 non-null float64\n",
      "User_Score         10014 non-null object\n",
      "Rating             9949 non-null object\n",
      "dtypes: float64(6), object(5)\n",
      "memory usage: 1.4+ MB\n"
     ]
    }
   ],
   "source": [
    "games_data.info() # Вывод общей информации."
   ]
  },
  {
   "cell_type": "markdown",
   "metadata": {},
   "source": [
    "Описание данных\n",
    "\n",
    "    Name — название игры\n",
    "    Platform — платформа\n",
    "    Year_of_Release — год выпуска\n",
    "    Genre — жанр игры\n",
    "    NA_sales — продажи в Северной Америке (миллионы проданных копий)\n",
    "    EU_sales — продажи в Европе (миллионы проданных копий)\n",
    "    JP_sales — продажи в Японии (миллионы проданных копий)\n",
    "    Other_sales — продажи в других странах (миллионы проданных копий)\n",
    "    Critic_Score — оценка критиков (максимум 100)\n",
    "    User_Score — оценка пользователей (максимум 10)\n",
    "    Rating — рейтинг от организации ESRB (англ. Entertainment Software Rating Board). Эта ассоциация определяет рейтинг компьютерных игр и присваивает им подходящую возрастную категорию.\n",
    "\n",
    "Данные за 2016 год могут быть неполными."
   ]
  },
  {
   "cell_type": "code",
   "execution_count": 4,
   "metadata": {
    "scrolled": true
   },
   "outputs": [
    {
     "data": {
      "text/html": [
       "<div>\n",
       "<style scoped>\n",
       "    .dataframe tbody tr th:only-of-type {\n",
       "        vertical-align: middle;\n",
       "    }\n",
       "\n",
       "    .dataframe tbody tr th {\n",
       "        vertical-align: top;\n",
       "    }\n",
       "\n",
       "    .dataframe thead th {\n",
       "        text-align: right;\n",
       "    }\n",
       "</style>\n",
       "<table border=\"1\" class=\"dataframe\">\n",
       "  <thead>\n",
       "    <tr style=\"text-align: right;\">\n",
       "      <th></th>\n",
       "      <th>Year_of_Release</th>\n",
       "      <th>NA_sales</th>\n",
       "      <th>EU_sales</th>\n",
       "      <th>JP_sales</th>\n",
       "      <th>Other_sales</th>\n",
       "      <th>Critic_Score</th>\n",
       "    </tr>\n",
       "  </thead>\n",
       "  <tbody>\n",
       "    <tr>\n",
       "      <td>count</td>\n",
       "      <td>16446.000000</td>\n",
       "      <td>16715.000000</td>\n",
       "      <td>16715.000000</td>\n",
       "      <td>16715.000000</td>\n",
       "      <td>16715.000000</td>\n",
       "      <td>8137.000000</td>\n",
       "    </tr>\n",
       "    <tr>\n",
       "      <td>mean</td>\n",
       "      <td>2006.484616</td>\n",
       "      <td>0.263377</td>\n",
       "      <td>0.145060</td>\n",
       "      <td>0.077617</td>\n",
       "      <td>0.047342</td>\n",
       "      <td>68.967679</td>\n",
       "    </tr>\n",
       "    <tr>\n",
       "      <td>std</td>\n",
       "      <td>5.877050</td>\n",
       "      <td>0.813604</td>\n",
       "      <td>0.503339</td>\n",
       "      <td>0.308853</td>\n",
       "      <td>0.186731</td>\n",
       "      <td>13.938165</td>\n",
       "    </tr>\n",
       "    <tr>\n",
       "      <td>min</td>\n",
       "      <td>1980.000000</td>\n",
       "      <td>0.000000</td>\n",
       "      <td>0.000000</td>\n",
       "      <td>0.000000</td>\n",
       "      <td>0.000000</td>\n",
       "      <td>13.000000</td>\n",
       "    </tr>\n",
       "    <tr>\n",
       "      <td>25%</td>\n",
       "      <td>2003.000000</td>\n",
       "      <td>0.000000</td>\n",
       "      <td>0.000000</td>\n",
       "      <td>0.000000</td>\n",
       "      <td>0.000000</td>\n",
       "      <td>60.000000</td>\n",
       "    </tr>\n",
       "    <tr>\n",
       "      <td>50%</td>\n",
       "      <td>2007.000000</td>\n",
       "      <td>0.080000</td>\n",
       "      <td>0.020000</td>\n",
       "      <td>0.000000</td>\n",
       "      <td>0.010000</td>\n",
       "      <td>71.000000</td>\n",
       "    </tr>\n",
       "    <tr>\n",
       "      <td>75%</td>\n",
       "      <td>2010.000000</td>\n",
       "      <td>0.240000</td>\n",
       "      <td>0.110000</td>\n",
       "      <td>0.040000</td>\n",
       "      <td>0.030000</td>\n",
       "      <td>79.000000</td>\n",
       "    </tr>\n",
       "    <tr>\n",
       "      <td>max</td>\n",
       "      <td>2016.000000</td>\n",
       "      <td>41.360000</td>\n",
       "      <td>28.960000</td>\n",
       "      <td>10.220000</td>\n",
       "      <td>10.570000</td>\n",
       "      <td>98.000000</td>\n",
       "    </tr>\n",
       "  </tbody>\n",
       "</table>\n",
       "</div>"
      ],
      "text/plain": [
       "       Year_of_Release      NA_sales      EU_sales      JP_sales  \\\n",
       "count     16446.000000  16715.000000  16715.000000  16715.000000   \n",
       "mean       2006.484616      0.263377      0.145060      0.077617   \n",
       "std           5.877050      0.813604      0.503339      0.308853   \n",
       "min        1980.000000      0.000000      0.000000      0.000000   \n",
       "25%        2003.000000      0.000000      0.000000      0.000000   \n",
       "50%        2007.000000      0.080000      0.020000      0.000000   \n",
       "75%        2010.000000      0.240000      0.110000      0.040000   \n",
       "max        2016.000000     41.360000     28.960000     10.220000   \n",
       "\n",
       "        Other_sales  Critic_Score  \n",
       "count  16715.000000   8137.000000  \n",
       "mean       0.047342     68.967679  \n",
       "std        0.186731     13.938165  \n",
       "min        0.000000     13.000000  \n",
       "25%        0.000000     60.000000  \n",
       "50%        0.010000     71.000000  \n",
       "75%        0.030000     79.000000  \n",
       "max       10.570000     98.000000  "
      ]
     },
     "execution_count": 4,
     "metadata": {},
     "output_type": "execute_result"
    }
   ],
   "source": [
    "games_data.describe() # Вывод статистики."
   ]
  },
  {
   "cell_type": "markdown",
   "metadata": {},
   "source": [
    "### Вывод."
   ]
  },
  {
   "cell_type": "markdown",
   "metadata": {},
   "source": [
    "После первичного знакомства с данными обнаружилось сразу несколько проблем:\n",
    "1. В нескольких столбцах присутствуют пропуски.\n",
    "2. Названия столбцов необходимо привести к нижнему регистру.\n",
    "3. Столбец с годом выпуска игры необходимо привести к типу int, так как в нём есть только год, и он может быть только целым числом.\n",
    "4. Столбец с прейтингом пользователей также необходимо привести к числовому типу.\n",
    "\n",
    "Метод describe показал, что в столбцах по продажам в разных странах данные сосредоточены, в основном, в третей квартиле."
   ]
  },
  {
   "cell_type": "markdown",
   "metadata": {},
   "source": [
    "## Предобработка данных."
   ]
  },
  {
   "cell_type": "markdown",
   "metadata": {},
   "source": [
    "Для подготовки данных нам необходимо сделать следующее:\n",
    "1. Заменить названия столбцов (привести к нижнему регистру);\n",
    "2. Преобразовать данные в нужные типы;\n",
    "3. Обработать пропуски при необходимости;\n",
    "4. Посчитать суммарные продажи во всех регионах."
   ]
  },
  {
   "cell_type": "markdown",
   "metadata": {},
   "source": [
    "### Замена названий столбцов."
   ]
  },
  {
   "cell_type": "code",
   "execution_count": 5,
   "metadata": {},
   "outputs": [],
   "source": [
    "games_data.columns = games_data.columns.str.lower() # Приведение названий столбцов к нижнему регистру."
   ]
  },
  {
   "cell_type": "code",
   "execution_count": 6,
   "metadata": {},
   "outputs": [
    {
     "name": "stdout",
     "output_type": "stream",
     "text": [
      "<class 'pandas.core.frame.DataFrame'>\n",
      "RangeIndex: 16715 entries, 0 to 16714\n",
      "Data columns (total 11 columns):\n",
      "name               16713 non-null object\n",
      "platform           16715 non-null object\n",
      "year_of_release    16446 non-null float64\n",
      "genre              16713 non-null object\n",
      "na_sales           16715 non-null float64\n",
      "eu_sales           16715 non-null float64\n",
      "jp_sales           16715 non-null float64\n",
      "other_sales        16715 non-null float64\n",
      "critic_score       8137 non-null float64\n",
      "user_score         10014 non-null object\n",
      "rating             9949 non-null object\n",
      "dtypes: float64(6), object(5)\n",
      "memory usage: 1.4+ MB\n"
     ]
    }
   ],
   "source": [
    "games_data.info() # Проверка результата работы функции."
   ]
  },
  {
   "cell_type": "markdown",
   "metadata": {},
   "source": [
    "### Преобразование типов данных."
   ]
  },
  {
   "cell_type": "code",
   "execution_count": 7,
   "metadata": {},
   "outputs": [
    {
     "data": {
      "text/html": [
       "<div>\n",
       "<style scoped>\n",
       "    .dataframe tbody tr th:only-of-type {\n",
       "        vertical-align: middle;\n",
       "    }\n",
       "\n",
       "    .dataframe tbody tr th {\n",
       "        vertical-align: top;\n",
       "    }\n",
       "\n",
       "    .dataframe thead th {\n",
       "        text-align: right;\n",
       "    }\n",
       "</style>\n",
       "<table border=\"1\" class=\"dataframe\">\n",
       "  <thead>\n",
       "    <tr style=\"text-align: right;\">\n",
       "      <th></th>\n",
       "      <th>name</th>\n",
       "      <th>platform</th>\n",
       "      <th>year_of_release</th>\n",
       "      <th>genre</th>\n",
       "      <th>na_sales</th>\n",
       "      <th>eu_sales</th>\n",
       "      <th>jp_sales</th>\n",
       "      <th>other_sales</th>\n",
       "      <th>critic_score</th>\n",
       "      <th>user_score</th>\n",
       "      <th>rating</th>\n",
       "    </tr>\n",
       "  </thead>\n",
       "  <tbody>\n",
       "    <tr>\n",
       "      <td>0</td>\n",
       "      <td>Wii Sports</td>\n",
       "      <td>Wii</td>\n",
       "      <td>2006.0</td>\n",
       "      <td>Sports</td>\n",
       "      <td>41.36</td>\n",
       "      <td>28.96</td>\n",
       "      <td>3.77</td>\n",
       "      <td>8.45</td>\n",
       "      <td>76.0</td>\n",
       "      <td>8</td>\n",
       "      <td>E</td>\n",
       "    </tr>\n",
       "    <tr>\n",
       "      <td>1</td>\n",
       "      <td>Super Mario Bros.</td>\n",
       "      <td>NES</td>\n",
       "      <td>1985.0</td>\n",
       "      <td>Platform</td>\n",
       "      <td>29.08</td>\n",
       "      <td>3.58</td>\n",
       "      <td>6.81</td>\n",
       "      <td>0.77</td>\n",
       "      <td>NaN</td>\n",
       "      <td>NaN</td>\n",
       "      <td>NaN</td>\n",
       "    </tr>\n",
       "    <tr>\n",
       "      <td>2</td>\n",
       "      <td>Mario Kart Wii</td>\n",
       "      <td>Wii</td>\n",
       "      <td>2008.0</td>\n",
       "      <td>Racing</td>\n",
       "      <td>15.68</td>\n",
       "      <td>12.76</td>\n",
       "      <td>3.79</td>\n",
       "      <td>3.29</td>\n",
       "      <td>82.0</td>\n",
       "      <td>8.3</td>\n",
       "      <td>E</td>\n",
       "    </tr>\n",
       "    <tr>\n",
       "      <td>3</td>\n",
       "      <td>Wii Sports Resort</td>\n",
       "      <td>Wii</td>\n",
       "      <td>2009.0</td>\n",
       "      <td>Sports</td>\n",
       "      <td>15.61</td>\n",
       "      <td>10.93</td>\n",
       "      <td>3.28</td>\n",
       "      <td>2.95</td>\n",
       "      <td>80.0</td>\n",
       "      <td>8</td>\n",
       "      <td>E</td>\n",
       "    </tr>\n",
       "    <tr>\n",
       "      <td>4</td>\n",
       "      <td>Pokemon Red/Pokemon Blue</td>\n",
       "      <td>GB</td>\n",
       "      <td>1996.0</td>\n",
       "      <td>Role-Playing</td>\n",
       "      <td>11.27</td>\n",
       "      <td>8.89</td>\n",
       "      <td>10.22</td>\n",
       "      <td>1.00</td>\n",
       "      <td>NaN</td>\n",
       "      <td>NaN</td>\n",
       "      <td>NaN</td>\n",
       "    </tr>\n",
       "  </tbody>\n",
       "</table>\n",
       "</div>"
      ],
      "text/plain": [
       "                       name platform  year_of_release         genre  na_sales  \\\n",
       "0                Wii Sports      Wii           2006.0        Sports     41.36   \n",
       "1         Super Mario Bros.      NES           1985.0      Platform     29.08   \n",
       "2            Mario Kart Wii      Wii           2008.0        Racing     15.68   \n",
       "3         Wii Sports Resort      Wii           2009.0        Sports     15.61   \n",
       "4  Pokemon Red/Pokemon Blue       GB           1996.0  Role-Playing     11.27   \n",
       "\n",
       "   eu_sales  jp_sales  other_sales  critic_score user_score rating  \n",
       "0     28.96      3.77         8.45          76.0          8      E  \n",
       "1      3.58      6.81         0.77           NaN        NaN    NaN  \n",
       "2     12.76      3.79         3.29          82.0        8.3      E  \n",
       "3     10.93      3.28         2.95          80.0          8      E  \n",
       "4      8.89     10.22         1.00           NaN        NaN    NaN  "
      ]
     },
     "execution_count": 7,
     "metadata": {},
     "output_type": "execute_result"
    }
   ],
   "source": [
    "games_data.head() # Посмотрим на данные в таблице, выведем первые 5 строчек."
   ]
  },
  {
   "cell_type": "code",
   "execution_count": 8,
   "metadata": {},
   "outputs": [],
   "source": [
    "games_data['year_of_release'] = games_data['year_of_release'].astype('Int64') # Приведение столбца year_of_release к типу int."
   ]
  },
  {
   "cell_type": "markdown",
   "metadata": {},
   "source": [
    "### Обработка пропусков."
   ]
  },
  {
   "cell_type": "code",
   "execution_count": 9,
   "metadata": {
    "scrolled": false
   },
   "outputs": [
    {
     "data": {
      "text/plain": [
       "name                  2\n",
       "platform              0\n",
       "year_of_release     269\n",
       "genre                 2\n",
       "na_sales              0\n",
       "eu_sales              0\n",
       "jp_sales              0\n",
       "other_sales           0\n",
       "critic_score       8578\n",
       "user_score         6701\n",
       "rating             6766\n",
       "dtype: int64"
      ]
     },
     "execution_count": 9,
     "metadata": {},
     "output_type": "execute_result"
    }
   ],
   "source": [
    "games_data.isna().sum() # Подсчёт пропусков."
   ]
  },
  {
   "cell_type": "markdown",
   "metadata": {},
   "source": [
    " * В 6 столбцах из 11 присутствуют пропущенные значения. \n",
    " * Пропуски в столбцах 'year_of_release', 'name' и 'genre', составляют меньше 1 процента от объёма данных, поэтому их можно удалить.\n",
    " * Столбцы с рейтингом игр от критиков и пользователей можно попробовать заполнить средним значением рейтинга относительно жанра игры и платформы. Однако рейтинг игры не зависит на прямую от жанра и платформы, на которой она вышла, а только от авторов. Информации по авторам у нас нет. \n",
    " * Пропуски в столбце с возрастным рейтингом могут повлиять на конечный результат исследования, так как нам необходимо узнать количество проданных игр по этим возрастным категориям, поэтому их лучше заполнить значением-заглушкой, например: 'unknown'."
   ]
  },
  {
   "cell_type": "code",
   "execution_count": 10,
   "metadata": {},
   "outputs": [
    {
     "data": {
      "text/html": [
       "<div>\n",
       "<style scoped>\n",
       "    .dataframe tbody tr th:only-of-type {\n",
       "        vertical-align: middle;\n",
       "    }\n",
       "\n",
       "    .dataframe tbody tr th {\n",
       "        vertical-align: top;\n",
       "    }\n",
       "\n",
       "    .dataframe thead th {\n",
       "        text-align: right;\n",
       "    }\n",
       "</style>\n",
       "<table border=\"1\" class=\"dataframe\">\n",
       "  <thead>\n",
       "    <tr style=\"text-align: right;\">\n",
       "      <th></th>\n",
       "      <th>name</th>\n",
       "      <th>platform</th>\n",
       "      <th>year_of_release</th>\n",
       "      <th>genre</th>\n",
       "      <th>na_sales</th>\n",
       "      <th>eu_sales</th>\n",
       "      <th>jp_sales</th>\n",
       "      <th>other_sales</th>\n",
       "      <th>critic_score</th>\n",
       "      <th>user_score</th>\n",
       "      <th>rating</th>\n",
       "    </tr>\n",
       "  </thead>\n",
       "  <tbody>\n",
       "    <tr>\n",
       "      <td>659</td>\n",
       "      <td>NaN</td>\n",
       "      <td>GEN</td>\n",
       "      <td>1993</td>\n",
       "      <td>NaN</td>\n",
       "      <td>1.78</td>\n",
       "      <td>0.53</td>\n",
       "      <td>0.00</td>\n",
       "      <td>0.08</td>\n",
       "      <td>NaN</td>\n",
       "      <td>NaN</td>\n",
       "      <td>NaN</td>\n",
       "    </tr>\n",
       "    <tr>\n",
       "      <td>14244</td>\n",
       "      <td>NaN</td>\n",
       "      <td>GEN</td>\n",
       "      <td>1993</td>\n",
       "      <td>NaN</td>\n",
       "      <td>0.00</td>\n",
       "      <td>0.00</td>\n",
       "      <td>0.03</td>\n",
       "      <td>0.00</td>\n",
       "      <td>NaN</td>\n",
       "      <td>NaN</td>\n",
       "      <td>NaN</td>\n",
       "    </tr>\n",
       "  </tbody>\n",
       "</table>\n",
       "</div>"
      ],
      "text/plain": [
       "      name platform  year_of_release genre  na_sales  eu_sales  jp_sales  \\\n",
       "659    NaN      GEN             1993   NaN      1.78      0.53      0.00   \n",
       "14244  NaN      GEN             1993   NaN      0.00      0.00      0.03   \n",
       "\n",
       "       other_sales  critic_score user_score rating  \n",
       "659           0.08           NaN        NaN    NaN  \n",
       "14244         0.00           NaN        NaN    NaN  "
      ]
     },
     "execution_count": 10,
     "metadata": {},
     "output_type": "execute_result"
    }
   ],
   "source": [
    "games_data[games_data['name'].isna()] # Посмотрим на строки с пропусками в столбце 'name'. "
   ]
  },
  {
   "cell_type": "markdown",
   "metadata": {},
   "source": [
    "Пропуски в столбцах 'genre' и 'name' находятся на одних и тех же строках. В столбцах с оценками и рейтингом также стоят пропуски. Удаление этих строк не повлияет на исследование, так как их мало и в других столбцах также отсутствуют данные."
   ]
  },
  {
   "cell_type": "code",
   "execution_count": 11,
   "metadata": {},
   "outputs": [
    {
     "data": {
      "text/plain": [
       "name                  0\n",
       "platform              0\n",
       "year_of_release     269\n",
       "genre                 0\n",
       "na_sales              0\n",
       "eu_sales              0\n",
       "jp_sales              0\n",
       "other_sales           0\n",
       "critic_score       8576\n",
       "user_score         6699\n",
       "rating             6764\n",
       "dtype: int64"
      ]
     },
     "execution_count": 11,
     "metadata": {},
     "output_type": "execute_result"
    }
   ],
   "source": [
    "games_data = games_data.dropna(subset=['name', 'genre'])\n",
    "games_data.isna().sum()"
   ]
  },
  {
   "cell_type": "markdown",
   "metadata": {},
   "source": [
    "В столбце user_score присутствует значение tbd из-за которого нельзя изменить тип на числовой. Так как столбец отражает рейтинг игр, на нулевое значение его тоже нельзя заменить, потому что у игры не может быть нулевой рейтинг. "
   ]
  },
  {
   "cell_type": "code",
   "execution_count": 12,
   "metadata": {},
   "outputs": [],
   "source": [
    "games_data['user_score'] = games_data['user_score'].replace('tbd', None) # Замена значения tbd на None."
   ]
  },
  {
   "cell_type": "code",
   "execution_count": 13,
   "metadata": {},
   "outputs": [],
   "source": [
    "games_data['user_score'] = pd.to_numeric(games_data['user_score']) # Приведение столбца user_score к типу float. "
   ]
  },
  {
   "cell_type": "code",
   "execution_count": 14,
   "metadata": {},
   "outputs": [
    {
     "data": {
      "text/plain": [
       "name                  0\n",
       "platform              0\n",
       "year_of_release     269\n",
       "genre                 0\n",
       "na_sales              0\n",
       "eu_sales              0\n",
       "jp_sales              0\n",
       "other_sales           0\n",
       "critic_score       8576\n",
       "user_score         7953\n",
       "rating                0\n",
       "dtype: int64"
      ]
     },
     "execution_count": 14,
     "metadata": {},
     "output_type": "execute_result"
    }
   ],
   "source": [
    "games_data['rating'] = games_data['rating'].fillna('Unknown') # Заполним пропуски в столбце 'raing' значением 'Unknown'.\n",
    "games_data.isna().sum()"
   ]
  },
  {
   "cell_type": "markdown",
   "metadata": {},
   "source": [
    "### Сумма продаж."
   ]
  },
  {
   "cell_type": "markdown",
   "metadata": {},
   "source": [
    "Подсчёт общей суммы продаж во всех регионах и сохранение в отдельном столбце."
   ]
  },
  {
   "cell_type": "code",
   "execution_count": 15,
   "metadata": {},
   "outputs": [],
   "source": [
    "games_data['total_sales'] = games_data['na_sales']+games_data['eu_sales']+games_data['jp_sales']+games_data['other_sales']"
   ]
  },
  {
   "cell_type": "markdown",
   "metadata": {},
   "source": [
    "### Вывод."
   ]
  },
  {
   "cell_type": "markdown",
   "metadata": {},
   "source": [
    "На данном этапе были выполнены следующие шаги:\n",
    "1. Изменены названия столбцов.\n",
    "2. Изменены типы данных в столбцах year_of_release и user_score.\n",
    "3. Пропуски не были заполнены, так как доступные данные не позволяют определить зависимость рейтинга игр от других факторов. Успешность игры зависит от авторов и от разработчика, но такой информации у нас нет.\n",
    "4. Посчитана сумма продаж во всех регионах."
   ]
  },
  {
   "cell_type": "markdown",
   "metadata": {},
   "source": [
    "## Исследовательский анализ."
   ]
  },
  {
   "cell_type": "markdown",
   "metadata": {},
   "source": [
    "При проведении исследовательского анализа будут выполнены следующие шаги:\n",
    "1. Посмотреть, сколько игр выпускалось в разные годы.\n",
    "2. Посмотреть, как менялись продажи по платформам. Выбрать платформы с наибольшими суммарными продажами и построить распределение по годам.\n",
    "3. Взять данные за соответствующий актуальный период. Актуальный период определить самостоятельно в результате исследования предыдущих вопросов. Основной фактор — эти данные помогут построить прогноз на 2017 год.\n",
    "4. Какие платформы лидируют по продажам, растут или падают? Выбрать несколько потенциально прибыльных платформ.\n",
    "5. Построить график «ящик с усами» по глобальным продажам игр в разбивке по платформам.\n",
    "6. Посмотреть, как влияют на продажи внутри одной популярной платформы отзывы пользователей и критиков.\n",
    "8. Посмотреть на общее распределение игр по жанрам. Что можно сказать о самых прибыльных жанрах? Выделяются ли жанры с высокими и низкими продажами?"
   ]
  },
  {
   "cell_type": "markdown",
   "metadata": {},
   "source": [
    "### Количество игр."
   ]
  },
  {
   "cell_type": "code",
   "execution_count": 16,
   "metadata": {},
   "outputs": [
    {
     "data": {
      "text/plain": [
       "Text(0, 0.5, 'Количество игр.')"
      ]
     },
     "execution_count": 16,
     "metadata": {},
     "output_type": "execute_result"
    },
    {
     "data": {
      "image/png": "[encoded data removed]",
      "text/plain": [
       "<Figure size 864x360 with 1 Axes>"
      ]
     },
     "metadata": {
      "needs_background": "light"
     },
     "output_type": "display_data"
    }
   ],
   "source": [
    "# Построение графика, отражающего количество игр, выпущенных по годам.\n",
    "games_data.pivot_table(index='year_of_release', values='name', aggfunc='count').plot(kind='bar', grid=True, figsize=(12, 5))\n",
    "plt.title('Количество выпущенных игр в разные годы.')\n",
    "plt.xlabel('Год выпуска.')\n",
    "plt.ylabel('Количество игр.')"
   ]
  },
  {
   "cell_type": "markdown",
   "metadata": {},
   "source": [
    "До 1995 года игр выпускалось очень мало, далее начался стабильный рост до 2009. Наибольшее количество игр было выпущено в 2008 и 2009 годах, после 2010 года количество выпущенных игр резко сократилось."
   ]
  },
  {
   "cell_type": "markdown",
   "metadata": {},
   "source": [
    "### Игровые платформы."
   ]
  },
  {
   "cell_type": "code",
   "execution_count": 17,
   "metadata": {
    "scrolled": true
   },
   "outputs": [
    {
     "data": {
      "text/plain": [
       "Text(0, 0.5, 'Сумма продаж, млн. копий.')"
      ]
     },
     "execution_count": 17,
     "metadata": {},
     "output_type": "execute_result"
    },
    {
     "data": {
      "image/png": "[encoded data removed]",
      "text/plain": [
       "<Figure size 7200x360 with 1 Axes>"
      ]
     },
     "metadata": {
      "needs_background": "light"
     },
     "output_type": "display_data"
    }
   ],
   "source": [
    "# Создание сводной таблицы для игровых платформ по годам, расчёт суммы продаж для каждой платформы по годам\n",
    "# и построение графика распределения.\n",
    "(games_data.pivot_table(index=(['platform', 'year_of_release']), values='total_sales', aggfunc='sum')\n",
    "     .plot(kind='bar', grid=True, figsize=(100, 5)))\n",
    "plt.title('Изменение продаж по платформам.')\n",
    "plt.xlabel('Года выпуска и платформы.')\n",
    "plt.ylabel('Сумма продаж, млн. копий.')"
   ]
  },
  {
   "cell_type": "markdown",
   "metadata": {},
   "source": [
    "Из графика видно, что платформы с наибольшими суммарными продажами это: DS, PS, PS2, PS3, PS4, Wii и Xbox360. Для них необходимо построить распределение по годам. "
   ]
  },
  {
   "cell_type": "code",
   "execution_count": 18,
   "metadata": {},
   "outputs": [
    {
     "data": {
      "text/plain": [
       "Text(0, 0.5, 'Сумма продаж, млн. копий.')"
      ]
     },
     "execution_count": 18,
     "metadata": {},
     "output_type": "execute_result"
    },
    {
     "data": {
      "image/png": "[encoded data removed]",
      "text/plain": [
       "<Figure size 1440x360 with 1 Axes>"
      ]
     },
     "metadata": {
      "needs_background": "light"
     },
     "output_type": "display_data"
    }
   ],
   "source": [
    "# Создание среза по названиям популярных игровых платформ и построение столбчатой диаграммы по годам.\n",
    "((games_data.query('platform in (\"DS\", \"PS\", \"PS2\", \"PS3\", \"PS4\", \"Wii\", \"X360\")'))\n",
    "    .pivot_table(index=(['platform', 'year_of_release']), values='total_sales', aggfunc='sum')\n",
    "    .plot(kind='bar', grid=True, figsize=(20, 5)))\n",
    "plt.title('Платформы с наибольшими суммарными продажами.')\n",
    "plt.xlabel('Год выпуска и платформы.')\n",
    "plt.ylabel('Сумма продаж, млн. копий.')"
   ]
  },
  {
   "cell_type": "markdown",
   "metadata": {},
   "source": [
    "На примере игровой платформы PS можно проследить динамику появления новых и исчезновения старых платформ. Среднее время жизни игровой платформы - 10 лет. Для всех платформ срок жизни можно поделить на 3 части: рост продаж, пик популярности и спад продаж. Время за которое платформа становится популярна - примерно 3 года. Это будет актуальный период для следующего шага исследования."
   ]
  },
  {
   "cell_type": "code",
   "execution_count": 19,
   "metadata": {},
   "outputs": [],
   "source": [
    "games_data_actual = games_data.query('year_of_release>=2014') # Выборка данных не позднее 2014 года и сохранение в переменной."
   ]
  },
  {
   "cell_type": "code",
   "execution_count": 20,
   "metadata": {},
   "outputs": [
    {
     "data": {
      "text/plain": [
       "Text(0, 0.5, 'Сумма продаж, млн. копий.')"
      ]
     },
     "execution_count": 20,
     "metadata": {},
     "output_type": "execute_result"
    },
    {
     "data": {
      "image/png": "[encoded data removed]",
      "text/plain": [
       "<Figure size 864x360 with 1 Axes>"
      ]
     },
     "metadata": {
      "needs_background": "light"
     },
     "output_type": "display_data"
    }
   ],
   "source": [
    "# Создание сводной таблицы по годам с 2014 и построение столбчатой диаграммы по годам и платформам. \n",
    "(games_data_actual.pivot_table(index=(['platform', 'year_of_release']), values='total_sales', aggfunc='sum')\n",
    "    .plot(kind='bar', grid=True, figsize=(12, 5)))\n",
    "plt.title('Количество проданных игр за актуальный период.')\n",
    "plt.xlabel('Год выпуска и платформы.')\n",
    "plt.ylabel('Сумма продаж, млн. копий.')"
   ]
  },
  {
   "cell_type": "markdown",
   "metadata": {},
   "source": [
    " * Продажи игр на всех платформах за актуальный период снижаются. Возможно это связано с неполнотой данных за 2016 год. В таком случае перспективными платформами выглядят PS4 и XOne, так как с учётом предыдущих графиков эти платформы появились в 2013 годах, и находятся на пике продаж. \n",
    " * Также к перспективным платформам можно добавить 3DS и PC. \n",
    " * Персональные компьютеры имеют неограниченный цикл жизни, так как их можно модернизировать неограниченное число раз и всегда поддерживать в актуальном состоянии. \n",
    " * У платформы 3DS пока не появился преемник, поэтому она также будет продаваться длительное время. Остальные платформы не популярны, и наблюдается явный спад."
   ]
  },
  {
   "cell_type": "code",
   "execution_count": 21,
   "metadata": {},
   "outputs": [],
   "source": [
    "# Срез по перспективным платформам за актуальный период и сохранение в переменную.\n",
    "games_data_platform = games_data.query('platform in (\"PS4\", \"XOne\", \"3DS\", \"PC\") and year_of_release>=2014')"
   ]
  },
  {
   "cell_type": "code",
   "execution_count": 22,
   "metadata": {
    "scrolled": true
   },
   "outputs": [
    {
     "name": "stderr",
     "output_type": "stream",
     "text": [
      "/opt/conda/lib/python3.7/site-packages/numpy/core/_asarray.py:83: VisibleDeprecationWarning: Creating an ndarray from ragged nested sequences (which is a list-or-tuple of lists-or-tuples-or ndarrays with different lengths or shapes) is deprecated. If you meant to do this, you must specify 'dtype=object' when creating the ndarray\n",
      "  return array(a, dtype, copy=False, order=order)\n"
     ]
    },
    {
     "data": {
      "image/png": "[encoded data removed]",
      "text/plain": [
       "<Figure size 648x360 with 1 Axes>"
      ]
     },
     "metadata": {
      "needs_background": "light"
     },
     "output_type": "display_data"
    }
   ],
   "source": [
    "# Построение 'ящика с усами'. \n",
    "games_data_platform.boxplot(column='total_sales', by='platform', figsize=(9, 5))\n",
    "plt.xlabel('Распределение данных для платформ.')\n",
    "plt.show()"
   ]
  },
  {
   "cell_type": "markdown",
   "metadata": {},
   "source": [
    "Полученный график показывает распределение данных для платформ PS4, XOne, 3DS и PC. В данных довольно много выбросов и на таком графике не видно как распределены данные по квартилям. Необходимо увеличить масштаб."
   ]
  },
  {
   "cell_type": "code",
   "execution_count": 23,
   "metadata": {
    "scrolled": true
   },
   "outputs": [
    {
     "name": "stderr",
     "output_type": "stream",
     "text": [
      "/opt/conda/lib/python3.7/site-packages/numpy/core/_asarray.py:83: VisibleDeprecationWarning: Creating an ndarray from ragged nested sequences (which is a list-or-tuple of lists-or-tuples-or ndarrays with different lengths or shapes) is deprecated. If you meant to do this, you must specify 'dtype=object' when creating the ndarray\n",
      "  return array(a, dtype, copy=False, order=order)\n"
     ]
    },
    {
     "data": {
      "image/png": "[encoded data removed]",
      "text/plain": [
       "<Figure size 648x360 with 1 Axes>"
      ]
     },
     "metadata": {
      "needs_background": "light"
     },
     "output_type": "display_data"
    }
   ],
   "source": [
    "# Построение 'ящика с усами' в увеличенном масштабе. \n",
    "games_data_platform.boxplot(column='total_sales', by='platform', figsize=(9, 5))\n",
    "plt.ylim(-0.5,2)# Изменение масштаба по оси ординат.\n",
    "plt.xlabel('Распределение данных для платформы.')\n",
    "plt.show()"
   ]
  },
  {
   "cell_type": "markdown",
   "metadata": {},
   "source": [
    "Данные скошены вправо для всех платформ в сторону 1 квартили, среднее значение больше медианы."
   ]
  },
  {
   "cell_type": "markdown",
   "metadata": {},
   "source": [
    "### Отзывы пользователей и критиков."
   ]
  },
  {
   "cell_type": "markdown",
   "metadata": {},
   "source": [
    "Наиболее популярная игровая платформа за актуальный период - PS4. Рассмотрим зависимость продаж от отзывов критиков и пользователей."
   ]
  },
  {
   "cell_type": "code",
   "execution_count": 24,
   "metadata": {
    "scrolled": false
   },
   "outputs": [
    {
     "data": {
      "text/plain": [
       "Text(0, 0.5, 'Количество продаж, млн. копий.')"
      ]
     },
     "execution_count": 24,
     "metadata": {},
     "output_type": "execute_result"
    },
    {
     "data": {
      "image/png": "[encoded data removed]",
      "text/plain": [
       "<Figure size 432x288 with 1 Axes>"
      ]
     },
     "metadata": {
      "needs_background": "light"
     },
     "output_type": "display_data"
    }
   ],
   "source": [
    "# Создание среза для платформы PS4 за актуальный период и постройка диаграммы рассеяния для отзывов пользователей и продаж.\n",
    "((games_data.query('platform in \"PS4\" and year_of_release>=2014'))\n",
    "    .plot(x='user_score', y='total_sales', kind=\"scatter\", grid=True))\n",
    "plt.title('Зависимость количества родаж от рейтинга пользователей.')\n",
    "plt.xlabel('Рейтинг пользователей.')\n",
    "plt.ylabel('Количество продаж, млн. копий.')"
   ]
  },
  {
   "cell_type": "markdown",
   "metadata": {},
   "source": [
    "На графике можно увидеть, что чаще продаются игры с более высоким пользовательским рейтингом. Также есть выбивающиеся значения показывающие, что не всегда плохой рейтинг пользователей говорит о низких продажах игры."
   ]
  },
  {
   "cell_type": "code",
   "execution_count": 25,
   "metadata": {},
   "outputs": [
    {
     "data": {
      "text/plain": [
       "Text(0, 0.5, 'Количество продаж, млн. копий.')"
      ]
     },
     "execution_count": 25,
     "metadata": {},
     "output_type": "execute_result"
    },
    {
     "data": {
      "image/png": "[encoded data removed]",
      "text/plain": [
       "<Figure size 432x288 with 1 Axes>"
      ]
     },
     "metadata": {
      "needs_background": "light"
     },
     "output_type": "display_data"
    }
   ],
   "source": [
    "# Создание среза для платформы PS4 за актуальный период и постройка диаграммы рассеяния для отзывов критиков и продаж.\n",
    "((games_data.query('platform in \"PS4\" and year_of_release>=2014'))\n",
    "    .plot(x='critic_score', y='total_sales', kind=\"scatter\", grid=True))\n",
    "plt.title('Зависимость количества продаж от рейтинга критиков.')\n",
    "plt.xlabel('Рейтинг критиков.')\n",
    "plt.ylabel('Количество продаж, млн. копий.')"
   ]
  },
  {
   "cell_type": "markdown",
   "metadata": {},
   "source": [
    "На графике видно, что с ростом оценки критиков, продажи растут по экспоненте."
   ]
  },
  {
   "cell_type": "code",
   "execution_count": 26,
   "metadata": {},
   "outputs": [
    {
     "data": {
      "text/html": [
       "<div>\n",
       "<style scoped>\n",
       "    .dataframe tbody tr th:only-of-type {\n",
       "        vertical-align: middle;\n",
       "    }\n",
       "\n",
       "    .dataframe tbody tr th {\n",
       "        vertical-align: top;\n",
       "    }\n",
       "\n",
       "    .dataframe thead th {\n",
       "        text-align: right;\n",
       "    }\n",
       "</style>\n",
       "<table border=\"1\" class=\"dataframe\">\n",
       "  <thead>\n",
       "    <tr style=\"text-align: right;\">\n",
       "      <th></th>\n",
       "      <th>user_score</th>\n",
       "      <th>critic_score</th>\n",
       "      <th>total_sales</th>\n",
       "    </tr>\n",
       "  </thead>\n",
       "  <tbody>\n",
       "    <tr>\n",
       "      <td>user_score</td>\n",
       "      <td>1.000000</td>\n",
       "      <td>0.544457</td>\n",
       "      <td>-0.035010</td>\n",
       "    </tr>\n",
       "    <tr>\n",
       "      <td>critic_score</td>\n",
       "      <td>0.544457</td>\n",
       "      <td>1.000000</td>\n",
       "      <td>0.402661</td>\n",
       "    </tr>\n",
       "    <tr>\n",
       "      <td>total_sales</td>\n",
       "      <td>-0.035010</td>\n",
       "      <td>0.402661</td>\n",
       "      <td>1.000000</td>\n",
       "    </tr>\n",
       "  </tbody>\n",
       "</table>\n",
       "</div>"
      ],
      "text/plain": [
       "              user_score  critic_score  total_sales\n",
       "user_score      1.000000      0.544457    -0.035010\n",
       "critic_score    0.544457      1.000000     0.402661\n",
       "total_sales    -0.035010      0.402661     1.000000"
      ]
     },
     "execution_count": 26,
     "metadata": {},
     "output_type": "execute_result"
    }
   ],
   "source": [
    "# Определение коэффициента Пирсона для отзывов и количества проданных игр.\n",
    "(games_data.query('platform in \"PS4\" and year_of_release>=2014'))[['user_score', 'critic_score', 'total_sales']].corr()"
   ]
  },
  {
   "cell_type": "markdown",
   "metadata": {},
   "source": [
    "Количество проданных копий игр линейно зависит от отзывов критиков, но нет линейной зависимости от отзывов пользователей.\n",
    "\n",
    "Теперь необходимо рассмотреть такуюже зависимость между отзывами и количеством продаж для остальных платформ за актуальный период."
   ]
  },
  {
   "cell_type": "code",
   "execution_count": 27,
   "metadata": {},
   "outputs": [],
   "source": [
    "platform_data = games_data.query('year_of_release>=2014')"
   ]
  },
  {
   "cell_type": "code",
   "execution_count": 28,
   "metadata": {
    "scrolled": true
   },
   "outputs": [
    {
     "data": {
      "image/png": "[encoded data removed]",
      "text/plain": [
       "<Figure size 927.125x1152 with 10 Axes>"
      ]
     },
     "metadata": {
      "needs_background": "light"
     },
     "output_type": "display_data"
    }
   ],
   "source": [
    "# Построение диаграммы рассеяния для остальных платформ по отзывам пользователей.\n",
    "platform = sns.FacetGrid(data=platform_data, col='platform', hue='platform', col_wrap=3, height=4)\n",
    "platform.map(sns.scatterplot, 'user_score', 'total_sales')\n",
    "platform.add_legend()\n",
    "plt.show()"
   ]
  },
  {
   "cell_type": "markdown",
   "metadata": {},
   "source": [
    "Для остальных платформ зависимость схожа с зависимостью для платформы PS4. Игры с более высоким рейтингом чаще покупают."
   ]
  },
  {
   "cell_type": "code",
   "execution_count": 29,
   "metadata": {},
   "outputs": [
    {
     "data": {
      "image/png": "[encoded data removed]",
      "text/plain": [
       "<Figure size 927.125x1152 with 10 Axes>"
      ]
     },
     "metadata": {
      "needs_background": "light"
     },
     "output_type": "display_data"
    }
   ],
   "source": [
    "# Построение диаграммы рассеяния для остальных платформ по отзывам критиков.\n",
    "platform = sns.FacetGrid(data=platform_data, col='platform', hue='platform', col_wrap=3, height=4)\n",
    "platform.map(sns.scatterplot, 'critic_score', 'total_sales')\n",
    "platform.add_legend()\n",
    "plt.show()"
   ]
  },
  {
   "cell_type": "markdown",
   "metadata": {},
   "source": [
    "Для остальных платформ зависимость количества продаж от рейтинга критиков такая же как и для платфоормы PS4. Игры с более высоким рейтингом чаще покупают."
   ]
  },
  {
   "cell_type": "code",
   "execution_count": 30,
   "metadata": {
    "scrolled": true
   },
   "outputs": [
    {
     "data": {
      "text/html": [
       "<div>\n",
       "<style scoped>\n",
       "    .dataframe tbody tr th:only-of-type {\n",
       "        vertical-align: middle;\n",
       "    }\n",
       "\n",
       "    .dataframe tbody tr th {\n",
       "        vertical-align: top;\n",
       "    }\n",
       "\n",
       "    .dataframe thead th {\n",
       "        text-align: right;\n",
       "    }\n",
       "</style>\n",
       "<table border=\"1\" class=\"dataframe\">\n",
       "  <thead>\n",
       "    <tr style=\"text-align: right;\">\n",
       "      <th></th>\n",
       "      <th>user_score</th>\n",
       "      <th>critic_score</th>\n",
       "      <th>total_sales</th>\n",
       "    </tr>\n",
       "  </thead>\n",
       "  <tbody>\n",
       "    <tr>\n",
       "      <td>user_score</td>\n",
       "      <td>1.000000</td>\n",
       "      <td>0.502159</td>\n",
       "      <td>-0.012385</td>\n",
       "    </tr>\n",
       "    <tr>\n",
       "      <td>critic_score</td>\n",
       "      <td>0.502159</td>\n",
       "      <td>1.000000</td>\n",
       "      <td>0.328105</td>\n",
       "    </tr>\n",
       "    <tr>\n",
       "      <td>total_sales</td>\n",
       "      <td>-0.012385</td>\n",
       "      <td>0.328105</td>\n",
       "      <td>1.000000</td>\n",
       "    </tr>\n",
       "  </tbody>\n",
       "</table>\n",
       "</div>"
      ],
      "text/plain": [
       "              user_score  critic_score  total_sales\n",
       "user_score      1.000000      0.502159    -0.012385\n",
       "critic_score    0.502159      1.000000     0.328105\n",
       "total_sales    -0.012385      0.328105     1.000000"
      ]
     },
     "execution_count": 30,
     "metadata": {},
     "output_type": "execute_result"
    }
   ],
   "source": [
    "games_data_actual[['user_score', 'critic_score', 'total_sales']].corr()"
   ]
  },
  {
   "cell_type": "markdown",
   "metadata": {},
   "source": [
    "Есть линейная зависимость между количеством проданных игр и отзывами критиков, но нет такой зависимости между отзывами пользователей и продажами."
   ]
  },
  {
   "cell_type": "markdown",
   "metadata": {},
   "source": [
    "### Жанры игр."
   ]
  },
  {
   "cell_type": "code",
   "execution_count": 31,
   "metadata": {},
   "outputs": [
    {
     "data": {
      "text/plain": [
       "Text(0, 0.5, 'Количество продаж, млн. копий.')"
      ]
     },
     "execution_count": 31,
     "metadata": {},
     "output_type": "execute_result"
    },
    {
     "data": {
      "image/png": "[encoded data removed]",
      "text/plain": [
       "<Figure size 432x288 with 1 Axes>"
      ]
     },
     "metadata": {
      "needs_background": "light"
     },
     "output_type": "display_data"
    }
   ],
   "source": [
    "# Построение столбчатой диаграммы количества продаж по жанрам игр.\n",
    "(games_data_actual.pivot_table(index='genre', values='total_sales', aggfunc='median')\n",
    "     .plot(kind='bar', grid=True))\n",
    "plt.title('Количество продаж по жанрам.')\n",
    "plt.xlabel('Жанры.')\n",
    "plt.ylabel('Количество продаж, млн. копий.')"
   ]
  },
  {
   "cell_type": "markdown",
   "metadata": {},
   "source": [
    "Жанр с наибольшей прибылью это shooter. Также хорошо продаются жанры sports, platform, fighting и role-playing."
   ]
  },
  {
   "cell_type": "markdown",
   "metadata": {},
   "source": [
    "### Вывод."
   ]
  },
  {
   "cell_type": "markdown",
   "metadata": {},
   "source": [
    "Был проведён исследовательский анализ данных и выполнены следующие пункты:\n",
    "1. Построен график, отражающий количество проданных игр в зависимости от года выпуска.\n",
    "2. Исследовано изменение продаж по платформам, определён актуальный цикл жизни отдельной платформы (примерно 10 лет), определены наиболее перспективные платформы (PS4, XOne, 3DS и PC), исследованы распределения данных для этих платформ.\n",
    "3. Была определена зависимость количества проданных копий игр от рейтинга пользователей и критиков. Чем выше рейтинг игры, тем чаще её покупают.\n",
    "4. Определены наиболее прибыльные жанры игр. В целом игроки чаще покупают динамичные игры таких жанров как: shooter, sports, platform, fighting и role-playing.\n"
   ]
  },
  {
   "cell_type": "markdown",
   "metadata": {},
   "source": [
    "## Портрет пользователей."
   ]
  },
  {
   "cell_type": "markdown",
   "metadata": {},
   "source": [
    "При составлении портрета пользователей необходимо определить для пользователя каждого региона (NA, EU, JP):\n",
    "1. Самые популярные платформы (топ-5).\n",
    "2. Самые популярные жанры (топ-5).\n",
    "3. Влияет ли рейтинг ESRB на продажи в отдельном регионе? "
   ]
  },
  {
   "cell_type": "markdown",
   "metadata": {},
   "source": [
    "### Платформы."
   ]
  },
  {
   "cell_type": "code",
   "execution_count": 32,
   "metadata": {},
   "outputs": [
    {
     "data": {
      "image/png": "[encoded data removed]",
      "text/plain": [
       "<Figure size 504x504 with 1 Axes>"
      ]
     },
     "metadata": {},
     "output_type": "display_data"
    }
   ],
   "source": [
    "# Топ-5 для Северной Америки.\n",
    "(games_data_actual.groupby('platform').agg({'na_sales': 'sum'}).sort_values(by='na_sales', ascending=False).head()\n",
    "     .plot(kind='pie', x='platform', y='na_sales', autopct='%1.1f%%', figsize=(7, 7), title='Топ-5 в Северной Америке.'))\n",
    "plt.show()"
   ]
  },
  {
   "cell_type": "markdown",
   "metadata": {},
   "source": [
    "В Северной Америке наиболее популярны платформы PS4 и XOne. Игры для этих платформ покупают почти в 3-4 раза больше чем для PS3, 3DS и X360."
   ]
  },
  {
   "cell_type": "code",
   "execution_count": 33,
   "metadata": {},
   "outputs": [
    {
     "data": {
      "image/png": "[encoded data removed]",
      "text/plain": [
       "<Figure size 504x504 with 1 Axes>"
      ]
     },
     "metadata": {},
     "output_type": "display_data"
    }
   ],
   "source": [
    "# Топ-5 для Европы.\n",
    "(games_data_actual.groupby('platform').agg({'eu_sales': 'sum'}).sort_values(by='eu_sales', ascending=False).head()\n",
    "    .plot(kind='pie', x='platform', y='eu_sales', autopct='%1.1f%%', figsize=(7, 7), title='Топ-5 в Европе'))\n",
    "plt.show()"
   ]
  },
  {
   "cell_type": "markdown",
   "metadata": {},
   "source": [
    "В Европе наиболее популярна платформа PS4. Игры для этой платформы покупает каждый 2-ой европеец. Ближайший преследователь это платформа XOne, её покупает каждый 5-й европеец. Доля продаж остальных платформ для Европы составляет менее 10%."
   ]
  },
  {
   "cell_type": "code",
   "execution_count": 34,
   "metadata": {},
   "outputs": [
    {
     "data": {
      "image/png": "[encoded data removed]",
      "text/plain": [
       "<Figure size 504x504 with 1 Axes>"
      ]
     },
     "metadata": {},
     "output_type": "display_data"
    }
   ],
   "source": [
    "# Топ-5 для Японии.\n",
    "(games_data_actual.groupby('platform').agg({'jp_sales': 'sum'}).sort_values(by='jp_sales', ascending=False).head()\n",
    "    .plot(kind='pie', x='platform', y='jp_sales', autopct='%1.1f%%', figsize=(7, 7), title='Топ-5 в Японии.'))\n",
    "plt.show()"
   ]
  },
  {
   "cell_type": "markdown",
   "metadata": {},
   "source": [
    "В Японии наиболее популярна 3DS, которую покупает каждый 2-ой японец. Платформы PS4 и PSV продаются в 3 раза хуже, а PS3 в 4. Хуже всех дела обстоят у платформы WiiU, она продаётся в 6 раз хуже 3DS."
   ]
  },
  {
   "cell_type": "markdown",
   "metadata": {},
   "source": [
    "### Жанры."
   ]
  },
  {
   "cell_type": "code",
   "execution_count": 35,
   "metadata": {},
   "outputs": [
    {
     "data": {
      "image/png": "[encoded data removed]",
      "text/plain": [
       "<Figure size 504x504 with 1 Axes>"
      ]
     },
     "metadata": {},
     "output_type": "display_data"
    }
   ],
   "source": [
    "# Топ-5 жанров для Северной Америки.\n",
    "(games_data_actual.groupby('genre').agg({'na_sales': 'sum'}).sort_values(by='na_sales', ascending=False).head()\n",
    "    .plot(kind='pie', x='genre', y='na_sales', autopct='%1.1f%%', figsize=(7, 7), title='Топ-5 жанров в Северной Америке.'))\n",
    "plt.show()"
   ]
  },
  {
   "cell_type": "markdown",
   "metadata": {},
   "source": [
    "В Северной Америке пользователи отдают предпочтение играм таких жанров как shooter и action, их покупают в 1.5 раза чаще чем sports, в 2 раза чаще чем role-playing и 5 раз чаще чем misc."
   ]
  },
  {
   "cell_type": "code",
   "execution_count": 36,
   "metadata": {},
   "outputs": [
    {
     "data": {
      "image/png": "[encoded data removed]",
      "text/plain": [
       "<Figure size 504x504 with 1 Axes>"
      ]
     },
     "metadata": {},
     "output_type": "display_data"
    }
   ],
   "source": [
    "# Топ-5 жанров для Европы.\n",
    "(games_data_actual.groupby('genre').agg({'eu_sales': 'sum'}).sort_values(by='eu_sales', ascending=False).head()\n",
    "    .plot(kind='pie', x='genre', y='eu_sales', autopct='%1.1f%%', figsize=(7, 7), title='Топ-5 жанров в Европе.'))\n",
    "plt.show()"
   ]
  },
  {
   "cell_type": "markdown",
   "metadata": {},
   "source": [
    "В Европе у игроков схожие вкусы, также самыми популярными жанрами являются action и shooter. Игры жанра sports тоже хорошо продаются, всего в 1.5 раза хуже вышеупомянутых жанров. Игры role-playing продаются в 2.5 раза хуже чем action и sports, а racing - в 5 раз хуже."
   ]
  },
  {
   "cell_type": "code",
   "execution_count": 37,
   "metadata": {},
   "outputs": [
    {
     "data": {
      "image/png": "[encoded data removed]",
      "text/plain": [
       "<Figure size 504x504 with 1 Axes>"
      ]
     },
     "metadata": {},
     "output_type": "display_data"
    }
   ],
   "source": [
    "# Топ-5 жанров для Японии.\n",
    "(games_data_actual.groupby('genre').agg({'jp_sales': 'sum'}).sort_values(by='jp_sales', ascending=False).head()\n",
    "    .plot(kind='pie', x='genre', y='jp_sales', autopct='%1.1f%%', figsize=(7, 7), title='Топ-5 жанров в Японии.'))\n",
    "plt.show()"
   ]
  },
  {
   "cell_type": "markdown",
   "metadata": {},
   "source": [
    "В Японии совсем иная картина. Наиболее популярные жанры игр это role-playing и action. Игры остальных жанров (shooter, misc и fighting), входящих в топ-5, в 6-8 раз менее популярны."
   ]
  },
  {
   "cell_type": "markdown",
   "metadata": {},
   "source": [
    "### Рейтинг ESRB."
   ]
  },
  {
   "cell_type": "markdown",
   "metadata": {},
   "source": [
    "В рейтинге ESRB существует несколько категорий:\n",
    "- AO (Adults only 18+) — только для взрослых\n",
    "- E - everyone - для всех\n",
    "- M (Mature 17+) — от 17 лет\n",
    "- T (Teen) — для подростков 13-19 лет\n",
    "- K-A (Kids to Adults)— для детей и взрослых\n",
    "- E10+ (Everyone 10+) — для всех старше 10 лет\n",
    "- EC (Early Childhood) — для детей младшего возраста\n",
    "- RP (Rating pending) — рейтинг ожидается"
   ]
  },
  {
   "cell_type": "code",
   "execution_count": 38,
   "metadata": {
    "scrolled": true
   },
   "outputs": [
    {
     "data": {
      "text/plain": [
       "Text(0, 0.5, 'Количество продаж в Северной Америке.')"
      ]
     },
     "execution_count": 38,
     "metadata": {},
     "output_type": "execute_result"
    },
    {
     "data": {
      "image/png": "[encoded data removed]",
      "text/plain": [
       "<Figure size 432x288 with 1 Axes>"
      ]
     },
     "metadata": {
      "needs_background": "light"
     },
     "output_type": "display_data"
    }
   ],
   "source": [
    "# Рейтинг ESRB для Северной Америки.\n",
    "((games_data.query('year_of_release>=2014'))\n",
    "    .groupby('rating').agg({'na_sales': 'sum'})\n",
    "    .plot(kind='bar', grid=True))\n",
    "plt.title('Рейтинг ESRB для Северной Америки.')\n",
    "plt.xlabel('Рейтинг ESRB.')\n",
    "plt.ylabel('Количество продаж в Северной Америке.')"
   ]
  },
  {
   "cell_type": "markdown",
   "metadata": {},
   "source": [
    "В Северной Америке наиболее популярны игры с рейтингом M (от 17 лет). Игры с рейтингом E (для всех), E10+ (для всех старше 10 лет) и T (для подростков 13-19 лет) покупают реже в 2-3 раза. Игры без рейтинга покупает значительное количество игроков, они находятся на втором месте по популярности после игр с рейтингом E."
   ]
  },
  {
   "cell_type": "code",
   "execution_count": 39,
   "metadata": {},
   "outputs": [
    {
     "data": {
      "text/plain": [
       "Text(0, 0.5, 'Количество продаж в Европе.')"
      ]
     },
     "execution_count": 39,
     "metadata": {},
     "output_type": "execute_result"
    },
    {
     "data": {
      "image/png": "[encoded data removed]",
      "text/plain": [
       "<Figure size 432x288 with 1 Axes>"
      ]
     },
     "metadata": {
      "needs_background": "light"
     },
     "output_type": "display_data"
    }
   ],
   "source": [
    "# Рейтинг ESRB для Европы.\n",
    "((games_data.query('year_of_release>=2014'))\n",
    "    .groupby('rating').agg({'eu_sales': 'sum'})\n",
    "    .plot(kind='bar', grid=True))\n",
    "plt.title('Рейтинг ESRB для Европы.')\n",
    "plt.xlabel('Рейтинг ESRB.')\n",
    "plt.ylabel('Количество продаж в Европе.')"
   ]
  },
  {
   "cell_type": "markdown",
   "metadata": {},
   "source": [
    "В Европе картина схожая, но игры с рейтингом M (от 17 лет) продаются в 3 раза больше чем игры с рейтингами E10+ (для всех старше 10 лет) и T (для подростков 13-19 лет). Игры без рейтинга также популярны как и гры с рейтингом E (для всех), то есть в 2 раза хуже самых популярных игр с рейтингом M (от 17 лет)."
   ]
  },
  {
   "cell_type": "code",
   "execution_count": 40,
   "metadata": {},
   "outputs": [
    {
     "data": {
      "text/plain": [
       "Text(0, 0.5, 'Количество продаж в Японии.')"
      ]
     },
     "execution_count": 40,
     "metadata": {},
     "output_type": "execute_result"
    },
    {
     "data": {
      "image/png": "[encoded data removed]",
      "text/plain": [
       "<Figure size 432x288 with 1 Axes>"
      ]
     },
     "metadata": {
      "needs_background": "light"
     },
     "output_type": "display_data"
    }
   ],
   "source": [
    "# Рейтинг ESRB для Японии.\n",
    "((games_data.query('year_of_release>=2014'))\n",
    "    .groupby('rating').agg({'jp_sales': 'sum'})\n",
    "    .plot(kind='bar', grid=True))\n",
    "plt.title('Рейтинг ESRB для Японии.')\n",
    "plt.xlabel('Рейтинг ESRB.')\n",
    "plt.ylabel('Количество продаж в Японии.')"
   ]
  },
  {
   "cell_type": "markdown",
   "metadata": {},
   "source": [
    "В Японии основную часть игр покупают без возрастного рейтинга. Остальные игры с рейтингоми T (для подростков 13-19 лет), E (для всех), E10+ (для всех старше 10 лет) и M (от 17 лет), продаются в 5-6 раз хуже."
   ]
  },
  {
   "cell_type": "markdown",
   "metadata": {},
   "source": [
    "### Вывод."
   ]
  },
  {
   "cell_type": "markdown",
   "metadata": {},
   "source": [
    " * Был определён портрет пользователей по трём регионам - Северная Америка, Европа и Япония. \n",
    " * Пользователи Северной Америки и Европы схожи между собой. Они предпочитают примерно одни и теже платформы и жанры игр.\n",
    " * Пользователи из Японии значительно отличаются как по жанрам так и по предпочтениям в выборе игровых платформ.\n",
    " * Такое поведение игроков можно наблюдать и при расмотрении возрастного рейтинга для игр. В Японии основную долю продаж составляют игры без рейтинга. А в Северной Америке и Европе основную часть игр покупают пользователи старше 17 лет."
   ]
  },
  {
   "cell_type": "markdown",
   "metadata": {},
   "source": [
    "## Гипотезы."
   ]
  },
  {
   "cell_type": "markdown",
   "metadata": {},
   "source": [
    "На данном этапе проекта будут проверены гипотезы:\n",
    "1. Средние пользовательские рейтинги платформ Xbox One и PC одинаковые;\n",
    "2. Средние пользовательские рейтинги жанров Action (англ. «действие», экшен-игры) и Sports (англ. «спортивные соревнования») разные."
   ]
  },
  {
   "cell_type": "markdown",
   "metadata": {},
   "source": [
    "### Рейтинг Xbox One и PC."
   ]
  },
  {
   "cell_type": "markdown",
   "metadata": {},
   "source": [
    "Формулировка нулевой и альтернативной гипотез:\n",
    " - Нулевая гипотеза - средние пользовательские рейтинги платформ Xbox One и PC одинаковые.\n",
    " - Альтернативная гипотеза - средние пользовательские рейтинги платформ Xbox One и PC разные."
   ]
  },
  {
   "cell_type": "markdown",
   "metadata": {},
   "source": [
    "Необходимо проверить гипотезу о равенстве среднего двух генеральных совокупностей. Для этого выполняется t-test с условием равенства дисперсий в сравниваемых выборках."
   ]
  },
  {
   "cell_type": "code",
   "execution_count": 41,
   "metadata": {},
   "outputs": [],
   "source": [
    "# Создание срезов для платформ Xbox One и PC.\n",
    "sample_1 = games_data.query('year_of_release>=2014 and platform==\"XOne\" and user_score.isna()!=True')\n",
    "sample_2 = games_data.query('year_of_release>=2014 and platform==\"PC\" and user_score.isna()!=True')"
   ]
  },
  {
   "cell_type": "code",
   "execution_count": 46,
   "metadata": {},
   "outputs": [
    {
     "data": {
      "text/plain": [
       "count    168.000000\n",
       "mean       6.597024\n",
       "std        1.366206\n",
       "min        1.600000\n",
       "25%        5.800000\n",
       "50%        6.800000\n",
       "75%        7.625000\n",
       "max        9.200000\n",
       "Name: user_score, dtype: float64"
      ]
     },
     "execution_count": 46,
     "metadata": {},
     "output_type": "execute_result"
    }
   ],
   "source": [
    "# Прверка дисперсий выборок.\n",
    "sample_1['user_score'].describe()"
   ]
  },
  {
   "cell_type": "code",
   "execution_count": 47,
   "metadata": {
    "scrolled": true
   },
   "outputs": [
    {
     "data": {
      "text/plain": [
       "count    123.000000\n",
       "mean       6.314634\n",
       "std        1.705857\n",
       "min        1.400000\n",
       "25%        5.350000\n",
       "50%        6.800000\n",
       "75%        7.600000\n",
       "max        9.300000\n",
       "Name: user_score, dtype: float64"
      ]
     },
     "execution_count": 47,
     "metadata": {},
     "output_type": "execute_result"
    }
   ],
   "source": [
    "sample_2['user_score'].describe()"
   ]
  },
  {
   "cell_type": "markdown",
   "metadata": {},
   "source": [
    "Дисперсии различаются, поэтому параметр равенства необходимо задать False."
   ]
  },
  {
   "cell_type": "code",
   "execution_count": 48,
   "metadata": {},
   "outputs": [
    {
     "name": "stdout",
     "output_type": "stream",
     "text": [
      "p-значение:  0.13130164268728325\n",
      "Не получилось отвергнуть нулевую гипотезу\n"
     ]
    }
   ],
   "source": [
    "alpha = .05 # критический уровень статистической значимости\n",
    "# если p-value окажется меньше него - отвергнем гипотезу\n",
    "\n",
    "results = st.ttest_ind(sample_1['user_score'], sample_2['user_score'], equal_var=False, nan_policy='omit')\n",
    "\n",
    "print('p-значение: ', results.pvalue)\n",
    "if results.pvalue < alpha:\n",
    "    print('Отвергаем нулевую гипотезу.')\n",
    "else:\n",
    "    print('Не получилось отвергнуть нулевую гипотезу')"
   ]
  },
  {
   "cell_type": "markdown",
   "metadata": {},
   "source": [
    "Проведённый тест показал, что нулевую гипотезу следует принять."
   ]
  },
  {
   "cell_type": "markdown",
   "metadata": {},
   "source": [
    "### Рейтинг жанров Action и Sports."
   ]
  },
  {
   "cell_type": "markdown",
   "metadata": {},
   "source": [
    "Формулировка нулевой и альтернативной гипотез:\n",
    " - Нулевая гипотеза - средние пользовательские рейтинги жанров Action (англ. «действие», экшен-игры) и Sports (англ. «спортивные соревнования») разные.\n",
    " - Альтернативная гипотеза - средние пользовательские рейтинги жанров Action (англ. «действие», экшен-игры) и Sports англ. «спортивные соревнования») одинаковые."
   ]
  },
  {
   "cell_type": "markdown",
   "metadata": {},
   "source": [
    "Здесь также необходимо проверить гипотезу о равенстве среднего двух генеральных совокупностей. Для этого выполняется t-test с условием равенства дисперсий в сравниваемых выборках."
   ]
  },
  {
   "cell_type": "code",
   "execution_count": 49,
   "metadata": {},
   "outputs": [],
   "source": [
    "# Создание срезов для жанров Action и Sports.\n",
    "sample_1 = games_data.query('year_of_release>=2014 and genre==\"Action\" and user_score.isna()!=True')\n",
    "sample_2 = games_data.query('year_of_release>=2014 and genre==\"Sports\" and user_score.isna()!=True')"
   ]
  },
  {
   "cell_type": "code",
   "execution_count": 50,
   "metadata": {},
   "outputs": [
    {
     "data": {
      "text/plain": [
       "count    313.000000\n",
       "mean       6.753355\n",
       "std        1.411240\n",
       "min        2.000000\n",
       "25%        6.100000\n",
       "50%        7.100000\n",
       "75%        7.800000\n",
       "max        9.000000\n",
       "Name: user_score, dtype: float64"
      ]
     },
     "execution_count": 50,
     "metadata": {},
     "output_type": "execute_result"
    }
   ],
   "source": [
    "sample_1['user_score'].describe()"
   ]
  },
  {
   "cell_type": "code",
   "execution_count": 51,
   "metadata": {
    "scrolled": true
   },
   "outputs": [
    {
     "data": {
      "text/plain": [
       "count    131.000000\n",
       "mean       5.291603\n",
       "std        1.889039\n",
       "min        0.200000\n",
       "25%        4.050000\n",
       "50%        5.600000\n",
       "75%        6.750000\n",
       "max        9.300000\n",
       "Name: user_score, dtype: float64"
      ]
     },
     "execution_count": 51,
     "metadata": {},
     "output_type": "execute_result"
    }
   ],
   "source": [
    "sample_2['user_score'].describe()"
   ]
  },
  {
   "cell_type": "markdown",
   "metadata": {},
   "source": [
    "Дисперсии различаются, поэтому параметр равенства необходимо задать False."
   ]
  },
  {
   "cell_type": "code",
   "execution_count": 52,
   "metadata": {},
   "outputs": [
    {
     "name": "stdout",
     "output_type": "stream",
     "text": [
      "p-значение:  1.3080710852425688e-13\n",
      "Отвергаем нулевую гипотезу.\n"
     ]
    }
   ],
   "source": [
    "alpha = .05 # критический уровень статистической значимости\n",
    "# если p-value окажется меньше него - отвергнем гипотезу\n",
    "\n",
    "results = st.ttest_ind(sample_1['user_score'], sample_2['user_score'], equal_var=False)\n",
    "\n",
    "print('p-значение: ', results.pvalue)\n",
    "if results.pvalue < alpha:\n",
    "    print('Отвергаем нулевую гипотезу.')\n",
    "else:\n",
    "    print('Не получилось отвергнуть нулевую гипотезу')"
   ]
  },
  {
   "cell_type": "markdown",
   "metadata": {},
   "source": [
    "Проведённый тест показал, что нулевую гипотезу следует отвергнуть."
   ]
  },
  {
   "cell_type": "markdown",
   "metadata": {},
   "source": [
    "### Вывод."
   ]
  },
  {
   "cell_type": "markdown",
   "metadata": {},
   "source": [
    "Результаты проверок обеих гипотез показали, что рейтинг пользователей для выбранных платформ (Xbox One и PC) за актуальный период различается, а для выбранных жанров (Action и Sports), также за актуальный период, не отличается. "
   ]
  },
  {
   "cell_type": "markdown",
   "metadata": {},
   "source": [
    "## Общий вывод."
   ]
  },
  {
   "cell_type": "markdown",
   "metadata": {},
   "source": [
    "В данной работе был проведён анализ данных по продажам игр на различных игровых платформах за годы с 1980 по 2016. Цель иследования - отработать принцип работы с даннми и с планировать кампанию на будущий год.\n",
    "\n",
    "При первичном изучении данных были обнаружены ошибки: не верное название столбцов, не верный тип данных в столбце 'year_of_release', пропуски. \n",
    "\n",
    "Перед дальнейшим исследованием была проведена предобработка данных: заменены названия столбцов, изменён тип данных в столбце 'year_of_release', пропуски было решено оставить, что бы не искажать данные, так как не было найдено правильного способа для их заполнения. Также была посчитана сумма продаж по всем регионам.\n",
    "\n",
    "Анализ данных позволил выявить наиболее продаваемые платформы, а также была определена зависимость количества продаж от рейтинга пользователей и критиков. Результатом анализа данных стало то, что было выделено 7 популярных платформ (DS, PS, PS2, PS3, PS4, Wii и Xbox360), определено среднее время жизни отдельной платформы и актуальный период (когда платформа находится на пике продаж или растёт). Была получена положительная зависимость количества продаж от рейтинга пользователей и критиков. Также были определены наиболее проадаваемые жанры игр.\n",
    "\n",
    "Далее был составлен портрет пользователей по регионам, показавший, что поведение пользователей в Европе и Северной Америке примерно одинаково, а вот пользователи в Японии сильно отличаются.\n",
    "\n",
    "Проверены две гипотезы о различии или сходстве среднего пользовательского рейтинга для двух платформ (Xbox One и PC) и для наиболее популярных жанров игр (Action и Sports). Результат проверки в обоих случаях показал, что средние рейтинги пользователей для платформ и для жанров не различаются."
   ]
  },
  {
   "cell_type": "code",
   "execution_count": null,
   "metadata": {},
   "outputs": [],
   "source": []
  }
 ],
 "metadata": {
  "ExecuteTimeLog": [
   {
    "duration": 739,
    "start_time": "2022-01-20T17:03:58.027Z"
   },
   {
    "duration": 51,
    "start_time": "2022-01-20T17:05:01.552Z"
   },
   {
    "duration": 15,
    "start_time": "2022-01-20T17:14:33.650Z"
   },
   {
    "duration": 52,
    "start_time": "2022-01-20T17:14:43.620Z"
   },
   {
    "duration": 5,
    "start_time": "2022-01-20T18:25:31.335Z"
   },
   {
    "duration": 14,
    "start_time": "2022-01-20T18:28:50.528Z"
   },
   {
    "duration": 22,
    "start_time": "2022-01-20T18:30:17.255Z"
   },
   {
    "duration": 8,
    "start_time": "2022-01-20T18:34:21.318Z"
   },
   {
    "duration": 19,
    "start_time": "2022-01-20T18:34:32.176Z"
   },
   {
    "duration": 7,
    "start_time": "2022-01-20T18:35:10.252Z"
   },
   {
    "duration": 19,
    "start_time": "2022-01-20T18:35:12.857Z"
   },
   {
    "duration": 401,
    "start_time": "2022-01-20T18:37:56.847Z"
   },
   {
    "duration": 264,
    "start_time": "2022-01-20T18:38:11.768Z"
   },
   {
    "duration": 705,
    "start_time": "2022-01-20T18:38:38.315Z"
   },
   {
    "duration": 47,
    "start_time": "2022-01-20T18:38:39.023Z"
   },
   {
    "duration": 14,
    "start_time": "2022-01-20T18:38:39.073Z"
   },
   {
    "duration": 51,
    "start_time": "2022-01-20T18:38:39.089Z"
   },
   {
    "duration": 28,
    "start_time": "2022-01-20T18:38:39.143Z"
   },
   {
    "duration": 15,
    "start_time": "2022-01-20T18:38:39.173Z"
   },
   {
    "duration": 5,
    "start_time": "2022-01-20T18:38:39.190Z"
   },
   {
    "duration": 25,
    "start_time": "2022-01-20T18:38:39.197Z"
   },
   {
    "duration": 345,
    "start_time": "2022-01-20T19:07:04.424Z"
   },
   {
    "duration": 6,
    "start_time": "2022-01-20T19:07:15.729Z"
   },
   {
    "duration": 13,
    "start_time": "2022-01-20T19:07:30.328Z"
   },
   {
    "duration": 12,
    "start_time": "2022-01-20T19:07:50.787Z"
   },
   {
    "duration": 29,
    "start_time": "2022-01-20T19:28:42.528Z"
   },
   {
    "duration": 869,
    "start_time": "2022-01-20T19:34:17.454Z"
   },
   {
    "duration": 51,
    "start_time": "2022-01-20T19:34:18.326Z"
   },
   {
    "duration": 17,
    "start_time": "2022-01-20T19:34:18.380Z"
   },
   {
    "duration": 51,
    "start_time": "2022-01-20T19:34:18.399Z"
   },
   {
    "duration": 5,
    "start_time": "2022-01-20T19:34:18.469Z"
   },
   {
    "duration": 15,
    "start_time": "2022-01-20T19:34:18.476Z"
   },
   {
    "duration": 5,
    "start_time": "2022-01-20T19:34:18.493Z"
   },
   {
    "duration": 11,
    "start_time": "2022-01-20T19:34:18.501Z"
   },
   {
    "duration": 676,
    "start_time": "2022-01-20T19:34:18.515Z"
   },
   {
    "duration": 514,
    "start_time": "2022-01-20T19:36:14.031Z"
   },
   {
    "duration": 19,
    "start_time": "2022-01-20T19:37:47.088Z"
   },
   {
    "duration": 1082,
    "start_time": "2022-01-20T19:39:46.023Z"
   },
   {
    "duration": 345,
    "start_time": "2022-01-20T19:40:11.558Z"
   },
   {
    "duration": 323,
    "start_time": "2022-01-20T20:04:16.977Z"
   },
   {
    "duration": 1802,
    "start_time": "2022-01-20T20:05:31.875Z"
   },
   {
    "duration": 9,
    "start_time": "2022-01-20T20:07:58.317Z"
   },
   {
    "duration": 1859,
    "start_time": "2022-01-20T20:08:05.097Z"
   },
   {
    "duration": 6,
    "start_time": "2022-01-20T20:08:48.687Z"
   },
   {
    "duration": 10,
    "start_time": "2022-01-20T20:08:52.607Z"
   },
   {
    "duration": 16,
    "start_time": "2022-01-20T20:09:25.568Z"
   },
   {
    "duration": 291,
    "start_time": "2022-01-20T20:20:51.963Z"
   },
   {
    "duration": 282,
    "start_time": "2022-01-20T20:20:59.008Z"
   },
   {
    "duration": 146,
    "start_time": "2022-01-20T20:27:13.717Z"
   },
   {
    "duration": 11,
    "start_time": "2022-01-20T20:29:25.447Z"
   },
   {
    "duration": 9,
    "start_time": "2022-01-20T20:30:02.958Z"
   },
   {
    "duration": 15,
    "start_time": "2022-01-20T20:30:26.967Z"
   },
   {
    "duration": 11,
    "start_time": "2022-01-20T20:30:59.368Z"
   },
   {
    "duration": 287,
    "start_time": "2022-01-20T20:31:31.168Z"
   },
   {
    "duration": 329,
    "start_time": "2022-01-20T20:32:01.838Z"
   },
   {
    "duration": 12,
    "start_time": "2022-01-20T20:32:21.358Z"
   },
   {
    "duration": 14,
    "start_time": "2022-01-20T20:32:36.867Z"
   },
   {
    "duration": 827,
    "start_time": "2022-01-20T20:32:52.203Z"
   },
   {
    "duration": 48,
    "start_time": "2022-01-20T20:32:53.033Z"
   },
   {
    "duration": 15,
    "start_time": "2022-01-20T20:32:53.083Z"
   },
   {
    "duration": 75,
    "start_time": "2022-01-20T20:32:53.101Z"
   },
   {
    "duration": 4,
    "start_time": "2022-01-20T20:32:53.178Z"
   },
   {
    "duration": 17,
    "start_time": "2022-01-20T20:32:53.184Z"
   },
   {
    "duration": 5,
    "start_time": "2022-01-20T20:32:53.204Z"
   },
   {
    "duration": 13,
    "start_time": "2022-01-20T20:32:53.211Z"
   },
   {
    "duration": 6,
    "start_time": "2022-01-20T20:32:53.227Z"
   },
   {
    "duration": 46,
    "start_time": "2022-01-20T20:32:53.235Z"
   },
   {
    "duration": 38,
    "start_time": "2022-01-20T20:47:17.478Z"
   },
   {
    "duration": 12,
    "start_time": "2022-01-20T20:47:37.822Z"
   },
   {
    "duration": 9,
    "start_time": "2022-01-20T20:47:40.896Z"
   },
   {
    "duration": 14,
    "start_time": "2022-01-20T20:47:59.448Z"
   },
   {
    "duration": 11,
    "start_time": "2022-01-20T20:48:18.640Z"
   },
   {
    "duration": 10,
    "start_time": "2022-01-20T20:48:19.628Z"
   },
   {
    "duration": 363,
    "start_time": "2022-01-20T20:48:41.435Z"
   },
   {
    "duration": 6,
    "start_time": "2022-01-20T20:48:57.578Z"
   },
   {
    "duration": 6,
    "start_time": "2022-01-20T20:48:59.179Z"
   },
   {
    "duration": 865,
    "start_time": "2022-01-20T20:49:19.755Z"
   },
   {
    "duration": 51,
    "start_time": "2022-01-20T20:49:20.623Z"
   },
   {
    "duration": 14,
    "start_time": "2022-01-20T20:49:20.677Z"
   },
   {
    "duration": 49,
    "start_time": "2022-01-20T20:49:20.694Z"
   },
   {
    "duration": 25,
    "start_time": "2022-01-20T20:49:20.745Z"
   },
   {
    "duration": 18,
    "start_time": "2022-01-20T20:49:20.773Z"
   },
   {
    "duration": 7,
    "start_time": "2022-01-20T20:49:20.794Z"
   },
   {
    "duration": 22,
    "start_time": "2022-01-20T20:49:20.804Z"
   },
   {
    "duration": 42,
    "start_time": "2022-01-20T20:49:20.830Z"
   },
   {
    "duration": 6,
    "start_time": "2022-01-20T20:49:20.875Z"
   },
   {
    "duration": 14,
    "start_time": "2022-01-20T20:49:20.884Z"
   },
   {
    "duration": 8,
    "start_time": "2022-01-20T20:49:40.197Z"
   },
   {
    "duration": 13,
    "start_time": "2022-01-20T20:49:41.406Z"
   },
   {
    "duration": 14,
    "start_time": "2022-01-20T20:50:55.986Z"
   },
   {
    "duration": 34,
    "start_time": "2022-01-20T20:51:10.517Z"
   },
   {
    "duration": 13,
    "start_time": "2022-01-20T20:51:23.191Z"
   },
   {
    "duration": 371,
    "start_time": "2022-01-20T20:52:14.781Z"
   },
   {
    "duration": 301,
    "start_time": "2022-01-20T20:52:31.635Z"
   },
   {
    "duration": 6814,
    "start_time": "2022-01-20T20:55:35.961Z"
   },
   {
    "duration": 266,
    "start_time": "2022-01-20T20:55:58.273Z"
   },
   {
    "duration": 321,
    "start_time": "2022-01-20T20:56:16.530Z"
   },
   {
    "duration": 8,
    "start_time": "2022-01-20T21:00:19.516Z"
   },
   {
    "duration": 905,
    "start_time": "2022-01-20T21:00:21.952Z"
   },
   {
    "duration": 8,
    "start_time": "2022-01-20T21:01:07.885Z"
   },
   {
    "duration": 664,
    "start_time": "2022-01-20T21:01:08.865Z"
   },
   {
    "duration": 31,
    "start_time": "2022-01-20T21:01:19.215Z"
   },
   {
    "duration": 74,
    "start_time": "2022-01-20T21:01:42.860Z"
   },
   {
    "duration": 856,
    "start_time": "2022-01-20T21:02:00.924Z"
   },
   {
    "duration": 47,
    "start_time": "2022-01-20T21:02:01.783Z"
   },
   {
    "duration": 15,
    "start_time": "2022-01-20T21:02:01.833Z"
   },
   {
    "duration": 60,
    "start_time": "2022-01-20T21:02:01.850Z"
   },
   {
    "duration": 5,
    "start_time": "2022-01-20T21:02:01.913Z"
   },
   {
    "duration": 20,
    "start_time": "2022-01-20T21:02:01.921Z"
   },
   {
    "duration": 12,
    "start_time": "2022-01-20T21:02:01.970Z"
   },
   {
    "duration": 7,
    "start_time": "2022-01-20T21:02:01.985Z"
   },
   {
    "duration": 61,
    "start_time": "2022-01-20T21:02:01.995Z"
   },
   {
    "duration": 801,
    "start_time": "2022-01-20T21:02:02.070Z"
   },
   {
    "duration": -21633,
    "start_time": "2022-01-20T21:02:24.507Z"
   },
   {
    "duration": -21633,
    "start_time": "2022-01-20T21:02:24.509Z"
   },
   {
    "duration": 3,
    "start_time": "2022-01-20T21:02:38.348Z"
   },
   {
    "duration": 54,
    "start_time": "2022-01-20T21:02:38.354Z"
   },
   {
    "duration": 19,
    "start_time": "2022-01-20T21:02:38.411Z"
   },
   {
    "duration": 54,
    "start_time": "2022-01-20T21:02:38.433Z"
   },
   {
    "duration": 4,
    "start_time": "2022-01-20T21:02:38.489Z"
   },
   {
    "duration": 15,
    "start_time": "2022-01-20T21:02:38.495Z"
   },
   {
    "duration": 6,
    "start_time": "2022-01-20T21:02:38.512Z"
   },
   {
    "duration": 12,
    "start_time": "2022-01-20T21:02:42.301Z"
   },
   {
    "duration": 8,
    "start_time": "2022-01-20T21:07:50.849Z"
   },
   {
    "duration": 10,
    "start_time": "2022-01-20T21:07:53.267Z"
   },
   {
    "duration": 101,
    "start_time": "2022-01-20T21:11:40.845Z"
   },
   {
    "duration": 280,
    "start_time": "2022-01-20T21:12:01.637Z"
   },
   {
    "duration": 31,
    "start_time": "2022-01-20T21:12:10.657Z"
   },
   {
    "duration": 26,
    "start_time": "2022-01-20T21:12:42.637Z"
   },
   {
    "duration": 20,
    "start_time": "2022-01-20T21:16:22.214Z"
   },
   {
    "duration": 19,
    "start_time": "2022-01-20T21:17:24.380Z"
   },
   {
    "duration": 21,
    "start_time": "2022-01-20T21:19:38.496Z"
   },
   {
    "duration": 279,
    "start_time": "2022-01-20T21:19:47.273Z"
   },
   {
    "duration": 22,
    "start_time": "2022-01-20T21:29:03.514Z"
   },
   {
    "duration": 22,
    "start_time": "2022-01-20T21:29:36.302Z"
   },
   {
    "duration": 31,
    "start_time": "2022-01-20T21:30:11.445Z"
   },
   {
    "duration": 30,
    "start_time": "2022-01-20T21:30:41.475Z"
   },
   {
    "duration": 34,
    "start_time": "2022-01-20T21:31:39.344Z"
   },
   {
    "duration": 892,
    "start_time": "2022-01-20T21:33:26.412Z"
   },
   {
    "duration": 722,
    "start_time": "2022-01-20T21:34:10.080Z"
   },
   {
    "duration": 919,
    "start_time": "2022-01-20T21:34:32.254Z"
   },
   {
    "duration": 272,
    "start_time": "2022-01-20T21:34:51.072Z"
   },
   {
    "duration": 875,
    "start_time": "2022-01-20T21:35:06.354Z"
   },
   {
    "duration": 355,
    "start_time": "2022-01-20T21:37:05.603Z"
   },
   {
    "duration": 310,
    "start_time": "2022-01-20T21:37:31.412Z"
   },
   {
    "duration": 37,
    "start_time": "2022-01-20T21:39:09.812Z"
   },
   {
    "duration": 19,
    "start_time": "2022-01-20T21:58:18.696Z"
   },
   {
    "duration": 8,
    "start_time": "2022-01-20T22:00:48.746Z"
   },
   {
    "duration": 28,
    "start_time": "2022-01-20T22:01:02.405Z"
   },
   {
    "duration": 33,
    "start_time": "2022-01-20T22:03:58.994Z"
   },
   {
    "duration": 27,
    "start_time": "2022-01-20T22:04:00.154Z"
   },
   {
    "duration": 6986,
    "start_time": "2022-01-20T22:07:24.249Z"
   },
   {
    "duration": 20,
    "start_time": "2022-01-20T22:08:30.073Z"
   },
   {
    "duration": 14,
    "start_time": "2022-01-20T22:10:16.872Z"
   },
   {
    "duration": 27,
    "start_time": "2022-01-20T22:10:17.931Z"
   },
   {
    "duration": 849,
    "start_time": "2022-01-20T22:10:39.574Z"
   },
   {
    "duration": 47,
    "start_time": "2022-01-20T22:10:40.426Z"
   },
   {
    "duration": 13,
    "start_time": "2022-01-20T22:10:40.476Z"
   },
   {
    "duration": 45,
    "start_time": "2022-01-20T22:10:40.493Z"
   },
   {
    "duration": 29,
    "start_time": "2022-01-20T22:10:40.541Z"
   },
   {
    "duration": 15,
    "start_time": "2022-01-20T22:10:40.572Z"
   },
   {
    "duration": 5,
    "start_time": "2022-01-20T22:10:40.590Z"
   },
   {
    "duration": 16,
    "start_time": "2022-01-20T22:10:40.598Z"
   },
   {
    "duration": 5,
    "start_time": "2022-01-20T22:10:40.617Z"
   },
   {
    "duration": 49,
    "start_time": "2022-01-20T22:10:40.625Z"
   },
   {
    "duration": 7124,
    "start_time": "2022-01-20T22:10:40.677Z"
   },
   {
    "duration": -21184,
    "start_time": "2022-01-20T22:11:08.989Z"
   },
   {
    "duration": 10,
    "start_time": "2022-01-20T22:12:55.564Z"
   },
   {
    "duration": 280,
    "start_time": "2022-01-20T22:12:58.203Z"
   },
   {
    "duration": 12,
    "start_time": "2022-01-20T22:15:27.913Z"
   },
   {
    "duration": 184,
    "start_time": "2022-01-20T22:15:28.858Z"
   },
   {
    "duration": 284,
    "start_time": "2022-01-20T22:29:48.007Z"
   },
   {
    "duration": 315,
    "start_time": "2022-01-20T22:36:35.409Z"
   },
   {
    "duration": 27,
    "start_time": "2022-01-20T22:47:06.182Z"
   },
   {
    "duration": 41,
    "start_time": "2022-01-20T22:47:27.929Z"
   },
   {
    "duration": 853,
    "start_time": "2022-01-20T22:48:44.782Z"
   },
   {
    "duration": 47,
    "start_time": "2022-01-20T22:48:45.638Z"
   },
   {
    "duration": 15,
    "start_time": "2022-01-20T22:48:45.688Z"
   },
   {
    "duration": 68,
    "start_time": "2022-01-20T22:48:45.706Z"
   },
   {
    "duration": 4,
    "start_time": "2022-01-20T22:48:45.777Z"
   },
   {
    "duration": 17,
    "start_time": "2022-01-20T22:48:45.783Z"
   },
   {
    "duration": 6,
    "start_time": "2022-01-20T22:48:45.802Z"
   },
   {
    "duration": 15,
    "start_time": "2022-01-20T22:48:45.810Z"
   },
   {
    "duration": 41,
    "start_time": "2022-01-20T22:48:45.828Z"
   },
   {
    "duration": 10,
    "start_time": "2022-01-20T22:48:45.872Z"
   },
   {
    "duration": 42,
    "start_time": "2022-01-20T22:48:45.885Z"
   },
   {
    "duration": 50,
    "start_time": "2022-01-20T22:48:45.930Z"
   },
   {
    "duration": 337,
    "start_time": "2022-01-20T22:53:44.002Z"
   },
   {
    "duration": 59,
    "start_time": "2022-01-20T22:54:06.666Z"
   },
   {
    "duration": 7,
    "start_time": "2022-01-20T22:56:54.661Z"
   },
   {
    "duration": 27,
    "start_time": "2022-01-20T22:56:58.011Z"
   },
   {
    "duration": 11,
    "start_time": "2022-01-20T22:57:49.510Z"
   },
   {
    "duration": 27,
    "start_time": "2022-01-20T22:57:50.440Z"
   },
   {
    "duration": 908,
    "start_time": "2022-01-20T22:58:10.956Z"
   },
   {
    "duration": 47,
    "start_time": "2022-01-20T22:58:11.869Z"
   },
   {
    "duration": 16,
    "start_time": "2022-01-20T22:58:11.919Z"
   },
   {
    "duration": 59,
    "start_time": "2022-01-20T22:58:11.938Z"
   },
   {
    "duration": 4,
    "start_time": "2022-01-20T22:58:11.999Z"
   },
   {
    "duration": 16,
    "start_time": "2022-01-20T22:58:12.006Z"
   },
   {
    "duration": 6,
    "start_time": "2022-01-20T22:58:12.024Z"
   },
   {
    "duration": 44,
    "start_time": "2022-01-20T22:58:12.032Z"
   },
   {
    "duration": 5,
    "start_time": "2022-01-20T22:58:12.080Z"
   },
   {
    "duration": 10,
    "start_time": "2022-01-20T22:58:12.088Z"
   },
   {
    "duration": 12,
    "start_time": "2022-01-20T22:58:12.100Z"
   },
   {
    "duration": 327,
    "start_time": "2022-01-22T12:58:40.811Z"
   },
   {
    "duration": 873,
    "start_time": "2022-01-22T12:58:54.262Z"
   },
   {
    "duration": 64,
    "start_time": "2022-01-22T12:58:55.138Z"
   },
   {
    "duration": 22,
    "start_time": "2022-01-22T12:58:55.206Z"
   },
   {
    "duration": 93,
    "start_time": "2022-01-22T12:58:55.232Z"
   },
   {
    "duration": 5,
    "start_time": "2022-01-22T12:58:55.328Z"
   },
   {
    "duration": 18,
    "start_time": "2022-01-22T12:58:55.336Z"
   },
   {
    "duration": 6,
    "start_time": "2022-01-22T12:58:55.369Z"
   },
   {
    "duration": 14,
    "start_time": "2022-01-22T12:58:55.379Z"
   },
   {
    "duration": 8,
    "start_time": "2022-01-22T12:58:55.395Z"
   },
   {
    "duration": 14,
    "start_time": "2022-01-22T12:58:55.405Z"
   },
   {
    "duration": 14,
    "start_time": "2022-01-22T12:58:55.422Z"
   },
   {
    "duration": 399,
    "start_time": "2022-01-22T12:58:55.438Z"
   },
   {
    "duration": 346,
    "start_time": "2022-01-22T12:59:56.889Z"
   },
   {
    "duration": 323,
    "start_time": "2022-01-22T13:11:38.428Z"
   },
   {
    "duration": 389,
    "start_time": "2022-01-22T13:14:25.720Z"
   },
   {
    "duration": 337,
    "start_time": "2022-01-22T13:14:48.816Z"
   },
   {
    "duration": 375,
    "start_time": "2022-01-22T13:15:32.168Z"
   },
   {
    "duration": 356,
    "start_time": "2022-01-22T13:15:52.770Z"
   },
   {
    "duration": 332,
    "start_time": "2022-01-22T13:22:32.088Z"
   },
   {
    "duration": 554,
    "start_time": "2022-01-22T13:22:56.515Z"
   },
   {
    "duration": 294,
    "start_time": "2022-01-22T13:23:36.850Z"
   },
   {
    "duration": 360,
    "start_time": "2022-01-22T13:26:54.469Z"
   },
   {
    "duration": 519,
    "start_time": "2022-01-22T13:27:03.118Z"
   },
   {
    "duration": 743,
    "start_time": "2022-01-22T13:27:09.198Z"
   },
   {
    "duration": 685,
    "start_time": "2022-01-22T13:29:15.528Z"
   },
   {
    "duration": 636,
    "start_time": "2022-01-22T13:29:46.822Z"
   },
   {
    "duration": 625,
    "start_time": "2022-01-22T13:29:55.849Z"
   },
   {
    "duration": 649,
    "start_time": "2022-01-22T13:30:04.008Z"
   },
   {
    "duration": 642,
    "start_time": "2022-01-22T13:49:49.899Z"
   },
   {
    "duration": 906,
    "start_time": "2022-01-22T13:50:03.140Z"
   },
   {
    "duration": 48,
    "start_time": "2022-01-22T13:50:04.049Z"
   },
   {
    "duration": 16,
    "start_time": "2022-01-22T13:50:04.101Z"
   },
   {
    "duration": 68,
    "start_time": "2022-01-22T13:50:04.120Z"
   },
   {
    "duration": 5,
    "start_time": "2022-01-22T13:50:04.191Z"
   },
   {
    "duration": 19,
    "start_time": "2022-01-22T13:50:04.199Z"
   },
   {
    "duration": 13,
    "start_time": "2022-01-22T13:50:04.221Z"
   },
   {
    "duration": 40,
    "start_time": "2022-01-22T13:50:04.236Z"
   },
   {
    "duration": 6,
    "start_time": "2022-01-22T13:50:04.280Z"
   },
   {
    "duration": 13,
    "start_time": "2022-01-22T13:50:04.289Z"
   },
   {
    "duration": 13,
    "start_time": "2022-01-22T13:50:04.304Z"
   },
   {
    "duration": 681,
    "start_time": "2022-01-22T13:50:04.319Z"
   },
   {
    "duration": 504,
    "start_time": "2022-01-22T13:50:25.278Z"
   },
   {
    "duration": 655,
    "start_time": "2022-01-22T13:50:37.845Z"
   },
   {
    "duration": 102574,
    "start_time": "2022-01-22T13:50:57.236Z"
   },
   {
    "duration": 634,
    "start_time": "2022-01-22T13:53:05.056Z"
   },
   {
    "duration": 707,
    "start_time": "2022-01-22T14:01:29.618Z"
   },
   {
    "duration": 696,
    "start_time": "2022-01-22T14:02:11.808Z"
   },
   {
    "duration": 343,
    "start_time": "2022-01-22T14:08:33.548Z"
   },
   {
    "duration": 105,
    "start_time": "2022-01-22T14:08:57.134Z"
   },
   {
    "duration": -21675,
    "start_time": "2022-01-22T14:12:16.181Z"
   },
   {
    "duration": 883,
    "start_time": "2022-01-22T14:12:18.605Z"
   },
   {
    "duration": 52,
    "start_time": "2022-01-22T14:12:19.491Z"
   },
   {
    "duration": 16,
    "start_time": "2022-01-22T14:12:19.546Z"
   },
   {
    "duration": 54,
    "start_time": "2022-01-22T14:12:19.575Z"
   },
   {
    "duration": 4,
    "start_time": "2022-01-22T14:12:19.631Z"
   },
   {
    "duration": 44,
    "start_time": "2022-01-22T14:12:19.638Z"
   },
   {
    "duration": 6,
    "start_time": "2022-01-22T14:12:19.686Z"
   },
   {
    "duration": 12,
    "start_time": "2022-01-22T14:12:19.695Z"
   },
   {
    "duration": 6,
    "start_time": "2022-01-22T14:12:19.710Z"
   },
   {
    "duration": 51,
    "start_time": "2022-01-22T14:12:19.719Z"
   },
   {
    "duration": 10,
    "start_time": "2022-01-22T14:12:19.780Z"
   },
   {
    "duration": 712,
    "start_time": "2022-01-22T14:12:19.793Z"
   },
   {
    "duration": 92,
    "start_time": "2022-01-22T14:12:20.507Z"
   },
   {
    "duration": 798,
    "start_time": "2022-01-22T14:12:35.983Z"
   },
   {
    "duration": 718,
    "start_time": "2022-01-22T14:13:22.951Z"
   },
   {
    "duration": 606,
    "start_time": "2022-01-22T14:13:51.300Z"
   },
   {
    "duration": 614,
    "start_time": "2022-01-22T14:20:40.337Z"
   },
   {
    "duration": 5922,
    "start_time": "2022-01-22T14:21:55.291Z"
   },
   {
    "duration": 6044,
    "start_time": "2022-01-22T14:22:16.517Z"
   },
   {
    "duration": 6560,
    "start_time": "2022-01-22T14:22:59.210Z"
   },
   {
    "duration": 16375,
    "start_time": "2022-01-22T14:23:18.219Z"
   },
   {
    "duration": 731,
    "start_time": "2022-01-22T14:26:10.818Z"
   },
   {
    "duration": 653,
    "start_time": "2022-01-22T14:27:12.616Z"
   },
   {
    "duration": 6641,
    "start_time": "2022-01-22T14:35:01.337Z"
   },
   {
    "duration": 26116,
    "start_time": "2022-01-22T14:35:20.734Z"
   },
   {
    "duration": 265,
    "start_time": "2022-01-22T14:36:40.606Z"
   },
   {
    "duration": 718,
    "start_time": "2022-01-22T14:36:50.889Z"
   },
   {
    "duration": 693,
    "start_time": "2022-01-22T14:37:16.489Z"
   },
   {
    "duration": 790,
    "start_time": "2022-01-22T17:47:37.328Z"
   },
   {
    "duration": 6069,
    "start_time": "2022-01-22T17:48:15.979Z"
   },
   {
    "duration": 4863,
    "start_time": "2022-01-22T17:48:38.290Z"
   },
   {
    "duration": 7074,
    "start_time": "2022-01-22T17:49:02.737Z"
   },
   {
    "duration": 5067,
    "start_time": "2022-01-22T17:49:41.688Z"
   },
   {
    "duration": 4263,
    "start_time": "2022-01-22T17:50:10.968Z"
   },
   {
    "duration": 6179,
    "start_time": "2022-01-22T17:58:15.250Z"
   },
   {
    "duration": 1572,
    "start_time": "2022-01-22T18:00:09.020Z"
   },
   {
    "duration": 48,
    "start_time": "2022-01-22T18:00:10.595Z"
   },
   {
    "duration": 33,
    "start_time": "2022-01-22T18:00:10.647Z"
   },
   {
    "duration": 88,
    "start_time": "2022-01-22T18:00:10.684Z"
   },
   {
    "duration": 4,
    "start_time": "2022-01-22T18:00:10.774Z"
   },
   {
    "duration": 19,
    "start_time": "2022-01-22T18:00:10.780Z"
   },
   {
    "duration": 6,
    "start_time": "2022-01-22T18:00:10.802Z"
   },
   {
    "duration": 19,
    "start_time": "2022-01-22T18:00:10.811Z"
   },
   {
    "duration": 8,
    "start_time": "2022-01-22T18:00:10.873Z"
   },
   {
    "duration": 15,
    "start_time": "2022-01-22T18:00:10.885Z"
   },
   {
    "duration": 15,
    "start_time": "2022-01-22T18:00:10.903Z"
   },
   {
    "duration": 710,
    "start_time": "2022-01-22T18:00:10.921Z"
   },
   {
    "duration": 654,
    "start_time": "2022-01-22T18:00:11.634Z"
   },
   {
    "duration": 96,
    "start_time": "2022-01-22T18:06:26.210Z"
   },
   {
    "duration": 283,
    "start_time": "2022-01-22T18:06:32.989Z"
   },
   {
    "duration": 318,
    "start_time": "2022-01-22T18:06:45.703Z"
   },
   {
    "duration": 738,
    "start_time": "2022-01-22T18:06:58.014Z"
   },
   {
    "duration": 524,
    "start_time": "2022-01-22T18:07:20.019Z"
   },
   {
    "duration": 94,
    "start_time": "2022-01-22T18:08:23.370Z"
   },
   {
    "duration": 88,
    "start_time": "2022-01-22T18:08:33.297Z"
   },
   {
    "duration": 4059,
    "start_time": "2022-01-22T18:08:49.541Z"
   },
   {
    "duration": 9216,
    "start_time": "2022-01-22T18:10:49.992Z"
   },
   {
    "duration": 292,
    "start_time": "2022-01-22T18:22:47.703Z"
   },
   {
    "duration": 1109,
    "start_time": "2022-01-22T18:23:03.448Z"
   },
   {
    "duration": 6685,
    "start_time": "2022-01-22T18:26:07.869Z"
   },
   {
    "duration": 296,
    "start_time": "2022-01-22T18:44:55.633Z"
   },
   {
    "duration": 102,
    "start_time": "2022-01-22T18:48:07.643Z"
   },
   {
    "duration": 1393,
    "start_time": "2022-01-22T18:48:12.383Z"
   },
   {
    "duration": 363,
    "start_time": "2022-01-22T18:48:46.214Z"
   },
   {
    "duration": 114502,
    "start_time": "2022-01-22T18:49:27.600Z"
   },
   {
    "duration": 90,
    "start_time": "2022-01-22T18:55:01.226Z"
   },
   {
    "duration": 424,
    "start_time": "2022-01-22T18:55:07.254Z"
   },
   {
    "duration": 986,
    "start_time": "2022-01-22T18:55:44.689Z"
   },
   {
    "duration": 55,
    "start_time": "2022-01-22T18:55:45.679Z"
   },
   {
    "duration": 15,
    "start_time": "2022-01-22T18:55:45.737Z"
   },
   {
    "duration": 70,
    "start_time": "2022-01-22T18:55:45.755Z"
   },
   {
    "duration": 5,
    "start_time": "2022-01-22T18:55:45.828Z"
   },
   {
    "duration": 38,
    "start_time": "2022-01-22T18:55:45.836Z"
   },
   {
    "duration": 11,
    "start_time": "2022-01-22T18:55:45.877Z"
   },
   {
    "duration": 21,
    "start_time": "2022-01-22T18:55:45.891Z"
   },
   {
    "duration": 12,
    "start_time": "2022-01-22T18:55:45.916Z"
   },
   {
    "duration": 45,
    "start_time": "2022-01-22T18:55:45.931Z"
   },
   {
    "duration": 27,
    "start_time": "2022-01-22T18:55:45.979Z"
   },
   {
    "duration": 730,
    "start_time": "2022-01-22T18:55:46.009Z"
   },
   {
    "duration": 428,
    "start_time": "2022-01-22T18:55:46.741Z"
   },
   {
    "duration": 115,
    "start_time": "2022-01-22T19:01:04.887Z"
   },
   {
    "duration": 7819,
    "start_time": "2022-01-22T19:01:15.710Z"
   },
   {
    "duration": 328,
    "start_time": "2022-01-22T19:01:50.570Z"
   },
   {
    "duration": 273,
    "start_time": "2022-01-22T19:02:23.257Z"
   },
   {
    "duration": 336,
    "start_time": "2022-01-22T19:02:38.796Z"
   },
   {
    "duration": 7364,
    "start_time": "2022-01-22T19:03:03.655Z"
   },
   {
    "duration": 341,
    "start_time": "2022-01-22T19:04:38.000Z"
   },
   {
    "duration": 383,
    "start_time": "2022-01-22T19:05:10.608Z"
   },
   {
    "duration": 449,
    "start_time": "2022-01-22T19:05:24.778Z"
   },
   {
    "duration": 457,
    "start_time": "2022-01-22T19:05:36.931Z"
   },
   {
    "duration": 426,
    "start_time": "2022-01-22T19:05:46.605Z"
   },
   {
    "duration": 677,
    "start_time": "2022-01-22T19:05:54.730Z"
   },
   {
    "duration": 288,
    "start_time": "2022-01-22T19:08:47.649Z"
   },
   {
    "duration": 287,
    "start_time": "2022-01-22T19:09:43.660Z"
   },
   {
    "duration": 169,
    "start_time": "2022-01-22T19:10:13.346Z"
   },
   {
    "duration": 615,
    "start_time": "2022-01-22T19:10:20.908Z"
   },
   {
    "duration": 395,
    "start_time": "2022-01-22T19:11:42.514Z"
   },
   {
    "duration": 359,
    "start_time": "2022-01-22T19:12:09.095Z"
   },
   {
    "duration": 466,
    "start_time": "2022-01-22T19:12:41.829Z"
   },
   {
    "duration": 457,
    "start_time": "2022-01-22T19:21:37.129Z"
   },
   {
    "duration": 6634,
    "start_time": "2022-01-22T19:22:22.346Z"
   },
   {
    "duration": 607,
    "start_time": "2022-01-22T19:23:26.391Z"
   },
   {
    "duration": 460,
    "start_time": "2022-01-22T19:24:13.599Z"
   },
   {
    "duration": 628,
    "start_time": "2022-01-22T19:24:26.445Z"
   },
   {
    "duration": 350,
    "start_time": "2022-01-22T19:25:07.709Z"
   },
   {
    "duration": 595,
    "start_time": "2022-01-22T19:25:48.696Z"
   },
   {
    "duration": 624,
    "start_time": "2022-01-22T19:34:48.337Z"
   },
   {
    "duration": 302,
    "start_time": "2022-01-22T19:38:27.997Z"
   },
   {
    "duration": 448,
    "start_time": "2022-01-22T19:38:44.711Z"
   },
   {
    "duration": 423,
    "start_time": "2022-01-22T19:39:10.234Z"
   },
   {
    "duration": 403,
    "start_time": "2022-01-22T19:39:32.880Z"
   },
   {
    "duration": 398,
    "start_time": "2022-01-22T19:40:06.910Z"
   },
   {
    "duration": 273,
    "start_time": "2022-01-22T20:05:04.872Z"
   },
   {
    "duration": 593,
    "start_time": "2022-01-22T20:10:16.860Z"
   },
   {
    "duration": 692,
    "start_time": "2022-01-22T20:10:29.530Z"
   },
   {
    "duration": 395,
    "start_time": "2022-01-22T20:10:52.419Z"
   },
   {
    "duration": 95,
    "start_time": "2022-01-22T20:18:07.217Z"
   },
   {
    "duration": 262,
    "start_time": "2022-01-22T20:18:25.308Z"
   },
   {
    "duration": 294,
    "start_time": "2022-01-22T20:20:03.412Z"
   },
   {
    "duration": 517,
    "start_time": "2022-01-22T20:28:39.952Z"
   },
   {
    "duration": 444,
    "start_time": "2022-01-22T20:29:08.679Z"
   },
   {
    "duration": 369,
    "start_time": "2022-01-22T20:29:45.557Z"
   },
   {
    "duration": 504,
    "start_time": "2022-01-22T20:30:47.759Z"
   },
   {
    "duration": 534,
    "start_time": "2022-01-22T20:31:36.200Z"
   },
   {
    "duration": 7002,
    "start_time": "2022-01-22T20:47:36.658Z"
   },
   {
    "duration": 6264,
    "start_time": "2022-01-22T20:48:18.412Z"
   },
   {
    "duration": 5717,
    "start_time": "2022-01-22T20:50:33.529Z"
   },
   {
    "duration": 891,
    "start_time": "2022-01-22T20:51:02.798Z"
   },
   {
    "duration": 46,
    "start_time": "2022-01-22T20:51:03.692Z"
   },
   {
    "duration": 15,
    "start_time": "2022-01-22T20:51:03.741Z"
   },
   {
    "duration": 56,
    "start_time": "2022-01-22T20:51:03.758Z"
   },
   {
    "duration": 5,
    "start_time": "2022-01-22T20:51:03.816Z"
   },
   {
    "duration": 15,
    "start_time": "2022-01-22T20:51:03.823Z"
   },
   {
    "duration": 32,
    "start_time": "2022-01-22T20:51:03.841Z"
   },
   {
    "duration": 14,
    "start_time": "2022-01-22T20:51:03.875Z"
   },
   {
    "duration": 7,
    "start_time": "2022-01-22T20:51:03.893Z"
   },
   {
    "duration": 18,
    "start_time": "2022-01-22T20:51:03.903Z"
   },
   {
    "duration": 45,
    "start_time": "2022-01-22T20:51:03.924Z"
   },
   {
    "duration": 973,
    "start_time": "2022-01-22T20:51:03.972Z"
   },
   {
    "duration": 8718,
    "start_time": "2022-01-22T20:51:04.948Z"
   },
   {
    "duration": 6413,
    "start_time": "2022-01-22T20:51:37.719Z"
   },
   {
    "duration": 945,
    "start_time": "2022-01-22T21:04:33.917Z"
   },
   {
    "duration": 267,
    "start_time": "2022-01-22T21:04:46.001Z"
   },
   {
    "duration": 556,
    "start_time": "2022-01-22T21:04:56.021Z"
   },
   {
    "duration": 1691,
    "start_time": "2022-01-22T21:05:26.782Z"
   },
   {
    "duration": 2620,
    "start_time": "2022-01-22T21:05:54.099Z"
   },
   {
    "duration": 2082,
    "start_time": "2022-01-22T21:06:06.009Z"
   },
   {
    "duration": 1956,
    "start_time": "2022-01-22T21:06:20.290Z"
   },
   {
    "duration": 2154,
    "start_time": "2022-01-22T21:06:32.356Z"
   },
   {
    "duration": 1903,
    "start_time": "2022-01-22T21:06:40.180Z"
   },
   {
    "duration": 1819,
    "start_time": "2022-01-22T21:06:52.870Z"
   },
   {
    "duration": 1949,
    "start_time": "2022-01-22T21:31:52.723Z"
   },
   {
    "duration": 1012,
    "start_time": "2022-01-22T21:32:13.321Z"
   },
   {
    "duration": 2034,
    "start_time": "2022-01-22T21:33:20.753Z"
   },
   {
    "duration": 1553,
    "start_time": "2022-01-22T21:33:49.825Z"
   },
   {
    "duration": 68,
    "start_time": "2022-01-22T21:33:51.381Z"
   },
   {
    "duration": 26,
    "start_time": "2022-01-22T21:33:51.453Z"
   },
   {
    "duration": 48,
    "start_time": "2022-01-22T21:33:51.482Z"
   },
   {
    "duration": 4,
    "start_time": "2022-01-22T21:33:51.532Z"
   },
   {
    "duration": 41,
    "start_time": "2022-01-22T21:33:51.538Z"
   },
   {
    "duration": 5,
    "start_time": "2022-01-22T21:33:51.582Z"
   },
   {
    "duration": 12,
    "start_time": "2022-01-22T21:33:51.590Z"
   },
   {
    "duration": 7,
    "start_time": "2022-01-22T21:33:51.604Z"
   },
   {
    "duration": 13,
    "start_time": "2022-01-22T21:33:51.613Z"
   },
   {
    "duration": 41,
    "start_time": "2022-01-22T21:33:51.628Z"
   },
   {
    "duration": 667,
    "start_time": "2022-01-22T21:33:51.672Z"
   },
   {
    "duration": 6002,
    "start_time": "2022-01-22T21:33:52.343Z"
   },
   {
    "duration": 2931,
    "start_time": "2022-01-22T21:33:58.348Z"
   },
   {
    "duration": 439,
    "start_time": "2022-01-22T22:33:42.687Z"
   },
   {
    "duration": 652,
    "start_time": "2022-01-22T22:33:48.336Z"
   },
   {
    "duration": 8806,
    "start_time": "2022-01-22T22:35:20.337Z"
   },
   {
    "duration": 1802,
    "start_time": "2022-01-22T22:36:59.385Z"
   },
   {
    "duration": 94,
    "start_time": "2022-01-22T22:39:49.857Z"
   },
   {
    "duration": 809,
    "start_time": "2022-01-22T22:39:56.367Z"
   },
   {
    "duration": 1116,
    "start_time": "2022-01-22T22:40:08.599Z"
   },
   {
    "duration": 1434,
    "start_time": "2022-01-22T22:40:16.297Z"
   },
   {
    "duration": 675,
    "start_time": "2022-01-22T22:44:16.597Z"
   },
   {
    "duration": 573,
    "start_time": "2022-01-22T22:44:24.387Z"
   },
   {
    "duration": 605,
    "start_time": "2022-01-22T22:44:47.767Z"
   },
   {
    "duration": 88,
    "start_time": "2022-01-22T22:59:26.517Z"
   },
   {
    "duration": 97,
    "start_time": "2022-01-22T22:59:34.319Z"
   },
   {
    "duration": 97,
    "start_time": "2022-01-22T22:59:43.919Z"
   },
   {
    "duration": 82,
    "start_time": "2022-01-22T22:59:48.794Z"
   },
   {
    "duration": 300,
    "start_time": "2022-01-22T23:00:18.671Z"
   },
   {
    "duration": 88,
    "start_time": "2022-01-22T23:00:50.238Z"
   },
   {
    "duration": 292,
    "start_time": "2022-01-22T23:01:03.251Z"
   },
   {
    "duration": 280,
    "start_time": "2022-01-22T23:02:30.116Z"
   },
   {
    "duration": 300,
    "start_time": "2022-01-22T23:03:19.288Z"
   },
   {
    "duration": 483,
    "start_time": "2022-01-22T23:04:32.758Z"
   },
   {
    "duration": 303,
    "start_time": "2022-01-22T23:05:01.753Z"
   },
   {
    "duration": 280,
    "start_time": "2022-01-22T23:06:11.527Z"
   },
   {
    "duration": 280,
    "start_time": "2022-01-22T23:06:37.800Z"
   },
   {
    "duration": 322,
    "start_time": "2022-01-22T23:16:10.966Z"
   },
   {
    "duration": 237,
    "start_time": "2022-01-22T23:16:24.660Z"
   },
   {
    "duration": 148,
    "start_time": "2022-01-22T23:16:39.628Z"
   },
   {
    "duration": 245,
    "start_time": "2022-01-22T23:16:44.869Z"
   },
   {
    "duration": 236,
    "start_time": "2022-01-22T23:25:54.580Z"
   },
   {
    "duration": 301,
    "start_time": "2022-01-22T23:53:38.921Z"
   },
   {
    "duration": 296,
    "start_time": "2022-01-22T23:53:58.171Z"
   },
   {
    "duration": 551,
    "start_time": "2022-01-22T23:59:49.253Z"
   },
   {
    "duration": 400,
    "start_time": "2022-01-23T00:05:33.193Z"
   },
   {
    "duration": 28,
    "start_time": "2022-01-23T00:11:46.519Z"
   },
   {
    "duration": 29,
    "start_time": "2022-01-23T00:15:07.960Z"
   },
   {
    "duration": 286,
    "start_time": "2022-01-23T00:20:45.975Z"
   },
   {
    "duration": 267,
    "start_time": "2022-01-23T00:21:18.766Z"
   },
   {
    "duration": 293,
    "start_time": "2022-01-23T00:23:58.010Z"
   },
   {
    "duration": 285,
    "start_time": "2022-01-23T00:25:43.265Z"
   },
   {
    "duration": 266,
    "start_time": "2022-01-23T00:25:57.955Z"
   },
   {
    "duration": 389,
    "start_time": "2022-01-23T18:13:31.734Z"
   },
   {
    "duration": 1066,
    "start_time": "2022-01-23T18:13:44.029Z"
   },
   {
    "duration": 42,
    "start_time": "2022-01-23T18:13:45.098Z"
   },
   {
    "duration": 13,
    "start_time": "2022-01-23T18:13:45.142Z"
   },
   {
    "duration": 42,
    "start_time": "2022-01-23T18:13:45.157Z"
   },
   {
    "duration": 3,
    "start_time": "2022-01-23T18:13:45.224Z"
   },
   {
    "duration": 13,
    "start_time": "2022-01-23T18:13:45.230Z"
   },
   {
    "duration": 5,
    "start_time": "2022-01-23T18:13:45.245Z"
   },
   {
    "duration": 12,
    "start_time": "2022-01-23T18:13:45.253Z"
   },
   {
    "duration": 5,
    "start_time": "2022-01-23T18:13:45.267Z"
   },
   {
    "duration": 56,
    "start_time": "2022-01-23T18:13:45.274Z"
   },
   {
    "duration": 12,
    "start_time": "2022-01-23T18:13:45.332Z"
   },
   {
    "duration": 620,
    "start_time": "2022-01-23T18:13:45.346Z"
   },
   {
    "duration": 5603,
    "start_time": "2022-01-23T18:13:45.968Z"
   },
   {
    "duration": 1742,
    "start_time": "2022-01-23T18:13:51.574Z"
   },
   {
    "duration": 573,
    "start_time": "2022-01-23T18:13:53.319Z"
   },
   {
    "duration": 237,
    "start_time": "2022-01-23T18:13:53.895Z"
   },
   {
    "duration": 240,
    "start_time": "2022-01-23T18:13:54.135Z"
   },
   {
    "duration": 438,
    "start_time": "2022-01-23T18:13:54.377Z"
   },
   {
    "duration": 518,
    "start_time": "2022-01-23T18:13:54.818Z"
   },
   {
    "duration": 361,
    "start_time": "2022-01-23T18:13:55.338Z"
   },
   {
    "duration": 276,
    "start_time": "2022-01-23T18:15:22.565Z"
   },
   {
    "duration": 338,
    "start_time": "2022-01-23T18:15:40.639Z"
   },
   {
    "duration": 24,
    "start_time": "2022-01-23T18:16:40.292Z"
   },
   {
    "duration": 25,
    "start_time": "2022-01-23T18:18:28.229Z"
   },
   {
    "duration": 1297,
    "start_time": "2022-01-23T19:22:24.358Z"
   },
   {
    "duration": 43,
    "start_time": "2022-01-23T19:22:25.658Z"
   },
   {
    "duration": 19,
    "start_time": "2022-01-23T19:22:25.704Z"
   },
   {
    "duration": 44,
    "start_time": "2022-01-23T19:22:25.726Z"
   },
   {
    "duration": 4,
    "start_time": "2022-01-23T19:22:25.772Z"
   },
   {
    "duration": 13,
    "start_time": "2022-01-23T19:22:25.779Z"
   },
   {
    "duration": 6,
    "start_time": "2022-01-23T19:22:25.823Z"
   },
   {
    "duration": 11,
    "start_time": "2022-01-23T19:22:25.833Z"
   },
   {
    "duration": 5,
    "start_time": "2022-01-23T19:22:25.848Z"
   },
   {
    "duration": 9,
    "start_time": "2022-01-23T19:22:25.856Z"
   },
   {
    "duration": 7,
    "start_time": "2022-01-23T19:22:25.867Z"
   },
   {
    "duration": 640,
    "start_time": "2022-01-23T19:22:25.877Z"
   },
   {
    "duration": 5753,
    "start_time": "2022-01-23T19:22:26.523Z"
   },
   {
    "duration": 1644,
    "start_time": "2022-01-23T19:22:32.279Z"
   },
   {
    "duration": 590,
    "start_time": "2022-01-23T19:22:33.925Z"
   },
   {
    "duration": 235,
    "start_time": "2022-01-23T19:22:34.517Z"
   },
   {
    "duration": 260,
    "start_time": "2022-01-23T19:22:34.755Z"
   },
   {
    "duration": 396,
    "start_time": "2022-01-23T19:22:35.018Z"
   },
   {
    "duration": 412,
    "start_time": "2022-01-23T19:22:35.416Z"
   },
   {
    "duration": 17,
    "start_time": "2022-01-23T19:22:35.830Z"
   },
   {
    "duration": 9271,
    "start_time": "2022-01-23T19:24:43.203Z"
   },
   {
    "duration": 4945,
    "start_time": "2022-01-23T19:30:19.269Z"
   },
   {
    "duration": 5346,
    "start_time": "2022-01-23T19:31:26.173Z"
   },
   {
    "duration": 5526,
    "start_time": "2022-01-23T19:32:21.334Z"
   },
   {
    "duration": 6755,
    "start_time": "2022-01-23T19:32:57.429Z"
   },
   {
    "duration": 10,
    "start_time": "2022-01-23T19:34:33.904Z"
   },
   {
    "duration": 7676,
    "start_time": "2022-01-23T19:34:33.919Z"
   },
   {
    "duration": 4469,
    "start_time": "2022-01-23T19:35:02.715Z"
   },
   {
    "duration": 5771,
    "start_time": "2022-01-23T19:35:14.633Z"
   },
   {
    "duration": 6819,
    "start_time": "2022-01-23T19:36:03.875Z"
   },
   {
    "duration": 3329,
    "start_time": "2022-01-23T19:36:47.325Z"
   },
   {
    "duration": 3502,
    "start_time": "2022-01-23T19:37:05.085Z"
   },
   {
    "duration": 8568,
    "start_time": "2022-01-23T19:37:20.233Z"
   },
   {
    "duration": 5728,
    "start_time": "2022-01-23T19:38:16.782Z"
   },
   {
    "duration": 6032,
    "start_time": "2022-01-23T19:39:56.444Z"
   },
   {
    "duration": 5803,
    "start_time": "2022-01-23T19:40:05.254Z"
   },
   {
    "duration": 5700,
    "start_time": "2022-01-23T19:40:20.435Z"
   },
   {
    "duration": 7414,
    "start_time": "2022-01-23T19:40:33.632Z"
   },
   {
    "duration": 6296,
    "start_time": "2022-01-23T19:40:47.717Z"
   },
   {
    "duration": 6733,
    "start_time": "2022-01-23T19:42:08.957Z"
   },
   {
    "duration": 5391,
    "start_time": "2022-01-23T19:42:37.114Z"
   },
   {
    "duration": 7460,
    "start_time": "2022-01-23T19:42:55.684Z"
   },
   {
    "duration": 5832,
    "start_time": "2022-01-23T19:43:11.603Z"
   },
   {
    "duration": 5922,
    "start_time": "2022-01-23T19:43:30.322Z"
   },
   {
    "duration": 6432,
    "start_time": "2022-01-23T19:43:58.408Z"
   },
   {
    "duration": 5832,
    "start_time": "2022-01-23T19:44:16.874Z"
   },
   {
    "duration": 5935,
    "start_time": "2022-01-23T19:44:28.165Z"
   },
   {
    "duration": 6071,
    "start_time": "2022-01-23T19:44:56.834Z"
   },
   {
    "duration": 3268,
    "start_time": "2022-01-23T19:45:43.994Z"
   },
   {
    "duration": 6285,
    "start_time": "2022-01-23T19:45:53.444Z"
   },
   {
    "duration": 340,
    "start_time": "2022-01-23T19:57:24.633Z"
   },
   {
    "duration": 346,
    "start_time": "2022-01-23T20:57:37.085Z"
   },
   {
    "duration": 96,
    "start_time": "2022-01-23T21:05:20.026Z"
   },
   {
    "duration": 126,
    "start_time": "2022-01-23T21:05:30.963Z"
   },
   {
    "duration": 96,
    "start_time": "2022-01-23T21:05:45.907Z"
   },
   {
    "duration": 263,
    "start_time": "2022-01-23T21:06:28.456Z"
   },
   {
    "duration": 255,
    "start_time": "2022-01-23T21:12:53.534Z"
   },
   {
    "duration": 266,
    "start_time": "2022-01-23T21:15:01.838Z"
   },
   {
    "duration": 259,
    "start_time": "2022-01-23T21:18:32.986Z"
   },
   {
    "duration": 250,
    "start_time": "2022-01-23T21:22:16.279Z"
   },
   {
    "duration": 240,
    "start_time": "2022-01-23T21:25:05.541Z"
   },
   {
    "duration": 321,
    "start_time": "2022-01-23T21:31:37.668Z"
   },
   {
    "duration": 241,
    "start_time": "2022-01-23T21:32:00.474Z"
   },
   {
    "duration": 161,
    "start_time": "2022-01-23T21:33:24.073Z"
   },
   {
    "duration": 355,
    "start_time": "2022-01-23T21:33:56.900Z"
   },
   {
    "duration": 151,
    "start_time": "2022-01-23T21:37:42.686Z"
   },
   {
    "duration": 151,
    "start_time": "2022-01-23T21:38:59.572Z"
   },
   {
    "duration": 329,
    "start_time": "2022-01-23T21:42:15.544Z"
   },
   {
    "duration": 895,
    "start_time": "2022-01-23T21:42:34.658Z"
   },
   {
    "duration": 149,
    "start_time": "2022-01-23T21:42:46.586Z"
   },
   {
    "duration": 440,
    "start_time": "2022-01-23T21:43:09.409Z"
   },
   {
    "duration": 161,
    "start_time": "2022-01-23T21:43:16.500Z"
   },
   {
    "duration": 197,
    "start_time": "2022-01-23T21:43:31.119Z"
   },
   {
    "duration": 217,
    "start_time": "2022-01-23T21:43:49.011Z"
   },
   {
    "duration": 192,
    "start_time": "2022-01-23T21:44:09.383Z"
   },
   {
    "duration": 259,
    "start_time": "2022-01-23T21:45:09.820Z"
   },
   {
    "duration": 194,
    "start_time": "2022-01-23T21:45:29.123Z"
   },
   {
    "duration": 233,
    "start_time": "2022-01-23T21:47:04.090Z"
   },
   {
    "duration": 210,
    "start_time": "2022-01-23T21:50:25.904Z"
   },
   {
    "duration": 204,
    "start_time": "2022-01-23T21:53:47.448Z"
   },
   {
    "duration": 253,
    "start_time": "2022-01-23T21:58:22.646Z"
   },
   {
    "duration": 498,
    "start_time": "2022-01-23T22:01:23.196Z"
   },
   {
    "duration": 251,
    "start_time": "2022-01-23T22:01:41.415Z"
   },
   {
    "duration": 216,
    "start_time": "2022-01-23T22:02:40.542Z"
   },
   {
    "duration": 230,
    "start_time": "2022-01-23T22:02:52.345Z"
   },
   {
    "duration": 1622,
    "start_time": "2022-01-25T18:01:16.370Z"
   },
   {
    "duration": 50,
    "start_time": "2022-01-25T18:01:17.995Z"
   },
   {
    "duration": 15,
    "start_time": "2022-01-25T18:01:18.048Z"
   },
   {
    "duration": 69,
    "start_time": "2022-01-25T18:01:18.066Z"
   },
   {
    "duration": 4,
    "start_time": "2022-01-25T18:01:18.138Z"
   },
   {
    "duration": 26,
    "start_time": "2022-01-25T18:01:18.145Z"
   },
   {
    "duration": 17,
    "start_time": "2022-01-25T18:01:18.174Z"
   },
   {
    "duration": 53,
    "start_time": "2022-01-25T18:01:18.195Z"
   },
   {
    "duration": 15,
    "start_time": "2022-01-25T18:01:18.251Z"
   },
   {
    "duration": 15,
    "start_time": "2022-01-25T18:01:18.268Z"
   },
   {
    "duration": 10,
    "start_time": "2022-01-25T18:01:18.286Z"
   },
   {
    "duration": 652,
    "start_time": "2022-01-25T18:01:18.299Z"
   },
   {
    "duration": 6646,
    "start_time": "2022-01-25T18:01:18.953Z"
   },
   {
    "duration": 2482,
    "start_time": "2022-01-25T18:01:25.602Z"
   },
   {
    "duration": 634,
    "start_time": "2022-01-25T18:01:28.087Z"
   },
   {
    "duration": 237,
    "start_time": "2022-01-25T18:01:28.724Z"
   },
   {
    "duration": 272,
    "start_time": "2022-01-25T18:01:28.964Z"
   },
   {
    "duration": 426,
    "start_time": "2022-01-25T18:01:29.238Z"
   },
   {
    "duration": 419,
    "start_time": "2022-01-25T18:01:29.666Z"
   },
   {
    "duration": 18,
    "start_time": "2022-01-25T18:01:30.087Z"
   },
   {
    "duration": 27,
    "start_time": "2022-01-25T18:01:30.108Z"
   },
   {
    "duration": 6499,
    "start_time": "2022-01-25T18:01:30.137Z"
   },
   {
    "duration": 6372,
    "start_time": "2022-01-25T18:01:36.641Z"
   },
   {
    "duration": 373,
    "start_time": "2022-01-25T18:01:43.016Z"
   },
   {
    "duration": 332,
    "start_time": "2022-01-25T18:01:43.392Z"
   },
   {
    "duration": 231,
    "start_time": "2022-01-25T18:01:43.726Z"
   },
   {
    "duration": 221,
    "start_time": "2022-01-25T18:01:43.960Z"
   },
   {
    "duration": 249,
    "start_time": "2022-01-25T18:01:44.183Z"
   },
   {
    "duration": 246,
    "start_time": "2022-01-25T18:01:44.434Z"
   },
   {
    "duration": 244,
    "start_time": "2022-01-25T18:01:44.682Z"
   },
   {
    "duration": 251,
    "start_time": "2022-01-25T18:01:44.929Z"
   },
   {
    "duration": 250,
    "start_time": "2022-01-25T18:01:45.182Z"
   },
   {
    "duration": 268,
    "start_time": "2022-01-25T18:01:45.435Z"
   },
   {
    "duration": 795,
    "start_time": "2022-01-25T19:15:13.090Z"
   },
   {
    "duration": 441,
    "start_time": "2022-01-25T19:16:29.010Z"
   },
   {
    "duration": 329,
    "start_time": "2022-01-25T19:17:17.861Z"
   },
   {
    "duration": 310,
    "start_time": "2022-01-25T19:17:33.652Z"
   },
   {
    "duration": 378,
    "start_time": "2022-01-25T19:17:57.273Z"
   },
   {
    "duration": 847,
    "start_time": "2022-01-25T19:18:19.013Z"
   },
   {
    "duration": 921,
    "start_time": "2022-01-25T19:18:59.484Z"
   },
   {
    "duration": 6239,
    "start_time": "2022-01-25T19:23:43.772Z"
   },
   {
    "duration": 9,
    "start_time": "2022-01-25T19:29:59.656Z"
   },
   {
    "duration": 544,
    "start_time": "2022-01-25T19:30:36.021Z"
   },
   {
    "duration": 370,
    "start_time": "2022-01-25T19:30:49.727Z"
   },
   {
    "duration": 17,
    "start_time": "2022-01-25T19:31:02.685Z"
   },
   {
    "duration": 25,
    "start_time": "2022-01-25T19:32:14.374Z"
   },
   {
    "duration": 265,
    "start_time": "2022-01-25T19:35:14.575Z"
   },
   {
    "duration": 273,
    "start_time": "2022-01-25T19:35:50.713Z"
   },
   {
    "duration": 5,
    "start_time": "2022-01-25T19:38:07.510Z"
   },
   {
    "duration": 251,
    "start_time": "2022-01-25T19:38:11.964Z"
   },
   {
    "duration": 100,
    "start_time": "2022-01-25T19:41:03.994Z"
   },
   {
    "duration": 120,
    "start_time": "2022-01-25T19:41:24.098Z"
   },
   {
    "duration": 276,
    "start_time": "2022-01-25T19:41:45.228Z"
   },
   {
    "duration": 443,
    "start_time": "2022-01-25T19:43:33.294Z"
   },
   {
    "duration": 430,
    "start_time": "2022-01-25T19:44:14.361Z"
   },
   {
    "duration": 23,
    "start_time": "2022-01-25T19:44:51.125Z"
   },
   {
    "duration": 33,
    "start_time": "2022-01-25T19:45:01.643Z"
   },
   {
    "duration": 24,
    "start_time": "2022-01-25T19:46:35.455Z"
   },
   {
    "duration": 2073,
    "start_time": "2022-01-25T19:46:38.087Z"
   },
   {
    "duration": 27,
    "start_time": "2022-01-25T19:49:39.335Z"
   },
   {
    "duration": 275,
    "start_time": "2022-01-25T19:50:01.017Z"
   },
   {
    "duration": 9,
    "start_time": "2022-01-25T19:50:22.080Z"
   },
   {
    "duration": 17,
    "start_time": "2022-01-25T20:09:35.254Z"
   },
   {
    "duration": 9,
    "start_time": "2022-01-25T20:09:36.194Z"
   },
   {
    "duration": 4,
    "start_time": "2022-01-25T20:09:56.342Z"
   },
   {
    "duration": 21,
    "start_time": "2022-01-25T20:11:42.502Z"
   },
   {
    "duration": 7,
    "start_time": "2022-01-25T20:11:56.941Z"
   },
   {
    "duration": 865,
    "start_time": "2022-01-25T21:05:48.656Z"
   },
   {
    "duration": 6362,
    "start_time": "2022-01-25T21:07:56.762Z"
   },
   {
    "duration": 1989,
    "start_time": "2022-01-25T21:09:44.582Z"
   },
   {
    "duration": 718,
    "start_time": "2022-01-25T21:12:31.778Z"
   },
   {
    "duration": 2616,
    "start_time": "2022-01-25T21:12:46.967Z"
   },
   {
    "duration": 7600,
    "start_time": "2022-01-25T21:13:04.450Z"
   },
   {
    "duration": 240,
    "start_time": "2022-01-25T21:15:51.551Z"
   },
   {
    "duration": 310,
    "start_time": "2022-01-25T21:16:25.960Z"
   },
   {
    "duration": 294,
    "start_time": "2022-01-25T21:16:37.165Z"
   },
   {
    "duration": 454,
    "start_time": "2022-01-25T21:18:26.138Z"
   },
   {
    "duration": 466,
    "start_time": "2022-01-25T21:20:07.787Z"
   },
   {
    "duration": 6929,
    "start_time": "2022-01-25T21:24:26.198Z"
   },
   {
    "duration": 6714,
    "start_time": "2022-01-25T21:24:55.380Z"
   },
   {
    "duration": 379,
    "start_time": "2022-01-25T21:28:47.364Z"
   },
   {
    "duration": 470,
    "start_time": "2022-01-25T21:29:46.043Z"
   },
   {
    "duration": 237,
    "start_time": "2022-01-25T21:29:56.016Z"
   },
   {
    "duration": 280,
    "start_time": "2022-01-25T21:35:42.377Z"
   },
   {
    "duration": 258,
    "start_time": "2022-01-25T21:36:15.658Z"
   },
   {
    "duration": 271,
    "start_time": "2022-01-25T21:36:33.367Z"
   },
   {
    "duration": 1683,
    "start_time": "2022-01-25T22:06:45.976Z"
   },
   {
    "duration": 62,
    "start_time": "2022-01-25T22:06:47.662Z"
   },
   {
    "duration": 20,
    "start_time": "2022-01-25T22:06:47.733Z"
   },
   {
    "duration": 92,
    "start_time": "2022-01-25T22:06:47.757Z"
   },
   {
    "duration": 9,
    "start_time": "2022-01-25T22:06:47.852Z"
   },
   {
    "duration": 19,
    "start_time": "2022-01-25T22:06:47.864Z"
   },
   {
    "duration": 6,
    "start_time": "2022-01-25T22:06:47.887Z"
   },
   {
    "duration": 38,
    "start_time": "2022-01-25T22:06:47.896Z"
   },
   {
    "duration": 7,
    "start_time": "2022-01-25T22:06:47.936Z"
   },
   {
    "duration": 16,
    "start_time": "2022-01-25T22:06:47.946Z"
   },
   {
    "duration": 15,
    "start_time": "2022-01-25T22:06:47.965Z"
   },
   {
    "duration": 1061,
    "start_time": "2022-01-25T22:06:47.983Z"
   },
   {
    "duration": 6105,
    "start_time": "2022-01-25T22:06:49.048Z"
   },
   {
    "duration": 1883,
    "start_time": "2022-01-25T22:06:55.156Z"
   },
   {
    "duration": 634,
    "start_time": "2022-01-25T22:06:57.042Z"
   },
   {
    "duration": 255,
    "start_time": "2022-01-25T22:06:57.679Z"
   },
   {
    "duration": 272,
    "start_time": "2022-01-25T22:06:57.936Z"
   },
   {
    "duration": 494,
    "start_time": "2022-01-25T22:06:58.213Z"
   },
   {
    "duration": 459,
    "start_time": "2022-01-25T22:06:58.709Z"
   },
   {
    "duration": 18,
    "start_time": "2022-01-25T22:06:59.171Z"
   },
   {
    "duration": 7,
    "start_time": "2022-01-25T22:06:59.192Z"
   },
   {
    "duration": 6665,
    "start_time": "2022-01-25T22:06:59.204Z"
   },
   {
    "duration": 8055,
    "start_time": "2022-01-25T22:07:05.874Z"
   },
   {
    "duration": 393,
    "start_time": "2022-01-25T22:07:13.933Z"
   },
   {
    "duration": 344,
    "start_time": "2022-01-25T22:07:14.332Z"
   },
   {
    "duration": 229,
    "start_time": "2022-01-25T22:07:14.678Z"
   },
   {
    "duration": 223,
    "start_time": "2022-01-25T22:07:14.909Z"
   },
   {
    "duration": 237,
    "start_time": "2022-01-25T22:07:15.135Z"
   },
   {
    "duration": 240,
    "start_time": "2022-01-25T22:07:15.374Z"
   },
   {
    "duration": 246,
    "start_time": "2022-01-25T22:07:15.617Z"
   },
   {
    "duration": 270,
    "start_time": "2022-01-25T22:07:15.866Z"
   },
   {
    "duration": 279,
    "start_time": "2022-01-25T22:07:16.138Z"
   },
   {
    "duration": 296,
    "start_time": "2022-01-25T22:07:16.420Z"
   },
   {
    "duration": 22,
    "start_time": "2022-01-25T22:07:16.719Z"
   },
   {
    "duration": 6,
    "start_time": "2022-01-25T22:07:16.744Z"
   },
   {
    "duration": 21,
    "start_time": "2022-01-25T22:07:16.752Z"
   },
   {
    "duration": 6,
    "start_time": "2022-01-25T22:07:16.775Z"
   },
   {
    "duration": 81,
    "start_time": "2022-01-25T22:17:53.814Z"
   },
   {
    "duration": 355,
    "start_time": "2022-01-25T22:18:43.341Z"
   },
   {
    "duration": 47,
    "start_time": "2022-01-25T22:18:52.867Z"
   },
   {
    "duration": 48,
    "start_time": "2022-01-25T22:19:12.622Z"
   },
   {
    "duration": 10,
    "start_time": "2022-01-25T22:19:25.823Z"
   },
   {
    "duration": 12,
    "start_time": "2022-01-25T22:19:36.096Z"
   },
   {
    "duration": 10,
    "start_time": "2022-01-25T22:21:13.431Z"
   },
   {
    "duration": 10,
    "start_time": "2022-01-25T22:25:09.410Z"
   },
   {
    "duration": 10,
    "start_time": "2022-01-25T22:25:28.850Z"
   },
   {
    "duration": 18,
    "start_time": "2022-01-25T22:25:39.729Z"
   },
   {
    "duration": 11,
    "start_time": "2022-01-25T22:25:41.111Z"
   },
   {
    "duration": 11,
    "start_time": "2022-01-25T22:25:42.255Z"
   },
   {
    "duration": 10,
    "start_time": "2022-01-25T22:28:21.303Z"
   },
   {
    "duration": 10,
    "start_time": "2022-01-25T22:28:41.304Z"
   },
   {
    "duration": 7,
    "start_time": "2022-01-25T22:29:40.969Z"
   },
   {
    "duration": 980,
    "start_time": "2022-01-28T04:55:11.559Z"
   },
   {
    "duration": 35,
    "start_time": "2022-01-28T04:55:12.540Z"
   },
   {
    "duration": 9,
    "start_time": "2022-01-28T04:55:12.577Z"
   },
   {
    "duration": 32,
    "start_time": "2022-01-28T04:55:12.588Z"
   },
   {
    "duration": 3,
    "start_time": "2022-01-28T04:55:12.621Z"
   },
   {
    "duration": 11,
    "start_time": "2022-01-28T04:55:12.625Z"
   },
   {
    "duration": 4,
    "start_time": "2022-01-28T04:55:12.637Z"
   },
   {
    "duration": 8,
    "start_time": "2022-01-28T04:55:12.642Z"
   },
   {
    "duration": 7,
    "start_time": "2022-01-28T04:55:12.652Z"
   },
   {
    "duration": 7,
    "start_time": "2022-01-28T04:55:12.661Z"
   },
   {
    "duration": 6,
    "start_time": "2022-01-28T04:55:12.670Z"
   },
   {
    "duration": 416,
    "start_time": "2022-01-28T04:55:12.678Z"
   },
   {
    "duration": 3641,
    "start_time": "2022-01-28T04:55:13.095Z"
   },
   {
    "duration": 1168,
    "start_time": "2022-01-28T04:55:16.737Z"
   },
   {
    "duration": 380,
    "start_time": "2022-01-28T04:55:17.906Z"
   },
   {
    "duration": 150,
    "start_time": "2022-01-28T04:55:18.288Z"
   },
   {
    "duration": 157,
    "start_time": "2022-01-28T04:55:18.440Z"
   },
   {
    "duration": 325,
    "start_time": "2022-01-28T04:55:18.599Z"
   },
   {
    "duration": 305,
    "start_time": "2022-01-28T04:55:18.926Z"
   },
   {
    "duration": 12,
    "start_time": "2022-01-28T04:55:19.233Z"
   },
   {
    "duration": 5,
    "start_time": "2022-01-28T04:55:19.246Z"
   },
   {
    "duration": 4060,
    "start_time": "2022-01-28T04:55:19.252Z"
   },
   {
    "duration": 3804,
    "start_time": "2022-01-28T04:55:23.314Z"
   },
   {
    "duration": 224,
    "start_time": "2022-01-28T04:55:27.120Z"
   },
   {
    "duration": 224,
    "start_time": "2022-01-28T04:55:27.346Z"
   },
   {
    "duration": 145,
    "start_time": "2022-01-28T04:55:27.572Z"
   },
   {
    "duration": 130,
    "start_time": "2022-01-28T04:55:27.720Z"
   },
   {
    "duration": 142,
    "start_time": "2022-01-28T04:55:27.852Z"
   },
   {
    "duration": 144,
    "start_time": "2022-01-28T04:55:27.996Z"
   },
   {
    "duration": 143,
    "start_time": "2022-01-28T04:55:28.141Z"
   },
   {
    "duration": 164,
    "start_time": "2022-01-28T04:55:28.285Z"
   },
   {
    "duration": 157,
    "start_time": "2022-01-28T04:55:28.451Z"
   },
   {
    "duration": 167,
    "start_time": "2022-01-28T04:55:28.610Z"
   },
   {
    "duration": 11,
    "start_time": "2022-01-28T04:55:28.779Z"
   },
   {
    "duration": 6,
    "start_time": "2022-01-28T04:55:28.791Z"
   },
   {
    "duration": 19,
    "start_time": "2022-01-28T04:55:28.799Z"
   },
   {
    "duration": 4,
    "start_time": "2022-01-28T04:55:28.820Z"
   },
   {
    "duration": 12,
    "start_time": "2022-01-28T04:55:28.825Z"
   },
   {
    "duration": 7,
    "start_time": "2022-01-28T04:55:28.838Z"
   },
   {
    "duration": 7,
    "start_time": "2022-01-28T04:55:28.846Z"
   },
   {
    "duration": 4,
    "start_time": "2022-01-28T04:55:28.855Z"
   },
   {
    "duration": 92,
    "start_time": "2022-01-28T04:57:33.291Z"
   },
   {
    "duration": 32,
    "start_time": "2022-01-28T04:59:47.675Z"
   },
   {
    "duration": 3,
    "start_time": "2022-01-28T04:59:56.351Z"
   },
   {
    "duration": 4,
    "start_time": "2022-01-28T04:59:59.296Z"
   },
   {
    "duration": 10,
    "start_time": "2022-01-28T05:00:01.328Z"
   },
   {
    "duration": 1051,
    "start_time": "2022-01-28T05:00:13.692Z"
   },
   {
    "duration": 32,
    "start_time": "2022-01-28T05:00:14.745Z"
   },
   {
    "duration": 9,
    "start_time": "2022-01-28T05:00:14.779Z"
   },
   {
    "duration": 35,
    "start_time": "2022-01-28T05:00:14.790Z"
   },
   {
    "duration": 2,
    "start_time": "2022-01-28T05:00:14.827Z"
   },
   {
    "duration": 11,
    "start_time": "2022-01-28T05:00:14.830Z"
   },
   {
    "duration": 3,
    "start_time": "2022-01-28T05:00:14.843Z"
   },
   {
    "duration": 8,
    "start_time": "2022-01-28T05:00:14.848Z"
   },
   {
    "duration": 3,
    "start_time": "2022-01-28T05:00:14.859Z"
   },
   {
    "duration": 7,
    "start_time": "2022-01-28T05:00:14.864Z"
   },
   {
    "duration": 8,
    "start_time": "2022-01-28T05:00:14.872Z"
   },
   {
    "duration": 414,
    "start_time": "2022-01-28T05:00:14.881Z"
   },
   {
    "duration": 4016,
    "start_time": "2022-01-28T05:00:15.297Z"
   },
   {
    "duration": 1157,
    "start_time": "2022-01-28T05:00:19.314Z"
   },
   {
    "duration": 381,
    "start_time": "2022-01-28T05:00:20.473Z"
   },
   {
    "duration": 146,
    "start_time": "2022-01-28T05:00:20.855Z"
   },
   {
    "duration": 148,
    "start_time": "2022-01-28T05:00:21.012Z"
   },
   {
    "duration": 280,
    "start_time": "2022-01-28T05:00:21.161Z"
   },
   {
    "duration": 300,
    "start_time": "2022-01-28T05:00:21.442Z"
   },
   {
    "duration": 12,
    "start_time": "2022-01-28T05:00:21.743Z"
   },
   {
    "duration": 7,
    "start_time": "2022-01-28T05:00:21.756Z"
   },
   {
    "duration": 3836,
    "start_time": "2022-01-28T05:00:21.764Z"
   },
   {
    "duration": 3653,
    "start_time": "2022-01-28T05:00:25.601Z"
   },
   {
    "duration": 225,
    "start_time": "2022-01-28T05:00:29.256Z"
   },
   {
    "duration": 229,
    "start_time": "2022-01-28T05:00:29.483Z"
   },
   {
    "duration": 134,
    "start_time": "2022-01-28T05:00:29.714Z"
   },
   {
    "duration": 129,
    "start_time": "2022-01-28T05:00:29.853Z"
   },
   {
    "duration": 149,
    "start_time": "2022-01-28T05:00:29.984Z"
   },
   {
    "duration": 146,
    "start_time": "2022-01-28T05:00:30.135Z"
   },
   {
    "duration": 142,
    "start_time": "2022-01-28T05:00:30.283Z"
   },
   {
    "duration": 167,
    "start_time": "2022-01-28T05:00:30.427Z"
   },
   {
    "duration": 162,
    "start_time": "2022-01-28T05:00:30.595Z"
   },
   {
    "duration": 167,
    "start_time": "2022-01-28T05:00:30.759Z"
   },
   {
    "duration": 12,
    "start_time": "2022-01-28T05:00:30.927Z"
   },
   {
    "duration": 8,
    "start_time": "2022-01-28T05:00:30.940Z"
   },
   {
    "duration": 7,
    "start_time": "2022-01-28T05:00:30.950Z"
   },
   {
    "duration": 5,
    "start_time": "2022-01-28T05:00:30.959Z"
   },
   {
    "duration": 12,
    "start_time": "2022-01-28T05:00:30.966Z"
   },
   {
    "duration": 38,
    "start_time": "2022-01-28T05:00:30.980Z"
   },
   {
    "duration": 8,
    "start_time": "2022-01-28T05:00:31.020Z"
   },
   {
    "duration": 8,
    "start_time": "2022-01-28T05:00:31.029Z"
   },
   {
    "duration": 32,
    "start_time": "2022-01-28T05:08:21.548Z"
   },
   {
    "duration": 10,
    "start_time": "2022-01-28T05:08:22.372Z"
   },
   {
    "duration": 28,
    "start_time": "2022-01-28T05:08:23.012Z"
   },
   {
    "duration": 2,
    "start_time": "2022-01-28T05:08:23.732Z"
   },
   {
    "duration": 9,
    "start_time": "2022-01-28T05:08:24.708Z"
   },
   {
    "duration": 4,
    "start_time": "2022-01-28T05:08:28.109Z"
   },
   {
    "duration": 8,
    "start_time": "2022-01-28T05:08:29.629Z"
   },
   {
    "duration": 15,
    "start_time": "2022-01-28T05:08:37.390Z"
   },
   {
    "duration": 15,
    "start_time": "2022-01-28T05:08:53.520Z"
   },
   {
    "duration": 15,
    "start_time": "2022-01-28T05:09:05.489Z"
   },
   {
    "duration": 4,
    "start_time": "2022-01-28T05:09:16.187Z"
   },
   {
    "duration": 15,
    "start_time": "2022-01-28T05:09:17.763Z"
   },
   {
    "duration": 9,
    "start_time": "2022-01-28T05:09:42.998Z"
   },
   {
    "duration": 10,
    "start_time": "2022-01-28T05:09:46.207Z"
   },
   {
    "duration": 89,
    "start_time": "2022-01-28T05:27:19.003Z"
   },
   {
    "duration": 96,
    "start_time": "2022-01-28T05:27:24.892Z"
   },
   {
    "duration": 11,
    "start_time": "2022-01-28T05:27:29.548Z"
   },
   {
    "duration": 4,
    "start_time": "2022-01-28T05:33:00.830Z"
   },
   {
    "duration": 3,
    "start_time": "2022-01-28T05:33:08.094Z"
   },
   {
    "duration": 570,
    "start_time": "2022-01-28T05:33:44.923Z"
   },
   {
    "duration": 4,
    "start_time": "2022-01-28T05:34:04.630Z"
   },
   {
    "duration": 2326,
    "start_time": "2022-01-28T05:36:02.165Z"
   },
   {
    "duration": 4,
    "start_time": "2022-01-28T05:36:08.061Z"
   },
   {
    "duration": 11,
    "start_time": "2022-01-28T05:38:59.963Z"
   },
   {
    "duration": 11,
    "start_time": "2022-01-28T05:39:08.316Z"
   },
   {
    "duration": 341,
    "start_time": "2022-01-28T16:38:45.667Z"
   },
   {
    "duration": 1528,
    "start_time": "2022-01-28T16:38:54.408Z"
   },
   {
    "duration": 48,
    "start_time": "2022-01-28T16:38:55.939Z"
   },
   {
    "duration": 16,
    "start_time": "2022-01-28T16:38:55.990Z"
   },
   {
    "duration": 67,
    "start_time": "2022-01-28T16:38:56.010Z"
   },
   {
    "duration": 5,
    "start_time": "2022-01-28T16:38:56.080Z"
   },
   {
    "duration": 16,
    "start_time": "2022-01-28T16:38:56.088Z"
   },
   {
    "duration": 6,
    "start_time": "2022-01-28T16:38:56.108Z"
   },
   {
    "duration": 15,
    "start_time": "2022-01-28T16:38:56.148Z"
   },
   {
    "duration": 6,
    "start_time": "2022-01-28T16:38:56.170Z"
   },
   {
    "duration": 22,
    "start_time": "2022-01-28T16:38:56.181Z"
   },
   {
    "duration": 55,
    "start_time": "2022-01-28T16:38:56.206Z"
   },
   {
    "duration": 675,
    "start_time": "2022-01-28T16:38:56.263Z"
   },
   {
    "duration": 6319,
    "start_time": "2022-01-28T16:38:56.940Z"
   },
   {
    "duration": 1892,
    "start_time": "2022-01-28T16:39:03.261Z"
   },
   {
    "duration": 632,
    "start_time": "2022-01-28T16:39:05.156Z"
   },
   {
    "duration": 258,
    "start_time": "2022-01-28T16:39:05.791Z"
   },
   {
    "duration": 270,
    "start_time": "2022-01-28T16:39:06.052Z"
   },
   {
    "duration": 455,
    "start_time": "2022-01-28T16:39:06.325Z"
   },
   {
    "duration": 437,
    "start_time": "2022-01-28T16:39:06.784Z"
   },
   {
    "duration": 32,
    "start_time": "2022-01-28T16:39:07.224Z"
   },
   {
    "duration": 10,
    "start_time": "2022-01-28T16:39:07.260Z"
   },
   {
    "duration": 6375,
    "start_time": "2022-01-28T16:39:07.273Z"
   },
   {
    "duration": 6498,
    "start_time": "2022-01-28T16:39:13.651Z"
   },
   {
    "duration": 408,
    "start_time": "2022-01-28T16:39:20.151Z"
   },
   {
    "duration": 502,
    "start_time": "2022-01-28T16:39:20.563Z"
   },
   {
    "duration": 297,
    "start_time": "2022-01-28T16:39:21.068Z"
   },
   {
    "duration": 229,
    "start_time": "2022-01-28T16:39:21.373Z"
   },
   {
    "duration": 252,
    "start_time": "2022-01-28T16:39:21.605Z"
   },
   {
    "duration": 255,
    "start_time": "2022-01-28T16:39:21.860Z"
   },
   {
    "duration": 263,
    "start_time": "2022-01-28T16:39:22.117Z"
   },
   {
    "duration": 293,
    "start_time": "2022-01-28T16:39:22.383Z"
   },
   {
    "duration": 264,
    "start_time": "2022-01-28T16:39:22.678Z"
   },
   {
    "duration": 271,
    "start_time": "2022-01-28T16:39:22.948Z"
   },
   {
    "duration": 34,
    "start_time": "2022-01-28T16:39:23.223Z"
   },
   {
    "duration": 11,
    "start_time": "2022-01-28T16:39:23.260Z"
   },
   {
    "duration": 11,
    "start_time": "2022-01-28T16:39:23.274Z"
   },
   {
    "duration": 34,
    "start_time": "2022-01-28T16:39:23.289Z"
   },
   {
    "duration": 34,
    "start_time": "2022-01-28T16:39:23.326Z"
   },
   {
    "duration": 15,
    "start_time": "2022-01-28T16:39:23.363Z"
   },
   {
    "duration": 23,
    "start_time": "2022-01-28T16:39:23.381Z"
   },
   {
    "duration": 17,
    "start_time": "2022-01-28T16:39:23.407Z"
   },
   {
    "duration": 44,
    "start_time": "2022-01-28T16:39:23.427Z"
   },
   {
    "duration": 11,
    "start_time": "2022-01-28T16:39:23.473Z"
   },
   {
    "duration": 17,
    "start_time": "2022-01-28T16:39:23.487Z"
   },
   {
    "duration": 9,
    "start_time": "2022-01-28T16:39:23.507Z"
   },
   {
    "duration": 7,
    "start_time": "2022-01-28T17:07:53.668Z"
   },
   {
    "duration": 21,
    "start_time": "2022-01-28T17:08:05.768Z"
   },
   {
    "duration": 435,
    "start_time": "2022-01-28T17:35:18.711Z"
   },
   {
    "duration": 12,
    "start_time": "2022-01-28T17:35:27.199Z"
   },
   {
    "duration": 12,
    "start_time": "2022-01-28T17:35:54.928Z"
   },
   {
    "duration": 6,
    "start_time": "2022-01-28T17:36:05.346Z"
   },
   {
    "duration": 7,
    "start_time": "2022-01-28T17:36:07.879Z"
   },
   {
    "duration": 6,
    "start_time": "2022-01-28T17:36:24.946Z"
   },
   {
    "duration": 3531,
    "start_time": "2022-01-28T17:36:37.488Z"
   },
   {
    "duration": 8,
    "start_time": "2022-01-28T17:37:22.377Z"
   },
   {
    "duration": 76,
    "start_time": "2022-01-28T17:37:22.387Z"
   },
   {
    "duration": 16,
    "start_time": "2022-01-28T17:37:22.465Z"
   },
   {
    "duration": 64,
    "start_time": "2022-01-28T17:37:22.484Z"
   },
   {
    "duration": 4,
    "start_time": "2022-01-28T17:37:22.551Z"
   },
   {
    "duration": 20,
    "start_time": "2022-01-28T17:37:22.558Z"
   },
   {
    "duration": 18,
    "start_time": "2022-01-28T17:37:22.581Z"
   },
   {
    "duration": 13,
    "start_time": "2022-01-28T17:37:22.601Z"
   },
   {
    "duration": 39,
    "start_time": "2022-01-28T17:37:22.617Z"
   },
   {
    "duration": 11,
    "start_time": "2022-01-28T17:37:22.658Z"
   },
   {
    "duration": 19,
    "start_time": "2022-01-28T17:37:22.671Z"
   },
   {
    "duration": 8,
    "start_time": "2022-01-28T17:37:22.693Z"
   },
   {
    "duration": 55,
    "start_time": "2022-01-28T17:37:22.703Z"
   },
   {
    "duration": 5,
    "start_time": "2022-01-28T17:37:22.761Z"
   },
   {
    "duration": 687,
    "start_time": "2022-01-28T17:37:22.769Z"
   },
   {
    "duration": 6165,
    "start_time": "2022-01-28T17:37:23.459Z"
   },
   {
    "duration": 1826,
    "start_time": "2022-01-28T17:37:29.627Z"
   },
   {
    "duration": 649,
    "start_time": "2022-01-28T17:37:31.457Z"
   },
   {
    "duration": 279,
    "start_time": "2022-01-28T17:37:32.109Z"
   },
   {
    "duration": 282,
    "start_time": "2022-01-28T17:37:32.399Z"
   },
   {
    "duration": 440,
    "start_time": "2022-01-28T17:37:32.684Z"
   },
   {
    "duration": 502,
    "start_time": "2022-01-28T17:37:33.126Z"
   },
   {
    "duration": 27,
    "start_time": "2022-01-28T17:37:33.630Z"
   },
   {
    "duration": 7,
    "start_time": "2022-01-28T17:37:33.660Z"
   },
   {
    "duration": 7190,
    "start_time": "2022-01-28T17:37:33.669Z"
   },
   {
    "duration": 6227,
    "start_time": "2022-01-28T17:37:40.862Z"
   },
   {
    "duration": 498,
    "start_time": "2022-01-28T17:37:47.092Z"
   },
   {
    "duration": 225,
    "start_time": "2022-01-28T17:37:47.593Z"
   },
   {
    "duration": 230,
    "start_time": "2022-01-28T17:37:47.821Z"
   },
   {
    "duration": 224,
    "start_time": "2022-01-28T17:37:48.053Z"
   },
   {
    "duration": 246,
    "start_time": "2022-01-28T17:37:48.279Z"
   },
   {
    "duration": 243,
    "start_time": "2022-01-28T17:37:48.528Z"
   },
   {
    "duration": 270,
    "start_time": "2022-01-28T17:37:48.774Z"
   },
   {
    "duration": 287,
    "start_time": "2022-01-28T17:37:49.050Z"
   },
   {
    "duration": 268,
    "start_time": "2022-01-28T17:37:49.340Z"
   },
   {
    "duration": 495,
    "start_time": "2022-01-28T17:37:49.612Z"
   },
   {
    "duration": 18,
    "start_time": "2022-01-28T17:37:50.110Z"
   },
   {
    "duration": 22,
    "start_time": "2022-01-28T17:37:50.130Z"
   },
   {
    "duration": 8,
    "start_time": "2022-01-28T17:37:50.154Z"
   },
   {
    "duration": 17,
    "start_time": "2022-01-28T17:37:50.164Z"
   },
   {
    "duration": 18,
    "start_time": "2022-01-28T17:37:50.184Z"
   },
   {
    "duration": 47,
    "start_time": "2022-01-28T17:37:50.205Z"
   },
   {
    "duration": 15,
    "start_time": "2022-01-28T17:37:50.254Z"
   },
   {
    "duration": 8,
    "start_time": "2022-01-28T17:37:50.271Z"
   },
   {
    "duration": 19,
    "start_time": "2022-01-28T17:37:50.281Z"
   },
   {
    "duration": 10,
    "start_time": "2022-01-28T17:37:50.302Z"
   },
   {
    "duration": 12,
    "start_time": "2022-01-28T17:37:50.349Z"
   },
   {
    "duration": 9,
    "start_time": "2022-01-28T17:37:50.363Z"
   },
   {
    "duration": 11,
    "start_time": "2022-01-28T17:38:02.798Z"
   },
   {
    "duration": 7,
    "start_time": "2022-01-28T17:38:43.893Z"
   },
   {
    "duration": 21,
    "start_time": "2022-01-28T17:43:04.582Z"
   },
   {
    "duration": 6,
    "start_time": "2022-01-28T17:53:52.270Z"
   },
   {
    "duration": 12,
    "start_time": "2022-01-28T17:54:20.059Z"
   },
   {
    "duration": 1520,
    "start_time": "2022-01-28T17:54:56.584Z"
   },
   {
    "duration": 47,
    "start_time": "2022-01-28T17:54:58.107Z"
   },
   {
    "duration": 15,
    "start_time": "2022-01-28T17:54:58.157Z"
   },
   {
    "duration": 47,
    "start_time": "2022-01-28T17:54:58.175Z"
   },
   {
    "duration": 24,
    "start_time": "2022-01-28T17:54:58.224Z"
   },
   {
    "duration": 12,
    "start_time": "2022-01-28T17:54:58.251Z"
   },
   {
    "duration": 18,
    "start_time": "2022-01-28T17:54:58.266Z"
   },
   {
    "duration": 8,
    "start_time": "2022-01-28T17:54:58.286Z"
   },
   {
    "duration": 50,
    "start_time": "2022-01-28T17:54:58.298Z"
   },
   {
    "duration": 6,
    "start_time": "2022-01-28T17:54:58.351Z"
   },
   {
    "duration": 18,
    "start_time": "2022-01-28T17:54:58.359Z"
   },
   {
    "duration": 9,
    "start_time": "2022-01-28T17:54:58.379Z"
   },
   {
    "duration": 27,
    "start_time": "2022-01-28T17:54:58.391Z"
   },
   {
    "duration": 37,
    "start_time": "2022-01-28T17:54:58.421Z"
   },
   {
    "duration": 1007,
    "start_time": "2022-01-28T17:54:58.461Z"
   },
   {
    "duration": 7570,
    "start_time": "2022-01-28T17:54:59.471Z"
   },
   {
    "duration": 1980,
    "start_time": "2022-01-28T17:55:07.049Z"
   },
   {
    "duration": 668,
    "start_time": "2022-01-28T17:55:09.032Z"
   },
   {
    "duration": 264,
    "start_time": "2022-01-28T17:55:09.703Z"
   },
   {
    "duration": 297,
    "start_time": "2022-01-28T17:55:09.970Z"
   },
   {
    "duration": 454,
    "start_time": "2022-01-28T17:55:10.270Z"
   },
   {
    "duration": 488,
    "start_time": "2022-01-28T17:55:10.726Z"
   },
   {
    "duration": 34,
    "start_time": "2022-01-28T17:55:11.217Z"
   },
   {
    "duration": 10,
    "start_time": "2022-01-28T17:55:11.254Z"
   },
   {
    "duration": 7062,
    "start_time": "2022-01-28T17:55:11.267Z"
   },
   {
    "duration": 6468,
    "start_time": "2022-01-28T17:55:18.332Z"
   },
   {
    "duration": 436,
    "start_time": "2022-01-28T17:55:24.806Z"
   },
   {
    "duration": 376,
    "start_time": "2022-01-28T17:55:25.250Z"
   },
   {
    "duration": 242,
    "start_time": "2022-01-28T17:55:25.628Z"
   },
   {
    "duration": 232,
    "start_time": "2022-01-28T17:55:25.873Z"
   },
   {
    "duration": 251,
    "start_time": "2022-01-28T17:55:26.108Z"
   },
   {
    "duration": 247,
    "start_time": "2022-01-28T17:55:26.361Z"
   },
   {
    "duration": 374,
    "start_time": "2022-01-28T17:55:26.610Z"
   },
   {
    "duration": 429,
    "start_time": "2022-01-28T17:55:26.988Z"
   },
   {
    "duration": 303,
    "start_time": "2022-01-28T17:55:27.420Z"
   },
   {
    "duration": 296,
    "start_time": "2022-01-28T17:55:27.726Z"
   },
   {
    "duration": 29,
    "start_time": "2022-01-28T17:55:28.025Z"
   },
   {
    "duration": 5,
    "start_time": "2022-01-28T17:55:28.057Z"
   },
   {
    "duration": 6,
    "start_time": "2022-01-28T17:55:28.064Z"
   },
   {
    "duration": 15,
    "start_time": "2022-01-28T17:55:28.072Z"
   },
   {
    "duration": 17,
    "start_time": "2022-01-28T17:55:28.090Z"
   },
   {
    "duration": 11,
    "start_time": "2022-01-28T17:55:28.149Z"
   },
   {
    "duration": 144,
    "start_time": "2022-01-28T17:55:28.164Z"
   },
   {
    "duration": 12,
    "start_time": "2022-01-28T17:55:28.311Z"
   },
   {
    "duration": 19,
    "start_time": "2022-01-28T17:55:28.326Z"
   },
   {
    "duration": 10,
    "start_time": "2022-01-28T17:55:28.348Z"
   },
   {
    "duration": 12,
    "start_time": "2022-01-28T17:55:28.360Z"
   },
   {
    "duration": 9,
    "start_time": "2022-01-28T17:55:28.374Z"
   },
   {
    "duration": 440,
    "start_time": "2022-01-28T17:56:21.200Z"
   },
   {
    "duration": 394,
    "start_time": "2022-01-28T18:10:02.481Z"
   },
   {
    "duration": 13,
    "start_time": "2022-01-28T18:10:09.801Z"
   },
   {
    "duration": 17,
    "start_time": "2022-01-28T18:30:54.711Z"
   },
   {
    "duration": 1431,
    "start_time": "2022-01-28T18:35:16.087Z"
   },
   {
    "duration": 50,
    "start_time": "2022-01-28T18:35:17.521Z"
   },
   {
    "duration": 16,
    "start_time": "2022-01-28T18:35:17.574Z"
   },
   {
    "duration": 66,
    "start_time": "2022-01-28T18:35:17.594Z"
   },
   {
    "duration": 5,
    "start_time": "2022-01-28T18:35:17.663Z"
   },
   {
    "duration": 20,
    "start_time": "2022-01-28T18:35:17.671Z"
   },
   {
    "duration": 19,
    "start_time": "2022-01-28T18:35:17.694Z"
   },
   {
    "duration": 35,
    "start_time": "2022-01-28T18:35:17.718Z"
   },
   {
    "duration": 13,
    "start_time": "2022-01-28T18:35:17.756Z"
   },
   {
    "duration": 7802,
    "start_time": "2022-01-28T18:35:17.772Z"
   },
   {
    "duration": -22984,
    "start_time": "2022-01-28T18:35:48.564Z"
   },
   {
    "duration": -22995,
    "start_time": "2022-01-28T18:35:48.576Z"
   },
   {
    "duration": -23004,
    "start_time": "2022-01-28T18:35:48.587Z"
   },
   {
    "duration": -23010,
    "start_time": "2022-01-28T18:35:48.594Z"
   },
   {
    "duration": -23016,
    "start_time": "2022-01-28T18:35:48.602Z"
   },
   {
    "duration": -23020,
    "start_time": "2022-01-28T18:35:48.608Z"
   },
   {
    "duration": -23027,
    "start_time": "2022-01-28T18:35:48.616Z"
   },
   {
    "duration": -23029,
    "start_time": "2022-01-28T18:35:48.620Z"
   },
   {
    "duration": -23033,
    "start_time": "2022-01-28T18:35:48.625Z"
   },
   {
    "duration": -23039,
    "start_time": "2022-01-28T18:35:48.633Z"
   },
   {
    "duration": -23041,
    "start_time": "2022-01-28T18:35:48.637Z"
   },
   {
    "duration": -23045,
    "start_time": "2022-01-28T18:35:48.642Z"
   },
   {
    "duration": -23051,
    "start_time": "2022-01-28T18:35:48.650Z"
   },
   {
    "duration": -23054,
    "start_time": "2022-01-28T18:35:48.654Z"
   },
   {
    "duration": -23057,
    "start_time": "2022-01-28T18:35:48.659Z"
   },
   {
    "duration": -23063,
    "start_time": "2022-01-28T18:35:48.666Z"
   },
   {
    "duration": -23088,
    "start_time": "2022-01-28T18:35:48.693Z"
   },
   {
    "duration": -23094,
    "start_time": "2022-01-28T18:35:48.701Z"
   },
   {
    "duration": -23097,
    "start_time": "2022-01-28T18:35:48.705Z"
   },
   {
    "duration": -23100,
    "start_time": "2022-01-28T18:35:48.710Z"
   },
   {
    "duration": -23107,
    "start_time": "2022-01-28T18:35:48.718Z"
   },
   {
    "duration": -23110,
    "start_time": "2022-01-28T18:35:48.722Z"
   },
   {
    "duration": -23113,
    "start_time": "2022-01-28T18:35:48.727Z"
   },
   {
    "duration": -23119,
    "start_time": "2022-01-28T18:35:48.734Z"
   },
   {
    "duration": -23090,
    "start_time": "2022-01-28T18:35:48.738Z"
   },
   {
    "duration": -23093,
    "start_time": "2022-01-28T18:35:48.743Z"
   },
   {
    "duration": -23099,
    "start_time": "2022-01-28T18:35:48.750Z"
   },
   {
    "duration": -23101,
    "start_time": "2022-01-28T18:35:48.754Z"
   },
   {
    "duration": -23104,
    "start_time": "2022-01-28T18:35:48.759Z"
   },
   {
    "duration": -23111,
    "start_time": "2022-01-28T18:35:48.767Z"
   },
   {
    "duration": -23114,
    "start_time": "2022-01-28T18:35:48.771Z"
   },
   {
    "duration": -23118,
    "start_time": "2022-01-28T18:35:48.777Z"
   },
   {
    "duration": -23124,
    "start_time": "2022-01-28T18:35:48.784Z"
   },
   {
    "duration": -23126,
    "start_time": "2022-01-28T18:35:48.788Z"
   },
   {
    "duration": -23130,
    "start_time": "2022-01-28T18:35:48.793Z"
   },
   {
    "duration": -23134,
    "start_time": "2022-01-28T18:35:48.799Z"
   },
   {
    "duration": -23136,
    "start_time": "2022-01-28T18:35:48.803Z"
   },
   {
    "duration": 6918,
    "start_time": "2022-01-28T18:35:44.270Z"
   },
   {
    "duration": 7588,
    "start_time": "2022-01-28T18:37:13.599Z"
   },
   {
    "duration": 7120,
    "start_time": "2022-01-28T18:37:39.039Z"
   },
   {
    "duration": 277,
    "start_time": "2022-01-28T18:39:36.690Z"
   },
   {
    "duration": 294,
    "start_time": "2022-01-28T18:40:46.011Z"
   },
   {
    "duration": 61,
    "start_time": "2022-01-28T18:41:27.047Z"
   },
   {
    "duration": 21,
    "start_time": "2022-01-28T18:41:36.844Z"
   },
   {
    "duration": 21,
    "start_time": "2022-01-28T18:49:05.249Z"
   },
   {
    "duration": 29,
    "start_time": "2022-01-28T18:49:16.803Z"
   },
   {
    "duration": 1804,
    "start_time": "2022-01-28T18:50:46.755Z"
   },
   {
    "duration": 49,
    "start_time": "2022-01-28T18:50:48.562Z"
   },
   {
    "duration": 14,
    "start_time": "2022-01-28T18:50:48.614Z"
   },
   {
    "duration": 48,
    "start_time": "2022-01-28T18:50:48.647Z"
   },
   {
    "duration": 4,
    "start_time": "2022-01-28T18:50:48.698Z"
   },
   {
    "duration": 43,
    "start_time": "2022-01-28T18:50:48.705Z"
   },
   {
    "duration": 24,
    "start_time": "2022-01-28T18:50:48.752Z"
   },
   {
    "duration": 13,
    "start_time": "2022-01-28T18:50:48.779Z"
   },
   {
    "duration": 18,
    "start_time": "2022-01-28T18:50:48.797Z"
   },
   {
    "duration": 54,
    "start_time": "2022-01-28T18:50:48.819Z"
   },
   {
    "duration": 36,
    "start_time": "2022-01-28T18:50:48.876Z"
   },
   {
    "duration": 7,
    "start_time": "2022-01-28T18:50:48.916Z"
   },
   {
    "duration": 33,
    "start_time": "2022-01-28T18:50:48.950Z"
   },
   {
    "duration": 32,
    "start_time": "2022-01-28T18:50:48.986Z"
   },
   {
    "duration": 711,
    "start_time": "2022-01-28T18:50:49.021Z"
   },
   {
    "duration": 6641,
    "start_time": "2022-01-28T18:50:49.735Z"
   },
   {
    "duration": 2060,
    "start_time": "2022-01-28T18:50:56.379Z"
   },
   {
    "duration": 616,
    "start_time": "2022-01-28T18:50:58.449Z"
   },
   {
    "duration": 253,
    "start_time": "2022-01-28T18:50:59.068Z"
   },
   {
    "duration": 269,
    "start_time": "2022-01-28T18:50:59.323Z"
   },
   {
    "duration": 468,
    "start_time": "2022-01-28T18:50:59.595Z"
   },
   {
    "duration": 431,
    "start_time": "2022-01-28T18:51:00.066Z"
   },
   {
    "duration": 20,
    "start_time": "2022-01-28T18:51:00.500Z"
   },
   {
    "duration": 28,
    "start_time": "2022-01-28T18:51:00.523Z"
   },
   {
    "duration": 6478,
    "start_time": "2022-01-28T18:51:00.554Z"
   },
   {
    "duration": 6414,
    "start_time": "2022-01-28T18:51:07.034Z"
   },
   {
    "duration": 382,
    "start_time": "2022-01-28T18:51:13.454Z"
   },
   {
    "duration": 379,
    "start_time": "2022-01-28T18:51:13.848Z"
   },
   {
    "duration": 236,
    "start_time": "2022-01-28T18:51:14.230Z"
   },
   {
    "duration": 227,
    "start_time": "2022-01-28T18:51:14.468Z"
   },
   {
    "duration": 251,
    "start_time": "2022-01-28T18:51:14.698Z"
   },
   {
    "duration": 248,
    "start_time": "2022-01-28T18:51:14.952Z"
   },
   {
    "duration": 265,
    "start_time": "2022-01-28T18:51:15.204Z"
   },
   {
    "duration": 412,
    "start_time": "2022-01-28T18:51:15.473Z"
   },
   {
    "duration": 391,
    "start_time": "2022-01-28T18:51:15.889Z"
   },
   {
    "duration": 417,
    "start_time": "2022-01-28T18:51:16.284Z"
   },
   {
    "duration": 17,
    "start_time": "2022-01-28T18:51:16.704Z"
   },
   {
    "duration": 25,
    "start_time": "2022-01-28T18:51:16.724Z"
   },
   {
    "duration": 5,
    "start_time": "2022-01-28T18:51:16.752Z"
   },
   {
    "duration": 16,
    "start_time": "2022-01-28T18:51:16.760Z"
   },
   {
    "duration": 20,
    "start_time": "2022-01-28T18:51:16.778Z"
   },
   {
    "duration": 53,
    "start_time": "2022-01-28T18:51:16.801Z"
   },
   {
    "duration": 11,
    "start_time": "2022-01-28T18:51:16.856Z"
   },
   {
    "duration": 9,
    "start_time": "2022-01-28T18:51:16.870Z"
   },
   {
    "duration": 23,
    "start_time": "2022-01-28T18:51:16.882Z"
   },
   {
    "duration": 48,
    "start_time": "2022-01-28T18:51:16.908Z"
   },
   {
    "duration": 14,
    "start_time": "2022-01-28T18:51:16.959Z"
   },
   {
    "duration": 7,
    "start_time": "2022-01-28T18:51:16.976Z"
   },
   {
    "duration": 32,
    "start_time": "2022-01-28T19:18:40.528Z"
   },
   {
    "duration": 5,
    "start_time": "2022-01-28T19:39:23.117Z"
   },
   {
    "duration": 248,
    "start_time": "2022-01-28T19:50:20.336Z"
   },
   {
    "duration": 6564,
    "start_time": "2022-01-28T19:50:54.486Z"
   },
   {
    "duration": 108,
    "start_time": "2022-01-28T19:55:18.870Z"
   },
   {
    "duration": 845,
    "start_time": "2022-01-28T19:56:13.510Z"
   },
   {
    "duration": 792,
    "start_time": "2022-01-28T19:56:50.041Z"
   },
   {
    "duration": 402,
    "start_time": "2022-01-28T20:14:06.968Z"
   },
   {
    "duration": 1144,
    "start_time": "2022-01-28T20:14:27.548Z"
   },
   {
    "duration": 371,
    "start_time": "2022-01-28T20:14:38.659Z"
   },
   {
    "duration": 817,
    "start_time": "2022-01-28T20:14:56.025Z"
   },
   {
    "duration": 6405,
    "start_time": "2022-01-28T20:15:52.746Z"
   },
   {
    "duration": 6311,
    "start_time": "2022-01-28T20:16:47.555Z"
   },
   {
    "duration": 8641,
    "start_time": "2022-01-28T20:17:56.699Z"
   },
   {
    "duration": 9488,
    "start_time": "2022-01-28T20:18:39.538Z"
   },
   {
    "duration": 2917,
    "start_time": "2022-01-28T20:19:14.608Z"
   },
   {
    "duration": 2998,
    "start_time": "2022-01-28T20:19:29.678Z"
   },
   {
    "duration": 3553,
    "start_time": "2022-01-28T20:19:49.426Z"
   },
   {
    "duration": 10315,
    "start_time": "2022-01-28T20:20:22.820Z"
   },
   {
    "duration": 826,
    "start_time": "2022-01-28T20:22:47.835Z"
   },
   {
    "duration": 769,
    "start_time": "2022-01-28T20:22:59.401Z"
   },
   {
    "duration": 977,
    "start_time": "2022-01-28T20:23:50.230Z"
   },
   {
    "duration": 881,
    "start_time": "2022-01-28T20:23:57.188Z"
   },
   {
    "duration": 10641,
    "start_time": "2022-01-28T20:24:59.885Z"
   },
   {
    "duration": 945,
    "start_time": "2022-01-28T20:27:20.833Z"
   },
   {
    "duration": 834,
    "start_time": "2022-01-28T20:27:31.384Z"
   },
   {
    "duration": 5714,
    "start_time": "2022-01-28T20:28:13.896Z"
   },
   {
    "duration": 883,
    "start_time": "2022-01-28T20:43:00.436Z"
   },
   {
    "duration": 11,
    "start_time": "2022-01-28T20:51:32.058Z"
   },
   {
    "duration": 1429,
    "start_time": "2022-01-28T20:53:05.788Z"
   },
   {
    "duration": 51,
    "start_time": "2022-01-28T20:53:07.220Z"
   },
   {
    "duration": 17,
    "start_time": "2022-01-28T20:53:07.275Z"
   },
   {
    "duration": 74,
    "start_time": "2022-01-28T20:53:07.296Z"
   },
   {
    "duration": 5,
    "start_time": "2022-01-28T20:53:07.373Z"
   },
   {
    "duration": 18,
    "start_time": "2022-01-28T20:53:07.380Z"
   },
   {
    "duration": 19,
    "start_time": "2022-01-28T20:53:07.400Z"
   },
   {
    "duration": 7,
    "start_time": "2022-01-28T20:53:07.451Z"
   },
   {
    "duration": 12,
    "start_time": "2022-01-28T20:53:07.461Z"
   },
   {
    "duration": 19,
    "start_time": "2022-01-28T20:53:07.475Z"
   },
   {
    "duration": 62,
    "start_time": "2022-01-28T20:53:07.497Z"
   },
   {
    "duration": 7,
    "start_time": "2022-01-28T20:53:07.562Z"
   },
   {
    "duration": 15,
    "start_time": "2022-01-28T20:53:07.572Z"
   },
   {
    "duration": 14,
    "start_time": "2022-01-28T20:53:07.589Z"
   },
   {
    "duration": 686,
    "start_time": "2022-01-28T20:53:07.606Z"
   },
   {
    "duration": 6006,
    "start_time": "2022-01-28T20:53:08.294Z"
   },
   {
    "duration": 1826,
    "start_time": "2022-01-28T20:53:14.302Z"
   },
   {
    "duration": 17,
    "start_time": "2022-01-28T20:53:16.131Z"
   },
   {
    "duration": 619,
    "start_time": "2022-01-28T20:53:16.151Z"
   },
   {
    "duration": 256,
    "start_time": "2022-01-28T20:53:16.772Z"
   },
   {
    "duration": 272,
    "start_time": "2022-01-28T20:53:17.031Z"
   },
   {
    "duration": 454,
    "start_time": "2022-01-28T20:53:17.307Z"
   },
   {
    "duration": 410,
    "start_time": "2022-01-28T20:53:17.767Z"
   },
   {
    "duration": 18,
    "start_time": "2022-01-28T20:53:18.180Z"
   },
   {
    "duration": 7,
    "start_time": "2022-01-28T20:53:18.201Z"
   },
   {
    "duration": 6661,
    "start_time": "2022-01-28T20:53:18.210Z"
   },
   {
    "duration": 6432,
    "start_time": "2022-01-28T20:53:24.874Z"
   },
   {
    "duration": 394,
    "start_time": "2022-01-28T20:53:31.308Z"
   },
   {
    "duration": 364,
    "start_time": "2022-01-28T20:53:31.704Z"
   },
   {
    "duration": 242,
    "start_time": "2022-01-28T20:53:32.071Z"
   },
   {
    "duration": 257,
    "start_time": "2022-01-28T20:53:32.316Z"
   },
   {
    "duration": 247,
    "start_time": "2022-01-28T20:53:32.576Z"
   },
   {
    "duration": 243,
    "start_time": "2022-01-28T20:53:32.826Z"
   },
   {
    "duration": 240,
    "start_time": "2022-01-28T20:53:33.071Z"
   },
   {
    "duration": 273,
    "start_time": "2022-01-28T20:53:33.314Z"
   },
   {
    "duration": 266,
    "start_time": "2022-01-28T20:53:33.590Z"
   },
   {
    "duration": 297,
    "start_time": "2022-01-28T20:53:33.858Z"
   },
   {
    "duration": 19,
    "start_time": "2022-01-28T20:53:34.158Z"
   },
   {
    "duration": 9,
    "start_time": "2022-01-28T20:53:34.180Z"
   },
   {
    "duration": 7,
    "start_time": "2022-01-28T20:53:34.191Z"
   },
   {
    "duration": 53,
    "start_time": "2022-01-28T20:53:34.200Z"
   },
   {
    "duration": 17,
    "start_time": "2022-01-28T20:53:34.256Z"
   },
   {
    "duration": 10,
    "start_time": "2022-01-28T20:53:34.276Z"
   },
   {
    "duration": 14,
    "start_time": "2022-01-28T20:53:34.288Z"
   },
   {
    "duration": 45,
    "start_time": "2022-01-28T20:53:34.305Z"
   },
   {
    "duration": 25,
    "start_time": "2022-01-28T20:53:34.352Z"
   },
   {
    "duration": 12,
    "start_time": "2022-01-28T20:53:34.380Z"
   },
   {
    "duration": 14,
    "start_time": "2022-01-28T20:53:34.394Z"
   },
   {
    "duration": 7,
    "start_time": "2022-01-28T20:53:34.410Z"
   },
   {
    "duration": 8,
    "start_time": "2022-01-28T21:06:26.187Z"
   },
   {
    "duration": 1119,
    "start_time": "2022-01-28T21:06:27.487Z"
   },
   {
    "duration": 9,
    "start_time": "2022-01-28T21:07:53.157Z"
   },
   {
    "duration": 4703,
    "start_time": "2022-01-28T21:07:54.103Z"
   },
   {
    "duration": 469,
    "start_time": "2022-01-28T21:12:24.417Z"
   },
   {
    "duration": 237,
    "start_time": "2022-01-28T21:12:47.259Z"
   },
   {
    "duration": 100,
    "start_time": "2022-01-28T21:14:54.608Z"
   },
   {
    "duration": 94,
    "start_time": "2022-01-28T21:15:03.058Z"
   },
   {
    "duration": 97,
    "start_time": "2022-01-28T21:15:30.628Z"
   },
   {
    "duration": 107,
    "start_time": "2022-01-28T21:15:55.178Z"
   },
   {
    "duration": 2797,
    "start_time": "2022-01-28T21:16:08.117Z"
   },
   {
    "duration": 243,
    "start_time": "2022-01-28T21:16:22.327Z"
   },
   {
    "duration": 229,
    "start_time": "2022-01-28T21:16:39.104Z"
   },
   {
    "duration": 236,
    "start_time": "2022-01-28T21:16:56.908Z"
   },
   {
    "duration": 286,
    "start_time": "2022-01-28T21:17:31.965Z"
   },
   {
    "duration": 329,
    "start_time": "2022-01-28T21:17:40.207Z"
   },
   {
    "duration": 312,
    "start_time": "2022-01-28T21:17:48.139Z"
   },
   {
    "duration": 279,
    "start_time": "2022-01-28T21:17:55.405Z"
   },
   {
    "duration": 243,
    "start_time": "2022-01-28T21:18:01.208Z"
   },
   {
    "duration": 261,
    "start_time": "2022-01-28T21:18:28.682Z"
   },
   {
    "duration": 341,
    "start_time": "2022-01-28T21:20:12.968Z"
   },
   {
    "duration": 596,
    "start_time": "2022-01-28T21:25:01.515Z"
   },
   {
    "duration": 115,
    "start_time": "2022-01-28T21:25:16.424Z"
   },
   {
    "duration": 630,
    "start_time": "2022-01-28T21:25:25.475Z"
   },
   {
    "duration": 236,
    "start_time": "2022-01-28T21:26:22.370Z"
   },
   {
    "duration": 252,
    "start_time": "2022-01-28T21:26:34.745Z"
   },
   {
    "duration": 1423,
    "start_time": "2022-01-28T21:28:03.676Z"
   },
   {
    "duration": 49,
    "start_time": "2022-01-28T21:28:05.101Z"
   },
   {
    "duration": 13,
    "start_time": "2022-01-28T21:28:05.154Z"
   },
   {
    "duration": 44,
    "start_time": "2022-01-28T21:28:05.170Z"
   },
   {
    "duration": 4,
    "start_time": "2022-01-28T21:28:05.216Z"
   },
   {
    "duration": 33,
    "start_time": "2022-01-28T21:28:05.223Z"
   },
   {
    "duration": 20,
    "start_time": "2022-01-28T21:28:05.259Z"
   },
   {
    "duration": 8,
    "start_time": "2022-01-28T21:28:05.282Z"
   },
   {
    "duration": 14,
    "start_time": "2022-01-28T21:28:05.294Z"
   },
   {
    "duration": 54,
    "start_time": "2022-01-28T21:28:05.311Z"
   },
   {
    "duration": 25,
    "start_time": "2022-01-28T21:28:05.367Z"
   },
   {
    "duration": 6,
    "start_time": "2022-01-28T21:28:05.395Z"
   },
   {
    "duration": 12,
    "start_time": "2022-01-28T21:28:05.403Z"
   },
   {
    "duration": 37,
    "start_time": "2022-01-28T21:28:05.418Z"
   },
   {
    "duration": 646,
    "start_time": "2022-01-28T21:28:05.457Z"
   },
   {
    "duration": 5876,
    "start_time": "2022-01-28T21:28:06.105Z"
   },
   {
    "duration": 1793,
    "start_time": "2022-01-28T21:28:11.984Z"
   },
   {
    "duration": 10,
    "start_time": "2022-01-28T21:28:13.781Z"
   },
   {
    "duration": 618,
    "start_time": "2022-01-28T21:28:13.793Z"
   },
   {
    "duration": 250,
    "start_time": "2022-01-28T21:28:14.413Z"
   },
   {
    "duration": 243,
    "start_time": "2022-01-28T21:28:14.666Z"
   },
   {
    "duration": 266,
    "start_time": "2022-01-28T21:28:14.912Z"
   },
   {
    "duration": 411,
    "start_time": "2022-01-28T21:28:15.180Z"
   },
   {
    "duration": 465,
    "start_time": "2022-01-28T21:28:15.594Z"
   },
   {
    "duration": 18,
    "start_time": "2022-01-28T21:28:16.061Z"
   },
   {
    "duration": 8,
    "start_time": "2022-01-28T21:28:16.081Z"
   },
   {
    "duration": 6374,
    "start_time": "2022-01-28T21:28:16.094Z"
   },
   {
    "duration": 6248,
    "start_time": "2022-01-28T21:28:22.472Z"
   },
   {
    "duration": 357,
    "start_time": "2022-01-28T21:28:28.723Z"
   },
   {
    "duration": 226,
    "start_time": "2022-01-28T21:28:29.084Z"
   },
   {
    "duration": 227,
    "start_time": "2022-01-28T21:28:29.313Z"
   },
   {
    "duration": 214,
    "start_time": "2022-01-28T21:28:29.543Z"
   },
   {
    "duration": 237,
    "start_time": "2022-01-28T21:28:29.760Z"
   },
   {
    "duration": 238,
    "start_time": "2022-01-28T21:28:30.000Z"
   },
   {
    "duration": 232,
    "start_time": "2022-01-28T21:28:30.248Z"
   },
   {
    "duration": 280,
    "start_time": "2022-01-28T21:28:30.482Z"
   },
   {
    "duration": 263,
    "start_time": "2022-01-28T21:28:30.765Z"
   },
   {
    "duration": 279,
    "start_time": "2022-01-28T21:28:31.031Z"
   },
   {
    "duration": 16,
    "start_time": "2022-01-28T21:28:31.312Z"
   },
   {
    "duration": 19,
    "start_time": "2022-01-28T21:28:31.331Z"
   },
   {
    "duration": 6,
    "start_time": "2022-01-28T21:28:31.353Z"
   },
   {
    "duration": 24,
    "start_time": "2022-01-28T21:28:31.361Z"
   },
   {
    "duration": 16,
    "start_time": "2022-01-28T21:28:31.388Z"
   },
   {
    "duration": 46,
    "start_time": "2022-01-28T21:28:31.406Z"
   },
   {
    "duration": 10,
    "start_time": "2022-01-28T21:28:31.454Z"
   },
   {
    "duration": 6,
    "start_time": "2022-01-28T21:28:31.467Z"
   },
   {
    "duration": 16,
    "start_time": "2022-01-28T21:28:31.476Z"
   },
   {
    "duration": 11,
    "start_time": "2022-01-28T21:28:31.494Z"
   },
   {
    "duration": 10,
    "start_time": "2022-01-28T21:28:31.547Z"
   },
   {
    "duration": 9,
    "start_time": "2022-01-28T21:28:31.560Z"
   },
   {
    "duration": 289,
    "start_time": "2022-01-28T21:32:45.672Z"
   },
   {
    "duration": 218,
    "start_time": "2022-01-28T21:34:36.206Z"
   },
   {
    "duration": 283,
    "start_time": "2022-01-28T21:34:45.755Z"
   },
   {
    "duration": 253,
    "start_time": "2022-01-28T21:35:08.895Z"
   },
   {
    "duration": 267,
    "start_time": "2022-01-28T21:35:17.415Z"
   },
   {
    "duration": 375,
    "start_time": "2022-01-28T21:35:26.259Z"
   },
   {
    "duration": 1477,
    "start_time": "2022-01-28T21:36:57.219Z"
   },
   {
    "duration": 50,
    "start_time": "2022-01-28T21:36:58.699Z"
   },
   {
    "duration": 16,
    "start_time": "2022-01-28T21:36:58.753Z"
   },
   {
    "duration": 46,
    "start_time": "2022-01-28T21:36:58.773Z"
   },
   {
    "duration": 28,
    "start_time": "2022-01-28T21:36:58.822Z"
   },
   {
    "duration": 16,
    "start_time": "2022-01-28T21:36:58.853Z"
   },
   {
    "duration": 18,
    "start_time": "2022-01-28T21:36:58.871Z"
   },
   {
    "duration": 7,
    "start_time": "2022-01-28T21:36:58.892Z"
   },
   {
    "duration": 54,
    "start_time": "2022-01-28T21:36:58.902Z"
   },
   {
    "duration": 19,
    "start_time": "2022-01-28T21:36:58.959Z"
   },
   {
    "duration": 17,
    "start_time": "2022-01-28T21:36:58.981Z"
   },
   {
    "duration": 6,
    "start_time": "2022-01-28T21:36:59.001Z"
   },
   {
    "duration": 45,
    "start_time": "2022-01-28T21:36:59.009Z"
   },
   {
    "duration": 7,
    "start_time": "2022-01-28T21:36:59.056Z"
   },
   {
    "duration": 647,
    "start_time": "2022-01-28T21:36:59.066Z"
   },
   {
    "duration": 5988,
    "start_time": "2022-01-28T21:36:59.716Z"
   },
   {
    "duration": 1882,
    "start_time": "2022-01-28T21:37:05.707Z"
   },
   {
    "duration": 9,
    "start_time": "2022-01-28T21:37:07.591Z"
   },
   {
    "duration": 633,
    "start_time": "2022-01-28T21:37:07.602Z"
   },
   {
    "duration": 246,
    "start_time": "2022-01-28T21:37:08.238Z"
   },
   {
    "duration": 236,
    "start_time": "2022-01-28T21:37:08.486Z"
   },
   {
    "duration": 259,
    "start_time": "2022-01-28T21:37:08.724Z"
   },
   {
    "duration": 247,
    "start_time": "2022-01-28T21:37:08.986Z"
   },
   {
    "duration": 451,
    "start_time": "2022-01-28T21:37:09.237Z"
   },
   {
    "duration": 583,
    "start_time": "2022-01-28T21:37:09.691Z"
   },
   {
    "duration": 20,
    "start_time": "2022-01-28T21:37:10.277Z"
   },
   {
    "duration": 7,
    "start_time": "2022-01-28T21:37:10.303Z"
   },
   {
    "duration": 6088,
    "start_time": "2022-01-28T21:37:10.314Z"
   },
   {
    "duration": 6277,
    "start_time": "2022-01-28T21:37:16.405Z"
   },
   {
    "duration": 376,
    "start_time": "2022-01-28T21:37:22.685Z"
   },
   {
    "duration": 217,
    "start_time": "2022-01-28T21:37:23.063Z"
   },
   {
    "duration": 221,
    "start_time": "2022-01-28T21:37:23.282Z"
   },
   {
    "duration": 221,
    "start_time": "2022-01-28T21:37:23.506Z"
   },
   {
    "duration": 242,
    "start_time": "2022-01-28T21:37:23.730Z"
   },
   {
    "duration": 239,
    "start_time": "2022-01-28T21:37:23.975Z"
   },
   {
    "duration": 246,
    "start_time": "2022-01-28T21:37:24.217Z"
   },
   {
    "duration": 278,
    "start_time": "2022-01-28T21:37:24.465Z"
   },
   {
    "duration": 268,
    "start_time": "2022-01-28T21:37:24.749Z"
   },
   {
    "duration": 303,
    "start_time": "2022-01-28T21:37:25.019Z"
   },
   {
    "duration": 35,
    "start_time": "2022-01-28T21:37:25.324Z"
   },
   {
    "duration": 4,
    "start_time": "2022-01-28T21:37:25.362Z"
   },
   {
    "duration": 7,
    "start_time": "2022-01-28T21:37:25.369Z"
   },
   {
    "duration": 18,
    "start_time": "2022-01-28T21:37:25.379Z"
   },
   {
    "duration": 17,
    "start_time": "2022-01-28T21:37:25.399Z"
   },
   {
    "duration": 11,
    "start_time": "2022-01-28T21:37:25.448Z"
   },
   {
    "duration": 53,
    "start_time": "2022-01-28T21:37:25.461Z"
   },
   {
    "duration": 14,
    "start_time": "2022-01-28T21:37:25.517Z"
   },
   {
    "duration": 20,
    "start_time": "2022-01-28T21:37:25.534Z"
   },
   {
    "duration": 10,
    "start_time": "2022-01-28T21:37:25.556Z"
   },
   {
    "duration": 14,
    "start_time": "2022-01-28T21:37:25.569Z"
   },
   {
    "duration": 15,
    "start_time": "2022-01-28T21:37:25.586Z"
   },
   {
    "duration": 325,
    "start_time": "2022-01-29T15:58:42.346Z"
   },
   {
    "duration": 1132,
    "start_time": "2022-01-29T15:58:55.790Z"
   },
   {
    "duration": 39,
    "start_time": "2022-01-29T15:58:56.924Z"
   },
   {
    "duration": 10,
    "start_time": "2022-01-29T15:58:56.966Z"
   },
   {
    "duration": 37,
    "start_time": "2022-01-29T15:58:56.978Z"
   },
   {
    "duration": 2,
    "start_time": "2022-01-29T15:58:57.017Z"
   },
   {
    "duration": 14,
    "start_time": "2022-01-29T15:58:57.021Z"
   },
   {
    "duration": 25,
    "start_time": "2022-01-29T15:58:57.036Z"
   },
   {
    "duration": 4,
    "start_time": "2022-01-29T15:58:57.063Z"
   },
   {
    "duration": 10,
    "start_time": "2022-01-29T15:58:57.069Z"
   },
   {
    "duration": 15,
    "start_time": "2022-01-29T15:58:57.081Z"
   },
   {
    "duration": 14,
    "start_time": "2022-01-29T15:58:57.098Z"
   },
   {
    "duration": 4,
    "start_time": "2022-01-29T15:58:57.114Z"
   },
   {
    "duration": 11,
    "start_time": "2022-01-29T15:58:57.119Z"
   },
   {
    "duration": 31,
    "start_time": "2022-01-29T15:58:57.132Z"
   },
   {
    "duration": 386,
    "start_time": "2022-01-29T15:58:57.165Z"
   },
   {
    "duration": 3678,
    "start_time": "2022-01-29T15:58:57.560Z"
   },
   {
    "duration": 1328,
    "start_time": "2022-01-29T15:59:01.240Z"
   },
   {
    "duration": 7,
    "start_time": "2022-01-29T15:59:02.571Z"
   },
   {
    "duration": 388,
    "start_time": "2022-01-29T15:59:02.580Z"
   },
   {
    "duration": 203,
    "start_time": "2022-01-29T15:59:02.970Z"
   },
   {
    "duration": 146,
    "start_time": "2022-01-29T15:59:03.175Z"
   },
   {
    "duration": 161,
    "start_time": "2022-01-29T15:59:03.323Z"
   },
   {
    "duration": 148,
    "start_time": "2022-01-29T15:59:03.485Z"
   },
   {
    "duration": 334,
    "start_time": "2022-01-29T15:59:03.634Z"
   },
   {
    "duration": 411,
    "start_time": "2022-01-29T15:59:03.970Z"
   },
   {
    "duration": 15,
    "start_time": "2022-01-29T15:59:04.383Z"
   },
   {
    "duration": 6,
    "start_time": "2022-01-29T15:59:04.404Z"
   },
   {
    "duration": 4659,
    "start_time": "2022-01-29T15:59:04.412Z"
   },
   {
    "duration": 4261,
    "start_time": "2022-01-29T15:59:09.073Z"
   },
   {
    "duration": 214,
    "start_time": "2022-01-29T15:59:13.335Z"
   },
   {
    "duration": 140,
    "start_time": "2022-01-29T15:59:13.551Z"
   },
   {
    "duration": 140,
    "start_time": "2022-01-29T15:59:13.692Z"
   },
   {
    "duration": 133,
    "start_time": "2022-01-29T15:59:13.834Z"
   },
   {
    "duration": 142,
    "start_time": "2022-01-29T15:59:13.969Z"
   },
   {
    "duration": 148,
    "start_time": "2022-01-29T15:59:14.112Z"
   },
   {
    "duration": 142,
    "start_time": "2022-01-29T15:59:14.262Z"
   },
   {
    "duration": 159,
    "start_time": "2022-01-29T15:59:14.405Z"
   },
   {
    "duration": 161,
    "start_time": "2022-01-29T15:59:14.566Z"
   },
   {
    "duration": 172,
    "start_time": "2022-01-29T15:59:14.729Z"
   },
   {
    "duration": 11,
    "start_time": "2022-01-29T15:59:14.903Z"
   },
   {
    "duration": 4,
    "start_time": "2022-01-29T15:59:14.916Z"
   },
   {
    "duration": 10,
    "start_time": "2022-01-29T15:59:14.921Z"
   },
   {
    "duration": 31,
    "start_time": "2022-01-29T15:59:14.933Z"
   },
   {
    "duration": 12,
    "start_time": "2022-01-29T15:59:14.966Z"
   },
   {
    "duration": 7,
    "start_time": "2022-01-29T15:59:14.980Z"
   },
   {
    "duration": 24,
    "start_time": "2022-01-29T15:59:14.989Z"
   },
   {
    "duration": 18,
    "start_time": "2022-01-29T15:59:15.015Z"
   },
   {
    "duration": 17,
    "start_time": "2022-01-29T15:59:15.035Z"
   },
   {
    "duration": 12,
    "start_time": "2022-01-29T15:59:15.060Z"
   },
   {
    "duration": 10,
    "start_time": "2022-01-29T15:59:15.073Z"
   },
   {
    "duration": 7,
    "start_time": "2022-01-29T15:59:15.085Z"
   },
   {
    "duration": 209,
    "start_time": "2022-01-29T15:59:28.518Z"
   },
   {
    "duration": 225,
    "start_time": "2022-01-29T15:59:35.728Z"
   },
   {
    "duration": 220,
    "start_time": "2022-01-29T16:00:54.309Z"
   },
   {
    "duration": 9,
    "start_time": "2022-01-29T16:03:22.550Z"
   },
   {
    "duration": 375,
    "start_time": "2022-01-29T16:03:23.480Z"
   },
   {
    "duration": 213,
    "start_time": "2022-01-29T16:05:18.402Z"
   },
   {
    "duration": 435,
    "start_time": "2022-01-29T17:17:40.558Z"
   },
   {
    "duration": 3916,
    "start_time": "2022-01-29T17:17:59.416Z"
   },
   {
    "duration": 9,
    "start_time": "2022-01-29T17:19:31.059Z"
   },
   {
    "duration": 87,
    "start_time": "2022-01-29T17:22:55.869Z"
   },
   {
    "duration": 1107,
    "start_time": "2022-01-29T17:23:19.118Z"
   },
   {
    "duration": 39,
    "start_time": "2022-01-29T17:23:20.227Z"
   },
   {
    "duration": 10,
    "start_time": "2022-01-29T17:23:20.268Z"
   },
   {
    "duration": 28,
    "start_time": "2022-01-29T17:23:20.280Z"
   },
   {
    "duration": 2,
    "start_time": "2022-01-29T17:23:20.310Z"
   },
   {
    "duration": 12,
    "start_time": "2022-01-29T17:23:20.314Z"
   },
   {
    "duration": 34,
    "start_time": "2022-01-29T17:23:20.328Z"
   },
   {
    "duration": 5,
    "start_time": "2022-01-29T17:23:20.364Z"
   },
   {
    "duration": 10,
    "start_time": "2022-01-29T17:23:20.371Z"
   },
   {
    "duration": 16,
    "start_time": "2022-01-29T17:23:20.383Z"
   },
   {
    "duration": 17,
    "start_time": "2022-01-29T17:23:20.401Z"
   },
   {
    "duration": 5,
    "start_time": "2022-01-29T17:23:20.420Z"
   },
   {
    "duration": 35,
    "start_time": "2022-01-29T17:23:20.426Z"
   },
   {
    "duration": 11,
    "start_time": "2022-01-29T17:23:20.462Z"
   },
   {
    "duration": 396,
    "start_time": "2022-01-29T17:23:20.474Z"
   },
   {
    "duration": 3785,
    "start_time": "2022-01-29T17:23:20.872Z"
   },
   {
    "duration": 1254,
    "start_time": "2022-01-29T17:23:24.658Z"
   },
   {
    "duration": 6,
    "start_time": "2022-01-29T17:23:25.914Z"
   },
   {
    "duration": 388,
    "start_time": "2022-01-29T17:23:25.922Z"
   },
   {
    "duration": 7,
    "start_time": "2022-01-29T17:23:26.311Z"
   },
   {
    "duration": 224,
    "start_time": "2022-01-29T17:23:26.320Z"
   },
   {
    "duration": 224,
    "start_time": "2022-01-29T17:23:26.546Z"
   },
   {
    "duration": 328,
    "start_time": "2022-01-29T17:23:26.775Z"
   },
   {
    "duration": 298,
    "start_time": "2022-01-29T17:23:27.105Z"
   },
   {
    "duration": 13,
    "start_time": "2022-01-29T17:23:27.404Z"
   },
   {
    "duration": 5,
    "start_time": "2022-01-29T17:23:27.418Z"
   },
   {
    "duration": 4322,
    "start_time": "2022-01-29T17:23:27.425Z"
   },
   {
    "duration": 3833,
    "start_time": "2022-01-29T17:23:31.749Z"
   },
   {
    "duration": 10,
    "start_time": "2022-01-29T17:23:35.585Z"
   },
   {
    "duration": 359,
    "start_time": "2022-01-29T17:23:35.597Z"
   },
   {
    "duration": 89,
    "start_time": "2022-01-29T17:23:35.961Z"
   },
   {
    "duration": -23073,
    "start_time": "2022-01-29T17:23:59.125Z"
   },
   {
    "duration": -23083,
    "start_time": "2022-01-29T17:23:59.136Z"
   },
   {
    "duration": -23092,
    "start_time": "2022-01-29T17:23:59.146Z"
   },
   {
    "duration": -23096,
    "start_time": "2022-01-29T17:23:59.151Z"
   },
   {
    "duration": -23100,
    "start_time": "2022-01-29T17:23:59.156Z"
   },
   {
    "duration": -23107,
    "start_time": "2022-01-29T17:23:59.164Z"
   },
   {
    "duration": -23111,
    "start_time": "2022-01-29T17:23:59.169Z"
   },
   {
    "duration": -23116,
    "start_time": "2022-01-29T17:23:59.175Z"
   },
   {
    "duration": -23123,
    "start_time": "2022-01-29T17:23:59.183Z"
   },
   {
    "duration": -23125,
    "start_time": "2022-01-29T17:23:59.186Z"
   },
   {
    "duration": -23130,
    "start_time": "2022-01-29T17:23:59.192Z"
   },
   {
    "duration": -23150,
    "start_time": "2022-01-29T17:23:59.213Z"
   },
   {
    "duration": -23153,
    "start_time": "2022-01-29T17:23:59.217Z"
   },
   {
    "duration": -23156,
    "start_time": "2022-01-29T17:23:59.221Z"
   },
   {
    "duration": -23163,
    "start_time": "2022-01-29T17:23:59.229Z"
   },
   {
    "duration": -23167,
    "start_time": "2022-01-29T17:23:59.233Z"
   },
   {
    "duration": -23170,
    "start_time": "2022-01-29T17:23:59.237Z"
   },
   {
    "duration": -23177,
    "start_time": "2022-01-29T17:23:59.245Z"
   },
   {
    "duration": -23180,
    "start_time": "2022-01-29T17:23:59.249Z"
   },
   {
    "duration": -23192,
    "start_time": "2022-01-29T17:23:59.262Z"
   },
   {
    "duration": 125,
    "start_time": "2022-01-29T17:23:59.968Z"
   },
   {
    "duration": 124,
    "start_time": "2022-01-29T17:24:52.041Z"
   },
   {
    "duration": 141,
    "start_time": "2022-01-29T17:25:10.035Z"
   },
   {
    "duration": 117,
    "start_time": "2022-01-29T17:33:28.387Z"
   },
   {
    "duration": 5,
    "start_time": "2022-01-29T17:33:55.867Z"
   },
   {
    "duration": 44,
    "start_time": "2022-01-29T17:33:55.874Z"
   },
   {
    "duration": 11,
    "start_time": "2022-01-29T17:33:55.920Z"
   },
   {
    "duration": 43,
    "start_time": "2022-01-29T17:33:55.933Z"
   },
   {
    "duration": 3,
    "start_time": "2022-01-29T17:33:55.978Z"
   },
   {
    "duration": 13,
    "start_time": "2022-01-29T17:33:55.982Z"
   },
   {
    "duration": 13,
    "start_time": "2022-01-29T17:33:55.996Z"
   },
   {
    "duration": 6,
    "start_time": "2022-01-29T17:33:56.011Z"
   },
   {
    "duration": 12,
    "start_time": "2022-01-29T17:33:56.018Z"
   },
   {
    "duration": 39,
    "start_time": "2022-01-29T17:33:56.032Z"
   },
   {
    "duration": 17,
    "start_time": "2022-01-29T17:33:56.072Z"
   },
   {
    "duration": 4,
    "start_time": "2022-01-29T17:33:56.091Z"
   },
   {
    "duration": 11,
    "start_time": "2022-01-29T17:33:56.097Z"
   },
   {
    "duration": 8,
    "start_time": "2022-01-29T17:33:56.109Z"
   },
   {
    "duration": 410,
    "start_time": "2022-01-29T17:33:56.119Z"
   },
   {
    "duration": 3691,
    "start_time": "2022-01-29T17:33:56.531Z"
   },
   {
    "duration": 1159,
    "start_time": "2022-01-29T17:34:00.224Z"
   },
   {
    "duration": 7,
    "start_time": "2022-01-29T17:34:01.385Z"
   },
   {
    "duration": 474,
    "start_time": "2022-01-29T17:34:01.393Z"
   },
   {
    "duration": 9,
    "start_time": "2022-01-29T17:34:01.870Z"
   },
   {
    "duration": 283,
    "start_time": "2022-01-29T17:34:01.881Z"
   },
   {
    "duration": 224,
    "start_time": "2022-01-29T17:34:02.166Z"
   },
   {
    "duration": 316,
    "start_time": "2022-01-29T17:34:02.391Z"
   },
   {
    "duration": 509,
    "start_time": "2022-01-29T17:34:02.708Z"
   },
   {
    "duration": 13,
    "start_time": "2022-01-29T17:34:03.219Z"
   },
   {
    "duration": 7,
    "start_time": "2022-01-29T17:34:03.234Z"
   },
   {
    "duration": 4292,
    "start_time": "2022-01-29T17:34:03.243Z"
   },
   {
    "duration": 4138,
    "start_time": "2022-01-29T17:34:07.536Z"
   },
   {
    "duration": 10,
    "start_time": "2022-01-29T17:34:11.676Z"
   },
   {
    "duration": 241,
    "start_time": "2022-01-29T17:34:11.692Z"
   },
   {
    "duration": 128,
    "start_time": "2022-01-29T17:34:11.935Z"
   },
   {
    "duration": 138,
    "start_time": "2022-01-29T17:34:12.064Z"
   },
   {
    "duration": 142,
    "start_time": "2022-01-29T17:34:12.204Z"
   },
   {
    "duration": 327,
    "start_time": "2022-01-29T17:34:12.348Z"
   },
   {
    "duration": 152,
    "start_time": "2022-01-29T17:34:12.677Z"
   },
   {
    "duration": 161,
    "start_time": "2022-01-29T17:34:12.831Z"
   },
   {
    "duration": 181,
    "start_time": "2022-01-29T17:34:12.994Z"
   },
   {
    "duration": 158,
    "start_time": "2022-01-29T17:34:13.176Z"
   },
   {
    "duration": 173,
    "start_time": "2022-01-29T17:34:13.336Z"
   },
   {
    "duration": 12,
    "start_time": "2022-01-29T17:34:13.511Z"
   },
   {
    "duration": 4,
    "start_time": "2022-01-29T17:34:13.525Z"
   },
   {
    "duration": 6,
    "start_time": "2022-01-29T17:34:13.531Z"
   },
   {
    "duration": 37,
    "start_time": "2022-01-29T17:34:13.539Z"
   },
   {
    "duration": 15,
    "start_time": "2022-01-29T17:34:13.578Z"
   },
   {
    "duration": 9,
    "start_time": "2022-01-29T17:34:13.594Z"
   },
   {
    "duration": 17,
    "start_time": "2022-01-29T17:34:13.605Z"
   },
   {
    "duration": 10,
    "start_time": "2022-01-29T17:34:13.624Z"
   },
   {
    "duration": 39,
    "start_time": "2022-01-29T17:34:13.636Z"
   },
   {
    "duration": 8,
    "start_time": "2022-01-29T17:34:13.678Z"
   },
   {
    "duration": 13,
    "start_time": "2022-01-29T17:34:13.688Z"
   },
   {
    "duration": 9,
    "start_time": "2022-01-29T17:34:13.702Z"
   },
   {
    "duration": 138,
    "start_time": "2022-01-29T18:02:39.919Z"
   },
   {
    "duration": 354,
    "start_time": "2022-01-29T18:04:35.458Z"
   },
   {
    "duration": 142,
    "start_time": "2022-01-29T18:05:20.358Z"
   },
   {
    "duration": 91,
    "start_time": "2022-01-29T18:06:34.879Z"
   },
   {
    "duration": 6587,
    "start_time": "2022-01-29T18:06:46.752Z"
   },
   {
    "duration": 214,
    "start_time": "2022-01-29T18:08:06.918Z"
   },
   {
    "duration": 173,
    "start_time": "2022-01-29T18:15:10.035Z"
   },
   {
    "duration": 202,
    "start_time": "2022-01-29T18:15:36.635Z"
   },
   {
    "duration": 153,
    "start_time": "2022-01-29T18:16:20.205Z"
   },
   {
    "duration": 416,
    "start_time": "2022-01-29T18:16:43.785Z"
   },
   {
    "duration": 150,
    "start_time": "2022-01-29T18:17:00.465Z"
   },
   {
    "duration": 153,
    "start_time": "2022-01-29T18:17:19.003Z"
   },
   {
    "duration": 153,
    "start_time": "2022-01-29T19:18:23.929Z"
   },
   {
    "duration": 83,
    "start_time": "2022-01-29T19:41:19.738Z"
   },
   {
    "duration": 127,
    "start_time": "2022-01-29T19:41:27.298Z"
   },
   {
    "duration": 6906,
    "start_time": "2022-01-29T19:42:41.050Z"
   },
   {
    "duration": 147,
    "start_time": "2022-01-29T19:43:06.488Z"
   },
   {
    "duration": 135,
    "start_time": "2022-01-29T19:43:38.652Z"
   },
   {
    "duration": 261,
    "start_time": "2022-01-29T19:50:09.941Z"
   },
   {
    "duration": 260,
    "start_time": "2022-01-29T19:52:27.597Z"
   },
   {
    "duration": 107,
    "start_time": "2022-01-29T19:54:37.790Z"
   },
   {
    "duration": 384,
    "start_time": "2022-01-29T20:01:27.071Z"
   },
   {
    "duration": 146,
    "start_time": "2022-01-29T20:11:42.918Z"
   },
   {
    "duration": 379,
    "start_time": "2022-01-29T20:11:52.028Z"
   },
   {
    "duration": 150,
    "start_time": "2022-01-29T20:12:02.648Z"
   },
   {
    "duration": 455,
    "start_time": "2022-01-29T20:13:46.516Z"
   },
   {
    "duration": 86,
    "start_time": "2022-01-29T20:14:38.544Z"
   },
   {
    "duration": 692,
    "start_time": "2022-01-29T20:15:05.734Z"
   },
   {
    "duration": 87,
    "start_time": "2022-01-29T20:15:30.002Z"
   },
   {
    "duration": 4006,
    "start_time": "2022-01-29T20:15:41.566Z"
   },
   {
    "duration": 119,
    "start_time": "2022-01-29T20:15:49.637Z"
   },
   {
    "duration": 81,
    "start_time": "2022-01-29T20:23:10.083Z"
   },
   {
    "duration": 130,
    "start_time": "2022-01-29T20:23:22.693Z"
   },
   {
    "duration": 121,
    "start_time": "2022-01-29T20:23:31.223Z"
   },
   {
    "duration": 124,
    "start_time": "2022-01-29T20:23:38.766Z"
   },
   {
    "duration": 626,
    "start_time": "2022-01-29T20:23:48.485Z"
   },
   {
    "duration": 948,
    "start_time": "2022-01-29T20:24:28.405Z"
   },
   {
    "duration": 284,
    "start_time": "2022-01-29T20:29:28.292Z"
   },
   {
    "duration": 290,
    "start_time": "2022-01-29T20:30:25.231Z"
   },
   {
    "duration": 280,
    "start_time": "2022-01-29T20:31:06.160Z"
   },
   {
    "duration": 594,
    "start_time": "2022-01-29T20:31:26.667Z"
   },
   {
    "duration": 299,
    "start_time": "2022-01-29T20:31:47.597Z"
   },
   {
    "duration": 669,
    "start_time": "2022-01-29T20:32:08.112Z"
   },
   {
    "duration": 92,
    "start_time": "2022-01-29T20:33:09.577Z"
   },
   {
    "duration": 249,
    "start_time": "2022-01-29T20:33:22.255Z"
   },
   {
    "duration": 157,
    "start_time": "2022-01-29T20:34:01.267Z"
   },
   {
    "duration": 155,
    "start_time": "2022-01-29T20:36:10.267Z"
   },
   {
    "duration": 139,
    "start_time": "2022-01-29T20:41:05.708Z"
   },
   {
    "duration": 150,
    "start_time": "2022-01-29T20:48:00.406Z"
   },
   {
    "duration": 172,
    "start_time": "2022-01-29T20:49:19.357Z"
   },
   {
    "duration": 157,
    "start_time": "2022-01-29T20:50:01.765Z"
   },
   {
    "duration": 201,
    "start_time": "2022-01-29T20:51:12.345Z"
   },
   {
    "duration": 197,
    "start_time": "2022-01-29T20:51:18.309Z"
   },
   {
    "duration": 177,
    "start_time": "2022-01-29T20:51:30.018Z"
   },
   {
    "duration": 146,
    "start_time": "2022-01-29T20:51:40.277Z"
   },
   {
    "duration": 1192,
    "start_time": "2022-01-29T21:05:24.670Z"
   },
   {
    "duration": 39,
    "start_time": "2022-01-29T21:05:25.864Z"
   },
   {
    "duration": 11,
    "start_time": "2022-01-29T21:05:25.906Z"
   },
   {
    "duration": 44,
    "start_time": "2022-01-29T21:05:25.919Z"
   },
   {
    "duration": 4,
    "start_time": "2022-01-29T21:05:25.964Z"
   },
   {
    "duration": 13,
    "start_time": "2022-01-29T21:05:25.970Z"
   },
   {
    "duration": 13,
    "start_time": "2022-01-29T21:05:25.985Z"
   },
   {
    "duration": 5,
    "start_time": "2022-01-29T21:05:26.001Z"
   },
   {
    "duration": 14,
    "start_time": "2022-01-29T21:05:26.009Z"
   },
   {
    "duration": 46,
    "start_time": "2022-01-29T21:05:26.025Z"
   },
   {
    "duration": 17,
    "start_time": "2022-01-29T21:05:26.073Z"
   },
   {
    "duration": 4,
    "start_time": "2022-01-29T21:05:26.092Z"
   },
   {
    "duration": 11,
    "start_time": "2022-01-29T21:05:26.099Z"
   },
   {
    "duration": 8,
    "start_time": "2022-01-29T21:05:26.113Z"
   },
   {
    "duration": 448,
    "start_time": "2022-01-29T21:05:26.122Z"
   },
   {
    "duration": 5602,
    "start_time": "2022-01-29T21:05:26.572Z"
   },
   {
    "duration": 1190,
    "start_time": "2022-01-29T21:05:32.176Z"
   },
   {
    "duration": 6,
    "start_time": "2022-01-29T21:05:33.368Z"
   },
   {
    "duration": 406,
    "start_time": "2022-01-29T21:05:33.376Z"
   },
   {
    "duration": 8,
    "start_time": "2022-01-29T21:05:33.783Z"
   },
   {
    "duration": 237,
    "start_time": "2022-01-29T21:05:33.793Z"
   },
   {
    "duration": 231,
    "start_time": "2022-01-29T21:05:34.032Z"
   },
   {
    "duration": 355,
    "start_time": "2022-01-29T21:05:34.269Z"
   },
   {
    "duration": 463,
    "start_time": "2022-01-29T21:05:34.627Z"
   },
   {
    "duration": 18,
    "start_time": "2022-01-29T21:05:35.092Z"
   },
   {
    "duration": 6,
    "start_time": "2022-01-29T21:05:35.113Z"
   },
   {
    "duration": 6307,
    "start_time": "2022-01-29T21:05:35.121Z"
   },
   {
    "duration": 6102,
    "start_time": "2022-01-29T21:05:41.430Z"
   },
   {
    "duration": 13,
    "start_time": "2022-01-29T21:05:47.534Z"
   },
   {
    "duration": 365,
    "start_time": "2022-01-29T21:05:47.562Z"
   },
   {
    "duration": 153,
    "start_time": "2022-01-29T21:05:47.929Z"
   },
   {
    "duration": 159,
    "start_time": "2022-01-29T21:05:48.083Z"
   },
   {
    "duration": 149,
    "start_time": "2022-01-29T21:05:48.244Z"
   },
   {
    "duration": 200,
    "start_time": "2022-01-29T21:05:48.395Z"
   },
   {
    "duration": 267,
    "start_time": "2022-01-29T21:05:48.597Z"
   },
   {
    "duration": 361,
    "start_time": "2022-01-29T21:05:48.866Z"
   },
   {
    "duration": 271,
    "start_time": "2022-01-29T21:05:49.241Z"
   },
   {
    "duration": 219,
    "start_time": "2022-01-29T21:05:49.515Z"
   },
   {
    "duration": 196,
    "start_time": "2022-01-29T21:05:49.736Z"
   },
   {
    "duration": 29,
    "start_time": "2022-01-29T21:05:49.934Z"
   },
   {
    "duration": 4,
    "start_time": "2022-01-29T21:05:49.966Z"
   },
   {
    "duration": 15,
    "start_time": "2022-01-29T21:05:49.972Z"
   },
   {
    "duration": 13,
    "start_time": "2022-01-29T21:05:49.989Z"
   },
   {
    "duration": 17,
    "start_time": "2022-01-29T21:05:50.004Z"
   },
   {
    "duration": 9,
    "start_time": "2022-01-29T21:05:50.023Z"
   },
   {
    "duration": 31,
    "start_time": "2022-01-29T21:05:50.034Z"
   },
   {
    "duration": 14,
    "start_time": "2022-01-29T21:05:50.067Z"
   },
   {
    "duration": 25,
    "start_time": "2022-01-29T21:05:50.083Z"
   },
   {
    "duration": 9,
    "start_time": "2022-01-29T21:05:50.110Z"
   },
   {
    "duration": 12,
    "start_time": "2022-01-29T21:05:50.121Z"
   },
   {
    "duration": 34,
    "start_time": "2022-01-29T21:05:50.136Z"
   },
   {
    "duration": 12,
    "start_time": "2022-01-29T21:09:42.893Z"
   },
   {
    "duration": 11,
    "start_time": "2022-01-29T21:10:01.440Z"
   },
   {
    "duration": 1144,
    "start_time": "2022-01-29T21:10:25.090Z"
   },
   {
    "duration": 55,
    "start_time": "2022-01-29T21:10:26.237Z"
   },
   {
    "duration": 16,
    "start_time": "2022-01-29T21:10:26.295Z"
   },
   {
    "duration": 59,
    "start_time": "2022-01-29T21:10:26.313Z"
   },
   {
    "duration": 4,
    "start_time": "2022-01-29T21:10:26.374Z"
   },
   {
    "duration": 29,
    "start_time": "2022-01-29T21:10:26.380Z"
   },
   {
    "duration": 18,
    "start_time": "2022-01-29T21:10:26.412Z"
   },
   {
    "duration": 10,
    "start_time": "2022-01-29T21:10:26.431Z"
   },
   {
    "duration": 22,
    "start_time": "2022-01-29T21:10:26.443Z"
   },
   {
    "duration": 17,
    "start_time": "2022-01-29T21:10:26.467Z"
   },
   {
    "duration": 16,
    "start_time": "2022-01-29T21:10:26.486Z"
   },
   {
    "duration": 5,
    "start_time": "2022-01-29T21:10:26.503Z"
   },
   {
    "duration": 10,
    "start_time": "2022-01-29T21:10:26.509Z"
   },
   {
    "duration": 12,
    "start_time": "2022-01-29T21:10:26.521Z"
   },
   {
    "duration": 36,
    "start_time": "2022-01-29T21:10:26.535Z"
   },
   {
    "duration": 430,
    "start_time": "2022-01-29T21:10:26.573Z"
   },
   {
    "duration": 3768,
    "start_time": "2022-01-29T21:10:27.005Z"
   },
   {
    "duration": 1188,
    "start_time": "2022-01-29T21:10:30.775Z"
   },
   {
    "duration": 7,
    "start_time": "2022-01-29T21:10:31.964Z"
   },
   {
    "duration": 393,
    "start_time": "2022-01-29T21:10:31.972Z"
   },
   {
    "duration": 7,
    "start_time": "2022-01-29T21:10:32.367Z"
   },
   {
    "duration": 227,
    "start_time": "2022-01-29T21:10:32.376Z"
   },
   {
    "duration": 226,
    "start_time": "2022-01-29T21:10:32.605Z"
   },
   {
    "duration": 445,
    "start_time": "2022-01-29T21:10:32.833Z"
   },
   {
    "duration": 315,
    "start_time": "2022-01-29T21:10:33.280Z"
   },
   {
    "duration": 13,
    "start_time": "2022-01-29T21:10:33.596Z"
   },
   {
    "duration": 5,
    "start_time": "2022-01-29T21:10:33.613Z"
   },
   {
    "duration": 4102,
    "start_time": "2022-01-29T21:10:33.620Z"
   },
   {
    "duration": 3822,
    "start_time": "2022-01-29T21:10:37.724Z"
   },
   {
    "duration": 19,
    "start_time": "2022-01-29T21:10:41.548Z"
   },
   {
    "duration": 368,
    "start_time": "2022-01-29T21:10:41.568Z"
   },
   {
    "duration": 234,
    "start_time": "2022-01-29T21:10:41.939Z"
   },
   {
    "duration": 235,
    "start_time": "2022-01-29T21:10:42.175Z"
   },
   {
    "duration": 229,
    "start_time": "2022-01-29T21:10:42.412Z"
   },
   {
    "duration": 167,
    "start_time": "2022-01-29T21:10:42.642Z"
   },
   {
    "duration": 162,
    "start_time": "2022-01-29T21:10:42.811Z"
   },
   {
    "duration": 162,
    "start_time": "2022-01-29T21:10:42.974Z"
   },
   {
    "duration": 181,
    "start_time": "2022-01-29T21:10:43.138Z"
   },
   {
    "duration": 169,
    "start_time": "2022-01-29T21:10:43.321Z"
   },
   {
    "duration": 190,
    "start_time": "2022-01-29T21:10:43.492Z"
   },
   {
    "duration": 11,
    "start_time": "2022-01-29T21:10:43.684Z"
   },
   {
    "duration": 3,
    "start_time": "2022-01-29T21:10:43.697Z"
   },
   {
    "duration": 5,
    "start_time": "2022-01-29T21:10:43.701Z"
   },
   {
    "duration": 15,
    "start_time": "2022-01-29T21:10:43.708Z"
   },
   {
    "duration": 41,
    "start_time": "2022-01-29T21:10:43.724Z"
   },
   {
    "duration": 7,
    "start_time": "2022-01-29T21:10:43.767Z"
   },
   {
    "duration": 14,
    "start_time": "2022-01-29T21:10:43.776Z"
   },
   {
    "duration": 7,
    "start_time": "2022-01-29T21:10:43.791Z"
   },
   {
    "duration": 17,
    "start_time": "2022-01-29T21:10:43.799Z"
   },
   {
    "duration": 7,
    "start_time": "2022-01-29T21:10:43.818Z"
   },
   {
    "duration": 10,
    "start_time": "2022-01-29T21:10:43.827Z"
   },
   {
    "duration": 7,
    "start_time": "2022-01-29T21:10:43.862Z"
   },
   {
    "duration": 350,
    "start_time": "2022-01-29T21:59:07.700Z"
   },
   {
    "duration": 1119,
    "start_time": "2022-01-29T21:59:21.410Z"
   },
   {
    "duration": 53,
    "start_time": "2022-01-29T21:59:22.531Z"
   },
   {
    "duration": 12,
    "start_time": "2022-01-29T21:59:22.586Z"
   },
   {
    "duration": 30,
    "start_time": "2022-01-29T21:59:22.600Z"
   },
   {
    "duration": 3,
    "start_time": "2022-01-29T21:59:22.632Z"
   },
   {
    "duration": 29,
    "start_time": "2022-01-29T21:59:22.636Z"
   },
   {
    "duration": 12,
    "start_time": "2022-01-29T21:59:22.667Z"
   },
   {
    "duration": 7,
    "start_time": "2022-01-29T21:59:22.682Z"
   },
   {
    "duration": 10,
    "start_time": "2022-01-29T21:59:22.691Z"
   },
   {
    "duration": 13,
    "start_time": "2022-01-29T21:59:22.703Z"
   },
   {
    "duration": 14,
    "start_time": "2022-01-29T21:59:22.717Z"
   },
   {
    "duration": 30,
    "start_time": "2022-01-29T21:59:22.733Z"
   },
   {
    "duration": 11,
    "start_time": "2022-01-29T21:59:22.765Z"
   },
   {
    "duration": 15,
    "start_time": "2022-01-29T21:59:22.777Z"
   },
   {
    "duration": 5,
    "start_time": "2022-01-29T21:59:22.793Z"
   },
   {
    "duration": 413,
    "start_time": "2022-01-29T21:59:22.800Z"
   },
   {
    "duration": 3618,
    "start_time": "2022-01-29T21:59:23.215Z"
   },
   {
    "duration": 1135,
    "start_time": "2022-01-29T21:59:26.835Z"
   },
   {
    "duration": 6,
    "start_time": "2022-01-29T21:59:27.971Z"
   },
   {
    "duration": 398,
    "start_time": "2022-01-29T21:59:27.978Z"
   },
   {
    "duration": 7,
    "start_time": "2022-01-29T21:59:28.378Z"
   },
   {
    "duration": 242,
    "start_time": "2022-01-29T21:59:28.387Z"
   },
   {
    "duration": 222,
    "start_time": "2022-01-29T21:59:28.634Z"
   },
   {
    "duration": 344,
    "start_time": "2022-01-29T21:59:28.858Z"
   },
   {
    "duration": 312,
    "start_time": "2022-01-29T21:59:29.203Z"
   },
   {
    "duration": 12,
    "start_time": "2022-01-29T21:59:29.517Z"
   },
   {
    "duration": 5,
    "start_time": "2022-01-29T21:59:29.531Z"
   },
   {
    "duration": 4268,
    "start_time": "2022-01-29T21:59:29.537Z"
   },
   {
    "duration": 4356,
    "start_time": "2022-01-29T21:59:33.808Z"
   },
   {
    "duration": 10,
    "start_time": "2022-01-29T21:59:38.165Z"
   },
   {
    "duration": 343,
    "start_time": "2022-01-29T21:59:38.176Z"
   },
   {
    "duration": 143,
    "start_time": "2022-01-29T21:59:38.520Z"
   },
   {
    "duration": 151,
    "start_time": "2022-01-29T21:59:38.664Z"
   },
   {
    "duration": 155,
    "start_time": "2022-01-29T21:59:38.817Z"
   },
   {
    "duration": 163,
    "start_time": "2022-01-29T21:59:38.974Z"
   },
   {
    "duration": 152,
    "start_time": "2022-01-29T21:59:39.139Z"
   },
   {
    "duration": 155,
    "start_time": "2022-01-29T21:59:39.293Z"
   },
   {
    "duration": 188,
    "start_time": "2022-01-29T21:59:39.449Z"
   },
   {
    "duration": 172,
    "start_time": "2022-01-29T21:59:39.639Z"
   },
   {
    "duration": 174,
    "start_time": "2022-01-29T21:59:39.813Z"
   },
   {
    "duration": 428,
    "start_time": "2022-01-29T21:59:39.988Z"
   },
   {
    "duration": -22861,
    "start_time": "2022-01-29T22:00:03.279Z"
   },
   {
    "duration": -22865,
    "start_time": "2022-01-29T22:00:03.284Z"
   },
   {
    "duration": -22871,
    "start_time": "2022-01-29T22:00:03.291Z"
   },
   {
    "duration": -22878,
    "start_time": "2022-01-29T22:00:03.299Z"
   },
   {
    "duration": -22884,
    "start_time": "2022-01-29T22:00:03.306Z"
   },
   {
    "duration": -22892,
    "start_time": "2022-01-29T22:00:03.315Z"
   },
   {
    "duration": -22896,
    "start_time": "2022-01-29T22:00:03.320Z"
   },
   {
    "duration": -22905,
    "start_time": "2022-01-29T22:00:03.330Z"
   },
   {
    "duration": -22909,
    "start_time": "2022-01-29T22:00:03.335Z"
   },
   {
    "duration": -22918,
    "start_time": "2022-01-29T22:00:03.345Z"
   },
   {
    "duration": -22923,
    "start_time": "2022-01-29T22:00:03.351Z"
   },
   {
    "duration": 14,
    "start_time": "2022-01-29T22:01:34.133Z"
   },
   {
    "duration": 1234,
    "start_time": "2022-01-29T22:01:50.089Z"
   },
   {
    "duration": 40,
    "start_time": "2022-01-29T22:01:51.325Z"
   },
   {
    "duration": 10,
    "start_time": "2022-01-29T22:01:51.367Z"
   },
   {
    "duration": 33,
    "start_time": "2022-01-29T22:01:51.379Z"
   },
   {
    "duration": 3,
    "start_time": "2022-01-29T22:01:51.414Z"
   },
   {
    "duration": 13,
    "start_time": "2022-01-29T22:01:51.419Z"
   },
   {
    "duration": 30,
    "start_time": "2022-01-29T22:01:51.434Z"
   },
   {
    "duration": 19,
    "start_time": "2022-01-29T22:01:51.465Z"
   },
   {
    "duration": 17,
    "start_time": "2022-01-29T22:01:51.487Z"
   },
   {
    "duration": 18,
    "start_time": "2022-01-29T22:01:51.506Z"
   },
   {
    "duration": 27,
    "start_time": "2022-01-29T22:01:51.526Z"
   },
   {
    "duration": 8,
    "start_time": "2022-01-29T22:01:51.555Z"
   },
   {
    "duration": 11,
    "start_time": "2022-01-29T22:01:51.565Z"
   },
   {
    "duration": 18,
    "start_time": "2022-01-29T22:01:51.577Z"
   },
   {
    "duration": 7,
    "start_time": "2022-01-29T22:01:51.596Z"
   },
   {
    "duration": 430,
    "start_time": "2022-01-29T22:01:51.604Z"
   },
   {
    "duration": 3749,
    "start_time": "2022-01-29T22:01:52.036Z"
   },
   {
    "duration": 1163,
    "start_time": "2022-01-29T22:01:55.787Z"
   },
   {
    "duration": 11,
    "start_time": "2022-01-29T22:01:56.951Z"
   },
   {
    "duration": 389,
    "start_time": "2022-01-29T22:01:56.964Z"
   },
   {
    "duration": 11,
    "start_time": "2022-01-29T22:01:57.355Z"
   },
   {
    "duration": 220,
    "start_time": "2022-01-29T22:01:57.368Z"
   },
   {
    "duration": 223,
    "start_time": "2022-01-29T22:01:57.590Z"
   },
   {
    "duration": 303,
    "start_time": "2022-01-29T22:01:57.815Z"
   },
   {
    "duration": 323,
    "start_time": "2022-01-29T22:01:58.120Z"
   },
   {
    "duration": 21,
    "start_time": "2022-01-29T22:01:58.445Z"
   },
   {
    "duration": 5,
    "start_time": "2022-01-29T22:01:58.470Z"
   },
   {
    "duration": 4160,
    "start_time": "2022-01-29T22:01:58.477Z"
   },
   {
    "duration": 4285,
    "start_time": "2022-01-29T22:02:02.639Z"
   },
   {
    "duration": 10,
    "start_time": "2022-01-29T22:02:06.926Z"
   },
   {
    "duration": 374,
    "start_time": "2022-01-29T22:02:06.938Z"
   },
   {
    "duration": 151,
    "start_time": "2022-01-29T22:02:07.315Z"
   },
   {
    "duration": 157,
    "start_time": "2022-01-29T22:02:07.468Z"
   },
   {
    "duration": 152,
    "start_time": "2022-01-29T22:02:07.627Z"
   },
   {
    "duration": 186,
    "start_time": "2022-01-29T22:02:07.781Z"
   },
   {
    "duration": 270,
    "start_time": "2022-01-29T22:02:07.977Z"
   },
   {
    "duration": 320,
    "start_time": "2022-01-29T22:02:08.249Z"
   },
   {
    "duration": 186,
    "start_time": "2022-01-29T22:02:08.585Z"
   },
   {
    "duration": 180,
    "start_time": "2022-01-29T22:02:08.773Z"
   },
   {
    "duration": 185,
    "start_time": "2022-01-29T22:02:08.955Z"
   },
   {
    "duration": 22,
    "start_time": "2022-01-29T22:02:09.142Z"
   },
   {
    "duration": 4,
    "start_time": "2022-01-29T22:02:09.166Z"
   },
   {
    "duration": 21,
    "start_time": "2022-01-29T22:02:09.171Z"
   },
   {
    "duration": 18,
    "start_time": "2022-01-29T22:02:09.194Z"
   },
   {
    "duration": 13,
    "start_time": "2022-01-29T22:02:09.214Z"
   },
   {
    "duration": 20,
    "start_time": "2022-01-29T22:02:09.228Z"
   },
   {
    "duration": 11,
    "start_time": "2022-01-29T22:02:09.261Z"
   },
   {
    "duration": 8,
    "start_time": "2022-01-29T22:02:09.274Z"
   },
   {
    "duration": 18,
    "start_time": "2022-01-29T22:02:09.284Z"
   },
   {
    "duration": 8,
    "start_time": "2022-01-29T22:02:09.303Z"
   },
   {
    "duration": 16,
    "start_time": "2022-01-29T22:02:09.312Z"
   },
   {
    "duration": 8,
    "start_time": "2022-01-29T22:02:09.330Z"
   },
   {
    "duration": 7,
    "start_time": "2022-01-29T22:05:16.653Z"
   },
   {
    "duration": 15,
    "start_time": "2022-01-29T22:05:53.293Z"
   },
   {
    "duration": 16,
    "start_time": "2022-01-29T22:06:06.539Z"
   },
   {
    "duration": 8,
    "start_time": "2022-01-29T22:06:06.557Z"
   },
   {
    "duration": 10,
    "start_time": "2022-01-29T22:06:06.567Z"
   },
   {
    "duration": 6,
    "start_time": "2022-01-29T22:06:06.579Z"
   },
   {
    "duration": 1538,
    "start_time": "2022-01-29T22:06:39.758Z"
   },
   {
    "duration": 52,
    "start_time": "2022-01-29T22:06:41.299Z"
   },
   {
    "duration": 16,
    "start_time": "2022-01-29T22:06:41.354Z"
   },
   {
    "duration": 46,
    "start_time": "2022-01-29T22:06:41.372Z"
   },
   {
    "duration": 3,
    "start_time": "2022-01-29T22:06:41.420Z"
   },
   {
    "duration": 36,
    "start_time": "2022-01-29T22:06:41.425Z"
   },
   {
    "duration": 21,
    "start_time": "2022-01-29T22:06:41.463Z"
   },
   {
    "duration": 11,
    "start_time": "2022-01-29T22:06:41.486Z"
   },
   {
    "duration": 11,
    "start_time": "2022-01-29T22:06:41.501Z"
   },
   {
    "duration": 15,
    "start_time": "2022-01-29T22:06:41.514Z"
   },
   {
    "duration": 40,
    "start_time": "2022-01-29T22:06:41.531Z"
   },
   {
    "duration": 4,
    "start_time": "2022-01-29T22:06:41.573Z"
   },
   {
    "duration": 11,
    "start_time": "2022-01-29T22:06:41.578Z"
   },
   {
    "duration": 16,
    "start_time": "2022-01-29T22:06:41.591Z"
   },
   {
    "duration": 11,
    "start_time": "2022-01-29T22:06:41.608Z"
   },
   {
    "duration": 443,
    "start_time": "2022-01-29T22:06:41.621Z"
   },
   {
    "duration": 3895,
    "start_time": "2022-01-29T22:06:42.066Z"
   },
   {
    "duration": 1168,
    "start_time": "2022-01-29T22:06:45.963Z"
   },
   {
    "duration": 6,
    "start_time": "2022-01-29T22:06:47.133Z"
   },
   {
    "duration": 380,
    "start_time": "2022-01-29T22:06:47.140Z"
   },
   {
    "duration": 7,
    "start_time": "2022-01-29T22:06:47.522Z"
   },
   {
    "duration": 242,
    "start_time": "2022-01-29T22:06:47.530Z"
   },
   {
    "duration": 354,
    "start_time": "2022-01-29T22:06:47.774Z"
   },
   {
    "duration": 436,
    "start_time": "2022-01-29T22:06:48.131Z"
   },
   {
    "duration": 421,
    "start_time": "2022-01-29T22:06:48.570Z"
   },
   {
    "duration": 13,
    "start_time": "2022-01-29T22:06:48.993Z"
   },
   {
    "duration": 6,
    "start_time": "2022-01-29T22:06:49.010Z"
   },
   {
    "duration": 4564,
    "start_time": "2022-01-29T22:06:49.018Z"
   },
   {
    "duration": 4501,
    "start_time": "2022-01-29T22:06:53.584Z"
   },
   {
    "duration": 10,
    "start_time": "2022-01-29T22:06:58.086Z"
   },
   {
    "duration": 365,
    "start_time": "2022-01-29T22:06:58.098Z"
   },
   {
    "duration": 148,
    "start_time": "2022-01-29T22:06:58.465Z"
   },
   {
    "duration": 155,
    "start_time": "2022-01-29T22:06:58.615Z"
   },
   {
    "duration": 150,
    "start_time": "2022-01-29T22:06:58.772Z"
   },
   {
    "duration": 158,
    "start_time": "2022-01-29T22:06:58.923Z"
   },
   {
    "duration": 174,
    "start_time": "2022-01-29T22:06:59.084Z"
   },
   {
    "duration": 163,
    "start_time": "2022-01-29T22:06:59.260Z"
   },
   {
    "duration": 191,
    "start_time": "2022-01-29T22:06:59.425Z"
   },
   {
    "duration": 183,
    "start_time": "2022-01-29T22:06:59.618Z"
   },
   {
    "duration": 178,
    "start_time": "2022-01-29T22:06:59.803Z"
   },
   {
    "duration": 14,
    "start_time": "2022-01-29T22:06:59.983Z"
   },
   {
    "duration": 5,
    "start_time": "2022-01-29T22:06:59.999Z"
   },
   {
    "duration": 9,
    "start_time": "2022-01-29T22:07:00.006Z"
   },
   {
    "duration": 26,
    "start_time": "2022-01-29T22:07:00.018Z"
   },
   {
    "duration": 14,
    "start_time": "2022-01-29T22:07:00.060Z"
   },
   {
    "duration": 14,
    "start_time": "2022-01-29T22:07:00.076Z"
   },
   {
    "duration": 27,
    "start_time": "2022-01-29T22:07:00.091Z"
   },
   {
    "duration": 27,
    "start_time": "2022-01-29T22:07:00.120Z"
   },
   {
    "duration": 29,
    "start_time": "2022-01-29T22:07:00.149Z"
   },
   {
    "duration": 44,
    "start_time": "2022-01-29T22:07:00.180Z"
   },
   {
    "duration": 33,
    "start_time": "2022-01-29T22:07:00.225Z"
   },
   {
    "duration": 41,
    "start_time": "2022-01-29T22:07:00.260Z"
   },
   {
    "duration": 1239,
    "start_time": "2022-01-29T22:12:50.589Z"
   },
   {
    "duration": 51,
    "start_time": "2022-01-29T22:12:51.831Z"
   },
   {
    "duration": 15,
    "start_time": "2022-01-29T22:12:51.885Z"
   },
   {
    "duration": 59,
    "start_time": "2022-01-29T22:12:51.904Z"
   },
   {
    "duration": 3,
    "start_time": "2022-01-29T22:12:51.966Z"
   },
   {
    "duration": 22,
    "start_time": "2022-01-29T22:12:51.971Z"
   },
   {
    "duration": 14,
    "start_time": "2022-01-29T22:12:51.996Z"
   },
   {
    "duration": 7,
    "start_time": "2022-01-29T22:12:52.012Z"
   },
   {
    "duration": 12,
    "start_time": "2022-01-29T22:12:52.022Z"
   },
   {
    "duration": 37,
    "start_time": "2022-01-29T22:12:52.036Z"
   },
   {
    "duration": 20,
    "start_time": "2022-01-29T22:12:52.074Z"
   },
   {
    "duration": 5,
    "start_time": "2022-01-29T22:12:52.095Z"
   },
   {
    "duration": 9,
    "start_time": "2022-01-29T22:12:52.101Z"
   },
   {
    "duration": 15,
    "start_time": "2022-01-29T22:12:52.112Z"
   },
   {
    "duration": 36,
    "start_time": "2022-01-29T22:12:52.128Z"
   },
   {
    "duration": 640,
    "start_time": "2022-01-29T22:12:52.166Z"
   },
   {
    "duration": 4017,
    "start_time": "2022-01-29T22:12:52.808Z"
   },
   {
    "duration": 1181,
    "start_time": "2022-01-29T22:12:56.828Z"
   },
   {
    "duration": 6,
    "start_time": "2022-01-29T22:12:58.011Z"
   },
   {
    "duration": 392,
    "start_time": "2022-01-29T22:12:58.019Z"
   },
   {
    "duration": 8,
    "start_time": "2022-01-29T22:12:58.413Z"
   },
   {
    "duration": 237,
    "start_time": "2022-01-29T22:12:58.423Z"
   },
   {
    "duration": 224,
    "start_time": "2022-01-29T22:12:58.662Z"
   },
   {
    "duration": 302,
    "start_time": "2022-01-29T22:12:58.887Z"
   },
   {
    "duration": 300,
    "start_time": "2022-01-29T22:12:59.192Z"
   },
   {
    "duration": 13,
    "start_time": "2022-01-29T22:12:59.495Z"
   },
   {
    "duration": 5,
    "start_time": "2022-01-29T22:12:59.513Z"
   },
   {
    "duration": 4498,
    "start_time": "2022-01-29T22:12:59.520Z"
   },
   {
    "duration": 4436,
    "start_time": "2022-01-29T22:13:04.019Z"
   },
   {
    "duration": 10,
    "start_time": "2022-01-29T22:13:08.458Z"
   },
   {
    "duration": 356,
    "start_time": "2022-01-29T22:13:08.470Z"
   },
   {
    "duration": 155,
    "start_time": "2022-01-29T22:13:08.828Z"
   },
   {
    "duration": 147,
    "start_time": "2022-01-29T22:13:08.985Z"
   },
   {
    "duration": 152,
    "start_time": "2022-01-29T22:13:09.134Z"
   },
   {
    "duration": 159,
    "start_time": "2022-01-29T22:13:09.288Z"
   },
   {
    "duration": 152,
    "start_time": "2022-01-29T22:13:09.449Z"
   },
   {
    "duration": 159,
    "start_time": "2022-01-29T22:13:09.604Z"
   },
   {
    "duration": 177,
    "start_time": "2022-01-29T22:13:09.764Z"
   },
   {
    "duration": 179,
    "start_time": "2022-01-29T22:13:09.943Z"
   },
   {
    "duration": 167,
    "start_time": "2022-01-29T22:13:10.124Z"
   },
   {
    "duration": 13,
    "start_time": "2022-01-29T22:13:10.293Z"
   },
   {
    "duration": 3,
    "start_time": "2022-01-29T22:13:10.308Z"
   },
   {
    "duration": 5,
    "start_time": "2022-01-29T22:13:10.313Z"
   },
   {
    "duration": 12,
    "start_time": "2022-01-29T22:13:10.320Z"
   },
   {
    "duration": 37,
    "start_time": "2022-01-29T22:13:10.334Z"
   },
   {
    "duration": 8,
    "start_time": "2022-01-29T22:13:10.372Z"
   },
   {
    "duration": 11,
    "start_time": "2022-01-29T22:13:10.381Z"
   },
   {
    "duration": 8,
    "start_time": "2022-01-29T22:13:10.394Z"
   },
   {
    "duration": 17,
    "start_time": "2022-01-29T22:13:10.403Z"
   },
   {
    "duration": 7,
    "start_time": "2022-01-29T22:13:10.422Z"
   },
   {
    "duration": 36,
    "start_time": "2022-01-29T22:13:10.431Z"
   },
   {
    "duration": 9,
    "start_time": "2022-01-29T22:13:10.469Z"
   },
   {
    "duration": 1137,
    "start_time": "2022-01-30T04:02:51.858Z"
   },
   {
    "duration": 44,
    "start_time": "2022-01-30T04:02:52.997Z"
   },
   {
    "duration": 13,
    "start_time": "2022-01-30T04:02:53.043Z"
   },
   {
    "duration": 35,
    "start_time": "2022-01-30T04:02:53.058Z"
   },
   {
    "duration": 12,
    "start_time": "2022-01-30T04:02:53.095Z"
   },
   {
    "duration": 11,
    "start_time": "2022-01-30T04:02:53.110Z"
   },
   {
    "duration": 16,
    "start_time": "2022-01-30T04:02:53.122Z"
   },
   {
    "duration": 9,
    "start_time": "2022-01-30T04:02:53.140Z"
   },
   {
    "duration": 12,
    "start_time": "2022-01-30T04:02:53.151Z"
   },
   {
    "duration": 47,
    "start_time": "2022-01-30T04:02:53.165Z"
   },
   {
    "duration": 17,
    "start_time": "2022-01-30T04:02:53.214Z"
   },
   {
    "duration": 5,
    "start_time": "2022-01-30T04:02:53.233Z"
   },
   {
    "duration": 11,
    "start_time": "2022-01-30T04:02:53.240Z"
   },
   {
    "duration": 18,
    "start_time": "2022-01-30T04:02:53.254Z"
   },
   {
    "duration": 33,
    "start_time": "2022-01-30T04:02:53.275Z"
   },
   {
    "duration": 436,
    "start_time": "2022-01-30T04:02:53.310Z"
   },
   {
    "duration": 3782,
    "start_time": "2022-01-30T04:02:53.748Z"
   },
   {
    "duration": 1213,
    "start_time": "2022-01-30T04:02:57.532Z"
   },
   {
    "duration": 8,
    "start_time": "2022-01-30T04:02:58.747Z"
   },
   {
    "duration": 413,
    "start_time": "2022-01-30T04:02:58.757Z"
   },
   {
    "duration": 10,
    "start_time": "2022-01-30T04:02:59.173Z"
   },
   {
    "duration": 248,
    "start_time": "2022-01-30T04:02:59.185Z"
   },
   {
    "duration": 240,
    "start_time": "2022-01-30T04:02:59.438Z"
   },
   {
    "duration": 351,
    "start_time": "2022-01-30T04:02:59.681Z"
   },
   {
    "duration": 324,
    "start_time": "2022-01-30T04:03:00.034Z"
   },
   {
    "duration": 14,
    "start_time": "2022-01-30T04:03:00.360Z"
   },
   {
    "duration": 13,
    "start_time": "2022-01-30T04:03:00.375Z"
   },
   {
    "duration": 4786,
    "start_time": "2022-01-30T04:03:00.390Z"
   },
   {
    "duration": 4236,
    "start_time": "2022-01-30T04:03:05.178Z"
   },
   {
    "duration": 10,
    "start_time": "2022-01-30T04:03:09.416Z"
   },
   {
    "duration": 365,
    "start_time": "2022-01-30T04:03:09.428Z"
   },
   {
    "duration": 154,
    "start_time": "2022-01-30T04:03:09.795Z"
   },
   {
    "duration": 265,
    "start_time": "2022-01-30T04:03:09.951Z"
   },
   {
    "duration": 181,
    "start_time": "2022-01-30T04:03:10.218Z"
   },
   {
    "duration": 170,
    "start_time": "2022-01-30T04:03:10.402Z"
   },
   {
    "duration": 164,
    "start_time": "2022-01-30T04:03:10.574Z"
   },
   {
    "duration": 167,
    "start_time": "2022-01-30T04:03:10.740Z"
   },
   {
    "duration": 192,
    "start_time": "2022-01-30T04:03:10.909Z"
   },
   {
    "duration": 173,
    "start_time": "2022-01-30T04:03:11.108Z"
   },
   {
    "duration": 187,
    "start_time": "2022-01-30T04:03:11.283Z"
   },
   {
    "duration": 15,
    "start_time": "2022-01-30T04:03:11.473Z"
   },
   {
    "duration": 17,
    "start_time": "2022-01-30T04:03:11.490Z"
   },
   {
    "duration": 4,
    "start_time": "2022-01-30T04:03:11.510Z"
   },
   {
    "duration": 21,
    "start_time": "2022-01-30T04:03:11.516Z"
   },
   {
    "duration": 15,
    "start_time": "2022-01-30T04:03:11.539Z"
   },
   {
    "duration": 12,
    "start_time": "2022-01-30T04:03:11.556Z"
   },
   {
    "duration": 41,
    "start_time": "2022-01-30T04:03:11.571Z"
   },
   {
    "duration": 7,
    "start_time": "2022-01-30T04:03:11.614Z"
   },
   {
    "duration": 16,
    "start_time": "2022-01-30T04:03:11.623Z"
   },
   {
    "duration": 9,
    "start_time": "2022-01-30T04:03:11.640Z"
   },
   {
    "duration": 10,
    "start_time": "2022-01-30T04:03:11.651Z"
   },
   {
    "duration": 46,
    "start_time": "2022-01-30T04:03:11.663Z"
   },
   {
    "duration": 1595,
    "start_time": "2022-01-30T06:19:54.613Z"
   },
   {
    "duration": 55,
    "start_time": "2022-01-30T06:19:56.210Z"
   },
   {
    "duration": 16,
    "start_time": "2022-01-30T06:19:56.268Z"
   },
   {
    "duration": 56,
    "start_time": "2022-01-30T06:19:56.287Z"
   },
   {
    "duration": 4,
    "start_time": "2022-01-30T06:19:56.345Z"
   },
   {
    "duration": 20,
    "start_time": "2022-01-30T06:19:56.351Z"
   },
   {
    "duration": 35,
    "start_time": "2022-01-30T06:19:56.374Z"
   },
   {
    "duration": 28,
    "start_time": "2022-01-30T06:19:56.412Z"
   },
   {
    "duration": 14,
    "start_time": "2022-01-30T06:19:56.443Z"
   },
   {
    "duration": 14,
    "start_time": "2022-01-30T06:19:56.459Z"
   },
   {
    "duration": 19,
    "start_time": "2022-01-30T06:19:56.475Z"
   },
   {
    "duration": 13,
    "start_time": "2022-01-30T06:19:56.496Z"
   },
   {
    "duration": 11,
    "start_time": "2022-01-30T06:19:56.511Z"
   },
   {
    "duration": 19,
    "start_time": "2022-01-30T06:19:56.524Z"
   },
   {
    "duration": 10,
    "start_time": "2022-01-30T06:19:56.544Z"
   },
   {
    "duration": 450,
    "start_time": "2022-01-30T06:19:56.556Z"
   },
   {
    "duration": 4650,
    "start_time": "2022-01-30T06:19:57.008Z"
   },
   {
    "duration": 1364,
    "start_time": "2022-01-30T06:20:01.660Z"
   },
   {
    "duration": 8,
    "start_time": "2022-01-30T06:20:03.026Z"
   },
   {
    "duration": 432,
    "start_time": "2022-01-30T06:20:03.036Z"
   },
   {
    "duration": 8,
    "start_time": "2022-01-30T06:20:03.471Z"
   },
   {
    "duration": 476,
    "start_time": "2022-01-30T06:20:03.481Z"
   },
   {
    "duration": 363,
    "start_time": "2022-01-30T06:20:03.963Z"
   },
   {
    "duration": 346,
    "start_time": "2022-01-30T06:20:04.329Z"
   },
   {
    "duration": 391,
    "start_time": "2022-01-30T06:20:04.677Z"
   },
   {
    "duration": 15,
    "start_time": "2022-01-30T06:20:05.070Z"
   },
   {
    "duration": 22,
    "start_time": "2022-01-30T06:20:05.087Z"
   },
   {
    "duration": 4755,
    "start_time": "2022-01-30T06:20:05.111Z"
   },
   {
    "duration": 4065,
    "start_time": "2022-01-30T06:20:09.868Z"
   },
   {
    "duration": 9,
    "start_time": "2022-01-30T06:20:13.936Z"
   },
   {
    "duration": 360,
    "start_time": "2022-01-30T06:20:13.947Z"
   },
   {
    "duration": 156,
    "start_time": "2022-01-30T06:20:14.309Z"
   },
   {
    "duration": 160,
    "start_time": "2022-01-30T06:20:14.466Z"
   },
   {
    "duration": 156,
    "start_time": "2022-01-30T06:20:14.628Z"
   },
   {
    "duration": 170,
    "start_time": "2022-01-30T06:20:14.786Z"
   },
   {
    "duration": 182,
    "start_time": "2022-01-30T06:20:14.958Z"
   },
   {
    "duration": 165,
    "start_time": "2022-01-30T06:20:15.142Z"
   },
   {
    "duration": 189,
    "start_time": "2022-01-30T06:20:15.309Z"
   },
   {
    "duration": 179,
    "start_time": "2022-01-30T06:20:15.507Z"
   },
   {
    "duration": 191,
    "start_time": "2022-01-30T06:20:15.688Z"
   },
   {
    "duration": 15,
    "start_time": "2022-01-30T06:20:15.881Z"
   },
   {
    "duration": 13,
    "start_time": "2022-01-30T06:20:15.897Z"
   },
   {
    "duration": 7,
    "start_time": "2022-01-30T06:20:15.912Z"
   },
   {
    "duration": 18,
    "start_time": "2022-01-30T06:20:15.921Z"
   },
   {
    "duration": 14,
    "start_time": "2022-01-30T06:20:15.941Z"
   },
   {
    "duration": 19,
    "start_time": "2022-01-30T06:20:15.957Z"
   },
   {
    "duration": 34,
    "start_time": "2022-01-30T06:20:15.978Z"
   },
   {
    "duration": 17,
    "start_time": "2022-01-30T06:20:16.015Z"
   },
   {
    "duration": 34,
    "start_time": "2022-01-30T06:20:16.034Z"
   },
   {
    "duration": 8,
    "start_time": "2022-01-30T06:20:16.070Z"
   },
   {
    "duration": 12,
    "start_time": "2022-01-30T06:20:16.080Z"
   },
   {
    "duration": 10,
    "start_time": "2022-01-30T06:20:16.094Z"
   },
   {
    "duration": 1240,
    "start_time": "2022-01-30T06:20:16.107Z"
   },
   {
    "duration": 285,
    "start_time": "2022-01-30T06:20:22.245Z"
   },
   {
    "duration": 415,
    "start_time": "2022-01-30T06:20:30.974Z"
   },
   {
    "duration": 94,
    "start_time": "2022-01-30T06:21:01.907Z"
   },
   {
    "duration": 588,
    "start_time": "2022-01-30T06:21:06.563Z"
   },
   {
    "duration": 480,
    "start_time": "2022-01-30T06:21:24.502Z"
   }
  ],
  "kernelspec": {
   "display_name": "Python 3 (ipykernel)",
   "language": "python",
   "name": "python3"
  },
  "language_info": {
   "codemirror_mode": {
    "name": "ipython",
    "version": 3
   },
   "file_extension": ".py",
   "mimetype": "text/x-python",
   "name": "python",
   "nbconvert_exporter": "python",
   "pygments_lexer": "ipython3",
   "version": "3.9.7"
  },
  "toc": {
   "base_numbering": 1,
   "nav_menu": {},
   "number_sections": true,
   "sideBar": true,
   "skip_h1_title": true,
   "title_cell": "Table of Contents",
   "title_sidebar": "Contents",
   "toc_cell": false,
   "toc_position": {
    "height": "calc(100% - 180px)",
    "left": "10px",
    "top": "150px",
    "width": "261px"
   },
   "toc_section_display": true,
   "toc_window_display": true
  }
 },
 "nbformat": 4,
 "nbformat_minor": 2
}

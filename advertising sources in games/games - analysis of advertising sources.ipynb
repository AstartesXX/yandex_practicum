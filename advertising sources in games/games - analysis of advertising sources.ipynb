{
 "cells": [
  {
   "cell_type": "markdown",
   "metadata": {},
   "source": [
    "# Игры - Анализ рекламных источников."
   ]
  },
  {
   "cell_type": "markdown",
   "metadata": {},
   "source": [
    "# Материалы.\n",
    "* Дашборд. (https://public.tableau.com/views/Book2_16527996453710/Dashboard1?:language=en-US&:display_count=n&:origin=viz_share_link)"
   ]
  },
  {
   "cell_type": "markdown",
   "metadata": {},
   "source": [
    "<b>Задача: анализ поведения игроков в зависимости от источника перехода.</b>"
   ]
  },
  {
   "cell_type": "code",
   "execution_count": 1,
   "metadata": {},
   "outputs": [],
   "source": [
    "import pandas as pd\n",
    "import seaborn as sns\n",
    "import matplotlib.pyplot as plt\n",
    "from datetime import datetime, timedelta\n",
    "import numpy as np\n",
    "from scipy import stats as st"
   ]
  },
  {
   "cell_type": "markdown",
   "metadata": {},
   "source": [
    "## Предобработка данных."
   ]
  },
  {
   "cell_type": "markdown",
   "metadata": {},
   "source": [
    "Предобработка будет выполнена за несколько шагов:\n",
    "- Исследовать пропущенные значения;\n",
    "- Исследовать соответствие типов;\n",
    "- Исследовать дубликаты;\n",
    "- Проверить корректность наименований колонок;\n",
    "- Переименовать колонки;\n",
    "- Удалить дубликаты;\n",
    "- Привести типы;\n",
    "- Заменить пропущенные значения."
   ]
  },
  {
   "cell_type": "code",
   "execution_count": 2,
   "metadata": {},
   "outputs": [],
   "source": [
    "game_actions = pd.read_csv('/datasets/game_actions.csv')\n",
    "ad_costs = pd.read_csv('/datasets/ad_costs.csv')\n",
    "user_source = pd.read_csv('/datasets/user_source.csv')"
   ]
  },
  {
   "cell_type": "markdown",
   "metadata": {},
   "source": [
    "Описание датасетов:\n",
    "\n",
    "Основной датасет содержит данные о событиях, совершенных в мобильной игре «Космические братья». В ней пользователи строят свою космическую программу и пытаются преуспеть в нелёгком деле колонизации галактики.\n",
    "\n",
    "Основная монетизация игры — только планируется. Но предполагается, что в приложении будет происходить показ рекламы на экране с выбором типа объекта для постройки.\n",
    "\n",
    "В датасете представлены данные по игре пользователей на первом уровне. Завершение первого уровня требует от игрока выполнения одного из двух условий:\n",
    "\n",
    "- Победа над первым врагом\n",
    "- Реализация проекта - разработка орбитальной сборки спутников\n",
    "\n",
    "В датасете содержатся данные первых пользователей приложения — когорты пользователей, которые начали пользоваться приложением в период с 4 по 10 мая включительно.\n",
    "\n",
    "Датасет *game_actions.csv*:\n",
    "\n",
    "- `event_datetime` — время события;\n",
    "\n",
    "\n",
    "- `event` — одно из трёх событий:\n",
    "    1. `building` — объект построен,\n",
    "    2. `finished_stage_1` — первый уровень завершён,\n",
    "    3. `project` — проект завершён;\n",
    "\n",
    "\n",
    "- `building_type` — один из трёх типов здания:\n",
    "    1. `assembly_shop` — сборочный цех,\n",
    "    2. `spaceport` — космопорт,\n",
    "    3. `research_center` — исследовательский центр;\n",
    "\n",
    "\n",
    "- `user_id` — идентификатор пользователя;\n",
    "\n",
    "\n",
    "- `project_type` — тип реализованного проекта;\n",
    "\n",
    "Помимо основного датасета есть два датасета с информацией о рекламных активностях. Они также помогут в решении задачи.\n",
    "\n",
    "Датасет *ad_cost.csv*:\n",
    "\n",
    "- `day` - день, в который был совершен клик по объявлению\n",
    "\n",
    "\n",
    "- `source` - источник трафика\n",
    "\n",
    "\n",
    "- `cost` - стоимость кликов\n",
    "\n",
    "Датасет user_source.csv содержит колонки:\n",
    "\n",
    "- `user_id` - идентификатор пользователя\n",
    "\n",
    "\n",
    "- `source` - источников, с которого пришёл пользователь, установивший приложение"
   ]
  },
  {
   "cell_type": "code",
   "execution_count": 3,
   "metadata": {},
   "outputs": [],
   "source": [
    "def info(data):\n",
    "    \"\"\"\"\n",
    "    Функция для вывода первых 5 строк, краткой информации и статистики по таблицам данных.\n",
    "    \"\"\"    \n",
    "    print('\\033[1m' + 'Информация, включающая записи датасета:' + '\\033[0m')\n",
    "    display(data.head())\n",
    "    print(60*'*')\n",
    "    print('\\033[1m' + 'Общая информация датасета:' + '\\033[0m')\n",
    "    data.info()\n",
    "    print(60*'*')\n",
    "    print('\\033[1m' + 'Статистика датасета:' + '\\033[0m')\n",
    "    display(data.describe())\n",
    "    print(60*'*')\n",
    "    print('\\033[1m' + 'Информация, включающая пропуски датасета:' + '\\033[0m')\n",
    "    display(pd.concat([data.isna().sum(), data.isna().mean()], axis=1)\\\n",
    "    .rename(columns={0:'кол-во', 1:'доля'})\\\n",
    "    .style.format({'кол-во':'{:.0f}', 'доля':'{:.2%}'}))"
   ]
  },
  {
   "cell_type": "code",
   "execution_count": 4,
   "metadata": {
    "scrolled": false
   },
   "outputs": [
    {
     "name": "stdout",
     "output_type": "stream",
     "text": [
      "\u001b[1mИнформация, включающая записи датасета:\u001b[0m\n"
     ]
    },
    {
     "data": {
      "text/html": [
       "<div>\n",
       "<style scoped>\n",
       "    .dataframe tbody tr th:only-of-type {\n",
       "        vertical-align: middle;\n",
       "    }\n",
       "\n",
       "    .dataframe tbody tr th {\n",
       "        vertical-align: top;\n",
       "    }\n",
       "\n",
       "    .dataframe thead th {\n",
       "        text-align: right;\n",
       "    }\n",
       "</style>\n",
       "<table border=\"1\" class=\"dataframe\">\n",
       "  <thead>\n",
       "    <tr style=\"text-align: right;\">\n",
       "      <th></th>\n",
       "      <th>event_datetime</th>\n",
       "      <th>event</th>\n",
       "      <th>building_type</th>\n",
       "      <th>user_id</th>\n",
       "      <th>project_type</th>\n",
       "    </tr>\n",
       "  </thead>\n",
       "  <tbody>\n",
       "    <tr>\n",
       "      <th>0</th>\n",
       "      <td>2020-05-04 00:00:01</td>\n",
       "      <td>building</td>\n",
       "      <td>assembly_shop</td>\n",
       "      <td>55e92310-cb8e-4754-b622-597e124b03de</td>\n",
       "      <td>NaN</td>\n",
       "    </tr>\n",
       "    <tr>\n",
       "      <th>1</th>\n",
       "      <td>2020-05-04 00:00:03</td>\n",
       "      <td>building</td>\n",
       "      <td>assembly_shop</td>\n",
       "      <td>c07b1c10-f477-44dc-81dc-ec82254b1347</td>\n",
       "      <td>NaN</td>\n",
       "    </tr>\n",
       "    <tr>\n",
       "      <th>2</th>\n",
       "      <td>2020-05-04 00:00:16</td>\n",
       "      <td>building</td>\n",
       "      <td>assembly_shop</td>\n",
       "      <td>6edd42cc-e753-4ff6-a947-2107cd560710</td>\n",
       "      <td>NaN</td>\n",
       "    </tr>\n",
       "    <tr>\n",
       "      <th>3</th>\n",
       "      <td>2020-05-04 00:00:16</td>\n",
       "      <td>building</td>\n",
       "      <td>assembly_shop</td>\n",
       "      <td>92c69003-d60a-444a-827f-8cc51bf6bf4c</td>\n",
       "      <td>NaN</td>\n",
       "    </tr>\n",
       "    <tr>\n",
       "      <th>4</th>\n",
       "      <td>2020-05-04 00:00:35</td>\n",
       "      <td>building</td>\n",
       "      <td>assembly_shop</td>\n",
       "      <td>cdc6bb92-0ccb-4490-9866-ef142f09139d</td>\n",
       "      <td>NaN</td>\n",
       "    </tr>\n",
       "  </tbody>\n",
       "</table>\n",
       "</div>"
      ],
      "text/plain": [
       "        event_datetime     event  building_type  \\\n",
       "0  2020-05-04 00:00:01  building  assembly_shop   \n",
       "1  2020-05-04 00:00:03  building  assembly_shop   \n",
       "2  2020-05-04 00:00:16  building  assembly_shop   \n",
       "3  2020-05-04 00:00:16  building  assembly_shop   \n",
       "4  2020-05-04 00:00:35  building  assembly_shop   \n",
       "\n",
       "                                user_id project_type  \n",
       "0  55e92310-cb8e-4754-b622-597e124b03de          NaN  \n",
       "1  c07b1c10-f477-44dc-81dc-ec82254b1347          NaN  \n",
       "2  6edd42cc-e753-4ff6-a947-2107cd560710          NaN  \n",
       "3  92c69003-d60a-444a-827f-8cc51bf6bf4c          NaN  \n",
       "4  cdc6bb92-0ccb-4490-9866-ef142f09139d          NaN  "
      ]
     },
     "metadata": {},
     "output_type": "display_data"
    },
    {
     "name": "stdout",
     "output_type": "stream",
     "text": [
      "************************************************************\n",
      "\u001b[1mОбщая информация датасета:\u001b[0m\n",
      "<class 'pandas.core.frame.DataFrame'>\n",
      "RangeIndex: 135640 entries, 0 to 135639\n",
      "Data columns (total 5 columns):\n",
      " #   Column          Non-Null Count   Dtype \n",
      "---  ------          --------------   ----- \n",
      " 0   event_datetime  135640 non-null  object\n",
      " 1   event           135640 non-null  object\n",
      " 2   building_type   127957 non-null  object\n",
      " 3   user_id         135640 non-null  object\n",
      " 4   project_type    1866 non-null    object\n",
      "dtypes: object(5)\n",
      "memory usage: 5.2+ MB\n",
      "************************************************************\n",
      "\u001b[1mСтатистика датасета:\u001b[0m\n"
     ]
    },
    {
     "data": {
      "text/html": [
       "<div>\n",
       "<style scoped>\n",
       "    .dataframe tbody tr th:only-of-type {\n",
       "        vertical-align: middle;\n",
       "    }\n",
       "\n",
       "    .dataframe tbody tr th {\n",
       "        vertical-align: top;\n",
       "    }\n",
       "\n",
       "    .dataframe thead th {\n",
       "        text-align: right;\n",
       "    }\n",
       "</style>\n",
       "<table border=\"1\" class=\"dataframe\">\n",
       "  <thead>\n",
       "    <tr style=\"text-align: right;\">\n",
       "      <th></th>\n",
       "      <th>event_datetime</th>\n",
       "      <th>event</th>\n",
       "      <th>building_type</th>\n",
       "      <th>user_id</th>\n",
       "      <th>project_type</th>\n",
       "    </tr>\n",
       "  </thead>\n",
       "  <tbody>\n",
       "    <tr>\n",
       "      <th>count</th>\n",
       "      <td>135640</td>\n",
       "      <td>135640</td>\n",
       "      <td>127957</td>\n",
       "      <td>135640</td>\n",
       "      <td>1866</td>\n",
       "    </tr>\n",
       "    <tr>\n",
       "      <th>unique</th>\n",
       "      <td>128790</td>\n",
       "      <td>3</td>\n",
       "      <td>3</td>\n",
       "      <td>13576</td>\n",
       "      <td>1</td>\n",
       "    </tr>\n",
       "    <tr>\n",
       "      <th>top</th>\n",
       "      <td>2020-05-09 12:35:56</td>\n",
       "      <td>building</td>\n",
       "      <td>spaceport</td>\n",
       "      <td>bf542075-e3a2-4e79-82d8-3838e86d2a25</td>\n",
       "      <td>satellite_orbital_assembly</td>\n",
       "    </tr>\n",
       "    <tr>\n",
       "      <th>freq</th>\n",
       "      <td>4</td>\n",
       "      <td>127957</td>\n",
       "      <td>59325</td>\n",
       "      <td>22</td>\n",
       "      <td>1866</td>\n",
       "    </tr>\n",
       "  </tbody>\n",
       "</table>\n",
       "</div>"
      ],
      "text/plain": [
       "             event_datetime     event building_type  \\\n",
       "count                135640    135640        127957   \n",
       "unique               128790         3             3   \n",
       "top     2020-05-09 12:35:56  building     spaceport   \n",
       "freq                      4    127957         59325   \n",
       "\n",
       "                                     user_id                project_type  \n",
       "count                                 135640                        1866  \n",
       "unique                                 13576                           1  \n",
       "top     bf542075-e3a2-4e79-82d8-3838e86d2a25  satellite_orbital_assembly  \n",
       "freq                                      22                        1866  "
      ]
     },
     "metadata": {},
     "output_type": "display_data"
    },
    {
     "name": "stdout",
     "output_type": "stream",
     "text": [
      "************************************************************\n",
      "\u001b[1mИнформация, включающая пропуски датасета:\u001b[0m\n"
     ]
    },
    {
     "data": {
      "text/html": [
       "<style  type=\"text/css\" >\n",
       "</style><table id=\"T_51115_\" ><thead>    <tr>        <th class=\"blank level0\" ></th>        <th class=\"col_heading level0 col0\" >кол-во</th>        <th class=\"col_heading level0 col1\" >доля</th>    </tr></thead><tbody>\n",
       "                <tr>\n",
       "                        <th id=\"T_51115_level0_row0\" class=\"row_heading level0 row0\" >event_datetime</th>\n",
       "                        <td id=\"T_51115_row0_col0\" class=\"data row0 col0\" >0</td>\n",
       "                        <td id=\"T_51115_row0_col1\" class=\"data row0 col1\" >0.00%</td>\n",
       "            </tr>\n",
       "            <tr>\n",
       "                        <th id=\"T_51115_level0_row1\" class=\"row_heading level0 row1\" >event</th>\n",
       "                        <td id=\"T_51115_row1_col0\" class=\"data row1 col0\" >0</td>\n",
       "                        <td id=\"T_51115_row1_col1\" class=\"data row1 col1\" >0.00%</td>\n",
       "            </tr>\n",
       "            <tr>\n",
       "                        <th id=\"T_51115_level0_row2\" class=\"row_heading level0 row2\" >building_type</th>\n",
       "                        <td id=\"T_51115_row2_col0\" class=\"data row2 col0\" >7683</td>\n",
       "                        <td id=\"T_51115_row2_col1\" class=\"data row2 col1\" >5.66%</td>\n",
       "            </tr>\n",
       "            <tr>\n",
       "                        <th id=\"T_51115_level0_row3\" class=\"row_heading level0 row3\" >user_id</th>\n",
       "                        <td id=\"T_51115_row3_col0\" class=\"data row3 col0\" >0</td>\n",
       "                        <td id=\"T_51115_row3_col1\" class=\"data row3 col1\" >0.00%</td>\n",
       "            </tr>\n",
       "            <tr>\n",
       "                        <th id=\"T_51115_level0_row4\" class=\"row_heading level0 row4\" >project_type</th>\n",
       "                        <td id=\"T_51115_row4_col0\" class=\"data row4 col0\" >133774</td>\n",
       "                        <td id=\"T_51115_row4_col1\" class=\"data row4 col1\" >98.62%</td>\n",
       "            </tr>\n",
       "    </tbody></table>"
      ],
      "text/plain": [
       "<pandas.io.formats.style.Styler at 0x7f63c41dbd60>"
      ]
     },
     "metadata": {},
     "output_type": "display_data"
    }
   ],
   "source": [
    "info(game_actions)"
   ]
  },
  {
   "cell_type": "markdown",
   "metadata": {},
   "source": [
    "* В данном датасете 5 столбцов, в двух из них присутствуют пропуски - `building_type`, и `project_type`. \n",
    "* В столбце `building_type` храниться информация о типах построек, а в столбце 'project_type' информация о типе реализованного объекта. \n",
    "* Уровень в нашей игре можно пройти двумя способами: победить первого врага или реализовать проект-разработка орбитальной сборки спутников. Из этого следует, что не все игроки пройдут уровень через реализацию проекта, а значит у них будет пропуск в столбце `project_type`. \n",
    "* Так же возможно для реализации проекта нет необходимости строить здания, а можно сразу завершить проект и пройти уровень, поэтому у таких игроков могут быть пропуски. \n",
    "* Нельзя исключать и то, что не все игроки завершили уровень и просто покинули игру, ничего не сделав, у них тоже могут быть пропуски. \n",
    "* Пропуски можно заполнить значением по умолчанию, что бы было проще проводить обработку данных.\n",
    "* Названия столбцов приведены к правильному виду. \n",
    "* У столбца `event_datetime` необходимо изменить тип с `object` на `datetime`."
   ]
  },
  {
   "cell_type": "code",
   "execution_count": 5,
   "metadata": {},
   "outputs": [],
   "source": [
    "game_actions = game_actions.fillna('unknown') # Заполнение пропусков значением по умолчанию."
   ]
  },
  {
   "cell_type": "code",
   "execution_count": 6,
   "metadata": {},
   "outputs": [],
   "source": [
    "# Преобразование типа данных.\n",
    "game_actions['event_datetime'] = pd.to_datetime(\n",
    "                                        game_actions['event_datetime'], \n",
    "                                            format='%Y-%m-%dT%H:%M:%S'\n",
    "                                                )"
   ]
  },
  {
   "cell_type": "markdown",
   "metadata": {},
   "source": [
    "Проверка преобразования типа данных в столбце."
   ]
  },
  {
   "cell_type": "code",
   "execution_count": 7,
   "metadata": {},
   "outputs": [
    {
     "name": "stdout",
     "output_type": "stream",
     "text": [
      "<class 'pandas.core.frame.DataFrame'>\n",
      "RangeIndex: 135640 entries, 0 to 135639\n",
      "Data columns (total 5 columns):\n",
      " #   Column          Non-Null Count   Dtype         \n",
      "---  ------          --------------   -----         \n",
      " 0   event_datetime  135640 non-null  datetime64[ns]\n",
      " 1   event           135640 non-null  object        \n",
      " 2   building_type   135640 non-null  object        \n",
      " 3   user_id         135640 non-null  object        \n",
      " 4   project_type    135640 non-null  object        \n",
      "dtypes: datetime64[ns](1), object(4)\n",
      "memory usage: 5.2+ MB\n"
     ]
    }
   ],
   "source": [
    "game_actions.info()"
   ]
  },
  {
   "cell_type": "markdown",
   "metadata": {},
   "source": [
    "Теперь все столбцы имеют верные типы данных."
   ]
  },
  {
   "cell_type": "code",
   "execution_count": 8,
   "metadata": {
    "scrolled": true
   },
   "outputs": [
    {
     "name": "stdout",
     "output_type": "stream",
     "text": [
      "\u001b[1mИнформация, включающая записи датасета:\u001b[0m\n"
     ]
    },
    {
     "data": {
      "text/html": [
       "<div>\n",
       "<style scoped>\n",
       "    .dataframe tbody tr th:only-of-type {\n",
       "        vertical-align: middle;\n",
       "    }\n",
       "\n",
       "    .dataframe tbody tr th {\n",
       "        vertical-align: top;\n",
       "    }\n",
       "\n",
       "    .dataframe thead th {\n",
       "        text-align: right;\n",
       "    }\n",
       "</style>\n",
       "<table border=\"1\" class=\"dataframe\">\n",
       "  <thead>\n",
       "    <tr style=\"text-align: right;\">\n",
       "      <th></th>\n",
       "      <th>source</th>\n",
       "      <th>day</th>\n",
       "      <th>cost</th>\n",
       "    </tr>\n",
       "  </thead>\n",
       "  <tbody>\n",
       "    <tr>\n",
       "      <th>0</th>\n",
       "      <td>facebook_ads</td>\n",
       "      <td>2020-05-03</td>\n",
       "      <td>935.882786</td>\n",
       "    </tr>\n",
       "    <tr>\n",
       "      <th>1</th>\n",
       "      <td>facebook_ads</td>\n",
       "      <td>2020-05-04</td>\n",
       "      <td>548.354480</td>\n",
       "    </tr>\n",
       "    <tr>\n",
       "      <th>2</th>\n",
       "      <td>facebook_ads</td>\n",
       "      <td>2020-05-05</td>\n",
       "      <td>260.185754</td>\n",
       "    </tr>\n",
       "    <tr>\n",
       "      <th>3</th>\n",
       "      <td>facebook_ads</td>\n",
       "      <td>2020-05-06</td>\n",
       "      <td>177.982200</td>\n",
       "    </tr>\n",
       "    <tr>\n",
       "      <th>4</th>\n",
       "      <td>facebook_ads</td>\n",
       "      <td>2020-05-07</td>\n",
       "      <td>111.766796</td>\n",
       "    </tr>\n",
       "  </tbody>\n",
       "</table>\n",
       "</div>"
      ],
      "text/plain": [
       "         source         day        cost\n",
       "0  facebook_ads  2020-05-03  935.882786\n",
       "1  facebook_ads  2020-05-04  548.354480\n",
       "2  facebook_ads  2020-05-05  260.185754\n",
       "3  facebook_ads  2020-05-06  177.982200\n",
       "4  facebook_ads  2020-05-07  111.766796"
      ]
     },
     "metadata": {},
     "output_type": "display_data"
    },
    {
     "name": "stdout",
     "output_type": "stream",
     "text": [
      "************************************************************\n",
      "\u001b[1mОбщая информация датасета:\u001b[0m\n",
      "<class 'pandas.core.frame.DataFrame'>\n",
      "RangeIndex: 28 entries, 0 to 27\n",
      "Data columns (total 3 columns):\n",
      " #   Column  Non-Null Count  Dtype  \n",
      "---  ------  --------------  -----  \n",
      " 0   source  28 non-null     object \n",
      " 1   day     28 non-null     object \n",
      " 2   cost    28 non-null     float64\n",
      "dtypes: float64(1), object(2)\n",
      "memory usage: 800.0+ bytes\n",
      "************************************************************\n",
      "\u001b[1mСтатистика датасета:\u001b[0m\n"
     ]
    },
    {
     "data": {
      "text/html": [
       "<div>\n",
       "<style scoped>\n",
       "    .dataframe tbody tr th:only-of-type {\n",
       "        vertical-align: middle;\n",
       "    }\n",
       "\n",
       "    .dataframe tbody tr th {\n",
       "        vertical-align: top;\n",
       "    }\n",
       "\n",
       "    .dataframe thead th {\n",
       "        text-align: right;\n",
       "    }\n",
       "</style>\n",
       "<table border=\"1\" class=\"dataframe\">\n",
       "  <thead>\n",
       "    <tr style=\"text-align: right;\">\n",
       "      <th></th>\n",
       "      <th>cost</th>\n",
       "    </tr>\n",
       "  </thead>\n",
       "  <tbody>\n",
       "    <tr>\n",
       "      <th>count</th>\n",
       "      <td>28.000000</td>\n",
       "    </tr>\n",
       "    <tr>\n",
       "      <th>mean</th>\n",
       "      <td>271.556321</td>\n",
       "    </tr>\n",
       "    <tr>\n",
       "      <th>std</th>\n",
       "      <td>286.867650</td>\n",
       "    </tr>\n",
       "    <tr>\n",
       "      <th>min</th>\n",
       "      <td>23.314669</td>\n",
       "    </tr>\n",
       "    <tr>\n",
       "      <th>25%</th>\n",
       "      <td>66.747365</td>\n",
       "    </tr>\n",
       "    <tr>\n",
       "      <th>50%</th>\n",
       "      <td>160.056443</td>\n",
       "    </tr>\n",
       "    <tr>\n",
       "      <th>75%</th>\n",
       "      <td>349.034473</td>\n",
       "    </tr>\n",
       "    <tr>\n",
       "      <th>max</th>\n",
       "      <td>969.139394</td>\n",
       "    </tr>\n",
       "  </tbody>\n",
       "</table>\n",
       "</div>"
      ],
      "text/plain": [
       "             cost\n",
       "count   28.000000\n",
       "mean   271.556321\n",
       "std    286.867650\n",
       "min     23.314669\n",
       "25%     66.747365\n",
       "50%    160.056443\n",
       "75%    349.034473\n",
       "max    969.139394"
      ]
     },
     "metadata": {},
     "output_type": "display_data"
    },
    {
     "name": "stdout",
     "output_type": "stream",
     "text": [
      "************************************************************\n",
      "\u001b[1mИнформация, включающая пропуски датасета:\u001b[0m\n"
     ]
    },
    {
     "data": {
      "text/html": [
       "<style  type=\"text/css\" >\n",
       "</style><table id=\"T_5f81c_\" ><thead>    <tr>        <th class=\"blank level0\" ></th>        <th class=\"col_heading level0 col0\" >кол-во</th>        <th class=\"col_heading level0 col1\" >доля</th>    </tr></thead><tbody>\n",
       "                <tr>\n",
       "                        <th id=\"T_5f81c_level0_row0\" class=\"row_heading level0 row0\" >source</th>\n",
       "                        <td id=\"T_5f81c_row0_col0\" class=\"data row0 col0\" >0</td>\n",
       "                        <td id=\"T_5f81c_row0_col1\" class=\"data row0 col1\" >0.00%</td>\n",
       "            </tr>\n",
       "            <tr>\n",
       "                        <th id=\"T_5f81c_level0_row1\" class=\"row_heading level0 row1\" >day</th>\n",
       "                        <td id=\"T_5f81c_row1_col0\" class=\"data row1 col0\" >0</td>\n",
       "                        <td id=\"T_5f81c_row1_col1\" class=\"data row1 col1\" >0.00%</td>\n",
       "            </tr>\n",
       "            <tr>\n",
       "                        <th id=\"T_5f81c_level0_row2\" class=\"row_heading level0 row2\" >cost</th>\n",
       "                        <td id=\"T_5f81c_row2_col0\" class=\"data row2 col0\" >0</td>\n",
       "                        <td id=\"T_5f81c_row2_col1\" class=\"data row2 col1\" >0.00%</td>\n",
       "            </tr>\n",
       "    </tbody></table>"
      ],
      "text/plain": [
       "<pandas.io.formats.style.Styler at 0x7f6344d84e50>"
      ]
     },
     "metadata": {},
     "output_type": "display_data"
    }
   ],
   "source": [
    "info(ad_costs)"
   ]
  },
  {
   "cell_type": "markdown",
   "metadata": {},
   "source": [
    "В данном датасете три стобца, пропусков нет, названия приведены к правильному виду. Столбец 'day' имеет тип данных object, его необходимо сменить на datetime. Так как среднее значение больше медианного, значит набор данных имеет скошенность в положительную сторону."
   ]
  },
  {
   "cell_type": "code",
   "execution_count": 9,
   "metadata": {},
   "outputs": [],
   "source": [
    "ad_costs['day'] = pd.to_datetime(ad_costs['day'], format='%Y-%m-%dT') # Преобразование типа данных."
   ]
  },
  {
   "cell_type": "markdown",
   "metadata": {},
   "source": [
    "Проверка преобразования типа данных в столбце."
   ]
  },
  {
   "cell_type": "code",
   "execution_count": 10,
   "metadata": {},
   "outputs": [
    {
     "name": "stdout",
     "output_type": "stream",
     "text": [
      "<class 'pandas.core.frame.DataFrame'>\n",
      "RangeIndex: 28 entries, 0 to 27\n",
      "Data columns (total 3 columns):\n",
      " #   Column  Non-Null Count  Dtype         \n",
      "---  ------  --------------  -----         \n",
      " 0   source  28 non-null     object        \n",
      " 1   day     28 non-null     datetime64[ns]\n",
      " 2   cost    28 non-null     float64       \n",
      "dtypes: datetime64[ns](1), float64(1), object(1)\n",
      "memory usage: 800.0+ bytes\n"
     ]
    }
   ],
   "source": [
    "ad_costs.info()"
   ]
  },
  {
   "cell_type": "markdown",
   "metadata": {},
   "source": [
    "Теперь все столбцы имеют верные типы данных."
   ]
  },
  {
   "cell_type": "code",
   "execution_count": 11,
   "metadata": {},
   "outputs": [
    {
     "name": "stdout",
     "output_type": "stream",
     "text": [
      "\u001b[1mИнформация, включающая записи датасета:\u001b[0m\n"
     ]
    },
    {
     "data": {
      "text/html": [
       "<div>\n",
       "<style scoped>\n",
       "    .dataframe tbody tr th:only-of-type {\n",
       "        vertical-align: middle;\n",
       "    }\n",
       "\n",
       "    .dataframe tbody tr th {\n",
       "        vertical-align: top;\n",
       "    }\n",
       "\n",
       "    .dataframe thead th {\n",
       "        text-align: right;\n",
       "    }\n",
       "</style>\n",
       "<table border=\"1\" class=\"dataframe\">\n",
       "  <thead>\n",
       "    <tr style=\"text-align: right;\">\n",
       "      <th></th>\n",
       "      <th>user_id</th>\n",
       "      <th>source</th>\n",
       "    </tr>\n",
       "  </thead>\n",
       "  <tbody>\n",
       "    <tr>\n",
       "      <th>0</th>\n",
       "      <td>0001f83c-c6ac-4621-b7f0-8a28b283ac30</td>\n",
       "      <td>facebook_ads</td>\n",
       "    </tr>\n",
       "    <tr>\n",
       "      <th>1</th>\n",
       "      <td>00151b4f-ba38-44a8-a650-d7cf130a0105</td>\n",
       "      <td>yandex_direct</td>\n",
       "    </tr>\n",
       "    <tr>\n",
       "      <th>2</th>\n",
       "      <td>001aaea6-3d14-43f1-8ca8-7f48820f17aa</td>\n",
       "      <td>youtube_channel_reklama</td>\n",
       "    </tr>\n",
       "    <tr>\n",
       "      <th>3</th>\n",
       "      <td>001d39dc-366c-4021-9604-6a3b9ff01e25</td>\n",
       "      <td>instagram_new_adverts</td>\n",
       "    </tr>\n",
       "    <tr>\n",
       "      <th>4</th>\n",
       "      <td>002f508f-67b6-479f-814b-b05f00d4e995</td>\n",
       "      <td>facebook_ads</td>\n",
       "    </tr>\n",
       "  </tbody>\n",
       "</table>\n",
       "</div>"
      ],
      "text/plain": [
       "                                user_id                   source\n",
       "0  0001f83c-c6ac-4621-b7f0-8a28b283ac30             facebook_ads\n",
       "1  00151b4f-ba38-44a8-a650-d7cf130a0105            yandex_direct\n",
       "2  001aaea6-3d14-43f1-8ca8-7f48820f17aa  youtube_channel_reklama\n",
       "3  001d39dc-366c-4021-9604-6a3b9ff01e25    instagram_new_adverts\n",
       "4  002f508f-67b6-479f-814b-b05f00d4e995             facebook_ads"
      ]
     },
     "metadata": {},
     "output_type": "display_data"
    },
    {
     "name": "stdout",
     "output_type": "stream",
     "text": [
      "************************************************************\n",
      "\u001b[1mОбщая информация датасета:\u001b[0m\n",
      "<class 'pandas.core.frame.DataFrame'>\n",
      "RangeIndex: 13576 entries, 0 to 13575\n",
      "Data columns (total 2 columns):\n",
      " #   Column   Non-Null Count  Dtype \n",
      "---  ------   --------------  ----- \n",
      " 0   user_id  13576 non-null  object\n",
      " 1   source   13576 non-null  object\n",
      "dtypes: object(2)\n",
      "memory usage: 212.2+ KB\n",
      "************************************************************\n",
      "\u001b[1mСтатистика датасета:\u001b[0m\n"
     ]
    },
    {
     "data": {
      "text/html": [
       "<div>\n",
       "<style scoped>\n",
       "    .dataframe tbody tr th:only-of-type {\n",
       "        vertical-align: middle;\n",
       "    }\n",
       "\n",
       "    .dataframe tbody tr th {\n",
       "        vertical-align: top;\n",
       "    }\n",
       "\n",
       "    .dataframe thead th {\n",
       "        text-align: right;\n",
       "    }\n",
       "</style>\n",
       "<table border=\"1\" class=\"dataframe\">\n",
       "  <thead>\n",
       "    <tr style=\"text-align: right;\">\n",
       "      <th></th>\n",
       "      <th>user_id</th>\n",
       "      <th>source</th>\n",
       "    </tr>\n",
       "  </thead>\n",
       "  <tbody>\n",
       "    <tr>\n",
       "      <th>count</th>\n",
       "      <td>13576</td>\n",
       "      <td>13576</td>\n",
       "    </tr>\n",
       "    <tr>\n",
       "      <th>unique</th>\n",
       "      <td>13576</td>\n",
       "      <td>4</td>\n",
       "    </tr>\n",
       "    <tr>\n",
       "      <th>top</th>\n",
       "      <td>7e59d584-eb5e-44af-bb9e-58dc24128479</td>\n",
       "      <td>yandex_direct</td>\n",
       "    </tr>\n",
       "    <tr>\n",
       "      <th>freq</th>\n",
       "      <td>1</td>\n",
       "      <td>4817</td>\n",
       "    </tr>\n",
       "  </tbody>\n",
       "</table>\n",
       "</div>"
      ],
      "text/plain": [
       "                                     user_id         source\n",
       "count                                  13576          13576\n",
       "unique                                 13576              4\n",
       "top     7e59d584-eb5e-44af-bb9e-58dc24128479  yandex_direct\n",
       "freq                                       1           4817"
      ]
     },
     "metadata": {},
     "output_type": "display_data"
    },
    {
     "name": "stdout",
     "output_type": "stream",
     "text": [
      "************************************************************\n",
      "\u001b[1mИнформация, включающая пропуски датасета:\u001b[0m\n"
     ]
    },
    {
     "data": {
      "text/html": [
       "<style  type=\"text/css\" >\n",
       "</style><table id=\"T_0e201_\" ><thead>    <tr>        <th class=\"blank level0\" ></th>        <th class=\"col_heading level0 col0\" >кол-во</th>        <th class=\"col_heading level0 col1\" >доля</th>    </tr></thead><tbody>\n",
       "                <tr>\n",
       "                        <th id=\"T_0e201_level0_row0\" class=\"row_heading level0 row0\" >user_id</th>\n",
       "                        <td id=\"T_0e201_row0_col0\" class=\"data row0 col0\" >0</td>\n",
       "                        <td id=\"T_0e201_row0_col1\" class=\"data row0 col1\" >0.00%</td>\n",
       "            </tr>\n",
       "            <tr>\n",
       "                        <th id=\"T_0e201_level0_row1\" class=\"row_heading level0 row1\" >source</th>\n",
       "                        <td id=\"T_0e201_row1_col0\" class=\"data row1 col0\" >0</td>\n",
       "                        <td id=\"T_0e201_row1_col1\" class=\"data row1 col1\" >0.00%</td>\n",
       "            </tr>\n",
       "    </tbody></table>"
      ],
      "text/plain": [
       "<pandas.io.formats.style.Styler at 0x7f6344e43d90>"
      ]
     },
     "metadata": {},
     "output_type": "display_data"
    }
   ],
   "source": [
    "info(user_source)"
   ]
  },
  {
   "cell_type": "markdown",
   "metadata": {},
   "source": [
    "Проверка на наличие явных дубликатов."
   ]
  },
  {
   "cell_type": "code",
   "execution_count": 12,
   "metadata": {},
   "outputs": [
    {
     "data": {
      "text/plain": [
       "1"
      ]
     },
     "execution_count": 12,
     "metadata": {},
     "output_type": "execute_result"
    }
   ],
   "source": [
    "game_actions.duplicated().sum()"
   ]
  },
  {
   "cell_type": "markdown",
   "metadata": {},
   "source": [
    "Всего нашёлся один явный дубликат, его можно удалить, так как он не повлияет на дальнейшее исследование."
   ]
  },
  {
   "cell_type": "code",
   "execution_count": 13,
   "metadata": {},
   "outputs": [
    {
     "data": {
      "text/plain": [
       "0"
      ]
     },
     "execution_count": 13,
     "metadata": {},
     "output_type": "execute_result"
    }
   ],
   "source": [
    "game_actions = game_actions.drop_duplicates().reset_index(drop=True)\n",
    "game_actions.duplicated().sum()"
   ]
  },
  {
   "cell_type": "code",
   "execution_count": 14,
   "metadata": {},
   "outputs": [
    {
     "data": {
      "text/plain": [
       "0"
      ]
     },
     "execution_count": 14,
     "metadata": {},
     "output_type": "execute_result"
    }
   ],
   "source": [
    "ad_costs.duplicated().sum()"
   ]
  },
  {
   "cell_type": "code",
   "execution_count": 15,
   "metadata": {},
   "outputs": [
    {
     "data": {
      "text/plain": [
       "0"
      ]
     },
     "execution_count": 15,
     "metadata": {},
     "output_type": "execute_result"
    }
   ],
   "source": [
    "user_source.duplicated().sum()"
   ]
  },
  {
   "cell_type": "markdown",
   "metadata": {},
   "source": [
    "В остальных датасетах дубликатов нет."
   ]
  },
  {
   "cell_type": "markdown",
   "metadata": {},
   "source": [
    "## Исследовательский анализ данных."
   ]
  },
  {
   "cell_type": "markdown",
   "metadata": {},
   "source": [
    "Исследовательский анализ данных выполним следующим образом:\n",
    "- Определить данными за какой период мы обладаем.\n",
    "- Исследовать распределение данных в каждом датасете.\n",
    "- Исследовать выбросы и обработать их.\n",
    "- Определить источники из которых пришли пользователи.\n",
    "- Из какого источника пришло больше пользователей.\n",
    "- Построить профили пользователей.\n",
    "- Какие пользователи построили больше зданий.\n",
    "- Какие пользователи закончили уровень реализацией проекта."
   ]
  },
  {
   "cell_type": "markdown",
   "metadata": {},
   "source": [
    "### Определение периода."
   ]
  },
  {
   "cell_type": "markdown",
   "metadata": {},
   "source": [
    "Определим за какой временной промежуток собраны данные в датасетах. В датасете user_source нет столбца с датами."
   ]
  },
  {
   "cell_type": "code",
   "execution_count": 16,
   "metadata": {},
   "outputs": [
    {
     "name": "stdout",
     "output_type": "stream",
     "text": [
      "2020-05-04 00:00:01\n",
      "2020-06-05 12:32:49\n"
     ]
    }
   ],
   "source": [
    "print(game_actions['event_datetime'].min())\n",
    "print(game_actions['event_datetime'].max())"
   ]
  },
  {
   "cell_type": "markdown",
   "metadata": {},
   "source": [
    "В датасете game_actions собраны данные за период с 2020-05-04 по 2020-06-05."
   ]
  },
  {
   "cell_type": "code",
   "execution_count": 17,
   "metadata": {},
   "outputs": [
    {
     "name": "stdout",
     "output_type": "stream",
     "text": [
      "2020-05-03 00:00:00\n",
      "2020-05-09 00:00:00\n"
     ]
    }
   ],
   "source": [
    "print(ad_costs['day'].min())\n",
    "print(ad_costs['day'].max())"
   ]
  },
  {
   "cell_type": "markdown",
   "metadata": {},
   "source": [
    "В датасете ad_costs собранны данные за период с 2020-05-03 по 2020-05-09"
   ]
  },
  {
   "cell_type": "markdown",
   "metadata": {},
   "source": [
    "### Распределение данных в датасетах."
   ]
  },
  {
   "cell_type": "markdown",
   "metadata": {},
   "source": [
    "Теперь необходимо рассмотреть как распределены данные в датасетах."
   ]
  },
  {
   "cell_type": "code",
   "execution_count": 18,
   "metadata": {},
   "outputs": [
    {
     "data": {
      "image/png": "[encoded data removed]",
      "text/plain": [
       "<Figure size 1080x504 with 1 Axes>"
      ]
     },
     "metadata": {
      "needs_background": "light"
     },
     "output_type": "display_data"
    }
   ],
   "source": [
    "plt.figure(figsize=(15, 7))\n",
    "ax = sns.histplot(game_actions['event_datetime'])\n",
    "ax.set_title('График распределения по дате.')\n",
    "ax.set_xlabel('Время события')\n",
    "ax.set_ylabel('Количество событий')\n",
    "sns.despine()"
   ]
  },
  {
   "cell_type": "markdown",
   "metadata": {},
   "source": [
    "* Данные распределены не нормально, начиная с 4 мая идёт нарастание количества событий вплоть до 11 мая, затем происходит резкий спад в два раза (с 4000 до 2000). \n",
    "* Такое поведение графика можно объяснить тем, что в этот период были праздничные дни, проходила рекламная кампания (в датасете ad_costs данные за период с 3 мая по 9 мая), поэтому шёл рост количества пользователей и количества их действий. Либо в данных присутсвует ошибка, вносящая такое искажение."
   ]
  },
  {
   "cell_type": "markdown",
   "metadata": {},
   "source": [
    "Построим графики распределения по типу события для пользователей."
   ]
  },
  {
   "cell_type": "code",
   "execution_count": 19,
   "metadata": {
    "scrolled": false
   },
   "outputs": [
    {
     "data": {
      "image/png": "[encoded data removed]",
      "text/plain": [
       "<Figure size 1080x504 with 1 Axes>"
      ]
     },
     "metadata": {
      "needs_background": "light"
     },
     "output_type": "display_data"
    },
    {
     "data": {
      "image/png": "[encoded data removed]",
      "text/plain": [
       "<Figure size 1080x504 with 1 Axes>"
      ]
     },
     "metadata": {
      "needs_background": "light"
     },
     "output_type": "display_data"
    },
    {
     "data": {
      "image/png": "[encoded data removed]",
      "text/plain": [
       "<Figure size 1080x504 with 1 Axes>"
      ]
     },
     "metadata": {
      "needs_background": "light"
     },
     "output_type": "display_data"
    }
   ],
   "source": [
    "# Цикл для построения графиков распределения.\n",
    "for event, data in game_actions.groupby('event'):\n",
    "    data = game_actions[game_actions['event']==event]\n",
    "    plt.figure(figsize=(15, 7))\n",
    "    ax = sns.histplot(data['event_datetime'])\n",
    "    ax.set_title('График распределения для события {}.'.format(event))\n",
    "    ax.set_xlabel('Время события')\n",
    "    ax.set_ylabel('Количество событий')\n",
    "    sns.despine()"
   ]
  },
  {
   "cell_type": "markdown",
   "metadata": {},
   "source": [
    "Из полученных графиков видно, что основную часть аномалии графика составляет событие 'building'. Возможно проведилась акция на постройку зданий в игре."
   ]
  },
  {
   "cell_type": "markdown",
   "metadata": {},
   "source": [
    "Рассмотрим какие действия делали игроки чаще. Построим график распределения по столбцу 'event'."
   ]
  },
  {
   "cell_type": "code",
   "execution_count": 20,
   "metadata": {},
   "outputs": [
    {
     "data": {
      "image/png": "[encoded data removed]",
      "text/plain": [
       "<Figure size 1080x504 with 1 Axes>"
      ]
     },
     "metadata": {
      "needs_background": "light"
     },
     "output_type": "display_data"
    }
   ],
   "source": [
    "plt.figure(figsize=(15, 7))\n",
    "ax = sns.histplot(game_actions['event'])\n",
    "ax.set_title('График распределения по типам события.')\n",
    "ax.set_xlabel('Тип события')\n",
    "ax.set_ylabel('Количество событий')\n",
    "sns.despine()"
   ]
  },
  {
   "cell_type": "markdown",
   "metadata": {},
   "source": [
    "График показал, что игроки в основном занимались постройками зданий."
   ]
  },
  {
   "cell_type": "markdown",
   "metadata": {},
   "source": [
    "Построим как распределено количество кликов по баннерам для разных каналов."
   ]
  },
  {
   "cell_type": "code",
   "execution_count": 21,
   "metadata": {},
   "outputs": [
    {
     "data": {
      "image/png": "[encoded data removed]",
      "text/plain": [
       "<Figure size 1080x504 with 1 Axes>"
      ]
     },
     "metadata": {
      "needs_background": "light"
     },
     "output_type": "display_data"
    }
   ],
   "source": [
    "sort = ad_costs.sort_values(by=['day'])\n",
    "sort['day'] = sort['day'].dt.date\n",
    "plt.figure(figsize=(15, 7))\n",
    "ax = sns.barplot(x='day', y='cost', hue='source', data=sort)\n",
    "ax.set_title('График распределния стоимости кликов по дням и каналам.')\n",
    "ax.set_xlabel('Дата.')\n",
    "ax.set_ylabel('Стоимость кликов.')\n",
    "sns.despine()"
   ]
  },
  {
   "cell_type": "markdown",
   "metadata": {},
   "source": [
    "* Стоимость кликов для всех каналов уменьшается с каждым днём. \n",
    "* Наименьшая стоимость кликов у канала `youtube`, у остальных каналов она примерно одинаковая, и резко падает.\n",
    "* Стоимость кликов для каналов быстро снижается с каждым днём, но для `youtube` снижение происходит медленее. Тем не менее стоимость кликов для этого канала остаётся самой низкой даже в последний день рекламной кампании."
   ]
  },
  {
   "cell_type": "markdown",
   "metadata": {},
   "source": [
    "Теперь рассмотрим как распределены пользователи по каналам."
   ]
  },
  {
   "cell_type": "code",
   "execution_count": 22,
   "metadata": {},
   "outputs": [
    {
     "data": {
      "image/png": "[encoded data removed]",
      "text/plain": [
       "<Figure size 1080x360 with 1 Axes>"
      ]
     },
     "metadata": {
      "needs_background": "light"
     },
     "output_type": "display_data"
    }
   ],
   "source": [
    "sort = user_source.sort_values(by='source')\n",
    "plt.figure(figsize=(15, 5))\n",
    "ax = sns.histplot(sort['source'])\n",
    "ax.set_title('График распределения по источникам.')\n",
    "ax.set_xlabel('Источники')\n",
    "ax.set_ylabel('Количество пользователей')\n",
    "sns.despine()"
   ]
  },
  {
   "cell_type": "code",
   "execution_count": 23,
   "metadata": {},
   "outputs": [
    {
     "data": {
      "text/html": [
       "<div>\n",
       "<style scoped>\n",
       "    .dataframe tbody tr th:only-of-type {\n",
       "        vertical-align: middle;\n",
       "    }\n",
       "\n",
       "    .dataframe tbody tr th {\n",
       "        vertical-align: top;\n",
       "    }\n",
       "\n",
       "    .dataframe thead th {\n",
       "        text-align: right;\n",
       "    }\n",
       "</style>\n",
       "<table border=\"1\" class=\"dataframe\">\n",
       "  <thead>\n",
       "    <tr style=\"text-align: right;\">\n",
       "      <th></th>\n",
       "      <th>user_id</th>\n",
       "    </tr>\n",
       "    <tr>\n",
       "      <th>source</th>\n",
       "      <th></th>\n",
       "    </tr>\n",
       "  </thead>\n",
       "  <tbody>\n",
       "    <tr>\n",
       "      <th>facebook_ads</th>\n",
       "      <td>2726</td>\n",
       "    </tr>\n",
       "    <tr>\n",
       "      <th>instagram_new_adverts</th>\n",
       "      <td>3347</td>\n",
       "    </tr>\n",
       "    <tr>\n",
       "      <th>yandex_direct</th>\n",
       "      <td>4817</td>\n",
       "    </tr>\n",
       "    <tr>\n",
       "      <th>youtube_channel_reklama</th>\n",
       "      <td>2686</td>\n",
       "    </tr>\n",
       "  </tbody>\n",
       "</table>\n",
       "</div>"
      ],
      "text/plain": [
       "                         user_id\n",
       "source                          \n",
       "facebook_ads                2726\n",
       "instagram_new_adverts       3347\n",
       "yandex_direct               4817\n",
       "youtube_channel_reklama     2686"
      ]
     },
     "execution_count": 23,
     "metadata": {},
     "output_type": "execute_result"
    }
   ],
   "source": [
    "user_source.sort_values(by='source').groupby('source').agg({'user_id': 'count'})"
   ]
  },
  {
   "cell_type": "markdown",
   "metadata": {},
   "source": [
    "Пользователи пришли из 4 источников. Наибольшее количество пользователей пришло из канала yandex_direct."
   ]
  },
  {
   "cell_type": "markdown",
   "metadata": {},
   "source": [
    "### Профили и стоимость привлечения."
   ]
  },
  {
   "cell_type": "code",
   "execution_count": 24,
   "metadata": {},
   "outputs": [
    {
     "data": {
      "text/html": [
       "<div>\n",
       "<style scoped>\n",
       "    .dataframe tbody tr th:only-of-type {\n",
       "        vertical-align: middle;\n",
       "    }\n",
       "\n",
       "    .dataframe tbody tr th {\n",
       "        vertical-align: top;\n",
       "    }\n",
       "\n",
       "    .dataframe thead th {\n",
       "        text-align: right;\n",
       "    }\n",
       "</style>\n",
       "<table border=\"1\" class=\"dataframe\">\n",
       "  <thead>\n",
       "    <tr style=\"text-align: right;\">\n",
       "      <th></th>\n",
       "      <th>event_datetime</th>\n",
       "      <th>event</th>\n",
       "      <th>building_type</th>\n",
       "      <th>user_id</th>\n",
       "      <th>project_type</th>\n",
       "      <th>source</th>\n",
       "      <th>day</th>\n",
       "    </tr>\n",
       "  </thead>\n",
       "  <tbody>\n",
       "    <tr>\n",
       "      <th>0</th>\n",
       "      <td>2020-05-04 00:00:01</td>\n",
       "      <td>building</td>\n",
       "      <td>assembly_shop</td>\n",
       "      <td>55e92310-cb8e-4754-b622-597e124b03de</td>\n",
       "      <td>unknown</td>\n",
       "      <td>youtube_channel_reklama</td>\n",
       "      <td>2020-05-04</td>\n",
       "    </tr>\n",
       "    <tr>\n",
       "      <th>1</th>\n",
       "      <td>2020-05-04 00:00:03</td>\n",
       "      <td>building</td>\n",
       "      <td>assembly_shop</td>\n",
       "      <td>c07b1c10-f477-44dc-81dc-ec82254b1347</td>\n",
       "      <td>unknown</td>\n",
       "      <td>facebook_ads</td>\n",
       "      <td>2020-05-04</td>\n",
       "    </tr>\n",
       "    <tr>\n",
       "      <th>2</th>\n",
       "      <td>2020-05-04 00:00:16</td>\n",
       "      <td>building</td>\n",
       "      <td>assembly_shop</td>\n",
       "      <td>6edd42cc-e753-4ff6-a947-2107cd560710</td>\n",
       "      <td>unknown</td>\n",
       "      <td>instagram_new_adverts</td>\n",
       "      <td>2020-05-04</td>\n",
       "    </tr>\n",
       "    <tr>\n",
       "      <th>3</th>\n",
       "      <td>2020-05-04 00:00:16</td>\n",
       "      <td>building</td>\n",
       "      <td>assembly_shop</td>\n",
       "      <td>92c69003-d60a-444a-827f-8cc51bf6bf4c</td>\n",
       "      <td>unknown</td>\n",
       "      <td>facebook_ads</td>\n",
       "      <td>2020-05-04</td>\n",
       "    </tr>\n",
       "    <tr>\n",
       "      <th>4</th>\n",
       "      <td>2020-05-04 00:00:35</td>\n",
       "      <td>building</td>\n",
       "      <td>assembly_shop</td>\n",
       "      <td>cdc6bb92-0ccb-4490-9866-ef142f09139d</td>\n",
       "      <td>unknown</td>\n",
       "      <td>yandex_direct</td>\n",
       "      <td>2020-05-04</td>\n",
       "    </tr>\n",
       "  </tbody>\n",
       "</table>\n",
       "</div>"
      ],
      "text/plain": [
       "       event_datetime     event  building_type  \\\n",
       "0 2020-05-04 00:00:01  building  assembly_shop   \n",
       "1 2020-05-04 00:00:03  building  assembly_shop   \n",
       "2 2020-05-04 00:00:16  building  assembly_shop   \n",
       "3 2020-05-04 00:00:16  building  assembly_shop   \n",
       "4 2020-05-04 00:00:35  building  assembly_shop   \n",
       "\n",
       "                                user_id project_type                   source  \\\n",
       "0  55e92310-cb8e-4754-b622-597e124b03de      unknown  youtube_channel_reklama   \n",
       "1  c07b1c10-f477-44dc-81dc-ec82254b1347      unknown             facebook_ads   \n",
       "2  6edd42cc-e753-4ff6-a947-2107cd560710      unknown    instagram_new_adverts   \n",
       "3  92c69003-d60a-444a-827f-8cc51bf6bf4c      unknown             facebook_ads   \n",
       "4  cdc6bb92-0ccb-4490-9866-ef142f09139d      unknown            yandex_direct   \n",
       "\n",
       "          day  \n",
       "0  2020-05-04  \n",
       "1  2020-05-04  \n",
       "2  2020-05-04  \n",
       "3  2020-05-04  \n",
       "4  2020-05-04  "
      ]
     },
     "execution_count": 24,
     "metadata": {},
     "output_type": "execute_result"
    }
   ],
   "source": [
    "# Построение профилей пользователей.\n",
    "profiles = game_actions.merge(user_source, on='user_id', how='left')\n",
    "profiles['day'] = profiles['event_datetime'].dt.date\n",
    "profiles.head()"
   ]
  },
  {
   "cell_type": "code",
   "execution_count": 25,
   "metadata": {},
   "outputs": [
    {
     "data": {
      "text/html": [
       "<div>\n",
       "<style scoped>\n",
       "    .dataframe tbody tr th:only-of-type {\n",
       "        vertical-align: middle;\n",
       "    }\n",
       "\n",
       "    .dataframe tbody tr th {\n",
       "        vertical-align: top;\n",
       "    }\n",
       "\n",
       "    .dataframe thead th {\n",
       "        text-align: right;\n",
       "    }\n",
       "</style>\n",
       "<table border=\"1\" class=\"dataframe\">\n",
       "  <thead>\n",
       "    <tr style=\"text-align: right;\">\n",
       "      <th></th>\n",
       "      <th>acquisition_cost</th>\n",
       "    </tr>\n",
       "    <tr>\n",
       "      <th>source</th>\n",
       "      <th></th>\n",
       "    </tr>\n",
       "  </thead>\n",
       "  <tbody>\n",
       "    <tr>\n",
       "      <th>facebook_ads</th>\n",
       "      <td>0.112195</td>\n",
       "    </tr>\n",
       "    <tr>\n",
       "      <th>instagram_new_adverts</th>\n",
       "      <td>0.092255</td>\n",
       "    </tr>\n",
       "    <tr>\n",
       "      <th>yandex_direct</th>\n",
       "      <td>0.066227</td>\n",
       "    </tr>\n",
       "    <tr>\n",
       "      <th>youtube_channel_reklama</th>\n",
       "      <td>0.056809</td>\n",
       "    </tr>\n",
       "  </tbody>\n",
       "</table>\n",
       "</div>"
      ],
      "text/plain": [
       "                         acquisition_cost\n",
       "source                                   \n",
       "facebook_ads                     0.112195\n",
       "instagram_new_adverts            0.092255\n",
       "yandex_direct                    0.066227\n",
       "youtube_channel_reklama          0.056809"
      ]
     },
     "execution_count": 25,
     "metadata": {},
     "output_type": "execute_result"
    }
   ],
   "source": [
    "# Считаем количество уникальных пользователей с одинаковыми источником.\n",
    "new_users = (profiles.groupby('source')\n",
    "                    .agg({'user_id': 'nunique'})\n",
    "                    .rename(columns={'user_id': 'unique_users'})\n",
    "                    .reset_index())\n",
    "\n",
    "# Объединяем траты на рекламу и число привлечённых пользователей.\n",
    "costs = ad_costs.merge(new_users, on=['source'], how='left')\n",
    "# Делим рекламные расходы на число привлечённых пользователей.\n",
    "costs['acquisition_cost'] = costs['cost'] / costs['unique_users']\n",
    "costs.groupby('source').agg({'acquisition_cost': 'mean'})"
   ]
  },
  {
   "cell_type": "markdown",
   "metadata": {},
   "source": [
    "### Поведение пользователей."
   ]
  },
  {
   "cell_type": "code",
   "execution_count": 26,
   "metadata": {},
   "outputs": [],
   "source": [
    "def get_filtered(data, column, value):\n",
    "    \"\"\"\n",
    "    Функция возвращает фильтр по заданным параметрам.\n",
    "    \"\"\"\n",
    "    filtered = data[data[column]==value]\n",
    "    return filtered"
   ]
  },
  {
   "cell_type": "code",
   "execution_count": 27,
   "metadata": {},
   "outputs": [],
   "source": [
    "def get_grouped(data, column, func, dimensions=[]):\n",
    "    \"\"\"\n",
    "    Функция группировки по заданным параметрам.\n",
    "    \"\"\"\n",
    "    result = data.groupby(dimensions).agg({column: func})\n",
    "    return result"
   ]
  },
  {
   "cell_type": "code",
   "execution_count": 28,
   "metadata": {},
   "outputs": [],
   "source": [
    "filtered = get_filtered(profiles, 'event', 'building')"
   ]
  },
  {
   "cell_type": "code",
   "execution_count": 29,
   "metadata": {},
   "outputs": [
    {
     "data": {
      "text/html": [
       "<div>\n",
       "<style scoped>\n",
       "    .dataframe tbody tr th:only-of-type {\n",
       "        vertical-align: middle;\n",
       "    }\n",
       "\n",
       "    .dataframe tbody tr th {\n",
       "        vertical-align: top;\n",
       "    }\n",
       "\n",
       "    .dataframe thead th {\n",
       "        text-align: right;\n",
       "    }\n",
       "</style>\n",
       "<table border=\"1\" class=\"dataframe\">\n",
       "  <thead>\n",
       "    <tr style=\"text-align: right;\">\n",
       "      <th></th>\n",
       "      <th>user_id</th>\n",
       "      <th>ratio</th>\n",
       "    </tr>\n",
       "    <tr>\n",
       "      <th>source</th>\n",
       "      <th></th>\n",
       "      <th></th>\n",
       "    </tr>\n",
       "  </thead>\n",
       "  <tbody>\n",
       "    <tr>\n",
       "      <th>facebook_ads</th>\n",
       "      <td>26131</td>\n",
       "      <td>9.586</td>\n",
       "    </tr>\n",
       "    <tr>\n",
       "      <th>instagram_new_adverts</th>\n",
       "      <td>31815</td>\n",
       "      <td>9.506</td>\n",
       "    </tr>\n",
       "    <tr>\n",
       "      <th>yandex_direct</th>\n",
       "      <td>45032</td>\n",
       "      <td>9.349</td>\n",
       "    </tr>\n",
       "    <tr>\n",
       "      <th>youtube_channel_reklama</th>\n",
       "      <td>24978</td>\n",
       "      <td>9.299</td>\n",
       "    </tr>\n",
       "  </tbody>\n",
       "</table>\n",
       "</div>"
      ],
      "text/plain": [
       "                         user_id  ratio\n",
       "source                                 \n",
       "facebook_ads               26131  9.586\n",
       "instagram_new_adverts      31815  9.506\n",
       "yandex_direct              45032  9.349\n",
       "youtube_channel_reklama    24978  9.299"
      ]
     },
     "execution_count": 29,
     "metadata": {},
     "output_type": "execute_result"
    }
   ],
   "source": [
    "result = get_grouped(filtered, 'user_id', 'count', dimensions=['source'])\n",
    "result['ratio'] = round(result/(profiles.groupby('source').agg({'user_id': 'nunique'})),3)\n",
    "result"
   ]
  },
  {
   "cell_type": "markdown",
   "metadata": {},
   "source": [
    "Количество построек на одного пользователя примерно одинаково для всех каналов. Для `facebook` и `instgram`, этот показатель немного выше, чем для `yandex` и `youtube`."
   ]
  },
  {
   "cell_type": "code",
   "execution_count": 30,
   "metadata": {},
   "outputs": [
    {
     "data": {
      "text/plain": [
       "array(['unknown', 'satellite_orbital_assembly'], dtype=object)"
      ]
     },
     "execution_count": 30,
     "metadata": {},
     "output_type": "execute_result"
    }
   ],
   "source": [
    "profiles['project_type'].unique() # Определение уникальных значений."
   ]
  },
  {
   "cell_type": "code",
   "execution_count": 31,
   "metadata": {},
   "outputs": [],
   "source": [
    "filtered = get_filtered(profiles, 'project_type', 'satellite_orbital_assembly')"
   ]
  },
  {
   "cell_type": "code",
   "execution_count": 32,
   "metadata": {},
   "outputs": [
    {
     "data": {
      "text/html": [
       "<div>\n",
       "<style scoped>\n",
       "    .dataframe tbody tr th:only-of-type {\n",
       "        vertical-align: middle;\n",
       "    }\n",
       "\n",
       "    .dataframe tbody tr th {\n",
       "        vertical-align: top;\n",
       "    }\n",
       "\n",
       "    .dataframe thead th {\n",
       "        text-align: right;\n",
       "    }\n",
       "</style>\n",
       "<table border=\"1\" class=\"dataframe\">\n",
       "  <thead>\n",
       "    <tr style=\"text-align: right;\">\n",
       "      <th></th>\n",
       "      <th>user_id</th>\n",
       "      <th>ratio</th>\n",
       "    </tr>\n",
       "    <tr>\n",
       "      <th>source</th>\n",
       "      <th></th>\n",
       "      <th></th>\n",
       "    </tr>\n",
       "  </thead>\n",
       "  <tbody>\n",
       "    <tr>\n",
       "      <th>facebook_ads</th>\n",
       "      <td>391</td>\n",
       "      <td>0.143</td>\n",
       "    </tr>\n",
       "    <tr>\n",
       "      <th>instagram_new_adverts</th>\n",
       "      <td>476</td>\n",
       "      <td>0.142</td>\n",
       "    </tr>\n",
       "    <tr>\n",
       "      <th>yandex_direct</th>\n",
       "      <td>620</td>\n",
       "      <td>0.129</td>\n",
       "    </tr>\n",
       "    <tr>\n",
       "      <th>youtube_channel_reklama</th>\n",
       "      <td>379</td>\n",
       "      <td>0.141</td>\n",
       "    </tr>\n",
       "  </tbody>\n",
       "</table>\n",
       "</div>"
      ],
      "text/plain": [
       "                         user_id  ratio\n",
       "source                                 \n",
       "facebook_ads                 391  0.143\n",
       "instagram_new_adverts        476  0.142\n",
       "yandex_direct                620  0.129\n",
       "youtube_channel_reklama      379  0.141"
      ]
     },
     "execution_count": 32,
     "metadata": {},
     "output_type": "execute_result"
    }
   ],
   "source": [
    "result = get_grouped(filtered, 'user_id', 'nunique', dimensions=['source'])\n",
    "result['ratio'] = round(result/(profiles.groupby('source').agg({'user_id': 'nunique'})),3)\n",
    "result"
   ]
  },
  {
   "cell_type": "markdown",
   "metadata": {},
   "source": [
    "* Наибольшее количество игроков, закончивших уровень реализацией проекта, пришли из `yandex_direct`. Наименьшее количество таких игроков пришло из `youtube` и `facebook`.\n",
    "* Однако доля игроков, закончивших уровень реализацией проекта, для канала `yandex`наименьшая и составляет 13% от общего количества игроков, пришедших в игру через этот канал. \n",
    "* Для остальных каналов эта доля составляет 14%."
   ]
  },
  {
   "cell_type": "markdown",
   "metadata": {},
   "source": [
    "## Поведение игроков и гипотезы."
   ]
  },
  {
   "cell_type": "markdown",
   "metadata": {},
   "source": [
    "- Посчитать процент удержания для каждого рекламного канала.\n",
    "- Определить зависисмость между каналом привличения пользователя и его поведением в игре:\n",
    "    - сколько построил зданий,\n",
    "    - каким способом завершил уровень,\n",
    "    - как быстро завершил уровень.\n",
    "- Проверить гипотезу: время завершения уровня различается в зависимости от способа прохождения:\n",
    "    - через реализацию проекта,\n",
    "    - через победу над первым игроком.\n",
    "- Проверить гипотезу: среднее количество построенных зданий различается в зависимости от способа прохождения:\n",
    "    - через реализацию проекта,\n",
    "    - через победу над первым игроком."
   ]
  },
  {
   "cell_type": "markdown",
   "metadata": {},
   "source": [
    "### Поведение игроков."
   ]
  },
  {
   "cell_type": "code",
   "execution_count": 33,
   "metadata": {},
   "outputs": [],
   "source": [
    "filtered = get_filtered(profiles, 'event', 'finished_stage_1')"
   ]
  },
  {
   "cell_type": "code",
   "execution_count": 34,
   "metadata": {},
   "outputs": [
    {
     "data": {
      "text/html": [
       "<div>\n",
       "<style scoped>\n",
       "    .dataframe tbody tr th:only-of-type {\n",
       "        vertical-align: middle;\n",
       "    }\n",
       "\n",
       "    .dataframe tbody tr th {\n",
       "        vertical-align: top;\n",
       "    }\n",
       "\n",
       "    .dataframe thead th {\n",
       "        text-align: right;\n",
       "    }\n",
       "</style>\n",
       "<table border=\"1\" class=\"dataframe\">\n",
       "  <thead>\n",
       "    <tr style=\"text-align: right;\">\n",
       "      <th></th>\n",
       "      <th>user_id</th>\n",
       "      <th>ratio</th>\n",
       "    </tr>\n",
       "    <tr>\n",
       "      <th>source</th>\n",
       "      <th></th>\n",
       "      <th></th>\n",
       "    </tr>\n",
       "  </thead>\n",
       "  <tbody>\n",
       "    <tr>\n",
       "      <th>facebook_ads</th>\n",
       "      <td>1150</td>\n",
       "      <td>0.422</td>\n",
       "    </tr>\n",
       "    <tr>\n",
       "      <th>instagram_new_adverts</th>\n",
       "      <td>1466</td>\n",
       "      <td>0.438</td>\n",
       "    </tr>\n",
       "    <tr>\n",
       "      <th>yandex_direct</th>\n",
       "      <td>2042</td>\n",
       "      <td>0.424</td>\n",
       "    </tr>\n",
       "    <tr>\n",
       "      <th>youtube_channel_reklama</th>\n",
       "      <td>1159</td>\n",
       "      <td>0.431</td>\n",
       "    </tr>\n",
       "  </tbody>\n",
       "</table>\n",
       "</div>"
      ],
      "text/plain": [
       "                         user_id  ratio\n",
       "source                                 \n",
       "facebook_ads                1150  0.422\n",
       "instagram_new_adverts       1466  0.438\n",
       "yandex_direct               2042  0.424\n",
       "youtube_channel_reklama     1159  0.431"
      ]
     },
     "execution_count": 34,
     "metadata": {},
     "output_type": "execute_result"
    }
   ],
   "source": [
    "result = get_grouped(filtered, 'user_id', 'nunique', dimensions=['source'])\n",
    "result['ratio'] = round(result/(profiles.groupby('source').agg({'user_id': 'nunique'})),3)\n",
    "result"
   ]
  },
  {
   "cell_type": "markdown",
   "metadata": {},
   "source": [
    "Наибольший процент удержания игроков, пришедших с каналов 'instagram' и 'youtube'. У остальных каналов процент удержания немнго меньше. В целом по всем каналам процент удержания не превышает 45."
   ]
  },
  {
   "cell_type": "code",
   "execution_count": 35,
   "metadata": {},
   "outputs": [],
   "source": [
    "filtered = get_filtered(profiles, 'event', 'building')"
   ]
  },
  {
   "cell_type": "code",
   "execution_count": 36,
   "metadata": {},
   "outputs": [
    {
     "data": {
      "text/html": [
       "<div>\n",
       "<style scoped>\n",
       "    .dataframe tbody tr th:only-of-type {\n",
       "        vertical-align: middle;\n",
       "    }\n",
       "\n",
       "    .dataframe tbody tr th {\n",
       "        vertical-align: top;\n",
       "    }\n",
       "\n",
       "    .dataframe thead th {\n",
       "        text-align: right;\n",
       "    }\n",
       "</style>\n",
       "<table border=\"1\" class=\"dataframe\">\n",
       "  <thead>\n",
       "    <tr style=\"text-align: right;\">\n",
       "      <th></th>\n",
       "      <th>user_id</th>\n",
       "      <th>ratio</th>\n",
       "    </tr>\n",
       "    <tr>\n",
       "      <th>source</th>\n",
       "      <th></th>\n",
       "      <th></th>\n",
       "    </tr>\n",
       "  </thead>\n",
       "  <tbody>\n",
       "    <tr>\n",
       "      <th>facebook_ads</th>\n",
       "      <td>26131</td>\n",
       "      <td>9.586</td>\n",
       "    </tr>\n",
       "    <tr>\n",
       "      <th>instagram_new_adverts</th>\n",
       "      <td>31815</td>\n",
       "      <td>9.506</td>\n",
       "    </tr>\n",
       "    <tr>\n",
       "      <th>yandex_direct</th>\n",
       "      <td>45032</td>\n",
       "      <td>9.349</td>\n",
       "    </tr>\n",
       "    <tr>\n",
       "      <th>youtube_channel_reklama</th>\n",
       "      <td>24978</td>\n",
       "      <td>9.299</td>\n",
       "    </tr>\n",
       "  </tbody>\n",
       "</table>\n",
       "</div>"
      ],
      "text/plain": [
       "                         user_id  ratio\n",
       "source                                 \n",
       "facebook_ads               26131  9.586\n",
       "instagram_new_adverts      31815  9.506\n",
       "yandex_direct              45032  9.349\n",
       "youtube_channel_reklama    24978  9.299"
      ]
     },
     "execution_count": 36,
     "metadata": {},
     "output_type": "execute_result"
    }
   ],
   "source": [
    "result = get_grouped(filtered, 'user_id', 'count', dimensions=['source'])\n",
    "result['ratio'] = round(result/(profiles.groupby('source').agg({'user_id': 'nunique'})),3)\n",
    "result"
   ]
  },
  {
   "cell_type": "markdown",
   "metadata": {},
   "source": [
    "* Игроки пришедшие из канала `yandex_direct`, строят больше всех зданий. Наименьшее количество построенных зданий у игроков, пришедших из `youtube`. \n",
    "* Количество построек на одного пользователя примерно одинаково для всех каналов. Для `facebook` и `instgram`, этот показатель немного выше, чем для `yandex` и `youtube`.\n",
    "\n",
    "Далее определим каким способом игроки чаще завершали уровень и для какого канала есть характерные особенности."
   ]
  },
  {
   "cell_type": "code",
   "execution_count": 37,
   "metadata": {},
   "outputs": [],
   "source": [
    "def get_users_filtered(data, column, func, dimensions=[], ignore_check=False):\n",
    "    \"\"\"\n",
    "    Функция возвращает отфильтрованный датасет по заданным параметрам с проверкой на совпадение user_id по двум критериям.\n",
    "    \"\"\"\n",
    "    result = (data[data['user_id'].isin(filtered['user_id'])]).groupby(dimensions).agg({column: func})\n",
    "    if not ignore_check:\n",
    "        result = (data[data['user_id'].isin(filtered['user_id'])])\n",
    "        inter = np.intersect1d(result.query('event == \"project\"')['user_id'].unique(), \n",
    "                       result.query('event == \"finished_stage_1\"')['user_id'].unique())\n",
    "        result = (result[~result['user_id'].isin(inter)]).groupby(dimensions).agg({column: func})\n",
    "    return result"
   ]
  },
  {
   "cell_type": "code",
   "execution_count": 38,
   "metadata": {},
   "outputs": [
    {
     "data": {
      "text/html": [
       "<div>\n",
       "<style scoped>\n",
       "    .dataframe tbody tr th:only-of-type {\n",
       "        vertical-align: middle;\n",
       "    }\n",
       "\n",
       "    .dataframe tbody tr th {\n",
       "        vertical-align: top;\n",
       "    }\n",
       "\n",
       "    .dataframe thead th {\n",
       "        text-align: right;\n",
       "    }\n",
       "</style>\n",
       "<table border=\"1\" class=\"dataframe\">\n",
       "  <thead>\n",
       "    <tr style=\"text-align: right;\">\n",
       "      <th></th>\n",
       "      <th>user_id</th>\n",
       "      <th>ratio</th>\n",
       "    </tr>\n",
       "    <tr>\n",
       "      <th>source</th>\n",
       "      <th></th>\n",
       "      <th></th>\n",
       "    </tr>\n",
       "  </thead>\n",
       "  <tbody>\n",
       "    <tr>\n",
       "      <th>facebook_ads</th>\n",
       "      <td>759</td>\n",
       "      <td>0.278</td>\n",
       "    </tr>\n",
       "    <tr>\n",
       "      <th>instagram_new_adverts</th>\n",
       "      <td>990</td>\n",
       "      <td>0.296</td>\n",
       "    </tr>\n",
       "    <tr>\n",
       "      <th>yandex_direct</th>\n",
       "      <td>1422</td>\n",
       "      <td>0.295</td>\n",
       "    </tr>\n",
       "    <tr>\n",
       "      <th>youtube_channel_reklama</th>\n",
       "      <td>780</td>\n",
       "      <td>0.290</td>\n",
       "    </tr>\n",
       "  </tbody>\n",
       "</table>\n",
       "</div>"
      ],
      "text/plain": [
       "                         user_id  ratio\n",
       "source                                 \n",
       "facebook_ads                 759  0.278\n",
       "instagram_new_adverts        990  0.296\n",
       "yandex_direct               1422  0.295\n",
       "youtube_channel_reklama      780  0.290"
      ]
     },
     "execution_count": 38,
     "metadata": {},
     "output_type": "execute_result"
    }
   ],
   "source": [
    "filtered = get_filtered(profiles, 'event', 'finished_stage_1')\n",
    "result = get_users_filtered(profiles, 'user_id', 'nunique', dimensions=['source'])\n",
    "result['ratio'] = round(result/(profiles.groupby('source').agg({'user_id': 'nunique'})),3)\n",
    "result"
   ]
  },
  {
   "cell_type": "code",
   "execution_count": 39,
   "metadata": {},
   "outputs": [
    {
     "data": {
      "text/html": [
       "<div>\n",
       "<style scoped>\n",
       "    .dataframe tbody tr th:only-of-type {\n",
       "        vertical-align: middle;\n",
       "    }\n",
       "\n",
       "    .dataframe tbody tr th {\n",
       "        vertical-align: top;\n",
       "    }\n",
       "\n",
       "    .dataframe thead th {\n",
       "        text-align: right;\n",
       "    }\n",
       "</style>\n",
       "<table border=\"1\" class=\"dataframe\">\n",
       "  <thead>\n",
       "    <tr style=\"text-align: right;\">\n",
       "      <th></th>\n",
       "      <th>user_id</th>\n",
       "      <th>ratio</th>\n",
       "    </tr>\n",
       "    <tr>\n",
       "      <th>source</th>\n",
       "      <th></th>\n",
       "      <th></th>\n",
       "    </tr>\n",
       "  </thead>\n",
       "  <tbody>\n",
       "    <tr>\n",
       "      <th>facebook_ads</th>\n",
       "      <td>391</td>\n",
       "      <td>0.143</td>\n",
       "    </tr>\n",
       "    <tr>\n",
       "      <th>instagram_new_adverts</th>\n",
       "      <td>476</td>\n",
       "      <td>0.142</td>\n",
       "    </tr>\n",
       "    <tr>\n",
       "      <th>yandex_direct</th>\n",
       "      <td>620</td>\n",
       "      <td>0.129</td>\n",
       "    </tr>\n",
       "    <tr>\n",
       "      <th>youtube_channel_reklama</th>\n",
       "      <td>379</td>\n",
       "      <td>0.141</td>\n",
       "    </tr>\n",
       "  </tbody>\n",
       "</table>\n",
       "</div>"
      ],
      "text/plain": [
       "                         user_id  ratio\n",
       "source                                 \n",
       "facebook_ads                 391  0.143\n",
       "instagram_new_adverts        476  0.142\n",
       "yandex_direct                620  0.129\n",
       "youtube_channel_reklama      379  0.141"
      ]
     },
     "execution_count": 39,
     "metadata": {},
     "output_type": "execute_result"
    }
   ],
   "source": [
    "filtered = get_filtered(profiles, 'project_type', 'satellite_orbital_assembly')\n",
    "result = get_users_filtered(profiles, 'user_id', 'nunique', dimensions=['source'], ignore_check=True)\n",
    "result['ratio'] = round(result/(profiles.groupby('source').agg({'user_id': 'nunique'})),3)\n",
    "result"
   ]
  },
  {
   "cell_type": "markdown",
   "metadata": {},
   "source": [
    "* Данные таблицы показывают число пользователей для каждого канала, завершивших уровень разными способами и какую часть они составляют от общего количества игроков для каждого канала. \n",
    "* Наибольшее количество игроков, закончивших уровень пришли из `yandex_direct`, наименьшее число игроков, закончивших уровень, пришли из канала `youtube` и `facebook`.\n",
    "\n",
    "Посмотрим на среднее количество дней, потраченных на прохождение уровня для каждого канала."
   ]
  },
  {
   "cell_type": "code",
   "execution_count": 40,
   "metadata": {
    "scrolled": false
   },
   "outputs": [],
   "source": [
    "filtered = get_filtered(profiles, 'event', 'finished_stage_1')\n",
    "result = get_users_filtered(profiles, 'day', 'nunique', dimensions=['source', 'user_id'])\n",
    "result = result.reset_index()"
   ]
  },
  {
   "cell_type": "code",
   "execution_count": 41,
   "metadata": {},
   "outputs": [
    {
     "data": {
      "image/png": "[encoded data removed]",
      "text/plain": [
       "<Figure size 1080x504 with 1 Axes>"
      ]
     },
     "metadata": {
      "needs_background": "light"
     },
     "output_type": "display_data"
    }
   ],
   "source": [
    "plt.figure(figsize=(15, 7))\n",
    "ax = sns.boxplot(x='source', y='day', data=result)\n",
    "ax.set_title('График распределения по каналам.')\n",
    "ax.set_xlabel('Каналы.')\n",
    "ax.set_ylabel('Количество дней.')\n",
    "sns.despine()"
   ]
  },
  {
   "cell_type": "markdown",
   "metadata": {},
   "source": [
    "Среднее количество дней, за которое игроки прошли уровень через победу над проитвником составляет от 6 до 9 дней."
   ]
  },
  {
   "cell_type": "code",
   "execution_count": 42,
   "metadata": {},
   "outputs": [],
   "source": [
    "filtered = get_filtered(profiles, 'project_type', 'satellite_orbital_assembly')\n",
    "result = get_users_filtered(profiles, 'day', 'nunique', dimensions=['source', 'user_id'], ignore_check=True)\n",
    "result = result.reset_index()"
   ]
  },
  {
   "cell_type": "code",
   "execution_count": 43,
   "metadata": {},
   "outputs": [
    {
     "data": {
      "image/png": "[encoded data removed]",
      "text/plain": [
       "<Figure size 1080x504 with 1 Axes>"
      ]
     },
     "metadata": {
      "needs_background": "light"
     },
     "output_type": "display_data"
    }
   ],
   "source": [
    "plt.figure(figsize=(15, 7))\n",
    "ax = sns.boxplot(x='source', y='day', data=result)\n",
    "ax.set_title('График распределения по каналам.')\n",
    "ax.set_xlabel('Каналы.')\n",
    "ax.set_ylabel('Количество дней.')\n",
    "sns.despine()"
   ]
  },
  {
   "cell_type": "markdown",
   "metadata": {},
   "source": [
    "Среднее количество дней, за которое игроки прошли уровень через реализацию проекта составляет 9-11 дней. Для канала 'youtube' данные имеют очень сильное положительное смещение. Медиана практически слилась с нижней границей первого квартиля."
   ]
  },
  {
   "cell_type": "markdown",
   "metadata": {},
   "source": [
    "### Гипотезы."
   ]
  },
  {
   "cell_type": "markdown",
   "metadata": {},
   "source": [
    "Проверить гипотезу: время завершения уровня различается в зависимости от способа прохождения:\n",
    " - через реализацию проекта,\n",
    " - через победу над первым игроком."
   ]
  },
  {
   "cell_type": "code",
   "execution_count": 44,
   "metadata": {},
   "outputs": [],
   "source": [
    "filtered = get_filtered(profiles, 'event', 'finished_stage_1')\n",
    "win = get_users_filtered(profiles, 'day', 'nunique', dimensions=['user_id'])\n",
    "win = win.reset_index()\n",
    "filtered = get_filtered(profiles, 'project_type', 'satellite_orbital_assembly')\n",
    "project = get_users_filtered(profiles, 'day', 'nunique', dimensions=['user_id'], ignore_check=True)\n",
    "project = project.reset_index()\n",
    "sample1 = project['day']\n",
    "sample2 = win['day']"
   ]
  },
  {
   "cell_type": "code",
   "execution_count": 45,
   "metadata": {},
   "outputs": [
    {
     "data": {
      "text/plain": [
       "'0.000'"
      ]
     },
     "execution_count": 45,
     "metadata": {},
     "output_type": "execute_result"
    }
   ],
   "source": [
    "# Применение критерия Манна-Уитни.\n",
    "\"{0:.3f}\".format(st.mannwhitneyu(sample1, sample2, False, 'two-sided')[1])"
   ]
  },
  {
   "cell_type": "markdown",
   "metadata": {},
   "source": [
    "Статистическая значимость достигнута. Значит время заврешения уровня зависит от способа прохождения."
   ]
  },
  {
   "cell_type": "markdown",
   "metadata": {},
   "source": [
    "Рассмотрим распределение для полученных выборок, построим гистограммы."
   ]
  },
  {
   "cell_type": "code",
   "execution_count": 46,
   "metadata": {},
   "outputs": [
    {
     "data": {
      "image/png": "[encoded data removed]",
      "text/plain": [
       "<Figure size 1080x504 with 1 Axes>"
      ]
     },
     "metadata": {
      "needs_background": "light"
     },
     "output_type": "display_data"
    }
   ],
   "source": [
    "plt.figure(figsize=(15, 7))\n",
    "ax = sns.histplot(sample1, color='red')\n",
    "ax = sns.histplot(sample2)\n",
    "ax.set_title('График распределения по скорости прохождения.')\n",
    "ax.set_xlabel('Скорость прохождения в днях.')\n",
    "ax.set_ylabel('Количество игроков.')\n",
    "sns.despine()\n",
    "plt.show()"
   ]
  },
  {
   "cell_type": "markdown",
   "metadata": {},
   "source": [
    "По полученным графикам видно, что распределение у двух выборок отличается. \n",
    "* Игроки, завершившие уровень победой над противником, тратили на прохождение в среднем от 5 до 10 дней. \n",
    "* Игроки, завершившие уровень реализацией проекта, тратили на прохождение в среднем от 8 до 11 дней."
   ]
  },
  {
   "cell_type": "markdown",
   "metadata": {},
   "source": [
    "Проверить гипотезу: среднее количество построенных зданий различается в зависимости от способа прохождения:\n",
    "\n",
    "- через реализацию проекта,\n",
    "- через победу над первым игроком.\n"
   ]
  },
  {
   "cell_type": "code",
   "execution_count": 47,
   "metadata": {},
   "outputs": [],
   "source": [
    "filtered = get_filtered(profiles, 'event', 'finished_stage_1')\n",
    "win = get_users_filtered(profiles, 'event_datetime', 'count', dimensions=['user_id', 'event'])\n",
    "win = win.reset_index()\n",
    "filtered = get_filtered(profiles, 'project_type', 'satellite_orbital_assembly')\n",
    "project = get_users_filtered(profiles, 'event_datetime', 'count', dimensions=['user_id', 'event'], ignore_check=True)\n",
    "project = project.reset_index()\n",
    "sample1 = project[project['event']=='building']['event_datetime']\n",
    "sample2 = win[win['event']=='building']['event_datetime']"
   ]
  },
  {
   "cell_type": "code",
   "execution_count": 48,
   "metadata": {},
   "outputs": [
    {
     "data": {
      "text/plain": [
       "'0.000'"
      ]
     },
     "execution_count": 48,
     "metadata": {},
     "output_type": "execute_result"
    }
   ],
   "source": [
    "# Применение критерия Манна-Уитни.\n",
    "\"{0:.3f}\".format(st.mannwhitneyu(sample1, sample2, False, 'two-sided')[1])"
   ]
  },
  {
   "cell_type": "markdown",
   "metadata": {},
   "source": [
    "Статистическая значимость достигнута. Значит среднее количество построенных зданий зависит от способа прохождения."
   ]
  },
  {
   "cell_type": "code",
   "execution_count": 49,
   "metadata": {
    "scrolled": false
   },
   "outputs": [
    {
     "data": {
      "image/png": "[encoded data removed]",
      "text/plain": [
       "<Figure size 1080x504 with 1 Axes>"
      ]
     },
     "metadata": {
      "needs_background": "light"
     },
     "output_type": "display_data"
    }
   ],
   "source": [
    "plt.figure(figsize=(15, 7))\n",
    "ax = sns.histplot(sample1, color='red')\n",
    "ax = sns.histplot(sample2)\n",
    "ax.set_title('График распределения по количеству построек.')\n",
    "ax.set_xlabel('Количество построек на игрока.')\n",
    "ax.set_ylabel('Количество игроков.')\n",
    "sns.despine()"
   ]
  },
  {
   "cell_type": "markdown",
   "metadata": {},
   "source": [
    "По полученным графикам видно, что распределение у двух выборок отличается. \n",
    "* Выборка для игроков, закончивших уровень победой над противником имеет выброс около значения 9 построек на игрока.\n",
    "* Игроки, завершившие уровень победой над противником, в среднем строили 8-13 построек на игрока.\n",
    "* Игроки, заврешившие уровень реализацией проекта, в среднем строили 10-14 построек на игрока."
   ]
  },
  {
   "cell_type": "markdown",
   "metadata": {},
   "source": [
    "## Вывод."
   ]
  },
  {
   "cell_type": "markdown",
   "metadata": {},
   "source": [
    "Был проведён анализ рекламных источников для мобильной игры \"Космические братья\".\n",
    "\n",
    "Предобработка данных позволила собрать первичную информацию и обнаружить ошибки. После чего они были исправлены, в том числе: изменён тип данных длястолбцов, хранящих информацию о датах, заполенены пропуски значением по умолчанию, обработаны дубликаты и собрана первичная статистика.\n",
    "\n",
    "Исследовательский анализ.\n",
    "* При проведении исследовательского анализа данных, был определён временной период за который собраны данные. Были изучены распределения данных в датасетах и обнаружены аномалии в данных. \n",
    "* Наибольшее количестов игроков пришло из канала `yandex_direct`, а наиболее частое действие, совершённое игроками - постройка зданий. Обнаруженая аномалия может являться следствием оишбки при заполнении таблицы или ососбенностью поведения игроков в праздничные дни с учётом проведения акций. \n",
    "* Были построены профили игроков и опредлена стоимость привлечения для каждого канала.\n",
    "\n",
    "анализ поведения пользователей.\n",
    "* Анализ поведения пользователей в зависимости от канала привлечения показал, что наибольший процент удержания игроков у каналов `instagram` и `youtube`, но в целом данный показатель для всех каналов лежит в пределах 42-43%. \n",
    "* Наибольшее количество зданий построили игроки из канала `yandex_direct`. Для этого канала также характерен наибольший процент игроков, завершивших первый уровень. \n",
    "* Количество дней, необходимое для прохождения уровня победой над противником по каждому каналу составляет 6-9 дней. А для пользователей завершивших проект и прошедших на следующий уровень этот диапозон равен 9-11 дней. \n",
    "* При проверке гипотез было обнаружено, что скорость прохождения уровня и количество построенных зданий зависит от способа прохождения. Статистическая значимость достигнута в обоих случаях.\n",
    "* Распределения выборок для обоих тестов отличаются.\n",
    "* По графикам можно увидеть, что игроки победившие первого противника, тратили на прохождение уровня, в среднем меньше дней, и строили,  в среднем меньше зданий.\n",
    "* Игроки, реализовавшие проект, тратили на прохождение уровня, в среднем больше дней и строили, в среднем больше зданий."
   ]
  },
  {
   "cell_type": "code",
   "execution_count": null,
   "metadata": {},
   "outputs": [],
   "source": []
  }
 ],
 "metadata": {
  "ExecuteTimeLog": [
   {
    "duration": 794,
    "start_time": "2022-05-18T10:57:36.125Z"
   },
   {
    "duration": 64,
    "start_time": "2022-05-18T12:37:00.201Z"
   },
   {
    "duration": 454,
    "start_time": "2022-05-18T12:37:07.427Z"
   },
   {
    "duration": 807,
    "start_time": "2022-05-18T12:37:07.883Z"
   },
   {
    "duration": 879,
    "start_time": "2022-05-18T12:41:38.670Z"
   },
   {
    "duration": 304,
    "start_time": "2022-05-18T12:43:05.248Z"
   },
   {
    "duration": 247,
    "start_time": "2022-05-18T12:43:36.368Z"
   },
   {
    "duration": 408,
    "start_time": "2022-05-18T12:48:59.158Z"
   },
   {
    "duration": 329,
    "start_time": "2022-05-18T12:48:59.568Z"
   },
   {
    "duration": 386,
    "start_time": "2022-05-18T12:49:36.907Z"
   },
   {
    "duration": 5,
    "start_time": "2022-05-18T12:50:42.508Z"
   },
   {
    "duration": 1089,
    "start_time": "2022-05-18T12:50:58.811Z"
   },
   {
    "duration": 6,
    "start_time": "2022-05-18T12:51:10.658Z"
   },
   {
    "duration": 303,
    "start_time": "2022-05-18T12:51:11.331Z"
   },
   {
    "duration": 33,
    "start_time": "2022-05-18T12:51:26.080Z"
   },
   {
    "duration": 45,
    "start_time": "2022-05-18T12:51:37.957Z"
   },
   {
    "duration": 59,
    "start_time": "2022-05-18T19:35:24.177Z"
   },
   {
    "duration": 410,
    "start_time": "2022-05-18T19:35:35.525Z"
   },
   {
    "duration": 921,
    "start_time": "2022-05-18T19:35:35.936Z"
   },
   {
    "duration": 7,
    "start_time": "2022-05-18T19:35:36.859Z"
   },
   {
    "duration": 730,
    "start_time": "2022-05-18T19:35:36.868Z"
   },
   {
    "duration": 38,
    "start_time": "2022-05-18T19:35:37.599Z"
   },
   {
    "duration": 54,
    "start_time": "2022-05-18T19:35:37.639Z"
   },
   {
    "duration": 56,
    "start_time": "2022-05-18T19:35:37.694Z"
   },
   {
    "duration": 59,
    "start_time": "2022-05-18T19:35:37.752Z"
   },
   {
    "duration": 5,
    "start_time": "2022-05-18T19:36:24.457Z"
   },
   {
    "duration": 9,
    "start_time": "2022-05-18T19:36:25.426Z"
   },
   {
    "duration": 55,
    "start_time": "2022-05-18T19:37:07.517Z"
   },
   {
    "duration": 108,
    "start_time": "2022-05-18T19:37:08.212Z"
   },
   {
    "duration": 5,
    "start_time": "2022-05-18T19:37:08.947Z"
   },
   {
    "duration": 8,
    "start_time": "2022-05-18T19:37:09.720Z"
   },
   {
    "duration": 498,
    "start_time": "2022-05-19T16:33:46.001Z"
   },
   {
    "duration": 599,
    "start_time": "2022-05-19T16:33:46.501Z"
   },
   {
    "duration": 5,
    "start_time": "2022-05-19T16:33:47.103Z"
   },
   {
    "duration": 936,
    "start_time": "2022-05-19T16:33:47.110Z"
   },
   {
    "duration": 56,
    "start_time": "2022-05-19T16:33:48.048Z"
   },
   {
    "duration": 32,
    "start_time": "2022-05-19T16:33:48.107Z"
   },
   {
    "duration": 67,
    "start_time": "2022-05-19T16:33:48.141Z"
   },
   {
    "duration": 5,
    "start_time": "2022-05-19T16:33:48.210Z"
   },
   {
    "duration": 18,
    "start_time": "2022-05-19T16:33:48.217Z"
   },
   {
    "duration": 92,
    "start_time": "2022-05-19T16:33:48.238Z"
   },
   {
    "duration": 94,
    "start_time": "2022-05-19T16:33:48.332Z"
   },
   {
    "duration": 162,
    "start_time": "2022-05-19T16:33:48.428Z"
   },
   {
    "duration": 6,
    "start_time": "2022-05-19T16:33:48.594Z"
   },
   {
    "duration": 16,
    "start_time": "2022-05-19T16:33:48.602Z"
   },
   {
    "duration": 462,
    "start_time": "2022-05-19T16:42:47.946Z"
   },
   {
    "duration": 205,
    "start_time": "2022-05-19T16:43:07.576Z"
   },
   {
    "duration": 186,
    "start_time": "2022-05-19T16:43:13.543Z"
   },
   {
    "duration": 237,
    "start_time": "2022-05-19T16:43:20.176Z"
   },
   {
    "duration": 5,
    "start_time": "2022-05-19T16:44:05.416Z"
   },
   {
    "duration": 6,
    "start_time": "2022-05-19T16:44:20.866Z"
   },
   {
    "duration": 5,
    "start_time": "2022-05-19T16:44:57.206Z"
   },
   {
    "duration": 5,
    "start_time": "2022-05-19T16:45:10.165Z"
   },
   {
    "duration": 157,
    "start_time": "2022-05-19T16:51:02.126Z"
   },
   {
    "duration": 145,
    "start_time": "2022-05-19T16:51:41.716Z"
   },
   {
    "duration": 282,
    "start_time": "2022-05-19T16:53:04.506Z"
   },
   {
    "duration": 997,
    "start_time": "2022-05-19T16:53:41.620Z"
   },
   {
    "duration": 11,
    "start_time": "2022-05-19T16:53:50.177Z"
   },
   {
    "duration": 3,
    "start_time": "2022-05-19T16:54:06.687Z"
   },
   {
    "duration": 894,
    "start_time": "2022-05-19T16:55:05.715Z"
   },
   {
    "duration": 1082,
    "start_time": "2022-05-19T16:55:18.877Z"
   },
   {
    "duration": 740,
    "start_time": "2022-05-19T16:56:39.850Z"
   },
   {
    "duration": 921,
    "start_time": "2022-05-19T16:56:54.166Z"
   },
   {
    "duration": 279,
    "start_time": "2022-05-19T16:57:28.823Z"
   },
   {
    "duration": 196,
    "start_time": "2022-05-19T16:58:13.222Z"
   },
   {
    "duration": 178,
    "start_time": "2022-05-19T16:59:42.296Z"
   },
   {
    "duration": 202,
    "start_time": "2022-05-19T17:00:15.295Z"
   },
   {
    "duration": 190,
    "start_time": "2022-05-19T17:00:22.807Z"
   },
   {
    "duration": 277,
    "start_time": "2022-05-19T17:00:33.752Z"
   },
   {
    "duration": 51059,
    "start_time": "2022-05-19T17:01:48.166Z"
   },
   {
    "duration": 198,
    "start_time": "2022-05-19T17:02:53.906Z"
   },
   {
    "duration": 1046,
    "start_time": "2022-05-19T17:07:44.694Z"
   },
   {
    "duration": 900,
    "start_time": "2022-05-19T17:08:53.652Z"
   },
   {
    "duration": 832,
    "start_time": "2022-05-19T17:09:04.787Z"
   },
   {
    "duration": 974,
    "start_time": "2022-05-19T17:09:48.628Z"
   },
   {
    "duration": 694,
    "start_time": "2022-05-19T17:10:15.296Z"
   },
   {
    "duration": 187,
    "start_time": "2022-05-19T17:10:34.039Z"
   },
   {
    "duration": 222,
    "start_time": "2022-05-19T17:11:41.587Z"
   },
   {
    "duration": 716,
    "start_time": "2022-05-19T17:15:16.601Z"
   },
   {
    "duration": 171,
    "start_time": "2022-05-19T17:15:28.714Z"
   },
   {
    "duration": 661,
    "start_time": "2022-05-19T17:16:04.727Z"
   },
   {
    "duration": 221,
    "start_time": "2022-05-19T17:16:14.189Z"
   },
   {
    "duration": 217,
    "start_time": "2022-05-19T17:16:38.889Z"
   },
   {
    "duration": 143,
    "start_time": "2022-05-19T17:18:38.157Z"
   },
   {
    "duration": 22,
    "start_time": "2022-05-19T17:18:53.541Z"
   },
   {
    "duration": 167,
    "start_time": "2022-05-19T17:19:41.482Z"
   },
   {
    "duration": 206,
    "start_time": "2022-05-19T17:44:15.279Z"
   },
   {
    "duration": 181,
    "start_time": "2022-05-19T17:44:22.587Z"
   },
   {
    "duration": 238,
    "start_time": "2022-05-19T17:44:31.965Z"
   },
   {
    "duration": 239,
    "start_time": "2022-05-19T17:44:56.819Z"
   },
   {
    "duration": 243,
    "start_time": "2022-05-19T17:45:04.375Z"
   },
   {
    "duration": 302,
    "start_time": "2022-05-19T17:45:37.843Z"
   },
   {
    "duration": 704,
    "start_time": "2022-05-19T17:45:45.680Z"
   },
   {
    "duration": 234,
    "start_time": "2022-05-19T17:45:56.230Z"
   },
   {
    "duration": 25,
    "start_time": "2022-05-19T17:54:00.681Z"
   },
   {
    "duration": 35,
    "start_time": "2022-05-19T17:54:15.350Z"
   },
   {
    "duration": 26,
    "start_time": "2022-05-19T17:55:02.819Z"
   },
   {
    "duration": 24,
    "start_time": "2022-05-19T17:56:19.378Z"
   },
   {
    "duration": 181,
    "start_time": "2022-05-19T17:56:43.673Z"
   },
   {
    "duration": 181,
    "start_time": "2022-05-19T17:56:56.070Z"
   },
   {
    "duration": 180,
    "start_time": "2022-05-19T17:57:05.651Z"
   },
   {
    "duration": 221,
    "start_time": "2022-05-19T17:57:47.460Z"
   },
   {
    "duration": 162,
    "start_time": "2022-05-19T17:58:34.429Z"
   },
   {
    "duration": 194,
    "start_time": "2022-05-19T17:58:42.316Z"
   },
   {
    "duration": 235,
    "start_time": "2022-05-19T17:59:25.650Z"
   },
   {
    "duration": 337,
    "start_time": "2022-05-19T17:59:37.603Z"
   },
   {
    "duration": 275,
    "start_time": "2022-05-19T17:59:45.119Z"
   },
   {
    "duration": 351,
    "start_time": "2022-05-19T18:02:05.830Z"
   },
   {
    "duration": 289,
    "start_time": "2022-05-19T18:02:48.698Z"
   },
   {
    "duration": 287,
    "start_time": "2022-05-19T18:03:51.622Z"
   },
   {
    "duration": 24,
    "start_time": "2022-05-19T18:05:42.449Z"
   },
   {
    "duration": 20,
    "start_time": "2022-05-19T18:05:58.360Z"
   },
   {
    "duration": 18,
    "start_time": "2022-05-19T18:06:13.079Z"
   },
   {
    "duration": 39,
    "start_time": "2022-05-19T18:19:24.140Z"
   },
   {
    "duration": 302,
    "start_time": "2022-05-19T18:19:41.262Z"
   },
   {
    "duration": 125,
    "start_time": "2022-05-19T18:40:16.548Z"
   },
   {
    "duration": 23,
    "start_time": "2022-05-19T18:40:38.810Z"
   },
   {
    "duration": 121,
    "start_time": "2022-05-19T18:41:30.449Z"
   },
   {
    "duration": 437,
    "start_time": "2022-05-19T18:44:29.784Z"
   },
   {
    "duration": 463,
    "start_time": "2022-05-19T18:44:48.837Z"
   },
   {
    "duration": 288,
    "start_time": "2022-05-19T18:44:54.109Z"
   },
   {
    "duration": 291,
    "start_time": "2022-05-19T18:45:04.310Z"
   },
   {
    "duration": 27,
    "start_time": "2022-05-19T18:47:28.050Z"
   },
   {
    "duration": 29,
    "start_time": "2022-05-19T18:47:48.672Z"
   },
   {
    "duration": 305,
    "start_time": "2022-05-19T18:47:56.370Z"
   },
   {
    "duration": 27027,
    "start_time": "2022-05-19T18:50:37.612Z"
   },
   {
    "duration": 79,
    "start_time": "2022-05-19T18:51:21.770Z"
   },
   {
    "duration": 264,
    "start_time": "2022-05-19T18:52:35.011Z"
   },
   {
    "duration": 260,
    "start_time": "2022-05-19T18:52:45.189Z"
   },
   {
    "duration": 194930,
    "start_time": "2022-05-19T18:53:36.309Z"
   },
   {
    "duration": 9842,
    "start_time": "2022-05-19T18:57:22.742Z"
   },
   {
    "duration": 19,
    "start_time": "2022-05-19T18:58:58.059Z"
   },
   {
    "duration": 207,
    "start_time": "2022-05-19T19:00:23.934Z"
   },
   {
    "duration": 215,
    "start_time": "2022-05-19T19:00:39.817Z"
   },
   {
    "duration": 243,
    "start_time": "2022-05-19T19:03:22.709Z"
   },
   {
    "duration": 271,
    "start_time": "2022-05-19T19:04:23.552Z"
   },
   {
    "duration": 196,
    "start_time": "2022-05-19T19:05:42.689Z"
   },
   {
    "duration": 249,
    "start_time": "2022-05-19T19:05:52.572Z"
   },
   {
    "duration": 19,
    "start_time": "2022-05-19T19:15:10.810Z"
   },
   {
    "duration": 166,
    "start_time": "2022-05-19T19:15:22.592Z"
   },
   {
    "duration": 16,
    "start_time": "2022-05-19T19:40:34.516Z"
   },
   {
    "duration": 17,
    "start_time": "2022-05-19T19:40:45.496Z"
   },
   {
    "duration": 76,
    "start_time": "2022-05-19T19:40:54.917Z"
   },
   {
    "duration": 4436,
    "start_time": "2022-05-19T19:43:00.983Z"
   },
   {
    "duration": 6,
    "start_time": "2022-05-19T20:01:32.660Z"
   },
   {
    "duration": 6,
    "start_time": "2022-05-19T20:02:07.336Z"
   },
   {
    "duration": 70,
    "start_time": "2022-05-19T20:02:39.360Z"
   },
   {
    "duration": 196,
    "start_time": "2022-05-19T20:02:47.519Z"
   },
   {
    "duration": 12,
    "start_time": "2022-05-19T20:03:52.953Z"
   },
   {
    "duration": 186,
    "start_time": "2022-05-19T20:05:00.399Z"
   },
   {
    "duration": 13,
    "start_time": "2022-05-19T20:05:18.085Z"
   },
   {
    "duration": 16,
    "start_time": "2022-05-19T20:05:47.427Z"
   },
   {
    "duration": 862,
    "start_time": "2022-05-19T20:10:38.658Z"
   },
   {
    "duration": 14,
    "start_time": "2022-05-19T20:12:05.846Z"
   },
   {
    "duration": 1358,
    "start_time": "2022-05-19T20:13:52.060Z"
   },
   {
    "duration": 283,
    "start_time": "2022-05-19T20:13:53.420Z"
   },
   {
    "duration": 7,
    "start_time": "2022-05-19T20:13:53.705Z"
   },
   {
    "duration": 409,
    "start_time": "2022-05-19T20:13:53.715Z"
   },
   {
    "duration": 39,
    "start_time": "2022-05-19T20:13:54.125Z"
   },
   {
    "duration": 50,
    "start_time": "2022-05-19T20:13:54.166Z"
   },
   {
    "duration": 40,
    "start_time": "2022-05-19T20:13:54.218Z"
   },
   {
    "duration": 4,
    "start_time": "2022-05-19T20:13:54.294Z"
   },
   {
    "duration": 18,
    "start_time": "2022-05-19T20:13:54.300Z"
   },
   {
    "duration": 88,
    "start_time": "2022-05-19T20:13:54.322Z"
   },
   {
    "duration": 86,
    "start_time": "2022-05-19T20:13:54.412Z"
   },
   {
    "duration": 164,
    "start_time": "2022-05-19T20:13:54.500Z"
   },
   {
    "duration": 6,
    "start_time": "2022-05-19T20:13:54.667Z"
   },
   {
    "duration": 26,
    "start_time": "2022-05-19T20:13:54.675Z"
   },
   {
    "duration": 5,
    "start_time": "2022-05-19T20:13:54.703Z"
   },
   {
    "duration": 8,
    "start_time": "2022-05-19T20:13:54.710Z"
   },
   {
    "duration": 5,
    "start_time": "2022-05-19T20:13:54.720Z"
   },
   {
    "duration": 6,
    "start_time": "2022-05-19T20:13:54.727Z"
   },
   {
    "duration": 1032,
    "start_time": "2022-05-19T20:13:54.735Z"
   },
   {
    "duration": 276,
    "start_time": "2022-05-19T20:13:55.769Z"
   },
   {
    "duration": 314,
    "start_time": "2022-05-19T20:13:56.048Z"
   },
   {
    "duration": 182,
    "start_time": "2022-05-19T20:13:56.364Z"
   },
   {
    "duration": 6,
    "start_time": "2022-05-19T20:13:56.549Z"
   },
   {
    "duration": 312,
    "start_time": "2022-05-19T20:13:56.557Z"
   },
   {
    "duration": 39,
    "start_time": "2022-05-19T20:27:35.282Z"
   },
   {
    "duration": 7,
    "start_time": "2022-05-19T20:27:48.025Z"
   },
   {
    "duration": 168,
    "start_time": "2022-05-19T20:27:49.666Z"
   },
   {
    "duration": 7,
    "start_time": "2022-05-19T20:28:15.617Z"
   },
   {
    "duration": 206,
    "start_time": "2022-05-19T20:28:17.069Z"
   },
   {
    "duration": 7,
    "start_time": "2022-05-19T20:29:49.960Z"
   },
   {
    "duration": 163,
    "start_time": "2022-05-19T20:29:50.765Z"
   },
   {
    "duration": 41,
    "start_time": "2022-05-19T20:30:17.461Z"
   },
   {
    "duration": 42,
    "start_time": "2022-05-19T20:30:36.346Z"
   },
   {
    "duration": 29,
    "start_time": "2022-05-19T20:30:45.978Z"
   },
   {
    "duration": 184,
    "start_time": "2022-05-19T20:31:07.158Z"
   },
   {
    "duration": 180,
    "start_time": "2022-05-19T20:33:04.866Z"
   },
   {
    "duration": 6,
    "start_time": "2022-05-19T20:38:40.623Z"
   },
   {
    "duration": 180,
    "start_time": "2022-05-19T20:38:42.546Z"
   },
   {
    "duration": 47,
    "start_time": "2022-05-19T20:40:46.380Z"
   },
   {
    "duration": 154,
    "start_time": "2022-05-19T20:41:06.261Z"
   },
   {
    "duration": 16,
    "start_time": "2022-05-19T20:41:13.345Z"
   },
   {
    "duration": 36,
    "start_time": "2022-05-19T20:42:39.948Z"
   },
   {
    "duration": 18,
    "start_time": "2022-05-19T20:42:53.146Z"
   },
   {
    "duration": 12,
    "start_time": "2022-05-19T20:43:02.746Z"
   },
   {
    "duration": 7,
    "start_time": "2022-05-19T20:43:58.555Z"
   },
   {
    "duration": 834,
    "start_time": "2022-05-19T20:43:59.671Z"
   },
   {
    "duration": 7,
    "start_time": "2022-05-19T20:47:36.564Z"
   },
   {
    "duration": 731,
    "start_time": "2022-05-19T20:47:37.494Z"
   },
   {
    "duration": 6,
    "start_time": "2022-05-19T20:47:57.099Z"
   },
   {
    "duration": 802,
    "start_time": "2022-05-19T20:47:57.922Z"
   },
   {
    "duration": 1356,
    "start_time": "2022-05-19T20:48:18.865Z"
   },
   {
    "duration": 282,
    "start_time": "2022-05-19T20:48:20.224Z"
   },
   {
    "duration": 6,
    "start_time": "2022-05-19T20:48:20.508Z"
   },
   {
    "duration": 424,
    "start_time": "2022-05-19T20:48:20.516Z"
   },
   {
    "duration": 57,
    "start_time": "2022-05-19T20:48:20.941Z"
   },
   {
    "duration": 32,
    "start_time": "2022-05-19T20:48:21.000Z"
   },
   {
    "duration": 68,
    "start_time": "2022-05-19T20:48:21.034Z"
   },
   {
    "duration": 5,
    "start_time": "2022-05-19T20:48:21.104Z"
   },
   {
    "duration": 16,
    "start_time": "2022-05-19T20:48:21.110Z"
   },
   {
    "duration": 101,
    "start_time": "2022-05-19T20:48:21.129Z"
   },
   {
    "duration": 86,
    "start_time": "2022-05-19T20:48:21.233Z"
   },
   {
    "duration": 145,
    "start_time": "2022-05-19T20:48:21.321Z"
   },
   {
    "duration": 5,
    "start_time": "2022-05-19T20:48:21.468Z"
   },
   {
    "duration": 23,
    "start_time": "2022-05-19T20:48:21.476Z"
   },
   {
    "duration": 8,
    "start_time": "2022-05-19T20:48:21.501Z"
   },
   {
    "duration": 7,
    "start_time": "2022-05-19T20:48:21.511Z"
   },
   {
    "duration": 6,
    "start_time": "2022-05-19T20:48:21.519Z"
   },
   {
    "duration": 9,
    "start_time": "2022-05-19T20:48:21.527Z"
   },
   {
    "duration": 1067,
    "start_time": "2022-05-19T20:48:21.538Z"
   },
   {
    "duration": 292,
    "start_time": "2022-05-19T20:48:22.608Z"
   },
   {
    "duration": 350,
    "start_time": "2022-05-19T20:48:22.902Z"
   },
   {
    "duration": 182,
    "start_time": "2022-05-19T20:48:23.254Z"
   },
   {
    "duration": 5,
    "start_time": "2022-05-19T20:48:23.438Z"
   },
   {
    "duration": 292,
    "start_time": "2022-05-19T20:48:23.445Z"
   },
   {
    "duration": 7,
    "start_time": "2022-05-19T20:48:45.106Z"
   },
   {
    "duration": 205,
    "start_time": "2022-05-19T20:48:45.910Z"
   },
   {
    "duration": 1350,
    "start_time": "2022-05-21T13:37:24.793Z"
   },
   {
    "duration": 638,
    "start_time": "2022-05-21T13:37:26.145Z"
   },
   {
    "duration": 6,
    "start_time": "2022-05-21T13:37:26.785Z"
   },
   {
    "duration": 361,
    "start_time": "2022-05-21T13:37:26.793Z"
   },
   {
    "duration": 34,
    "start_time": "2022-05-21T13:37:27.156Z"
   },
   {
    "duration": 53,
    "start_time": "2022-05-21T13:37:27.192Z"
   },
   {
    "duration": 36,
    "start_time": "2022-05-21T13:37:27.247Z"
   },
   {
    "duration": 4,
    "start_time": "2022-05-21T13:37:27.285Z"
   },
   {
    "duration": 13,
    "start_time": "2022-05-21T13:37:27.327Z"
   },
   {
    "duration": 44,
    "start_time": "2022-05-21T13:37:27.343Z"
   },
   {
    "duration": 91,
    "start_time": "2022-05-21T13:37:27.390Z"
   },
   {
    "duration": 142,
    "start_time": "2022-05-21T13:37:27.482Z"
   },
   {
    "duration": 11,
    "start_time": "2022-05-21T13:37:27.629Z"
   },
   {
    "duration": 12,
    "start_time": "2022-05-21T13:37:27.642Z"
   },
   {
    "duration": 6,
    "start_time": "2022-05-21T13:37:27.656Z"
   },
   {
    "duration": 7,
    "start_time": "2022-05-21T13:37:27.664Z"
   },
   {
    "duration": 6,
    "start_time": "2022-05-21T13:37:27.673Z"
   },
   {
    "duration": 11,
    "start_time": "2022-05-21T13:37:27.680Z"
   },
   {
    "duration": 1024,
    "start_time": "2022-05-21T13:37:27.693Z"
   },
   {
    "duration": 284,
    "start_time": "2022-05-21T13:37:28.723Z"
   },
   {
    "duration": 302,
    "start_time": "2022-05-21T13:37:29.009Z"
   },
   {
    "duration": 190,
    "start_time": "2022-05-21T13:37:29.313Z"
   },
   {
    "duration": 6,
    "start_time": "2022-05-21T13:37:29.505Z"
   },
   {
    "duration": 282,
    "start_time": "2022-05-21T13:37:29.513Z"
   },
   {
    "duration": 8,
    "start_time": "2022-05-21T13:55:11.994Z"
   },
   {
    "duration": 8,
    "start_time": "2022-05-21T13:55:45.199Z"
   },
   {
    "duration": 1399,
    "start_time": "2022-05-22T08:19:04.906Z"
   },
   {
    "duration": 752,
    "start_time": "2022-05-22T08:19:06.307Z"
   },
   {
    "duration": 5,
    "start_time": "2022-05-22T08:19:07.060Z"
   },
   {
    "duration": 381,
    "start_time": "2022-05-22T08:19:07.067Z"
   },
   {
    "duration": 33,
    "start_time": "2022-05-22T08:19:07.450Z"
   },
   {
    "duration": 55,
    "start_time": "2022-05-22T08:19:07.485Z"
   },
   {
    "duration": 34,
    "start_time": "2022-05-22T08:19:07.547Z"
   },
   {
    "duration": 4,
    "start_time": "2022-05-22T08:19:07.583Z"
   },
   {
    "duration": 13,
    "start_time": "2022-05-22T08:19:07.589Z"
   },
   {
    "duration": 72,
    "start_time": "2022-05-22T08:19:07.604Z"
   },
   {
    "duration": 78,
    "start_time": "2022-05-22T08:19:07.678Z"
   },
   {
    "duration": 135,
    "start_time": "2022-05-22T08:19:07.757Z"
   },
   {
    "duration": 5,
    "start_time": "2022-05-22T08:19:07.894Z"
   },
   {
    "duration": 24,
    "start_time": "2022-05-22T08:19:07.901Z"
   },
   {
    "duration": 16,
    "start_time": "2022-05-22T08:19:07.927Z"
   },
   {
    "duration": 25,
    "start_time": "2022-05-22T08:19:07.949Z"
   },
   {
    "duration": 1013,
    "start_time": "2022-05-22T08:19:07.976Z"
   },
   {
    "duration": 312,
    "start_time": "2022-05-22T08:19:08.991Z"
   },
   {
    "duration": 270,
    "start_time": "2022-05-22T08:19:09.305Z"
   },
   {
    "duration": 180,
    "start_time": "2022-05-22T08:19:09.576Z"
   },
   {
    "duration": 5,
    "start_time": "2022-05-22T08:19:29.155Z"
   },
   {
    "duration": 263,
    "start_time": "2022-05-22T08:41:13.388Z"
   },
   {
    "duration": 293,
    "start_time": "2022-05-22T08:41:43.406Z"
   },
   {
    "duration": 881,
    "start_time": "2022-05-22T08:42:12.586Z"
   },
   {
    "duration": 280,
    "start_time": "2022-05-22T08:42:31.244Z"
   },
   {
    "duration": 254,
    "start_time": "2022-05-22T08:48:59.266Z"
   },
   {
    "duration": 880,
    "start_time": "2022-05-22T08:49:12.628Z"
   },
   {
    "duration": 26,
    "start_time": "2022-05-22T09:02:02.672Z"
   },
   {
    "duration": 23,
    "start_time": "2022-05-22T09:02:21.683Z"
   },
   {
    "duration": 23,
    "start_time": "2022-05-22T09:02:45.262Z"
   },
   {
    "duration": 91,
    "start_time": "2022-05-22T09:03:10.322Z"
   },
   {
    "duration": 125,
    "start_time": "2022-05-22T09:03:33.436Z"
   },
   {
    "duration": 369,
    "start_time": "2022-05-22T09:04:05.392Z"
   },
   {
    "duration": 445,
    "start_time": "2022-05-22T09:13:42.064Z"
   },
   {
    "duration": 130,
    "start_time": "2022-05-22T09:17:05.836Z"
   },
   {
    "duration": 377,
    "start_time": "2022-05-22T09:17:16.791Z"
   },
   {
    "duration": 422,
    "start_time": "2022-05-22T09:28:26.381Z"
   },
   {
    "duration": 16,
    "start_time": "2022-05-22T09:30:17.251Z"
   },
   {
    "duration": 2399,
    "start_time": "2022-05-22T09:30:30.871Z"
   },
   {
    "duration": 13,
    "start_time": "2022-05-22T09:31:12.462Z"
   },
   {
    "duration": 11,
    "start_time": "2022-05-22T09:31:50.510Z"
   },
   {
    "duration": 18,
    "start_time": "2022-05-22T09:32:52.841Z"
   },
   {
    "duration": 2338,
    "start_time": "2022-05-22T09:33:00.500Z"
   },
   {
    "duration": 863,
    "start_time": "2022-05-22T09:33:18.245Z"
   },
   {
    "duration": 65,
    "start_time": "2022-05-22T09:35:41.256Z"
   },
   {
    "duration": 66,
    "start_time": "2022-05-22T09:35:46.086Z"
   },
   {
    "duration": 238,
    "start_time": "2022-05-22T09:35:54.442Z"
   },
   {
    "duration": 29,
    "start_time": "2022-05-22T09:36:14.317Z"
   },
   {
    "duration": 47,
    "start_time": "2022-05-22T09:36:43.469Z"
   },
   {
    "duration": 39,
    "start_time": "2022-05-22T09:37:00.378Z"
   },
   {
    "duration": 633,
    "start_time": "2022-05-22T09:37:04.080Z"
   },
   {
    "duration": 50,
    "start_time": "2022-05-22T09:37:22.886Z"
   },
   {
    "duration": 17,
    "start_time": "2022-05-22T09:37:52.640Z"
   },
   {
    "duration": 467,
    "start_time": "2022-05-22T09:38:15.176Z"
   },
   {
    "duration": 45,
    "start_time": "2022-05-22T09:38:50.336Z"
   },
   {
    "duration": 51,
    "start_time": "2022-05-22T09:39:25.521Z"
   },
   {
    "duration": 1000,
    "start_time": "2022-05-22T09:39:30.099Z"
   },
   {
    "duration": 61,
    "start_time": "2022-05-22T09:40:59.020Z"
   },
   {
    "duration": 275,
    "start_time": "2022-05-22T09:41:03.908Z"
   },
   {
    "duration": 21,
    "start_time": "2022-05-22T09:42:17.341Z"
   },
   {
    "duration": 24,
    "start_time": "2022-05-22T09:43:54.664Z"
   },
   {
    "duration": 49,
    "start_time": "2022-05-22T09:45:37.510Z"
   },
   {
    "duration": 395,
    "start_time": "2022-05-22T09:45:43.784Z"
   },
   {
    "duration": 118,
    "start_time": "2022-05-22T09:47:09.436Z"
   },
   {
    "duration": 342,
    "start_time": "2022-05-22T09:47:14.837Z"
   },
   {
    "duration": 71,
    "start_time": "2022-05-22T09:48:07.705Z"
   },
   {
    "duration": 905,
    "start_time": "2022-05-22T09:48:12.558Z"
   },
   {
    "duration": 941,
    "start_time": "2022-05-22T09:52:55.471Z"
   },
   {
    "duration": 127,
    "start_time": "2022-05-22T09:54:46.589Z"
   },
   {
    "duration": 332,
    "start_time": "2022-05-22T09:54:47.436Z"
   },
   {
    "duration": 138,
    "start_time": "2022-05-22T10:03:45.908Z"
   },
   {
    "duration": 132,
    "start_time": "2022-05-22T10:10:40.312Z"
   },
   {
    "duration": 430,
    "start_time": "2022-05-22T10:10:41.736Z"
   },
   {
    "duration": 125,
    "start_time": "2022-05-22T10:21:00.557Z"
   },
   {
    "duration": 290,
    "start_time": "2022-05-22T10:21:21.355Z"
   },
   {
    "duration": 382,
    "start_time": "2022-05-22T10:21:33.379Z"
   },
   {
    "duration": 221,
    "start_time": "2022-05-22T10:26:15.002Z"
   },
   {
    "duration": 265,
    "start_time": "2022-05-22T10:26:32.462Z"
   },
   {
    "duration": 36,
    "start_time": "2022-05-22T10:39:42.988Z"
   },
   {
    "duration": 22,
    "start_time": "2022-05-22T10:41:28.099Z"
   },
   {
    "duration": 111,
    "start_time": "2022-05-22T10:42:06.682Z"
   },
   {
    "duration": 109,
    "start_time": "2022-05-22T10:43:05.040Z"
   },
   {
    "duration": 160,
    "start_time": "2022-05-22T10:44:21.429Z"
   },
   {
    "duration": 68,
    "start_time": "2022-05-22T10:44:40.774Z"
   },
   {
    "duration": 12,
    "start_time": "2022-05-22T10:45:37.879Z"
   },
   {
    "duration": 13,
    "start_time": "2022-05-22T10:46:16.529Z"
   },
   {
    "duration": 4,
    "start_time": "2022-05-22T10:46:28.282Z"
   },
   {
    "duration": 9,
    "start_time": "2022-05-22T10:47:49.080Z"
   },
   {
    "duration": 860,
    "start_time": "2022-05-22T10:47:53.330Z"
   },
   {
    "duration": 1267,
    "start_time": "2022-05-22T10:48:14.292Z"
   },
   {
    "duration": 379,
    "start_time": "2022-05-22T10:48:57.838Z"
   },
   {
    "duration": 20,
    "start_time": "2022-05-22T10:49:24.951Z"
   },
   {
    "duration": 148,
    "start_time": "2022-05-22T10:49:38.837Z"
   },
   {
    "duration": 22,
    "start_time": "2022-05-22T10:49:56.683Z"
   },
   {
    "duration": 22,
    "start_time": "2022-05-22T10:50:23.107Z"
   },
   {
    "duration": 137,
    "start_time": "2022-05-22T10:50:43.218Z"
   },
   {
    "duration": 832,
    "start_time": "2022-05-22T10:51:03.928Z"
   },
   {
    "duration": 18,
    "start_time": "2022-05-22T10:51:16.228Z"
   },
   {
    "duration": 11,
    "start_time": "2022-05-22T10:53:37.209Z"
   },
   {
    "duration": 10,
    "start_time": "2022-05-22T10:53:58.367Z"
   },
   {
    "duration": 13,
    "start_time": "2022-05-22T10:54:25.767Z"
   },
   {
    "duration": 6,
    "start_time": "2022-05-22T10:55:57.947Z"
   },
   {
    "duration": 13,
    "start_time": "2022-05-22T10:56:06.096Z"
   },
   {
    "duration": 500,
    "start_time": "2022-05-22T10:56:15.807Z"
   },
   {
    "duration": 21,
    "start_time": "2022-05-22T10:56:50.367Z"
   },
   {
    "duration": 59,
    "start_time": "2022-05-22T10:57:27.717Z"
   },
   {
    "duration": 62,
    "start_time": "2022-05-22T10:57:36.609Z"
   },
   {
    "duration": 16,
    "start_time": "2022-05-22T10:57:57.455Z"
   },
   {
    "duration": 855,
    "start_time": "2022-05-22T10:58:49.937Z"
   },
   {
    "duration": 256,
    "start_time": "2022-05-22T10:58:58.188Z"
   },
   {
    "duration": 4154,
    "start_time": "2022-05-22T11:04:36.876Z"
   },
   {
    "duration": 125,
    "start_time": "2022-05-22T11:16:08.711Z"
   },
   {
    "duration": 497,
    "start_time": "2022-05-22T11:16:56.193Z"
   },
   {
    "duration": 1333,
    "start_time": "2022-05-22T11:17:22.938Z"
   },
   {
    "duration": 16,
    "start_time": "2022-05-22T11:17:43.693Z"
   },
   {
    "duration": 16,
    "start_time": "2022-05-22T11:17:50.929Z"
   },
   {
    "duration": 16,
    "start_time": "2022-05-22T11:18:22.369Z"
   },
   {
    "duration": 12,
    "start_time": "2022-05-22T11:19:26.717Z"
   },
   {
    "duration": 21,
    "start_time": "2022-05-22T11:19:32.832Z"
   },
   {
    "duration": 28,
    "start_time": "2022-05-22T11:19:57.513Z"
   },
   {
    "duration": 18,
    "start_time": "2022-05-22T11:24:07.401Z"
   },
   {
    "duration": 159,
    "start_time": "2022-05-22T11:24:11.497Z"
   },
   {
    "duration": 26,
    "start_time": "2022-05-22T11:24:21.006Z"
   },
   {
    "duration": 432,
    "start_time": "2022-05-22T11:24:29.322Z"
   },
   {
    "duration": 202,
    "start_time": "2022-05-22T11:24:45.627Z"
   },
   {
    "duration": 1005,
    "start_time": "2022-05-22T11:25:03.965Z"
   },
   {
    "duration": 159,
    "start_time": "2022-05-22T11:30:25.692Z"
   },
   {
    "duration": 185,
    "start_time": "2022-05-22T11:30:50.426Z"
   },
   {
    "duration": 170,
    "start_time": "2022-05-22T11:31:08.800Z"
   },
   {
    "duration": 176,
    "start_time": "2022-05-22T11:31:46.592Z"
   },
   {
    "duration": 200,
    "start_time": "2022-05-22T11:31:50.627Z"
   },
   {
    "duration": 182,
    "start_time": "2022-05-22T11:32:20.027Z"
   },
   {
    "duration": 166,
    "start_time": "2022-05-22T11:32:45.627Z"
   },
   {
    "duration": 184,
    "start_time": "2022-05-22T11:34:18.773Z"
   },
   {
    "duration": 1062,
    "start_time": "2022-05-22T11:34:25.087Z"
   },
   {
    "duration": 21,
    "start_time": "2022-05-22T11:34:34.268Z"
   },
   {
    "duration": 179,
    "start_time": "2022-05-22T11:37:22.765Z"
   },
   {
    "duration": 23,
    "start_time": "2022-05-22T11:37:27.484Z"
   },
   {
    "duration": 1011,
    "start_time": "2022-05-22T11:38:01.169Z"
   },
   {
    "duration": 23,
    "start_time": "2022-05-22T11:38:11.989Z"
   },
   {
    "duration": 178,
    "start_time": "2022-05-22T11:38:31.369Z"
   },
   {
    "duration": 456,
    "start_time": "2022-05-22T11:38:34.316Z"
   },
   {
    "duration": 552,
    "start_time": "2022-05-22T11:39:26.707Z"
   },
   {
    "duration": 155,
    "start_time": "2022-05-22T11:39:36.507Z"
   },
   {
    "duration": 156,
    "start_time": "2022-05-22T11:39:43.369Z"
   },
   {
    "duration": 489,
    "start_time": "2022-05-22T11:39:57.524Z"
   },
   {
    "duration": 532,
    "start_time": "2022-05-22T11:40:19.387Z"
   },
   {
    "duration": 157,
    "start_time": "2022-05-22T11:40:38.069Z"
   },
   {
    "duration": 524,
    "start_time": "2022-05-22T11:40:46.118Z"
   },
   {
    "duration": 157,
    "start_time": "2022-05-22T11:40:54.467Z"
   },
   {
    "duration": 166,
    "start_time": "2022-05-22T11:41:07.887Z"
   },
   {
    "duration": 162,
    "start_time": "2022-05-22T11:41:18.269Z"
   },
   {
    "duration": 354,
    "start_time": "2022-05-22T11:42:13.308Z"
   },
   {
    "duration": 808,
    "start_time": "2022-05-22T11:42:28.087Z"
   },
   {
    "duration": 846,
    "start_time": "2022-05-22T11:42:35.887Z"
   },
   {
    "duration": 410,
    "start_time": "2022-05-22T11:42:54.998Z"
   },
   {
    "duration": 346,
    "start_time": "2022-05-22T11:43:27.964Z"
   },
   {
    "duration": 494,
    "start_time": "2022-05-22T11:43:31.134Z"
   },
   {
    "duration": 255,
    "start_time": "2022-05-22T11:47:15.097Z"
   },
   {
    "duration": 760,
    "start_time": "2022-05-22T11:47:24.117Z"
   },
   {
    "duration": 12,
    "start_time": "2022-05-22T11:48:40.075Z"
   },
   {
    "duration": 66,
    "start_time": "2022-05-22T11:49:15.715Z"
   },
   {
    "duration": 71,
    "start_time": "2022-05-22T11:49:28.907Z"
   },
   {
    "duration": 29,
    "start_time": "2022-05-22T11:51:17.767Z"
   },
   {
    "duration": 223,
    "start_time": "2022-05-22T11:51:53.787Z"
   },
   {
    "duration": 192,
    "start_time": "2022-05-22T11:52:47.905Z"
   },
   {
    "duration": 181,
    "start_time": "2022-05-22T11:53:00.187Z"
   },
   {
    "duration": 243,
    "start_time": "2022-05-22T11:53:38.968Z"
   },
   {
    "duration": 120,
    "start_time": "2022-05-22T11:53:48.716Z"
   },
   {
    "duration": 288,
    "start_time": "2022-05-22T11:54:05.497Z"
   },
   {
    "duration": 924,
    "start_time": "2022-05-22T11:54:16.196Z"
   },
   {
    "duration": 48926,
    "start_time": "2022-05-22T11:55:37.626Z"
   },
   {
    "duration": 394415,
    "start_time": "2022-05-22T11:56:54.387Z"
   },
   {
    "duration": 6649,
    "start_time": "2022-05-22T12:03:50.383Z"
   },
   {
    "duration": 16613,
    "start_time": "2022-05-22T12:05:42.568Z"
   },
   {
    "duration": 23523,
    "start_time": "2022-05-22T12:07:55.768Z"
   },
   {
    "duration": 42,
    "start_time": "2022-05-22T12:08:34.975Z"
   },
   {
    "duration": 29,
    "start_time": "2022-05-22T12:08:43.770Z"
   },
   {
    "duration": 263,
    "start_time": "2022-05-22T12:08:50.597Z"
   },
   {
    "duration": 395,
    "start_time": "2022-05-22T12:16:58.176Z"
   },
   {
    "duration": 5518,
    "start_time": "2022-05-22T12:17:25.477Z"
   },
   {
    "duration": 43,
    "start_time": "2022-05-22T12:17:38.903Z"
   },
   {
    "duration": 12,
    "start_time": "2022-05-22T12:18:07.168Z"
   },
   {
    "duration": 3331,
    "start_time": "2022-05-22T12:18:14.524Z"
   },
   {
    "duration": 732,
    "start_time": "2022-05-22T12:18:34.624Z"
   },
   {
    "duration": 733,
    "start_time": "2022-05-22T12:19:14.104Z"
   },
   {
    "duration": 29,
    "start_time": "2022-05-22T12:19:56.426Z"
   },
   {
    "duration": 294,
    "start_time": "2022-05-22T12:20:29.974Z"
   },
   {
    "duration": 12713,
    "start_time": "2022-05-22T12:21:07.997Z"
   },
   {
    "duration": 42,
    "start_time": "2022-05-22T12:22:06.195Z"
   },
   {
    "duration": 42,
    "start_time": "2022-05-22T12:22:26.105Z"
   },
   {
    "duration": 42,
    "start_time": "2022-05-22T12:22:37.506Z"
   },
   {
    "duration": 41,
    "start_time": "2022-05-22T12:22:49.515Z"
   },
   {
    "duration": 10,
    "start_time": "2022-05-22T12:23:02.328Z"
   },
   {
    "duration": 40,
    "start_time": "2022-05-22T12:23:14.865Z"
   },
   {
    "duration": 40,
    "start_time": "2022-05-22T12:24:25.317Z"
   },
   {
    "duration": 41,
    "start_time": "2022-05-22T12:24:30.380Z"
   },
   {
    "duration": 44,
    "start_time": "2022-05-22T12:24:38.224Z"
   },
   {
    "duration": 45,
    "start_time": "2022-05-22T12:24:52.284Z"
   },
   {
    "duration": 42,
    "start_time": "2022-05-22T12:25:04.385Z"
   },
   {
    "duration": 56,
    "start_time": "2022-05-22T12:25:23.705Z"
   },
   {
    "duration": 10,
    "start_time": "2022-05-22T12:25:59.068Z"
   },
   {
    "duration": 10,
    "start_time": "2022-05-22T12:26:20.567Z"
   },
   {
    "duration": 62167,
    "start_time": "2022-05-22T12:26:37.085Z"
   },
   {
    "duration": 16876,
    "start_time": "2022-05-22T12:35:18.617Z"
   },
   {
    "duration": 158129,
    "start_time": "2022-05-22T12:42:15.016Z"
   },
   {
    "duration": 0,
    "start_time": "2022-05-22T12:44:53.147Z"
   },
   {
    "duration": 36,
    "start_time": "2022-05-22T12:46:10.170Z"
   },
   {
    "duration": 30,
    "start_time": "2022-05-22T12:46:59.596Z"
   },
   {
    "duration": 868,
    "start_time": "2022-05-22T12:48:01.741Z"
   },
   {
    "duration": 304,
    "start_time": "2022-05-22T12:48:35.970Z"
   },
   {
    "duration": 264,
    "start_time": "2022-05-22T12:48:55.670Z"
   },
   {
    "duration": 1114,
    "start_time": "2022-05-22T12:50:12.873Z"
   },
   {
    "duration": 259,
    "start_time": "2022-05-22T12:50:13.989Z"
   },
   {
    "duration": 6,
    "start_time": "2022-05-22T12:50:14.250Z"
   },
   {
    "duration": 350,
    "start_time": "2022-05-22T12:50:14.257Z"
   },
   {
    "duration": 44,
    "start_time": "2022-05-22T12:50:14.609Z"
   },
   {
    "duration": 34,
    "start_time": "2022-05-22T12:50:14.655Z"
   },
   {
    "duration": 53,
    "start_time": "2022-05-22T12:50:14.691Z"
   },
   {
    "duration": 4,
    "start_time": "2022-05-22T12:50:14.746Z"
   },
   {
    "duration": 14,
    "start_time": "2022-05-22T12:50:14.751Z"
   },
   {
    "duration": 70,
    "start_time": "2022-05-22T12:50:14.767Z"
   },
   {
    "duration": 58,
    "start_time": "2022-05-22T12:50:14.839Z"
   },
   {
    "duration": 151,
    "start_time": "2022-05-22T12:50:14.899Z"
   },
   {
    "duration": 5,
    "start_time": "2022-05-22T12:50:15.052Z"
   },
   {
    "duration": 13,
    "start_time": "2022-05-22T12:50:15.060Z"
   },
   {
    "duration": 5,
    "start_time": "2022-05-22T12:50:15.074Z"
   },
   {
    "duration": 12,
    "start_time": "2022-05-22T12:50:15.081Z"
   },
   {
    "duration": 988,
    "start_time": "2022-05-22T12:50:15.094Z"
   },
   {
    "duration": 882,
    "start_time": "2022-05-22T12:50:16.084Z"
   },
   {
    "duration": 321,
    "start_time": "2022-05-22T12:50:16.968Z"
   },
   {
    "duration": 266,
    "start_time": "2022-05-22T12:50:17.291Z"
   },
   {
    "duration": 127,
    "start_time": "2022-05-22T12:50:17.559Z"
   },
   {
    "duration": 435,
    "start_time": "2022-05-22T12:50:17.688Z"
   },
   {
    "duration": 126,
    "start_time": "2022-05-22T12:50:18.125Z"
   },
   {
    "duration": 280,
    "start_time": "2022-05-22T12:50:18.252Z"
   },
   {
    "duration": 329,
    "start_time": "2022-05-22T12:50:18.534Z"
   },
   {
    "duration": 191,
    "start_time": "2022-05-22T12:50:18.864Z"
   },
   {
    "duration": 162,
    "start_time": "2022-05-22T12:50:19.056Z"
   },
   {
    "duration": 107,
    "start_time": "2022-05-22T13:16:10.171Z"
   },
   {
    "duration": 10,
    "start_time": "2022-05-22T13:16:23.516Z"
   },
   {
    "duration": 14,
    "start_time": "2022-05-22T13:23:18.470Z"
   },
   {
    "duration": 68,
    "start_time": "2022-05-22T13:23:30.007Z"
   },
   {
    "duration": 74,
    "start_time": "2022-05-22T13:24:01.275Z"
   },
   {
    "duration": 1435,
    "start_time": "2022-05-22T13:24:59.794Z"
   },
   {
    "duration": 159,
    "start_time": "2022-05-22T13:36:22.892Z"
   },
   {
    "duration": 161,
    "start_time": "2022-05-22T13:42:00.295Z"
   },
   {
    "duration": 175,
    "start_time": "2022-05-22T13:52:03.064Z"
   },
   {
    "duration": 54,
    "start_time": "2022-05-22T14:01:24.055Z"
   },
   {
    "duration": 69,
    "start_time": "2022-05-22T14:01:33.794Z"
   },
   {
    "duration": 69,
    "start_time": "2022-05-22T14:01:53.051Z"
   },
   {
    "duration": 51,
    "start_time": "2022-05-22T14:11:31.513Z"
   },
   {
    "duration": 737,
    "start_time": "2022-05-22T14:12:15.604Z"
   },
   {
    "duration": 62,
    "start_time": "2022-05-22T14:13:56.356Z"
   },
   {
    "duration": 1190,
    "start_time": "2022-05-22T14:14:02.909Z"
   },
   {
    "duration": 614,
    "start_time": "2022-05-22T14:14:04.101Z"
   },
   {
    "duration": 5,
    "start_time": "2022-05-22T14:14:04.717Z"
   },
   {
    "duration": 323,
    "start_time": "2022-05-22T14:14:04.724Z"
   },
   {
    "duration": 34,
    "start_time": "2022-05-22T14:14:05.049Z"
   },
   {
    "duration": 45,
    "start_time": "2022-05-22T14:14:05.084Z"
   },
   {
    "duration": 29,
    "start_time": "2022-05-22T14:14:05.130Z"
   },
   {
    "duration": 4,
    "start_time": "2022-05-22T14:14:05.161Z"
   },
   {
    "duration": 12,
    "start_time": "2022-05-22T14:14:05.166Z"
   },
   {
    "duration": 74,
    "start_time": "2022-05-22T14:14:05.181Z"
   },
   {
    "duration": 72,
    "start_time": "2022-05-22T14:14:05.257Z"
   },
   {
    "duration": 125,
    "start_time": "2022-05-22T14:14:05.330Z"
   },
   {
    "duration": 5,
    "start_time": "2022-05-22T14:14:05.457Z"
   },
   {
    "duration": 12,
    "start_time": "2022-05-22T14:14:05.464Z"
   },
   {
    "duration": 4,
    "start_time": "2022-05-22T14:14:05.477Z"
   },
   {
    "duration": 4,
    "start_time": "2022-05-22T14:14:05.483Z"
   },
   {
    "duration": 1086,
    "start_time": "2022-05-22T14:14:05.489Z"
   },
   {
    "duration": 1426,
    "start_time": "2022-05-22T14:14:06.577Z"
   },
   {
    "duration": 263,
    "start_time": "2022-05-22T14:14:08.005Z"
   },
   {
    "duration": 282,
    "start_time": "2022-05-22T14:14:08.270Z"
   },
   {
    "duration": 161,
    "start_time": "2022-05-22T14:14:08.554Z"
   },
   {
    "duration": 57,
    "start_time": "2022-05-22T14:14:56.959Z"
   },
   {
    "duration": 1175,
    "start_time": "2022-05-22T14:15:03.792Z"
   },
   {
    "duration": 630,
    "start_time": "2022-05-22T14:15:04.969Z"
   },
   {
    "duration": 5,
    "start_time": "2022-05-22T14:15:05.601Z"
   },
   {
    "duration": 353,
    "start_time": "2022-05-22T14:15:05.607Z"
   },
   {
    "duration": 34,
    "start_time": "2022-05-22T14:15:05.963Z"
   },
   {
    "duration": 40,
    "start_time": "2022-05-22T14:15:05.999Z"
   },
   {
    "duration": 31,
    "start_time": "2022-05-22T14:15:06.041Z"
   },
   {
    "duration": 4,
    "start_time": "2022-05-22T14:15:06.073Z"
   },
   {
    "duration": 12,
    "start_time": "2022-05-22T14:15:06.078Z"
   },
   {
    "duration": 70,
    "start_time": "2022-05-22T14:15:06.092Z"
   },
   {
    "duration": 83,
    "start_time": "2022-05-22T14:15:06.164Z"
   },
   {
    "duration": 119,
    "start_time": "2022-05-22T14:15:06.249Z"
   },
   {
    "duration": 6,
    "start_time": "2022-05-22T14:15:06.370Z"
   },
   {
    "duration": 24,
    "start_time": "2022-05-22T14:15:06.380Z"
   },
   {
    "duration": 18,
    "start_time": "2022-05-22T14:15:06.405Z"
   },
   {
    "duration": 5,
    "start_time": "2022-05-22T14:15:06.424Z"
   },
   {
    "duration": 917,
    "start_time": "2022-05-22T14:15:06.430Z"
   },
   {
    "duration": 1405,
    "start_time": "2022-05-22T14:15:07.349Z"
   },
   {
    "duration": 272,
    "start_time": "2022-05-22T14:15:08.756Z"
   },
   {
    "duration": 304,
    "start_time": "2022-05-22T14:15:09.030Z"
   },
   {
    "duration": 163,
    "start_time": "2022-05-22T14:15:09.336Z"
   },
   {
    "duration": 167,
    "start_time": "2022-05-22T14:15:09.501Z"
   },
   {
    "duration": 315,
    "start_time": "2022-05-22T14:21:59.379Z"
   },
   {
    "duration": 276,
    "start_time": "2022-05-22T14:22:19.101Z"
   },
   {
    "duration": 237,
    "start_time": "2022-05-22T14:23:19.659Z"
   },
   {
    "duration": 84,
    "start_time": "2022-05-22T14:24:07.349Z"
   },
   {
    "duration": 382,
    "start_time": "2022-05-22T14:24:50.383Z"
   },
   {
    "duration": 189,
    "start_time": "2022-05-22T14:25:24.843Z"
   },
   {
    "duration": 219,
    "start_time": "2022-05-22T14:25:31.796Z"
   },
   {
    "duration": 373,
    "start_time": "2022-05-22T14:26:46.254Z"
   },
   {
    "duration": 373,
    "start_time": "2022-05-22T14:27:21.610Z"
   },
   {
    "duration": 397,
    "start_time": "2022-05-22T14:27:34.444Z"
   },
   {
    "duration": 111,
    "start_time": "2022-05-22T14:28:04.280Z"
   },
   {
    "duration": 457,
    "start_time": "2022-05-22T14:29:55.931Z"
   },
   {
    "duration": 397,
    "start_time": "2022-05-22T14:30:29.791Z"
   },
   {
    "duration": 383,
    "start_time": "2022-05-22T14:30:39.392Z"
   },
   {
    "duration": 337,
    "start_time": "2022-05-22T14:32:04.848Z"
   },
   {
    "duration": 355,
    "start_time": "2022-05-22T14:33:05.020Z"
   },
   {
    "duration": 482,
    "start_time": "2022-05-22T14:34:07.560Z"
   },
   {
    "duration": 430,
    "start_time": "2022-05-22T14:34:40.394Z"
   },
   {
    "duration": 383,
    "start_time": "2022-05-22T14:36:28.760Z"
   },
   {
    "duration": 1405,
    "start_time": "2022-05-22T20:09:08.066Z"
   },
   {
    "duration": 1001,
    "start_time": "2022-05-22T20:09:09.474Z"
   },
   {
    "duration": 9,
    "start_time": "2022-05-22T20:09:10.478Z"
   },
   {
    "duration": 449,
    "start_time": "2022-05-22T20:09:10.490Z"
   },
   {
    "duration": 52,
    "start_time": "2022-05-22T20:09:10.941Z"
   },
   {
    "duration": 48,
    "start_time": "2022-05-22T20:09:10.996Z"
   },
   {
    "duration": 38,
    "start_time": "2022-05-22T20:09:11.061Z"
   },
   {
    "duration": 4,
    "start_time": "2022-05-22T20:09:11.101Z"
   },
   {
    "duration": 14,
    "start_time": "2022-05-22T20:09:11.107Z"
   },
   {
    "duration": 68,
    "start_time": "2022-05-22T20:09:11.159Z"
   },
   {
    "duration": 117,
    "start_time": "2022-05-22T20:09:11.229Z"
   },
   {
    "duration": 190,
    "start_time": "2022-05-22T20:09:11.348Z"
   },
   {
    "duration": 18,
    "start_time": "2022-05-22T20:09:11.541Z"
   },
   {
    "duration": 15,
    "start_time": "2022-05-22T20:09:11.561Z"
   },
   {
    "duration": 24,
    "start_time": "2022-05-22T20:09:11.578Z"
   },
   {
    "duration": 5,
    "start_time": "2022-05-22T20:09:11.604Z"
   },
   {
    "duration": 934,
    "start_time": "2022-05-22T20:09:11.611Z"
   },
   {
    "duration": 1440,
    "start_time": "2022-05-22T20:09:12.548Z"
   },
   {
    "duration": 261,
    "start_time": "2022-05-22T20:09:13.990Z"
   },
   {
    "duration": 305,
    "start_time": "2022-05-22T20:09:14.252Z"
   },
   {
    "duration": 219,
    "start_time": "2022-05-22T20:09:14.559Z"
   },
   {
    "duration": 171,
    "start_time": "2022-05-22T20:09:14.780Z"
   },
   {
    "duration": 0,
    "start_time": "2022-05-22T20:09:14.953Z"
   },
   {
    "duration": 421,
    "start_time": "2022-05-22T20:09:33.791Z"
   },
   {
    "duration": 528,
    "start_time": "2022-05-22T20:09:39.366Z"
   },
   {
    "duration": 48,
    "start_time": "2022-05-22T20:14:09.842Z"
   },
   {
    "duration": 325,
    "start_time": "2022-05-22T20:14:26.667Z"
   },
   {
    "duration": 349,
    "start_time": "2022-05-22T20:14:44.220Z"
   },
   {
    "duration": 59,
    "start_time": "2022-05-22T20:16:02.318Z"
   },
   {
    "duration": 79,
    "start_time": "2022-05-22T20:16:10.019Z"
   },
   {
    "duration": 1142,
    "start_time": "2022-05-22T20:16:36.244Z"
   },
   {
    "duration": 276,
    "start_time": "2022-05-22T20:16:37.388Z"
   },
   {
    "duration": 5,
    "start_time": "2022-05-22T20:16:37.666Z"
   },
   {
    "duration": 428,
    "start_time": "2022-05-22T20:16:37.673Z"
   },
   {
    "duration": 33,
    "start_time": "2022-05-22T20:16:38.103Z"
   },
   {
    "duration": 54,
    "start_time": "2022-05-22T20:16:38.139Z"
   },
   {
    "duration": 37,
    "start_time": "2022-05-22T20:16:38.195Z"
   },
   {
    "duration": 5,
    "start_time": "2022-05-22T20:16:38.260Z"
   },
   {
    "duration": 24,
    "start_time": "2022-05-22T20:16:38.266Z"
   },
   {
    "duration": 49,
    "start_time": "2022-05-22T20:16:38.293Z"
   },
   {
    "duration": 67,
    "start_time": "2022-05-22T20:16:38.343Z"
   },
   {
    "duration": 136,
    "start_time": "2022-05-22T20:16:38.412Z"
   },
   {
    "duration": 10,
    "start_time": "2022-05-22T20:16:38.549Z"
   },
   {
    "duration": 12,
    "start_time": "2022-05-22T20:16:38.561Z"
   },
   {
    "duration": 5,
    "start_time": "2022-05-22T20:16:38.575Z"
   },
   {
    "duration": 4,
    "start_time": "2022-05-22T20:16:38.582Z"
   },
   {
    "duration": 975,
    "start_time": "2022-05-22T20:16:38.588Z"
   },
   {
    "duration": 1608,
    "start_time": "2022-05-22T20:16:39.565Z"
   },
   {
    "duration": 259,
    "start_time": "2022-05-22T20:16:41.175Z"
   },
   {
    "duration": 325,
    "start_time": "2022-05-22T20:16:41.436Z"
   },
   {
    "duration": 178,
    "start_time": "2022-05-22T20:16:41.763Z"
   },
   {
    "duration": 163,
    "start_time": "2022-05-22T20:16:41.942Z"
   },
   {
    "duration": 0,
    "start_time": "2022-05-22T20:16:42.106Z"
   },
   {
    "duration": 13,
    "start_time": "2022-05-22T20:19:34.824Z"
   },
   {
    "duration": 144,
    "start_time": "2022-05-22T20:19:48.142Z"
   },
   {
    "duration": 158,
    "start_time": "2022-05-22T20:23:01.431Z"
   },
   {
    "duration": 200,
    "start_time": "2022-05-22T20:24:22.825Z"
   },
   {
    "duration": 165,
    "start_time": "2022-05-22T20:27:16.043Z"
   },
   {
    "duration": 177,
    "start_time": "2022-05-22T20:28:05.713Z"
   },
   {
    "duration": 146,
    "start_time": "2022-05-22T20:33:41.289Z"
   },
   {
    "duration": 142,
    "start_time": "2022-05-22T20:36:41.779Z"
   },
   {
    "duration": 136,
    "start_time": "2022-05-22T20:37:49.480Z"
   },
   {
    "duration": 169,
    "start_time": "2022-05-22T20:46:13.168Z"
   },
   {
    "duration": 187,
    "start_time": "2022-05-22T20:46:51.989Z"
   },
   {
    "duration": 474,
    "start_time": "2022-05-22T20:50:11.694Z"
   },
   {
    "duration": 394,
    "start_time": "2022-05-22T20:51:05.092Z"
   },
   {
    "duration": 383,
    "start_time": "2022-05-22T20:51:34.603Z"
   },
   {
    "duration": 398,
    "start_time": "2022-05-22T20:51:48.593Z"
   },
   {
    "duration": 57,
    "start_time": "2022-05-22T20:53:28.257Z"
   },
   {
    "duration": 1115,
    "start_time": "2022-05-22T20:53:46.232Z"
   },
   {
    "duration": 953,
    "start_time": "2022-05-22T20:53:47.350Z"
   },
   {
    "duration": 5,
    "start_time": "2022-05-22T20:53:48.304Z"
   },
   {
    "duration": 289,
    "start_time": "2022-05-22T20:53:48.310Z"
   },
   {
    "duration": 29,
    "start_time": "2022-05-22T20:53:48.601Z"
   },
   {
    "duration": 35,
    "start_time": "2022-05-22T20:53:48.632Z"
   },
   {
    "duration": 28,
    "start_time": "2022-05-22T20:53:48.668Z"
   },
   {
    "duration": 4,
    "start_time": "2022-05-22T20:53:48.698Z"
   },
   {
    "duration": 12,
    "start_time": "2022-05-22T20:53:48.703Z"
   },
   {
    "duration": 69,
    "start_time": "2022-05-22T20:53:48.717Z"
   },
   {
    "duration": 49,
    "start_time": "2022-05-22T20:53:48.788Z"
   },
   {
    "duration": 104,
    "start_time": "2022-05-22T20:53:48.859Z"
   },
   {
    "duration": 5,
    "start_time": "2022-05-22T20:53:48.965Z"
   },
   {
    "duration": 18,
    "start_time": "2022-05-22T20:53:48.972Z"
   },
   {
    "duration": 5,
    "start_time": "2022-05-22T20:53:48.991Z"
   },
   {
    "duration": 10,
    "start_time": "2022-05-22T20:53:48.997Z"
   },
   {
    "duration": 853,
    "start_time": "2022-05-22T20:53:49.009Z"
   },
   {
    "duration": 1248,
    "start_time": "2022-05-22T20:53:49.864Z"
   },
   {
    "duration": 222,
    "start_time": "2022-05-22T20:53:51.114Z"
   },
   {
    "duration": 255,
    "start_time": "2022-05-22T20:53:51.338Z"
   },
   {
    "duration": 167,
    "start_time": "2022-05-22T20:53:51.594Z"
   },
   {
    "duration": 1115,
    "start_time": "2022-05-22T20:54:49.834Z"
   },
   {
    "duration": 970,
    "start_time": "2022-05-22T20:54:50.951Z"
   },
   {
    "duration": 5,
    "start_time": "2022-05-22T20:54:51.923Z"
   },
   {
    "duration": 319,
    "start_time": "2022-05-22T20:54:51.929Z"
   },
   {
    "duration": 34,
    "start_time": "2022-05-22T20:54:52.251Z"
   },
   {
    "duration": 27,
    "start_time": "2022-05-22T20:54:52.286Z"
   },
   {
    "duration": 47,
    "start_time": "2022-05-22T20:54:52.315Z"
   },
   {
    "duration": 4,
    "start_time": "2022-05-22T20:54:52.363Z"
   },
   {
    "duration": 12,
    "start_time": "2022-05-22T20:54:52.368Z"
   },
   {
    "duration": 37,
    "start_time": "2022-05-22T20:54:52.382Z"
   },
   {
    "duration": 81,
    "start_time": "2022-05-22T20:54:52.420Z"
   },
   {
    "duration": 118,
    "start_time": "2022-05-22T20:54:52.502Z"
   },
   {
    "duration": 5,
    "start_time": "2022-05-22T20:54:52.621Z"
   },
   {
    "duration": 14,
    "start_time": "2022-05-22T20:54:52.628Z"
   },
   {
    "duration": 4,
    "start_time": "2022-05-22T20:54:52.643Z"
   },
   {
    "duration": 4,
    "start_time": "2022-05-22T20:54:52.659Z"
   },
   {
    "duration": 811,
    "start_time": "2022-05-22T20:54:52.664Z"
   },
   {
    "duration": 1231,
    "start_time": "2022-05-22T20:54:53.476Z"
   },
   {
    "duration": 222,
    "start_time": "2022-05-22T20:54:54.709Z"
   },
   {
    "duration": 241,
    "start_time": "2022-05-22T20:54:54.933Z"
   },
   {
    "duration": 148,
    "start_time": "2022-05-22T20:54:55.175Z"
   },
   {
    "duration": 403,
    "start_time": "2022-05-22T20:54:55.325Z"
   },
   {
    "duration": 320,
    "start_time": "2022-05-22T20:54:55.729Z"
   },
   {
    "duration": 263,
    "start_time": "2022-05-22T20:59:07.135Z"
   },
   {
    "duration": 682,
    "start_time": "2022-05-22T20:59:38.153Z"
   },
   {
    "duration": 126,
    "start_time": "2022-05-22T21:00:05.445Z"
   },
   {
    "duration": 135,
    "start_time": "2022-05-22T21:00:21.828Z"
   },
   {
    "duration": 91,
    "start_time": "2022-05-22T21:01:22.569Z"
   },
   {
    "duration": 86,
    "start_time": "2022-05-22T21:04:27.281Z"
   },
   {
    "duration": 128,
    "start_time": "2022-05-22T21:05:00.589Z"
   },
   {
    "duration": 114,
    "start_time": "2022-05-22T21:05:17.181Z"
   },
   {
    "duration": 140,
    "start_time": "2022-05-22T21:05:47.945Z"
   },
   {
    "duration": 87,
    "start_time": "2022-05-22T21:06:29.315Z"
   },
   {
    "duration": 113,
    "start_time": "2022-05-22T21:07:35.622Z"
   },
   {
    "duration": 123,
    "start_time": "2022-05-22T21:07:49.196Z"
   },
   {
    "duration": 153,
    "start_time": "2022-05-22T21:08:41.553Z"
   },
   {
    "duration": 194,
    "start_time": "2022-05-22T21:09:52.269Z"
   },
   {
    "duration": 186,
    "start_time": "2022-05-22T21:10:05.908Z"
   },
   {
    "duration": 182,
    "start_time": "2022-05-22T21:10:18.239Z"
   },
   {
    "duration": 178,
    "start_time": "2022-05-22T21:17:54.075Z"
   },
   {
    "duration": 178,
    "start_time": "2022-05-22T21:21:41.629Z"
   },
   {
    "duration": 1104,
    "start_time": "2022-05-22T21:22:04.155Z"
   },
   {
    "duration": 258,
    "start_time": "2022-05-22T21:22:05.261Z"
   },
   {
    "duration": 5,
    "start_time": "2022-05-22T21:22:05.520Z"
   },
   {
    "duration": 308,
    "start_time": "2022-05-22T21:22:05.526Z"
   },
   {
    "duration": 40,
    "start_time": "2022-05-22T21:22:05.836Z"
   },
   {
    "duration": 26,
    "start_time": "2022-05-22T21:22:05.878Z"
   },
   {
    "duration": 55,
    "start_time": "2022-05-22T21:22:05.905Z"
   },
   {
    "duration": 5,
    "start_time": "2022-05-22T21:22:05.961Z"
   },
   {
    "duration": 14,
    "start_time": "2022-05-22T21:22:05.968Z"
   },
   {
    "duration": 43,
    "start_time": "2022-05-22T21:22:05.985Z"
   },
   {
    "duration": 69,
    "start_time": "2022-05-22T21:22:06.030Z"
   },
   {
    "duration": 108,
    "start_time": "2022-05-22T21:22:06.101Z"
   },
   {
    "duration": 5,
    "start_time": "2022-05-22T21:22:06.210Z"
   },
   {
    "duration": 12,
    "start_time": "2022-05-22T21:22:06.216Z"
   },
   {
    "duration": 3,
    "start_time": "2022-05-22T21:22:06.229Z"
   },
   {
    "duration": 26,
    "start_time": "2022-05-22T21:22:06.234Z"
   },
   {
    "duration": 818,
    "start_time": "2022-05-22T21:22:06.261Z"
   },
   {
    "duration": 1296,
    "start_time": "2022-05-22T21:22:07.081Z"
   },
   {
    "duration": 232,
    "start_time": "2022-05-22T21:22:08.379Z"
   },
   {
    "duration": 257,
    "start_time": "2022-05-22T21:22:08.613Z"
   },
   {
    "duration": 157,
    "start_time": "2022-05-22T21:22:08.872Z"
   },
   {
    "duration": 346,
    "start_time": "2022-05-22T21:22:09.030Z"
   },
   {
    "duration": 0,
    "start_time": "2022-05-22T21:22:09.377Z"
   },
   {
    "duration": 178,
    "start_time": "2022-05-22T21:22:59.285Z"
   },
   {
    "duration": 253,
    "start_time": "2022-05-22T21:23:15.047Z"
   },
   {
    "duration": 1074,
    "start_time": "2022-05-22T21:23:33.451Z"
   },
   {
    "duration": 241,
    "start_time": "2022-05-22T21:23:34.527Z"
   },
   {
    "duration": 6,
    "start_time": "2022-05-22T21:23:34.771Z"
   },
   {
    "duration": 288,
    "start_time": "2022-05-22T21:23:34.779Z"
   },
   {
    "duration": 31,
    "start_time": "2022-05-22T21:23:35.069Z"
   },
   {
    "duration": 24,
    "start_time": "2022-05-22T21:23:35.101Z"
   },
   {
    "duration": 47,
    "start_time": "2022-05-22T21:23:35.126Z"
   },
   {
    "duration": 3,
    "start_time": "2022-05-22T21:23:35.174Z"
   },
   {
    "duration": 13,
    "start_time": "2022-05-22T21:23:35.178Z"
   },
   {
    "duration": 45,
    "start_time": "2022-05-22T21:23:35.192Z"
   },
   {
    "duration": 51,
    "start_time": "2022-05-22T21:23:35.259Z"
   },
   {
    "duration": 120,
    "start_time": "2022-05-22T21:23:35.312Z"
   },
   {
    "duration": 5,
    "start_time": "2022-05-22T21:23:35.433Z"
   },
   {
    "duration": 52,
    "start_time": "2022-05-22T21:23:35.440Z"
   },
   {
    "duration": 35,
    "start_time": "2022-05-22T21:23:35.494Z"
   },
   {
    "duration": 9,
    "start_time": "2022-05-22T21:23:35.531Z"
   },
   {
    "duration": 838,
    "start_time": "2022-05-22T21:23:35.541Z"
   },
   {
    "duration": 1232,
    "start_time": "2022-05-22T21:23:36.381Z"
   },
   {
    "duration": 270,
    "start_time": "2022-05-22T21:23:37.615Z"
   },
   {
    "duration": 249,
    "start_time": "2022-05-22T21:23:37.887Z"
   },
   {
    "duration": 141,
    "start_time": "2022-05-22T21:23:38.138Z"
   },
   {
    "duration": 258,
    "start_time": "2022-05-22T21:23:38.280Z"
   },
   {
    "duration": 319,
    "start_time": "2022-05-22T21:23:38.540Z"
   },
   {
    "duration": 238,
    "start_time": "2022-05-22T21:24:06.571Z"
   },
   {
    "duration": 271,
    "start_time": "2022-05-22T21:24:37.742Z"
   },
   {
    "duration": 388,
    "start_time": "2022-05-22T21:25:09.093Z"
   },
   {
    "duration": 251,
    "start_time": "2022-05-22T21:25:23.541Z"
   },
   {
    "duration": 1051,
    "start_time": "2022-05-22T21:26:58.616Z"
   },
   {
    "duration": 927,
    "start_time": "2022-05-22T21:26:59.669Z"
   },
   {
    "duration": 5,
    "start_time": "2022-05-22T21:27:00.597Z"
   },
   {
    "duration": 320,
    "start_time": "2022-05-22T21:27:00.603Z"
   },
   {
    "duration": 44,
    "start_time": "2022-05-22T21:27:00.925Z"
   },
   {
    "duration": 28,
    "start_time": "2022-05-22T21:27:00.970Z"
   },
   {
    "duration": 60,
    "start_time": "2022-05-22T21:27:00.999Z"
   },
   {
    "duration": 4,
    "start_time": "2022-05-22T21:27:01.060Z"
   },
   {
    "duration": 22,
    "start_time": "2022-05-22T21:27:01.065Z"
   },
   {
    "duration": 43,
    "start_time": "2022-05-22T21:27:01.088Z"
   },
   {
    "duration": 78,
    "start_time": "2022-05-22T21:27:01.132Z"
   },
   {
    "duration": 116,
    "start_time": "2022-05-22T21:27:01.212Z"
   },
   {
    "duration": 5,
    "start_time": "2022-05-22T21:27:01.329Z"
   },
   {
    "duration": 25,
    "start_time": "2022-05-22T21:27:01.338Z"
   },
   {
    "duration": 5,
    "start_time": "2022-05-22T21:27:01.365Z"
   },
   {
    "duration": 25,
    "start_time": "2022-05-22T21:27:01.372Z"
   },
   {
    "duration": 865,
    "start_time": "2022-05-22T21:27:01.399Z"
   },
   {
    "duration": 1222,
    "start_time": "2022-05-22T21:27:02.265Z"
   },
   {
    "duration": 229,
    "start_time": "2022-05-22T21:27:03.488Z"
   },
   {
    "duration": 242,
    "start_time": "2022-05-22T21:27:03.719Z"
   },
   {
    "duration": 144,
    "start_time": "2022-05-22T21:27:03.963Z"
   },
   {
    "duration": 499,
    "start_time": "2022-05-22T21:27:04.108Z"
   },
   {
    "duration": 344,
    "start_time": "2022-05-22T21:27:04.608Z"
   },
   {
    "duration": 257,
    "start_time": "2022-05-22T21:28:48.798Z"
   },
   {
    "duration": 158,
    "start_time": "2022-05-22T21:29:11.257Z"
   },
   {
    "duration": 12,
    "start_time": "2022-05-22T21:32:30.076Z"
   },
   {
    "duration": 75,
    "start_time": "2022-05-22T21:34:53.368Z"
   },
   {
    "duration": 159,
    "start_time": "2022-05-22T21:35:14.572Z"
   },
   {
    "duration": 152,
    "start_time": "2022-05-22T21:35:38.037Z"
   },
   {
    "duration": 24,
    "start_time": "2022-05-22T21:36:15.747Z"
   },
   {
    "duration": 26,
    "start_time": "2022-05-22T21:36:39.488Z"
   },
   {
    "duration": 120,
    "start_time": "2022-05-22T21:37:24.847Z"
   },
   {
    "duration": 87,
    "start_time": "2022-05-22T21:37:56.140Z"
   },
   {
    "duration": 105,
    "start_time": "2022-05-22T21:38:29.227Z"
   },
   {
    "duration": 83,
    "start_time": "2022-05-22T21:39:11.088Z"
   },
   {
    "duration": 83,
    "start_time": "2022-05-22T21:40:18.856Z"
   },
   {
    "duration": 90,
    "start_time": "2022-05-22T21:40:29.500Z"
   },
   {
    "duration": 98,
    "start_time": "2022-05-22T21:41:34.536Z"
   },
   {
    "duration": 69,
    "start_time": "2022-05-22T21:41:41.937Z"
   },
   {
    "duration": 13,
    "start_time": "2022-05-22T21:42:15.806Z"
   },
   {
    "duration": 17,
    "start_time": "2022-05-22T21:42:56.437Z"
   },
   {
    "duration": 31,
    "start_time": "2022-05-22T21:43:57.486Z"
   },
   {
    "duration": 60,
    "start_time": "2022-05-22T21:44:10.137Z"
   },
   {
    "duration": 57,
    "start_time": "2022-05-22T21:44:42.347Z"
   },
   {
    "duration": 31,
    "start_time": "2022-05-22T21:45:49.486Z"
   },
   {
    "duration": 60,
    "start_time": "2022-05-22T21:46:03.400Z"
   },
   {
    "duration": 19,
    "start_time": "2022-05-22T21:49:21.849Z"
   },
   {
    "duration": 18,
    "start_time": "2022-05-22T21:50:10.036Z"
   },
   {
    "duration": 12,
    "start_time": "2022-05-22T21:50:34.060Z"
   },
   {
    "duration": 9,
    "start_time": "2022-05-22T21:51:54.735Z"
   },
   {
    "duration": 10,
    "start_time": "2022-05-22T21:52:00.656Z"
   },
   {
    "duration": 10,
    "start_time": "2022-05-22T21:52:15.093Z"
   },
   {
    "duration": 13,
    "start_time": "2022-05-22T21:53:32.953Z"
   },
   {
    "duration": 121,
    "start_time": "2022-05-22T22:16:06.595Z"
   },
   {
    "duration": 62,
    "start_time": "2022-05-22T22:16:13.286Z"
   },
   {
    "duration": 11,
    "start_time": "2022-05-22T22:16:18.030Z"
   },
   {
    "duration": 12,
    "start_time": "2022-05-22T22:16:20.649Z"
   },
   {
    "duration": 100,
    "start_time": "2022-05-22T22:49:37.084Z"
   },
   {
    "duration": 93,
    "start_time": "2022-05-22T22:49:47.373Z"
   },
   {
    "duration": 101,
    "start_time": "2022-05-22T22:50:34.989Z"
   },
   {
    "duration": 111,
    "start_time": "2022-05-22T22:50:46.446Z"
   },
   {
    "duration": 115,
    "start_time": "2022-05-22T22:52:46.258Z"
   },
   {
    "duration": 112,
    "start_time": "2022-05-22T22:53:20.029Z"
   },
   {
    "duration": 117,
    "start_time": "2022-05-22T22:53:32.849Z"
   },
   {
    "duration": 182,
    "start_time": "2022-05-22T22:58:55.521Z"
   },
   {
    "duration": 197,
    "start_time": "2022-05-22T23:00:39.022Z"
   },
   {
    "duration": 200,
    "start_time": "2022-05-22T23:05:20.643Z"
   },
   {
    "duration": 12,
    "start_time": "2022-05-22T23:08:07.918Z"
   },
   {
    "duration": 13,
    "start_time": "2022-05-22T23:08:27.899Z"
   },
   {
    "duration": 21584,
    "start_time": "2022-05-22T23:08:36.820Z"
   },
   {
    "duration": 255282,
    "start_time": "2022-05-22T23:12:47.930Z"
   },
   {
    "duration": 896,
    "start_time": "2022-05-22T23:17:18.892Z"
   },
   {
    "duration": 180,
    "start_time": "2022-05-22T23:18:27.690Z"
   },
   {
    "duration": 259,
    "start_time": "2022-05-22T23:21:05.880Z"
   },
   {
    "duration": 161,
    "start_time": "2022-05-22T23:21:28.770Z"
   },
   {
    "duration": 147,
    "start_time": "2022-05-22T23:24:32.541Z"
   },
   {
    "duration": 355,
    "start_time": "2022-05-22T23:24:52.362Z"
   },
   {
    "duration": 234,
    "start_time": "2022-05-22T23:25:54.939Z"
   },
   {
    "duration": 132,
    "start_time": "2022-05-22T23:27:32.381Z"
   },
   {
    "duration": 132,
    "start_time": "2022-05-22T23:28:12.530Z"
   },
   {
    "duration": 985,
    "start_time": "2022-05-22T23:28:44.531Z"
   },
   {
    "duration": 10,
    "start_time": "2022-05-22T23:37:54.881Z"
   },
   {
    "duration": 133,
    "start_time": "2022-05-22T23:39:28.054Z"
   },
   {
    "duration": 13,
    "start_time": "2022-05-22T23:40:40.495Z"
   },
   {
    "duration": 18,
    "start_time": "2022-05-22T23:40:48.251Z"
   },
   {
    "duration": 221,
    "start_time": "2022-05-22T23:42:37.682Z"
   },
   {
    "duration": 114,
    "start_time": "2022-05-22T23:45:57.891Z"
   },
   {
    "duration": 109,
    "start_time": "2022-05-22T23:47:40.591Z"
   },
   {
    "duration": 31,
    "start_time": "2022-05-22T23:49:02.888Z"
   },
   {
    "duration": 122,
    "start_time": "2022-05-22T23:49:27.908Z"
   },
   {
    "duration": 28,
    "start_time": "2022-05-22T23:49:48.450Z"
   },
   {
    "duration": 64,
    "start_time": "2022-05-22T23:51:40.540Z"
   },
   {
    "duration": 8,
    "start_time": "2022-05-22T23:52:40.049Z"
   },
   {
    "duration": 74,
    "start_time": "2022-05-22T23:52:51.446Z"
   },
   {
    "duration": 9,
    "start_time": "2022-05-22T23:52:58.739Z"
   },
   {
    "duration": 9,
    "start_time": "2022-05-22T23:53:08.709Z"
   },
   {
    "duration": 114,
    "start_time": "2022-05-22T23:53:52.217Z"
   },
   {
    "duration": 28,
    "start_time": "2022-05-22T23:53:54.729Z"
   },
   {
    "duration": 111,
    "start_time": "2022-05-22T23:54:03.570Z"
   },
   {
    "duration": 16,
    "start_time": "2022-05-22T23:54:11.065Z"
   },
   {
    "duration": 16,
    "start_time": "2022-05-22T23:54:24.540Z"
   },
   {
    "duration": 19,
    "start_time": "2022-05-22T23:58:00.049Z"
   },
   {
    "duration": 19,
    "start_time": "2022-05-22T23:58:28.108Z"
   },
   {
    "duration": 27,
    "start_time": "2022-05-22T23:59:53.168Z"
   },
   {
    "duration": 58,
    "start_time": "2022-05-23T00:00:35.614Z"
   },
   {
    "duration": 22,
    "start_time": "2022-05-23T00:02:03.408Z"
   },
   {
    "duration": 24,
    "start_time": "2022-05-23T00:03:28.229Z"
   },
   {
    "duration": 126,
    "start_time": "2022-05-23T00:05:07.988Z"
   },
   {
    "duration": 130,
    "start_time": "2022-05-23T00:05:33.745Z"
   },
   {
    "duration": 15,
    "start_time": "2022-05-23T00:07:59.789Z"
   },
   {
    "duration": 15,
    "start_time": "2022-05-23T00:08:24.368Z"
   },
   {
    "duration": 16,
    "start_time": "2022-05-23T00:14:22.328Z"
   },
   {
    "duration": 17,
    "start_time": "2022-05-23T00:15:08.159Z"
   },
   {
    "duration": 17,
    "start_time": "2022-05-23T00:15:27.688Z"
   },
   {
    "duration": 1390,
    "start_time": "2022-05-23T09:30:28.880Z"
   },
   {
    "duration": 631,
    "start_time": "2022-05-23T09:30:30.272Z"
   },
   {
    "duration": 6,
    "start_time": "2022-05-23T09:30:30.904Z"
   },
   {
    "duration": 354,
    "start_time": "2022-05-23T09:30:30.912Z"
   },
   {
    "duration": 35,
    "start_time": "2022-05-23T09:30:31.267Z"
   },
   {
    "duration": 51,
    "start_time": "2022-05-23T09:30:31.304Z"
   },
   {
    "duration": 79,
    "start_time": "2022-05-23T09:30:31.357Z"
   },
   {
    "duration": 6,
    "start_time": "2022-05-23T09:30:31.438Z"
   },
   {
    "duration": 24,
    "start_time": "2022-05-23T09:30:31.446Z"
   },
   {
    "duration": 66,
    "start_time": "2022-05-23T09:30:31.473Z"
   },
   {
    "duration": 62,
    "start_time": "2022-05-23T09:30:31.542Z"
   },
   {
    "duration": 154,
    "start_time": "2022-05-23T09:30:31.626Z"
   },
   {
    "duration": 6,
    "start_time": "2022-05-23T09:30:31.782Z"
   },
   {
    "duration": 41,
    "start_time": "2022-05-23T09:30:31.789Z"
   },
   {
    "duration": 8,
    "start_time": "2022-05-23T09:30:31.833Z"
   },
   {
    "duration": 14,
    "start_time": "2022-05-23T09:30:31.843Z"
   },
   {
    "duration": 1073,
    "start_time": "2022-05-23T09:30:31.859Z"
   },
   {
    "duration": 1434,
    "start_time": "2022-05-23T09:30:32.934Z"
   },
   {
    "duration": 267,
    "start_time": "2022-05-23T09:30:34.370Z"
   },
   {
    "duration": 257,
    "start_time": "2022-05-23T09:30:34.639Z"
   },
   {
    "duration": 180,
    "start_time": "2022-05-23T09:30:34.899Z"
   },
   {
    "duration": 14,
    "start_time": "2022-05-23T09:30:35.080Z"
   },
   {
    "duration": 155,
    "start_time": "2022-05-23T09:30:35.095Z"
   },
   {
    "duration": 84,
    "start_time": "2022-05-23T09:30:35.251Z"
   },
   {
    "duration": 10,
    "start_time": "2022-05-23T09:30:35.338Z"
   },
   {
    "duration": 14,
    "start_time": "2022-05-23T09:30:35.351Z"
   },
   {
    "duration": 266,
    "start_time": "2022-05-23T09:30:35.367Z"
   },
   {
    "duration": 128,
    "start_time": "2022-05-23T09:30:35.638Z"
   },
   {
    "duration": 30,
    "start_time": "2022-05-23T09:30:35.768Z"
   },
   {
    "duration": 35,
    "start_time": "2022-05-23T09:30:35.799Z"
   },
   {
    "duration": 31,
    "start_time": "2022-05-23T09:56:12.272Z"
   },
   {
    "duration": 18,
    "start_time": "2022-05-23T09:56:30.072Z"
   },
   {
    "duration": 69,
    "start_time": "2022-05-23T09:58:40.690Z"
   },
   {
    "duration": 178,
    "start_time": "2022-05-23T09:59:14.296Z"
   },
   {
    "duration": 90,
    "start_time": "2022-05-23T09:59:36.091Z"
   },
   {
    "duration": 172,
    "start_time": "2022-05-23T09:59:44.910Z"
   },
   {
    "duration": 29,
    "start_time": "2022-05-23T10:05:17.479Z"
   },
   {
    "duration": 62,
    "start_time": "2022-05-23T10:05:47.619Z"
   },
   {
    "duration": 40,
    "start_time": "2022-05-23T10:06:04.570Z"
   },
   {
    "duration": 147,
    "start_time": "2022-05-23T10:06:14.650Z"
   },
   {
    "duration": 35,
    "start_time": "2022-05-23T10:06:21.960Z"
   },
   {
    "duration": 142,
    "start_time": "2022-05-23T10:20:28.361Z"
   },
   {
    "duration": 88,
    "start_time": "2022-05-23T10:20:53.559Z"
   },
   {
    "duration": 87,
    "start_time": "2022-05-23T10:22:00.691Z"
   },
   {
    "duration": 177,
    "start_time": "2022-05-23T10:23:02.363Z"
   },
   {
    "duration": 174,
    "start_time": "2022-05-23T10:23:19.766Z"
   },
   {
    "duration": 25,
    "start_time": "2022-05-23T10:25:15.541Z"
   },
   {
    "duration": 1111,
    "start_time": "2022-05-23T10:26:32.983Z"
   },
   {
    "duration": 256,
    "start_time": "2022-05-23T10:26:34.096Z"
   },
   {
    "duration": 6,
    "start_time": "2022-05-23T10:26:34.353Z"
   },
   {
    "duration": 329,
    "start_time": "2022-05-23T10:26:34.361Z"
   },
   {
    "duration": 50,
    "start_time": "2022-05-23T10:26:34.692Z"
   },
   {
    "duration": 22,
    "start_time": "2022-05-23T10:26:34.743Z"
   },
   {
    "duration": 32,
    "start_time": "2022-05-23T10:26:34.767Z"
   },
   {
    "duration": 52,
    "start_time": "2022-05-23T10:26:34.801Z"
   },
   {
    "duration": 4,
    "start_time": "2022-05-23T10:26:34.854Z"
   },
   {
    "duration": 13,
    "start_time": "2022-05-23T10:26:34.860Z"
   },
   {
    "duration": 76,
    "start_time": "2022-05-23T10:26:34.874Z"
   },
   {
    "duration": 58,
    "start_time": "2022-05-23T10:26:34.951Z"
   },
   {
    "duration": 138,
    "start_time": "2022-05-23T10:26:35.028Z"
   },
   {
    "duration": 5,
    "start_time": "2022-05-23T10:26:35.170Z"
   },
   {
    "duration": 12,
    "start_time": "2022-05-23T10:26:35.177Z"
   },
   {
    "duration": 4,
    "start_time": "2022-05-23T10:26:35.191Z"
   },
   {
    "duration": 36,
    "start_time": "2022-05-23T10:26:35.197Z"
   },
   {
    "duration": 969,
    "start_time": "2022-05-23T10:26:35.239Z"
   },
   {
    "duration": 1701,
    "start_time": "2022-05-23T10:26:36.210Z"
   },
   {
    "duration": 284,
    "start_time": "2022-05-23T10:26:37.913Z"
   },
   {
    "duration": 310,
    "start_time": "2022-05-23T10:26:38.198Z"
   },
   {
    "duration": 169,
    "start_time": "2022-05-23T10:26:38.510Z"
   },
   {
    "duration": 14,
    "start_time": "2022-05-23T10:26:38.680Z"
   },
   {
    "duration": 157,
    "start_time": "2022-05-23T10:26:38.696Z"
   },
   {
    "duration": 92,
    "start_time": "2022-05-23T10:26:38.854Z"
   },
   {
    "duration": 12,
    "start_time": "2022-05-23T10:26:38.948Z"
   },
   {
    "duration": 26,
    "start_time": "2022-05-23T10:26:38.962Z"
   },
   {
    "duration": 288,
    "start_time": "2022-05-23T10:26:38.990Z"
   },
   {
    "duration": 167,
    "start_time": "2022-05-23T10:26:39.280Z"
   },
   {
    "duration": 44,
    "start_time": "2022-05-23T10:26:39.449Z"
   },
   {
    "duration": 44,
    "start_time": "2022-05-23T10:26:39.495Z"
   },
   {
    "duration": 65,
    "start_time": "2022-05-23T10:26:39.541Z"
   },
   {
    "duration": 21,
    "start_time": "2022-05-23T10:27:11.143Z"
   },
   {
    "duration": 172,
    "start_time": "2022-05-23T10:27:49.152Z"
   },
   {
    "duration": 24,
    "start_time": "2022-05-23T10:28:58.680Z"
   },
   {
    "duration": 67,
    "start_time": "2022-05-23T10:29:36.667Z"
   },
   {
    "duration": 25,
    "start_time": "2022-05-23T10:29:46.812Z"
   },
   {
    "duration": 39,
    "start_time": "2022-05-23T10:30:39.073Z"
   },
   {
    "duration": 1142,
    "start_time": "2022-05-23T10:32:00.349Z"
   },
   {
    "duration": 276,
    "start_time": "2022-05-23T10:32:01.493Z"
   },
   {
    "duration": 5,
    "start_time": "2022-05-23T10:32:01.770Z"
   },
   {
    "duration": 414,
    "start_time": "2022-05-23T10:32:01.777Z"
   },
   {
    "duration": 3,
    "start_time": "2022-05-23T10:32:02.193Z"
   },
   {
    "duration": 62,
    "start_time": "2022-05-23T10:32:02.197Z"
   },
   {
    "duration": 37,
    "start_time": "2022-05-23T10:32:02.261Z"
   },
   {
    "duration": 62,
    "start_time": "2022-05-23T10:32:02.300Z"
   },
   {
    "duration": 5,
    "start_time": "2022-05-23T10:32:02.364Z"
   },
   {
    "duration": 19,
    "start_time": "2022-05-23T10:32:02.372Z"
   },
   {
    "duration": 87,
    "start_time": "2022-05-23T10:32:02.393Z"
   },
   {
    "duration": 100,
    "start_time": "2022-05-23T10:32:02.481Z"
   },
   {
    "duration": 172,
    "start_time": "2022-05-23T10:32:02.583Z"
   },
   {
    "duration": 6,
    "start_time": "2022-05-23T10:32:02.757Z"
   },
   {
    "duration": 28,
    "start_time": "2022-05-23T10:32:02.765Z"
   },
   {
    "duration": 16,
    "start_time": "2022-05-23T10:32:02.795Z"
   },
   {
    "duration": 32,
    "start_time": "2022-05-23T10:32:02.813Z"
   },
   {
    "duration": 1117,
    "start_time": "2022-05-23T10:32:02.848Z"
   },
   {
    "duration": 1543,
    "start_time": "2022-05-23T10:32:03.967Z"
   },
   {
    "duration": 303,
    "start_time": "2022-05-23T10:32:05.513Z"
   },
   {
    "duration": 317,
    "start_time": "2022-05-23T10:32:05.818Z"
   },
   {
    "duration": 161,
    "start_time": "2022-05-23T10:32:06.138Z"
   },
   {
    "duration": 24,
    "start_time": "2022-05-23T10:32:06.301Z"
   },
   {
    "duration": 157,
    "start_time": "2022-05-23T10:32:06.328Z"
   },
   {
    "duration": 95,
    "start_time": "2022-05-23T10:32:06.487Z"
   },
   {
    "duration": 10,
    "start_time": "2022-05-23T10:32:06.587Z"
   },
   {
    "duration": 35,
    "start_time": "2022-05-23T10:32:06.599Z"
   },
   {
    "duration": 280,
    "start_time": "2022-05-23T10:32:06.638Z"
   },
   {
    "duration": 86,
    "start_time": "2022-05-23T10:32:06.919Z"
   },
   {
    "duration": 33,
    "start_time": "2022-05-23T10:32:07.007Z"
   },
   {
    "duration": 14,
    "start_time": "2022-05-23T10:32:07.042Z"
   },
   {
    "duration": 14,
    "start_time": "2022-05-23T10:32:07.058Z"
   },
   {
    "duration": 148,
    "start_time": "2022-05-23T10:33:07.086Z"
   },
   {
    "duration": 44,
    "start_time": "2022-05-23T10:33:12.602Z"
   },
   {
    "duration": 1059,
    "start_time": "2022-05-23T10:34:35.408Z"
   },
   {
    "duration": 34,
    "start_time": "2022-05-23T10:34:45.649Z"
   },
   {
    "duration": 32,
    "start_time": "2022-05-23T10:35:14.704Z"
   },
   {
    "duration": 32,
    "start_time": "2022-05-23T10:36:14.057Z"
   },
   {
    "duration": 56,
    "start_time": "2022-05-23T10:36:38.983Z"
   },
   {
    "duration": 31,
    "start_time": "2022-05-23T10:37:37.608Z"
   },
   {
    "duration": 17,
    "start_time": "2022-05-23T10:37:48.590Z"
   },
   {
    "duration": 90,
    "start_time": "2022-05-23T10:38:15.779Z"
   },
   {
    "duration": 13,
    "start_time": "2022-05-23T10:41:43.130Z"
   },
   {
    "duration": 24,
    "start_time": "2022-05-23T10:44:18.059Z"
   },
   {
    "duration": 95,
    "start_time": "2022-05-23T10:45:04.009Z"
   },
   {
    "duration": 1262,
    "start_time": "2022-05-23T10:45:49.704Z"
   },
   {
    "duration": 250,
    "start_time": "2022-05-23T10:45:50.968Z"
   },
   {
    "duration": 8,
    "start_time": "2022-05-23T10:45:51.219Z"
   },
   {
    "duration": 374,
    "start_time": "2022-05-23T10:45:51.230Z"
   },
   {
    "duration": 62,
    "start_time": "2022-05-23T10:45:51.606Z"
   },
   {
    "duration": 23,
    "start_time": "2022-05-23T10:45:51.670Z"
   },
   {
    "duration": 65,
    "start_time": "2022-05-23T10:45:51.695Z"
   },
   {
    "duration": 64,
    "start_time": "2022-05-23T10:45:51.762Z"
   },
   {
    "duration": 10,
    "start_time": "2022-05-23T10:45:51.828Z"
   },
   {
    "duration": 22,
    "start_time": "2022-05-23T10:45:51.843Z"
   },
   {
    "duration": 76,
    "start_time": "2022-05-23T10:45:51.867Z"
   },
   {
    "duration": 83,
    "start_time": "2022-05-23T10:45:51.944Z"
   },
   {
    "duration": 168,
    "start_time": "2022-05-23T10:45:52.029Z"
   },
   {
    "duration": 5,
    "start_time": "2022-05-23T10:45:52.199Z"
   },
   {
    "duration": 20,
    "start_time": "2022-05-23T10:45:52.206Z"
   },
   {
    "duration": 9,
    "start_time": "2022-05-23T10:45:52.227Z"
   },
   {
    "duration": 22,
    "start_time": "2022-05-23T10:45:52.240Z"
   },
   {
    "duration": 1145,
    "start_time": "2022-05-23T10:45:52.263Z"
   },
   {
    "duration": 1534,
    "start_time": "2022-05-23T10:45:53.409Z"
   },
   {
    "duration": 268,
    "start_time": "2022-05-23T10:45:54.945Z"
   },
   {
    "duration": 295,
    "start_time": "2022-05-23T10:45:55.214Z"
   },
   {
    "duration": 177,
    "start_time": "2022-05-23T10:45:55.511Z"
   },
   {
    "duration": 19,
    "start_time": "2022-05-23T10:45:55.690Z"
   },
   {
    "duration": 170,
    "start_time": "2022-05-23T10:45:55.711Z"
   },
   {
    "duration": 113,
    "start_time": "2022-05-23T10:45:55.883Z"
   },
   {
    "duration": 12,
    "start_time": "2022-05-23T10:45:55.998Z"
   },
   {
    "duration": 28,
    "start_time": "2022-05-23T10:45:56.023Z"
   },
   {
    "duration": 268,
    "start_time": "2022-05-23T10:45:56.054Z"
   },
   {
    "duration": 148,
    "start_time": "2022-05-23T10:45:56.325Z"
   },
   {
    "duration": 33,
    "start_time": "2022-05-23T10:45:56.475Z"
   },
   {
    "duration": 133,
    "start_time": "2022-05-23T10:45:56.510Z"
   },
   {
    "duration": 15,
    "start_time": "2022-05-23T10:50:23.172Z"
   },
   {
    "duration": 15,
    "start_time": "2022-05-23T10:50:40.750Z"
   },
   {
    "duration": 10,
    "start_time": "2022-05-23T10:54:27.140Z"
   },
   {
    "duration": 19,
    "start_time": "2022-05-23T10:54:32.573Z"
   },
   {
    "duration": 25,
    "start_time": "2022-05-23T10:54:49.058Z"
   },
   {
    "duration": 26,
    "start_time": "2022-05-23T10:55:07.014Z"
   },
   {
    "duration": 13,
    "start_time": "2022-05-23T10:55:32.989Z"
   },
   {
    "duration": 1344,
    "start_time": "2022-05-23T10:57:01.835Z"
   },
   {
    "duration": 260,
    "start_time": "2022-05-23T10:57:03.181Z"
   },
   {
    "duration": 5,
    "start_time": "2022-05-23T10:57:03.443Z"
   },
   {
    "duration": 360,
    "start_time": "2022-05-23T10:57:03.451Z"
   },
   {
    "duration": 16,
    "start_time": "2022-05-23T10:57:03.813Z"
   },
   {
    "duration": 45,
    "start_time": "2022-05-23T10:57:03.830Z"
   },
   {
    "duration": 33,
    "start_time": "2022-05-23T10:57:03.877Z"
   },
   {
    "duration": 64,
    "start_time": "2022-05-23T10:57:03.912Z"
   },
   {
    "duration": 5,
    "start_time": "2022-05-23T10:57:03.978Z"
   },
   {
    "duration": 21,
    "start_time": "2022-05-23T10:57:03.986Z"
   },
   {
    "duration": 65,
    "start_time": "2022-05-23T10:57:04.009Z"
   },
   {
    "duration": 92,
    "start_time": "2022-05-23T10:57:04.075Z"
   },
   {
    "duration": 131,
    "start_time": "2022-05-23T10:57:04.169Z"
   },
   {
    "duration": 5,
    "start_time": "2022-05-23T10:57:04.302Z"
   },
   {
    "duration": 25,
    "start_time": "2022-05-23T10:57:04.308Z"
   },
   {
    "duration": 6,
    "start_time": "2022-05-23T10:57:04.337Z"
   },
   {
    "duration": 6,
    "start_time": "2022-05-23T10:57:04.344Z"
   },
   {
    "duration": 1027,
    "start_time": "2022-05-23T10:57:04.351Z"
   },
   {
    "duration": 1525,
    "start_time": "2022-05-23T10:57:05.380Z"
   },
   {
    "duration": 285,
    "start_time": "2022-05-23T10:57:06.907Z"
   },
   {
    "duration": 301,
    "start_time": "2022-05-23T10:57:07.194Z"
   },
   {
    "duration": 180,
    "start_time": "2022-05-23T10:57:07.496Z"
   },
   {
    "duration": 14,
    "start_time": "2022-05-23T10:57:07.678Z"
   },
   {
    "duration": 346,
    "start_time": "2022-05-23T10:57:07.693Z"
   },
   {
    "duration": 106,
    "start_time": "2022-05-23T10:57:08.040Z"
   },
   {
    "duration": 11,
    "start_time": "2022-05-23T10:57:08.148Z"
   },
   {
    "duration": 72,
    "start_time": "2022-05-23T10:57:08.161Z"
   },
   {
    "duration": 379,
    "start_time": "2022-05-23T10:57:08.236Z"
   },
   {
    "duration": 149,
    "start_time": "2022-05-23T10:57:08.616Z"
   },
   {
    "duration": 33,
    "start_time": "2022-05-23T10:57:08.768Z"
   },
   {
    "duration": 31,
    "start_time": "2022-05-23T10:57:08.803Z"
   },
   {
    "duration": 24,
    "start_time": "2022-05-23T11:08:25.650Z"
   },
   {
    "duration": 21,
    "start_time": "2022-05-23T11:08:47.754Z"
   },
   {
    "duration": 27,
    "start_time": "2022-05-23T11:10:35.839Z"
   },
   {
    "duration": 39,
    "start_time": "2022-05-23T11:11:32.564Z"
   },
   {
    "duration": 36,
    "start_time": "2022-05-23T11:12:09.008Z"
   },
   {
    "duration": 21,
    "start_time": "2022-05-23T11:12:51.833Z"
   },
   {
    "duration": 21,
    "start_time": "2022-05-23T11:13:03.088Z"
   },
   {
    "duration": 23,
    "start_time": "2022-05-23T11:13:15.731Z"
   },
   {
    "duration": 33,
    "start_time": "2022-05-23T11:13:24.289Z"
   },
   {
    "duration": 25,
    "start_time": "2022-05-23T11:14:48.257Z"
   },
   {
    "duration": 16,
    "start_time": "2022-05-23T11:15:14.442Z"
   },
   {
    "duration": 165,
    "start_time": "2022-05-23T11:17:50.288Z"
   },
   {
    "duration": 198,
    "start_time": "2022-05-23T11:18:10.137Z"
   },
   {
    "duration": 305,
    "start_time": "2022-05-23T11:19:00.834Z"
   },
   {
    "duration": 198,
    "start_time": "2022-05-23T11:25:11.597Z"
   },
   {
    "duration": 154,
    "start_time": "2022-05-23T11:25:36.565Z"
   },
   {
    "duration": 184,
    "start_time": "2022-05-23T11:27:40.028Z"
   },
   {
    "duration": 182,
    "start_time": "2022-05-23T11:28:05.956Z"
   },
   {
    "duration": 217,
    "start_time": "2022-05-23T11:30:32.528Z"
   },
   {
    "duration": 159,
    "start_time": "2022-05-23T11:30:51.655Z"
   },
   {
    "duration": 1167,
    "start_time": "2022-05-23T11:31:08.749Z"
   },
   {
    "duration": 309,
    "start_time": "2022-05-23T11:31:09.918Z"
   },
   {
    "duration": 5,
    "start_time": "2022-05-23T11:31:10.228Z"
   },
   {
    "duration": 388,
    "start_time": "2022-05-23T11:31:10.236Z"
   },
   {
    "duration": 3,
    "start_time": "2022-05-23T11:31:10.626Z"
   },
   {
    "duration": 41,
    "start_time": "2022-05-23T11:31:10.630Z"
   },
   {
    "duration": 58,
    "start_time": "2022-05-23T11:31:10.672Z"
   },
   {
    "duration": 35,
    "start_time": "2022-05-23T11:31:10.732Z"
   },
   {
    "duration": 5,
    "start_time": "2022-05-23T11:31:10.769Z"
   },
   {
    "duration": 17,
    "start_time": "2022-05-23T11:31:10.777Z"
   },
   {
    "duration": 43,
    "start_time": "2022-05-23T11:31:10.823Z"
   },
   {
    "duration": 85,
    "start_time": "2022-05-23T11:31:10.868Z"
   },
   {
    "duration": 140,
    "start_time": "2022-05-23T11:31:10.954Z"
   },
   {
    "duration": 7,
    "start_time": "2022-05-23T11:31:11.096Z"
   },
   {
    "duration": 22,
    "start_time": "2022-05-23T11:31:11.105Z"
   },
   {
    "duration": 5,
    "start_time": "2022-05-23T11:31:11.129Z"
   },
   {
    "duration": 7,
    "start_time": "2022-05-23T11:31:11.136Z"
   },
   {
    "duration": 1013,
    "start_time": "2022-05-23T11:31:11.145Z"
   },
   {
    "duration": 1522,
    "start_time": "2022-05-23T11:31:12.160Z"
   },
   {
    "duration": 258,
    "start_time": "2022-05-23T11:31:13.683Z"
   },
   {
    "duration": 282,
    "start_time": "2022-05-23T11:31:13.943Z"
   },
   {
    "duration": 167,
    "start_time": "2022-05-23T11:31:14.227Z"
   },
   {
    "duration": 15,
    "start_time": "2022-05-23T11:31:14.395Z"
   },
   {
    "duration": 145,
    "start_time": "2022-05-23T11:31:14.422Z"
   },
   {
    "duration": 90,
    "start_time": "2022-05-23T11:31:14.569Z"
   },
   {
    "duration": 11,
    "start_time": "2022-05-23T11:31:14.660Z"
   },
   {
    "duration": 16,
    "start_time": "2022-05-23T11:31:14.673Z"
   },
   {
    "duration": 252,
    "start_time": "2022-05-23T11:31:14.692Z"
   },
   {
    "duration": 141,
    "start_time": "2022-05-23T11:31:14.946Z"
   },
   {
    "duration": 43,
    "start_time": "2022-05-23T11:31:15.089Z"
   },
   {
    "duration": 269,
    "start_time": "2022-05-23T11:31:15.134Z"
   },
   {
    "duration": 149,
    "start_time": "2022-05-23T11:31:25.507Z"
   },
   {
    "duration": 143,
    "start_time": "2022-05-23T11:31:55.038Z"
   },
   {
    "duration": 145,
    "start_time": "2022-05-23T11:32:44.973Z"
   },
   {
    "duration": 154,
    "start_time": "2022-05-23T11:33:16.021Z"
   },
   {
    "duration": 166,
    "start_time": "2022-05-23T11:33:24.855Z"
   },
   {
    "duration": 897,
    "start_time": "2022-05-23T11:37:37.043Z"
   },
   {
    "duration": 269,
    "start_time": "2022-05-23T11:37:51.128Z"
   },
   {
    "duration": 18,
    "start_time": "2022-05-23T11:38:31.403Z"
   },
   {
    "duration": 129,
    "start_time": "2022-05-23T11:57:36.697Z"
   },
   {
    "duration": 144,
    "start_time": "2022-05-23T11:57:45.263Z"
   },
   {
    "duration": 153,
    "start_time": "2022-05-23T11:59:00.206Z"
   },
   {
    "duration": 132,
    "start_time": "2022-05-23T11:59:30.519Z"
   },
   {
    "duration": 141,
    "start_time": "2022-05-23T11:59:54.258Z"
   },
   {
    "duration": 163,
    "start_time": "2022-05-23T12:00:02.288Z"
   },
   {
    "duration": 18,
    "start_time": "2022-05-23T12:01:01.664Z"
   },
   {
    "duration": 17,
    "start_time": "2022-05-23T12:15:03.987Z"
   },
   {
    "duration": 13,
    "start_time": "2022-05-23T12:15:11.407Z"
   },
   {
    "duration": 18,
    "start_time": "2022-05-23T12:16:27.757Z"
   },
   {
    "duration": 17,
    "start_time": "2022-05-23T12:17:33.271Z"
   },
   {
    "duration": 17,
    "start_time": "2022-05-23T12:19:24.997Z"
   },
   {
    "duration": 24,
    "start_time": "2022-05-23T12:23:04.836Z"
   },
   {
    "duration": 13,
    "start_time": "2022-05-23T12:23:30.768Z"
   },
   {
    "duration": 27,
    "start_time": "2022-05-23T12:23:53.437Z"
   },
   {
    "duration": 121,
    "start_time": "2022-05-23T12:32:29.467Z"
   },
   {
    "duration": 524,
    "start_time": "2022-05-23T12:32:47.588Z"
   },
   {
    "duration": 140,
    "start_time": "2022-05-23T12:33:58.521Z"
   },
   {
    "duration": 809,
    "start_time": "2022-05-23T12:35:30.011Z"
   },
   {
    "duration": 136,
    "start_time": "2022-05-23T12:35:59.512Z"
   },
   {
    "duration": 145,
    "start_time": "2022-05-23T12:37:08.639Z"
   },
   {
    "duration": 146,
    "start_time": "2022-05-23T12:37:51.140Z"
   },
   {
    "duration": 34,
    "start_time": "2022-05-23T12:41:34.205Z"
   },
   {
    "duration": 55,
    "start_time": "2022-05-23T12:43:29.716Z"
   },
   {
    "duration": 45,
    "start_time": "2022-05-23T12:44:06.818Z"
   },
   {
    "duration": 43,
    "start_time": "2022-05-23T12:44:18.540Z"
   },
   {
    "duration": 18,
    "start_time": "2022-05-23T12:51:08.457Z"
   },
   {
    "duration": 15,
    "start_time": "2022-05-23T12:52:07.166Z"
   },
   {
    "duration": 192,
    "start_time": "2022-05-23T12:53:55.016Z"
   },
   {
    "duration": 160,
    "start_time": "2022-05-23T12:54:10.831Z"
   },
   {
    "duration": 164,
    "start_time": "2022-05-23T12:56:17.070Z"
   },
   {
    "duration": 180,
    "start_time": "2022-05-23T12:56:24.851Z"
   },
   {
    "duration": 199,
    "start_time": "2022-05-23T12:56:42.147Z"
   },
   {
    "duration": 60,
    "start_time": "2022-05-23T12:57:32.352Z"
   },
   {
    "duration": 59,
    "start_time": "2022-05-23T12:57:53.336Z"
   },
   {
    "duration": 143,
    "start_time": "2022-05-23T12:58:19.550Z"
   },
   {
    "duration": 166,
    "start_time": "2022-05-23T12:59:14.634Z"
   },
   {
    "duration": 536,
    "start_time": "2022-05-23T13:00:26.569Z"
   },
   {
    "duration": 164,
    "start_time": "2022-05-23T13:10:21.821Z"
   },
   {
    "duration": 222,
    "start_time": "2022-05-23T13:10:34.916Z"
   },
   {
    "duration": 159,
    "start_time": "2022-05-23T13:11:09.637Z"
   },
   {
    "duration": 167,
    "start_time": "2022-05-23T13:11:23.936Z"
   },
   {
    "duration": 199,
    "start_time": "2022-05-23T13:12:55.363Z"
   },
   {
    "duration": 210,
    "start_time": "2022-05-23T13:13:11.327Z"
   },
   {
    "duration": 212,
    "start_time": "2022-05-23T13:13:57.587Z"
   },
   {
    "duration": 163,
    "start_time": "2022-05-23T13:15:20.686Z"
   },
   {
    "duration": 37,
    "start_time": "2022-05-23T13:15:40.853Z"
   },
   {
    "duration": 225,
    "start_time": "2022-05-23T13:15:48.062Z"
   },
   {
    "duration": 112,
    "start_time": "2022-05-23T13:16:22.362Z"
   },
   {
    "duration": 197,
    "start_time": "2022-05-23T13:19:41.148Z"
   },
   {
    "duration": 204,
    "start_time": "2022-05-23T13:19:58.167Z"
   },
   {
    "duration": 74,
    "start_time": "2022-05-23T13:20:43.537Z"
   },
   {
    "duration": 80,
    "start_time": "2022-05-23T13:20:54.967Z"
   },
   {
    "duration": 66,
    "start_time": "2022-05-23T13:21:16.978Z"
   },
   {
    "duration": 85,
    "start_time": "2022-05-23T13:21:48.716Z"
   },
   {
    "duration": 24,
    "start_time": "2022-05-23T13:21:57.516Z"
   },
   {
    "duration": 1209,
    "start_time": "2022-05-23T13:22:26.233Z"
   },
   {
    "duration": 257,
    "start_time": "2022-05-23T13:22:27.445Z"
   },
   {
    "duration": 5,
    "start_time": "2022-05-23T13:22:27.703Z"
   },
   {
    "duration": 351,
    "start_time": "2022-05-23T13:22:27.710Z"
   },
   {
    "duration": 43,
    "start_time": "2022-05-23T13:22:28.063Z"
   },
   {
    "duration": 25,
    "start_time": "2022-05-23T13:22:28.123Z"
   },
   {
    "duration": 33,
    "start_time": "2022-05-23T13:22:28.150Z"
   },
   {
    "duration": 60,
    "start_time": "2022-05-23T13:22:28.184Z"
   },
   {
    "duration": 4,
    "start_time": "2022-05-23T13:22:28.246Z"
   },
   {
    "duration": 19,
    "start_time": "2022-05-23T13:22:28.254Z"
   },
   {
    "duration": 74,
    "start_time": "2022-05-23T13:22:28.275Z"
   },
   {
    "duration": 74,
    "start_time": "2022-05-23T13:22:28.351Z"
   },
   {
    "duration": 159,
    "start_time": "2022-05-23T13:22:28.427Z"
   },
   {
    "duration": 6,
    "start_time": "2022-05-23T13:22:28.587Z"
   },
   {
    "duration": 29,
    "start_time": "2022-05-23T13:22:28.595Z"
   },
   {
    "duration": 5,
    "start_time": "2022-05-23T13:22:28.626Z"
   },
   {
    "duration": 19,
    "start_time": "2022-05-23T13:22:28.633Z"
   },
   {
    "duration": 999,
    "start_time": "2022-05-23T13:22:28.653Z"
   },
   {
    "duration": 1541,
    "start_time": "2022-05-23T13:22:29.654Z"
   },
   {
    "duration": 268,
    "start_time": "2022-05-23T13:22:31.196Z"
   },
   {
    "duration": 303,
    "start_time": "2022-05-23T13:22:31.466Z"
   },
   {
    "duration": 184,
    "start_time": "2022-05-23T13:22:31.771Z"
   },
   {
    "duration": 18,
    "start_time": "2022-05-23T13:22:31.957Z"
   },
   {
    "duration": 200,
    "start_time": "2022-05-23T13:22:31.978Z"
   },
   {
    "duration": 238,
    "start_time": "2022-05-23T13:22:32.179Z"
   },
   {
    "duration": 67,
    "start_time": "2022-05-23T13:22:32.422Z"
   },
   {
    "duration": 11,
    "start_time": "2022-05-23T13:22:32.491Z"
   },
   {
    "duration": 33,
    "start_time": "2022-05-23T13:22:32.526Z"
   },
   {
    "duration": 6,
    "start_time": "2022-05-23T13:22:32.562Z"
   },
   {
    "duration": 0,
    "start_time": "2022-05-23T13:22:32.570Z"
   },
   {
    "duration": 0,
    "start_time": "2022-05-23T13:22:32.572Z"
   },
   {
    "duration": 0,
    "start_time": "2022-05-23T13:22:32.574Z"
   },
   {
    "duration": 29,
    "start_time": "2022-05-23T13:23:01.431Z"
   },
   {
    "duration": 37,
    "start_time": "2022-05-23T13:23:14.110Z"
   },
   {
    "duration": 237,
    "start_time": "2022-05-23T13:24:24.063Z"
   },
   {
    "duration": 236,
    "start_time": "2022-05-23T13:24:50.877Z"
   },
   {
    "duration": 343,
    "start_time": "2022-05-23T13:25:58.918Z"
   },
   {
    "duration": 699,
    "start_time": "2022-05-23T13:26:05.991Z"
   },
   {
    "duration": 224,
    "start_time": "2022-05-23T13:26:26.375Z"
   },
   {
    "duration": 26,
    "start_time": "2022-05-23T13:26:45.872Z"
   },
   {
    "duration": 59,
    "start_time": "2022-05-23T13:26:57.530Z"
   },
   {
    "duration": 45,
    "start_time": "2022-05-23T13:27:23.641Z"
   },
   {
    "duration": 198,
    "start_time": "2022-05-23T13:29:00.579Z"
   },
   {
    "duration": 386,
    "start_time": "2022-05-23T13:29:59.364Z"
   },
   {
    "duration": 106,
    "start_time": "2022-05-23T13:30:13.924Z"
   },
   {
    "duration": 88,
    "start_time": "2022-05-23T13:30:27.589Z"
   },
   {
    "duration": 83,
    "start_time": "2022-05-23T13:31:32.159Z"
   },
   {
    "duration": 59,
    "start_time": "2022-05-23T17:45:09.756Z"
   },
   {
    "duration": 1263,
    "start_time": "2022-05-23T17:45:17.835Z"
   },
   {
    "duration": 598,
    "start_time": "2022-05-23T17:45:19.101Z"
   },
   {
    "duration": 5,
    "start_time": "2022-05-23T17:45:19.701Z"
   },
   {
    "duration": 302,
    "start_time": "2022-05-23T17:45:19.708Z"
   },
   {
    "duration": 41,
    "start_time": "2022-05-23T17:45:20.012Z"
   },
   {
    "duration": 44,
    "start_time": "2022-05-23T17:45:20.055Z"
   },
   {
    "duration": 46,
    "start_time": "2022-05-23T17:45:20.100Z"
   },
   {
    "duration": 31,
    "start_time": "2022-05-23T17:45:20.147Z"
   },
   {
    "duration": 5,
    "start_time": "2022-05-23T17:45:20.193Z"
   },
   {
    "duration": 20,
    "start_time": "2022-05-23T17:45:20.200Z"
   },
   {
    "duration": 40,
    "start_time": "2022-05-23T17:45:20.221Z"
   },
   {
    "duration": 79,
    "start_time": "2022-05-23T17:45:20.263Z"
   },
   {
    "duration": 151,
    "start_time": "2022-05-23T17:45:20.344Z"
   },
   {
    "duration": 5,
    "start_time": "2022-05-23T17:45:20.496Z"
   },
   {
    "duration": 11,
    "start_time": "2022-05-23T17:45:20.502Z"
   },
   {
    "duration": 4,
    "start_time": "2022-05-23T17:45:20.514Z"
   },
   {
    "duration": 5,
    "start_time": "2022-05-23T17:45:20.519Z"
   },
   {
    "duration": 866,
    "start_time": "2022-05-23T17:45:20.525Z"
   },
   {
    "duration": 1232,
    "start_time": "2022-05-23T17:45:21.392Z"
   },
   {
    "duration": 226,
    "start_time": "2022-05-23T17:45:22.626Z"
   },
   {
    "duration": 240,
    "start_time": "2022-05-23T17:45:22.854Z"
   },
   {
    "duration": 148,
    "start_time": "2022-05-23T17:45:23.096Z"
   },
   {
    "duration": 13,
    "start_time": "2022-05-23T17:45:23.245Z"
   },
   {
    "duration": 163,
    "start_time": "2022-05-23T17:45:23.259Z"
   },
   {
    "duration": 260,
    "start_time": "2022-05-23T17:45:23.423Z"
   },
   {
    "duration": 55,
    "start_time": "2022-05-23T17:45:23.684Z"
   },
   {
    "duration": 10,
    "start_time": "2022-05-23T17:45:23.740Z"
   },
   {
    "duration": 17,
    "start_time": "2022-05-23T17:45:23.753Z"
   },
   {
    "duration": 78,
    "start_time": "2022-05-23T17:45:23.772Z"
   },
   {
    "duration": 120,
    "start_time": "2022-05-23T17:45:23.852Z"
   },
   {
    "duration": 0,
    "start_time": "2022-05-23T17:45:23.973Z"
   },
   {
    "duration": 0,
    "start_time": "2022-05-23T17:45:23.975Z"
   },
   {
    "duration": 211,
    "start_time": "2022-05-23T17:47:01.534Z"
   },
   {
    "duration": 235,
    "start_time": "2022-05-23T17:49:16.353Z"
   },
   {
    "duration": 63,
    "start_time": "2022-05-23T17:49:29.792Z"
   },
   {
    "duration": 62,
    "start_time": "2022-05-23T17:49:36.892Z"
   },
   {
    "duration": 62,
    "start_time": "2022-05-23T17:50:20.982Z"
   },
   {
    "duration": 183,
    "start_time": "2022-05-23T17:51:52.323Z"
   },
   {
    "duration": 87,
    "start_time": "2022-05-23T17:51:58.602Z"
   },
   {
    "duration": 65,
    "start_time": "2022-05-23T17:53:28.484Z"
   },
   {
    "duration": 212,
    "start_time": "2022-05-23T17:57:00.921Z"
   },
   {
    "duration": 222,
    "start_time": "2022-05-23T17:57:32.333Z"
   },
   {
    "duration": 245,
    "start_time": "2022-05-23T17:57:43.380Z"
   },
   {
    "duration": 222,
    "start_time": "2022-05-23T17:58:06.053Z"
   },
   {
    "duration": 226,
    "start_time": "2022-05-23T17:58:18.131Z"
   },
   {
    "duration": 247,
    "start_time": "2022-05-23T17:58:26.775Z"
   },
   {
    "duration": 232,
    "start_time": "2022-05-23T18:09:05.890Z"
   },
   {
    "duration": 231,
    "start_time": "2022-05-23T18:09:27.053Z"
   },
   {
    "duration": 278,
    "start_time": "2022-05-23T18:11:10.581Z"
   },
   {
    "duration": 257,
    "start_time": "2022-05-23T18:12:10.350Z"
   },
   {
    "duration": 216,
    "start_time": "2022-05-23T18:12:38.460Z"
   },
   {
    "duration": 198,
    "start_time": "2022-05-23T18:12:46.232Z"
   },
   {
    "duration": 202,
    "start_time": "2022-05-23T18:13:07.073Z"
   },
   {
    "duration": 184,
    "start_time": "2022-05-23T18:13:34.462Z"
   },
   {
    "duration": 1127,
    "start_time": "2022-05-23T18:13:44.769Z"
   },
   {
    "duration": 245,
    "start_time": "2022-05-23T18:13:45.898Z"
   },
   {
    "duration": 5,
    "start_time": "2022-05-23T18:13:46.145Z"
   },
   {
    "duration": 306,
    "start_time": "2022-05-23T18:13:46.151Z"
   },
   {
    "duration": 44,
    "start_time": "2022-05-23T18:13:46.459Z"
   },
   {
    "duration": 20,
    "start_time": "2022-05-23T18:13:46.505Z"
   },
   {
    "duration": 29,
    "start_time": "2022-05-23T18:13:46.527Z"
   },
   {
    "duration": 47,
    "start_time": "2022-05-23T18:13:46.558Z"
   },
   {
    "duration": 3,
    "start_time": "2022-05-23T18:13:46.607Z"
   },
   {
    "duration": 12,
    "start_time": "2022-05-23T18:13:46.612Z"
   },
   {
    "duration": 39,
    "start_time": "2022-05-23T18:13:46.625Z"
   },
   {
    "duration": 53,
    "start_time": "2022-05-23T18:13:46.694Z"
   },
   {
    "duration": 130,
    "start_time": "2022-05-23T18:13:46.749Z"
   },
   {
    "duration": 5,
    "start_time": "2022-05-23T18:13:46.881Z"
   },
   {
    "duration": 14,
    "start_time": "2022-05-23T18:13:46.887Z"
   },
   {
    "duration": 4,
    "start_time": "2022-05-23T18:13:46.902Z"
   },
   {
    "duration": 4,
    "start_time": "2022-05-23T18:13:46.908Z"
   },
   {
    "duration": 859,
    "start_time": "2022-05-23T18:13:46.913Z"
   },
   {
    "duration": 1332,
    "start_time": "2022-05-23T18:13:47.773Z"
   },
   {
    "duration": 232,
    "start_time": "2022-05-23T18:13:49.108Z"
   },
   {
    "duration": 263,
    "start_time": "2022-05-23T18:13:49.341Z"
   },
   {
    "duration": 156,
    "start_time": "2022-05-23T18:13:49.605Z"
   },
   {
    "duration": 12,
    "start_time": "2022-05-23T18:13:49.763Z"
   },
   {
    "duration": 146,
    "start_time": "2022-05-23T18:13:49.777Z"
   },
   {
    "duration": 199,
    "start_time": "2022-05-23T18:13:49.925Z"
   },
   {
    "duration": 57,
    "start_time": "2022-05-23T18:13:50.126Z"
   },
   {
    "duration": 11,
    "start_time": "2022-05-23T18:13:50.194Z"
   },
   {
    "duration": 19,
    "start_time": "2022-05-23T18:13:50.208Z"
   },
   {
    "duration": 294,
    "start_time": "2022-05-23T18:13:50.229Z"
   },
   {
    "duration": 119,
    "start_time": "2022-05-23T18:13:50.524Z"
   },
   {
    "duration": 0,
    "start_time": "2022-05-23T18:13:50.645Z"
   },
   {
    "duration": 0,
    "start_time": "2022-05-23T18:13:50.647Z"
   },
   {
    "duration": 168,
    "start_time": "2022-05-23T18:15:05.871Z"
   },
   {
    "duration": 157,
    "start_time": "2022-05-23T18:15:27.999Z"
   },
   {
    "duration": 180,
    "start_time": "2022-05-23T18:15:35.972Z"
   },
   {
    "duration": 211,
    "start_time": "2022-05-23T18:21:38.502Z"
   },
   {
    "duration": 185,
    "start_time": "2022-05-23T18:23:05.166Z"
   },
   {
    "duration": 186,
    "start_time": "2022-05-23T18:23:34.238Z"
   },
   {
    "duration": 467,
    "start_time": "2022-05-23T18:23:53.731Z"
   },
   {
    "duration": 167,
    "start_time": "2022-05-23T18:24:10.093Z"
   },
   {
    "duration": 71,
    "start_time": "2022-05-23T18:55:11.364Z"
   },
   {
    "duration": 42,
    "start_time": "2022-05-23T18:57:16.778Z"
   },
   {
    "duration": 98,
    "start_time": "2022-05-23T18:57:35.900Z"
   },
   {
    "duration": 113,
    "start_time": "2022-05-23T18:58:32.161Z"
   },
   {
    "duration": 164,
    "start_time": "2022-05-23T18:59:19.999Z"
   },
   {
    "duration": 135,
    "start_time": "2022-05-23T19:00:07.212Z"
   },
   {
    "duration": 144,
    "start_time": "2022-05-23T19:00:20.869Z"
   },
   {
    "duration": 146,
    "start_time": "2022-05-23T19:00:38.348Z"
   },
   {
    "duration": 136,
    "start_time": "2022-05-23T19:00:45.450Z"
   },
   {
    "duration": 146,
    "start_time": "2022-05-23T19:00:54.449Z"
   },
   {
    "duration": 168,
    "start_time": "2022-05-23T19:01:02.388Z"
   },
   {
    "duration": 146,
    "start_time": "2022-05-23T19:01:51.480Z"
   },
   {
    "duration": 165,
    "start_time": "2022-05-23T19:02:18.767Z"
   },
   {
    "duration": 159,
    "start_time": "2022-05-23T19:03:13.085Z"
   },
   {
    "duration": 18,
    "start_time": "2022-05-23T19:05:49.464Z"
   },
   {
    "duration": 24,
    "start_time": "2022-05-23T19:06:01.906Z"
   },
   {
    "duration": 21,
    "start_time": "2022-05-23T19:06:47.611Z"
   },
   {
    "duration": 30,
    "start_time": "2022-05-23T19:07:43.188Z"
   },
   {
    "duration": 76,
    "start_time": "2022-05-23T19:09:16.018Z"
   },
   {
    "duration": 45,
    "start_time": "2022-05-23T19:09:55.563Z"
   },
   {
    "duration": 72,
    "start_time": "2022-05-23T19:11:05.964Z"
   },
   {
    "duration": 49,
    "start_time": "2022-05-23T19:11:24.955Z"
   },
   {
    "duration": 129,
    "start_time": "2022-05-23T19:15:03.052Z"
   },
   {
    "duration": 163,
    "start_time": "2022-05-23T19:15:18.855Z"
   },
   {
    "duration": 129,
    "start_time": "2022-05-23T19:16:35.285Z"
   },
   {
    "duration": 123,
    "start_time": "2022-05-23T19:17:58.448Z"
   },
   {
    "duration": 18,
    "start_time": "2022-05-23T19:18:34.907Z"
   },
   {
    "duration": 70,
    "start_time": "2022-05-23T19:18:53.770Z"
   },
   {
    "duration": 65,
    "start_time": "2022-05-23T19:18:59.069Z"
   },
   {
    "duration": 38,
    "start_time": "2022-05-23T19:19:07.625Z"
   },
   {
    "duration": 145,
    "start_time": "2022-05-23T19:19:12.852Z"
   },
   {
    "duration": 127,
    "start_time": "2022-05-23T20:36:48.840Z"
   },
   {
    "duration": 129,
    "start_time": "2022-05-23T20:36:58.160Z"
   },
   {
    "duration": 139,
    "start_time": "2022-05-23T20:37:48.530Z"
   },
   {
    "duration": 509,
    "start_time": "2022-05-23T20:39:01.592Z"
   },
   {
    "duration": 13,
    "start_time": "2022-05-23T20:39:18.512Z"
   },
   {
    "duration": 113,
    "start_time": "2022-05-23T20:39:51.720Z"
   },
   {
    "duration": 82,
    "start_time": "2022-05-23T20:40:31.679Z"
   },
   {
    "duration": 120,
    "start_time": "2022-05-23T20:40:43.930Z"
   },
   {
    "duration": 107,
    "start_time": "2022-05-23T20:40:57.007Z"
   },
   {
    "duration": 154,
    "start_time": "2022-05-23T20:41:57.138Z"
   },
   {
    "duration": 151,
    "start_time": "2022-05-23T20:42:27.730Z"
   },
   {
    "duration": 125,
    "start_time": "2022-05-23T20:43:52.490Z"
   },
   {
    "duration": 105,
    "start_time": "2022-05-23T20:44:18.590Z"
   },
   {
    "duration": 118,
    "start_time": "2022-05-23T20:44:26.621Z"
   },
   {
    "duration": 116,
    "start_time": "2022-05-23T20:48:39.513Z"
   },
   {
    "duration": 104,
    "start_time": "2022-05-23T20:48:48.576Z"
   },
   {
    "duration": 151,
    "start_time": "2022-05-23T20:48:58.779Z"
   },
   {
    "duration": 95,
    "start_time": "2022-05-23T20:50:32.940Z"
   },
   {
    "duration": 128,
    "start_time": "2022-05-23T20:50:39.142Z"
   },
   {
    "duration": 126,
    "start_time": "2022-05-23T20:53:45.068Z"
   },
   {
    "duration": 62,
    "start_time": "2022-05-23T20:54:03.625Z"
   },
   {
    "duration": 105,
    "start_time": "2022-05-23T20:54:07.917Z"
   },
   {
    "duration": 107,
    "start_time": "2022-05-23T20:54:32.556Z"
   },
   {
    "duration": 36,
    "start_time": "2022-05-23T20:54:55.729Z"
   },
   {
    "duration": 76,
    "start_time": "2022-05-23T20:55:34.579Z"
   },
   {
    "duration": 125,
    "start_time": "2022-05-23T20:56:23.162Z"
   },
   {
    "duration": 29,
    "start_time": "2022-05-23T20:56:27.167Z"
   },
   {
    "duration": 170,
    "start_time": "2022-05-23T20:58:23.045Z"
   },
   {
    "duration": 160,
    "start_time": "2022-05-23T20:58:40.429Z"
   },
   {
    "duration": 106,
    "start_time": "2022-05-23T20:59:09.179Z"
   },
   {
    "duration": 168,
    "start_time": "2022-05-23T20:59:13.752Z"
   },
   {
    "duration": 114,
    "start_time": "2022-05-23T21:05:33.605Z"
   },
   {
    "duration": 472,
    "start_time": "2022-05-23T21:05:57.238Z"
   },
   {
    "duration": 12,
    "start_time": "2022-05-23T21:12:47.517Z"
   },
   {
    "duration": 72,
    "start_time": "2022-05-23T21:13:14.536Z"
   },
   {
    "duration": 59,
    "start_time": "2022-05-23T21:13:17.429Z"
   },
   {
    "duration": 30,
    "start_time": "2022-05-23T21:13:20.966Z"
   },
   {
    "duration": 35,
    "start_time": "2022-05-23T21:13:28.776Z"
   },
   {
    "duration": 39,
    "start_time": "2022-05-23T21:14:29.196Z"
   },
   {
    "duration": 67,
    "start_time": "2022-05-23T21:15:53.217Z"
   },
   {
    "duration": 74,
    "start_time": "2022-05-23T21:17:45.015Z"
   },
   {
    "duration": 74,
    "start_time": "2022-05-23T21:19:52.095Z"
   },
   {
    "duration": 74,
    "start_time": "2022-05-23T21:20:03.230Z"
   },
   {
    "duration": 87,
    "start_time": "2022-05-23T21:20:15.984Z"
   },
   {
    "duration": 90,
    "start_time": "2022-05-23T21:21:13.442Z"
   },
   {
    "duration": 84,
    "start_time": "2022-05-23T21:21:28.160Z"
   },
   {
    "duration": 123,
    "start_time": "2022-05-23T21:22:06.058Z"
   },
   {
    "duration": 139,
    "start_time": "2022-05-23T21:22:56.697Z"
   },
   {
    "duration": 138,
    "start_time": "2022-05-23T21:24:00.304Z"
   },
   {
    "duration": 243,
    "start_time": "2022-05-23T21:25:50.792Z"
   },
   {
    "duration": 235,
    "start_time": "2022-05-23T21:26:04.875Z"
   },
   {
    "duration": 232,
    "start_time": "2022-05-23T21:26:31.726Z"
   },
   {
    "duration": 13,
    "start_time": "2022-05-23T21:27:03.622Z"
   },
   {
    "duration": 157,
    "start_time": "2022-05-23T21:27:15.263Z"
   },
   {
    "duration": 165,
    "start_time": "2022-05-23T21:27:22.265Z"
   },
   {
    "duration": 175,
    "start_time": "2022-05-23T21:27:31.862Z"
   },
   {
    "duration": 196,
    "start_time": "2022-05-23T21:27:45.182Z"
   },
   {
    "duration": 72,
    "start_time": "2022-05-23T21:28:28.594Z"
   },
   {
    "duration": 36,
    "start_time": "2022-05-23T21:29:44.056Z"
   },
   {
    "duration": 41,
    "start_time": "2022-05-23T21:30:00.875Z"
   },
   {
    "duration": 28,
    "start_time": "2022-05-23T21:30:45.502Z"
   },
   {
    "duration": 62,
    "start_time": "2022-05-23T21:31:01.427Z"
   },
   {
    "duration": 59,
    "start_time": "2022-05-23T21:31:33.034Z"
   },
   {
    "duration": 67,
    "start_time": "2022-05-23T21:31:51.990Z"
   },
   {
    "duration": 65,
    "start_time": "2022-05-23T21:32:29.262Z"
   },
   {
    "duration": 61,
    "start_time": "2022-05-23T21:33:01.656Z"
   },
   {
    "duration": 56,
    "start_time": "2022-05-23T21:33:09.348Z"
   },
   {
    "duration": 127,
    "start_time": "2022-05-23T21:35:01.938Z"
   },
   {
    "duration": 31,
    "start_time": "2022-05-23T21:35:03.794Z"
   },
   {
    "duration": 80,
    "start_time": "2022-05-23T21:36:29.817Z"
   },
   {
    "duration": 4454,
    "start_time": "2022-05-23T21:38:47.734Z"
   },
   {
    "duration": 48,
    "start_time": "2022-05-23T21:39:04.503Z"
   },
   {
    "duration": 319,
    "start_time": "2022-05-23T21:43:40.714Z"
   },
   {
    "duration": 29,
    "start_time": "2022-05-23T21:43:53.234Z"
   },
   {
    "duration": 23,
    "start_time": "2022-05-23T21:48:16.442Z"
   },
   {
    "duration": 31,
    "start_time": "2022-05-23T21:48:53.475Z"
   },
   {
    "duration": 27,
    "start_time": "2022-05-23T21:49:12.334Z"
   },
   {
    "duration": 69672,
    "start_time": "2022-05-23T21:49:53.054Z"
   },
   {
    "duration": 69380,
    "start_time": "2022-05-23T21:51:13.542Z"
   },
   {
    "duration": 1090,
    "start_time": "2022-05-23T21:53:16.796Z"
   },
   {
    "duration": 248,
    "start_time": "2022-05-23T21:53:17.888Z"
   },
   {
    "duration": 5,
    "start_time": "2022-05-23T21:53:18.138Z"
   },
   {
    "duration": 292,
    "start_time": "2022-05-23T21:53:18.145Z"
   },
   {
    "duration": 39,
    "start_time": "2022-05-23T21:53:18.438Z"
   },
   {
    "duration": 27,
    "start_time": "2022-05-23T21:53:18.479Z"
   },
   {
    "duration": 30,
    "start_time": "2022-05-23T21:53:18.507Z"
   },
   {
    "duration": 56,
    "start_time": "2022-05-23T21:53:18.539Z"
   },
   {
    "duration": 4,
    "start_time": "2022-05-23T21:53:18.597Z"
   },
   {
    "duration": 13,
    "start_time": "2022-05-23T21:53:18.604Z"
   },
   {
    "duration": 45,
    "start_time": "2022-05-23T21:53:18.619Z"
   },
   {
    "duration": 54,
    "start_time": "2022-05-23T21:53:18.693Z"
   },
   {
    "duration": 140,
    "start_time": "2022-05-23T21:53:18.749Z"
   },
   {
    "duration": 6,
    "start_time": "2022-05-23T21:53:18.896Z"
   },
   {
    "duration": 18,
    "start_time": "2022-05-23T21:53:18.904Z"
   },
   {
    "duration": 8,
    "start_time": "2022-05-23T21:53:18.924Z"
   },
   {
    "duration": 9,
    "start_time": "2022-05-23T21:53:18.933Z"
   },
   {
    "duration": 853,
    "start_time": "2022-05-23T21:53:18.944Z"
   },
   {
    "duration": 1254,
    "start_time": "2022-05-23T21:53:19.798Z"
   },
   {
    "duration": 232,
    "start_time": "2022-05-23T21:53:21.053Z"
   },
   {
    "duration": 261,
    "start_time": "2022-05-23T21:53:21.287Z"
   },
   {
    "duration": 146,
    "start_time": "2022-05-23T21:53:21.549Z"
   },
   {
    "duration": 12,
    "start_time": "2022-05-23T21:53:21.697Z"
   },
   {
    "duration": 84,
    "start_time": "2022-05-23T21:53:21.711Z"
   },
   {
    "duration": 51,
    "start_time": "2022-05-23T21:53:21.797Z"
   },
   {
    "duration": 95,
    "start_time": "2022-05-23T21:53:21.850Z"
   },
   {
    "duration": 9,
    "start_time": "2022-05-23T21:53:21.947Z"
   },
   {
    "duration": 16,
    "start_time": "2022-05-23T21:53:21.959Z"
   },
   {
    "duration": 57,
    "start_time": "2022-05-23T21:53:21.994Z"
   },
   {
    "duration": 48,
    "start_time": "2022-05-23T21:53:22.053Z"
   },
   {
    "duration": 13121,
    "start_time": "2022-05-23T21:53:22.102Z"
   },
   {
    "duration": 315,
    "start_time": "2022-05-23T21:54:16.634Z"
   },
   {
    "duration": 78,
    "start_time": "2022-05-23T21:54:42.734Z"
   },
   {
    "duration": 103,
    "start_time": "2022-05-23T21:55:09.373Z"
   },
   {
    "duration": 20,
    "start_time": "2022-05-23T21:57:38.769Z"
   },
   {
    "duration": 219,
    "start_time": "2022-05-23T21:58:13.714Z"
   },
   {
    "duration": 224,
    "start_time": "2022-05-23T21:58:52.039Z"
   },
   {
    "duration": 95,
    "start_time": "2022-05-23T21:59:45.053Z"
   },
   {
    "duration": 119,
    "start_time": "2022-05-23T22:00:19.834Z"
   },
   {
    "duration": 504,
    "start_time": "2022-05-23T22:01:37.173Z"
   },
   {
    "duration": 63,
    "start_time": "2022-05-23T22:02:00.053Z"
   },
   {
    "duration": 1335,
    "start_time": "2022-05-24T04:43:45.465Z"
   },
   {
    "duration": 889,
    "start_time": "2022-05-24T04:43:46.802Z"
   },
   {
    "duration": 6,
    "start_time": "2022-05-24T04:43:47.693Z"
   },
   {
    "duration": 345,
    "start_time": "2022-05-24T04:43:47.701Z"
   },
   {
    "duration": 54,
    "start_time": "2022-05-24T04:43:48.048Z"
   },
   {
    "duration": 23,
    "start_time": "2022-05-24T04:43:48.104Z"
   },
   {
    "duration": 31,
    "start_time": "2022-05-24T04:43:48.129Z"
   },
   {
    "duration": 55,
    "start_time": "2022-05-24T04:43:48.162Z"
   },
   {
    "duration": 4,
    "start_time": "2022-05-24T04:43:48.219Z"
   },
   {
    "duration": 12,
    "start_time": "2022-05-24T04:43:48.226Z"
   },
   {
    "duration": 80,
    "start_time": "2022-05-24T04:43:48.239Z"
   },
   {
    "duration": 81,
    "start_time": "2022-05-24T04:43:48.321Z"
   },
   {
    "duration": 138,
    "start_time": "2022-05-24T04:43:48.404Z"
   },
   {
    "duration": 5,
    "start_time": "2022-05-24T04:43:48.544Z"
   },
   {
    "duration": 12,
    "start_time": "2022-05-24T04:43:48.551Z"
   },
   {
    "duration": 22,
    "start_time": "2022-05-24T04:43:48.564Z"
   },
   {
    "duration": 4,
    "start_time": "2022-05-24T04:43:48.587Z"
   },
   {
    "duration": 894,
    "start_time": "2022-05-24T04:43:48.593Z"
   },
   {
    "duration": 1354,
    "start_time": "2022-05-24T04:43:49.489Z"
   },
   {
    "duration": 244,
    "start_time": "2022-05-24T04:43:50.845Z"
   },
   {
    "duration": 292,
    "start_time": "2022-05-24T04:43:51.091Z"
   },
   {
    "duration": 159,
    "start_time": "2022-05-24T04:43:51.385Z"
   },
   {
    "duration": 13,
    "start_time": "2022-05-24T04:43:51.545Z"
   },
   {
    "duration": 87,
    "start_time": "2022-05-24T04:43:51.560Z"
   },
   {
    "duration": 70,
    "start_time": "2022-05-24T04:43:51.649Z"
   },
   {
    "duration": 102,
    "start_time": "2022-05-24T04:43:51.720Z"
   },
   {
    "duration": 10,
    "start_time": "2022-05-24T04:43:51.824Z"
   },
   {
    "duration": 19,
    "start_time": "2022-05-24T04:43:51.837Z"
   },
   {
    "duration": 55,
    "start_time": "2022-05-24T04:43:51.857Z"
   },
   {
    "duration": 74,
    "start_time": "2022-05-24T04:43:51.914Z"
   },
   {
    "duration": 14,
    "start_time": "2022-05-24T04:50:43.237Z"
   },
   {
    "duration": 34,
    "start_time": "2022-05-24T04:51:21.666Z"
   },
   {
    "duration": 40,
    "start_time": "2022-05-24T04:57:20.454Z"
   },
   {
    "duration": 15,
    "start_time": "2022-05-24T04:57:35.965Z"
   },
   {
    "duration": 9,
    "start_time": "2022-05-24T04:57:50.893Z"
   },
   {
    "duration": 1288,
    "start_time": "2022-05-24T10:31:38.168Z"
   },
   {
    "duration": 763,
    "start_time": "2022-05-24T10:31:39.460Z"
   },
   {
    "duration": 6,
    "start_time": "2022-05-24T10:31:40.225Z"
   },
   {
    "duration": 311,
    "start_time": "2022-05-24T10:31:40.233Z"
   },
   {
    "duration": 48,
    "start_time": "2022-05-24T10:31:40.546Z"
   },
   {
    "duration": 21,
    "start_time": "2022-05-24T10:31:40.596Z"
   },
   {
    "duration": 50,
    "start_time": "2022-05-24T10:31:40.619Z"
   },
   {
    "duration": 31,
    "start_time": "2022-05-24T10:31:40.671Z"
   },
   {
    "duration": 3,
    "start_time": "2022-05-24T10:31:40.704Z"
   },
   {
    "duration": 13,
    "start_time": "2022-05-24T10:31:40.709Z"
   },
   {
    "duration": 71,
    "start_time": "2022-05-24T10:31:40.723Z"
   },
   {
    "duration": 78,
    "start_time": "2022-05-24T10:31:40.795Z"
   },
   {
    "duration": 136,
    "start_time": "2022-05-24T10:31:40.875Z"
   },
   {
    "duration": 5,
    "start_time": "2022-05-24T10:31:41.013Z"
   },
   {
    "duration": 11,
    "start_time": "2022-05-24T10:31:41.020Z"
   },
   {
    "duration": 4,
    "start_time": "2022-05-24T10:31:41.033Z"
   },
   {
    "duration": 4,
    "start_time": "2022-05-24T10:31:41.059Z"
   },
   {
    "duration": 922,
    "start_time": "2022-05-24T10:31:41.065Z"
   },
   {
    "duration": 1477,
    "start_time": "2022-05-24T10:31:41.989Z"
   },
   {
    "duration": 254,
    "start_time": "2022-05-24T10:31:43.469Z"
   },
   {
    "duration": 275,
    "start_time": "2022-05-24T10:31:43.724Z"
   },
   {
    "duration": 187,
    "start_time": "2022-05-24T10:31:44.001Z"
   },
   {
    "duration": 13,
    "start_time": "2022-05-24T10:31:44.189Z"
   },
   {
    "duration": 90,
    "start_time": "2022-05-24T10:31:44.204Z"
   },
   {
    "duration": 55,
    "start_time": "2022-05-24T10:31:44.295Z"
   },
   {
    "duration": 86,
    "start_time": "2022-05-24T10:31:44.359Z"
   },
   {
    "duration": 17,
    "start_time": "2022-05-24T10:31:44.447Z"
   },
   {
    "duration": 17,
    "start_time": "2022-05-24T10:31:44.467Z"
   },
   {
    "duration": 38,
    "start_time": "2022-05-24T10:31:44.485Z"
   },
   {
    "duration": 86,
    "start_time": "2022-05-24T10:31:44.525Z"
   },
   {
    "duration": 68,
    "start_time": "2022-05-24T10:42:27.590Z"
   },
   {
    "duration": 32,
    "start_time": "2022-05-24T10:42:40.408Z"
   },
   {
    "duration": 104,
    "start_time": "2022-05-24T10:42:52.699Z"
   },
   {
    "duration": 80,
    "start_time": "2022-05-24T10:44:33.041Z"
   },
   {
    "duration": 95,
    "start_time": "2022-05-24T10:45:45.810Z"
   },
   {
    "duration": 73,
    "start_time": "2022-05-24T10:46:32.769Z"
   },
   {
    "duration": 84,
    "start_time": "2022-05-24T10:48:47.009Z"
   },
   {
    "duration": 42,
    "start_time": "2022-05-24T10:49:54.976Z"
   },
   {
    "duration": 83,
    "start_time": "2022-05-24T10:50:17.318Z"
   },
   {
    "duration": 88,
    "start_time": "2022-05-24T10:50:55.218Z"
   },
   {
    "duration": 75,
    "start_time": "2022-05-24T10:51:18.601Z"
   },
   {
    "duration": 180,
    "start_time": "2022-05-24T10:51:43.038Z"
   },
   {
    "duration": 78,
    "start_time": "2022-05-24T10:51:56.798Z"
   },
   {
    "duration": 79,
    "start_time": "2022-05-24T10:55:28.622Z"
   },
   {
    "duration": 72,
    "start_time": "2022-05-24T10:55:43.535Z"
   },
   {
    "duration": 76,
    "start_time": "2022-05-24T10:59:36.743Z"
   },
   {
    "duration": 84,
    "start_time": "2022-05-24T10:59:43.640Z"
   },
   {
    "duration": 99,
    "start_time": "2022-05-24T11:00:02.718Z"
   },
   {
    "duration": 80,
    "start_time": "2022-05-24T11:00:14.049Z"
   },
   {
    "duration": 89,
    "start_time": "2022-05-24T11:00:27.628Z"
   },
   {
    "duration": 80,
    "start_time": "2022-05-24T11:06:59.678Z"
   },
   {
    "duration": 82,
    "start_time": "2022-05-24T11:10:12.282Z"
   },
   {
    "duration": 124,
    "start_time": "2022-05-24T11:15:34.650Z"
   },
   {
    "duration": 119,
    "start_time": "2022-05-24T11:16:29.722Z"
   },
   {
    "duration": 107,
    "start_time": "2022-05-24T11:16:55.281Z"
   },
   {
    "duration": 104,
    "start_time": "2022-05-24T11:21:09.573Z"
   },
   {
    "duration": 116,
    "start_time": "2022-05-24T11:21:29.592Z"
   },
   {
    "duration": 87,
    "start_time": "2022-05-24T11:23:32.615Z"
   },
   {
    "duration": 121,
    "start_time": "2022-05-24T11:24:15.465Z"
   },
   {
    "duration": 88,
    "start_time": "2022-05-24T11:24:37.602Z"
   },
   {
    "duration": 88,
    "start_time": "2022-05-24T11:25:42.252Z"
   },
   {
    "duration": 655,
    "start_time": "2022-05-24T11:25:50.782Z"
   },
   {
    "duration": 99,
    "start_time": "2022-05-24T11:26:07.244Z"
   },
   {
    "duration": 88,
    "start_time": "2022-05-24T11:26:24.919Z"
   },
   {
    "duration": 80,
    "start_time": "2022-05-24T11:26:32.411Z"
   },
   {
    "duration": 86,
    "start_time": "2022-05-24T11:26:44.552Z"
   },
   {
    "duration": 90,
    "start_time": "2022-05-24T11:27:31.637Z"
   },
   {
    "duration": 88,
    "start_time": "2022-05-24T11:30:14.763Z"
   },
   {
    "duration": 104,
    "start_time": "2022-05-24T11:32:31.090Z"
   },
   {
    "duration": 87,
    "start_time": "2022-05-24T11:35:25.983Z"
   },
   {
    "duration": 89,
    "start_time": "2022-05-24T11:36:37.622Z"
   },
   {
    "duration": 91,
    "start_time": "2022-05-24T11:39:22.573Z"
   },
   {
    "duration": 82,
    "start_time": "2022-05-24T11:40:18.271Z"
   },
   {
    "duration": 77,
    "start_time": "2022-05-24T11:43:33.771Z"
   },
   {
    "duration": 77,
    "start_time": "2022-05-24T11:44:19.272Z"
   },
   {
    "duration": 89,
    "start_time": "2022-05-24T11:45:02.861Z"
   },
   {
    "duration": 90,
    "start_time": "2022-05-24T11:45:41.306Z"
   },
   {
    "duration": 651,
    "start_time": "2022-05-24T11:46:06.212Z"
   },
   {
    "duration": 79,
    "start_time": "2022-05-24T11:46:21.171Z"
   },
   {
    "duration": 87,
    "start_time": "2022-05-24T11:47:36.443Z"
   },
   {
    "duration": 218,
    "start_time": "2022-05-24T11:52:46.309Z"
   },
   {
    "duration": 492,
    "start_time": "2022-05-24T11:53:44.669Z"
   },
   {
    "duration": 87,
    "start_time": "2022-05-24T11:54:03.208Z"
   },
   {
    "duration": 1148,
    "start_time": "2022-05-24T11:56:27.395Z"
   },
   {
    "duration": 426,
    "start_time": "2022-05-24T11:56:28.545Z"
   },
   {
    "duration": 5,
    "start_time": "2022-05-24T11:56:28.975Z"
   },
   {
    "duration": 338,
    "start_time": "2022-05-24T11:56:28.982Z"
   },
   {
    "duration": 52,
    "start_time": "2022-05-24T11:56:29.321Z"
   },
   {
    "duration": 33,
    "start_time": "2022-05-24T11:56:29.377Z"
   },
   {
    "duration": 32,
    "start_time": "2022-05-24T11:56:29.412Z"
   },
   {
    "duration": 57,
    "start_time": "2022-05-24T11:56:29.446Z"
   },
   {
    "duration": 5,
    "start_time": "2022-05-24T11:56:29.505Z"
   },
   {
    "duration": 17,
    "start_time": "2022-05-24T11:56:29.513Z"
   },
   {
    "duration": 72,
    "start_time": "2022-05-24T11:56:29.532Z"
   },
   {
    "duration": 78,
    "start_time": "2022-05-24T11:56:29.606Z"
   },
   {
    "duration": 146,
    "start_time": "2022-05-24T11:56:29.686Z"
   },
   {
    "duration": 6,
    "start_time": "2022-05-24T11:56:29.834Z"
   },
   {
    "duration": 39,
    "start_time": "2022-05-24T11:56:29.841Z"
   },
   {
    "duration": 6,
    "start_time": "2022-05-24T11:56:29.883Z"
   },
   {
    "duration": 5,
    "start_time": "2022-05-24T11:56:29.892Z"
   },
   {
    "duration": 1007,
    "start_time": "2022-05-24T11:56:29.899Z"
   },
   {
    "duration": 1529,
    "start_time": "2022-05-24T11:56:30.908Z"
   },
   {
    "duration": 274,
    "start_time": "2022-05-24T11:56:32.439Z"
   },
   {
    "duration": 315,
    "start_time": "2022-05-24T11:56:32.715Z"
   },
   {
    "duration": 184,
    "start_time": "2022-05-24T11:56:33.032Z"
   },
   {
    "duration": 13,
    "start_time": "2022-05-24T11:56:33.218Z"
   },
   {
    "duration": 108,
    "start_time": "2022-05-24T11:56:33.233Z"
   },
   {
    "duration": 73,
    "start_time": "2022-05-24T11:56:33.343Z"
   },
   {
    "duration": 110,
    "start_time": "2022-05-24T11:56:33.418Z"
   },
   {
    "duration": 10,
    "start_time": "2022-05-24T11:56:33.529Z"
   },
   {
    "duration": 37,
    "start_time": "2022-05-24T11:56:33.541Z"
   },
   {
    "duration": 40,
    "start_time": "2022-05-24T11:56:33.580Z"
   },
   {
    "duration": 112,
    "start_time": "2022-05-24T11:56:33.622Z"
   },
   {
    "duration": 96,
    "start_time": "2022-05-24T11:57:45.610Z"
   },
   {
    "duration": 210,
    "start_time": "2022-05-24T11:58:39.917Z"
   },
   {
    "duration": 103,
    "start_time": "2022-05-24T11:58:51.749Z"
   },
   {
    "duration": 99,
    "start_time": "2022-05-24T12:00:06.278Z"
   },
   {
    "duration": 100,
    "start_time": "2022-05-24T12:00:32.699Z"
   },
   {
    "duration": 82,
    "start_time": "2022-05-24T12:00:45.150Z"
   },
   {
    "duration": 99,
    "start_time": "2022-05-24T12:01:25.923Z"
   },
   {
    "duration": 89,
    "start_time": "2022-05-24T12:02:35.450Z"
   },
   {
    "duration": 87,
    "start_time": "2022-05-24T12:03:09.479Z"
   },
   {
    "duration": 119,
    "start_time": "2022-05-24T12:03:32.849Z"
   },
   {
    "duration": 46,
    "start_time": "2022-05-24T12:04:29.530Z"
   },
   {
    "duration": 704,
    "start_time": "2022-05-24T12:04:36.368Z"
   },
   {
    "duration": 94,
    "start_time": "2022-05-24T12:05:25.908Z"
   },
   {
    "duration": 84,
    "start_time": "2022-05-24T12:05:32.571Z"
   },
   {
    "duration": 79,
    "start_time": "2022-05-24T12:05:53.276Z"
   },
   {
    "duration": 96,
    "start_time": "2022-05-24T12:05:58.301Z"
   },
   {
    "duration": 94,
    "start_time": "2022-05-24T12:06:05.332Z"
   },
   {
    "duration": 85,
    "start_time": "2022-05-24T12:07:24.260Z"
   },
   {
    "duration": 92,
    "start_time": "2022-05-24T12:07:32.748Z"
   },
   {
    "duration": 869,
    "start_time": "2022-05-24T12:07:47.510Z"
   },
   {
    "duration": 559,
    "start_time": "2022-05-24T12:08:07.351Z"
   },
   {
    "duration": 103,
    "start_time": "2022-05-24T12:09:24.077Z"
   },
   {
    "duration": 82,
    "start_time": "2022-05-24T12:09:29.090Z"
   },
   {
    "duration": 82,
    "start_time": "2022-05-24T12:10:02.521Z"
   },
   {
    "duration": 74,
    "start_time": "2022-05-24T12:10:18.521Z"
   },
   {
    "duration": 71,
    "start_time": "2022-05-24T12:10:28.400Z"
   },
   {
    "duration": 90,
    "start_time": "2022-05-24T12:24:02.829Z"
   },
   {
    "duration": 68,
    "start_time": "2022-05-24T12:29:04.588Z"
   },
   {
    "duration": 68,
    "start_time": "2022-05-24T12:29:38.388Z"
   },
   {
    "duration": 66,
    "start_time": "2022-05-24T12:35:26.308Z"
   },
   {
    "duration": 18,
    "start_time": "2022-05-24T12:36:28.079Z"
   },
   {
    "duration": 16,
    "start_time": "2022-05-24T12:39:04.628Z"
   },
   {
    "duration": 36,
    "start_time": "2022-05-24T12:39:16.760Z"
   },
   {
    "duration": 53,
    "start_time": "2022-05-24T12:39:31.250Z"
   },
   {
    "duration": 44,
    "start_time": "2022-05-24T12:49:25.098Z"
   },
   {
    "duration": 94,
    "start_time": "2022-05-24T12:50:00.919Z"
   },
   {
    "duration": 81,
    "start_time": "2022-05-24T12:50:37.918Z"
   },
   {
    "duration": 69,
    "start_time": "2022-05-24T12:52:09.683Z"
   },
   {
    "duration": 80,
    "start_time": "2022-05-24T12:52:22.775Z"
   },
   {
    "duration": 95,
    "start_time": "2022-05-24T12:54:01.116Z"
   },
   {
    "duration": 73,
    "start_time": "2022-05-24T12:54:45.348Z"
   },
   {
    "duration": 81,
    "start_time": "2022-05-24T12:57:26.342Z"
   },
   {
    "duration": 76,
    "start_time": "2022-05-24T12:57:54.888Z"
   },
   {
    "duration": 78,
    "start_time": "2022-05-24T12:58:39.087Z"
   },
   {
    "duration": 82,
    "start_time": "2022-05-24T13:09:41.939Z"
   },
   {
    "duration": 91,
    "start_time": "2022-05-24T13:09:58.688Z"
   },
   {
    "duration": 70,
    "start_time": "2022-05-24T13:10:23.378Z"
   },
   {
    "duration": 92,
    "start_time": "2022-05-24T13:10:37.499Z"
   },
   {
    "duration": 87,
    "start_time": "2022-05-24T13:11:39.291Z"
   },
   {
    "duration": 89,
    "start_time": "2022-05-24T13:12:07.939Z"
   },
   {
    "duration": 87,
    "start_time": "2022-05-24T13:13:17.040Z"
   },
   {
    "duration": 649,
    "start_time": "2022-05-24T13:14:25.878Z"
   },
   {
    "duration": 113,
    "start_time": "2022-05-24T13:15:08.967Z"
   },
   {
    "duration": 88,
    "start_time": "2022-05-24T13:16:30.890Z"
   },
   {
    "duration": 83,
    "start_time": "2022-05-24T13:16:43.939Z"
   },
   {
    "duration": 122,
    "start_time": "2022-05-24T13:18:51.289Z"
   },
   {
    "duration": 101,
    "start_time": "2022-05-24T13:19:17.818Z"
   },
   {
    "duration": 31,
    "start_time": "2022-05-24T13:20:00.650Z"
   },
   {
    "duration": 82,
    "start_time": "2022-05-24T13:20:06.474Z"
   },
   {
    "duration": 105,
    "start_time": "2022-05-24T13:20:16.227Z"
   },
   {
    "duration": 103,
    "start_time": "2022-05-24T13:20:39.679Z"
   },
   {
    "duration": 207,
    "start_time": "2022-05-24T13:28:31.598Z"
   },
   {
    "duration": 98,
    "start_time": "2022-05-24T13:28:40.546Z"
   },
   {
    "duration": 95,
    "start_time": "2022-05-24T13:29:08.237Z"
   },
   {
    "duration": 121,
    "start_time": "2022-05-24T13:35:19.027Z"
   },
   {
    "duration": 555,
    "start_time": "2022-05-24T13:39:23.078Z"
   },
   {
    "duration": 27,
    "start_time": "2022-05-24T13:39:50.789Z"
   },
   {
    "duration": 36,
    "start_time": "2022-05-24T13:40:09.006Z"
   },
   {
    "duration": 100,
    "start_time": "2022-05-24T13:40:45.700Z"
   },
   {
    "duration": 105,
    "start_time": "2022-05-24T13:41:56.588Z"
   },
   {
    "duration": 153,
    "start_time": "2022-05-24T13:42:27.638Z"
   },
   {
    "duration": 115,
    "start_time": "2022-05-24T13:42:37.409Z"
   },
   {
    "duration": 513,
    "start_time": "2022-05-24T13:44:21.000Z"
   },
   {
    "duration": 129,
    "start_time": "2022-05-24T13:50:57.962Z"
   },
   {
    "duration": 99,
    "start_time": "2022-05-24T13:52:07.614Z"
   },
   {
    "duration": 101,
    "start_time": "2022-05-24T13:52:57.815Z"
   },
   {
    "duration": 607,
    "start_time": "2022-05-24T13:53:33.926Z"
   },
   {
    "duration": 158,
    "start_time": "2022-05-24T13:53:52.237Z"
   },
   {
    "duration": 89,
    "start_time": "2022-05-24T13:54:19.227Z"
   },
   {
    "duration": 120,
    "start_time": "2022-05-24T13:54:47.246Z"
   },
   {
    "duration": 99,
    "start_time": "2022-05-24T13:55:26.841Z"
   },
   {
    "duration": 8015,
    "start_time": "2022-05-24T13:55:50.445Z"
   },
   {
    "duration": 104,
    "start_time": "2022-05-24T13:57:27.528Z"
   },
   {
    "duration": 106,
    "start_time": "2022-05-24T13:57:38.815Z"
   },
   {
    "duration": 107,
    "start_time": "2022-05-24T13:58:05.464Z"
   },
   {
    "duration": 114,
    "start_time": "2022-05-24T13:58:36.215Z"
   },
   {
    "duration": 97,
    "start_time": "2022-05-24T13:58:55.412Z"
   },
   {
    "duration": 103,
    "start_time": "2022-05-24T13:59:20.590Z"
   },
   {
    "duration": 124,
    "start_time": "2022-05-24T14:04:41.167Z"
   },
   {
    "duration": 151,
    "start_time": "2022-05-24T14:09:31.527Z"
   },
   {
    "duration": 134,
    "start_time": "2022-05-24T14:11:30.485Z"
   },
   {
    "duration": 184,
    "start_time": "2022-05-24T14:11:40.691Z"
   },
   {
    "duration": 110,
    "start_time": "2022-05-24T14:14:15.230Z"
   },
   {
    "duration": 133,
    "start_time": "2022-05-24T14:14:46.453Z"
   },
   {
    "duration": 117,
    "start_time": "2022-05-24T14:15:05.889Z"
   },
   {
    "duration": 107,
    "start_time": "2022-05-24T14:15:33.799Z"
   },
   {
    "duration": 109,
    "start_time": "2022-05-24T14:15:52.119Z"
   },
   {
    "duration": 106,
    "start_time": "2022-05-24T14:16:36.080Z"
   },
   {
    "duration": 137,
    "start_time": "2022-05-24T14:16:50.769Z"
   },
   {
    "duration": 113,
    "start_time": "2022-05-24T14:17:03.846Z"
   },
   {
    "duration": 132,
    "start_time": "2022-05-24T14:17:47.611Z"
   },
   {
    "duration": 44,
    "start_time": "2022-05-24T14:18:14.719Z"
   },
   {
    "duration": 105,
    "start_time": "2022-05-24T14:18:21.449Z"
   },
   {
    "duration": 119,
    "start_time": "2022-05-24T14:18:49.964Z"
   },
   {
    "duration": 113,
    "start_time": "2022-05-24T14:19:23.980Z"
   },
   {
    "duration": 122,
    "start_time": "2022-05-24T14:19:45.488Z"
   },
   {
    "duration": 125,
    "start_time": "2022-05-24T14:20:08.440Z"
   },
   {
    "duration": 129,
    "start_time": "2022-05-24T14:20:39.035Z"
   },
   {
    "duration": 104,
    "start_time": "2022-05-24T14:20:51.044Z"
   },
   {
    "duration": 136,
    "start_time": "2022-05-24T14:21:31.481Z"
   },
   {
    "duration": 138,
    "start_time": "2022-05-24T14:21:58.949Z"
   },
   {
    "duration": 166,
    "start_time": "2022-05-24T14:22:07.023Z"
   },
   {
    "duration": 106,
    "start_time": "2022-05-24T14:26:29.599Z"
   },
   {
    "duration": 1221,
    "start_time": "2022-05-24T14:31:31.002Z"
   },
   {
    "duration": 299,
    "start_time": "2022-05-24T14:31:32.225Z"
   },
   {
    "duration": 4,
    "start_time": "2022-05-24T14:31:32.526Z"
   },
   {
    "duration": 371,
    "start_time": "2022-05-24T14:31:32.532Z"
   },
   {
    "duration": 43,
    "start_time": "2022-05-24T14:31:32.905Z"
   },
   {
    "duration": 42,
    "start_time": "2022-05-24T14:31:32.951Z"
   },
   {
    "duration": 41,
    "start_time": "2022-05-24T14:31:32.995Z"
   },
   {
    "duration": 60,
    "start_time": "2022-05-24T14:31:33.038Z"
   },
   {
    "duration": 4,
    "start_time": "2022-05-24T14:31:33.100Z"
   },
   {
    "duration": 20,
    "start_time": "2022-05-24T14:31:33.107Z"
   },
   {
    "duration": 67,
    "start_time": "2022-05-24T14:31:33.128Z"
   },
   {
    "duration": 70,
    "start_time": "2022-05-24T14:31:33.197Z"
   },
   {
    "duration": 131,
    "start_time": "2022-05-24T14:31:33.269Z"
   },
   {
    "duration": 5,
    "start_time": "2022-05-24T14:31:33.401Z"
   },
   {
    "duration": 15,
    "start_time": "2022-05-24T14:31:33.408Z"
   },
   {
    "duration": 4,
    "start_time": "2022-05-24T14:31:33.424Z"
   },
   {
    "duration": 4,
    "start_time": "2022-05-24T14:31:33.430Z"
   },
   {
    "duration": 975,
    "start_time": "2022-05-24T14:31:33.463Z"
   },
   {
    "duration": 1354,
    "start_time": "2022-05-24T14:31:34.440Z"
   },
   {
    "duration": 245,
    "start_time": "2022-05-24T14:31:35.796Z"
   },
   {
    "duration": 297,
    "start_time": "2022-05-24T14:31:36.043Z"
   },
   {
    "duration": 187,
    "start_time": "2022-05-24T14:31:36.341Z"
   },
   {
    "duration": 12,
    "start_time": "2022-05-24T14:31:36.529Z"
   },
   {
    "duration": 95,
    "start_time": "2022-05-24T14:31:36.543Z"
   },
   {
    "duration": 59,
    "start_time": "2022-05-24T14:31:36.640Z"
   },
   {
    "duration": 104,
    "start_time": "2022-05-24T14:31:36.701Z"
   },
   {
    "duration": 8,
    "start_time": "2022-05-24T14:31:36.807Z"
   },
   {
    "duration": 18,
    "start_time": "2022-05-24T14:31:36.819Z"
   },
   {
    "duration": 56,
    "start_time": "2022-05-24T14:31:36.838Z"
   },
   {
    "duration": 92,
    "start_time": "2022-05-24T14:31:36.895Z"
   },
   {
    "duration": 227,
    "start_time": "2022-05-24T14:31:36.989Z"
   },
   {
    "duration": 97,
    "start_time": "2022-05-24T14:40:44.585Z"
   },
   {
    "duration": 90,
    "start_time": "2022-05-24T14:42:19.400Z"
   },
   {
    "duration": 99,
    "start_time": "2022-05-24T14:42:59.088Z"
   },
   {
    "duration": 161,
    "start_time": "2022-05-24T14:50:17.298Z"
   },
   {
    "duration": 166,
    "start_time": "2022-05-24T14:51:19.509Z"
   },
   {
    "duration": 170,
    "start_time": "2022-05-24T14:52:13.348Z"
   },
   {
    "duration": 164,
    "start_time": "2022-05-24T14:52:21.612Z"
   },
   {
    "duration": 180,
    "start_time": "2022-05-24T14:52:37.559Z"
   },
   {
    "duration": 49,
    "start_time": "2022-05-24T14:57:00.560Z"
   },
   {
    "duration": 43,
    "start_time": "2022-05-24T14:57:46.036Z"
   },
   {
    "duration": 57,
    "start_time": "2022-05-24T14:57:52.734Z"
   },
   {
    "duration": 23,
    "start_time": "2022-05-24T14:58:46.495Z"
   },
   {
    "duration": 62,
    "start_time": "2022-05-24T14:59:56.238Z"
   },
   {
    "duration": 166,
    "start_time": "2022-05-24T15:03:43.720Z"
   },
   {
    "duration": 45,
    "start_time": "2022-05-24T15:15:54.504Z"
   },
   {
    "duration": 29,
    "start_time": "2022-05-24T15:16:33.484Z"
   },
   {
    "duration": 16,
    "start_time": "2022-05-24T15:17:14.307Z"
   },
   {
    "duration": 53,
    "start_time": "2022-05-24T15:17:33.499Z"
   },
   {
    "duration": 52,
    "start_time": "2022-05-24T15:17:43.264Z"
   },
   {
    "duration": 159,
    "start_time": "2022-05-24T15:17:45.565Z"
   },
   {
    "duration": 182,
    "start_time": "2022-05-24T15:18:30.542Z"
   },
   {
    "duration": 180,
    "start_time": "2022-05-24T15:18:36.941Z"
   },
   {
    "duration": 17,
    "start_time": "2022-05-24T15:20:36.276Z"
   },
   {
    "duration": 70,
    "start_time": "2022-05-24T15:21:00.825Z"
   },
   {
    "duration": 394,
    "start_time": "2022-05-24T15:21:06.989Z"
   },
   {
    "duration": 300,
    "start_time": "2022-05-24T15:21:43.439Z"
   },
   {
    "duration": 652,
    "start_time": "2022-05-24T15:23:33.748Z"
   },
   {
    "duration": 533,
    "start_time": "2022-05-24T15:23:48.874Z"
   },
   {
    "duration": 593,
    "start_time": "2022-05-24T15:23:58.314Z"
   },
   {
    "duration": 47,
    "start_time": "2022-05-24T15:26:26.415Z"
   },
   {
    "duration": 47,
    "start_time": "2022-05-24T15:26:35.285Z"
   },
   {
    "duration": 72,
    "start_time": "2022-05-24T15:30:26.459Z"
   },
   {
    "duration": 73,
    "start_time": "2022-05-24T15:31:12.173Z"
   },
   {
    "duration": 30,
    "start_time": "2022-05-24T15:31:27.388Z"
   },
   {
    "duration": 64,
    "start_time": "2022-05-24T15:33:14.657Z"
   },
   {
    "duration": 58,
    "start_time": "2022-05-24T15:33:43.396Z"
   },
   {
    "duration": 59,
    "start_time": "2022-05-24T15:33:54.590Z"
   },
   {
    "duration": 38,
    "start_time": "2022-05-24T15:34:05.284Z"
   },
   {
    "duration": 62,
    "start_time": "2022-05-24T15:34:38.417Z"
   },
   {
    "duration": 61,
    "start_time": "2022-05-24T15:34:51.987Z"
   },
   {
    "duration": 10,
    "start_time": "2022-05-24T15:47:00.072Z"
   },
   {
    "duration": 24,
    "start_time": "2022-05-24T15:47:28.782Z"
   },
   {
    "duration": 17,
    "start_time": "2022-05-24T15:49:16.049Z"
   },
   {
    "duration": 14,
    "start_time": "2022-05-24T15:49:57.870Z"
   },
   {
    "duration": 14,
    "start_time": "2022-05-24T15:50:05.937Z"
   },
   {
    "duration": 36,
    "start_time": "2022-05-24T15:50:37.759Z"
   },
   {
    "duration": 35,
    "start_time": "2022-05-24T15:51:00.412Z"
   },
   {
    "duration": 61,
    "start_time": "2022-05-24T15:51:35.150Z"
   },
   {
    "duration": 220,
    "start_time": "2022-05-24T15:53:32.323Z"
   },
   {
    "duration": 11,
    "start_time": "2022-05-24T15:55:50.889Z"
   },
   {
    "duration": 24,
    "start_time": "2022-05-24T15:56:31.045Z"
   },
   {
    "duration": 28,
    "start_time": "2022-05-24T15:57:50.479Z"
   },
   {
    "duration": 15,
    "start_time": "2022-05-24T15:58:21.306Z"
   },
   {
    "duration": 393,
    "start_time": "2022-05-24T15:59:36.459Z"
   },
   {
    "duration": 13,
    "start_time": "2022-05-24T16:00:12.112Z"
   },
   {
    "duration": 225,
    "start_time": "2022-05-24T16:04:22.307Z"
   },
   {
    "duration": 20,
    "start_time": "2022-05-24T16:05:28.520Z"
   },
   {
    "duration": 2094,
    "start_time": "2022-05-24T16:08:14.042Z"
   },
   {
    "duration": 30,
    "start_time": "2022-05-24T16:10:11.784Z"
   },
   {
    "duration": 41,
    "start_time": "2022-05-24T16:10:35.142Z"
   },
   {
    "duration": 11,
    "start_time": "2022-05-24T16:10:51.886Z"
   },
   {
    "duration": 47,
    "start_time": "2022-05-24T16:11:45.741Z"
   },
   {
    "duration": 210,
    "start_time": "2022-05-24T16:12:01.967Z"
   },
   {
    "duration": 76,
    "start_time": "2022-05-24T16:15:23.167Z"
   },
   {
    "duration": 3,
    "start_time": "2022-05-24T16:17:51.811Z"
   },
   {
    "duration": 12,
    "start_time": "2022-05-24T16:18:32.460Z"
   },
   {
    "duration": 50,
    "start_time": "2022-05-24T16:19:01.058Z"
   },
   {
    "duration": 9,
    "start_time": "2022-05-24T16:20:56.099Z"
   },
   {
    "duration": 13,
    "start_time": "2022-05-24T16:22:17.078Z"
   },
   {
    "duration": 627,
    "start_time": "2022-05-24T16:22:45.878Z"
   },
   {
    "duration": 3,
    "start_time": "2022-05-24T16:30:06.909Z"
   },
   {
    "duration": 31,
    "start_time": "2022-05-24T16:30:09.008Z"
   },
   {
    "duration": 9,
    "start_time": "2022-05-24T16:30:36.424Z"
   },
   {
    "duration": 43,
    "start_time": "2022-05-24T16:30:52.936Z"
   },
   {
    "duration": 9,
    "start_time": "2022-05-24T16:31:05.226Z"
   },
   {
    "duration": 7,
    "start_time": "2022-05-24T16:31:17.238Z"
   },
   {
    "duration": 29,
    "start_time": "2022-05-24T16:31:19.468Z"
   },
   {
    "duration": 9,
    "start_time": "2022-05-24T16:31:22.296Z"
   },
   {
    "duration": 27,
    "start_time": "2022-05-24T16:47:30.971Z"
   },
   {
    "duration": 93,
    "start_time": "2022-05-24T16:47:58.508Z"
   },
   {
    "duration": 4,
    "start_time": "2022-05-24T16:48:30.517Z"
   },
   {
    "duration": 18,
    "start_time": "2022-05-24T16:50:26.287Z"
   },
   {
    "duration": 3,
    "start_time": "2022-05-24T16:51:55.038Z"
   },
   {
    "duration": 12,
    "start_time": "2022-05-24T16:51:56.181Z"
   },
   {
    "duration": 4,
    "start_time": "2022-05-24T16:55:17.073Z"
   },
   {
    "duration": 91,
    "start_time": "2022-05-24T16:58:09.008Z"
   },
   {
    "duration": 15,
    "start_time": "2022-05-24T16:58:27.256Z"
   },
   {
    "duration": 111,
    "start_time": "2022-05-24T16:58:28.723Z"
   },
   {
    "duration": 3,
    "start_time": "2022-05-24T17:00:49.946Z"
   },
   {
    "duration": 70,
    "start_time": "2022-05-24T17:01:58.916Z"
   },
   {
    "duration": 3,
    "start_time": "2022-05-24T17:02:25.436Z"
   },
   {
    "duration": 75,
    "start_time": "2022-05-24T17:02:26.285Z"
   },
   {
    "duration": 19,
    "start_time": "2022-05-24T17:03:50.105Z"
   },
   {
    "duration": 235,
    "start_time": "2022-05-24T17:06:39.645Z"
   },
   {
    "duration": 9,
    "start_time": "2022-05-24T17:07:38.616Z"
   },
   {
    "duration": 14,
    "start_time": "2022-05-24T17:09:36.769Z"
   },
   {
    "duration": 9,
    "start_time": "2022-05-24T17:11:04.396Z"
   },
   {
    "duration": 4,
    "start_time": "2022-05-24T17:11:06.245Z"
   },
   {
    "duration": 41,
    "start_time": "2022-05-24T17:11:07.605Z"
   },
   {
    "duration": 82,
    "start_time": "2022-05-24T17:11:25.655Z"
   },
   {
    "duration": 18,
    "start_time": "2022-05-24T17:12:02.606Z"
   },
   {
    "duration": 48,
    "start_time": "2022-05-24T17:13:16.155Z"
   },
   {
    "duration": 73,
    "start_time": "2022-05-24T17:20:43.217Z"
   },
   {
    "duration": 12,
    "start_time": "2022-05-24T17:27:45.641Z"
   },
   {
    "duration": 1195,
    "start_time": "2022-05-24T17:28:18.804Z"
   },
   {
    "duration": 397,
    "start_time": "2022-05-24T17:28:20.001Z"
   },
   {
    "duration": 6,
    "start_time": "2022-05-24T17:28:20.400Z"
   },
   {
    "duration": 373,
    "start_time": "2022-05-24T17:28:20.408Z"
   },
   {
    "duration": 43,
    "start_time": "2022-05-24T17:28:20.786Z"
   },
   {
    "duration": 34,
    "start_time": "2022-05-24T17:28:20.831Z"
   },
   {
    "duration": 51,
    "start_time": "2022-05-24T17:28:20.866Z"
   },
   {
    "duration": 31,
    "start_time": "2022-05-24T17:28:20.919Z"
   },
   {
    "duration": 9,
    "start_time": "2022-05-24T17:28:20.959Z"
   },
   {
    "duration": 29,
    "start_time": "2022-05-24T17:28:20.971Z"
   },
   {
    "duration": 44,
    "start_time": "2022-05-24T17:28:21.002Z"
   },
   {
    "duration": 78,
    "start_time": "2022-05-24T17:28:21.048Z"
   },
   {
    "duration": 166,
    "start_time": "2022-05-24T17:28:21.128Z"
   },
   {
    "duration": 5,
    "start_time": "2022-05-24T17:28:21.295Z"
   },
   {
    "duration": 17,
    "start_time": "2022-05-24T17:28:21.301Z"
   },
   {
    "duration": 4,
    "start_time": "2022-05-24T17:28:21.319Z"
   },
   {
    "duration": 5,
    "start_time": "2022-05-24T17:28:21.325Z"
   },
   {
    "duration": 1013,
    "start_time": "2022-05-24T17:28:21.331Z"
   },
   {
    "duration": 1598,
    "start_time": "2022-05-24T17:28:22.345Z"
   },
   {
    "duration": 311,
    "start_time": "2022-05-24T17:28:23.944Z"
   },
   {
    "duration": 294,
    "start_time": "2022-05-24T17:28:24.257Z"
   },
   {
    "duration": 184,
    "start_time": "2022-05-24T17:28:24.553Z"
   },
   {
    "duration": 25,
    "start_time": "2022-05-24T17:28:24.739Z"
   },
   {
    "duration": 82,
    "start_time": "2022-05-24T17:28:24.766Z"
   },
   {
    "duration": 82,
    "start_time": "2022-05-24T17:28:24.850Z"
   },
   {
    "duration": 3,
    "start_time": "2022-05-24T17:28:24.933Z"
   },
   {
    "duration": 115,
    "start_time": "2022-05-24T17:28:24.938Z"
   },
   {
    "duration": 17,
    "start_time": "2022-05-24T17:28:25.062Z"
   },
   {
    "duration": 18,
    "start_time": "2022-05-24T17:28:25.081Z"
   },
   {
    "duration": 78,
    "start_time": "2022-05-24T17:28:25.101Z"
   },
   {
    "duration": 39,
    "start_time": "2022-05-24T17:28:25.181Z"
   },
   {
    "duration": 92,
    "start_time": "2022-05-24T17:28:25.221Z"
   },
   {
    "duration": 254,
    "start_time": "2022-05-24T17:28:25.315Z"
   },
   {
    "duration": 11,
    "start_time": "2022-05-24T17:28:25.575Z"
   },
   {
    "duration": 217,
    "start_time": "2022-05-24T17:28:25.587Z"
   },
   {
    "duration": 214,
    "start_time": "2022-05-24T17:29:03.811Z"
   },
   {
    "duration": 3,
    "start_time": "2022-05-24T18:25:51.042Z"
   },
   {
    "duration": 146,
    "start_time": "2022-05-24T18:26:39.383Z"
   },
   {
    "duration": 10,
    "start_time": "2022-05-24T18:26:50.077Z"
   },
   {
    "duration": 247,
    "start_time": "2022-05-24T18:26:52.856Z"
   },
   {
    "duration": 9,
    "start_time": "2022-05-24T18:27:10.779Z"
   },
   {
    "duration": 207,
    "start_time": "2022-05-24T18:27:13.391Z"
   },
   {
    "duration": 207,
    "start_time": "2022-05-24T18:28:23.979Z"
   },
   {
    "duration": 291,
    "start_time": "2022-05-24T18:29:19.309Z"
   },
   {
    "duration": 247,
    "start_time": "2022-05-24T18:29:52.978Z"
   },
   {
    "duration": 272,
    "start_time": "2022-05-24T18:35:02.597Z"
   },
   {
    "duration": 4,
    "start_time": "2022-05-24T18:41:08.452Z"
   },
   {
    "duration": 3,
    "start_time": "2022-05-24T18:41:36.143Z"
   },
   {
    "duration": 43,
    "start_time": "2022-05-24T18:43:11.521Z"
   },
   {
    "duration": 33,
    "start_time": "2022-05-24T18:44:32.286Z"
   },
   {
    "duration": 34,
    "start_time": "2022-05-24T18:44:41.888Z"
   },
   {
    "duration": 3,
    "start_time": "2022-05-24T18:45:16.134Z"
   },
   {
    "duration": 45,
    "start_time": "2022-05-24T18:45:17.310Z"
   },
   {
    "duration": 4,
    "start_time": "2022-05-24T18:45:58.116Z"
   },
   {
    "duration": 67,
    "start_time": "2022-05-24T18:45:58.832Z"
   },
   {
    "duration": 181,
    "start_time": "2022-05-24T18:46:23.327Z"
   },
   {
    "duration": 4,
    "start_time": "2022-05-24T18:52:15.009Z"
   },
   {
    "duration": 11,
    "start_time": "2022-05-24T18:53:02.917Z"
   },
   {
    "duration": 3,
    "start_time": "2022-05-24T18:53:14.236Z"
   },
   {
    "duration": 24,
    "start_time": "2022-05-24T18:53:20.725Z"
   },
   {
    "duration": 3,
    "start_time": "2022-05-24T18:55:03.345Z"
   },
   {
    "duration": 52,
    "start_time": "2022-05-24T18:58:10.321Z"
   },
   {
    "duration": 41,
    "start_time": "2022-05-24T18:58:19.383Z"
   },
   {
    "duration": 3,
    "start_time": "2022-05-24T18:58:27.034Z"
   },
   {
    "duration": 4,
    "start_time": "2022-05-24T18:58:47.002Z"
   },
   {
    "duration": 3,
    "start_time": "2022-05-24T18:59:22.124Z"
   },
   {
    "duration": 47,
    "start_time": "2022-05-24T18:59:24.431Z"
   },
   {
    "duration": 7,
    "start_time": "2022-05-24T18:59:25.272Z"
   },
   {
    "duration": 3,
    "start_time": "2022-05-24T19:02:31.043Z"
   },
   {
    "duration": 7,
    "start_time": "2022-05-24T19:03:10.323Z"
   },
   {
    "duration": 13,
    "start_time": "2022-05-24T19:04:35.412Z"
   },
   {
    "duration": 8,
    "start_time": "2022-05-24T19:05:12.816Z"
   },
   {
    "duration": 7,
    "start_time": "2022-05-24T19:05:20.424Z"
   },
   {
    "duration": 9,
    "start_time": "2022-05-24T19:12:57.144Z"
   },
   {
    "duration": 3,
    "start_time": "2022-05-24T19:13:06.525Z"
   },
   {
    "duration": 35,
    "start_time": "2022-05-24T19:13:08.112Z"
   },
   {
    "duration": 11,
    "start_time": "2022-05-24T19:17:21.310Z"
   },
   {
    "duration": 69,
    "start_time": "2022-05-24T19:17:22.725Z"
   },
   {
    "duration": 58,
    "start_time": "2022-05-24T19:17:49.975Z"
   },
   {
    "duration": 67,
    "start_time": "2022-05-24T19:20:01.209Z"
   },
   {
    "duration": 9,
    "start_time": "2022-05-24T19:22:34.799Z"
   },
   {
    "duration": 8,
    "start_time": "2022-05-24T19:22:35.479Z"
   },
   {
    "duration": 9,
    "start_time": "2022-05-24T19:23:02.215Z"
   },
   {
    "duration": 7,
    "start_time": "2022-05-24T19:23:10.103Z"
   },
   {
    "duration": 16,
    "start_time": "2022-05-24T19:23:17.527Z"
   },
   {
    "duration": 60,
    "start_time": "2022-05-24T19:23:26.530Z"
   },
   {
    "duration": 13,
    "start_time": "2022-05-24T19:23:37.103Z"
   },
   {
    "duration": 13,
    "start_time": "2022-05-24T19:23:46.355Z"
   },
   {
    "duration": 22,
    "start_time": "2022-05-24T19:24:55.679Z"
   },
   {
    "duration": 23,
    "start_time": "2022-05-24T19:26:07.899Z"
   },
   {
    "duration": 26,
    "start_time": "2022-05-24T19:26:27.147Z"
   },
   {
    "duration": 56,
    "start_time": "2022-05-24T19:26:29.184Z"
   },
   {
    "duration": 66,
    "start_time": "2022-05-24T19:27:16.476Z"
   },
   {
    "duration": 220,
    "start_time": "2022-05-24T19:30:12.260Z"
   },
   {
    "duration": 263,
    "start_time": "2022-05-24T19:32:18.203Z"
   },
   {
    "duration": 225,
    "start_time": "2022-05-24T19:35:39.413Z"
   },
   {
    "duration": 4,
    "start_time": "2022-05-24T19:38:21.128Z"
   },
   {
    "duration": 3,
    "start_time": "2022-05-24T19:38:52.628Z"
   },
   {
    "duration": 3,
    "start_time": "2022-05-24T19:40:04.708Z"
   },
   {
    "duration": 4,
    "start_time": "2022-05-24T19:41:02.798Z"
   },
   {
    "duration": 17,
    "start_time": "2022-05-24T19:43:50.491Z"
   },
   {
    "duration": 68,
    "start_time": "2022-05-24T19:44:25.856Z"
   },
   {
    "duration": 64,
    "start_time": "2022-05-24T19:44:48.108Z"
   },
   {
    "duration": 24,
    "start_time": "2022-05-24T19:46:25.745Z"
   },
   {
    "duration": 59,
    "start_time": "2022-05-24T19:46:51.225Z"
   },
   {
    "duration": 43,
    "start_time": "2022-05-24T19:47:10.198Z"
   },
   {
    "duration": 11,
    "start_time": "2022-05-24T19:47:21.180Z"
   },
   {
    "duration": 62,
    "start_time": "2022-05-24T19:47:30.445Z"
   },
   {
    "duration": 49,
    "start_time": "2022-05-24T19:47:45.986Z"
   },
   {
    "duration": 24,
    "start_time": "2022-05-24T19:47:48.705Z"
   },
   {
    "duration": 26,
    "start_time": "2022-05-24T19:48:30.137Z"
   },
   {
    "duration": 19,
    "start_time": "2022-05-24T19:48:42.613Z"
   },
   {
    "duration": 50,
    "start_time": "2022-05-24T19:48:48.405Z"
   },
   {
    "duration": 60,
    "start_time": "2022-05-24T19:48:54.355Z"
   },
   {
    "duration": 44,
    "start_time": "2022-05-24T19:49:37.653Z"
   },
   {
    "duration": 38,
    "start_time": "2022-05-24T19:49:52.135Z"
   },
   {
    "duration": 66,
    "start_time": "2022-05-24T19:49:56.543Z"
   },
   {
    "duration": 80,
    "start_time": "2022-05-24T19:50:25.753Z"
   },
   {
    "duration": 1199,
    "start_time": "2022-05-24T20:15:48.361Z"
   },
   {
    "duration": 597,
    "start_time": "2022-05-24T20:15:49.562Z"
   },
   {
    "duration": 5,
    "start_time": "2022-05-24T20:15:50.161Z"
   },
   {
    "duration": 316,
    "start_time": "2022-05-24T20:15:50.168Z"
   },
   {
    "duration": 43,
    "start_time": "2022-05-24T20:15:50.486Z"
   },
   {
    "duration": 33,
    "start_time": "2022-05-24T20:15:50.531Z"
   },
   {
    "duration": 31,
    "start_time": "2022-05-24T20:15:50.566Z"
   },
   {
    "duration": 32,
    "start_time": "2022-05-24T20:15:50.599Z"
   },
   {
    "duration": 4,
    "start_time": "2022-05-24T20:15:50.660Z"
   },
   {
    "duration": 13,
    "start_time": "2022-05-24T20:15:50.666Z"
   },
   {
    "duration": 43,
    "start_time": "2022-05-24T20:15:50.680Z"
   },
   {
    "duration": 99,
    "start_time": "2022-05-24T20:15:50.725Z"
   },
   {
    "duration": 170,
    "start_time": "2022-05-24T20:15:50.825Z"
   },
   {
    "duration": 6,
    "start_time": "2022-05-24T20:15:50.997Z"
   },
   {
    "duration": 35,
    "start_time": "2022-05-24T20:15:51.004Z"
   },
   {
    "duration": 8,
    "start_time": "2022-05-24T20:15:51.040Z"
   },
   {
    "duration": 17,
    "start_time": "2022-05-24T20:15:51.049Z"
   },
   {
    "duration": 938,
    "start_time": "2022-05-24T20:15:51.068Z"
   },
   {
    "duration": 1476,
    "start_time": "2022-05-24T20:15:52.008Z"
   },
   {
    "duration": 256,
    "start_time": "2022-05-24T20:15:53.486Z"
   },
   {
    "duration": 4,
    "start_time": "2022-05-24T20:15:53.743Z"
   },
   {
    "duration": 289,
    "start_time": "2022-05-24T20:15:53.749Z"
   },
   {
    "duration": 198,
    "start_time": "2022-05-24T20:15:54.040Z"
   },
   {
    "duration": 22,
    "start_time": "2022-05-24T20:15:54.240Z"
   },
   {
    "duration": 80,
    "start_time": "2022-05-24T20:15:54.264Z"
   },
   {
    "duration": 67,
    "start_time": "2022-05-24T20:15:54.345Z"
   },
   {
    "duration": 3,
    "start_time": "2022-05-24T20:15:54.414Z"
   },
   {
    "duration": 8,
    "start_time": "2022-05-24T20:15:54.420Z"
   },
   {
    "duration": 58,
    "start_time": "2022-05-24T20:15:54.430Z"
   },
   {
    "duration": 48,
    "start_time": "2022-05-24T20:15:54.489Z"
   },
   {
    "duration": 24,
    "start_time": "2022-05-24T20:15:54.539Z"
   },
   {
    "duration": 21,
    "start_time": "2022-05-24T20:15:54.565Z"
   },
   {
    "duration": 31,
    "start_time": "2022-05-24T20:15:54.587Z"
   },
   {
    "duration": 73,
    "start_time": "2022-05-24T20:15:54.620Z"
   },
   {
    "duration": 22,
    "start_time": "2022-05-24T20:15:54.695Z"
   },
   {
    "duration": 48,
    "start_time": "2022-05-24T20:15:54.719Z"
   },
   {
    "duration": 4,
    "start_time": "2022-05-24T20:15:54.769Z"
   },
   {
    "duration": 24,
    "start_time": "2022-05-24T20:15:54.774Z"
   },
   {
    "duration": 62,
    "start_time": "2022-05-24T20:15:54.799Z"
   },
   {
    "duration": 231,
    "start_time": "2022-05-24T20:15:54.863Z"
   },
   {
    "duration": 232,
    "start_time": "2022-05-24T20:15:55.095Z"
   },
   {
    "duration": 227,
    "start_time": "2022-05-24T20:25:55.577Z"
   },
   {
    "duration": 10,
    "start_time": "2022-05-24T20:26:04.889Z"
   },
   {
    "duration": 13,
    "start_time": "2022-05-24T20:26:18.409Z"
   },
   {
    "duration": 5,
    "start_time": "2022-05-24T20:26:51.217Z"
   },
   {
    "duration": 13,
    "start_time": "2022-05-24T20:27:04.087Z"
   },
   {
    "duration": 12,
    "start_time": "2022-05-24T20:27:55.689Z"
   },
   {
    "duration": 21,
    "start_time": "2022-05-24T20:28:08.659Z"
   },
   {
    "duration": 222,
    "start_time": "2022-05-24T20:30:02.384Z"
   },
   {
    "duration": 18,
    "start_time": "2022-05-24T20:30:13.852Z"
   },
   {
    "duration": 20,
    "start_time": "2022-05-24T20:31:22.659Z"
   },
   {
    "duration": 12,
    "start_time": "2022-05-24T20:31:37.819Z"
   },
   {
    "duration": 11,
    "start_time": "2022-05-24T20:31:59.629Z"
   },
   {
    "duration": 112,
    "start_time": "2022-05-24T20:32:10.218Z"
   },
   {
    "duration": 10,
    "start_time": "2022-05-24T20:32:16.579Z"
   },
   {
    "duration": 259,
    "start_time": "2022-05-24T20:32:26.012Z"
   },
   {
    "duration": 12,
    "start_time": "2022-05-24T20:32:28.048Z"
   },
   {
    "duration": 47,
    "start_time": "2022-05-24T20:35:48.652Z"
   },
   {
    "duration": 57,
    "start_time": "2022-05-24T20:36:49.101Z"
   },
   {
    "duration": 15,
    "start_time": "2022-05-24T20:39:03.181Z"
   },
   {
    "duration": 14,
    "start_time": "2022-05-24T20:39:04.090Z"
   },
   {
    "duration": 14,
    "start_time": "2022-05-24T20:39:17.657Z"
   },
   {
    "duration": 66,
    "start_time": "2022-05-24T20:43:56.483Z"
   },
   {
    "duration": 77,
    "start_time": "2022-05-24T20:44:34.519Z"
   },
   {
    "duration": 69,
    "start_time": "2022-05-24T20:45:59.746Z"
   },
   {
    "duration": 57,
    "start_time": "2022-05-24T20:46:45.512Z"
   },
   {
    "duration": 70,
    "start_time": "2022-05-24T20:47:00.112Z"
   },
   {
    "duration": 39,
    "start_time": "2022-05-24T20:47:26.297Z"
   },
   {
    "duration": 36,
    "start_time": "2022-05-24T20:51:04.592Z"
   },
   {
    "duration": 54,
    "start_time": "2022-05-24T20:51:48.473Z"
   },
   {
    "duration": 57,
    "start_time": "2022-05-24T20:52:09.473Z"
   },
   {
    "duration": 62,
    "start_time": "2022-05-24T20:52:44.571Z"
   },
   {
    "duration": 66,
    "start_time": "2022-05-24T20:53:40.780Z"
   },
   {
    "duration": 66,
    "start_time": "2022-05-24T20:54:07.280Z"
   },
   {
    "duration": 50,
    "start_time": "2022-05-24T20:55:15.490Z"
   },
   {
    "duration": 63,
    "start_time": "2022-05-24T20:56:26.570Z"
   },
   {
    "duration": 56,
    "start_time": "2022-05-24T20:56:36.104Z"
   },
   {
    "duration": 48,
    "start_time": "2022-05-24T20:58:36.351Z"
   },
   {
    "duration": 46,
    "start_time": "2022-05-24T20:58:53.839Z"
   },
   {
    "duration": 89,
    "start_time": "2022-05-24T20:59:03.984Z"
   },
   {
    "duration": 86,
    "start_time": "2022-05-24T20:59:41.988Z"
   },
   {
    "duration": 62,
    "start_time": "2022-05-24T21:00:20.220Z"
   },
   {
    "duration": 36,
    "start_time": "2022-05-24T21:01:58.204Z"
   },
   {
    "duration": 80,
    "start_time": "2022-05-24T21:06:40.557Z"
   },
   {
    "duration": 80,
    "start_time": "2022-05-24T21:10:06.971Z"
   },
   {
    "duration": 79,
    "start_time": "2022-05-24T21:10:39.172Z"
   },
   {
    "duration": 63,
    "start_time": "2022-05-24T21:13:45.244Z"
   },
   {
    "duration": 58,
    "start_time": "2022-05-24T21:14:16.452Z"
   },
   {
    "duration": 32,
    "start_time": "2022-05-24T21:19:10.287Z"
   },
   {
    "duration": 62,
    "start_time": "2022-05-24T21:19:32.357Z"
   },
   {
    "duration": 47,
    "start_time": "2022-05-24T21:20:32.076Z"
   },
   {
    "duration": 29,
    "start_time": "2022-05-24T21:28:00.444Z"
   },
   {
    "duration": 29,
    "start_time": "2022-05-24T21:28:05.537Z"
   },
   {
    "duration": 9,
    "start_time": "2022-05-24T21:29:54.763Z"
   },
   {
    "duration": 50,
    "start_time": "2022-05-24T21:30:24.584Z"
   },
   {
    "duration": 18,
    "start_time": "2022-05-24T21:31:17.276Z"
   },
   {
    "duration": 27,
    "start_time": "2022-05-24T21:31:53.789Z"
   },
   {
    "duration": 4,
    "start_time": "2022-05-24T21:32:51.678Z"
   },
   {
    "duration": 9,
    "start_time": "2022-05-24T21:33:07.379Z"
   },
   {
    "duration": 3,
    "start_time": "2022-05-24T21:33:21.576Z"
   },
   {
    "duration": 14,
    "start_time": "2022-05-24T21:33:59.454Z"
   },
   {
    "duration": 50,
    "start_time": "2022-05-24T21:34:38.964Z"
   },
   {
    "duration": 11,
    "start_time": "2022-05-24T21:34:43.094Z"
   },
   {
    "duration": 3,
    "start_time": "2022-05-24T21:35:06.522Z"
   },
   {
    "duration": 10,
    "start_time": "2022-05-24T21:35:32.535Z"
   },
   {
    "duration": 24,
    "start_time": "2022-05-24T21:35:42.842Z"
   },
   {
    "duration": 61,
    "start_time": "2022-05-24T21:35:43.682Z"
   },
   {
    "duration": 13,
    "start_time": "2022-05-24T21:35:47.572Z"
   },
   {
    "duration": 10,
    "start_time": "2022-05-24T21:35:52.736Z"
   },
   {
    "duration": 27,
    "start_time": "2022-05-24T21:36:31.075Z"
   },
   {
    "duration": 55,
    "start_time": "2022-05-24T21:36:31.664Z"
   },
   {
    "duration": 14,
    "start_time": "2022-05-24T21:36:42.605Z"
   },
   {
    "duration": 41,
    "start_time": "2022-05-24T21:37:41.924Z"
   },
   {
    "duration": 12,
    "start_time": "2022-05-24T21:37:45.487Z"
   },
   {
    "duration": 3,
    "start_time": "2022-05-24T21:37:48.122Z"
   },
   {
    "duration": 14,
    "start_time": "2022-05-24T21:37:49.696Z"
   },
   {
    "duration": 7,
    "start_time": "2022-05-24T21:38:33.883Z"
   },
   {
    "duration": 28,
    "start_time": "2022-05-24T21:41:12.108Z"
   },
   {
    "duration": 12,
    "start_time": "2022-05-24T21:41:19.287Z"
   },
   {
    "duration": 28,
    "start_time": "2022-05-24T21:41:44.858Z"
   },
   {
    "duration": 12,
    "start_time": "2022-05-24T21:41:47.044Z"
   },
   {
    "duration": 25,
    "start_time": "2022-05-24T21:43:20.523Z"
   },
   {
    "duration": 28,
    "start_time": "2022-05-24T21:43:45.834Z"
   },
   {
    "duration": 10,
    "start_time": "2022-05-24T21:44:20.244Z"
   },
   {
    "duration": 9,
    "start_time": "2022-05-24T21:44:38.503Z"
   },
   {
    "duration": 1176,
    "start_time": "2022-05-24T21:45:03.235Z"
   },
   {
    "duration": 276,
    "start_time": "2022-05-24T21:45:04.413Z"
   },
   {
    "duration": 5,
    "start_time": "2022-05-24T21:45:04.690Z"
   },
   {
    "duration": 373,
    "start_time": "2022-05-24T21:45:04.696Z"
   },
   {
    "duration": 45,
    "start_time": "2022-05-24T21:45:05.075Z"
   },
   {
    "duration": 45,
    "start_time": "2022-05-24T21:45:05.122Z"
   },
   {
    "duration": 41,
    "start_time": "2022-05-24T21:45:05.169Z"
   },
   {
    "duration": 49,
    "start_time": "2022-05-24T21:45:05.211Z"
   },
   {
    "duration": 4,
    "start_time": "2022-05-24T21:45:05.262Z"
   },
   {
    "duration": 15,
    "start_time": "2022-05-24T21:45:05.267Z"
   },
   {
    "duration": 43,
    "start_time": "2022-05-24T21:45:05.284Z"
   },
   {
    "duration": 85,
    "start_time": "2022-05-24T21:45:05.329Z"
   },
   {
    "duration": 144,
    "start_time": "2022-05-24T21:45:05.415Z"
   },
   {
    "duration": 5,
    "start_time": "2022-05-24T21:45:05.562Z"
   },
   {
    "duration": 24,
    "start_time": "2022-05-24T21:45:05.568Z"
   },
   {
    "duration": 21,
    "start_time": "2022-05-24T21:45:05.593Z"
   },
   {
    "duration": 13,
    "start_time": "2022-05-24T21:45:05.615Z"
   },
   {
    "duration": 962,
    "start_time": "2022-05-24T21:45:05.630Z"
   },
   {
    "duration": 1474,
    "start_time": "2022-05-24T21:45:06.594Z"
   },
   {
    "duration": 245,
    "start_time": "2022-05-24T21:45:08.070Z"
   },
   {
    "duration": 4,
    "start_time": "2022-05-24T21:45:08.317Z"
   },
   {
    "duration": 281,
    "start_time": "2022-05-24T21:45:08.322Z"
   },
   {
    "duration": 169,
    "start_time": "2022-05-24T21:45:08.605Z"
   },
   {
    "duration": 15,
    "start_time": "2022-05-24T21:45:08.776Z"
   },
   {
    "duration": 82,
    "start_time": "2022-05-24T21:45:08.792Z"
   },
   {
    "duration": 54,
    "start_time": "2022-05-24T21:45:08.875Z"
   },
   {
    "duration": 3,
    "start_time": "2022-05-24T21:45:08.931Z"
   },
   {
    "duration": 11,
    "start_time": "2022-05-24T21:45:08.935Z"
   },
   {
    "duration": 43,
    "start_time": "2022-05-24T21:45:08.959Z"
   },
   {
    "duration": 65,
    "start_time": "2022-05-24T21:45:09.004Z"
   },
   {
    "duration": 10,
    "start_time": "2022-05-24T21:45:09.071Z"
   },
   {
    "duration": 37,
    "start_time": "2022-05-24T21:45:09.082Z"
   },
   {
    "duration": 12,
    "start_time": "2022-05-24T21:45:09.123Z"
   },
   {
    "duration": 76,
    "start_time": "2022-05-24T21:45:09.137Z"
   },
   {
    "duration": 18,
    "start_time": "2022-05-24T21:45:09.215Z"
   },
   {
    "duration": 39,
    "start_time": "2022-05-24T21:45:09.235Z"
   },
   {
    "duration": 4,
    "start_time": "2022-05-24T21:45:09.276Z"
   },
   {
    "duration": 21,
    "start_time": "2022-05-24T21:45:09.281Z"
   },
   {
    "duration": 78,
    "start_time": "2022-05-24T21:45:09.304Z"
   },
   {
    "duration": 239,
    "start_time": "2022-05-24T21:45:09.383Z"
   },
   {
    "duration": 205,
    "start_time": "2022-05-24T21:45:09.626Z"
   },
   {
    "duration": 31,
    "start_time": "2022-05-24T21:45:09.833Z"
   },
   {
    "duration": 45,
    "start_time": "2022-05-24T21:45:09.866Z"
   },
   {
    "duration": 23,
    "start_time": "2022-05-24T21:45:09.912Z"
   },
   {
    "duration": 11,
    "start_time": "2022-05-24T21:45:23.324Z"
   },
   {
    "duration": 9,
    "start_time": "2022-05-24T21:45:39.173Z"
   },
   {
    "duration": 1086,
    "start_time": "2022-05-24T21:45:59.204Z"
   },
   {
    "duration": 250,
    "start_time": "2022-05-24T21:46:00.292Z"
   },
   {
    "duration": 6,
    "start_time": "2022-05-24T21:46:00.543Z"
   },
   {
    "duration": 369,
    "start_time": "2022-05-24T21:46:00.551Z"
   },
   {
    "duration": 52,
    "start_time": "2022-05-24T21:46:00.922Z"
   },
   {
    "duration": 31,
    "start_time": "2022-05-24T21:46:00.976Z"
   },
   {
    "duration": 57,
    "start_time": "2022-05-24T21:46:01.009Z"
   },
   {
    "duration": 62,
    "start_time": "2022-05-24T21:46:01.068Z"
   },
   {
    "duration": 32,
    "start_time": "2022-05-24T21:46:01.132Z"
   },
   {
    "duration": 25,
    "start_time": "2022-05-24T21:46:01.166Z"
   },
   {
    "duration": 80,
    "start_time": "2022-05-24T21:46:01.193Z"
   },
   {
    "duration": 91,
    "start_time": "2022-05-24T21:46:01.274Z"
   },
   {
    "duration": 134,
    "start_time": "2022-05-24T21:46:01.366Z"
   },
   {
    "duration": 6,
    "start_time": "2022-05-24T21:46:01.502Z"
   },
   {
    "duration": 27,
    "start_time": "2022-05-24T21:46:01.509Z"
   },
   {
    "duration": 8,
    "start_time": "2022-05-24T21:46:01.537Z"
   },
   {
    "duration": 13,
    "start_time": "2022-05-24T21:46:01.547Z"
   },
   {
    "duration": 931,
    "start_time": "2022-05-24T21:46:01.561Z"
   },
   {
    "duration": 1446,
    "start_time": "2022-05-24T21:46:02.494Z"
   },
   {
    "duration": 257,
    "start_time": "2022-05-24T21:46:03.942Z"
   },
   {
    "duration": 4,
    "start_time": "2022-05-24T21:46:04.200Z"
   },
   {
    "duration": 286,
    "start_time": "2022-05-24T21:46:04.206Z"
   },
   {
    "duration": 163,
    "start_time": "2022-05-24T21:46:04.493Z"
   },
   {
    "duration": 13,
    "start_time": "2022-05-24T21:46:04.657Z"
   },
   {
    "duration": 72,
    "start_time": "2022-05-24T21:46:04.671Z"
   },
   {
    "duration": 53,
    "start_time": "2022-05-24T21:46:04.759Z"
   },
   {
    "duration": 3,
    "start_time": "2022-05-24T21:46:04.814Z"
   },
   {
    "duration": 3,
    "start_time": "2022-05-24T21:46:04.821Z"
   },
   {
    "duration": 64,
    "start_time": "2022-05-24T21:46:04.825Z"
   },
   {
    "duration": 48,
    "start_time": "2022-05-24T21:46:04.891Z"
   },
   {
    "duration": 21,
    "start_time": "2022-05-24T21:46:04.940Z"
   },
   {
    "duration": 15,
    "start_time": "2022-05-24T21:46:04.963Z"
   },
   {
    "duration": 11,
    "start_time": "2022-05-24T21:46:04.980Z"
   },
   {
    "duration": 87,
    "start_time": "2022-05-24T21:46:04.993Z"
   },
   {
    "duration": 17,
    "start_time": "2022-05-24T21:46:05.082Z"
   },
   {
    "duration": 25,
    "start_time": "2022-05-24T21:46:05.101Z"
   },
   {
    "duration": 3,
    "start_time": "2022-05-24T21:46:05.128Z"
   },
   {
    "duration": 34,
    "start_time": "2022-05-24T21:46:05.133Z"
   },
   {
    "duration": 64,
    "start_time": "2022-05-24T21:46:05.169Z"
   },
   {
    "duration": 250,
    "start_time": "2022-05-24T21:46:05.235Z"
   },
   {
    "duration": 210,
    "start_time": "2022-05-24T21:46:05.486Z"
   },
   {
    "duration": 24,
    "start_time": "2022-05-24T21:46:05.697Z"
   },
   {
    "duration": 61,
    "start_time": "2022-05-24T21:46:05.723Z"
   },
   {
    "duration": 26,
    "start_time": "2022-05-24T21:46:05.786Z"
   },
   {
    "duration": 11,
    "start_time": "2022-05-24T21:47:21.234Z"
   },
   {
    "duration": 80,
    "start_time": "2022-05-24T21:47:22.193Z"
   },
   {
    "duration": 33,
    "start_time": "2022-05-24T21:52:41.399Z"
   },
   {
    "duration": 24,
    "start_time": "2022-05-24T21:52:54.510Z"
   },
   {
    "duration": 13,
    "start_time": "2022-05-24T21:53:23.821Z"
   },
   {
    "duration": 5,
    "start_time": "2022-05-24T21:53:36.597Z"
   },
   {
    "duration": 1097,
    "start_time": "2022-05-24T21:54:46.679Z"
   },
   {
    "duration": 249,
    "start_time": "2022-05-24T21:54:47.778Z"
   },
   {
    "duration": 5,
    "start_time": "2022-05-24T21:54:48.029Z"
   },
   {
    "duration": 312,
    "start_time": "2022-05-24T21:54:48.035Z"
   },
   {
    "duration": 40,
    "start_time": "2022-05-24T21:54:48.358Z"
   },
   {
    "duration": 36,
    "start_time": "2022-05-24T21:54:48.399Z"
   },
   {
    "duration": 50,
    "start_time": "2022-05-24T21:54:48.436Z"
   },
   {
    "duration": 45,
    "start_time": "2022-05-24T21:54:48.488Z"
   },
   {
    "duration": 4,
    "start_time": "2022-05-24T21:54:48.534Z"
   },
   {
    "duration": 29,
    "start_time": "2022-05-24T21:54:48.540Z"
   },
   {
    "duration": 61,
    "start_time": "2022-05-24T21:54:48.570Z"
   },
   {
    "duration": 60,
    "start_time": "2022-05-24T21:54:48.632Z"
   },
   {
    "duration": 139,
    "start_time": "2022-05-24T21:54:48.693Z"
   },
   {
    "duration": 5,
    "start_time": "2022-05-24T21:54:48.835Z"
   },
   {
    "duration": 23,
    "start_time": "2022-05-24T21:54:48.842Z"
   },
   {
    "duration": 14,
    "start_time": "2022-05-24T21:54:48.867Z"
   },
   {
    "duration": 10,
    "start_time": "2022-05-24T21:54:48.883Z"
   },
   {
    "duration": 868,
    "start_time": "2022-05-24T21:54:48.895Z"
   },
   {
    "duration": 1319,
    "start_time": "2022-05-24T21:54:49.764Z"
   },
   {
    "duration": 250,
    "start_time": "2022-05-24T21:54:51.085Z"
   },
   {
    "duration": 4,
    "start_time": "2022-05-24T21:54:51.337Z"
   },
   {
    "duration": 281,
    "start_time": "2022-05-24T21:54:51.343Z"
   },
   {
    "duration": 163,
    "start_time": "2022-05-24T21:54:51.626Z"
   },
   {
    "duration": 12,
    "start_time": "2022-05-24T21:54:51.791Z"
   },
   {
    "duration": 84,
    "start_time": "2022-05-24T21:54:51.805Z"
   },
   {
    "duration": 69,
    "start_time": "2022-05-24T21:54:51.891Z"
   },
   {
    "duration": 3,
    "start_time": "2022-05-24T21:54:51.961Z"
   },
   {
    "duration": 23,
    "start_time": "2022-05-24T21:54:51.965Z"
   },
   {
    "duration": 52,
    "start_time": "2022-05-24T21:54:51.990Z"
   },
   {
    "duration": 47,
    "start_time": "2022-05-24T21:54:52.044Z"
   },
   {
    "duration": 9,
    "start_time": "2022-05-24T21:54:52.093Z"
   },
   {
    "duration": 34,
    "start_time": "2022-05-24T21:54:52.104Z"
   },
   {
    "duration": 22,
    "start_time": "2022-05-24T21:54:52.140Z"
   },
   {
    "duration": 77,
    "start_time": "2022-05-24T21:54:52.164Z"
   },
   {
    "duration": 19,
    "start_time": "2022-05-24T21:54:52.243Z"
   },
   {
    "duration": 22,
    "start_time": "2022-05-24T21:54:52.263Z"
   },
   {
    "duration": 5,
    "start_time": "2022-05-24T21:54:52.286Z"
   },
   {
    "duration": 35,
    "start_time": "2022-05-24T21:54:52.292Z"
   },
   {
    "duration": 58,
    "start_time": "2022-05-24T21:54:52.329Z"
   },
   {
    "duration": 236,
    "start_time": "2022-05-24T21:54:52.388Z"
   },
   {
    "duration": 213,
    "start_time": "2022-05-24T21:54:52.628Z"
   },
   {
    "duration": 25,
    "start_time": "2022-05-24T21:54:52.843Z"
   },
   {
    "duration": 41,
    "start_time": "2022-05-24T21:54:52.870Z"
   },
   {
    "duration": 55,
    "start_time": "2022-05-24T21:54:52.912Z"
   },
   {
    "duration": 5,
    "start_time": "2022-05-24T21:54:52.969Z"
   },
   {
    "duration": 42,
    "start_time": "2022-05-24T21:55:41.981Z"
   },
   {
    "duration": 27,
    "start_time": "2022-05-24T21:55:43.381Z"
   },
   {
    "duration": 29,
    "start_time": "2022-05-24T22:08:43.275Z"
   },
   {
    "duration": 41,
    "start_time": "2022-05-24T22:09:35.989Z"
   },
   {
    "duration": 46,
    "start_time": "2022-05-24T22:10:59.656Z"
   },
   {
    "duration": 39,
    "start_time": "2022-05-24T22:11:16.609Z"
   },
   {
    "duration": 42,
    "start_time": "2022-05-24T22:11:28.289Z"
   },
   {
    "duration": 1152,
    "start_time": "2022-05-24T22:12:17.726Z"
   },
   {
    "duration": 294,
    "start_time": "2022-05-24T22:12:18.881Z"
   },
   {
    "duration": 6,
    "start_time": "2022-05-24T22:12:19.177Z"
   },
   {
    "duration": 344,
    "start_time": "2022-05-24T22:12:19.185Z"
   },
   {
    "duration": 48,
    "start_time": "2022-05-24T22:12:19.531Z"
   },
   {
    "duration": 36,
    "start_time": "2022-05-24T22:12:19.581Z"
   },
   {
    "duration": 54,
    "start_time": "2022-05-24T22:12:19.618Z"
   },
   {
    "duration": 46,
    "start_time": "2022-05-24T22:12:19.674Z"
   },
   {
    "duration": 4,
    "start_time": "2022-05-24T22:12:19.722Z"
   },
   {
    "duration": 21,
    "start_time": "2022-05-24T22:12:19.728Z"
   },
   {
    "duration": 73,
    "start_time": "2022-05-24T22:12:19.751Z"
   },
   {
    "duration": 61,
    "start_time": "2022-05-24T22:12:19.825Z"
   },
   {
    "duration": 139,
    "start_time": "2022-05-24T22:12:19.888Z"
   },
   {
    "duration": 6,
    "start_time": "2022-05-24T22:12:20.030Z"
   },
   {
    "duration": 34,
    "start_time": "2022-05-24T22:12:20.038Z"
   },
   {
    "duration": 22,
    "start_time": "2022-05-24T22:12:20.074Z"
   },
   {
    "duration": 25,
    "start_time": "2022-05-24T22:12:20.097Z"
   },
   {
    "duration": 954,
    "start_time": "2022-05-24T22:12:20.123Z"
   },
   {
    "duration": 1442,
    "start_time": "2022-05-24T22:12:21.080Z"
   },
   {
    "duration": 271,
    "start_time": "2022-05-24T22:12:22.524Z"
   },
   {
    "duration": 4,
    "start_time": "2022-05-24T22:12:22.797Z"
   },
   {
    "duration": 316,
    "start_time": "2022-05-24T22:12:22.803Z"
   },
   {
    "duration": 183,
    "start_time": "2022-05-24T22:12:23.122Z"
   },
   {
    "duration": 15,
    "start_time": "2022-05-24T22:12:23.307Z"
   },
   {
    "duration": 91,
    "start_time": "2022-05-24T22:12:23.324Z"
   },
   {
    "duration": 69,
    "start_time": "2022-05-24T22:12:23.417Z"
   },
   {
    "duration": 3,
    "start_time": "2022-05-24T22:12:23.488Z"
   },
   {
    "duration": 15,
    "start_time": "2022-05-24T22:12:23.492Z"
   },
   {
    "duration": 60,
    "start_time": "2022-05-24T22:12:23.515Z"
   },
   {
    "duration": 46,
    "start_time": "2022-05-24T22:12:23.577Z"
   },
   {
    "duration": 9,
    "start_time": "2022-05-24T22:12:23.625Z"
   },
   {
    "duration": 28,
    "start_time": "2022-05-24T22:12:23.636Z"
   },
   {
    "duration": 14,
    "start_time": "2022-05-24T22:12:23.667Z"
   },
   {
    "duration": 70,
    "start_time": "2022-05-24T22:12:23.683Z"
   },
   {
    "duration": 24,
    "start_time": "2022-05-24T22:12:23.755Z"
   },
   {
    "duration": 35,
    "start_time": "2022-05-24T22:12:23.781Z"
   },
   {
    "duration": 4,
    "start_time": "2022-05-24T22:12:23.818Z"
   },
   {
    "duration": 51,
    "start_time": "2022-05-24T22:12:23.823Z"
   },
   {
    "duration": 67,
    "start_time": "2022-05-24T22:12:23.876Z"
   },
   {
    "duration": 232,
    "start_time": "2022-05-24T22:12:23.945Z"
   },
   {
    "duration": 144,
    "start_time": "2022-05-24T22:12:24.180Z"
   },
   {
    "duration": 0,
    "start_time": "2022-05-24T22:12:24.326Z"
   },
   {
    "duration": 0,
    "start_time": "2022-05-24T22:12:24.327Z"
   },
   {
    "duration": 0,
    "start_time": "2022-05-24T22:12:24.328Z"
   },
   {
    "duration": 0,
    "start_time": "2022-05-24T22:12:24.329Z"
   },
   {
    "duration": 1203,
    "start_time": "2022-05-24T22:12:56.608Z"
   },
   {
    "duration": 293,
    "start_time": "2022-05-24T22:12:57.812Z"
   },
   {
    "duration": 5,
    "start_time": "2022-05-24T22:12:58.107Z"
   },
   {
    "duration": 470,
    "start_time": "2022-05-24T22:12:58.114Z"
   },
   {
    "duration": 47,
    "start_time": "2022-05-24T22:12:58.586Z"
   },
   {
    "duration": 63,
    "start_time": "2022-05-24T22:12:58.636Z"
   },
   {
    "duration": 73,
    "start_time": "2022-05-24T22:12:58.702Z"
   },
   {
    "duration": 68,
    "start_time": "2022-05-24T22:12:58.777Z"
   },
   {
    "duration": 4,
    "start_time": "2022-05-24T22:12:58.846Z"
   },
   {
    "duration": 30,
    "start_time": "2022-05-24T22:12:58.852Z"
   },
   {
    "duration": 64,
    "start_time": "2022-05-24T22:12:58.889Z"
   },
   {
    "duration": 70,
    "start_time": "2022-05-24T22:12:58.955Z"
   },
   {
    "duration": 171,
    "start_time": "2022-05-24T22:12:59.027Z"
   },
   {
    "duration": 6,
    "start_time": "2022-05-24T22:12:59.199Z"
   },
   {
    "duration": 36,
    "start_time": "2022-05-24T22:12:59.206Z"
   },
   {
    "duration": 41,
    "start_time": "2022-05-24T22:12:59.244Z"
   },
   {
    "duration": 20,
    "start_time": "2022-05-24T22:12:59.289Z"
   },
   {
    "duration": 997,
    "start_time": "2022-05-24T22:12:59.312Z"
   },
   {
    "duration": 1421,
    "start_time": "2022-05-24T22:13:00.311Z"
   },
   {
    "duration": 283,
    "start_time": "2022-05-24T22:13:01.734Z"
   },
   {
    "duration": 4,
    "start_time": "2022-05-24T22:13:02.020Z"
   },
   {
    "duration": 293,
    "start_time": "2022-05-24T22:13:02.026Z"
   },
   {
    "duration": 174,
    "start_time": "2022-05-24T22:13:02.321Z"
   },
   {
    "duration": 15,
    "start_time": "2022-05-24T22:13:02.497Z"
   },
   {
    "duration": 94,
    "start_time": "2022-05-24T22:13:02.513Z"
   },
   {
    "duration": 68,
    "start_time": "2022-05-24T22:13:02.608Z"
   },
   {
    "duration": 3,
    "start_time": "2022-05-24T22:13:02.678Z"
   },
   {
    "duration": 21,
    "start_time": "2022-05-24T22:13:02.684Z"
   },
   {
    "duration": 68,
    "start_time": "2022-05-24T22:13:02.706Z"
   },
   {
    "duration": 53,
    "start_time": "2022-05-24T22:13:02.776Z"
   },
   {
    "duration": 14,
    "start_time": "2022-05-24T22:13:02.831Z"
   },
   {
    "duration": 52,
    "start_time": "2022-05-24T22:13:02.847Z"
   },
   {
    "duration": 18,
    "start_time": "2022-05-24T22:13:02.901Z"
   },
   {
    "duration": 88,
    "start_time": "2022-05-24T22:13:02.921Z"
   },
   {
    "duration": 20,
    "start_time": "2022-05-24T22:13:03.011Z"
   },
   {
    "duration": 47,
    "start_time": "2022-05-24T22:13:03.033Z"
   },
   {
    "duration": 6,
    "start_time": "2022-05-24T22:13:03.082Z"
   },
   {
    "duration": 36,
    "start_time": "2022-05-24T22:13:03.090Z"
   },
   {
    "duration": 58,
    "start_time": "2022-05-24T22:13:03.128Z"
   },
   {
    "duration": 240,
    "start_time": "2022-05-24T22:13:03.187Z"
   },
   {
    "duration": 87,
    "start_time": "2022-05-24T22:13:03.429Z"
   },
   {
    "duration": 199,
    "start_time": "2022-05-24T22:13:03.518Z"
   },
   {
    "duration": 23,
    "start_time": "2022-05-24T22:13:03.719Z"
   },
   {
    "duration": 63,
    "start_time": "2022-05-24T22:13:03.744Z"
   },
   {
    "duration": 25,
    "start_time": "2022-05-24T22:13:03.809Z"
   },
   {
    "duration": 5,
    "start_time": "2022-05-24T22:23:38.088Z"
   },
   {
    "duration": 185,
    "start_time": "2022-05-24T22:27:21.713Z"
   },
   {
    "duration": 51,
    "start_time": "2022-05-24T22:27:41.099Z"
   },
   {
    "duration": 75,
    "start_time": "2022-05-24T22:27:50.651Z"
   },
   {
    "duration": 154,
    "start_time": "2022-05-24T22:28:11.144Z"
   },
   {
    "duration": 3,
    "start_time": "2022-05-24T22:28:19.036Z"
   },
   {
    "duration": 237,
    "start_time": "2022-05-24T22:28:21.081Z"
   },
   {
    "duration": 5,
    "start_time": "2022-05-24T22:28:26.090Z"
   },
   {
    "duration": 144,
    "start_time": "2022-05-24T22:28:27.026Z"
   },
   {
    "duration": 158,
    "start_time": "2022-05-24T22:28:36.636Z"
   },
   {
    "duration": 5,
    "start_time": "2022-05-24T22:28:40.411Z"
   },
   {
    "duration": 157,
    "start_time": "2022-05-24T22:28:41.249Z"
   },
   {
    "duration": 3,
    "start_time": "2022-05-24T22:28:48.212Z"
   },
   {
    "duration": 261,
    "start_time": "2022-05-24T22:28:52.886Z"
   },
   {
    "duration": 5,
    "start_time": "2022-05-24T22:28:55.572Z"
   },
   {
    "duration": 137,
    "start_time": "2022-05-24T22:28:56.573Z"
   },
   {
    "duration": 141,
    "start_time": "2022-05-24T22:30:43.379Z"
   },
   {
    "duration": 142,
    "start_time": "2022-05-24T22:30:55.513Z"
   },
   {
    "duration": 59,
    "start_time": "2022-05-24T22:31:48.678Z"
   },
   {
    "duration": 5,
    "start_time": "2022-05-24T22:32:20.612Z"
   },
   {
    "duration": 121,
    "start_time": "2022-05-24T22:32:21.405Z"
   },
   {
    "duration": 37,
    "start_time": "2022-05-24T22:33:29.425Z"
   },
   {
    "duration": 62,
    "start_time": "2022-05-24T22:34:08.486Z"
   },
   {
    "duration": 6,
    "start_time": "2022-05-24T22:35:31.343Z"
   },
   {
    "duration": 186,
    "start_time": "2022-05-24T22:35:36.524Z"
   },
   {
    "duration": 10,
    "start_time": "2022-05-24T22:36:07.132Z"
   },
   {
    "duration": 136,
    "start_time": "2022-05-24T22:36:07.874Z"
   },
   {
    "duration": 7,
    "start_time": "2022-05-24T22:36:48.091Z"
   },
   {
    "duration": 152,
    "start_time": "2022-05-24T22:36:49.188Z"
   },
   {
    "duration": 1186,
    "start_time": "2022-05-24T22:37:10.916Z"
   },
   {
    "duration": 315,
    "start_time": "2022-05-24T22:37:12.104Z"
   },
   {
    "duration": 6,
    "start_time": "2022-05-24T22:37:12.421Z"
   },
   {
    "duration": 548,
    "start_time": "2022-05-24T22:37:12.429Z"
   },
   {
    "duration": 61,
    "start_time": "2022-05-24T22:37:12.980Z"
   },
   {
    "duration": 56,
    "start_time": "2022-05-24T22:37:13.044Z"
   },
   {
    "duration": 42,
    "start_time": "2022-05-24T22:37:13.104Z"
   },
   {
    "duration": 61,
    "start_time": "2022-05-24T22:37:13.148Z"
   },
   {
    "duration": 5,
    "start_time": "2022-05-24T22:37:13.210Z"
   },
   {
    "duration": 18,
    "start_time": "2022-05-24T22:37:13.217Z"
   },
   {
    "duration": 74,
    "start_time": "2022-05-24T22:37:13.237Z"
   },
   {
    "duration": 86,
    "start_time": "2022-05-24T22:37:13.313Z"
   },
   {
    "duration": 151,
    "start_time": "2022-05-24T22:37:13.401Z"
   },
   {
    "duration": 10,
    "start_time": "2022-05-24T22:37:13.559Z"
   },
   {
    "duration": 25,
    "start_time": "2022-05-24T22:37:13.570Z"
   },
   {
    "duration": 5,
    "start_time": "2022-05-24T22:37:13.597Z"
   },
   {
    "duration": 6,
    "start_time": "2022-05-24T22:37:13.604Z"
   },
   {
    "duration": 1042,
    "start_time": "2022-05-24T22:37:13.612Z"
   },
   {
    "duration": 1654,
    "start_time": "2022-05-24T22:37:14.665Z"
   },
   {
    "duration": 327,
    "start_time": "2022-05-24T22:37:16.321Z"
   },
   {
    "duration": 11,
    "start_time": "2022-05-24T22:37:16.649Z"
   },
   {
    "duration": 363,
    "start_time": "2022-05-24T22:37:16.665Z"
   },
   {
    "duration": 247,
    "start_time": "2022-05-24T22:37:17.030Z"
   },
   {
    "duration": 22,
    "start_time": "2022-05-24T22:37:17.282Z"
   },
   {
    "duration": 143,
    "start_time": "2022-05-24T22:37:17.307Z"
   },
   {
    "duration": 75,
    "start_time": "2022-05-24T22:37:17.452Z"
   },
   {
    "duration": 4,
    "start_time": "2022-05-24T22:37:17.529Z"
   },
   {
    "duration": 15,
    "start_time": "2022-05-24T22:37:17.534Z"
   },
   {
    "duration": 99,
    "start_time": "2022-05-24T22:37:17.551Z"
   },
   {
    "duration": 59,
    "start_time": "2022-05-24T22:37:17.652Z"
   },
   {
    "duration": 11,
    "start_time": "2022-05-24T22:37:17.713Z"
   },
   {
    "duration": 34,
    "start_time": "2022-05-24T22:37:17.726Z"
   },
   {
    "duration": 16,
    "start_time": "2022-05-24T22:37:17.761Z"
   },
   {
    "duration": 80,
    "start_time": "2022-05-24T22:37:17.779Z"
   },
   {
    "duration": 27,
    "start_time": "2022-05-24T22:37:17.865Z"
   },
   {
    "duration": 28,
    "start_time": "2022-05-24T22:37:17.894Z"
   },
   {
    "duration": 5,
    "start_time": "2022-05-24T22:37:17.924Z"
   },
   {
    "duration": 48,
    "start_time": "2022-05-24T22:37:17.931Z"
   },
   {
    "duration": 65,
    "start_time": "2022-05-24T22:37:17.983Z"
   },
   {
    "duration": 342,
    "start_time": "2022-05-24T22:37:18.051Z"
   },
   {
    "duration": 5,
    "start_time": "2022-05-24T22:37:18.397Z"
   },
   {
    "duration": 163,
    "start_time": "2022-05-24T22:37:18.405Z"
   },
   {
    "duration": 252,
    "start_time": "2022-05-24T22:37:18.570Z"
   },
   {
    "duration": 0,
    "start_time": "2022-05-24T22:37:18.824Z"
   },
   {
    "duration": 0,
    "start_time": "2022-05-24T22:37:18.825Z"
   },
   {
    "duration": 0,
    "start_time": "2022-05-24T22:37:18.827Z"
   },
   {
    "duration": 8,
    "start_time": "2022-05-24T22:42:01.576Z"
   },
   {
    "duration": 59,
    "start_time": "2022-05-24T22:42:02.487Z"
   },
   {
    "duration": 1234,
    "start_time": "2022-05-24T22:42:26.518Z"
   },
   {
    "duration": 321,
    "start_time": "2022-05-24T22:42:27.753Z"
   },
   {
    "duration": 6,
    "start_time": "2022-05-24T22:42:28.077Z"
   },
   {
    "duration": 400,
    "start_time": "2022-05-24T22:42:28.086Z"
   },
   {
    "duration": 47,
    "start_time": "2022-05-24T22:42:28.489Z"
   },
   {
    "duration": 30,
    "start_time": "2022-05-24T22:42:28.538Z"
   },
   {
    "duration": 65,
    "start_time": "2022-05-24T22:42:28.570Z"
   },
   {
    "duration": 36,
    "start_time": "2022-05-24T22:42:28.637Z"
   },
   {
    "duration": 12,
    "start_time": "2022-05-24T22:42:28.674Z"
   },
   {
    "duration": 17,
    "start_time": "2022-05-24T22:42:28.691Z"
   },
   {
    "duration": 76,
    "start_time": "2022-05-24T22:42:28.709Z"
   },
   {
    "duration": 81,
    "start_time": "2022-05-24T22:42:28.786Z"
   },
   {
    "duration": 166,
    "start_time": "2022-05-24T22:42:28.869Z"
   },
   {
    "duration": 6,
    "start_time": "2022-05-24T22:42:29.037Z"
   },
   {
    "duration": 27,
    "start_time": "2022-05-24T22:42:29.045Z"
   },
   {
    "duration": 12,
    "start_time": "2022-05-24T22:42:29.079Z"
   },
   {
    "duration": 10,
    "start_time": "2022-05-24T22:42:29.093Z"
   },
   {
    "duration": 1027,
    "start_time": "2022-05-24T22:42:29.105Z"
   },
   {
    "duration": 1681,
    "start_time": "2022-05-24T22:42:30.134Z"
   },
   {
    "duration": 322,
    "start_time": "2022-05-24T22:42:31.817Z"
   },
   {
    "duration": 4,
    "start_time": "2022-05-24T22:42:32.141Z"
   },
   {
    "duration": 303,
    "start_time": "2022-05-24T22:42:32.158Z"
   },
   {
    "duration": 169,
    "start_time": "2022-05-24T22:42:32.472Z"
   },
   {
    "duration": 26,
    "start_time": "2022-05-24T22:42:32.643Z"
   },
   {
    "duration": 102,
    "start_time": "2022-05-24T22:42:32.671Z"
   },
   {
    "duration": 57,
    "start_time": "2022-05-24T22:42:32.792Z"
   },
   {
    "duration": 3,
    "start_time": "2022-05-24T22:42:32.851Z"
   },
   {
    "duration": 28,
    "start_time": "2022-05-24T22:42:32.857Z"
   },
   {
    "duration": 57,
    "start_time": "2022-05-24T22:42:32.888Z"
   },
   {
    "duration": 66,
    "start_time": "2022-05-24T22:42:32.947Z"
   },
   {
    "duration": 13,
    "start_time": "2022-05-24T22:42:33.015Z"
   },
   {
    "duration": 29,
    "start_time": "2022-05-24T22:42:33.030Z"
   },
   {
    "duration": 47,
    "start_time": "2022-05-24T22:42:33.062Z"
   },
   {
    "duration": 81,
    "start_time": "2022-05-24T22:42:33.111Z"
   },
   {
    "duration": 17,
    "start_time": "2022-05-24T22:42:33.194Z"
   },
   {
    "duration": 21,
    "start_time": "2022-05-24T22:42:33.213Z"
   },
   {
    "duration": 28,
    "start_time": "2022-05-24T22:42:33.236Z"
   },
   {
    "duration": 47,
    "start_time": "2022-05-24T22:42:33.267Z"
   },
   {
    "duration": 67,
    "start_time": "2022-05-24T22:42:33.315Z"
   },
   {
    "duration": 257,
    "start_time": "2022-05-24T22:42:33.386Z"
   },
   {
    "duration": 5,
    "start_time": "2022-05-24T22:42:33.644Z"
   },
   {
    "duration": 152,
    "start_time": "2022-05-24T22:42:33.660Z"
   },
   {
    "duration": 203,
    "start_time": "2022-05-24T22:42:33.814Z"
   },
   {
    "duration": 0,
    "start_time": "2022-05-24T22:42:34.019Z"
   },
   {
    "duration": 0,
    "start_time": "2022-05-24T22:42:34.020Z"
   },
   {
    "duration": 0,
    "start_time": "2022-05-24T22:42:34.021Z"
   },
   {
    "duration": 98,
    "start_time": "2022-05-24T22:43:08.692Z"
   },
   {
    "duration": 6,
    "start_time": "2022-05-24T22:43:36.823Z"
   },
   {
    "duration": 67,
    "start_time": "2022-05-24T22:43:37.689Z"
   },
   {
    "duration": 83,
    "start_time": "2022-05-24T22:43:48.256Z"
   },
   {
    "duration": 56,
    "start_time": "2022-05-24T22:43:53.380Z"
   },
   {
    "duration": 5,
    "start_time": "2022-05-24T22:44:11.541Z"
   },
   {
    "duration": 68,
    "start_time": "2022-05-24T22:44:12.243Z"
   },
   {
    "duration": 11,
    "start_time": "2022-05-24T22:44:18.774Z"
   },
   {
    "duration": 259,
    "start_time": "2022-05-24T22:44:20.683Z"
   },
   {
    "duration": 11,
    "start_time": "2022-05-24T22:44:23.051Z"
   },
   {
    "duration": 193,
    "start_time": "2022-05-24T22:44:23.752Z"
   },
   {
    "duration": 81,
    "start_time": "2022-05-24T22:44:31.781Z"
   },
   {
    "duration": 6,
    "start_time": "2022-05-24T22:45:01.999Z"
   },
   {
    "duration": 78,
    "start_time": "2022-05-24T22:45:02.620Z"
   },
   {
    "duration": 4,
    "start_time": "2022-05-24T22:45:07.048Z"
   },
   {
    "duration": 312,
    "start_time": "2022-05-24T22:45:10.286Z"
   },
   {
    "duration": 6,
    "start_time": "2022-05-24T22:45:13.292Z"
   },
   {
    "duration": 159,
    "start_time": "2022-05-24T22:45:14.005Z"
   },
   {
    "duration": 93,
    "start_time": "2022-05-24T22:45:16.993Z"
   },
   {
    "duration": 80,
    "start_time": "2022-05-24T22:45:40.501Z"
   },
   {
    "duration": 7,
    "start_time": "2022-05-24T22:45:46.374Z"
   },
   {
    "duration": 304,
    "start_time": "2022-05-24T22:45:49.521Z"
   },
   {
    "duration": 6,
    "start_time": "2022-05-24T22:45:53.792Z"
   },
   {
    "duration": 410,
    "start_time": "2022-05-24T22:45:54.721Z"
   },
   {
    "duration": 147,
    "start_time": "2022-05-24T22:46:24.155Z"
   },
   {
    "duration": 79,
    "start_time": "2022-05-24T22:46:49.141Z"
   },
   {
    "duration": 5,
    "start_time": "2022-05-24T22:47:08.421Z"
   },
   {
    "duration": 301,
    "start_time": "2022-05-24T22:47:12.722Z"
   },
   {
    "duration": 116,
    "start_time": "2022-05-24T22:47:25.787Z"
   },
   {
    "duration": 16,
    "start_time": "2022-05-24T22:49:05.527Z"
   },
   {
    "duration": 38,
    "start_time": "2022-05-24T22:49:09.288Z"
   },
   {
    "duration": 18,
    "start_time": "2022-05-24T22:49:37.800Z"
   },
   {
    "duration": 258,
    "start_time": "2022-05-24T22:49:58.779Z"
   },
   {
    "duration": 97,
    "start_time": "2022-05-24T22:50:12.607Z"
   },
   {
    "duration": 5,
    "start_time": "2022-05-24T22:50:17.644Z"
   },
   {
    "duration": 130,
    "start_time": "2022-05-24T22:50:18.380Z"
   },
   {
    "duration": 1428,
    "start_time": "2022-05-24T22:51:03.905Z"
   },
   {
    "duration": 355,
    "start_time": "2022-05-24T22:51:05.335Z"
   },
   {
    "duration": 7,
    "start_time": "2022-05-24T22:51:05.696Z"
   },
   {
    "duration": 455,
    "start_time": "2022-05-24T22:51:05.706Z"
   },
   {
    "duration": 80,
    "start_time": "2022-05-24T22:51:06.164Z"
   },
   {
    "duration": 90,
    "start_time": "2022-05-24T22:51:06.247Z"
   },
   {
    "duration": 46,
    "start_time": "2022-05-24T22:51:06.339Z"
   },
   {
    "duration": 93,
    "start_time": "2022-05-24T22:51:06.387Z"
   },
   {
    "duration": 10,
    "start_time": "2022-05-24T22:51:06.482Z"
   },
   {
    "duration": 34,
    "start_time": "2022-05-24T22:51:06.495Z"
   },
   {
    "duration": 84,
    "start_time": "2022-05-24T22:51:06.531Z"
   },
   {
    "duration": 94,
    "start_time": "2022-05-24T22:51:06.619Z"
   },
   {
    "duration": 218,
    "start_time": "2022-05-24T22:51:06.715Z"
   },
   {
    "duration": 6,
    "start_time": "2022-05-24T22:51:06.936Z"
   },
   {
    "duration": 30,
    "start_time": "2022-05-24T22:51:06.943Z"
   },
   {
    "duration": 39,
    "start_time": "2022-05-24T22:51:06.975Z"
   },
   {
    "duration": 7,
    "start_time": "2022-05-24T22:51:07.016Z"
   },
   {
    "duration": 1225,
    "start_time": "2022-05-24T22:51:07.025Z"
   },
   {
    "duration": 1788,
    "start_time": "2022-05-24T22:51:08.252Z"
   },
   {
    "duration": 368,
    "start_time": "2022-05-24T22:51:10.042Z"
   },
   {
    "duration": 5,
    "start_time": "2022-05-24T22:51:10.416Z"
   },
   {
    "duration": 344,
    "start_time": "2022-05-24T22:51:10.423Z"
   },
   {
    "duration": 203,
    "start_time": "2022-05-24T22:51:10.769Z"
   },
   {
    "duration": 32,
    "start_time": "2022-05-24T22:51:10.974Z"
   },
   {
    "duration": 110,
    "start_time": "2022-05-24T22:51:11.008Z"
   },
   {
    "duration": 78,
    "start_time": "2022-05-24T22:51:11.120Z"
   },
   {
    "duration": 6,
    "start_time": "2022-05-24T22:51:11.207Z"
   },
   {
    "duration": 12,
    "start_time": "2022-05-24T22:51:11.218Z"
   },
   {
    "duration": 63,
    "start_time": "2022-05-24T22:51:11.232Z"
   },
   {
    "duration": 84,
    "start_time": "2022-05-24T22:51:11.297Z"
   },
   {
    "duration": 21,
    "start_time": "2022-05-24T22:51:11.389Z"
   },
   {
    "duration": 77,
    "start_time": "2022-05-24T22:51:11.413Z"
   },
   {
    "duration": 62,
    "start_time": "2022-05-24T22:51:11.492Z"
   },
   {
    "duration": 178,
    "start_time": "2022-05-24T22:51:11.557Z"
   },
   {
    "duration": 26,
    "start_time": "2022-05-24T22:51:11.740Z"
   },
   {
    "duration": 83,
    "start_time": "2022-05-24T22:51:11.768Z"
   },
   {
    "duration": 4,
    "start_time": "2022-05-24T22:51:11.853Z"
   },
   {
    "duration": 76,
    "start_time": "2022-05-24T22:51:11.859Z"
   },
   {
    "duration": 18,
    "start_time": "2022-05-24T22:51:11.936Z"
   },
   {
    "duration": 195,
    "start_time": "2022-05-24T22:51:11.955Z"
   },
   {
    "duration": 417,
    "start_time": "2022-05-24T22:51:12.172Z"
   },
   {
    "duration": 385,
    "start_time": "2022-05-24T22:51:12.601Z"
   },
   {
    "duration": 274,
    "start_time": "2022-05-24T22:51:12.999Z"
   },
   {
    "duration": 29,
    "start_time": "2022-05-24T22:51:13.282Z"
   },
   {
    "duration": 33,
    "start_time": "2022-05-24T22:51:13.320Z"
   },
   {
    "duration": 38,
    "start_time": "2022-05-24T22:51:13.355Z"
   },
   {
    "duration": 45,
    "start_time": "2022-05-24T22:52:58.290Z"
   },
   {
    "duration": 9,
    "start_time": "2022-05-24T22:56:36.483Z"
   },
   {
    "duration": 87,
    "start_time": "2022-05-24T22:56:41.326Z"
   },
   {
    "duration": 6,
    "start_time": "2022-05-24T22:56:47.402Z"
   },
   {
    "duration": 173,
    "start_time": "2022-05-24T22:56:48.883Z"
   },
   {
    "duration": 8,
    "start_time": "2022-05-24T22:56:57.118Z"
   },
   {
    "duration": 21,
    "start_time": "2022-05-24T22:56:58.087Z"
   },
   {
    "duration": 156,
    "start_time": "2022-05-24T22:56:58.756Z"
   },
   {
    "duration": 148,
    "start_time": "2022-05-24T22:57:37.798Z"
   },
   {
    "duration": 104,
    "start_time": "2022-05-24T22:57:48.084Z"
   },
   {
    "duration": 10,
    "start_time": "2022-05-24T22:58:12.391Z"
   },
   {
    "duration": 137,
    "start_time": "2022-05-24T22:58:16.016Z"
   },
   {
    "duration": 76,
    "start_time": "2022-05-24T22:58:34.682Z"
   },
   {
    "duration": 345,
    "start_time": "2022-05-24T22:59:06.087Z"
   },
   {
    "duration": 263,
    "start_time": "2022-05-24T22:59:10.807Z"
   },
   {
    "duration": 177,
    "start_time": "2022-05-24T23:08:10.775Z"
   },
   {
    "duration": 177,
    "start_time": "2022-05-24T23:08:25.487Z"
   },
   {
    "duration": 227,
    "start_time": "2022-05-24T23:09:44.735Z"
   },
   {
    "duration": 197,
    "start_time": "2022-05-24T23:09:55.596Z"
   },
   {
    "duration": 196,
    "start_time": "2022-05-24T23:12:04.542Z"
   },
   {
    "duration": 10,
    "start_time": "2022-05-24T23:12:26.419Z"
   },
   {
    "duration": 214,
    "start_time": "2022-05-24T23:13:06.783Z"
   },
   {
    "duration": 218,
    "start_time": "2022-05-24T23:15:04.815Z"
   },
   {
    "duration": 188,
    "start_time": "2022-05-24T23:15:52.114Z"
   },
   {
    "duration": 18,
    "start_time": "2022-05-24T23:15:55.354Z"
   },
   {
    "duration": 171,
    "start_time": "2022-05-24T23:19:04.194Z"
   },
   {
    "duration": 6,
    "start_time": "2022-05-24T23:19:06.976Z"
   },
   {
    "duration": 7,
    "start_time": "2022-05-24T23:19:54.653Z"
   },
   {
    "duration": 18,
    "start_time": "2022-05-24T23:20:03.153Z"
   },
   {
    "duration": 12,
    "start_time": "2022-05-24T23:20:10.214Z"
   },
   {
    "duration": 207,
    "start_time": "2022-05-24T23:27:21.232Z"
   },
   {
    "duration": 196,
    "start_time": "2022-05-24T23:27:37.293Z"
   },
   {
    "duration": 167,
    "start_time": "2022-05-24T23:38:45.305Z"
   },
   {
    "duration": 6,
    "start_time": "2022-05-24T23:38:46.916Z"
   },
   {
    "duration": 292,
    "start_time": "2022-05-24T23:39:51.545Z"
   },
   {
    "duration": 19,
    "start_time": "2022-05-24T23:41:21.818Z"
   },
   {
    "duration": 260,
    "start_time": "2022-05-24T23:41:40.542Z"
   },
   {
    "duration": 6,
    "start_time": "2022-05-24T23:41:42.641Z"
   },
   {
    "duration": 10,
    "start_time": "2022-05-24T23:42:25.998Z"
   },
   {
    "duration": 13,
    "start_time": "2022-05-24T23:42:45.558Z"
   },
   {
    "duration": 644,
    "start_time": "2022-05-24T23:45:10.839Z"
   },
   {
    "duration": 178,
    "start_time": "2022-05-24T23:45:34.399Z"
   },
   {
    "duration": 168,
    "start_time": "2022-05-24T23:45:46.347Z"
   },
   {
    "duration": 5,
    "start_time": "2022-05-24T23:45:48.679Z"
   },
   {
    "duration": 7,
    "start_time": "2022-05-24T23:45:53.987Z"
   },
   {
    "duration": 9,
    "start_time": "2022-05-24T23:45:56.399Z"
   },
   {
    "duration": 52,
    "start_time": "2022-05-24T23:49:26.961Z"
   },
   {
    "duration": 46,
    "start_time": "2022-05-24T23:49:54.279Z"
   },
   {
    "duration": 113,
    "start_time": "2022-05-25T00:14:04.204Z"
   },
   {
    "duration": 6,
    "start_time": "2022-05-25T00:14:08.903Z"
   },
   {
    "duration": 6,
    "start_time": "2022-05-25T00:14:11.503Z"
   },
   {
    "duration": 6,
    "start_time": "2022-05-25T00:14:13.283Z"
   },
   {
    "duration": 105,
    "start_time": "2022-05-25T00:15:49.003Z"
   },
   {
    "duration": 119,
    "start_time": "2022-05-25T00:16:43.165Z"
   },
   {
    "duration": 12,
    "start_time": "2022-05-25T00:16:55.123Z"
   },
   {
    "duration": 111,
    "start_time": "2022-05-25T00:17:19.273Z"
   },
   {
    "duration": 5,
    "start_time": "2022-05-25T00:17:21.429Z"
   },
   {
    "duration": 13,
    "start_time": "2022-05-25T00:17:36.562Z"
   },
   {
    "duration": 6,
    "start_time": "2022-05-25T00:17:38.173Z"
   },
   {
    "duration": 9,
    "start_time": "2022-05-25T00:21:48.773Z"
   },
   {
    "duration": 10,
    "start_time": "2022-05-25T00:22:16.377Z"
   },
   {
    "duration": 288,
    "start_time": "2022-05-25T00:22:32.204Z"
   },
   {
    "duration": 10,
    "start_time": "2022-05-25T00:22:34.040Z"
   },
   {
    "duration": 201,
    "start_time": "2022-05-25T00:22:38.573Z"
   },
   {
    "duration": 10,
    "start_time": "2022-05-25T00:22:40.144Z"
   },
   {
    "duration": 122,
    "start_time": "2022-05-25T00:28:27.205Z"
   },
   {
    "duration": 5,
    "start_time": "2022-05-25T00:28:31.444Z"
   },
   {
    "duration": 6,
    "start_time": "2022-05-25T00:28:33.925Z"
   },
   {
    "duration": 6,
    "start_time": "2022-05-25T00:28:36.605Z"
   },
   {
    "duration": 135,
    "start_time": "2022-05-25T00:29:17.684Z"
   },
   {
    "duration": 9,
    "start_time": "2022-05-25T00:29:23.344Z"
   },
   {
    "duration": 9,
    "start_time": "2022-05-25T00:29:25.644Z"
   },
   {
    "duration": 145,
    "start_time": "2022-05-25T00:29:48.774Z"
   },
   {
    "duration": 9,
    "start_time": "2022-05-25T00:29:56.644Z"
   },
   {
    "duration": 9,
    "start_time": "2022-05-25T00:30:01.624Z"
   },
   {
    "duration": 128,
    "start_time": "2022-05-25T00:30:19.945Z"
   },
   {
    "duration": 6,
    "start_time": "2022-05-25T00:30:23.126Z"
   },
   {
    "duration": 6,
    "start_time": "2022-05-25T00:30:27.275Z"
   },
   {
    "duration": 118,
    "start_time": "2022-05-25T00:30:57.205Z"
   },
   {
    "duration": 6,
    "start_time": "2022-05-25T00:30:59.900Z"
   },
   {
    "duration": 7,
    "start_time": "2022-05-25T00:31:01.152Z"
   },
   {
    "duration": 6,
    "start_time": "2022-05-25T00:31:02.185Z"
   },
   {
    "duration": 130,
    "start_time": "2022-05-25T00:31:51.605Z"
   },
   {
    "duration": 6,
    "start_time": "2022-05-25T00:31:52.844Z"
   },
   {
    "duration": 9,
    "start_time": "2022-05-25T00:31:55.544Z"
   },
   {
    "duration": 9,
    "start_time": "2022-05-25T00:31:59.507Z"
   },
   {
    "duration": 126,
    "start_time": "2022-05-25T00:32:08.725Z"
   },
   {
    "duration": 10,
    "start_time": "2022-05-25T00:32:09.344Z"
   },
   {
    "duration": 135,
    "start_time": "2022-05-25T00:32:54.540Z"
   },
   {
    "duration": 9,
    "start_time": "2022-05-25T00:32:55.804Z"
   },
   {
    "duration": 100,
    "start_time": "2022-05-25T00:33:48.985Z"
   },
   {
    "duration": 5,
    "start_time": "2022-05-25T00:33:50.587Z"
   },
   {
    "duration": 4,
    "start_time": "2022-05-25T00:34:57.022Z"
   },
   {
    "duration": 13,
    "start_time": "2022-05-25T00:35:19.758Z"
   },
   {
    "duration": 118,
    "start_time": "2022-05-25T00:36:48.105Z"
   },
   {
    "duration": 20,
    "start_time": "2022-05-25T00:36:49.448Z"
   },
   {
    "duration": 4,
    "start_time": "2022-05-25T00:36:53.914Z"
   },
   {
    "duration": 9,
    "start_time": "2022-05-25T00:36:56.005Z"
   },
   {
    "duration": 119,
    "start_time": "2022-05-25T00:37:22.133Z"
   },
   {
    "duration": 11,
    "start_time": "2022-05-25T00:37:22.945Z"
   },
   {
    "duration": 6,
    "start_time": "2022-05-25T00:37:25.884Z"
   },
   {
    "duration": 154,
    "start_time": "2022-05-25T00:39:11.785Z"
   },
   {
    "duration": 11,
    "start_time": "2022-05-25T00:39:13.466Z"
   },
   {
    "duration": 9,
    "start_time": "2022-05-25T00:39:24.145Z"
   },
   {
    "duration": 150,
    "start_time": "2022-05-25T00:39:50.705Z"
   },
   {
    "duration": 6,
    "start_time": "2022-05-25T00:39:52.012Z"
   },
   {
    "duration": 8,
    "start_time": "2022-05-25T00:39:54.546Z"
   },
   {
    "duration": 33,
    "start_time": "2022-05-25T00:43:23.864Z"
   },
   {
    "duration": 56,
    "start_time": "2022-05-25T02:25:17.819Z"
   },
   {
    "duration": 11,
    "start_time": "2022-05-25T02:25:28.949Z"
   },
   {
    "duration": 115,
    "start_time": "2022-05-25T02:25:29.750Z"
   },
   {
    "duration": 143,
    "start_time": "2022-05-25T02:30:48.009Z"
   },
   {
    "duration": 86,
    "start_time": "2022-05-25T02:31:22.528Z"
   },
   {
    "duration": 12,
    "start_time": "2022-05-25T02:31:29.529Z"
   },
   {
    "duration": 138,
    "start_time": "2022-05-25T02:31:30.389Z"
   },
   {
    "duration": 33,
    "start_time": "2022-05-25T02:35:54.330Z"
   },
   {
    "duration": 11,
    "start_time": "2022-05-25T02:36:02.489Z"
   },
   {
    "duration": 62,
    "start_time": "2022-05-25T02:36:03.349Z"
   },
   {
    "duration": 44,
    "start_time": "2022-05-25T02:36:27.329Z"
   },
   {
    "duration": 57,
    "start_time": "2022-05-25T02:38:52.607Z"
   },
   {
    "duration": 54,
    "start_time": "2022-05-25T02:39:38.769Z"
   },
   {
    "duration": 131,
    "start_time": "2022-05-25T02:43:39.329Z"
   },
   {
    "duration": 88,
    "start_time": "2022-05-25T02:47:09.449Z"
   },
   {
    "duration": 80,
    "start_time": "2022-05-25T02:48:28.101Z"
   },
   {
    "duration": 88,
    "start_time": "2022-05-25T02:48:38.970Z"
   },
   {
    "duration": 81,
    "start_time": "2022-05-25T02:49:17.477Z"
   },
   {
    "duration": 34,
    "start_time": "2022-05-25T02:49:56.740Z"
   },
   {
    "duration": 83,
    "start_time": "2022-05-25T02:50:05.829Z"
   },
   {
    "duration": 86,
    "start_time": "2022-05-25T02:50:20.631Z"
   },
   {
    "duration": 82,
    "start_time": "2022-05-25T02:50:39.250Z"
   },
   {
    "duration": 86,
    "start_time": "2022-05-25T02:54:06.370Z"
   },
   {
    "duration": 96,
    "start_time": "2022-05-25T02:54:13.049Z"
   },
   {
    "duration": 89,
    "start_time": "2022-05-25T02:55:25.610Z"
   },
   {
    "duration": 90,
    "start_time": "2022-05-25T02:56:00.510Z"
   },
   {
    "duration": 11,
    "start_time": "2022-05-25T02:56:06.697Z"
   },
   {
    "duration": 145,
    "start_time": "2022-05-25T02:56:08.107Z"
   },
   {
    "duration": 90,
    "start_time": "2022-05-25T02:57:43.470Z"
   },
   {
    "duration": 95,
    "start_time": "2022-05-25T02:58:00.730Z"
   },
   {
    "duration": 90,
    "start_time": "2022-05-25T02:58:25.186Z"
   },
   {
    "duration": 85,
    "start_time": "2022-05-25T02:58:39.778Z"
   },
   {
    "duration": 86,
    "start_time": "2022-05-25T02:59:06.842Z"
   },
   {
    "duration": 12,
    "start_time": "2022-05-25T02:59:10.510Z"
   },
   {
    "duration": 137,
    "start_time": "2022-05-25T02:59:11.182Z"
   },
   {
    "duration": 12,
    "start_time": "2022-05-25T02:59:22.177Z"
   },
   {
    "duration": 154,
    "start_time": "2022-05-25T02:59:22.850Z"
   },
   {
    "duration": 12,
    "start_time": "2022-05-25T03:00:18.029Z"
   },
   {
    "duration": 139,
    "start_time": "2022-05-25T03:00:18.732Z"
   },
   {
    "duration": 11,
    "start_time": "2022-05-25T03:00:39.889Z"
   },
   {
    "duration": 139,
    "start_time": "2022-05-25T03:00:40.416Z"
   },
   {
    "duration": 99,
    "start_time": "2022-05-25T03:02:07.185Z"
   },
   {
    "duration": 12,
    "start_time": "2022-05-25T03:02:26.909Z"
   },
   {
    "duration": 136,
    "start_time": "2022-05-25T03:02:27.709Z"
   },
   {
    "duration": 88,
    "start_time": "2022-05-25T03:02:43.077Z"
   },
   {
    "duration": 11,
    "start_time": "2022-05-25T03:02:46.169Z"
   },
   {
    "duration": 129,
    "start_time": "2022-05-25T03:02:46.741Z"
   },
   {
    "duration": 86,
    "start_time": "2022-05-25T03:02:58.090Z"
   },
   {
    "duration": 12,
    "start_time": "2022-05-25T03:02:59.669Z"
   },
   {
    "duration": 137,
    "start_time": "2022-05-25T03:03:00.188Z"
   },
   {
    "duration": 112,
    "start_time": "2022-05-25T03:07:50.311Z"
   },
   {
    "duration": 42,
    "start_time": "2022-05-25T03:07:55.050Z"
   },
   {
    "duration": 36,
    "start_time": "2022-05-25T03:08:21.316Z"
   },
   {
    "duration": 102,
    "start_time": "2022-05-25T03:08:24.253Z"
   },
   {
    "duration": 38,
    "start_time": "2022-05-25T03:09:33.769Z"
   },
   {
    "duration": 41,
    "start_time": "2022-05-25T03:09:42.678Z"
   },
   {
    "duration": 38,
    "start_time": "2022-05-25T03:10:03.990Z"
   },
   {
    "duration": 108,
    "start_time": "2022-05-25T03:10:18.452Z"
   },
   {
    "duration": 99,
    "start_time": "2022-05-25T03:12:07.730Z"
   },
   {
    "duration": 115,
    "start_time": "2022-05-25T03:12:12.852Z"
   },
   {
    "duration": 45,
    "start_time": "2022-05-25T03:12:20.614Z"
   },
   {
    "duration": 53,
    "start_time": "2022-05-25T03:13:12.555Z"
   },
   {
    "duration": 54,
    "start_time": "2022-05-25T03:14:36.231Z"
   },
   {
    "duration": 50,
    "start_time": "2022-05-25T03:14:54.183Z"
   },
   {
    "duration": 44,
    "start_time": "2022-05-25T03:16:12.571Z"
   },
   {
    "duration": 42,
    "start_time": "2022-05-25T03:16:39.778Z"
   },
   {
    "duration": 38,
    "start_time": "2022-05-25T03:17:02.570Z"
   },
   {
    "duration": 1870,
    "start_time": "2022-05-25T20:45:08.156Z"
   },
   {
    "duration": 1027,
    "start_time": "2022-05-25T20:45:10.029Z"
   },
   {
    "duration": 6,
    "start_time": "2022-05-25T20:45:11.058Z"
   },
   {
    "duration": 448,
    "start_time": "2022-05-25T20:45:11.066Z"
   },
   {
    "duration": 71,
    "start_time": "2022-05-25T20:45:11.516Z"
   },
   {
    "duration": 36,
    "start_time": "2022-05-25T20:45:11.602Z"
   },
   {
    "duration": 34,
    "start_time": "2022-05-25T20:45:11.640Z"
   },
   {
    "duration": 49,
    "start_time": "2022-05-25T20:45:11.676Z"
   },
   {
    "duration": 4,
    "start_time": "2022-05-25T20:45:11.727Z"
   },
   {
    "duration": 13,
    "start_time": "2022-05-25T20:45:11.733Z"
   },
   {
    "duration": 108,
    "start_time": "2022-05-25T20:45:11.749Z"
   },
   {
    "duration": 103,
    "start_time": "2022-05-25T20:45:11.859Z"
   },
   {
    "duration": 149,
    "start_time": "2022-05-25T20:45:11.964Z"
   },
   {
    "duration": 6,
    "start_time": "2022-05-25T20:45:12.115Z"
   },
   {
    "duration": 12,
    "start_time": "2022-05-25T20:45:12.122Z"
   },
   {
    "duration": 6,
    "start_time": "2022-05-25T20:45:12.136Z"
   },
   {
    "duration": 6,
    "start_time": "2022-05-25T20:45:12.144Z"
   },
   {
    "duration": 1023,
    "start_time": "2022-05-25T20:45:12.152Z"
   },
   {
    "duration": 1497,
    "start_time": "2022-05-25T20:45:13.177Z"
   },
   {
    "duration": 313,
    "start_time": "2022-05-25T20:45:14.676Z"
   },
   {
    "duration": 3,
    "start_time": "2022-05-25T20:45:14.991Z"
   },
   {
    "duration": 294,
    "start_time": "2022-05-25T20:45:14.996Z"
   },
   {
    "duration": 176,
    "start_time": "2022-05-25T20:45:15.291Z"
   },
   {
    "duration": 15,
    "start_time": "2022-05-25T20:45:15.469Z"
   },
   {
    "duration": 97,
    "start_time": "2022-05-25T20:45:15.486Z"
   },
   {
    "duration": 77,
    "start_time": "2022-05-25T20:45:15.585Z"
   },
   {
    "duration": 3,
    "start_time": "2022-05-25T20:45:15.664Z"
   },
   {
    "duration": 4,
    "start_time": "2022-05-25T20:45:15.671Z"
   },
   {
    "duration": 82,
    "start_time": "2022-05-25T20:45:15.677Z"
   },
   {
    "duration": 53,
    "start_time": "2022-05-25T20:45:15.761Z"
   },
   {
    "duration": 12,
    "start_time": "2022-05-25T20:45:15.815Z"
   },
   {
    "duration": 14,
    "start_time": "2022-05-25T20:45:15.829Z"
   },
   {
    "duration": 21,
    "start_time": "2022-05-25T20:45:15.845Z"
   },
   {
    "duration": 75,
    "start_time": "2022-05-25T20:45:15.868Z"
   },
   {
    "duration": 17,
    "start_time": "2022-05-25T20:45:15.944Z"
   },
   {
    "duration": 42,
    "start_time": "2022-05-25T20:45:15.963Z"
   },
   {
    "duration": 6,
    "start_time": "2022-05-25T20:45:16.006Z"
   },
   {
    "duration": 122,
    "start_time": "2022-05-25T20:45:16.013Z"
   },
   {
    "duration": 40,
    "start_time": "2022-05-25T20:45:16.138Z"
   },
   {
    "duration": 335,
    "start_time": "2022-05-25T20:45:16.179Z"
   },
   {
    "duration": 242,
    "start_time": "2022-05-25T20:45:16.516Z"
   },
   {
    "duration": 160,
    "start_time": "2022-05-25T20:45:16.760Z"
   },
   {
    "duration": 11,
    "start_time": "2022-05-25T20:45:16.922Z"
   },
   {
    "duration": 176,
    "start_time": "2022-05-25T20:45:16.934Z"
   },
   {
    "duration": 10,
    "start_time": "2022-05-25T20:45:17.112Z"
   },
   {
    "duration": 10,
    "start_time": "2022-05-25T20:45:19.618Z"
   },
   {
    "duration": 1343,
    "start_time": "2022-05-26T13:30:01.471Z"
   },
   {
    "duration": 870,
    "start_time": "2022-05-26T13:30:02.816Z"
   },
   {
    "duration": 4,
    "start_time": "2022-05-26T13:30:03.688Z"
   },
   {
    "duration": 311,
    "start_time": "2022-05-26T13:30:03.694Z"
   },
   {
    "duration": 40,
    "start_time": "2022-05-26T13:30:04.006Z"
   },
   {
    "duration": 34,
    "start_time": "2022-05-26T13:30:04.048Z"
   },
   {
    "duration": 34,
    "start_time": "2022-05-26T13:30:04.084Z"
   },
   {
    "duration": 28,
    "start_time": "2022-05-26T13:30:04.119Z"
   },
   {
    "duration": 5,
    "start_time": "2022-05-26T13:30:04.176Z"
   },
   {
    "duration": 18,
    "start_time": "2022-05-26T13:30:04.185Z"
   },
   {
    "duration": 51,
    "start_time": "2022-05-26T13:30:04.205Z"
   },
   {
    "duration": 72,
    "start_time": "2022-05-26T13:30:04.258Z"
   },
   {
    "duration": 138,
    "start_time": "2022-05-26T13:30:04.331Z"
   },
   {
    "duration": 10,
    "start_time": "2022-05-26T13:30:04.471Z"
   },
   {
    "duration": 22,
    "start_time": "2022-05-26T13:30:04.482Z"
   },
   {
    "duration": 4,
    "start_time": "2022-05-26T13:30:04.505Z"
   },
   {
    "duration": 9,
    "start_time": "2022-05-26T13:30:04.510Z"
   },
   {
    "duration": 907,
    "start_time": "2022-05-26T13:30:04.521Z"
   },
   {
    "duration": 1378,
    "start_time": "2022-05-26T13:30:05.429Z"
   },
   {
    "duration": 257,
    "start_time": "2022-05-26T13:30:06.809Z"
   },
   {
    "duration": 3,
    "start_time": "2022-05-26T13:30:07.068Z"
   },
   {
    "duration": 286,
    "start_time": "2022-05-26T13:30:07.077Z"
   },
   {
    "duration": 177,
    "start_time": "2022-05-26T13:30:07.365Z"
   },
   {
    "duration": 13,
    "start_time": "2022-05-26T13:30:07.544Z"
   },
   {
    "duration": 92,
    "start_time": "2022-05-26T13:30:07.559Z"
   },
   {
    "duration": 77,
    "start_time": "2022-05-26T13:30:07.653Z"
   },
   {
    "duration": 3,
    "start_time": "2022-05-26T13:30:07.732Z"
   },
   {
    "duration": 4,
    "start_time": "2022-05-26T13:30:07.738Z"
   },
   {
    "duration": 59,
    "start_time": "2022-05-26T13:30:07.743Z"
   },
   {
    "duration": 49,
    "start_time": "2022-05-26T13:30:07.804Z"
   },
   {
    "duration": 24,
    "start_time": "2022-05-26T13:30:07.854Z"
   },
   {
    "duration": 17,
    "start_time": "2022-05-26T13:30:07.879Z"
   },
   {
    "duration": 12,
    "start_time": "2022-05-26T13:30:07.897Z"
   },
   {
    "duration": 84,
    "start_time": "2022-05-26T13:30:07.911Z"
   },
   {
    "duration": 17,
    "start_time": "2022-05-26T13:30:07.997Z"
   },
   {
    "duration": 25,
    "start_time": "2022-05-26T13:30:08.015Z"
   },
   {
    "duration": 4,
    "start_time": "2022-05-26T13:30:08.042Z"
   },
   {
    "duration": 147,
    "start_time": "2022-05-26T13:30:08.048Z"
   },
   {
    "duration": 45,
    "start_time": "2022-05-26T13:30:08.197Z"
   },
   {
    "duration": 342,
    "start_time": "2022-05-26T13:30:08.244Z"
   },
   {
    "duration": 241,
    "start_time": "2022-05-26T13:30:08.588Z"
   },
   {
    "duration": 156,
    "start_time": "2022-05-26T13:30:08.830Z"
   },
   {
    "duration": 9,
    "start_time": "2022-05-26T13:30:08.988Z"
   },
   {
    "duration": 158,
    "start_time": "2022-05-26T13:30:08.999Z"
   },
   {
    "duration": 7,
    "start_time": "2022-05-26T13:30:09.159Z"
   },
   {
    "duration": 4,
    "start_time": "2022-05-26T13:34:38.549Z"
   },
   {
    "duration": 160,
    "start_time": "2022-05-26T13:34:40.458Z"
   },
   {
    "duration": 5,
    "start_time": "2022-05-26T13:35:22.300Z"
   },
   {
    "duration": 183,
    "start_time": "2022-05-26T13:35:23.760Z"
   },
   {
    "duration": 1121,
    "start_time": "2022-05-26T13:36:06.091Z"
   },
   {
    "duration": 272,
    "start_time": "2022-05-26T13:36:07.214Z"
   },
   {
    "duration": 5,
    "start_time": "2022-05-26T13:36:07.489Z"
   },
   {
    "duration": 331,
    "start_time": "2022-05-26T13:36:07.496Z"
   },
   {
    "duration": 39,
    "start_time": "2022-05-26T13:36:07.828Z"
   },
   {
    "duration": 33,
    "start_time": "2022-05-26T13:36:07.868Z"
   },
   {
    "duration": 41,
    "start_time": "2022-05-26T13:36:07.902Z"
   },
   {
    "duration": 46,
    "start_time": "2022-05-26T13:36:07.944Z"
   },
   {
    "duration": 3,
    "start_time": "2022-05-26T13:36:07.992Z"
   },
   {
    "duration": 11,
    "start_time": "2022-05-26T13:36:07.998Z"
   },
   {
    "duration": 70,
    "start_time": "2022-05-26T13:36:08.010Z"
   },
   {
    "duration": 58,
    "start_time": "2022-05-26T13:36:08.082Z"
   },
   {
    "duration": 166,
    "start_time": "2022-05-26T13:36:08.142Z"
   },
   {
    "duration": 5,
    "start_time": "2022-05-26T13:36:08.309Z"
   },
   {
    "duration": 12,
    "start_time": "2022-05-26T13:36:08.316Z"
   },
   {
    "duration": 3,
    "start_time": "2022-05-26T13:36:08.330Z"
   },
   {
    "duration": 5,
    "start_time": "2022-05-26T13:36:08.335Z"
   },
   {
    "duration": 933,
    "start_time": "2022-05-26T13:36:08.342Z"
   },
   {
    "duration": 1392,
    "start_time": "2022-05-26T13:36:09.278Z"
   },
   {
    "duration": 255,
    "start_time": "2022-05-26T13:36:10.671Z"
   },
   {
    "duration": 4,
    "start_time": "2022-05-26T13:36:10.928Z"
   },
   {
    "duration": 273,
    "start_time": "2022-05-26T13:36:10.933Z"
   },
   {
    "duration": 152,
    "start_time": "2022-05-26T13:36:11.207Z"
   },
   {
    "duration": 23,
    "start_time": "2022-05-26T13:36:11.360Z"
   },
   {
    "duration": 72,
    "start_time": "2022-05-26T13:36:11.385Z"
   },
   {
    "duration": 59,
    "start_time": "2022-05-26T13:36:11.474Z"
   },
   {
    "duration": 2,
    "start_time": "2022-05-26T13:36:11.535Z"
   },
   {
    "duration": 4,
    "start_time": "2022-05-26T13:36:11.540Z"
   },
   {
    "duration": 59,
    "start_time": "2022-05-26T13:36:11.546Z"
   },
   {
    "duration": 44,
    "start_time": "2022-05-26T13:36:11.607Z"
   },
   {
    "duration": 26,
    "start_time": "2022-05-26T13:36:11.652Z"
   },
   {
    "duration": 14,
    "start_time": "2022-05-26T13:36:11.684Z"
   },
   {
    "duration": 10,
    "start_time": "2022-05-26T13:36:11.699Z"
   },
   {
    "duration": 79,
    "start_time": "2022-05-26T13:36:11.710Z"
   },
   {
    "duration": 16,
    "start_time": "2022-05-26T13:36:11.791Z"
   },
   {
    "duration": 21,
    "start_time": "2022-05-26T13:36:11.809Z"
   },
   {
    "duration": 5,
    "start_time": "2022-05-26T13:36:11.832Z"
   },
   {
    "duration": 140,
    "start_time": "2022-05-26T13:36:11.838Z"
   },
   {
    "duration": 40,
    "start_time": "2022-05-26T13:36:11.980Z"
   },
   {
    "duration": 301,
    "start_time": "2022-05-26T13:36:12.021Z"
   },
   {
    "duration": 206,
    "start_time": "2022-05-26T13:36:12.324Z"
   },
   {
    "duration": 136,
    "start_time": "2022-05-26T13:36:12.532Z"
   },
   {
    "duration": 15,
    "start_time": "2022-05-26T13:36:12.669Z"
   },
   {
    "duration": 217,
    "start_time": "2022-05-26T13:36:12.687Z"
   },
   {
    "duration": 10,
    "start_time": "2022-05-26T13:36:12.906Z"
   },
   {
    "duration": 43,
    "start_time": "2022-05-26T13:38:02.610Z"
   },
   {
    "duration": 1081,
    "start_time": "2022-05-26T13:38:24.029Z"
   },
   {
    "duration": 254,
    "start_time": "2022-05-26T13:38:25.113Z"
   },
   {
    "duration": 5,
    "start_time": "2022-05-26T13:38:25.369Z"
   },
   {
    "duration": 321,
    "start_time": "2022-05-26T13:38:25.377Z"
   },
   {
    "duration": 27,
    "start_time": "2022-05-26T13:38:25.700Z"
   },
   {
    "duration": 50,
    "start_time": "2022-05-26T13:38:25.728Z"
   },
   {
    "duration": 29,
    "start_time": "2022-05-26T13:38:25.781Z"
   },
   {
    "duration": 29,
    "start_time": "2022-05-26T13:38:25.811Z"
   },
   {
    "duration": 59,
    "start_time": "2022-05-26T13:38:25.842Z"
   },
   {
    "duration": 3,
    "start_time": "2022-05-26T13:38:25.903Z"
   },
   {
    "duration": 12,
    "start_time": "2022-05-26T13:38:25.908Z"
   },
   {
    "duration": 79,
    "start_time": "2022-05-26T13:38:25.921Z"
   },
   {
    "duration": 57,
    "start_time": "2022-05-26T13:38:26.001Z"
   },
   {
    "duration": 150,
    "start_time": "2022-05-26T13:38:26.074Z"
   },
   {
    "duration": 4,
    "start_time": "2022-05-26T13:38:26.225Z"
   },
   {
    "duration": 10,
    "start_time": "2022-05-26T13:38:26.231Z"
   },
   {
    "duration": 5,
    "start_time": "2022-05-26T13:38:26.242Z"
   },
   {
    "duration": 27,
    "start_time": "2022-05-26T13:38:26.248Z"
   },
   {
    "duration": 940,
    "start_time": "2022-05-26T13:38:26.277Z"
   },
   {
    "duration": 1412,
    "start_time": "2022-05-26T13:38:27.218Z"
   },
   {
    "duration": 261,
    "start_time": "2022-05-26T13:38:28.632Z"
   },
   {
    "duration": 4,
    "start_time": "2022-05-26T13:38:28.895Z"
   },
   {
    "duration": 275,
    "start_time": "2022-05-26T13:38:28.901Z"
   },
   {
    "duration": 178,
    "start_time": "2022-05-26T13:38:29.178Z"
   },
   {
    "duration": 19,
    "start_time": "2022-05-26T13:38:29.358Z"
   },
   {
    "duration": 83,
    "start_time": "2022-05-26T13:38:29.379Z"
   },
   {
    "duration": 66,
    "start_time": "2022-05-26T13:38:29.463Z"
   },
   {
    "duration": 3,
    "start_time": "2022-05-26T13:38:29.532Z"
   },
   {
    "duration": 6,
    "start_time": "2022-05-26T13:38:29.537Z"
   },
   {
    "duration": 60,
    "start_time": "2022-05-26T13:38:29.545Z"
   },
   {
    "duration": 44,
    "start_time": "2022-05-26T13:38:29.606Z"
   },
   {
    "duration": 9,
    "start_time": "2022-05-26T13:38:29.652Z"
   },
   {
    "duration": 28,
    "start_time": "2022-05-26T13:38:29.675Z"
   },
   {
    "duration": 12,
    "start_time": "2022-05-26T13:38:29.704Z"
   },
   {
    "duration": 59,
    "start_time": "2022-05-26T13:38:29.717Z"
   },
   {
    "duration": 25,
    "start_time": "2022-05-26T13:38:29.777Z"
   },
   {
    "duration": 21,
    "start_time": "2022-05-26T13:38:29.804Z"
   },
   {
    "duration": 4,
    "start_time": "2022-05-26T13:38:29.827Z"
   },
   {
    "duration": 153,
    "start_time": "2022-05-26T13:38:29.833Z"
   },
   {
    "duration": 38,
    "start_time": "2022-05-26T13:38:29.988Z"
   },
   {
    "duration": 302,
    "start_time": "2022-05-26T13:38:30.027Z"
   },
   {
    "duration": 216,
    "start_time": "2022-05-26T13:38:30.331Z"
   },
   {
    "duration": 140,
    "start_time": "2022-05-26T13:38:30.549Z"
   },
   {
    "duration": 12,
    "start_time": "2022-05-26T13:38:30.692Z"
   },
   {
    "duration": 159,
    "start_time": "2022-05-26T13:38:30.705Z"
   },
   {
    "duration": 11,
    "start_time": "2022-05-26T13:38:30.866Z"
   },
   {
    "duration": 18,
    "start_time": "2022-05-26T13:41:17.312Z"
   },
   {
    "duration": 1586,
    "start_time": "2022-05-26T14:17:52.828Z"
   },
   {
    "duration": 1486,
    "start_time": "2022-05-26T14:18:51.976Z"
   },
   {
    "duration": 890,
    "start_time": "2022-05-26T14:19:50.585Z"
   },
   {
    "duration": 796,
    "start_time": "2022-05-26T14:20:06.645Z"
   },
   {
    "duration": 1359,
    "start_time": "2022-05-26T14:23:10.183Z"
   },
   {
    "duration": 1319,
    "start_time": "2022-05-26T14:24:10.143Z"
   },
   {
    "duration": 1553,
    "start_time": "2022-05-26T14:25:30.193Z"
   },
   {
    "duration": 1390,
    "start_time": "2022-05-26T14:25:56.204Z"
   },
   {
    "duration": 892,
    "start_time": "2022-05-26T14:26:43.853Z"
   },
   {
    "duration": 787,
    "start_time": "2022-05-26T14:26:59.688Z"
   },
   {
    "duration": 1373,
    "start_time": "2022-05-26T14:27:38.781Z"
   },
   {
    "duration": 3923,
    "start_time": "2022-05-26T14:28:31.353Z"
   },
   {
    "duration": 1344,
    "start_time": "2022-05-26T14:34:58.534Z"
   },
   {
    "duration": 1042,
    "start_time": "2022-05-26T14:38:08.131Z"
   },
   {
    "duration": 239,
    "start_time": "2022-05-26T14:38:09.175Z"
   },
   {
    "duration": 5,
    "start_time": "2022-05-26T14:38:09.416Z"
   },
   {
    "duration": 300,
    "start_time": "2022-05-26T14:38:09.423Z"
   },
   {
    "duration": 50,
    "start_time": "2022-05-26T14:38:09.725Z"
   },
   {
    "duration": 20,
    "start_time": "2022-05-26T14:38:09.776Z"
   },
   {
    "duration": 66,
    "start_time": "2022-05-26T14:38:09.798Z"
   },
   {
    "duration": 31,
    "start_time": "2022-05-26T14:38:09.866Z"
   },
   {
    "duration": 4,
    "start_time": "2022-05-26T14:38:09.899Z"
   },
   {
    "duration": 40,
    "start_time": "2022-05-26T14:38:09.906Z"
   },
   {
    "duration": 58,
    "start_time": "2022-05-26T14:38:09.948Z"
   },
   {
    "duration": 73,
    "start_time": "2022-05-26T14:38:10.008Z"
   },
   {
    "duration": 155,
    "start_time": "2022-05-26T14:38:10.083Z"
   },
   {
    "duration": 6,
    "start_time": "2022-05-26T14:38:10.240Z"
   },
   {
    "duration": 20,
    "start_time": "2022-05-26T14:38:10.248Z"
   },
   {
    "duration": 8,
    "start_time": "2022-05-26T14:38:10.270Z"
   },
   {
    "duration": 25,
    "start_time": "2022-05-26T14:38:10.281Z"
   },
   {
    "duration": 850,
    "start_time": "2022-05-26T14:38:10.308Z"
   },
   {
    "duration": 1227,
    "start_time": "2022-05-26T14:38:11.160Z"
   },
   {
    "duration": 236,
    "start_time": "2022-05-26T14:38:12.389Z"
   },
   {
    "duration": 4,
    "start_time": "2022-05-26T14:38:12.627Z"
   },
   {
    "duration": 302,
    "start_time": "2022-05-26T14:38:12.633Z"
   },
   {
    "duration": 164,
    "start_time": "2022-05-26T14:38:12.938Z"
   },
   {
    "duration": 14,
    "start_time": "2022-05-26T14:38:13.104Z"
   },
   {
    "duration": 85,
    "start_time": "2022-05-26T14:38:13.119Z"
   },
   {
    "duration": 51,
    "start_time": "2022-05-26T14:38:13.205Z"
   },
   {
    "duration": 18,
    "start_time": "2022-05-26T14:38:13.257Z"
   },
   {
    "duration": 3,
    "start_time": "2022-05-26T14:38:13.277Z"
   },
   {
    "duration": 41,
    "start_time": "2022-05-26T14:38:13.281Z"
   },
   {
    "duration": 61,
    "start_time": "2022-05-26T14:38:13.324Z"
   },
   {
    "duration": 8,
    "start_time": "2022-05-26T14:38:13.387Z"
   },
   {
    "duration": 14,
    "start_time": "2022-05-26T14:38:13.397Z"
   },
   {
    "duration": 9,
    "start_time": "2022-05-26T14:38:13.412Z"
   },
   {
    "duration": 86,
    "start_time": "2022-05-26T14:38:13.422Z"
   },
   {
    "duration": 15,
    "start_time": "2022-05-26T14:38:13.510Z"
   },
   {
    "duration": 20,
    "start_time": "2022-05-26T14:38:13.527Z"
   },
   {
    "duration": 4,
    "start_time": "2022-05-26T14:38:13.549Z"
   },
   {
    "duration": 106,
    "start_time": "2022-05-26T14:38:13.575Z"
   },
   {
    "duration": 34,
    "start_time": "2022-05-26T14:38:13.682Z"
   },
   {
    "duration": 281,
    "start_time": "2022-05-26T14:38:13.718Z"
   },
   {
    "duration": 191,
    "start_time": "2022-05-26T14:38:14.001Z"
   },
   {
    "duration": 140,
    "start_time": "2022-05-26T14:38:14.194Z"
   },
   {
    "duration": 8,
    "start_time": "2022-05-26T14:38:14.336Z"
   },
   {
    "duration": 140,
    "start_time": "2022-05-26T14:38:14.346Z"
   },
   {
    "duration": 11,
    "start_time": "2022-05-26T14:38:14.488Z"
   },
   {
    "duration": 2,
    "start_time": "2022-05-26T14:41:44.721Z"
   },
   {
    "duration": 10,
    "start_time": "2022-05-26T14:41:51.079Z"
   },
   {
    "duration": 146,
    "start_time": "2022-05-26T14:43:50.921Z"
   },
   {
    "duration": 155,
    "start_time": "2022-05-26T14:44:04.531Z"
   },
   {
    "duration": 143,
    "start_time": "2022-05-26T14:45:17.569Z"
   },
   {
    "duration": 147,
    "start_time": "2022-05-26T14:45:33.086Z"
   },
   {
    "duration": 144,
    "start_time": "2022-05-26T14:46:22.053Z"
   },
   {
    "duration": 149,
    "start_time": "2022-05-26T14:46:45.645Z"
   },
   {
    "duration": 120,
    "start_time": "2022-05-26T14:47:43.550Z"
   },
   {
    "duration": 9,
    "start_time": "2022-05-26T14:47:50.538Z"
   },
   {
    "duration": 12,
    "start_time": "2022-05-26T14:48:43.106Z"
   },
   {
    "duration": 10,
    "start_time": "2022-05-26T14:49:01.389Z"
   },
   {
    "duration": 465,
    "start_time": "2022-05-26T14:52:09.549Z"
   },
   {
    "duration": 233,
    "start_time": "2022-05-26T14:53:56.908Z"
   },
   {
    "duration": 12,
    "start_time": "2022-05-26T14:55:41.109Z"
   },
   {
    "duration": 261,
    "start_time": "2022-05-26T14:55:47.727Z"
   },
   {
    "duration": 267,
    "start_time": "2022-05-26T15:03:43.577Z"
   },
   {
    "duration": 262,
    "start_time": "2022-05-26T15:05:28.774Z"
   },
   {
    "duration": 275,
    "start_time": "2022-05-26T15:06:00.265Z"
   },
   {
    "duration": 262,
    "start_time": "2022-05-26T15:07:55.867Z"
   },
   {
    "duration": 321,
    "start_time": "2022-05-26T15:08:15.951Z"
   },
   {
    "duration": 372,
    "start_time": "2022-05-26T15:09:09.615Z"
   },
   {
    "duration": 285,
    "start_time": "2022-05-26T15:09:20.206Z"
   },
   {
    "duration": 10,
    "start_time": "2022-05-26T15:10:13.355Z"
   },
   {
    "duration": 263,
    "start_time": "2022-05-26T15:11:17.217Z"
   },
   {
    "duration": 284,
    "start_time": "2022-05-26T15:12:21.916Z"
   },
   {
    "duration": 4,
    "start_time": "2022-05-26T15:14:19.416Z"
   },
   {
    "duration": 14,
    "start_time": "2022-05-26T15:14:22.879Z"
   },
   {
    "duration": 14,
    "start_time": "2022-05-26T15:14:44.367Z"
   },
   {
    "duration": 4,
    "start_time": "2022-05-26T15:14:52.514Z"
   },
   {
    "duration": 10,
    "start_time": "2022-05-26T15:14:53.836Z"
   },
   {
    "duration": 266,
    "start_time": "2022-05-26T15:26:29.989Z"
   },
   {
    "duration": 404,
    "start_time": "2022-05-26T15:26:43.299Z"
   },
   {
    "duration": 328,
    "start_time": "2022-05-26T15:31:42.152Z"
   },
   {
    "duration": 281,
    "start_time": "2022-05-26T15:32:57.839Z"
   },
   {
    "duration": 283,
    "start_time": "2022-05-26T15:35:49.842Z"
   },
   {
    "duration": 21,
    "start_time": "2022-05-26T15:42:47.761Z"
   },
   {
    "duration": 17,
    "start_time": "2022-05-26T15:43:08.500Z"
   },
   {
    "duration": 273,
    "start_time": "2022-05-26T15:43:18.216Z"
   },
   {
    "duration": 3,
    "start_time": "2022-05-26T15:46:23.999Z"
   },
   {
    "duration": 11,
    "start_time": "2022-05-26T15:46:28.204Z"
   },
   {
    "duration": 5,
    "start_time": "2022-05-26T15:46:45.022Z"
   },
   {
    "duration": 9,
    "start_time": "2022-05-26T15:46:46.424Z"
   },
   {
    "duration": 5,
    "start_time": "2022-05-26T15:47:59.926Z"
   },
   {
    "duration": 11,
    "start_time": "2022-05-26T15:48:01.429Z"
   },
   {
    "duration": 3,
    "start_time": "2022-05-26T15:51:05.518Z"
   },
   {
    "duration": 10,
    "start_time": "2022-05-26T15:51:08.581Z"
   },
   {
    "duration": 250,
    "start_time": "2022-05-26T15:51:19.421Z"
   },
   {
    "duration": 10,
    "start_time": "2022-05-26T15:51:39.920Z"
   },
   {
    "duration": 4,
    "start_time": "2022-05-26T15:52:41.246Z"
   },
   {
    "duration": 13,
    "start_time": "2022-05-26T15:52:42.846Z"
   },
   {
    "duration": 323,
    "start_time": "2022-05-26T15:52:52.790Z"
   },
   {
    "duration": 1130,
    "start_time": "2022-05-26T15:53:16.076Z"
   },
   {
    "duration": 258,
    "start_time": "2022-05-26T15:53:17.209Z"
   },
   {
    "duration": 5,
    "start_time": "2022-05-26T15:53:17.469Z"
   },
   {
    "duration": 275,
    "start_time": "2022-05-26T15:53:17.475Z"
   },
   {
    "duration": 71,
    "start_time": "2022-05-26T15:53:17.752Z"
   },
   {
    "duration": 21,
    "start_time": "2022-05-26T15:53:17.824Z"
   },
   {
    "duration": 44,
    "start_time": "2022-05-26T15:53:17.846Z"
   },
   {
    "duration": 28,
    "start_time": "2022-05-26T15:53:17.891Z"
   },
   {
    "duration": 3,
    "start_time": "2022-05-26T15:53:17.922Z"
   },
   {
    "duration": 13,
    "start_time": "2022-05-26T15:53:17.927Z"
   },
   {
    "duration": 70,
    "start_time": "2022-05-26T15:53:17.941Z"
   },
   {
    "duration": 75,
    "start_time": "2022-05-26T15:53:18.013Z"
   },
   {
    "duration": 143,
    "start_time": "2022-05-26T15:53:18.089Z"
   },
   {
    "duration": 6,
    "start_time": "2022-05-26T15:53:18.233Z"
   },
   {
    "duration": 11,
    "start_time": "2022-05-26T15:53:18.240Z"
   },
   {
    "duration": 22,
    "start_time": "2022-05-26T15:53:18.252Z"
   },
   {
    "duration": 4,
    "start_time": "2022-05-26T15:53:18.276Z"
   },
   {
    "duration": 852,
    "start_time": "2022-05-26T15:53:18.281Z"
   },
   {
    "duration": 1303,
    "start_time": "2022-05-26T15:53:19.135Z"
   },
   {
    "duration": 225,
    "start_time": "2022-05-26T15:53:20.440Z"
   },
   {
    "duration": 4,
    "start_time": "2022-05-26T15:53:20.666Z"
   },
   {
    "duration": 306,
    "start_time": "2022-05-26T15:53:20.671Z"
   },
   {
    "duration": 308,
    "start_time": "2022-05-26T15:53:20.979Z"
   },
   {
    "duration": 9,
    "start_time": "2022-05-26T15:53:21.288Z"
   },
   {
    "duration": 155,
    "start_time": "2022-05-26T15:53:21.299Z"
   },
   {
    "duration": 27,
    "start_time": "2022-05-26T15:53:21.455Z"
   },
   {
    "duration": 68,
    "start_time": "2022-05-26T15:53:21.485Z"
   },
   {
    "duration": 63,
    "start_time": "2022-05-26T15:53:21.554Z"
   },
   {
    "duration": 3,
    "start_time": "2022-05-26T15:53:21.619Z"
   },
   {
    "duration": 5,
    "start_time": "2022-05-26T15:53:21.624Z"
   },
   {
    "duration": 58,
    "start_time": "2022-05-26T15:53:21.631Z"
   },
   {
    "duration": 45,
    "start_time": "2022-05-26T15:53:21.691Z"
   },
   {
    "duration": 10,
    "start_time": "2022-05-26T15:53:21.738Z"
   },
   {
    "duration": 34,
    "start_time": "2022-05-26T15:53:21.750Z"
   },
   {
    "duration": 13,
    "start_time": "2022-05-26T15:53:21.785Z"
   },
   {
    "duration": 59,
    "start_time": "2022-05-26T15:53:21.800Z"
   },
   {
    "duration": 16,
    "start_time": "2022-05-26T15:53:21.874Z"
   },
   {
    "duration": 21,
    "start_time": "2022-05-26T15:53:21.892Z"
   },
   {
    "duration": 4,
    "start_time": "2022-05-26T15:53:21.914Z"
   },
   {
    "duration": 123,
    "start_time": "2022-05-26T15:53:21.920Z"
   },
   {
    "duration": 40,
    "start_time": "2022-05-26T15:53:22.044Z"
   },
   {
    "duration": 282,
    "start_time": "2022-05-26T15:53:22.085Z"
   },
   {
    "duration": 192,
    "start_time": "2022-05-26T15:53:22.369Z"
   },
   {
    "duration": 125,
    "start_time": "2022-05-26T15:53:22.563Z"
   },
   {
    "duration": 8,
    "start_time": "2022-05-26T15:53:22.690Z"
   },
   {
    "duration": 170,
    "start_time": "2022-05-26T15:53:22.699Z"
   },
   {
    "duration": 13,
    "start_time": "2022-05-26T15:53:22.871Z"
   },
   {
    "duration": 288,
    "start_time": "2022-05-26T16:10:16.150Z"
   },
   {
    "duration": 268,
    "start_time": "2022-05-26T16:10:37.082Z"
   },
   {
    "duration": 288,
    "start_time": "2022-05-26T16:27:57.924Z"
   },
   {
    "duration": 27,
    "start_time": "2022-05-26T16:28:42.954Z"
   },
   {
    "duration": 16,
    "start_time": "2022-05-26T16:30:27.004Z"
   },
   {
    "duration": 10,
    "start_time": "2022-05-26T16:40:56.266Z"
   },
   {
    "duration": 18,
    "start_time": "2022-05-26T16:41:03.613Z"
   },
   {
    "duration": 23,
    "start_time": "2022-05-26T16:41:04.358Z"
   },
   {
    "duration": 27,
    "start_time": "2022-05-26T16:42:09.061Z"
   },
   {
    "duration": 21,
    "start_time": "2022-05-26T16:42:18.570Z"
   },
   {
    "duration": 40,
    "start_time": "2022-05-26T18:35:09.930Z"
   },
   {
    "duration": 42,
    "start_time": "2022-05-26T18:35:23.225Z"
   },
   {
    "duration": 62,
    "start_time": "2022-05-26T18:35:45.058Z"
   },
   {
    "duration": 46,
    "start_time": "2022-05-26T18:39:04.547Z"
   },
   {
    "duration": 3,
    "start_time": "2022-05-26T18:39:26.178Z"
   },
   {
    "duration": 48,
    "start_time": "2022-05-26T18:39:29.852Z"
   },
   {
    "duration": 12,
    "start_time": "2022-05-26T18:39:43.434Z"
   },
   {
    "duration": 15,
    "start_time": "2022-05-26T18:39:46.210Z"
   },
   {
    "duration": 348,
    "start_time": "2022-05-26T18:46:23.068Z"
   },
   {
    "duration": 164,
    "start_time": "2022-05-26T18:46:59.862Z"
   },
   {
    "duration": 27,
    "start_time": "2022-05-26T18:48:41.010Z"
   },
   {
    "duration": 65,
    "start_time": "2022-05-26T18:49:16.856Z"
   },
   {
    "duration": 66,
    "start_time": "2022-05-26T18:49:34.955Z"
   },
   {
    "duration": 27,
    "start_time": "2022-05-26T18:49:53.426Z"
   },
   {
    "duration": 29,
    "start_time": "2022-05-26T18:50:20.390Z"
   },
   {
    "duration": 47,
    "start_time": "2022-05-26T18:50:22.057Z"
   },
   {
    "duration": 33,
    "start_time": "2022-05-26T18:52:58.108Z"
   },
   {
    "duration": 4,
    "start_time": "2022-05-26T18:54:02.661Z"
   },
   {
    "duration": 24,
    "start_time": "2022-05-26T18:54:08.468Z"
   },
   {
    "duration": 3,
    "start_time": "2022-05-26T18:54:18.014Z"
   },
   {
    "duration": 33,
    "start_time": "2022-05-26T18:54:21.046Z"
   },
   {
    "duration": 74,
    "start_time": "2022-05-26T18:54:33.754Z"
   },
   {
    "duration": 5,
    "start_time": "2022-05-26T18:57:47.053Z"
   },
   {
    "duration": 17,
    "start_time": "2022-05-26T18:57:52.708Z"
   },
   {
    "duration": 60,
    "start_time": "2022-05-26T18:57:54.851Z"
   },
   {
    "duration": 4,
    "start_time": "2022-05-26T18:58:16.968Z"
   },
   {
    "duration": 509,
    "start_time": "2022-05-26T18:58:18.407Z"
   },
   {
    "duration": 3,
    "start_time": "2022-05-26T18:58:27.245Z"
   },
   {
    "duration": 62,
    "start_time": "2022-05-26T18:58:29.353Z"
   },
   {
    "duration": 3,
    "start_time": "2022-05-26T18:59:29.548Z"
   },
   {
    "duration": 79,
    "start_time": "2022-05-26T18:59:31.727Z"
   },
   {
    "duration": 14,
    "start_time": "2022-05-26T19:01:03.931Z"
   },
   {
    "duration": 26,
    "start_time": "2022-05-26T19:01:21.108Z"
   },
   {
    "duration": 5,
    "start_time": "2022-05-26T19:02:05.795Z"
   },
   {
    "duration": 145,
    "start_time": "2022-05-26T19:02:08.728Z"
   },
   {
    "duration": 4,
    "start_time": "2022-05-26T19:06:00.087Z"
   },
   {
    "duration": 65,
    "start_time": "2022-05-26T19:06:05.831Z"
   },
   {
    "duration": 15,
    "start_time": "2022-05-26T19:06:14.487Z"
   },
   {
    "duration": 78,
    "start_time": "2022-05-26T19:06:18.628Z"
   },
   {
    "duration": 4,
    "start_time": "2022-05-26T19:06:30.207Z"
   },
   {
    "duration": 17,
    "start_time": "2022-05-26T19:06:32.150Z"
   },
   {
    "duration": 74,
    "start_time": "2022-05-26T19:06:32.786Z"
   },
   {
    "duration": 13,
    "start_time": "2022-05-26T19:06:35.686Z"
   },
   {
    "duration": 52,
    "start_time": "2022-05-26T19:06:36.627Z"
   },
   {
    "duration": 60,
    "start_time": "2022-05-26T19:06:54.027Z"
   },
   {
    "duration": 15,
    "start_time": "2022-05-26T19:07:51.196Z"
   },
   {
    "duration": 84,
    "start_time": "2022-05-26T19:07:52.407Z"
   },
   {
    "duration": 17,
    "start_time": "2022-05-26T19:08:01.967Z"
   },
   {
    "duration": 62,
    "start_time": "2022-05-26T19:08:03.226Z"
   },
   {
    "duration": 12,
    "start_time": "2022-05-26T19:20:53.324Z"
   },
   {
    "duration": 308,
    "start_time": "2022-05-26T19:21:03.020Z"
   },
   {
    "duration": 22,
    "start_time": "2022-05-26T19:21:14.326Z"
   },
   {
    "duration": 21,
    "start_time": "2022-05-26T19:21:50.285Z"
   },
   {
    "duration": 22,
    "start_time": "2022-05-26T19:22:26.374Z"
   },
   {
    "duration": 22,
    "start_time": "2022-05-26T19:22:37.765Z"
   },
   {
    "duration": 78,
    "start_time": "2022-05-26T19:22:50.726Z"
   },
   {
    "duration": 374,
    "start_time": "2022-05-26T19:22:53.807Z"
   },
   {
    "duration": 29,
    "start_time": "2022-05-26T19:23:20.066Z"
   },
   {
    "duration": 78,
    "start_time": "2022-05-26T19:23:24.256Z"
   },
   {
    "duration": 331,
    "start_time": "2022-05-26T19:23:25.860Z"
   },
   {
    "duration": 21,
    "start_time": "2022-05-26T19:42:34.422Z"
   },
   {
    "duration": 78,
    "start_time": "2022-05-26T19:42:56.242Z"
   },
   {
    "duration": 234,
    "start_time": "2022-05-26T19:42:58.605Z"
   },
   {
    "duration": 71,
    "start_time": "2022-05-26T19:43:54.790Z"
   },
   {
    "duration": 154,
    "start_time": "2022-05-26T19:43:55.975Z"
   },
   {
    "duration": 4,
    "start_time": "2022-05-26T19:45:36.376Z"
   },
   {
    "duration": 205,
    "start_time": "2022-05-26T19:46:12.922Z"
   },
   {
    "duration": 7,
    "start_time": "2022-05-26T19:46:44.130Z"
   },
   {
    "duration": 648,
    "start_time": "2022-05-26T19:46:47.562Z"
   },
   {
    "duration": 6,
    "start_time": "2022-05-26T19:46:59.602Z"
   },
   {
    "duration": 139,
    "start_time": "2022-05-26T19:47:00.962Z"
   },
   {
    "duration": 7,
    "start_time": "2022-05-26T19:48:31.003Z"
   },
   {
    "duration": 172,
    "start_time": "2022-05-26T19:48:32.909Z"
   },
   {
    "duration": 104,
    "start_time": "2022-05-26T20:06:33.359Z"
   },
   {
    "duration": 111,
    "start_time": "2022-05-26T20:07:18.539Z"
   },
   {
    "duration": 113,
    "start_time": "2022-05-26T20:08:03.960Z"
   },
   {
    "duration": 126,
    "start_time": "2022-05-26T20:11:40.608Z"
   },
   {
    "duration": 43,
    "start_time": "2022-05-26T20:11:51.998Z"
   },
   {
    "duration": 48,
    "start_time": "2022-05-26T20:12:14.639Z"
   },
   {
    "duration": 66,
    "start_time": "2022-05-26T20:12:48.379Z"
   },
   {
    "duration": 4,
    "start_time": "2022-05-26T20:13:34.367Z"
   },
   {
    "duration": 66,
    "start_time": "2022-05-26T20:13:37.956Z"
   },
   {
    "duration": 58,
    "start_time": "2022-05-26T20:13:45.046Z"
   },
   {
    "duration": 37,
    "start_time": "2022-05-26T20:13:47.327Z"
   },
   {
    "duration": 37,
    "start_time": "2022-05-26T20:13:54.918Z"
   },
   {
    "duration": 42,
    "start_time": "2022-05-26T20:15:14.078Z"
   },
   {
    "duration": 42,
    "start_time": "2022-05-26T20:15:48.298Z"
   },
   {
    "duration": 39,
    "start_time": "2022-05-26T20:16:51.201Z"
   },
   {
    "duration": 6,
    "start_time": "2022-05-26T20:19:24.626Z"
   },
   {
    "duration": 100,
    "start_time": "2022-05-26T20:19:27.518Z"
   },
   {
    "duration": 36,
    "start_time": "2022-05-26T20:19:34.965Z"
   },
   {
    "duration": 4,
    "start_time": "2022-05-26T20:20:50.238Z"
   },
   {
    "duration": 15,
    "start_time": "2022-05-26T20:20:51.661Z"
   },
   {
    "duration": 42,
    "start_time": "2022-05-26T20:20:53.817Z"
   },
   {
    "duration": 3,
    "start_time": "2022-05-26T20:21:10.599Z"
   },
   {
    "duration": 77,
    "start_time": "2022-05-26T20:21:12.978Z"
   },
   {
    "duration": 5,
    "start_time": "2022-05-26T20:22:58.638Z"
   },
   {
    "duration": 144,
    "start_time": "2022-05-26T20:22:59.978Z"
   },
   {
    "duration": 52,
    "start_time": "2022-05-26T20:23:03.718Z"
   },
   {
    "duration": 105,
    "start_time": "2022-05-26T20:24:58.622Z"
   },
   {
    "duration": 129,
    "start_time": "2022-05-26T20:25:08.559Z"
   },
   {
    "duration": 146,
    "start_time": "2022-05-26T20:25:28.544Z"
   },
   {
    "duration": 18,
    "start_time": "2022-05-26T20:25:50.854Z"
   },
   {
    "duration": 24,
    "start_time": "2022-05-26T20:26:09.639Z"
   },
   {
    "duration": 5,
    "start_time": "2022-05-26T20:28:50.828Z"
   },
   {
    "duration": 166,
    "start_time": "2022-05-26T20:28:54.477Z"
   },
   {
    "duration": 4,
    "start_time": "2022-05-26T20:29:08.266Z"
   },
   {
    "duration": 171,
    "start_time": "2022-05-26T20:29:09.645Z"
   },
   {
    "duration": 142,
    "start_time": "2022-05-26T20:29:25.497Z"
   },
   {
    "duration": 72,
    "start_time": "2022-05-26T20:29:28.597Z"
   },
   {
    "duration": 3,
    "start_time": "2022-05-26T20:38:34.280Z"
   },
   {
    "duration": 77,
    "start_time": "2022-05-26T20:39:08.980Z"
   },
   {
    "duration": 138,
    "start_time": "2022-05-26T20:39:32.060Z"
   },
   {
    "duration": 137,
    "start_time": "2022-05-26T20:40:46.041Z"
   },
   {
    "duration": 85,
    "start_time": "2022-05-26T20:42:05.840Z"
   },
   {
    "duration": 58,
    "start_time": "2022-05-26T20:42:27.085Z"
   },
   {
    "duration": 138,
    "start_time": "2022-05-26T20:43:34.800Z"
   },
   {
    "duration": 602,
    "start_time": "2022-05-26T20:45:33.960Z"
   },
   {
    "duration": 5,
    "start_time": "2022-05-26T20:47:14.000Z"
   },
   {
    "duration": 651,
    "start_time": "2022-05-26T20:47:17.399Z"
   },
   {
    "duration": 558,
    "start_time": "2022-05-26T20:48:50.999Z"
   },
   {
    "duration": 575,
    "start_time": "2022-05-26T20:49:15.840Z"
   },
   {
    "duration": 59,
    "start_time": "2022-05-26T20:52:14.329Z"
   },
   {
    "duration": 55,
    "start_time": "2022-05-26T20:52:32.876Z"
   },
   {
    "duration": 60,
    "start_time": "2022-05-26T20:56:16.331Z"
   },
   {
    "duration": 537,
    "start_time": "2022-05-26T20:58:37.404Z"
   },
   {
    "duration": 73,
    "start_time": "2022-05-26T20:59:01.159Z"
   },
   {
    "duration": 3,
    "start_time": "2022-05-26T21:00:08.659Z"
   },
   {
    "duration": 24,
    "start_time": "2022-05-26T21:00:09.340Z"
   },
   {
    "duration": 62,
    "start_time": "2022-05-26T21:00:19.439Z"
   },
   {
    "duration": 12,
    "start_time": "2022-05-26T21:00:34.740Z"
   },
   {
    "duration": 50,
    "start_time": "2022-05-26T21:00:37.138Z"
   },
   {
    "duration": 11,
    "start_time": "2022-05-26T21:00:49.054Z"
   },
   {
    "duration": 56,
    "start_time": "2022-05-26T21:00:49.860Z"
   },
   {
    "duration": 16,
    "start_time": "2022-05-26T21:00:58.936Z"
   },
   {
    "duration": 74,
    "start_time": "2022-05-26T21:00:59.588Z"
   },
   {
    "duration": 22,
    "start_time": "2022-05-26T21:01:29.646Z"
   },
   {
    "duration": 149,
    "start_time": "2022-05-26T21:01:33.374Z"
   },
   {
    "duration": 78,
    "start_time": "2022-05-26T21:01:44.658Z"
   },
   {
    "duration": 115,
    "start_time": "2022-05-26T21:01:56.259Z"
   },
   {
    "duration": 40,
    "start_time": "2022-05-26T21:02:15.090Z"
   },
   {
    "duration": 107,
    "start_time": "2022-05-26T21:03:29.639Z"
   },
   {
    "duration": 17,
    "start_time": "2022-05-26T21:04:35.405Z"
   },
   {
    "duration": 115,
    "start_time": "2022-05-26T21:05:21.801Z"
   },
   {
    "duration": 14,
    "start_time": "2022-05-26T21:05:27.097Z"
   },
   {
    "duration": 14,
    "start_time": "2022-05-26T21:08:01.225Z"
   },
   {
    "duration": 4,
    "start_time": "2022-05-26T21:10:11.610Z"
   },
   {
    "duration": 123,
    "start_time": "2022-05-26T21:10:18.747Z"
   },
   {
    "duration": 15,
    "start_time": "2022-05-26T21:10:20.197Z"
   },
   {
    "duration": 116,
    "start_time": "2022-05-26T21:10:28.105Z"
   },
   {
    "duration": 16,
    "start_time": "2022-05-26T21:10:29.124Z"
   },
   {
    "duration": 280,
    "start_time": "2022-05-26T21:10:39.645Z"
   },
   {
    "duration": 14,
    "start_time": "2022-05-26T21:11:40.567Z"
   },
   {
    "duration": 759,
    "start_time": "2022-05-26T21:14:31.106Z"
   },
   {
    "duration": 529,
    "start_time": "2022-05-26T21:14:53.449Z"
   },
   {
    "duration": 1122,
    "start_time": "2022-05-26T21:16:29.068Z"
   },
   {
    "duration": 835,
    "start_time": "2022-05-26T21:16:30.192Z"
   },
   {
    "duration": 5,
    "start_time": "2022-05-26T21:16:31.029Z"
   },
   {
    "duration": 286,
    "start_time": "2022-05-26T21:16:31.037Z"
   },
   {
    "duration": 38,
    "start_time": "2022-05-26T21:16:31.325Z"
   },
   {
    "duration": 29,
    "start_time": "2022-05-26T21:16:31.365Z"
   },
   {
    "duration": 45,
    "start_time": "2022-05-26T21:16:31.396Z"
   },
   {
    "duration": 36,
    "start_time": "2022-05-26T21:16:31.442Z"
   },
   {
    "duration": 3,
    "start_time": "2022-05-26T21:16:31.480Z"
   },
   {
    "duration": 14,
    "start_time": "2022-05-26T21:16:31.485Z"
   },
   {
    "duration": 41,
    "start_time": "2022-05-26T21:16:31.501Z"
   },
   {
    "duration": 71,
    "start_time": "2022-05-26T21:16:31.544Z"
   },
   {
    "duration": 124,
    "start_time": "2022-05-26T21:16:31.616Z"
   },
   {
    "duration": 4,
    "start_time": "2022-05-26T21:16:31.742Z"
   },
   {
    "duration": 15,
    "start_time": "2022-05-26T21:16:31.748Z"
   },
   {
    "duration": 12,
    "start_time": "2022-05-26T21:16:31.764Z"
   },
   {
    "duration": 17,
    "start_time": "2022-05-26T21:16:31.777Z"
   },
   {
    "duration": 856,
    "start_time": "2022-05-26T21:16:31.796Z"
   },
   {
    "duration": 1316,
    "start_time": "2022-05-26T21:16:32.654Z"
   },
   {
    "duration": 235,
    "start_time": "2022-05-26T21:16:33.971Z"
   },
   {
    "duration": 371,
    "start_time": "2022-05-26T21:16:34.208Z"
   },
   {
    "duration": 150,
    "start_time": "2022-05-26T21:16:34.581Z"
   },
   {
    "duration": 15,
    "start_time": "2022-05-26T21:16:34.733Z"
   },
   {
    "duration": 79,
    "start_time": "2022-05-26T21:16:34.749Z"
   },
   {
    "duration": 62,
    "start_time": "2022-05-26T21:16:34.829Z"
   },
   {
    "duration": 2,
    "start_time": "2022-05-26T21:16:34.893Z"
   },
   {
    "duration": 6,
    "start_time": "2022-05-26T21:16:34.897Z"
   },
   {
    "duration": 42,
    "start_time": "2022-05-26T21:16:34.905Z"
   },
   {
    "duration": 77,
    "start_time": "2022-05-26T21:16:34.949Z"
   },
   {
    "duration": 9,
    "start_time": "2022-05-26T21:16:35.027Z"
   },
   {
    "duration": 15,
    "start_time": "2022-05-26T21:16:35.037Z"
   },
   {
    "duration": 66,
    "start_time": "2022-05-26T21:16:35.053Z"
   },
   {
    "duration": 11,
    "start_time": "2022-05-26T21:16:35.121Z"
   },
   {
    "duration": 63,
    "start_time": "2022-05-26T21:16:35.134Z"
   },
   {
    "duration": 17,
    "start_time": "2022-05-26T21:16:35.199Z"
   },
   {
    "duration": 76,
    "start_time": "2022-05-26T21:16:35.217Z"
   },
   {
    "duration": 5,
    "start_time": "2022-05-26T21:16:35.295Z"
   },
   {
    "duration": 147,
    "start_time": "2022-05-26T21:16:35.301Z"
   },
   {
    "duration": 80,
    "start_time": "2022-05-26T21:16:35.450Z"
   },
   {
    "duration": 113,
    "start_time": "2022-05-26T21:16:35.531Z"
   },
   {
    "duration": 108,
    "start_time": "2022-05-26T21:16:35.646Z"
   },
   {
    "duration": 0,
    "start_time": "2022-05-26T21:16:35.756Z"
   },
   {
    "duration": 0,
    "start_time": "2022-05-26T21:16:35.757Z"
   },
   {
    "duration": 0,
    "start_time": "2022-05-26T21:16:35.758Z"
   },
   {
    "duration": 0,
    "start_time": "2022-05-26T21:16:35.760Z"
   },
   {
    "duration": 0,
    "start_time": "2022-05-26T21:16:35.774Z"
   },
   {
    "duration": 106,
    "start_time": "2022-05-26T21:17:25.267Z"
   },
   {
    "duration": 136048,
    "start_time": "2022-05-26T21:17:26.593Z"
   },
   {
    "duration": 122,
    "start_time": "2022-05-26T21:20:18.808Z"
   },
   {
    "duration": 20,
    "start_time": "2022-05-26T21:20:21.587Z"
   },
   {
    "duration": 109,
    "start_time": "2022-05-26T21:22:18.248Z"
   },
   {
    "duration": 14,
    "start_time": "2022-05-26T21:22:19.275Z"
   },
   {
    "duration": 115,
    "start_time": "2022-05-26T21:23:28.561Z"
   },
   {
    "duration": 118,
    "start_time": "2022-05-26T21:23:35.817Z"
   },
   {
    "duration": 120,
    "start_time": "2022-05-26T21:25:02.468Z"
   },
   {
    "duration": 148,
    "start_time": "2022-05-26T21:26:01.039Z"
   },
   {
    "duration": 15,
    "start_time": "2022-05-26T21:26:10.308Z"
   },
   {
    "duration": 152,
    "start_time": "2022-05-26T21:26:24.038Z"
   },
   {
    "duration": 14,
    "start_time": "2022-05-26T21:26:29.796Z"
   },
   {
    "duration": 146,
    "start_time": "2022-05-26T21:26:45.644Z"
   },
   {
    "duration": 14,
    "start_time": "2022-05-26T21:27:13.372Z"
   },
   {
    "duration": 120,
    "start_time": "2022-05-26T21:27:32.622Z"
   },
   {
    "duration": 15,
    "start_time": "2022-05-26T21:31:38.561Z"
   },
   {
    "duration": 523,
    "start_time": "2022-05-26T21:31:56.049Z"
   },
   {
    "duration": 106,
    "start_time": "2022-05-26T21:33:09.594Z"
   },
   {
    "duration": 17,
    "start_time": "2022-05-26T21:33:10.827Z"
   },
   {
    "duration": 5,
    "start_time": "2022-05-26T21:34:32.751Z"
   },
   {
    "duration": 110,
    "start_time": "2022-05-26T21:34:37.226Z"
   },
   {
    "duration": 155,
    "start_time": "2022-05-26T21:34:38.464Z"
   },
   {
    "duration": 116,
    "start_time": "2022-05-26T21:35:28.053Z"
   },
   {
    "duration": 5,
    "start_time": "2022-05-26T21:36:04.603Z"
   },
   {
    "duration": 120,
    "start_time": "2022-05-26T21:36:22.054Z"
   },
   {
    "duration": 122,
    "start_time": "2022-05-26T21:37:01.639Z"
   },
   {
    "duration": 125,
    "start_time": "2022-05-26T21:37:49.815Z"
   },
   {
    "duration": 151,
    "start_time": "2022-05-26T21:37:53.217Z"
   },
   {
    "duration": 113,
    "start_time": "2022-05-26T21:38:14.726Z"
   },
   {
    "duration": 34,
    "start_time": "2022-05-26T21:38:31.768Z"
   },
   {
    "duration": 1084,
    "start_time": "2022-05-26T21:38:43.820Z"
   },
   {
    "duration": 263,
    "start_time": "2022-05-26T21:38:44.905Z"
   },
   {
    "duration": 5,
    "start_time": "2022-05-26T21:38:45.170Z"
   },
   {
    "duration": 321,
    "start_time": "2022-05-26T21:38:45.176Z"
   },
   {
    "duration": 40,
    "start_time": "2022-05-26T21:38:45.499Z"
   },
   {
    "duration": 36,
    "start_time": "2022-05-26T21:38:45.541Z"
   },
   {
    "duration": 32,
    "start_time": "2022-05-26T21:38:45.578Z"
   },
   {
    "duration": 28,
    "start_time": "2022-05-26T21:38:45.612Z"
   },
   {
    "duration": 3,
    "start_time": "2022-05-26T21:38:45.642Z"
   },
   {
    "duration": 36,
    "start_time": "2022-05-26T21:38:45.647Z"
   },
   {
    "duration": 40,
    "start_time": "2022-05-26T21:38:45.684Z"
   },
   {
    "duration": 72,
    "start_time": "2022-05-26T21:38:45.726Z"
   },
   {
    "duration": 126,
    "start_time": "2022-05-26T21:38:45.799Z"
   },
   {
    "duration": 5,
    "start_time": "2022-05-26T21:38:45.927Z"
   },
   {
    "duration": 12,
    "start_time": "2022-05-26T21:38:45.933Z"
   },
   {
    "duration": 4,
    "start_time": "2022-05-26T21:38:45.946Z"
   },
   {
    "duration": 3,
    "start_time": "2022-05-26T21:38:45.975Z"
   },
   {
    "duration": 854,
    "start_time": "2022-05-26T21:38:45.980Z"
   },
   {
    "duration": 1261,
    "start_time": "2022-05-26T21:38:46.836Z"
   },
   {
    "duration": 233,
    "start_time": "2022-05-26T21:38:48.099Z"
   },
   {
    "duration": 364,
    "start_time": "2022-05-26T21:38:48.334Z"
   },
   {
    "duration": 157,
    "start_time": "2022-05-26T21:38:48.699Z"
   },
   {
    "duration": 25,
    "start_time": "2022-05-26T21:38:48.858Z"
   },
   {
    "duration": 67,
    "start_time": "2022-05-26T21:38:48.885Z"
   },
   {
    "duration": 63,
    "start_time": "2022-05-26T21:38:48.954Z"
   },
   {
    "duration": 3,
    "start_time": "2022-05-26T21:38:49.019Z"
   },
   {
    "duration": 5,
    "start_time": "2022-05-26T21:38:49.024Z"
   },
   {
    "duration": 58,
    "start_time": "2022-05-26T21:38:49.030Z"
   },
   {
    "duration": 64,
    "start_time": "2022-05-26T21:38:49.090Z"
   },
   {
    "duration": 19,
    "start_time": "2022-05-26T21:38:49.156Z"
   },
   {
    "duration": 12,
    "start_time": "2022-05-26T21:38:49.177Z"
   },
   {
    "duration": 50,
    "start_time": "2022-05-26T21:38:49.190Z"
   },
   {
    "duration": 34,
    "start_time": "2022-05-26T21:38:49.241Z"
   },
   {
    "duration": 77,
    "start_time": "2022-05-26T21:38:49.276Z"
   },
   {
    "duration": 23,
    "start_time": "2022-05-26T21:38:49.355Z"
   },
   {
    "duration": 72,
    "start_time": "2022-05-26T21:38:49.380Z"
   },
   {
    "duration": 21,
    "start_time": "2022-05-26T21:38:49.454Z"
   },
   {
    "duration": 153,
    "start_time": "2022-05-26T21:38:49.478Z"
   },
   {
    "duration": 80,
    "start_time": "2022-05-26T21:38:49.632Z"
   },
   {
    "duration": 112,
    "start_time": "2022-05-26T21:38:49.713Z"
   },
   {
    "duration": 49,
    "start_time": "2022-05-26T21:38:49.829Z"
   },
   {
    "duration": 141,
    "start_time": "2022-05-26T21:38:49.880Z"
   },
   {
    "duration": 9,
    "start_time": "2022-05-26T21:38:50.022Z"
   },
   {
    "duration": 264,
    "start_time": "2022-05-26T21:38:50.033Z"
   },
   {
    "duration": 0,
    "start_time": "2022-05-26T21:38:50.298Z"
   },
   {
    "duration": 143,
    "start_time": "2022-05-26T21:39:43.678Z"
   },
   {
    "duration": 9,
    "start_time": "2022-05-26T21:39:45.469Z"
   },
   {
    "duration": 123,
    "start_time": "2022-05-26T21:40:41.669Z"
   },
   {
    "duration": 8,
    "start_time": "2022-05-26T21:40:43.426Z"
   },
   {
    "duration": 113,
    "start_time": "2022-05-26T21:43:33.466Z"
   },
   {
    "duration": 35,
    "start_time": "2022-05-26T21:44:03.309Z"
   },
   {
    "duration": 17,
    "start_time": "2022-05-26T21:48:27.380Z"
   },
   {
    "duration": 20,
    "start_time": "2022-05-26T21:48:33.382Z"
   },
   {
    "duration": 32,
    "start_time": "2022-05-26T21:49:01.700Z"
   },
   {
    "duration": 31,
    "start_time": "2022-05-26T21:49:18.577Z"
   },
   {
    "duration": 458,
    "start_time": "2022-05-26T21:49:49.097Z"
   },
   {
    "duration": 541,
    "start_time": "2022-05-26T21:50:25.948Z"
   },
   {
    "duration": 522,
    "start_time": "2022-05-26T21:50:49.477Z"
   },
   {
    "duration": 29,
    "start_time": "2022-05-26T21:51:00.097Z"
   },
   {
    "duration": 572,
    "start_time": "2022-05-26T21:51:30.477Z"
   },
   {
    "duration": 43,
    "start_time": "2022-05-26T21:52:23.099Z"
   },
   {
    "duration": 24,
    "start_time": "2022-05-26T21:52:39.218Z"
   },
   {
    "duration": 26,
    "start_time": "2022-05-26T21:53:01.452Z"
   },
   {
    "duration": 122,
    "start_time": "2022-05-26T21:54:15.267Z"
   },
   {
    "duration": 20,
    "start_time": "2022-05-26T21:56:24.183Z"
   },
   {
    "duration": 120,
    "start_time": "2022-05-26T21:56:45.339Z"
   },
   {
    "duration": 12,
    "start_time": "2022-05-26T21:56:48.938Z"
   },
   {
    "duration": 167,
    "start_time": "2022-05-26T21:56:54.140Z"
   },
   {
    "duration": 222,
    "start_time": "2022-05-26T21:57:34.948Z"
   },
   {
    "duration": 216,
    "start_time": "2022-05-26T21:57:57.789Z"
   },
   {
    "duration": 227,
    "start_time": "2022-05-26T21:58:30.329Z"
   },
   {
    "duration": 239,
    "start_time": "2022-05-26T21:59:23.686Z"
   },
   {
    "duration": 135,
    "start_time": "2022-05-26T21:59:30.430Z"
   },
   {
    "duration": 143,
    "start_time": "2022-05-26T21:59:31.739Z"
   },
   {
    "duration": 200,
    "start_time": "2022-05-26T21:59:50.889Z"
   },
   {
    "duration": 217,
    "start_time": "2022-05-26T22:00:01.819Z"
   },
   {
    "duration": 131,
    "start_time": "2022-05-26T22:01:59.404Z"
   },
   {
    "duration": 133,
    "start_time": "2022-05-26T22:02:13.403Z"
   },
   {
    "duration": 527,
    "start_time": "2022-05-26T22:03:55.520Z"
   },
   {
    "duration": 94,
    "start_time": "2022-05-26T22:04:08.733Z"
   },
   {
    "duration": 100,
    "start_time": "2022-05-26T22:04:16.821Z"
   },
   {
    "duration": 677,
    "start_time": "2022-05-26T22:05:42.263Z"
   },
   {
    "duration": 128,
    "start_time": "2022-05-26T22:06:01.030Z"
   },
   {
    "duration": 8,
    "start_time": "2022-05-26T22:06:03.552Z"
   },
   {
    "duration": 196,
    "start_time": "2022-05-26T22:06:05.909Z"
   },
   {
    "duration": 128,
    "start_time": "2022-05-26T22:06:16.101Z"
   },
   {
    "duration": 133,
    "start_time": "2022-05-26T22:06:29.141Z"
   },
   {
    "duration": 132,
    "start_time": "2022-05-26T22:08:41.862Z"
   },
   {
    "duration": 138,
    "start_time": "2022-05-26T22:10:19.209Z"
   },
   {
    "duration": 128,
    "start_time": "2022-05-26T22:10:31.709Z"
   },
   {
    "duration": 147,
    "start_time": "2022-05-26T22:12:09.762Z"
   },
   {
    "duration": 13,
    "start_time": "2022-05-26T22:13:01.462Z"
   },
   {
    "duration": 119,
    "start_time": "2022-05-26T22:13:09.842Z"
   },
   {
    "duration": 39,
    "start_time": "2022-05-26T22:13:11.335Z"
   },
   {
    "duration": 12,
    "start_time": "2022-05-26T22:13:12.261Z"
   },
   {
    "duration": 106,
    "start_time": "2022-05-26T22:13:37.185Z"
   },
   {
    "duration": 34,
    "start_time": "2022-05-26T22:13:38.667Z"
   },
   {
    "duration": 198,
    "start_time": "2022-05-26T22:13:39.361Z"
   },
   {
    "duration": 120,
    "start_time": "2022-05-26T22:14:49.909Z"
   },
   {
    "duration": 13,
    "start_time": "2022-05-26T22:15:29.881Z"
   },
   {
    "duration": 156,
    "start_time": "2022-05-26T22:15:38.322Z"
   },
   {
    "duration": 158,
    "start_time": "2022-05-26T22:16:54.211Z"
   },
   {
    "duration": 35,
    "start_time": "2022-05-26T22:17:31.601Z"
   },
   {
    "duration": 257,
    "start_time": "2022-05-26T22:17:32.971Z"
   },
   {
    "duration": 230,
    "start_time": "2022-05-26T22:19:04.720Z"
   },
   {
    "duration": 179,
    "start_time": "2022-05-26T22:19:55.843Z"
   },
   {
    "duration": 161,
    "start_time": "2022-05-26T22:20:08.041Z"
   },
   {
    "duration": 227,
    "start_time": "2022-05-26T22:20:17.016Z"
   },
   {
    "duration": 226,
    "start_time": "2022-05-26T22:20:30.880Z"
   },
   {
    "duration": 124,
    "start_time": "2022-05-26T22:20:38.958Z"
   },
   {
    "duration": 255,
    "start_time": "2022-05-26T22:20:40.240Z"
   },
   {
    "duration": 10,
    "start_time": "2022-05-26T22:22:43.817Z"
   },
   {
    "duration": 7,
    "start_time": "2022-05-26T22:22:54.110Z"
   },
   {
    "duration": 9,
    "start_time": "2022-05-26T22:34:41.719Z"
   },
   {
    "duration": 296,
    "start_time": "2022-05-26T22:34:56.848Z"
   },
   {
    "duration": 10,
    "start_time": "2022-05-26T22:35:00.399Z"
   },
   {
    "duration": 1112,
    "start_time": "2022-05-26T22:59:29.876Z"
   },
   {
    "duration": 246,
    "start_time": "2022-05-26T22:59:30.989Z"
   },
   {
    "duration": 4,
    "start_time": "2022-05-26T22:59:31.237Z"
   },
   {
    "duration": 275,
    "start_time": "2022-05-26T22:59:31.243Z"
   },
   {
    "duration": 37,
    "start_time": "2022-05-26T22:59:31.520Z"
   },
   {
    "duration": 25,
    "start_time": "2022-05-26T22:59:31.559Z"
   },
   {
    "duration": 28,
    "start_time": "2022-05-26T22:59:31.585Z"
   },
   {
    "duration": 27,
    "start_time": "2022-05-26T22:59:31.614Z"
   },
   {
    "duration": 3,
    "start_time": "2022-05-26T22:59:31.642Z"
   },
   {
    "duration": 9,
    "start_time": "2022-05-26T22:59:31.675Z"
   },
   {
    "duration": 35,
    "start_time": "2022-05-26T22:59:31.686Z"
   },
   {
    "duration": 73,
    "start_time": "2022-05-26T22:59:31.723Z"
   },
   {
    "duration": 132,
    "start_time": "2022-05-26T22:59:31.798Z"
   },
   {
    "duration": 5,
    "start_time": "2022-05-26T22:59:31.933Z"
   },
   {
    "duration": 10,
    "start_time": "2022-05-26T22:59:31.939Z"
   },
   {
    "duration": 4,
    "start_time": "2022-05-26T22:59:31.950Z"
   },
   {
    "duration": 4,
    "start_time": "2022-05-26T22:59:31.974Z"
   },
   {
    "duration": 827,
    "start_time": "2022-05-26T22:59:31.979Z"
   },
   {
    "duration": 1219,
    "start_time": "2022-05-26T22:59:32.808Z"
   },
   {
    "duration": 223,
    "start_time": "2022-05-26T22:59:34.029Z"
   },
   {
    "duration": 354,
    "start_time": "2022-05-26T22:59:34.254Z"
   },
   {
    "duration": 147,
    "start_time": "2022-05-26T22:59:34.610Z"
   },
   {
    "duration": 23,
    "start_time": "2022-05-26T22:59:34.759Z"
   },
   {
    "duration": 73,
    "start_time": "2022-05-26T22:59:34.784Z"
   },
   {
    "duration": 67,
    "start_time": "2022-05-26T22:59:34.858Z"
   },
   {
    "duration": 3,
    "start_time": "2022-05-26T22:59:34.927Z"
   },
   {
    "duration": 5,
    "start_time": "2022-05-26T22:59:34.932Z"
   },
   {
    "duration": 57,
    "start_time": "2022-05-26T22:59:34.938Z"
   },
   {
    "duration": 63,
    "start_time": "2022-05-26T22:59:34.996Z"
   },
   {
    "duration": 15,
    "start_time": "2022-05-26T22:59:35.061Z"
   },
   {
    "duration": 22,
    "start_time": "2022-05-26T22:59:35.078Z"
   },
   {
    "duration": 47,
    "start_time": "2022-05-26T22:59:35.102Z"
   },
   {
    "duration": 10,
    "start_time": "2022-05-26T22:59:35.150Z"
   },
   {
    "duration": 61,
    "start_time": "2022-05-26T22:59:35.162Z"
   },
   {
    "duration": 17,
    "start_time": "2022-05-26T22:59:35.225Z"
   },
   {
    "duration": 80,
    "start_time": "2022-05-26T22:59:35.243Z"
   },
   {
    "duration": 5,
    "start_time": "2022-05-26T22:59:35.324Z"
   },
   {
    "duration": 141,
    "start_time": "2022-05-26T22:59:35.330Z"
   },
   {
    "duration": 69,
    "start_time": "2022-05-26T22:59:35.475Z"
   },
   {
    "duration": 117,
    "start_time": "2022-05-26T22:59:35.546Z"
   },
   {
    "duration": 165,
    "start_time": "2022-05-26T22:59:35.666Z"
   },
   {
    "duration": 34,
    "start_time": "2022-05-26T22:59:35.832Z"
   },
   {
    "duration": 166,
    "start_time": "2022-05-26T22:59:35.867Z"
   },
   {
    "duration": 123,
    "start_time": "2022-05-26T22:59:36.034Z"
   },
   {
    "duration": 7,
    "start_time": "2022-05-26T22:59:36.159Z"
   },
   {
    "duration": 257,
    "start_time": "2022-05-26T22:59:36.167Z"
   },
   {
    "duration": 135,
    "start_time": "2022-05-26T22:59:36.425Z"
   },
   {
    "duration": 15,
    "start_time": "2022-05-26T22:59:36.562Z"
   },
   {
    "duration": 249,
    "start_time": "2022-05-26T22:59:36.579Z"
   },
   {
    "duration": 4,
    "start_time": "2022-05-26T23:01:12.405Z"
   },
   {
    "duration": 5,
    "start_time": "2022-05-26T23:01:27.197Z"
   },
   {
    "duration": 231,
    "start_time": "2022-05-26T23:06:51.167Z"
   },
   {
    "duration": 315,
    "start_time": "2022-05-26T23:07:05.205Z"
   },
   {
    "duration": 406,
    "start_time": "2022-05-26T23:07:26.957Z"
   },
   {
    "duration": 638,
    "start_time": "2022-05-26T23:07:35.937Z"
   },
   {
    "duration": 254,
    "start_time": "2022-05-26T23:08:09.327Z"
   },
   {
    "duration": 343,
    "start_time": "2022-05-26T23:11:35.847Z"
   },
   {
    "duration": 32,
    "start_time": "2022-05-26T23:12:13.940Z"
   },
   {
    "duration": 9,
    "start_time": "2022-05-26T23:13:13.399Z"
   },
   {
    "duration": 116,
    "start_time": "2022-05-26T23:13:25.997Z"
   },
   {
    "duration": 7,
    "start_time": "2022-05-26T23:13:27.377Z"
   },
   {
    "duration": 17,
    "start_time": "2022-05-26T23:13:30.227Z"
   },
   {
    "duration": 476,
    "start_time": "2022-05-26T23:13:54.268Z"
   },
   {
    "duration": 82,
    "start_time": "2022-05-26T23:14:06.477Z"
   },
   {
    "duration": 83,
    "start_time": "2022-05-26T23:14:15.848Z"
   },
   {
    "duration": 189,
    "start_time": "2022-05-26T23:14:30.199Z"
   },
   {
    "duration": 9,
    "start_time": "2022-05-26T23:14:48.885Z"
   },
   {
    "duration": 253,
    "start_time": "2022-05-26T23:15:17.187Z"
   },
   {
    "duration": 353,
    "start_time": "2022-05-26T23:16:13.341Z"
   },
   {
    "duration": 20,
    "start_time": "2022-05-26T23:22:09.600Z"
   },
   {
    "duration": 8,
    "start_time": "2022-05-26T23:22:21.957Z"
   },
   {
    "duration": 8,
    "start_time": "2022-05-26T23:22:30.071Z"
   },
   {
    "duration": 7,
    "start_time": "2022-05-26T23:23:02.927Z"
   },
   {
    "duration": 243,
    "start_time": "2022-05-26T23:28:42.325Z"
   },
   {
    "duration": 245,
    "start_time": "2022-05-26T23:29:47.648Z"
   },
   {
    "duration": 122,
    "start_time": "2022-05-26T23:31:31.926Z"
   },
   {
    "duration": 219,
    "start_time": "2022-05-26T23:31:34.807Z"
   },
   {
    "duration": 167,
    "start_time": "2022-05-26T23:58:23.033Z"
   },
   {
    "duration": 163,
    "start_time": "2022-05-26T23:58:34.703Z"
   },
   {
    "duration": 174,
    "start_time": "2022-05-26T23:58:52.914Z"
   },
   {
    "duration": 134,
    "start_time": "2022-05-26T23:59:42.627Z"
   },
   {
    "duration": 1072,
    "start_time": "2022-05-27T00:26:44.877Z"
   },
   {
    "duration": 239,
    "start_time": "2022-05-27T00:26:45.951Z"
   },
   {
    "duration": 4,
    "start_time": "2022-05-27T00:26:46.192Z"
   },
   {
    "duration": 282,
    "start_time": "2022-05-27T00:26:46.198Z"
   },
   {
    "duration": 40,
    "start_time": "2022-05-27T00:26:46.482Z"
   },
   {
    "duration": 20,
    "start_time": "2022-05-27T00:26:46.523Z"
   },
   {
    "duration": 43,
    "start_time": "2022-05-27T00:26:46.544Z"
   },
   {
    "duration": 25,
    "start_time": "2022-05-27T00:26:46.588Z"
   },
   {
    "duration": 8,
    "start_time": "2022-05-27T00:26:46.614Z"
   },
   {
    "duration": 19,
    "start_time": "2022-05-27T00:26:46.623Z"
   },
   {
    "duration": 56,
    "start_time": "2022-05-27T00:26:46.644Z"
   },
   {
    "duration": 77,
    "start_time": "2022-05-27T00:26:46.701Z"
   },
   {
    "duration": 122,
    "start_time": "2022-05-27T00:26:46.780Z"
   },
   {
    "duration": 5,
    "start_time": "2022-05-27T00:26:46.905Z"
   },
   {
    "duration": 11,
    "start_time": "2022-05-27T00:26:46.911Z"
   },
   {
    "duration": 4,
    "start_time": "2022-05-27T00:26:46.923Z"
   },
   {
    "duration": 3,
    "start_time": "2022-05-27T00:26:46.929Z"
   },
   {
    "duration": 803,
    "start_time": "2022-05-27T00:26:46.934Z"
   },
   {
    "duration": 1230,
    "start_time": "2022-05-27T00:26:47.738Z"
   },
   {
    "duration": 235,
    "start_time": "2022-05-27T00:26:48.969Z"
   },
   {
    "duration": 350,
    "start_time": "2022-05-27T00:26:49.205Z"
   },
   {
    "duration": 150,
    "start_time": "2022-05-27T00:26:49.557Z"
   },
   {
    "duration": 17,
    "start_time": "2022-05-27T00:26:49.708Z"
   },
   {
    "duration": 84,
    "start_time": "2022-05-27T00:26:49.727Z"
   },
   {
    "duration": 67,
    "start_time": "2022-05-27T00:26:49.813Z"
   },
   {
    "duration": 3,
    "start_time": "2022-05-27T00:26:49.882Z"
   },
   {
    "duration": 5,
    "start_time": "2022-05-27T00:26:49.887Z"
   },
   {
    "duration": 42,
    "start_time": "2022-05-27T00:26:49.893Z"
   },
   {
    "duration": 81,
    "start_time": "2022-05-27T00:26:49.937Z"
   },
   {
    "duration": 8,
    "start_time": "2022-05-27T00:26:50.019Z"
   },
   {
    "duration": 15,
    "start_time": "2022-05-27T00:26:50.029Z"
   },
   {
    "duration": 58,
    "start_time": "2022-05-27T00:26:50.045Z"
   },
   {
    "duration": 11,
    "start_time": "2022-05-27T00:26:50.104Z"
   },
   {
    "duration": 62,
    "start_time": "2022-05-27T00:26:50.116Z"
   },
   {
    "duration": 16,
    "start_time": "2022-05-27T00:26:50.179Z"
   },
   {
    "duration": 60,
    "start_time": "2022-05-27T00:26:50.196Z"
   },
   {
    "duration": 19,
    "start_time": "2022-05-27T00:26:50.257Z"
   },
   {
    "duration": 138,
    "start_time": "2022-05-27T00:26:50.277Z"
   },
   {
    "duration": 77,
    "start_time": "2022-05-27T00:26:50.416Z"
   },
   {
    "duration": 115,
    "start_time": "2022-05-27T00:26:50.494Z"
   },
   {
    "duration": 162,
    "start_time": "2022-05-27T00:26:50.613Z"
   },
   {
    "duration": 33,
    "start_time": "2022-05-27T00:26:50.776Z"
   },
   {
    "duration": 170,
    "start_time": "2022-05-27T00:26:50.811Z"
   },
   {
    "duration": 126,
    "start_time": "2022-05-27T00:26:50.983Z"
   },
   {
    "duration": 9,
    "start_time": "2022-05-27T00:26:51.110Z"
   },
   {
    "duration": 255,
    "start_time": "2022-05-27T00:26:51.121Z"
   },
   {
    "duration": 131,
    "start_time": "2022-05-27T00:26:51.378Z"
   },
   {
    "duration": 8,
    "start_time": "2022-05-27T00:26:51.510Z"
   },
   {
    "duration": 231,
    "start_time": "2022-05-27T00:26:51.520Z"
   }
  ],
  "kernelspec": {
   "display_name": "Python 3 (ipykernel)",
   "language": "python",
   "name": "python3"
  },
  "language_info": {
   "codemirror_mode": {
    "name": "ipython",
    "version": 3
   },
   "file_extension": ".py",
   "mimetype": "text/x-python",
   "name": "python",
   "nbconvert_exporter": "python",
   "pygments_lexer": "ipython3",
   "version": "3.9.7"
  },
  "toc": {
   "base_numbering": 1,
   "nav_menu": {},
   "number_sections": true,
   "sideBar": true,
   "skip_h1_title": true,
   "title_cell": "Table of Contents",
   "title_sidebar": "Contents",
   "toc_cell": false,
   "toc_position": {
    "height": "calc(100% - 180px)",
    "left": "10px",
    "top": "150px",
    "width": "302.4px"
   },
   "toc_section_display": true,
   "toc_window_display": true
  }
 },
 "nbformat": 4,
 "nbformat_minor": 2
}
